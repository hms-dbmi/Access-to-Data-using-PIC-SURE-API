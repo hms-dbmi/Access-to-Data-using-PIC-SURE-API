{
 "cells": [
  {
   "cell_type": "markdown",
   "metadata": {},
   "source": [
    "# Set up your token"
   ]
  },
  {
   "cell_type": "markdown",
   "metadata": {},
   "source": [
    "PIC-SURE API authenticates users through a **user-specific security token**. To be able to access and query data through the PIC-SURE API, a user must provide their security token.\n",
    "\n",
    "Follow the steps described below to get your personal security token. **This security token is strictly personal, be careful not to share it with anyone**\n",
    "\n",
    "1. In a web browser, open the BioData Catalyst login page: https://picsure.biodatacatalyst.nhlbi.nih.gov/, and click on the 'eRA Commons' button to log in\n",
    "2. Click the \"User Profile\" tab\n",
    "3. On the pop-up window, click the \"COPY\" button\n",
    "4. Paste your token into this notebook in place of `enter_your_token`\n",
    "\n",
    "This cell will create a file called `token.txt` containing the security token. This text file is not saved between Terra runtime sessions and it will need to be recreated each time a new Terra session is launched.\n",
    "\n",
    "For more information about user-specific security tokens, please review the \"Get your security token\" section of the [README.md](https://github.com/hms-dbmi/Access-to-Data-using-PIC-SURE-API/tree/master/NHLBI_BioData_Catalyst#readme) Access to Data Using PIC-SURE API GitHub repository. "
   ]
  },
  {
   "cell_type": "code",
   "execution_count": null,
   "metadata": {},
   "outputs": [],
   "source": [
    "my_token = \"enter_your_token\""
   ]
  },
  {
   "cell_type": "code",
   "execution_count": null,
   "metadata": {},
   "outputs": [],
   "source": [
    "f = open(\"token.txt\", 'w')\n",
    "f.writelines(my_token)\n",
    "f.close()"
   ]
  }
 ],
 "metadata": {
  "kernelspec": {
   "display_name": "Python 3 (ipykernel)",
   "language": "python",
   "name": "python3"
  },
  "language_info": {
   "codemirror_mode": {
    "name": "ipython",
    "version": 3
   },
   "file_extension": ".py",
   "mimetype": "text/x-python",
   "name": "python",
   "nbconvert_exporter": "python",
   "pygments_lexer": "ipython3",
   "version": "3.9.6"
  },
  "toc": {
   "base_numbering": 1,
   "nav_menu": {},
   "number_sections": true,
   "sideBar": true,
   "skip_h1_title": false,
   "title_cell": "Table of Contents",
   "title_sidebar": "Contents",
   "toc_cell": false,
   "toc_position": {},
   "toc_section_display": true,
   "toc_window_display": false
  }
 },
 "nbformat": 4,
 "nbformat_minor": 4
}
