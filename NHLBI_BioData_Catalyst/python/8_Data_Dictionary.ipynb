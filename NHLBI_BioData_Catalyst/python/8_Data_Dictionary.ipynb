{
 "cells": [
  {
   "cell_type": "markdown",
   "id": "9cd860c3-27ed-4dc0-9420-b34b662d0bdf",
   "metadata": {},
   "source": [
    "# Retrieve Data Dictionary From PIC-SURE API\n",
    "\n",
    "This is a notebook to demonstrate functionality of the PIC-SURE API to export the data dictionaries of studies available in BDC.\n",
    "\n",
    "**Note: You can only retrieve the data dictionaries from studies you are authorized to access.**"
   ]
  },
  {
   "cell_type": "markdown",
   "id": "dc87fb4e-ac67-46b4-808a-94c6909ff96d",
   "metadata": {},
   "source": [
    "## Getting your user-specific security token"
   ]
  },
  {
   "cell_type": "markdown",
   "id": "e106ed29-c2ec-4113-972c-fdeacfc6213e",
   "metadata": {},
   "source": [
    "**Before running this notebook, please be sure to review the \"Get your security token\" documentation, which exists in the [`README.md` file](../README.md). It explains how to get a security token, which is mandatory to use the PIC-SURE API.**\n",
    "\n",
    "To set up your token file, be sure to run the [`Workspace_setup.ipynb` file](./Workspace_setup.ipynb)."
   ]
  },
  {
   "cell_type": "markdown",
   "id": "c59f625e-a92a-424e-ad63-76b7aa4c8102",
   "metadata": {},
   "source": [
    "## Environment set-up\n",
    "\n",
    "### Pre-requisites\n",
    "* python 3.6 or later\n",
    "* pip python package manager, already available in most systems with a python interpreter installed (link to pip)\n",
    "\n",
    "### Install packages\n",
    "The first step to using the PIC-SURE API is to install the packages needed. The following code installs the PIC-SURE API components from GitHub, specifically:\n",
    "* PIC-SURE Client\n",
    "* PIC-SURE Adapter\n",
    "* *BDC-PIC-SURE* Adapter\n",
    "\n",
    "**Note that if you are using the dedicated PIC-SURE environment within the *BDC Powered by Seven Bridges* platform, the necessary packages have already been installed.**"
   ]
  },
  {
   "cell_type": "code",
   "execution_count": null,
   "id": "a2663cdc-e9a0-4a75-b3a6-6f476dddd7bb",
   "metadata": {},
   "outputs": [],
   "source": [
    "import sys\n",
    "import pandas as pd\n",
    "import matplotlib.pyplot as plt\n",
    "# BDC Powered by Terra users uncomment the following line to specify package install location\n",
    "# sys.path.insert(0, r\"/home/jupyter/.local/lib/python3.7/site-packages\")"
   ]
  },
  {
   "cell_type": "code",
   "execution_count": null,
   "id": "82aa7bde-d4b3-43c7-b1fb-d7cb003828d7",
   "metadata": {},
   "outputs": [],
   "source": [
    "!{sys.executable} -m pip install --upgrade --force-reinstall git+https://github.com/hms-dbmi/pic-sure-python-client.git\n",
    "!{sys.executable} -m pip install --upgrade --force-reinstall git+https://github.com/hms-dbmi/pic-sure-python-adapter-hpds.git\n",
    "!{sys.executable} -m pip install --upgrade --force-reinstall git+https://github.com/hms-dbmi/pic-sure-biodatacatalyst-python-adapter-hpds.git"
   ]
  },
  {
   "cell_type": "code",
   "execution_count": null,
   "id": "64096a8b-24d1-4550-bae5-accdf9ccab4c",
   "metadata": {},
   "outputs": [],
   "source": [
    "import PicSureClient\n",
    "import PicSureBdcAdapter"
   ]
  },
  {
   "cell_type": "markdown",
   "id": "83d3225c-b826-4bbb-babc-612ca70466db",
   "metadata": {},
   "source": [
    "## Connecting to a PIC-SURE resource\n",
    "\n",
    "The following is required to get access to the PIC-SURE API:\n",
    "* a network URL\n",
    "* a user-specific security token, which tells the PIC-SURE API which studies you are authorized to access\n",
    "\n",
    "The following code specifies the network URL as the *BDC Powered by PIC-SURE* URL and references the user-specific token saved as `token.txt`.\n",
    "\n",
    "If you have not already retrieved your user-specific token, please refer to the \"Get your security token\" section of the `README.md` file and the `Workspace_setup.ipynb` file."
   ]
  },
  {
   "cell_type": "code",
   "execution_count": null,
   "id": "004dc862-f075-46bd-a795-7a63ca9197a1",
   "metadata": {},
   "outputs": [],
   "source": [
    "PICSURE_network_URL = \"https://picsure.biodatacatalyst.nhlbi.nih.gov/picsure\"\n",
    "token_file = \"token.txt\"\n",
    "\n",
    "with open(token_file, \"r\") as f:\n",
    "    my_token = f.read()\n",
    "    \n",
    "bdc = PicSureBdcAdapter.Adapter(PICSURE_network_URL, my_token)"
   ]
  },
  {
   "cell_type": "markdown",
   "id": "ac4c88fe-482c-41a8-b9be-e61e682fc46f",
   "metadata": {},
   "source": [
    "# Getting the Data Dictionary\n",
    "\n",
    "The `dictionary` resource can be used to retrieve the data dictionary for a single or all studies in BDC-PIC-SURE. Note that you are only able to retrieve the data dictionaries for studies you are authorized to access. This output can then be saved as a python pandas dataframe."
   ]
  },
  {
   "cell_type": "markdown",
   "id": "5c3e155c-1b39-4d5f-9899-43d51ac192b0",
   "metadata": {},
   "source": [
    "## Data dictionary for all studies you are authorized to access\n",
    "To get all studies you are authorized to access, a `blank` search can be done. "
   ]
  },
  {
   "cell_type": "code",
   "execution_count": null,
   "id": "659dae1c-8f34-42a1-b39e-821ca4007238",
   "metadata": {},
   "outputs": [],
   "source": [
    "dictionary = bdc.useDictionary().dictionary() # Set up the dictionary\n",
    "all_vars = dictionary.find(\"\") # Perform a blank search\n",
    "all_variables = all_vars.dataframe() # Retrieve all variables you have access to as a dataframe"
   ]
  },
  {
   "cell_type": "code",
   "execution_count": null,
   "id": "de88d6c8-4f9a-4994-bb23-b829bbf2cd5c",
   "metadata": {},
   "outputs": [],
   "source": [
    "all_variables.head()"
   ]
  },
  {
   "cell_type": "markdown",
   "id": "1b80accd-d25f-46d7-8ef7-898b536ff8a0",
   "metadata": {},
   "source": [
    "## Descriptions of Fields\n",
    "As you can see, there are several columns returned in the data dictionary.\n",
    "\n",
    "Note that there are several types of studies in PIC-SURE:\n",
    "1. **dbGaP format compliant** - ingested by dbGap in the dbGap recommended format (https://www.ncbi.nlm.nih.gov/gap/docs/submissionguide/)\n",
    "2. **dbGaP ingested, but not format compliant**\n",
    "3. **Not ingested by dbGaP** - are not format-compliant and do not have a study accession number (or phs number)\n",
    "\n",
    "### PIC-SURE Data Dictionary Fields\n",
    "\n",
    "* **values**: An array of all unique values included for the variable.\n",
    "* **studyId**: ID associated with a study. For dbGaP-assosciated studies this is in the format phsxxxxxx. Non-dbGaP studies can be in other formats. The field is consistent with the DBGAP ACCESSION NUMBER in BDC Powered by Gen3.\n",
    "* **dtId**: ID associated with the table the variable is stored in within the study. For studies in dbGaP format, this is provided as “phtXXXXXXX”. Non-compliant studies can instead be names of the table or form, listed as \"All Variables\" if the variables were not grouped in a table or form.\n",
    "* **varId**: ID associated with the variable. For studies in dbGaP format, this is provided as “phvXXXXXXXX”. Non-compliant studies instead have a short text ID provided that can be a duplicate of the columnmeta_name field.\n",
    "* **is_categorical**: boolean True/False values that describe whether a variable is filtered in PIC-SURE as a set of discrete values (categorical).\n",
    "* **is_continuous**: boolean True/False values that describe whether a variable is filtered in PIC-SURE as a numerical range (continuous).\n",
    "* **columnmeta_is_stigmatized**: boolean True/False value that determines whether a variable is shown in Open PIC-SURE. A value of True means that the variable is not shown in Open PIC-SURE. For further information about stigmatizing variables, please refer to this documentation: https://github.com/hms-dbmi/biodata_catalyst_stigmatizing_variables/tree/main\n",
    "* **columnmeta_name**: A short text ID associated with a variable. These are often not human-readable as they are mostly derived from the column names in datasets. For non-compliant studies, this can be a duplicate of the varID field.\n",
    "* **description**: A text field with a human-readable description of the variable. When not provided by the study submitters, this field will be a duplicate of the columnmeta_name field.\n",
    "* **HPDS_PATH**: The concept path used to uniquely identify a variable when exported to users. For more information about concept paths and data organization, please refer to the Data Organization in BDC-PIC-SURE page. \n",
    "* **derived_group_id**: The table ID and version number, when applicable.\n",
    "* **columnmeta_var_group_description**: If provided by the study submitters, this field contains a long text description of variable groupings. Variables are not always grouped together in studies.\n",
    "* **derived_variable_level_data**: An array of additional information that is study- and variable-specific. An example would be units of measurement. This is only available for some of the studies.\n",
    "* **data_hierarchy**: A text field displaying a human-readable path that is used in the PIC-SURE user interface. This is only available for some of the studies.\n",
    "* **columnmeta_data_type**: Text field containing \"categorical\" or \"continuous\", based on the is_categorical and is_continuous fields.\n",
    "* **derived_var_id**: Variable ID with version number, when applicable.\n",
    "* **derived_study_abv_name**: Short text abbreviation used to refer to a study and shown in the PIC-SURE user interface.\n",
    "* **derived_study_description**: Description of the study, consistent with the “Full Name” field i BDC Powered by Gen3.\n",
    "* **columnmeta_min**: Field generated internally for use in the PIC-SURE user interface elements for specific studies. Describes the minimum associated with continuous variables. \n",
    "* **columneta_max**: Fields generated internally for use in the PIC-SURE user interface elements for specific studies. Describes the maximum associated with continuous variables.\n",
    "* **hashed_var_id**: Hashed variable ID for internal use.\n",
    "\n",
    "\n",
    "The following are fields that are duplicated data:\n",
    "* **columnmeta_hpds_path**: duplicate of HPDS_PATH\n",
    "* **columnmeta_var_id**: duplicate of varId\n",
    "* **derived_var_description**: duplicate of description\n",
    "* **derived_group_description**: duplicate of columnmeta_var_group_description\n",
    "* **columnmeta_description**: duplicate of description\n",
    "* **derived_study_id**: duplicate of studyId\n",
    "* **columnmeta_study_id**: duplicate of studyId\n",
    "* **is_stigmatized**: duplicate of columnmeta_is_stigmatized\n",
    "* **derived_var_name**: duplicate of columnmeta_name\n",
    "* **columnmeta_var_group_id:** duplicate of dtId\n",
    "* **columnmeta_HPDS_PATH**: duplicate of HPDS_PATH\n",
    "* **min, max**: duplicates of columnmeta_min, columneta_max"
   ]
  },
  {
   "cell_type": "markdown",
   "id": "89f8483c-4cee-4026-8ae0-ca1e3b7697b2",
   "metadata": {},
   "source": [
    "## Data Dictionary for one study\n",
    "To get all studies you are authorized to access, a search for the study accession number, or the phs number, can be done. "
   ]
  },
  {
   "cell_type": "code",
   "execution_count": null,
   "id": "e13e0ff1-b12f-43ff-8f0a-6df2908d9342",
   "metadata": {},
   "outputs": [],
   "source": [
    "# See which phs numbers you are authorized to access\n",
    "phs_number = all_variables.studyId[0] # Save the first phs number from the above output"
   ]
  },
  {
   "cell_type": "code",
   "execution_count": null,
   "id": "3562a358-eff0-490e-af6c-d229f2a67333",
   "metadata": {},
   "outputs": [],
   "source": [
    "study_vars = dictionary.find(phs_number) # Perform a blank search\n",
    "study_variables = study_vars.dataframe() # Retrieve all variables you have access to as a dataframe"
   ]
  },
  {
   "cell_type": "code",
   "execution_count": null,
   "id": "4fbf6d7f-504f-47fd-8127-380050b6f3d5",
   "metadata": {},
   "outputs": [],
   "source": [
    "study_variables.head()"
   ]
  },
  {
   "cell_type": "markdown",
   "id": "fd5a9d6a-215e-46d1-b817-c6565d97173c",
   "metadata": {},
   "source": [
    "## Data Dictionary for a search term\n",
    "Data dictionary entries for a specific search term can also be retrieved by searching for a phenotype of interest. "
   ]
  },
  {
   "cell_type": "code",
   "execution_count": null,
   "id": "d91044b6-4785-4beb-9a30-2e6ff020f228",
   "metadata": {},
   "outputs": [],
   "source": []
  }
 ],
 "metadata": {
  "kernelspec": {
   "display_name": "Python 3 (ipykernel)",
   "language": "python",
   "name": "python3"
  },
  "language_info": {
   "codemirror_mode": {
    "name": "ipython",
    "version": 3
   },
   "file_extension": ".py",
   "mimetype": "text/x-python",
   "name": "python",
   "nbconvert_exporter": "python",
   "pygments_lexer": "ipython3",
   "version": "3.10.5"
  }
 },
 "nbformat": 4,
 "nbformat_minor": 5
}
