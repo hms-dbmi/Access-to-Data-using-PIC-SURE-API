{
 "cells": [
  {
   "cell_type": "markdown",
   "metadata": {},
   "source": [
    "# Accessing *NHLBI BioData Catalyst® (BDC)* Harmonized variables using python PIC-SURE API"
   ]
  },
  {
   "cell_type": "markdown",
   "metadata": {},
   "source": [
    "This tutorial notebook will demonstrate how to query and work with the *BDC* cross-studies harmonized variables using python PIC-SURE API. For a more step-by-step introduction to the python PIC-SURE API, see the `1_PICSURE_API_101.ipynb` notebook."
   ]
  },
  {
   "cell_type": "markdown",
   "metadata": {},
   "source": [
    "**Before running this notebook, please be sure to review the \"Get your security token\" documentation, which exists in the [`README.md` file](../README.md). It explains how to get a security token, which is mandatory to use the PIC-SURE API.**\n",
    "\n",
    "To set up your token file, be sure to run the [`Workspace_setup.ipynb` file](./Workspace_setup.ipynb)."
   ]
  },
  {
   "cell_type": "markdown",
   "metadata": {},
   "source": [
    " -------   "
   ]
  },
  {
   "cell_type": "markdown",
   "metadata": {},
   "source": [
    "# Environment set-up"
   ]
  },
  {
   "cell_type": "markdown",
   "metadata": {},
   "source": [
    "## System Requirements\n",
    "- Python 3.6 or later\n",
    "- pip python package manager, already available in most systems with a python interpreter installed\n",
    "\n",
    "## Install Packages\n",
    "\n",
    "**Note that if you are using the dedicated PIC-SURE environment within the *BDC Powered by Seven Bridges* platform, the necessary packages have already been installed.**"
   ]
  },
  {
   "cell_type": "code",
   "execution_count": null,
   "metadata": {},
   "outputs": [],
   "source": [
    "import sys\n",
    "import pandas as pd\n",
    "import matplotlib.pyplot as plt\n",
    "# BDC Powered by Terra users uncomment the following line to specify package install location\n",
    "# sys.path.insert(0, r\"/home/jupyter/.local/lib/python3.7/site-packages\")"
   ]
  },
  {
   "cell_type": "code",
   "execution_count": null,
   "metadata": {},
   "outputs": [],
   "source": [
    "!{sys.executable} -m pip install --upgrade --force-reinstall git+https://github.com/hms-dbmi/pic-sure-python-client.git\n",
    "!{sys.executable} -m pip install --upgrade --force-reinstall git+https://github.com/hms-dbmi/pic-sure-python-adapter-hpds.git\n",
    "!{sys.executable} -m pip install --upgrade --force-reinstall git+https://github.com/hms-dbmi/pic-sure-biodatacatalyst-python-adapter-hpds.git"
   ]
  },
  {
   "cell_type": "code",
   "execution_count": null,
   "metadata": {},
   "outputs": [],
   "source": [
    "import PicSureClient\n",
    "import PicSureBdcAdapter"
   ]
  },
  {
   "cell_type": "markdown",
   "metadata": {},
   "source": [
    "## Connecting to a PIC-SURE network"
   ]
  },
  {
   "cell_type": "code",
   "execution_count": null,
   "metadata": {
    "pycharm": {
     "is_executing": false
    }
   },
   "outputs": [],
   "source": [
    "PICSURE_network_URL = \"https://picsure.biodatacatalyst.nhlbi.nih.gov/picsure\"\n",
    "token_file = \"token.txt\"\n",
    "\n",
    "with open(token_file, \"r\") as f:\n",
    "    my_token = f.read()\n",
    "    \n",
    "bdc = PicSureBdcAdapter.Adapter(PICSURE_network_URL, my_token)"
   ]
  },
  {
   "cell_type": "markdown",
   "metadata": {},
   "source": [
    "## About Harmonized Variables"
   ]
  },
  {
   "cell_type": "markdown",
   "metadata": {},
   "source": [
    "The data harmonization effort aims to produce \"a high quality, lasting resource of publicly available and thoroughly documented harmonized phenotype variables\". The TOPMed Data Coordinating Center collaborates with Working Group members and phenotype experts on this endeavor. So far, 44 harmonized variables are accessible through PIC-SURE API (in addition to the age at which each variable value as been collected for a given subject).\n",
    "\n",
    "The following phenotypes are included as harmonized variables:\n",
    "\n",
    "- Key NHLBI phenotypes    \n",
    "    - Blood cell counts\n",
    "    - VTE\n",
    "    - Atherosclerosis-related phenotypes\n",
    "    - Lipids\n",
    "    - Blood pressure\n",
    "\n",
    "\n",
    "- Common covariates\n",
    "    - Height\n",
    "    - Weight\n",
    "    - BMI\n",
    "    - Smoking status\n",
    "    - Race/ethnicity\n",
    "\n",
    "More information about the variable harmonization process is available at https://www.nhlbiwgs.org/sites/default/files/pheno_harmonization_guidelines.pdf"
   ]
  },
  {
   "cell_type": "markdown",
   "metadata": {},
   "source": [
    "# Working with the DCC Harmonized Variables in PIC-SURE"
   ]
  },
  {
   "cell_type": "markdown",
   "metadata": {},
   "source": [
    "## 1. Identifying harmonized variables of interest"
   ]
  },
  {
   "cell_type": "markdown",
   "metadata": {},
   "source": [
    "First, let's explore what harmonized variables are available in PIC-SURE by searching for the keyword `harmonized`."
   ]
  },
  {
   "cell_type": "code",
   "execution_count": null,
   "metadata": {
    "pycharm": {
     "is_executing": false
    }
   },
   "outputs": [],
   "source": [
    "harmonized_dictionary = bdc.useDictionary().dictionary().find('harmonized')\n",
    "harmonized_dataframe = harmonized_dictionary.dataframe()\n",
    "print(harmonized_dataframe.shape)\n",
    "harmonized_dataframe.head()"
   ]
  },
  {
   "cell_type": "markdown",
   "metadata": {},
   "source": [
    "We can see that these variables are all part of the unique study ID pertaining to the DCC Harmonized dataset."
   ]
  },
  {
   "cell_type": "code",
   "execution_count": null,
   "metadata": {},
   "outputs": [],
   "source": [
    "harmonized_dataframe.studyId.unique()"
   ]
  },
  {
   "cell_type": "markdown",
   "metadata": {},
   "source": [
    "We can also see that although there are only 44 DCC Harmonized variables, we have found 125 'harmonized' variables in PIC-SURE. This is because our variable results include subject IDs and 'metadata variables' which contain information about the age of the subject when a certain measure was taken, or the units of a variables. Let's exclude these."
   ]
  },
  {
   "cell_type": "code",
   "execution_count": null,
   "metadata": {},
   "outputs": [],
   "source": [
    "# Discarding \"subject ID\",\n",
    "# the variables which only indicate age of the subject at which a given harmonized variable was been measured,\n",
    "# and variables which indicate the units of a given harmonized variable\n",
    "vars_to_remove = harmonized_dataframe.columnmeta_name.str.contains(\"age_at|SUBJECT_ID|unit_\")\n",
    "\n",
    "harmonized_dataframe = harmonized_dataframe[-vars_to_remove]\n",
    "\n",
    "print(harmonized_dataframe.shape)\n",
    "harmonized_dataframe.head()"
   ]
  },
  {
   "cell_type": "code",
   "execution_count": null,
   "metadata": {},
   "outputs": [],
   "source": [
    "harmonized_dataframe.columns"
   ]
  },
  {
   "cell_type": "code",
   "execution_count": null,
   "metadata": {
    "scrolled": true,
    "tags": []
   },
   "outputs": [],
   "source": [
    "harmonized_dataframe[['varId', 'description', 'HPDS_PATH', 'columnmeta_hpds_path']]"
   ]
  },
  {
   "cell_type": "markdown",
   "metadata": {},
   "source": [
    "We can now see our 44 harmonized variables. This is in line with the [DCC Harmonized Variables documentation](https://github.com/UW-GAC/topmed-dcc-harmonized-phenotypes). "
   ]
  },
  {
   "cell_type": "markdown",
   "metadata": {},
   "source": [
    "## 2. Selecting variables and retrieving data from the database"
   ]
  },
  {
   "cell_type": "markdown",
   "metadata": {},
   "source": [
    "Let's say we are interested in the subset of Harmonized Variables pertaining to patient demographics. \n",
    "\n",
    "We might do this by selecting variables based on what **datatable** or **variable group** the variables belong to. \n",
    "\n",
    "We will do this by filtering on the 'columnmeta_var_group' column. We can see the values of this column and how many variables are in each group:"
   ]
  },
  {
   "cell_type": "code",
   "execution_count": null,
   "metadata": {},
   "outputs": [],
   "source": [
    "harmonized_dataframe.columnmeta_var_group_id.value_counts()"
   ]
  },
  {
   "cell_type": "markdown",
   "metadata": {},
   "source": [
    "Since we are interested in patient demographics, we filter our dataframe to include all harmonized variables which are part of the `demographic` variable group or data table. We should be left with 6 variables."
   ]
  },
  {
   "cell_type": "code",
   "execution_count": null,
   "metadata": {},
   "outputs": [],
   "source": [
    "demographic_vars = harmonized_dataframe.columnmeta_var_group_id.str.contains(\"demographic\")\n",
    "\n",
    "demographic_harmonized_dataframe = harmonized_dataframe[demographic_vars]\n",
    "\n",
    "demographic_harmonized_dataframe"
   ]
  },
  {
   "cell_type": "markdown",
   "metadata": {},
   "source": [
    "## Query PIC-SURE for participant-level data for harmonized variables of interest"
   ]
  },
  {
   "cell_type": "code",
   "execution_count": null,
   "metadata": {},
   "outputs": [],
   "source": [
    "# Initialize a query\n",
    "authPicSure = bdc.useAuthPicSure()\n",
    "demographic_query = authPicSure.query()\n",
    "vars_of_interest = demographic_harmonized_dataframe['columnmeta_HPDS_PATH'].tolist()\n",
    "vars_of_interest.append('\\\\DCC Harmonized data set\\\\demographic\\\\race_1\\\\')\n",
    "demographic_query.anyof().add(vars_of_interest)\n",
    "demographic_results = demographic_query.getResultsDataFrame()\n",
    "demographic_results.head()"
   ]
  },
  {
   "cell_type": "markdown",
   "metadata": {},
   "source": [
    "## Visualizing our sex and race harmonized variables across study cohorts"
   ]
  },
  {
   "cell_type": "code",
   "execution_count": null,
   "metadata": {},
   "outputs": [],
   "source": [
    "import matplotlib as plt"
   ]
  },
  {
   "cell_type": "markdown",
   "metadata": {},
   "source": [
    "### Male:Female ratio across study cohorts\n",
    "\n",
    "Below, we wrangle the data to calculate the male/female sex ratio per study cohort and prepare our data for plotting.\n"
   ]
  },
  {
   "cell_type": "code",
   "execution_count": null,
   "metadata": {
    "scrolled": true,
    "tags": []
   },
   "outputs": [],
   "source": [
    "grouped_sex_res = demographic_results.groupby(\"\\\\DCC Harmonized data set\\\\demographic\\\\subcohort_1\\\\\")\n",
    "grouped_sex_counts = grouped_sex_res[\"\\\\DCC Harmonized data set\\\\demographic\\\\annotated_sex_1\\\\\"].value_counts()\n",
    "plot_sex_df = grouped_sex_counts.unstack()\n",
    "plot_sex_df['mf_ratio'] = plot_sex_df.Male / plot_sex_df.Female\n",
    "plot_sex_df['mf_ratio'] = plot_sex_df['mf_ratio'].fillna(0)\n",
    "plot_sex_df"
   ]
  },
  {
   "cell_type": "code",
   "execution_count": null,
   "metadata": {},
   "outputs": [],
   "source": [
    "ax = plot_sex_df['mf_ratio'].plot(kind='bar', \n",
    "                                  title='Male/Female ratio across study cohorts',\n",
    "                                  figsize = [12,6])\n",
    "ax.set_xlabel(\"Study Cohort\")\n",
    "ax.set_ylabel(\"Male/Female ratio\")"
   ]
  },
  {
   "cell_type": "markdown",
   "metadata": {},
   "source": [
    "### Partipant race percentages across study cohorts\n",
    "\n",
    "Below, we wrangle the data to calculate the percentage of participants in given racial categories per study cohort and prepare our data for plotting.\n"
   ]
  },
  {
   "cell_type": "code",
   "execution_count": null,
   "metadata": {},
   "outputs": [],
   "source": [
    "demographic_results"
   ]
  },
  {
   "cell_type": "code",
   "execution_count": null,
   "metadata": {},
   "outputs": [],
   "source": [
    "grouped_race_res = demographic_results.groupby(\"\\\\DCC Harmonized data set\\\\demographic\\\\race_1\\\\\")\n",
    "grouped_race_counts = grouped_race_res[\"\\\\DCC Harmonized data set\\\\demographic\\\\subcohort_1\\\\\"].value_counts()\n",
    "grouped_race_counts"
   ]
  },
  {
   "cell_type": "code",
   "execution_count": null,
   "metadata": {
    "scrolled": true,
    "tags": []
   },
   "outputs": [],
   "source": [
    "grouped_race_res = demographic_results.groupby(\"\\\\DCC Harmonized data set\\\\demographic\\\\subcohort_1\\\\\")\n",
    "grouped_race_counts = grouped_race_res[\"\\\\DCC Harmonized data set\\\\demographic\\\\race_1\\\\\"].value_counts()\n",
    "plot_race_df = grouped_race_counts.unstack()\n",
    "plot_race_df = plot_race_df.fillna(0)\n",
    "plot_race_df['total_n_race'] = sum([plot_race_df['Asian'],\n",
    "                                    plot_race_df['Black or African American'],\n",
    "                                    plot_race_df['Native Hawaiian or other Pacific Islander'],\n",
    "                                    plot_race_df['More than one race'],\n",
    "                                    plot_race_df['Other race'],\n",
    "                                    plot_race_df['White or Caucasian']])\n",
    "plot_race_df['Asian'] = (plot_race_df['Asian'] / plot_race_df['total_n_race']) * 100\n",
    "plot_race_df['Black or African American'] = (plot_race_df['Black or African American'] / plot_race_df['total_n_race']) * 100\n",
    "plot_race_df['Native Hawaiian or other Pacific Islander'] = (plot_race_df['Native Hawaiian or other Pacific Islander'] / plot_race_df['total_n_race']) * 100\n",
    "plot_race_df['More than one race'] = (plot_race_df['More than one race'] / plot_race_df['total_n_race']) * 100\n",
    "plot_race_df['Other race'] = (plot_race_df['Other race'] / plot_race_df['total_n_race']) * 100\n",
    "plot_race_df['White or Caucasian'] = (plot_race_df['White or Caucasian'] / plot_race_df['total_n_race']) * 100\n",
    "\n",
    "plot_race_df = plot_race_df.drop('total_n_race', axis = 1)\n",
    "plot_race_df                                                                                          "
   ]
  },
  {
   "cell_type": "code",
   "execution_count": null,
   "metadata": {},
   "outputs": [],
   "source": [
    "ax = plot_race_df.plot(kind = 'bar', \n",
    "                       stacked = True, \n",
    "                       title = 'Race percentage distribution across study cohorts',\n",
    "                       figsize = [12,6])\n",
    "\n",
    "ax.legend(loc='center left',bbox_to_anchor=(1.0, 0.5))\n",
    "ax.set_xlabel(\"Study Cohort\")\n",
    "ax.set_ylabel(\"Race percentage\")"
   ]
  }
 ],
 "metadata": {
  "kernelspec": {
   "display_name": "Python 3 (ipykernel)",
   "language": "python",
   "name": "python3"
  },
  "language_info": {
   "codemirror_mode": {
    "name": "ipython",
    "version": 3
   },
   "file_extension": ".py",
   "mimetype": "text/x-python",
   "name": "python",
   "nbconvert_exporter": "python",
   "pygments_lexer": "ipython3",
   "version": "3.9.6"
  }
 },
 "nbformat": 4,
 "nbformat_minor": 4
}
