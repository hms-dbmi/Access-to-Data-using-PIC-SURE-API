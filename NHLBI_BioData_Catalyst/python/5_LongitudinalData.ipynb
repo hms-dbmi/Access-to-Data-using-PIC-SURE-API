{
 "cells": [
  {
   "cell_type": "markdown",
   "id": "541eaa51",
   "metadata": {},
   "source": [
    "# Identifying and Extracting Longitudinal Variables using python PIC-SURE API for *NHLBI BioData Catalyst® (BDC)*"
   ]
  },
  {
   "cell_type": "markdown",
   "id": "8c7b1088",
   "metadata": {},
   "source": [
    "This tutorial notebook will demonstrate how to identify and extract longitudinal variables using the python PIC-SURE API. Longitudinal variables are defined as containing multiple 'Exam' or 'Visit' descriptions within their concept path.\n",
    "\n",
    "\n",
    "In this example, we will find the patient level data for a lipid-related longitudinal variable within the Framingham Heart study. We will:\n",
    "1. Identify what longitudinal variables are associated with the keywords of interest (lipid, triglyceride), and how many exams / visits are associated with each one\n",
    "2. Select a longitudinal variable of interest from a specific study (Framingham heart study)\n",
    "3. Extract patient level data into a dataframe where each rows represent patients and columns represent visits"
   ]
  },
  {
   "cell_type": "markdown",
   "id": "82835454",
   "metadata": {},
   "source": [
    "For a more basic introduction to the python PIC-SURE API, see the `1_PICSURE_API_101.ipynb` notebook.\n",
    " \n",
    "**Before running this notebook, please be sure to review the \"Get your security token\" documentation, which exists in the [`README.md` file](../README.md). It explains how to get a security token, which is mandatory to use the PIC-SURE API.**\n",
    "\n",
    "To set up your token file, be sure to run the [`Workspace_setup.ipynb` file](./Workspace_setup.ipynb)."
   ]
  },
  {
   "cell_type": "markdown",
   "id": "d5112b17",
   "metadata": {},
   "source": [
    "## Environment set-up\n",
    "\n",
    "### System requirements\n",
    "- Python 3.6 or later\n",
    "- pip python package manager, already available in most systems with a python interpreter installed\n",
    "\n",
    "### Install packages\n",
    "\n",
    "**Note that if you are using the dedicated PIC-SURE environment within the *BDC Powered by Seven Bridges* platform, the necessary packages have already been installed.**"
   ]
  },
  {
   "cell_type": "code",
   "execution_count": null,
   "id": "15db4929-adeb-4134-b681-940855293175",
   "metadata": {},
   "outputs": [],
   "source": [
    "import sys\n",
    "import pandas as pd\n",
    "import re\n",
    "import numpy as np\n",
    "# BDC Powered by Terra users uncomment the following line to specify package install location\n",
    "# sys.path.insert(0, r\"/home/jupyter/.local/lib/python3.7/site-packages\")"
   ]
  },
  {
   "cell_type": "code",
   "execution_count": null,
   "id": "3af9fb5f-d200-47c6-805c-50e429902518",
   "metadata": {},
   "outputs": [],
   "source": [
    "!{sys.executable} -m pip install --upgrade --force-reinstall git+https://github.com/hms-dbmi/pic-sure-python-client.git\n",
    "!{sys.executable} -m pip install --upgrade --force-reinstall git+https://github.com/hms-dbmi/pic-sure-python-adapter-hpds.git\n",
    "!{sys.executable} -m pip install --upgrade --force-reinstall git+https://github.com/hms-dbmi/pic-sure-biodatacatalyst-python-adapter-hpds.git"
   ]
  },
  {
   "cell_type": "code",
   "execution_count": null,
   "id": "0fa268b2-24e2-4426-9689-5ef77253e138",
   "metadata": {},
   "outputs": [],
   "source": [
    "import PicSureClient\n",
    "import PicSureBdcAdapter"
   ]
  },
  {
   "cell_type": "markdown",
   "id": "fc274df7",
   "metadata": {},
   "source": [
    "## Connecting to a PIC-SURE network"
   ]
  },
  {
   "cell_type": "code",
   "execution_count": null,
   "id": "589b02b0",
   "metadata": {},
   "outputs": [],
   "source": [
    "PICSURE_network_URL = \"https://picsure.biodatacatalyst.nhlbi.nih.gov/picsure\"\n",
    "token_file = \"token.txt\"\n",
    "\n",
    "with open(token_file, \"r\") as f:\n",
    "    my_token = f.read()\n",
    "    \n",
    "bdc = PicSureBdcAdapter.Adapter(PICSURE_network_URL, my_token)"
   ]
  },
  {
   "cell_type": "markdown",
   "id": "9e328a52",
   "metadata": {},
   "source": [
    "## Longitudinal Lipid Variable Example\n",
    "<font color='darkgreen'>**Goal: Extract lipid measurements from multiple visits. In this example, we will focus on the Framingham Heart Study (phs000007).**</font> \n",
    "\n",
    "In this notebook example, we will:\n",
    "1. Identify lipid-related variables in the Framingham Heart Study\n",
    "2. Identify which lipid variables are measured over time, for example across multiple visits or exams\n",
    "3. Identify which longitudinal lipid variable(s) are of interest\n",
    "4. Query PIC-SURE for the longitudinal lipid variable(s) of interest\n",
    "\n",
    "\n",
    "### Identify lipid-related variables in the Framingham Heart Study\n",
    "\n",
    "First, let's search the data dictionary in PIC-SURE. We will use a regular expression for the search term: `lipid|trigliceride`. This allows us to find all variables related to `lipid` *or* `triglyceride`. "
   ]
  },
  {
   "cell_type": "code",
   "execution_count": null,
   "id": "5074c28b",
   "metadata": {},
   "outputs": [],
   "source": [
    "lipid_dictionary = bdc.useDictionary().dictionary().find('lipid|triglyceride')\n",
    "lipid_dataframe = lipid_dictionary.dataframe()\n",
    "print(lipid_dataframe.shape)\n",
    "lipid_dataframe.head()"
   ]
  },
  {
   "cell_type": "markdown",
   "id": "e21705f9",
   "metadata": {},
   "source": [
    "We are interested in variables from the Framingham Heart Study. The PHS number associated with this study is `phs000007`. If you don't know the PHS number for a study of interest, you can check the Data Access Dashboard in the PIC-SURE [User Interface](https://picsure.biodatacatalyst.nhlbi.nih.gov/psamaui/login).\n",
    "\n",
    "Here, we filter our variables dataframe to only include those where the studyId matches our PHS number of interest."
   ]
  },
  {
   "cell_type": "code",
   "execution_count": null,
   "id": "a003519c",
   "metadata": {
    "scrolled": true,
    "tags": []
   },
   "outputs": [],
   "source": [
    "filtered_lipid_dataframe = lipid_dataframe[lipid_dataframe.studyId.str.contains('phs000007')]\n",
    "filtered_lipid_dataframe"
   ]
  },
  {
   "cell_type": "markdown",
   "id": "99a2aa80",
   "metadata": {},
   "source": [
    "As you can see, there are a number of variables in the Framingham Heart Study which are related to lipids or triglicerides. In this case study, we are interested specifically in `longitudinal` data, or variables which have been measured over time. "
   ]
  },
  {
   "cell_type": "markdown",
   "id": "f7984edf",
   "metadata": {},
   "source": [
    "### Identify the longitudinal lipid variables\n",
    "In order to identify which lipid variables are measured over time, we will take advantage of the keywords `exam` and `visit`. Through a brief review of our lipid variables in the Framingham Heart Study, we can see that many variables contain an exam or visit number, indicating that it is longitudinal data.\n"
   ]
  },
  {
   "cell_type": "markdown",
   "id": "a58b1890",
   "metadata": {},
   "source": [
    "First, we will filter our dataframe containing variables which are related to `lipid` or `triglyceride` in Framingham Heart Study to those which have the keywords `exam #` or `visit #`."
   ]
  },
  {
   "cell_type": "code",
   "execution_count": null,
   "id": "7ef1e0c6",
   "metadata": {},
   "outputs": [],
   "source": [
    "filtered_lipid_dataframe = filtered_lipid_dataframe[filtered_lipid_dataframe.description.str.contains('exam|visit', case = False)].reset_index()"
   ]
  },
  {
   "cell_type": "markdown",
   "id": "d0b2529f",
   "metadata": {
    "tags": []
   },
   "source": [
    "Next, we will extract the exam or visit number of each variable into column `exam_number`. In some cases, there may be variables that have the word \"exam\" or \"visit\" in the description, but do not have a visit or exam number. An example of this could be: \"Since your last exam, have you had a lipid panel?\"\n",
    "\n",
    "We will remove these variables."
   ]
  },
  {
   "cell_type": "code",
   "execution_count": null,
   "id": "5f714e7f",
   "metadata": {},
   "outputs": [],
   "source": [
    "# Save exam # as exam_info, first convert string to lowercase, then extract exam/visit number\n",
    "# If there is no visit number, use -1 as the visit\n",
    "exam_info = filtered_lipid_dataframe['description'].str.lower().str.extract('(exam \\d+|visit \\d+)')[0].fillna(\"-1\")\n",
    "\n",
    "# Remove \"exam\" or \"visit\" text to only get number, convert to integer\n",
    "exam_info = list(exam_info.str.replace('(exam|visit)', '', regex=True).astype('int'))\n",
    "exam_info = pd.DataFrame(data=exam_info, columns=['exam_number'])\n",
    "\n",
    "# Save exam_info as new column \"exam_number\" in dataframe and drop those entries with no exam number, or exam number = -1\n",
    "filtered_lipid_dataframe = pd.concat([filtered_lipid_dataframe, exam_info], axis=1)\n",
    "filtered_lipid_dataframe = filtered_lipid_dataframe[filtered_lipid_dataframe.exam_number != -1]"
   ]
  },
  {
   "cell_type": "code",
   "execution_count": null,
   "id": "50658e67",
   "metadata": {},
   "outputs": [],
   "source": [
    "filtered_lipid_dataframe.head()"
   ]
  },
  {
   "cell_type": "markdown",
   "id": "d48e3cba",
   "metadata": {},
   "source": [
    "Now we save the variable name without the exam number as `varname_noexam`. This prepares us for the next step, where we will group the data by the variable name root."
   ]
  },
  {
   "cell_type": "code",
   "execution_count": null,
   "id": "3db02196",
   "metadata": {},
   "outputs": [],
   "source": [
    "# Save variable name without exam # as varname_noexam\n",
    "filtered_lipid_dataframe['varname_noexam'] = filtered_lipid_dataframe['description'].str.lower().str.replace('(exam \\d+|visit \\d+)', '', regex=True)"
   ]
  },
  {
   "cell_type": "markdown",
   "id": "46394564",
   "metadata": {},
   "source": [
    "Finally, we can return a summary table showing which variables have more than one exam recorded."
   ]
  },
  {
   "cell_type": "code",
   "execution_count": null,
   "id": "089d1275",
   "metadata": {
    "scrolled": true,
    "tags": []
   },
   "outputs": [],
   "source": [
    "# Isolate columns of interest\n",
    "filtered_lipid_dataframe = filtered_lipid_dataframe[['columnmeta_var_id', \n",
    "                                                     'columnmeta_name', \n",
    "                                                     'columnmeta_description', \n",
    "                                                     'columnmeta_var_group_id', \n",
    "                                                     'columnmeta_var_group_description', \n",
    "                                                     'exam_number', 'varname_noexam']]\n",
    "\n",
    "# Remove duplicated rows\n",
    "filtered_lipid_dataframe = filtered_lipid_dataframe.drop_duplicates(subset=['columnmeta_description', \n",
    "                                                                            'exam_number', \n",
    "                                                                            'varname_noexam'])\n",
    "\n",
    "# Create summary table by pivoting the dataframe to show which variables have which exam # provided.\n",
    "longitudinal_lipid_summary = filtered_lipid_dataframe.pivot(index = 'exam_number', columns = 'varname_noexam', values = 'columnmeta_var_id')\n",
    "longitudinal_lipid_summary.fillna('', inplace=True)\n",
    "longitudinal_lipid_summary"
   ]
  },
  {
   "cell_type": "markdown",
   "id": "765e9ec5",
   "metadata": {},
   "source": [
    "Now that we know which longitudinal variables are available to us, we can choose a variable of interest and extract the patient and visit level data associated with it.\n"
   ]
  },
  {
   "cell_type": "markdown",
   "id": "0da9da37",
   "metadata": {},
   "source": [
    "### Identify which longitudinal lipid variable(s) are of interest\n",
    "\n",
    "We can see from the table above that the variable `treated for lipids` appears to be the most robust, with 32 exams recored.\n",
    "\n",
    "In this example, we will further investigate the `treated for lipids` variable by adding all the associated variable IDs to our PIC-SURE query.\n",
    "\n",
    "To do so, we need the HPDS_PATH for each variable ID.\n"
   ]
  },
  {
   "cell_type": "code",
   "execution_count": null,
   "id": "4973d3c4",
   "metadata": {},
   "outputs": [],
   "source": [
    "variable_ids = longitudinal_lipid_summary[['treated for lipids, ']]\n",
    "hpds_paths = variable_ids.merge(lipid_dataframe[['varId', 'HPDS_PATH']], \n",
    "                                left_on = 'treated for lipids, ', \n",
    "                                right_on = \"varId\", \n",
    "                                how = 'left')\n",
    "hpds_paths = hpds_paths['HPDS_PATH']\n",
    "hpds_paths"
   ]
  },
  {
   "cell_type": "markdown",
   "id": "9311dd47",
   "metadata": {},
   "source": [
    "### Query PIC-SURE for longitudinal variables of interest\n",
    "First, we will create a new query object."
   ]
  },
  {
   "cell_type": "code",
   "execution_count": null,
   "id": "02970afa",
   "metadata": {},
   "outputs": [],
   "source": [
    "authPicSure = bdc.useAuthPicSure()\n",
    "\n",
    "longitudinal_query = authPicSure.query()"
   ]
  },
  {
   "cell_type": "markdown",
   "id": "54bc8fc8",
   "metadata": {},
   "source": [
    "We will use the `query.anyof().add()` method. This will allow us to include all input variables, but only participant records that contain at least one non-null value for those variables in the output. See the `1_PICSURE_API_101.ipynb` notebook for a more in depth explanation of query methods."
   ]
  },
  {
   "cell_type": "code",
   "execution_count": null,
   "id": "13b5b17a",
   "metadata": {},
   "outputs": [],
   "source": [
    "longitudinal_query.anyof().add(hpds_paths)"
   ]
  },
  {
   "cell_type": "markdown",
   "id": "25aabfcd",
   "metadata": {},
   "source": [
    "Retrieve the query results as a dataframe."
   ]
  },
  {
   "cell_type": "code",
   "execution_count": null,
   "id": "b15c1ad2",
   "metadata": {},
   "outputs": [],
   "source": [
    "longitudinal_results = longitudinal_query.getResultsDataFrame()"
   ]
  },
  {
   "cell_type": "code",
   "execution_count": null,
   "id": "4f44352f",
   "metadata": {},
   "outputs": [],
   "source": [
    "longitudinal_results"
   ]
  },
  {
   "cell_type": "markdown",
   "id": "cb41cbd2",
   "metadata": {},
   "source": [
    "Our dataframe contains each exam / visit for the longitudinal variable of interest, with each row representing a patient. In order to be included in the output, each patient must have at least one reported value for one of the exams / visits for the variable of interest."
   ]
  },
  {
   "cell_type": "markdown",
   "id": "4276edec",
   "metadata": {},
   "source": [
    "### Visualize the results\n",
    "Let's plot a graph to see whether patients were or were not treated for lipids over time."
   ]
  },
  {
   "cell_type": "code",
   "execution_count": null,
   "id": "96a87094",
   "metadata": {},
   "outputs": [],
   "source": [
    "import numpy as np; np.random.seed(0)\n",
    "import seaborn as sns; sns.set_theme()\n",
    "sns.set(rc={'figure.figsize':(20,15)})"
   ]
  },
  {
   "cell_type": "markdown",
   "id": "e6b1b075",
   "metadata": {},
   "source": [
    "First, we will clean the data by removing the subject identifiers and renaming the columns to simply represent the visit number. We can see that our data values are in the form \"Yes\", \"No\". We will map them to a boolean representation."
   ]
  },
  {
   "cell_type": "code",
   "execution_count": null,
   "id": "d77c1a75",
   "metadata": {},
   "outputs": [],
   "source": [
    "plotdf = longitudinal_results\n",
    "\n",
    "# drop columns not containing data\n",
    "plotdf.drop(plotdf.columns[[0, 1, 2, 3]], axis=1, inplace=True)\n",
    "\n",
    "# rename columns with just the visit number\n",
    "cols = []\n",
    "for c in plotdf.columns:\n",
    "    cnew = re.sub('^.*LIPRX', '', c)\n",
    "    cnew = cnew.strip('\\\\')\n",
    "    cols.append(cnew)\n",
    "plotdf.columns = cols"
   ]
  },
  {
   "cell_type": "code",
   "execution_count": null,
   "id": "109be22f",
   "metadata": {},
   "outputs": [],
   "source": [
    "# map yes/no values to boolean representation\n",
    "map_df = pd.DataFrame({'raw':['Yes', 'No', 'No Data'],\n",
    "                      'numeric':[1,-1, 0]})\n",
    "map_df = dict(zip(map_df.raw, map_df.numeric))\n",
    "for column in plotdf:\n",
    "    plotdf[column] = plotdf[column].map(map_df)"
   ]
  },
  {
   "cell_type": "markdown",
   "id": "f736ea10",
   "metadata": {},
   "source": [
    "Although we have 12792 patients in this dataset with at least one 'treated for lipids' value, some of the data is quite sparse. Let's focus on visualizing patients which have at least 20 values recorded."
   ]
  },
  {
   "cell_type": "code",
   "execution_count": null,
   "id": "acc95e56",
   "metadata": {},
   "outputs": [],
   "source": [
    "plotdf['sum'] = plotdf.count(axis=1)\n",
    "plotdf = plotdf[plotdf['sum'] >= 20]\n",
    "plotdf = plotdf.sort_values(by=['sum'])\n",
    "plotdf = plotdf.drop(['sum'], axis=1)\n",
    "plotdf = plotdf.fillna(0)"
   ]
  },
  {
   "cell_type": "code",
   "execution_count": null,
   "id": "4a313ef3",
   "metadata": {},
   "outputs": [],
   "source": [
    "plotdf"
   ]
  },
  {
   "cell_type": "markdown",
   "id": "062cb302",
   "metadata": {},
   "source": [
    "The heatmap below represents each patient with at least 20 observations on each row. We can see distinct trends regarding the reporting of lipid treatment over time."
   ]
  },
  {
   "cell_type": "code",
   "execution_count": null,
   "id": "d81639b3",
   "metadata": {},
   "outputs": [],
   "source": [
    "n = 3\n",
    "cmap = sns.color_palette(\"Spectral\", 3) \n",
    "ax = sns.heatmap(plotdf, cmap=cmap, yticklabels=False)\n",
    "# modify colorbar:\n",
    "colorbar = ax.collections[0].colorbar \n",
    "r = colorbar.vmax - colorbar.vmin \n",
    "colorbar.set_ticks([colorbar.vmin + r / 3 * (0.5 + i) for i in range(n)])\n",
    "colorbar.set_ticklabels(list(['No', 'No Data', 'Yes']))                                          "
   ]
  }
 ],
 "metadata": {
  "kernelspec": {
   "display_name": "Python 3",
   "language": "python",
   "name": "python3"
  },
  "language_info": {
   "codemirror_mode": {
    "name": "ipython",
    "version": 3
   },
   "file_extension": ".py",
   "mimetype": "text/x-python",
   "name": "python",
   "nbconvert_exporter": "python",
   "pygments_lexer": "ipython3",
   "version": "3.9.6"
  },
  "toc": {
   "base_numbering": 1,
   "nav_menu": {},
   "number_sections": true,
   "sideBar": true,
   "skip_h1_title": false,
   "title_cell": "Table of Contents",
   "title_sidebar": "Contents",
   "toc_cell": false,
   "toc_position": {},
   "toc_section_display": true,
   "toc_window_display": false
  }
 },
 "nbformat": 4,
 "nbformat_minor": 5
}
