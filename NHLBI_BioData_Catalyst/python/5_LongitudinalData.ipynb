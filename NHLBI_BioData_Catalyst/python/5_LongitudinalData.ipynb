{
 "cells": [
  {
   "cell_type": "markdown",
   "id": "f19932a2",
   "metadata": {},
   "source": [
    "# Identifying and Extracting Longitudinal Variables using python PIC-SURE API"
   ]
  },
  {
   "cell_type": "markdown",
   "id": "47b3172a",
   "metadata": {},
   "source": [
    "This tutorial notebook will demonstrate how to identify and extract longitudinal variables using the python PIC-SURE API. Longitudinal variables are defined as containing multiple 'Exam' or 'Visit' descriptions within their concept path.\n",
    "\n",
    "\n",
    "In this example, we will find the patient level data for a lipid-related longitudinal variable within the Framingham Heart study. We will:\n",
    "1. Identify what longitudinal variables are associated with the keywords of interest (lipid, triglyceride), and how many exams / visits are associated with each one\n",
    "2. Select a longitudinal variable of interest from a specific study (Framingham heart study)\n",
    "3. Extract patient level data into a dataframe where each rows represent patients and columns represent visits"
   ]
  },
  {
   "cell_type": "markdown",
   "id": "f7670c71",
   "metadata": {},
   "source": [
    "For a more basic introduction to the python PIC-SURE API, see the `1_PICSURE_API_101.ipynb` notebook.\n",
    " \n",
    "**Before running this notebook, please be sure to get a user-specific security token. For more information about how to proceed, see the \\\"Get your security token\\\" instructions in the [README.md](https://github.com/hms-dbmi/Access-to-Data-using-PIC-SURE-API/tree/master/NHLBI_BioData_Catalyst#get-your-security-token).**"
   ]
  },
  {
   "cell_type": "markdown",
   "id": "05a2ba42",
   "metadata": {},
   "source": [
    "## Environment set-up\n",
    "\n",
    "### System requirements\n",
    "- Python 3.6 or later\n",
    "- pip python package manager, already available in most systems with a python interpreter installed\n",
    "\n",
    "### Install packages"
   ]
  },
  {
   "cell_type": "code",
   "execution_count": null,
   "id": "1b7a6cfd",
   "metadata": {},
   "outputs": [],
   "source": [
    "import re\n",
    "import numpy as np\n",
    "import pandas as pd\n",
    "import sys\n",
    "!{sys.executable} -m pip install --upgrade --force-reinstall git+https://github.com/hms-dbmi/pic-sure-python-client.git\n",
    "!{sys.executable} -m pip install --upgrade --force-reinstall git+https://github.com/hms-dbmi/pic-sure-python-adapter-hpds.git\n",
    "!{sys.executable} -m pip install --upgrade --force-reinstall git+https://github.com/hms-dbmi/pic-sure-biodatacatalyst-python-adapter-hpds.git@new-search\n",
    "\n",
    "import PicSureBdcAdapter"
   ]
  },
  {
   "cell_type": "markdown",
   "id": "ee60aa30",
   "metadata": {},
   "source": [
    "## Connecting to a PIC-SURE network"
   ]
  },
  {
   "cell_type": "code",
   "execution_count": null,
   "id": "1b029d8e",
   "metadata": {},
   "outputs": [],
   "source": [
    "# Uncomment production URL when testing in production\n",
    "# PICSURE_network_URL = \"https://picsure.biodatacatalyst.nhlbi.nih.gov/picsure\"\n",
    "PICSURE_network_URL = \"https://biodatacatalyst.integration.hms.harvard.edu/picsure\"\n",
    "token_file = \"token.txt\"\n",
    "\n",
    "with open(token_file, \"r\") as f:\n",
    "    my_token = f.read()\n",
    "    \n",
    "bdc = PicSureBdcAdapter.Adapter(PICSURE_network_URL, my_token)"
   ]
  },
  {
   "cell_type": "markdown",
   "id": "8a383c1d",
   "metadata": {},
   "source": [
    "## Longitudinal Lipid Variable Example\n",
    "<font color='darkgreen'>**Goal: Extract lipid measurements from multiple visits. In this example, we will focus on the Framingham Heart Study (phs000007).**</font> \n",
    "\n",
    "In this notebook example, we will:\n",
    "1. Identify lipid-related variables in the Framingham Heart Study\n",
    "2. Identify which lipid variables are measured over time, for example across multiple visits or exams\n",
    "3. Identify which longitudinal lipid variable(s) are of interest\n",
    "4. Query PIC-SURE for the longitudinal lipid variable(s) of interest\n",
    "\n",
    "\n",
    "### Identify lipid-related variables in the Framingham Heart Study\n",
    "\n",
    "First, let's search the data dictionary in PIC-SURE. We will use a regular expression for the search term: `lipid|trigliceride`. This allows us to find all variables related to `lipid` *or* `trigliceride`. "
   ]
  },
  {
   "cell_type": "code",
   "execution_count": null,
   "id": "5b1b223d",
   "metadata": {},
   "outputs": [],
   "source": [
    "lipid_dictionary = bdc.useDictionary().dictionary().find('lipid|trigliceride')\n",
    "lipid_dataframe = lipid_dictionary.dataframe()\n",
    "print(lipid_dataframe.shape)\n",
    "lipid_dataframe.head()\n"
   ]
  },
  {
   "cell_type": "markdown",
   "id": "91576c38",
   "metadata": {},
   "source": [
    "We are interested in variables from the Framingham Heart Study. The PHS number associated with this study is `phs000007`. If you don't know the PHS number for a study of interest, you can check the Data Access Dashboard in the PIC-SURE [User Interface](https://picsure.biodatacatalyst.nhlbi.nih.gov/psamaui/login).\n",
    "\n",
    "Here, we filter our variables dataframe to only include those where the studyId matches our PHS number of interest."
   ]
  },
  {
   "cell_type": "code",
   "execution_count": null,
   "id": "816a6cbb",
   "metadata": {},
   "outputs": [],
   "source": [
    "filtered_lipid_dataframe = lipid_dataframe[lipid_dataframe.studyId.str.contains('phs000007')]\n",
    "filtered_lipid_dataframe"
   ]
  },
  {
   "cell_type": "markdown",
   "id": "9494afca",
   "metadata": {},
   "source": [
    "As you can see, there are a number of variables in the Framingham Heart Study which are related to lipids or triglicerides. In this case study, we are interested specifically in `longitudinal` data, or variables which have been measured over time. "
   ]
  },
  {
   "cell_type": "markdown",
   "id": "6c939f05",
   "metadata": {},
   "source": [
    "### Identify the longitudinal lipid variables\n",
    "In order to identify which lipid variables are measured over time, we will take advantage of the keywords `exam` and `visit`. Through a brief review of our lipid variables in the Framingham Heart Study, we can see that many variables contain an exam or visit number, indicating that it is longitudinal data.\n"
   ]
  },
  {
   "cell_type": "markdown",
   "id": "e24c6266",
   "metadata": {},
   "source": [
    "First, we will filter our dataframe containing variables which are related to `lipid` or `triglyceride` in Framingham Heart Study to those which have the keywords `exam #` or `visit #`."
   ]
  },
  {
   "cell_type": "code",
   "execution_count": null,
   "id": "65c1a237",
   "metadata": {},
   "outputs": [],
   "source": [
    "filtered_lipid_dataframe = filtered_lipid_dataframe[filtered_lipid_dataframe.description.str.contains('exam|visit', case = False)]\n"
   ]
  },
  {
   "cell_type": "code",
   "execution_count": null,
   "id": "c39dd1fc",
   "metadata": {},
   "outputs": [],
   "source": [
    "filtered_lipid_dataframe['exam_number'] = filtered_lipid_dataframe['description'].str.extract('(exam \\d+|visit \\d+)', flags = re.IGNORECASE)[0]\n"
   ]
  },
  {
   "cell_type": "markdown",
   "id": "7d281f7b",
   "metadata": {},
   "source": [
    "Next, we will extract the exam or visit number of each variable into column `exam_number`."
   ]
  },
  {
   "cell_type": "code",
   "execution_count": null,
   "id": "b83da080",
   "metadata": {},
   "outputs": [],
   "source": [
    "# Save exam # as exam_number\n",
    "filtered_lipid_dataframe['exam_number'] = filtered_lipid_dataframe['description'].str.extract('(exam \\d+|visit \\d+)', flags = re.IGNORECASE)\n",
    "filtered_lipid_dataframe['exam_number'] = filtered_lipid_dataframe['exam_number'].str.replace('(exam|visit)', '', flags = re.IGNORECASE).str.lower()\n",
    "filtered_lipid_dataframe['exam_number'] = filtered_lipid_dataframe['exam_number'].astype('int')\n"
   ]
  },
  {
   "cell_type": "code",
   "execution_count": null,
   "id": "02c0aad0",
   "metadata": {},
   "outputs": [],
   "source": [
    "filtered_lipid_dataframe['description'].tolist()\n",
    "\n",
    "#dfmi.loc[:, ('one', 'second')]\n"
   ]
  },
  {
   "cell_type": "markdown",
   "id": "9cffbe6a",
   "metadata": {},
   "source": [
    "Now we save the variable name without the exam number as `varname_noexam`. This prepares us for the next step, where we will group the data by the variable name root."
   ]
  },
  {
   "cell_type": "code",
   "execution_count": null,
   "id": "660e6098",
   "metadata": {},
   "outputs": [],
   "source": [
    "# Save variable name without exam # as varname_noexam\n",
    "filtered_lipid_dataframe['varname_noexam'] = filtered_lipid_dataframe['description'].str.replace('(exam \\d+|visit \\d+)', '', flags = re.IGNORECASE).str.lower()\n"
   ]
  },
  {
   "cell_type": "code",
   "execution_count": null,
   "id": "01c21cb2",
   "metadata": {},
   "outputs": [],
   "source": [
    "filtered_lipid_dataframe.columns"
   ]
  },
  {
   "cell_type": "code",
   "execution_count": null,
   "id": "6dbe5a13",
   "metadata": {},
   "outputs": [],
   "source": []
  },
  {
   "cell_type": "markdown",
   "id": "911896d2",
   "metadata": {},
   "source": [
    "Finally, we can return a summary table showing which variables have more than one exam recorded."
   ]
  },
  {
   "cell_type": "code",
   "execution_count": null,
   "id": "e8453b43",
   "metadata": {},
   "outputs": [],
   "source": [
    "# Isolate columns of interest\n",
    "filtered_lipid_dataframe = filtered_lipid_dataframe[['columnmeta_var_id', \n",
    "                                                     'columnmeta_name', \n",
    "                                                     'columnmeta_description', \n",
    "                                                     'columnmeta_var_group_id', \n",
    "                                                     'columnmeta_var_group_description', \n",
    "                                                     'exam_number', 'varname_noexam']]\n",
    "\n",
    "# Remove duplicated rows\n",
    "filtered_lipid_dataframe = filtered_lipid_dataframe.drop_duplicates(subset=['columnmeta_description', \n",
    "                                                                            'exam_number', \n",
    "                                                                            'varname_noexam'])\n",
    "\n",
    "# Create summary table by pivoting the dataframe to show which variables have which exam # provided.\n",
    "longitudinal_lipid_summary = filtered_lipid_dataframe.pivot(index = 'exam_number', columns = 'varname_noexam', values = 'columnmeta_var_id')\n",
    "longitudinal_lipid_summary.fillna('', inplace=True)\n",
    "longitudinal_lipid_summary\n"
   ]
  },
  {
   "cell_type": "markdown",
   "id": "24f6045d",
   "metadata": {},
   "source": [
    "Now that we know which longitudinal variables are available to us, we can choose a variable of interest and extract the patient and visit level data associated with it.\n"
   ]
  },
  {
   "cell_type": "markdown",
   "id": "370d5073",
   "metadata": {},
   "source": [
    "### Identify which longitudinal lipid variable(s) are of interest\n",
    "\n",
    "We can see from the table above that the variable `treated for lipids` appears to be the most robust, with 32 exams recored.\n",
    "\n",
    "In this example, we will further investigate the `treated for lipids` variable by adding all the associated variable IDs to our PIC-SURE query.\n",
    "\n",
    "To do so, we need the HPDS_PATH for each variable ID.\n"
   ]
  },
  {
   "cell_type": "code",
   "execution_count": null,
   "id": "91ad080f",
   "metadata": {},
   "outputs": [],
   "source": [
    "variable_ids = longitudinal_lipid_summary[['treated for lipids, ']]\n",
    "hpds_paths = variable_ids.merge(lipid_dataframe[['varId', 'HPDS_PATH']], \n",
    "                                left_on = 'treated for lipids, ', \n",
    "                                right_on = \"varId\", \n",
    "                                how = 'left')\n",
    "hpds_paths = hpds_paths['HPDS_PATH']\n",
    "hpds_paths\n"
   ]
  },
  {
   "cell_type": "markdown",
   "id": "cd7adc96",
   "metadata": {},
   "source": [
    "### Query PIC-SURE for longitudinal variables of interest\n",
    "First, we will create a new query object."
   ]
  },
  {
   "cell_type": "code",
   "execution_count": null,
   "id": "7248acb3",
   "metadata": {},
   "outputs": [],
   "source": [
    "authPicSure = bdc.useAuthPicSure()\n",
    "\n",
    "longitudinal_query = authPicSure.query()"
   ]
  },
  {
   "cell_type": "markdown",
   "id": "96ff9b03",
   "metadata": {},
   "source": [
    "We will use the `query.anyof().add()` method. This will allow us to include all input variables, but only participant records that contain at least one non-null value for those variables in the output. See the `1_PICSURE_API_101.ipynb` notebook for a more in depth explanation of query methods."
   ]
  },
  {
   "cell_type": "code",
   "execution_count": null,
   "id": "b4250822",
   "metadata": {},
   "outputs": [],
   "source": [
    "longitudinal_query.anyof().add(hpds_paths)"
   ]
  },
  {
   "cell_type": "markdown",
   "id": "8fc63209",
   "metadata": {},
   "source": [
    "Retrieve the query results as a dataframe"
   ]
  },
  {
   "cell_type": "code",
   "execution_count": null,
   "id": "0471deef",
   "metadata": {},
   "outputs": [],
   "source": [
    "longitudinal_results = longitudinal_query.getResultsDataFrame()\n"
   ]
  },
  {
   "cell_type": "code",
   "execution_count": null,
   "id": "360eae13",
   "metadata": {},
   "outputs": [],
   "source": [
    "longitudinal_results"
   ]
  },
  {
   "cell_type": "markdown",
   "id": "c0483814",
   "metadata": {},
   "source": [
    "Our dataframe contains each exam / visit for the longitudinal variable of interest, with each row representing a patient. In order to be included in the output, each patient must have at least one reported value for one of the exams / visits for the variable of interest."
   ]
  },
  {
   "cell_type": "markdown",
   "id": "5ecdcc31",
   "metadata": {},
   "source": [
    "### Visualize the results\n",
    "Let's plot a graph to see whether patients were or were not treated for lipids over time."
   ]
  },
  {
   "cell_type": "code",
   "execution_count": null,
   "id": "2c8bf45e",
   "metadata": {},
   "outputs": [],
   "source": [
    "import numpy as np; np.random.seed(0)\n",
    "import seaborn as sns; sns.set_theme()\n",
    "sns.set(rc={'figure.figsize':(20,15)})"
   ]
  },
  {
   "cell_type": "markdown",
   "id": "3844bf7a",
   "metadata": {},
   "source": [
    "First, we will clean the data by removing the subject identifiers and renaming the columns to simply represent the visit number. We can see that our data values are in the form \"Yes\", \"No\". We will map them to a boolean representation."
   ]
  },
  {
   "cell_type": "code",
   "execution_count": null,
   "id": "044df349",
   "metadata": {},
   "outputs": [],
   "source": [
    "plotdf = longitudinal_results\n",
    "\n",
    "# drop columns not containing data\n",
    "plotdf.drop(plotdf.columns[[0, 1, 2, 3]], axis=1, inplace=True)\n",
    "\n",
    "# rename columns with just the visit number\n",
    "cols = []\n",
    "for c in plotdf.columns:\n",
    "    cnew = re.sub('^.*LIPRX', '', c)\n",
    "    cnew = cnew.strip('\\\\')\n",
    "    cols.append(cnew)\n",
    "plotdf.columns = cols"
   ]
  },
  {
   "cell_type": "code",
   "execution_count": null,
   "id": "6bada65c",
   "metadata": {},
   "outputs": [],
   "source": [
    "# map yes/no values to boolean representation\n",
    "map_df = pd.DataFrame({'raw':['Yes', 'No', 'No Data'],\n",
    "                      'numeric':[1,-1, 0]})\n",
    "map_df = dict(zip(map_df.raw, map_df.numeric))\n",
    "for column in plotdf:\n",
    "    plotdf[column] = plotdf[column].map(map_df)"
   ]
  },
  {
   "cell_type": "markdown",
   "id": "a91b48b0",
   "metadata": {},
   "source": [
    "Although we have 12792 patients in this dataset with at least one 'treated for lipids' value, some of the data is quite sparse. Let's focus on visualizing patients which have at least 20 values recorded."
   ]
  },
  {
   "cell_type": "code",
   "execution_count": null,
   "id": "112394f3",
   "metadata": {},
   "outputs": [],
   "source": [
    "plotdf['sum'] = plotdf.count(axis=1)\n",
    "plotdf = plotdf[plotdf['sum'] >= 20]\n",
    "plotdf = plotdf.sort_values(by=['sum'])\n",
    "plotdf = plotdf.drop(['sum'], axis=1)\n",
    "plotdf = plotdf.fillna(0)"
   ]
  },
  {
   "cell_type": "code",
   "execution_count": null,
   "id": "2b566b51",
   "metadata": {},
   "outputs": [],
   "source": [
    "plotdf"
   ]
  },
  {
   "cell_type": "markdown",
   "id": "923075fb",
   "metadata": {},
   "source": [
    "The heatmap below represents each patient with at least 20 observations on each row. We can see distinct trends regarding the reporting of lipid treatment over time."
   ]
  },
  {
   "cell_type": "code",
   "execution_count": null,
   "id": "ca5bf836",
   "metadata": {},
   "outputs": [],
   "source": [
    "cmap = sns.color_palette(\"Spectral\", 3) \n",
    "ax = sns.heatmap(plotdf, cmap=cmap, yticklabels=False)\n",
    "# modify colorbar:\n",
    "colorbar = ax.collections[0].colorbar \n",
    "r = colorbar.vmax - colorbar.vmin \n",
    "colorbar.set_ticks([colorbar.vmin + r / 3 * (0.5 + i) for i in range(n)])\n",
    "colorbar.set_ticklabels(list(['No', 'No Data', 'Yes']))                                          \n"
   ]
  },
  {
   "cell_type": "code",
   "execution_count": null,
   "id": "411ab6a6",
   "metadata": {},
   "outputs": [],
   "source": []
  }
 ],
 "metadata": {
  "kernelspec": {
   "display_name": "conda_python3",
   "language": "python",
   "name": "conda_python3"
  },
  "language_info": {
   "codemirror_mode": {
    "name": "ipython",
    "version": 3
   },
   "file_extension": ".py",
   "mimetype": "text/x-python",
   "name": "python",
   "nbconvert_exporter": "python",
   "pygments_lexer": "ipython3",
   "version": "3.6.13"
  },
  "toc": {
   "base_numbering": 1,
   "nav_menu": {},
   "number_sections": true,
   "sideBar": true,
   "skip_h1_title": false,
   "title_cell": "Table of Contents",
   "title_sidebar": "Contents",
   "toc_cell": false,
   "toc_position": {},
   "toc_section_display": true,
   "toc_window_display": false
  }
 },
 "nbformat": 4,
 "nbformat_minor": 5
}
