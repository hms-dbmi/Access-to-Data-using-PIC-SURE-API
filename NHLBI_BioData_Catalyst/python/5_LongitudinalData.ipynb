{
 "cells": [
  {
   "cell_type": "markdown",
   "id": "7dc86d20",
   "metadata": {},
   "source": [
    "# Identifying and Extracting Longitudinal Variables using python PIC-SURE API"
   ]
  },
  {
   "cell_type": "markdown",
   "id": "01bc4589",
   "metadata": {},
   "source": [
    "This tutorial notebook will demonstrate how to identify and extract longitudinal variables using the python PIC-SURE API. Longitudinal variables are defined as containing multiple 'Exam' or 'Visit' descriptions within their concept path.\n",
    "\n",
    "\n",
    "In this example, we will find the patient level data for a lipid-related longitudinal variable within the Framingham Heart study. We will:\n",
    "1. Identify what longitudinal variables are associated with the keywords of interest (lipid, triglyceride), and how many exams / visits are associated with each one\n",
    "2. Select a longitudinal variable of interest from a specific study (Framingham heart study)\n",
    "3. Extract patient level data into a dataframe where each rows represent patients and columns represent visits"
   ]
  },
  {
   "cell_type": "markdown",
   "id": "5e4b72cd",
   "metadata": {},
   "source": [
    "For a more basic introduction to the python PIC-SURE API, see the `1_PICSURE_API_101.ipynb` notebook.\n",
    " \n",
    "**Before running this notebook, please be sure to get a user-specific security token. For more information about how to proceed, see the \\\"Get your security token\\\" instructions in the [README.md](https://github.com/hms-dbmi/Access-to-Data-using-PIC-SURE-API/tree/master/NHLBI_BioData_Catalyst#get-your-security-token).**"
   ]
  },
  {
   "cell_type": "markdown",
   "id": "c6452cfb",
   "metadata": {},
   "source": [
    "## Environment set-up\n",
    "\n",
    "### Pre-requisites\n",
    "* python 3.6 or later\n",
    "* pip python package manager, already available in most systems with a [python interpreter installed](https://pip.pypa.io/en/stable/installing/)\n",
    "\n",
    "### Install packages\n",
    "The first step to using the PIC-SURE API is to install the packages needed. The following code installs the PIC-SURE API components from GitHub, specifically:\n",
    "* PIC-SURE Client\n",
    "* PIC-SURE Adapter\n",
    "* BioData Catalyst PIC-SURE Adapter"
   ]
  },
  {
   "cell_type": "code",
   "execution_count": null,
   "id": "d9b9b6f9",
   "metadata": {},
   "outputs": [],
   "source": [
    "import re"
   ]
  },
  {
   "cell_type": "code",
   "execution_count": null,
   "id": "692ba4cf",
   "metadata": {
    "scrolled": true
   },
   "outputs": [],
   "source": [
    "import pandas as pd\n",
    "import matplotlib.pyplot as plt\n",
    "import sys\n",
    "!{sys.executable} -m pip install --upgrade --force-reinstall git+https://github.com/hms-dbmi/pic-sure-python-client.git\n",
    "!{sys.executable} -m pip install --upgrade --force-reinstall git+https://github.com/hms-dbmi/pic-sure-python-adapter-hpds.git\n",
    "!{sys.executable} -m pip install --upgrade --force-reinstall git+https://github.com/hms-dbmi/pic-sure-biodatacatalyst-python-adapter-hpds.git@new-search\n",
    "\n",
    "import PicSureBdcAdapter"
   ]
  },
  {
   "cell_type": "markdown",
   "id": "efe36757",
   "metadata": {},
   "source": [
    "## Connecting to a PIC-SURE resource\n",
    "\n",
    "The following is required to get access to the PIC-SURE API:\n",
    "* a network URL\n",
    "* a user-specific security token\n",
    "\n",
    "The following code specifies the network URL as the BioData Catalyst Powered by PIC-SURE URL and references the user-specific token saved as `token.txt`.\n",
    "\n",
    "If you have not already retrieved your user-specific token, please refer to the \"Get your security token\" section of the [README.md](https://github.com/hms-dbmi/Access-to-Data-using-PIC-SURE-API/tree/master/NHLBI_BioData_Catalyst#get-your-security-token) file."
   ]
  },
  {
   "cell_type": "code",
   "execution_count": null,
   "id": "a2af9a71",
   "metadata": {},
   "outputs": [],
   "source": [
    "# Uncomment production URL when testing in production\n",
    "# PICSURE_network_URL = \"https://picsure.biodatacatalyst.nhlbi.nih.gov/picsure\"\n",
    "PICSURE_network_URL = \"https://biodatacatalyst.integration.hms.harvard.edu/picsure\"\n",
    "token_file = \"token.txt\"\n",
    "\n",
    "with open(token_file, \"r\") as f:\n",
    "    my_token = f.read()\n",
    "    \n",
    "bdc = PicSureBdcAdapter.Adapter(PICSURE_network_URL, my_token)"
   ]
  },
  {
   "cell_type": "markdown",
   "id": "d5b1ed18",
   "metadata": {},
   "source": [
    "## Longitudinal Lipid Variable Example\n",
    "In this example, we will extract lipid measurements from multiple visits for different cohorts.\n",
    "\n",
    "First, let's search PIC-SURE for all variables that contain 'lipid' or 'triglyceride'. "
   ]
  },
  {
   "cell_type": "code",
   "execution_count": null,
   "id": "2fd50923",
   "metadata": {},
   "outputs": [],
   "source": [
    "lipid_dictionary = bdc.useDictionary().dictionary().find('lipid|trigliceride')\n",
    "lipid_dataframe = lipid_dictionary.dataframe()\n",
    "print(lipid_dataframe.shape)\n",
    "lipid_dataframe.head()\n"
   ]
  },
  {
   "cell_type": "markdown",
   "id": "88cc9391",
   "metadata": {},
   "source": [
    "filter to variables from phs000007"
   ]
  },
  {
   "cell_type": "code",
   "execution_count": null,
   "id": "b3928164",
   "metadata": {},
   "outputs": [],
   "source": [
    "filtered_lipid_dataframe = lipid_dataframe[lipid_dataframe.studyId.str.contains('phs000007')]\n",
    "filtered_lipid_dataframe"
   ]
  },
  {
   "cell_type": "code",
   "execution_count": null,
   "id": "b19da74d",
   "metadata": {},
   "outputs": [],
   "source": [
    "filtered_lipid_dataframe.columns"
   ]
  },
  {
   "cell_type": "markdown",
   "id": "8eb6375c",
   "metadata": {},
   "source": [
    "### Identify the longitudinal lipid variables\n",
    "The following code does the following:\n",
    "\n",
    "- uses the dataframe containing variables which are related to 'lipid' or 'triglyceride'\n",
    "- filters for variables with keywords 'exam #' or 'visit #'\n",
    "- extracts the exam number of each variable into column `exam_number`\n",
    "- groups variables longitudinal variable (`longvar`)\n",
    "- returns a table showing the variables that have more than one exam recorded"
   ]
  },
  {
   "cell_type": "markdown",
   "id": "8d89c7e0",
   "metadata": {},
   "source": [
    "First, lets see which lipid variables appear to be longitudinal by searching for the words exam and visit."
   ]
  },
  {
   "cell_type": "code",
   "execution_count": null,
   "id": "c56cab6a",
   "metadata": {},
   "outputs": [],
   "source": [
    "filtered_lipid_dataframe = lipid_dataframe[lipid_dataframe.studyId.str.contains('phs000007')]\n",
    "\n",
    "filtered_lipid_dataframe = filtered_lipid_dataframe[filtered_lipid_dataframe.description.str.contains('exam|visit', case = False)]\n",
    "\n",
    "# Save exam # as exam_number\n",
    "filtered_lipid_dataframe['exam_number'] = filtered_lipid_dataframe['description'].str.extract('(exam \\d+|visit \\d+)', flags = re.IGNORECASE)\n",
    "filtered_lipid_dataframe['exam_number'] = filtered_lipid_dataframe['exam_number'].str.replace('(exam|visit)', '', flags = re.IGNORECASE).str.lower()\n",
    "filtered_lipid_dataframe['exam_number'] = filtered_lipid_dataframe['exam_number'].astype('int')\n",
    "\n",
    "# Save variable name without exam # as longvar\n",
    "filtered_lipid_dataframe['varname_noexam'] = filtered_lipid_dataframe['description'].str.replace('(exam \\d+|visit \\d+)', '', flags = re.IGNORECASE).str.lower()\n",
    "\n",
    "\n",
    "filtered_lipid_dataframe = filtered_lipid_dataframe[['varId', 'var_name', 'description', 'dataTableId', 'dataTableDescription', 'exam_number', 'varname_noexam']]\n",
    "\n",
    "filtered_lipid_dataframe = filtered_lipid_dataframe.drop_duplicates(subset=['description', 'exam_number', 'varname_noexam'])\n",
    "filtered_lipid_dataframe\n"
   ]
  },
  {
   "cell_type": "code",
   "execution_count": null,
   "id": "a51f16b9",
   "metadata": {},
   "outputs": [],
   "source": [
    "longitudinal_lipid_summary = filtered_lipid_dataframe.pivot(index = 'exam_number', columns = 'varname_noexam', values = 'varId')\n",
    "longitudinal_lipid_summary.fillna('', inplace=True)\n",
    "longitudinal_lipid_summary\n"
   ]
  },
  {
   "cell_type": "markdown",
   "id": "0d18703d",
   "metadata": {},
   "source": [
    "Now that we know which longitudinal variables are available to us, we can choose a variable of interest and extract the patient and visit level data associated with it.\n"
   ]
  },
  {
   "cell_type": "markdown",
   "id": "a9474aa0",
   "metadata": {},
   "source": [
    "## Isolate variables of interest\n",
    "\n",
    "In this example, we will further investigate the 'treated for lipids' variable, which appears to be the most robust.\n",
    "\n",
    "We will add all the associated variable IDs to our PIC-SURE query.\n",
    "\n",
    "To do so, we need the HPDS_PATH for each variable ID.\n"
   ]
  },
  {
   "cell_type": "code",
   "execution_count": null,
   "id": "eb5998cd",
   "metadata": {},
   "outputs": [],
   "source": [
    "variable_ids = longitudinal_lipid_summary[['treated for lipids, ']]\n",
    "hpds_paths = variable_ids.merge(lipid_dataframe[['varId', 'HPDS_PATH']], \n",
    "                                left_on = 'treated for lipids, ', \n",
    "                                right_on = \"varId\", \n",
    "                                how = 'left')\n",
    "hpds_paths = hpds_paths['HPDS_PATH']\n",
    "hpds_paths\n"
   ]
  },
  {
   "cell_type": "markdown",
   "id": "c4db4169",
   "metadata": {},
   "source": [
    "## Query PIC-SURE for longitudinal variables of interest\n",
    "First, we will create a new query object."
   ]
  },
  {
   "cell_type": "code",
   "execution_count": null,
   "id": "721d61e0",
   "metadata": {},
   "outputs": [],
   "source": [
    "authPicSure = bdc.useAuthPicSure()\n",
    "\n",
    "longitudinal_query = authPicSure.query()"
   ]
  },
  {
   "cell_type": "markdown",
   "id": "92bceac9",
   "metadata": {},
   "source": [
    "We will use the `query.anyof().add()` method. This will allow us to include all input variables, but only participant records that contain at least one non-null value for those variables in the output. See the `1_PICSURE_API_101.ipynb` notebook for a more in depth explanation of query methods."
   ]
  },
  {
   "cell_type": "code",
   "execution_count": null,
   "id": "e4115e68",
   "metadata": {},
   "outputs": [],
   "source": [
    "longitudinal_query.anyof().add(hpds_paths)"
   ]
  },
  {
   "cell_type": "markdown",
   "id": "d5fa56c6",
   "metadata": {},
   "source": [
    "Retrieve the query results as a dataframe"
   ]
  },
  {
   "cell_type": "code",
   "execution_count": null,
   "id": "86e83780",
   "metadata": {},
   "outputs": [],
   "source": [
    "longitudinal_results = longitudinal_query.getResultsDataFrame()\n"
   ]
  },
  {
   "cell_type": "markdown",
   "id": "11ef65b2",
   "metadata": {},
   "source": [
    "Our dataframe contains each exam / visit for the longitudinal variable of interest, with each row representing a patient. In order to be included in the output, each patient must have at least one reported value for one of the exams / visits for the variable of interest"
   ]
  },
  {
   "cell_type": "code",
   "execution_count": null,
   "id": "3b364468",
   "metadata": {},
   "outputs": [],
   "source": [
    "longitudinal_results"
   ]
  },
  {
   "cell_type": "code",
   "execution_count": null,
   "id": "f258b04f",
   "metadata": {},
   "outputs": [],
   "source": []
  }
 ],
 "metadata": {
  "kernelspec": {
   "display_name": "conda_python3",
   "language": "python",
   "name": "conda_python3"
  },
  "language_info": {
   "codemirror_mode": {
    "name": "ipython",
    "version": 3
   },
   "file_extension": ".py",
   "mimetype": "text/x-python",
   "name": "python",
   "nbconvert_exporter": "python",
   "pygments_lexer": "ipython3",
   "version": "3.6.13"
  },
  "toc": {
   "base_numbering": 1,
   "nav_menu": {},
   "number_sections": true,
   "sideBar": true,
   "skip_h1_title": false,
   "title_cell": "Table of Contents",
   "title_sidebar": "Contents",
   "toc_cell": false,
   "toc_position": {},
   "toc_section_display": true,
   "toc_window_display": false
  }
 },
 "nbformat": 4,
 "nbformat_minor": 5
}
