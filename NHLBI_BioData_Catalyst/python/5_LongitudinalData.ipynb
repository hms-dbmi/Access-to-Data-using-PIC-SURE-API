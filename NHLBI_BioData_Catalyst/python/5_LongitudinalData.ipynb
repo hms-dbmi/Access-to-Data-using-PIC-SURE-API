{
 "cells": [
  {
   "cell_type": "markdown",
   "id": "18ec945f",
   "metadata": {},
   "source": [
    "# Identifying and Extracting Longitudinal Variables using python PIC-SURE API"
   ]
  },
  {
   "cell_type": "markdown",
   "id": "8581a929",
   "metadata": {},
   "source": [
    "This tutorial notebook will demonstrate how to identify and extract longitudinal variables using the python PIC-SURE API. Longitudinal variables are defined as containing multiple 'Exam' or 'Visit' descriptions within their concept path.\n",
    "\n",
    "\n",
    "In this example, we will find the patient level data for a lipid-related longitudinal variable within the Framingham Heart study. We will:\n",
    "1. Identify what longitudinal variables are associated with the keywords of interest (lipid, triglyceride), and how many exams / visits are associated with each one\n",
    "2. Select a longitudinal variable of interest from a specific study (Framingham heart study)\n",
    "3. Extract patient level data into a dataframe where each rows represent patients and columns represent visits"
   ]
  },
  {
   "cell_type": "markdown",
   "id": "62ce49cf",
   "metadata": {},
   "source": [
    "For a more basic introduction to the python PIC-SURE API, see the `1_PICSURE_API_101.ipynb` notebook.\n",
    " \n",
    "**Before running this notebook, please be sure to get a user-specific security token. For more information about how to proceed, see the \\\"Get your security token\\\" instructions in the [README.md](https://github.com/hms-dbmi/Access-to-Data-using-PIC-SURE-API/tree/master/NHLBI_BioData_Catalyst#get-your-security-token).**"
   ]
  },
  {
   "cell_type": "markdown",
   "id": "7172f758",
   "metadata": {},
   "source": [
    "## Environment set-up\n",
    "\n",
    "### System requirements\n",
    "- Python 3.6 or later\n",
    "- pip python package manager, already available in most systems with a python interpreter installed\n",
    "\n",
    "### Install packages"
   ]
  },
  {
   "cell_type": "code",
   "execution_count": null,
   "id": "9ef5d160",
   "metadata": {},
   "outputs": [],
   "source": [
    "import re\n",
    "import numpy as np\n",
    "import pandas as pd\n",
    "import sys\n",
    "!{sys.executable} -m pip install --upgrade --force-reinstall git+https://github.com/hms-dbmi/pic-sure-python-client.git\n",
    "!{sys.executable} -m pip install --upgrade --force-reinstall git+https://github.com/hms-dbmi/pic-sure-python-adapter-hpds.git\n",
    "!{sys.executable} -m pip install --upgrade --force-reinstall git+https://github.com/hms-dbmi/pic-sure-biodatacatalyst-python-adapter-hpds.git@new-search\n",
    "\n",
    "import PicSureBdcAdapter"
   ]
  },
  {
   "cell_type": "markdown",
   "id": "e3be649c",
   "metadata": {},
   "source": [
    "## Connecting to a PIC-SURE network"
   ]
  },
  {
   "cell_type": "code",
   "execution_count": null,
   "id": "6ba2effa",
   "metadata": {},
   "outputs": [],
   "source": [
    "# Uncomment production URL when testing in production\n",
    "# PICSURE_network_URL = \"https://picsure.biodatacatalyst.nhlbi.nih.gov/picsure\"\n",
    "PICSURE_network_URL = \"https://biodatacatalyst.integration.hms.harvard.edu/picsure\"\n",
    "token_file = \"token.txt\"\n",
    "\n",
    "with open(token_file, \"r\") as f:\n",
    "    my_token = f.read()\n",
    "    \n",
    "bdc = PicSureBdcAdapter.Adapter(PICSURE_network_URL, my_token)"
   ]
  },
  {
   "cell_type": "markdown",
   "id": "18ad1b66",
   "metadata": {},
   "source": [
    "## Longitudinal Lipid Variable Example\n",
    "<font color='darkgreen'>**Goal: Extract lipid measurements from multiple visits. In this example, we will focus on the Framingham Heart Study (phs000007).**</font> \n",
    "\n",
    "In this notebook example, we will:\n",
    "1. Identify lipid-related variables in the Framingham Heart Study\n",
    "2. Identify which lipid variables are measured over time, for example across multiple visits or exams\n",
    "3. Identify which longitudinal lipid variable(s) are of interest\n",
    "4. Query PIC-SURE for the longitudinal lipid variable(s) of interest\n",
    "\n",
    "\n",
    "### Identify lipid-related variables in the Framingham Heart Study\n",
    "\n",
    "First, let's search the data dictionary in PIC-SURE. We will use a regular expression for the search term: `lipid|trigliceride`. This allows us to find all variables related to `lipid` *or* `trigliceride`. "
   ]
  },
  {
   "cell_type": "code",
   "execution_count": null,
   "id": "1e31055c",
   "metadata": {},
   "outputs": [],
   "source": [
    "lipid_dictionary = bdc.useDictionary().dictionary().find('lipid|trigliceride')\n",
    "lipid_dataframe = lipid_dictionary.dataframe()\n",
    "print(lipid_dataframe.shape)\n",
    "lipid_dataframe.head()\n"
   ]
  },
  {
   "cell_type": "markdown",
   "id": "cf1ca9f3",
   "metadata": {},
   "source": [
    "We are interested in variables from the Framingham Heart Study. The PHS number associated with this study is `phs000007`. If you don't know the PHS number for a study of interest, you can check the Data Access Dashboard in the PIC-SURE [User Interface](https://picsure.biodatacatalyst.nhlbi.nih.gov/psamaui/login).\n",
    "\n",
    "Here, we filter our variables dataframe to only include those where the studyId matches our PHS number of interest."
   ]
  },
  {
   "cell_type": "code",
   "execution_count": null,
   "id": "d8f9972d",
   "metadata": {},
   "outputs": [],
   "source": [
    "filtered_lipid_dataframe = lipid_dataframe[lipid_dataframe.studyId.str.contains('phs000007')]\n",
    "filtered_lipid_dataframe"
   ]
  },
  {
   "cell_type": "markdown",
   "id": "485924ff",
   "metadata": {},
   "source": [
    "As you can see, there are a number of variables in the Framingham Heart Study which are related to lipids or triglicerides. In this case study, we are interested specifically in `longitudinal` data, or variables which have been measured over time. "
   ]
  },
  {
   "cell_type": "markdown",
   "id": "3b81a03d",
   "metadata": {},
   "source": [
    "### Identify the longitudinal lipid variables\n",
    "In order to identify which lipid variables are measured over time, we will take advantage of the keywords `exam` and `visit`. Through a brief review of our lipid variables in the Framingham Heart Study, we can see that many variables contain an exam or visit number, indicating that it is longitudinal data.\n"
   ]
  },
  {
   "cell_type": "markdown",
   "id": "7cbf8617",
   "metadata": {},
   "source": [
    "First, we will filter our dataframe containing variables which are related to `lipid` or `triglyceride` in Framingham Heart Study to those which have the keywords `exam #` or `visit #`."
   ]
  },
  {
   "cell_type": "code",
   "execution_count": null,
   "id": "f94bae86",
   "metadata": {},
   "outputs": [],
   "source": [
    "filtered_lipid_dataframe = filtered_lipid_dataframe[filtered_lipid_dataframe.description.str.contains('exam|visit', case = False)]\n"
   ]
  },
  {
   "cell_type": "markdown",
   "id": "75268c19",
   "metadata": {},
   "source": [
    "Next, we will extract the exam or visit number of each variable into column `exam_number`."
   ]
  },
  {
   "cell_type": "code",
   "execution_count": null,
   "id": "6702310f",
   "metadata": {},
   "outputs": [],
   "source": [
    "# Save exam # as exam_number\n",
    "filtered_lipid_dataframe['exam_number'] = filtered_lipid_dataframe['description'].str.extract('(exam \\d+|visit \\d+)', flags = re.IGNORECASE)\n",
    "filtered_lipid_dataframe['exam_number'] = filtered_lipid_dataframe['exam_number'].str.replace('(exam|visit)', '', flags = re.IGNORECASE).str.lower()\n",
    "filtered_lipid_dataframe['exam_number'] = filtered_lipid_dataframe['exam_number'].astype('int')\n"
   ]
  },
  {
   "cell_type": "markdown",
   "id": "2f6df186",
   "metadata": {},
   "source": [
    "Now we save the variable name without the exam number as `varname_noexam`. This prepares us for the next step, where we will group the data by the variable name root."
   ]
  },
  {
   "cell_type": "code",
   "execution_count": null,
   "id": "ce9644ea",
   "metadata": {},
   "outputs": [],
   "source": [
    "# Save variable name without exam # as varname_noexam\n",
    "filtered_lipid_dataframe['varname_noexam'] = filtered_lipid_dataframe['description'].str.replace('(exam \\d+|visit \\d+)', '', flags = re.IGNORECASE).str.lower()\n"
   ]
  },
  {
   "cell_type": "markdown",
   "id": "cd933e85",
   "metadata": {},
   "source": [
    "Finally, we can return a summary table showing which variables have more than one exam recorded."
   ]
  },
  {
   "cell_type": "code",
   "execution_count": null,
   "id": "45fb0edd",
   "metadata": {},
   "outputs": [],
   "source": [
    "# Isolate columns of interest\n",
    "filtered_lipid_dataframe = filtered_lipid_dataframe[['varId', 'var_name', 'description', 'dataTableId', 'dataTableDescription', 'exam_number', 'varname_noexam']]\n",
    "\n",
    "# Remove duplicated rows\n",
    "filtered_lipid_dataframe = filtered_lipid_dataframe.drop_duplicates(subset=['description', 'exam_number', 'varname_noexam'])\n",
    "\n",
    "# Create summary table by pivoting the dataframe to show which variables have which exam # provided.\n",
    "longitudinal_lipid_summary = filtered_lipid_dataframe.pivot(index = 'exam_number', columns = 'varname_noexam', values = 'varId')\n",
    "longitudinal_lipid_summary.fillna('', inplace=True)\n",
    "longitudinal_lipid_summary\n"
   ]
  },
  {
   "cell_type": "markdown",
   "id": "94e6055e",
   "metadata": {},
   "source": [
    "Now that we know which longitudinal variables are available to us, we can choose a variable of interest and extract the patient and visit level data associated with it.\n"
   ]
  },
  {
   "cell_type": "markdown",
   "id": "f5cbe28a",
   "metadata": {},
   "source": [
    "### Identify which longitudinal lipid variable(s) are of interest\n",
    "\n",
    "We can see from the table above that the variable `treated for lipids` appears to be the most robust, with 32 exams recored.\n",
    "\n",
    "In this example, we will further investigate the `treated for lipids` variable by adding all the associated variable IDs to our PIC-SURE query.\n",
    "\n",
    "To do so, we need the HPDS_PATH for each variable ID.\n"
   ]
  },
  {
   "cell_type": "code",
   "execution_count": null,
   "id": "356fdc51",
   "metadata": {},
   "outputs": [],
   "source": [
    "variable_ids = longitudinal_lipid_summary[['treated for lipids, ']]\n",
    "hpds_paths = variable_ids.merge(lipid_dataframe[['varId', 'HPDS_PATH']], \n",
    "                                left_on = 'treated for lipids, ', \n",
    "                                right_on = \"varId\", \n",
    "                                how = 'left')\n",
    "hpds_paths = hpds_paths['HPDS_PATH']\n",
    "hpds_paths\n"
   ]
  },
  {
   "cell_type": "markdown",
   "id": "0473b266",
   "metadata": {},
   "source": [
    "### Query PIC-SURE for longitudinal variables of interest\n",
    "First, we will create a new query object."
   ]
  },
  {
   "cell_type": "code",
   "execution_count": null,
   "id": "28b9f9bf",
   "metadata": {},
   "outputs": [],
   "source": [
    "authPicSure = bdc.useAuthPicSure()\n",
    "\n",
    "longitudinal_query = authPicSure.query()"
   ]
  },
  {
   "cell_type": "markdown",
   "id": "d7f8f74e",
   "metadata": {},
   "source": [
    "We will use the `query.anyof().add()` method. This will allow us to include all input variables, but only participant records that contain at least one non-null value for those variables in the output. See the `1_PICSURE_API_101.ipynb` notebook for a more in depth explanation of query methods."
   ]
  },
  {
   "cell_type": "code",
   "execution_count": null,
   "id": "c99c178a",
   "metadata": {},
   "outputs": [],
   "source": [
    "longitudinal_query.anyof().add(hpds_paths)"
   ]
  },
  {
   "cell_type": "markdown",
   "id": "720fd3ad",
   "metadata": {},
   "source": [
    "Retrieve the query results as a dataframe"
   ]
  },
  {
   "cell_type": "code",
   "execution_count": null,
   "id": "5b441283",
   "metadata": {},
   "outputs": [],
   "source": [
    "longitudinal_results = longitudinal_query.getResultsDataFrame()\n"
   ]
  },
  {
   "cell_type": "markdown",
   "id": "278feacd",
   "metadata": {},
   "source": [
    "Our dataframe contains each exam / visit for the longitudinal variable of interest, with each row representing a patient. In order to be included in the output, each patient must have at least one reported value for one of the exams / visits for the variable of interest"
   ]
  },
  {
   "cell_type": "code",
   "execution_count": null,
   "id": "5f9331f5",
   "metadata": {},
   "outputs": [],
   "source": [
    "longitudinal_results"
   ]
  },
  {
   "cell_type": "code",
   "execution_count": null,
   "id": "7d0affa4",
   "metadata": {},
   "outputs": [],
   "source": []
  }
 ],
 "metadata": {
  "kernelspec": {
   "display_name": "conda_python3",
   "language": "python",
   "name": "conda_python3"
  },
  "language_info": {
   "codemirror_mode": {
    "name": "ipython",
    "version": 3
   },
   "file_extension": ".py",
   "mimetype": "text/x-python",
   "name": "python",
   "nbconvert_exporter": "python",
   "pygments_lexer": "ipython3",
   "version": "3.6.13"
  },
  "toc": {
   "base_numbering": 1,
   "nav_menu": {},
   "number_sections": true,
   "sideBar": true,
   "skip_h1_title": false,
   "title_cell": "Table of Contents",
   "title_sidebar": "Contents",
   "toc_cell": false,
   "toc_position": {},
   "toc_section_display": true,
   "toc_window_display": false
  }
 },
 "nbformat": 4,
 "nbformat_minor": 5
}
