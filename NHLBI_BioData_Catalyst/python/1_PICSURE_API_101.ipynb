{
 "cells": [
  {
   "cell_type": "markdown",
   "id": "3ee0277d",
   "metadata": {},
   "source": [
    "# Introduction to the PIC-SURE API\n",
    "This is a tutorial notebook aimed to get the user quickly up and running with the PIC-SURE API. "
   ]
  },
  {
   "cell_type": "markdown",
   "id": "3b1da717",
   "metadata": {},
   "source": [
    "## PIC-SURE python API\n",
    "### What is PIC-SURE?\n",
    "As part of the BioData Catalyst Initiative, the Patient Information Commons: Standard Unification of Research Elements (PIC-SURE) platform has been integrating clinical and genomic datasets from multiple TOPMed and TOPMed-related studies funded by the National Heart, Lung, and Blood Institute (NHLBI). \n",
    "\n",
    "Original data exposed through the PIC-SURE API encompasses a large heterogeneity of data organization underneath. PIC-SURE hides this complexity and esposes the different study datasets in a single tabular format. By simplifying the process of data extraction, it allows investigators to focus on downstream analysis and to facilitate reproducible science. "
   ]
  },
  {
   "cell_type": "markdown",
   "id": "b11b3bfc",
   "metadata": {},
   "source": [
    "### More about PIC-SURE\n",
    "The API is available in two different programming languages, python and R, enabling investigators to query the database the same way using either language.\n",
    "\n",
    "PIC-SURE is a larger project from which the R and python PIC-SURE APIs are only a small part. Among other things, PIC-SURE also offers a graphical user interface that allows researchers to explore variables across multiple studies, filter participants that match criteria, and create cohorts from this interactive exploration.\n",
    "\n",
    "The python API is actively developed by the Avillach Lab at Harvard Medical School. \n",
    "\n",
    "PIC-SURE API GitHub repositories:\n",
    "* https://github.com/hms-dbmi/pic-sure-biodatacatalyst-python-adapter-hpds\n",
    "* https://github.com/hms-dbmi/pic-sure-python-adapter-hpds\n",
    "* https://github.com/hms-dbmi/pic-sure-python-client"
   ]
  },
  {
   "cell_type": "markdown",
   "id": "e4627bfb",
   "metadata": {},
   "source": [
    " ------- "
   ]
  },
  {
   "cell_type": "markdown",
   "id": "1c4d210b",
   "metadata": {},
   "source": [
    "## Getting your user-specific security token"
   ]
  },
  {
   "cell_type": "markdown",
   "id": "9e28d61e",
   "metadata": {},
   "source": [
    "**Before running this notebook, please be sure to review the \"Get your security token\" documentation, which exists in the NHLBI_BioData_Catalyst [README.md file](https://github.com/hms-dbmi/Access-to-Data-using-PIC-SURE-API/tree/master/NHLBI_BioData_Catalyst#get-your-security-token). It explains about how to get a security token, which is mandatory to access the databases.**"
   ]
  },
  {
   "cell_type": "markdown",
   "id": "8f4ecc56",
   "metadata": {},
   "source": [
    "## Environment set-up\n",
    "\n",
    "### Pre-requisites\n",
    "* python 3.6 or later\n",
    "* pip python package manager, already available in most systems with a python interpreter installed (link to pip)\n",
    "\n",
    "### Install packages\n",
    "The first step to using the PIC-SURE API is to install the packages needed. The following code installs the PIC-SURE API components from GitHub, specifically:\n",
    "* PIC-SURE Client\n",
    "* PIC-SURE Adapter\n",
    "* BioData Catalyst PIC-SURE Adapter"
   ]
  },
  {
   "cell_type": "code",
   "execution_count": null,
   "id": "de14db95",
   "metadata": {
    "scrolled": true
   },
   "outputs": [],
   "source": [
    "import pandas as pd\n",
    "import matplotlib.pyplot as plt\n",
    "import sys\n",
    "!{sys.executable} -m pip install --upgrade --force-reinstall git+https://github.com/hms-dbmi/pic-sure-python-client.git\n",
    "!{sys.executable} -m pip install --upgrade --force-reinstall git+https://github.com/hms-dbmi/pic-sure-python-adapter-hpds.git\n",
    "!{sys.executable} -m pip install --upgrade --force-reinstall git+https://github.com/hms-dbmi/pic-sure-biodatacatalyst-python-adapter-hpds.git@new-search\n",
    "\n",
    "import PicSureBdcAdapter"
   ]
  },
  {
   "cell_type": "markdown",
   "id": "563ee647",
   "metadata": {},
   "source": [
    "## Connecting to a PIC-SURE resource\n",
    "\n",
    "The following is required to get access to the PIC-SURE API:\n",
    "* a network URL\n",
    "* a user-specific security token\n",
    "\n",
    "The following code specifies the network URL as the BioData Catalyst Powered by PIC-SURE URL and references the user-specific token saved as `token.txt`.\n",
    "\n",
    "If you have not already retrieved your user-specific token, please refer to the \"Get your security token\" section of the [README.md](https://github.com/hms-dbmi/Access-to-Data-using-PIC-SURE-API/tree/master/NHLBI_BioData_Catalyst#get-your-security-token) file."
   ]
  },
  {
   "cell_type": "code",
   "execution_count": null,
   "id": "ed723f9e",
   "metadata": {},
   "outputs": [],
   "source": [
    "# Uncomment production URL when testing in production\n",
    "# PICSURE_network_URL = \"https://picsure.biodatacatalyst.nhlbi.nih.gov/picsure\"\n",
    "PICSURE_network_URL = \"https://biodatacatalyst.integration.hms.harvard.edu/picsure\"\n",
    "token_file = \"token.txt\"\n",
    "\n",
    "with open(token_file, \"r\") as f:\n",
    "    my_token = f.read()\n",
    "    \n",
    "bdc = PicSureBdcAdapter.Adapter(PICSURE_network_URL, my_token)"
   ]
  },
  {
   "cell_type": "markdown",
   "id": "9b6d1711",
   "metadata": {},
   "source": [
    "## Getting help with the PIC-SURE API\n",
    "Each of the objects in the PIC-SURE API have a `help()` method that you can use to get more information about its functionalities."
   ]
  },
  {
   "cell_type": "code",
   "execution_count": null,
   "id": "cba1697e",
   "metadata": {},
   "outputs": [],
   "source": [
    "bdc.help()"
   ]
  },
  {
   "cell_type": "markdown",
   "id": "c707be36",
   "metadata": {},
   "source": [
    "For example, the above output lists and briefly defines the four methods that can be used with the `bdc` resource. "
   ]
  },
  {
   "cell_type": "markdown",
   "id": "85f6eb99",
   "metadata": {},
   "source": [
    "## Using the PIC-SURE variables dictionary\n",
    "Now that you have set up your connection to the PIC-SURE API, let's determine which study or studies you are authorized to access. The `dictionary` method can be used to search the data dictionary for a specific term or to retrieve information about all the variables you are authorized to access."
   ]
  },
  {
   "cell_type": "code",
   "execution_count": null,
   "id": "234fcb8f",
   "metadata": {},
   "outputs": [],
   "source": [
    "dictionary = bdc.useDictionary().dictionary() # Set up the dictionary\n",
    "all_variables = dictionary.find() # Retrieve all variables you have access to"
   ]
  },
  {
   "cell_type": "code",
   "execution_count": null,
   "id": "a5ff0918",
   "metadata": {},
   "outputs": [],
   "source": [
    "## Code used to identify a bug\n",
    "\n",
    "#concepts = all_variables.listPaths()\n",
    "#for i in concepts:\n",
    "#    phs = i.split(\"\\\\\")[1]\n",
    "#    if 'phs' not in phs:\n",
    "#        print(i)\n",
    "## Note: all concept paths start with phs\n",
    "## There aren't _consents or anything like that\n",
    "#print(all_variables.count())\n",
    "#print(len(concepts))"
   ]
  },
  {
   "cell_type": "code",
   "execution_count": null,
   "id": "76d9678e",
   "metadata": {},
   "outputs": [],
   "source": [
    "list_all_variables = all_variables.listPaths()\n",
    "studies = set([i.split(\"\\\\\")[1] for i in list_all_variables])\n",
    "if len(studies) > 0:\n",
    "    print(\"You are authorized to access the following studies:\\n\", studies)\n",
    "else:\n",
    "    print(\"You are not authorized to access any studies.\")"
   ]
  },
  {
   "cell_type": "markdown",
   "id": "24308742",
   "metadata": {},
   "source": [
    "### ***Note: if you do not see any studies listed above, you are not authorized to access any data. The rest of the notebook will not work.*** \n",
    "Let's save the first study to use as an example for the rest of the notebook."
   ]
  },
  {
   "cell_type": "code",
   "execution_count": null,
   "id": "dc30a77e",
   "metadata": {},
   "outputs": [],
   "source": [
    "phs_number = list(studies)[-1]\n",
    "print(\"The phs accession being used is\", phs_number)"
   ]
  },
  {
   "cell_type": "markdown",
   "id": "079448e7",
   "metadata": {},
   "source": [
    "Now let's find all of the variables associated with that study. We can search for these using the `find()` method and searching the phs accession number. \n",
    "Additionally, we can view a list of the variables returned from this search using the `listPaths()` method."
   ]
  },
  {
   "cell_type": "code",
   "execution_count": null,
   "id": "a9f896d3",
   "metadata": {},
   "outputs": [],
   "source": [
    "my_variables = dictionary.find(phs_number) # Search for the phs accession number\n",
    "print(\"There are\", my_variables.count(), \"variables that were returned for your search.\")\n",
    "print(\"Here are some of the variables you have access to:\\n\", my_variables.listPaths()[0:10])"
   ]
  },
  {
   "cell_type": "markdown",
   "id": "417911fb",
   "metadata": {},
   "source": [
    "# Will need to update this accordingly once BioLINCC studies are included\n",
    "\n",
    "The above output lists all of the variables you are authorized to access in the PIC-SURE. These variables are listed as concept paths organized in the \"phs\", \"pht\", and \"phv\" format that is used by the [database of Genotypes and Phenotypes (dbGaP)](https://www.ncbi.nlm.nih.gov/gap/). The concept path is organized in the following format:\n",
    "\n",
    "**\\\\\\phs\\\\\\pht\\\\\\phv\\\\\\variable name\\\\\\**\n",
    "\n",
    "* **phs** corresponds to the study accession number \n",
    "* **pht** corresponds to the trait table accession number\n",
    "* **phv** corresponds to the variable accession number\n",
    "* the **variable name** corresponds to the encoded variable name that was used by the submitters of the data\n",
    "\n",
    "Generally, a given study will have several tables, and those tables have several variables. You can find more information on the dbGaP data structure [here](https://www.ncbi.nlm.nih.gov/pmc/articles/PMC2031016/).\n",
    "\n",
    "We can view these variables in a detailed dataframe format using the `dataframe()` method."
   ]
  },
  {
   "cell_type": "code",
   "execution_count": null,
   "id": "a4c75c87",
   "metadata": {},
   "outputs": [],
   "source": [
    "my_variables_df = my_variables.dataframe() # Save the results as a dataframe\n",
    "my_variables_df.head() # View the first 5 rows "
   ]
  },
  {
   "cell_type": "code",
   "execution_count": null,
   "id": "2906a568",
   "metadata": {},
   "outputs": [],
   "source": [
    "my_variables_df.columns"
   ]
  },
  {
   "cell_type": "markdown",
   "id": "e5eb3263",
   "metadata": {},
   "source": [
    "We can also view additional information for individual variables using the `varInfo()` method. "
   ]
  },
  {
   "cell_type": "code",
   "execution_count": null,
   "id": "08383d89",
   "metadata": {},
   "outputs": [],
   "source": [
    "first_var = my_variables.listPaths()[0]\n",
    "my_variables.varInfo(first_var)"
   ]
  },
  {
   "cell_type": "markdown",
   "id": "752e1bd1",
   "metadata": {},
   "source": [
    "Now you can try to search for a term on your own. Below is sample code on how to search for the term `sex`. To practice searching the data dictionary, you can change \"sex\" to a term you are interested in. If there are results for your term, you will see them displayed in the convenient dataframe format using the `displayResults()` method."
   ]
  },
  {
   "cell_type": "code",
   "execution_count": null,
   "id": "c5e0b61a",
   "metadata": {},
   "outputs": [],
   "source": [
    "my_search = dictionary.find(\"sex\") # Change sex to be your term of interest\n",
    "if len(my_search.listPaths()) > 0:\n",
    "    my_search.displayResults()\n",
    "else:\n",
    "    print(\"Search term returned no results. Please try searching a different term.\")"
   ]
  },
  {
   "cell_type": "markdown",
   "id": "5348c574",
   "metadata": {},
   "source": [
    "## Using PIC-SURE to build a query and retrieve data\n",
    "You can also use the PIC-SURE API to build a query and retrieve data. With this functionality, you can filter based on specific variables, add others, and export the data as a dataframe into this notebook. \n",
    "\n",
    "The first step to this is setting up the `authQuery`."
   ]
  },
  {
   "cell_type": "code",
   "execution_count": null,
   "id": "5a7bd0c5",
   "metadata": {},
   "outputs": [],
   "source": [
    "authPicSure = bdc.useAuthPicSure()\n",
    "authQuery = authPicSure.query()"
   ]
  },
  {
   "cell_type": "markdown",
   "id": "3fcef44d",
   "metadata": {},
   "source": [
    "There are several methods that can be used to build a query, which are listed below.\n",
    "\n",
    "| Method | Arguments / Input | Output|\n",
    "|--------|-------------------|-------|\n",
    "| query.select.add() | variable names (string) or list of strings | all variables included in the list (no record subsetting)|\n",
    "| query.require.add() | variable names (string) or list of strings | all variables; only records that do not contain null values for input variables |\n",
    "| query.anyof.add() | variable names (string) or list of strings | all variables; only records that contain at least one non-null value for input variables |\n",
    "| query.filter.add() | variable name and additional filtering values | input variable; only records that match filter criteria |"
   ]
  },
  {
   "cell_type": "markdown",
   "id": "1d1462de",
   "metadata": {},
   "source": [
    "### Build a query with a categorical variable\n",
    "Let's practice building a query by filtering on variables. First, let's select a categorical variable to use. We can identify one using the `is_categorical` column of the variable dataframe."
   ]
  },
  {
   "cell_type": "code",
   "execution_count": null,
   "id": "83c0c0b4",
   "metadata": {},
   "outputs": [],
   "source": [
    "i = 0\n",
    "categories = []\n",
    "while len(categories) == 0:\n",
    "    categorical_var_info = my_variables_df[my_variables_df.is_categorical == True].iloc[i]\n",
    "    categorical_var = categorical_var_info.HPDS_PATH\n",
    "    categories = list(categorical_var_info.values[0].values())\n",
    "    i += 1\n",
    "    \n",
    "filter_category = categories[0]\n",
    "print(\"We will use the PIC-SURE variable\", categorical_var, \"which is\", categorical_var_info.description)\n",
    "print(\"\\nHere are the categories associated with the variable:\", categories)\n",
    "print(\"\\nWe will filter to participants with the value '\", filter_category, \"' for the variable.\")"
   ]
  },
  {
   "cell_type": "markdown",
   "id": "ad5c0b84",
   "metadata": {},
   "source": [
    "We now have the PIC-SURE variable and the value to apply to the filter saved. We can use the `filter()` method to add this information to our query. "
   ]
  },
  {
   "cell_type": "code",
   "execution_count": null,
   "id": "b635a9b3",
   "metadata": {},
   "outputs": [],
   "source": [
    "authQuery.filter().add(categorical_var, filter_category)"
   ]
  },
  {
   "cell_type": "markdown",
   "id": "90c2a44f",
   "metadata": {},
   "source": [
    "Note that though we are only filtering by one value, you can filter by multiple values by passing a list into `filter()`.\n",
    "\n",
    "Now we can export our filtered data to a pandas dataframe in this notebook using `getResultsDataFrame()`."
   ]
  },
  {
   "cell_type": "code",
   "execution_count": null,
   "id": "47026fc2",
   "metadata": {},
   "outputs": [],
   "source": [
    "results = authQuery.getResultsDataFrame(low_memory = False)\n",
    "results.head()"
   ]
  },
  {
   "cell_type": "markdown",
   "id": "ce9c3d36",
   "metadata": {},
   "source": [
    "In the data dictionary dataframe shown previously, each row represented a single concept path or variable. In the query dataframe, the concept paths are added as columns with each row representing a participant with data that matches your query. \n",
    "\n",
    "The dataframe above should contain some automatically exported concept paths, such as `Patient ID`, `Parent Study Accession with Subject ID`, `Topmed Study Accession with Subject ID`, and `consents`, and the concept path we added to our query (`categorical_var`). Additionally, all participants should have the value we used to filter for our added concept path."
   ]
  },
  {
   "cell_type": "markdown",
   "id": "311f7856",
   "metadata": {},
   "source": [
    "We can see how this query filtering worked by comparing the resulting dataframe to the full unfiltered data for this variable. Let's build a query that retrieves the data from all participants that have data for the categorical variable of interest using `require()`."
   ]
  },
  {
   "cell_type": "code",
   "execution_count": null,
   "id": "5f4797ef",
   "metadata": {},
   "outputs": [],
   "source": [
    "authQuery = authPicSure.query() # Initialize a new query\n",
    "authQuery.require().add(categorical_var) # Use require() and the categorical_var\n",
    "full_results = authQuery.getResultsDataFrame(low_memory = False) # Get results dataframe"
   ]
  },
  {
   "cell_type": "code",
   "execution_count": null,
   "id": "e831dcea",
   "metadata": {},
   "outputs": [],
   "source": [
    "# Visualize the results with pie charts\n",
    "full_stats = full_results[categorical_var].value_counts()\n",
    "plt.pie(full_stats, labels = full_stats.index)\n",
    "plt.title(\"Before filtering variable\\n\"+categorical_var)\n",
    "plt.show()\n",
    "stats = results[categorical_var].value_counts()\n",
    "plt.pie(stats, labels = stats.index)\n",
    "plt.title(\"After filtering variable\\n\"+categorical_var)\n",
    "plt.show()"
   ]
  },
  {
   "cell_type": "markdown",
   "id": "c5fc5c8b",
   "metadata": {},
   "source": [
    "### Build a query with a continuous variable\n",
    "Similarly, we can create a query using a continuous variable. Instead of using the `is_continuous` column, let's make use of the `logical_max` and `logical_min` columns to determine the range of values that can be selected for our query."
   ]
  },
  {
   "cell_type": "markdown",
   "id": "ca1180d4",
   "metadata": {},
   "source": [
    "# Data dictionary that Tom is creating will have a reliable min and a reliable max that does indeed match the data\n",
    "\n",
    "# Code below is currently broken, will need to update to exclude logical_max and logical_min"
   ]
  },
  {
   "cell_type": "code",
   "execution_count": null,
   "id": "0358b29f",
   "metadata": {},
   "outputs": [],
   "source": [
    "continuous_var_info = my_variables_df[~pd.isna(my_variables_df.logical_max)].iloc[0] # Filter to the first continuous variable\n",
    "continuous_var = continuous_var_info.HPDS_PATH\n",
    "print(\"We will use the PIC-SURE variable\", continuous_var, \"which is\", continuous_var_info.description)\n",
    "value_range = [float(continuous_var_info.logical_min), float(continuous_var_info.logical_max)]\n",
    "print(\"\\nHere is the range of values that is associated with the variable:\", value_range)\n",
    "max_value = value_range[1]\n",
    "min_value = value_range[1] - (value_range[1] - value_range[0])/2\n",
    "print(\"\\nWe will filter to participants with the values between\", min_value, \"and\", max_value, \"for the variable.\")"
   ]
  },
  {
   "cell_type": "markdown",
   "id": "e36588f9",
   "metadata": {},
   "source": [
    "# Show a varInfo on this variable to provide more information"
   ]
  },
  {
   "cell_type": "markdown",
   "id": "ad111257",
   "metadata": {},
   "source": [
    "Again, we can use the `filter()` method to add the continuous variable to the query. Once added, we can retrieve our results dataframe."
   ]
  },
  {
   "cell_type": "code",
   "execution_count": null,
   "id": "9b39fd6a",
   "metadata": {},
   "outputs": [],
   "source": [
    "authQuery = authPicSure.query() # Start a new query\n",
    "authQuery.filter().add(continuous_var, min_value, max_value)"
   ]
  },
  {
   "cell_type": "code",
   "execution_count": null,
   "id": "b9774e7a",
   "metadata": {},
   "outputs": [],
   "source": [
    "results = authQuery.getResultsDataFrame(low_memory = False)\n",
    "results.head()"
   ]
  },
  {
   "cell_type": "markdown",
   "id": "76c92b3b",
   "metadata": {},
   "source": [
    "The above dataframe should contain the variable we selected to add to the query. Additionally, the values listed as part of that variable should be within the range of values we defined.  \n",
    "\n",
    "# Link back to data dictionary\n",
    "# Filtered range vs. require (no filter) histograms --> is there a way to overlay these histograms?"
   ]
  },
  {
   "cell_type": "markdown",
   "id": "f812738b",
   "metadata": {},
   "source": [
    "### Build a query with multiple variables\n",
    "You can also add multiple variables to a single query. Let's build a query with the first five variables for the study of interest."
   ]
  },
  {
   "cell_type": "code",
   "execution_count": null,
   "id": "60d1cf69",
   "metadata": {},
   "outputs": [],
   "source": [
    "query_vars = my_variables.listPaths()[0:5]\n",
    "print(\"We will add the following variables to the query:\", query_vars)"
   ]
  },
  {
   "cell_type": "markdown",
   "id": "a3bc16aa",
   "metadata": {},
   "source": [
    "We can use a different method, `anyof()`, to add variables to the query. This will filter to participants that have data for at least one of the variables added.  "
   ]
  },
  {
   "cell_type": "code",
   "execution_count": null,
   "id": "ef84e75c",
   "metadata": {},
   "outputs": [],
   "source": [
    "authQuery = authPicSure.query() # Start a new query\n",
    "authQuery.anyof().add(query_vars)"
   ]
  },
  {
   "cell_type": "code",
   "execution_count": null,
   "id": "a224d3ea",
   "metadata": {},
   "outputs": [],
   "source": [
    "results = authQuery.getResultsDataFrame(low_memory = False)\n",
    "results.head()"
   ]
  },
  {
   "cell_type": "markdown",
   "id": "c15c2384",
   "metadata": {},
   "source": [
    "### Selecting consent groups\n",
    "\n",
    "PIC-SURE will limit results based on which study and consent groups you have been individually authorized to access. In some cases, such as instances where you can access multiple studies and/or consent groups, you may need to limit your results further to only a subset of the groups you have been authorized to access.\n",
    "\n",
    "Let's see which studies and consent groups you are authorized to access using the `show()` method of the query.\n",
    "\n",
    "# Need to add this section\n",
    "the way to do this is delete the _consents and add back with new consent group"
   ]
  },
  {
   "cell_type": "code",
   "execution_count": null,
   "id": "5917ef1b",
   "metadata": {},
   "outputs": [],
   "source": [
    "authQuery = authPicSure.query()\n",
    "authQuery.show()"
   ]
  },
  {
   "cell_type": "markdown",
   "id": "6e6218e7",
   "metadata": {},
   "source": [
    "The `\\\\_consents\\\\` section of the output shown above lists all of the phs accession numbers and consent codes that you are authorized to access. \n",
    "\n",
    "To query on specific consent groups in this list, you must first clear the list of values within the `\\\\_consents\\\\` section and then manually replace them. Let's practice this by copying and pasting a phs accession number and consent code, deleting the `\\\\_consents\\\\` field, and adding it back with our selected consent code.\n",
    "\n",
    "*Note that trying to manually add a consent group which you are not authorized to access will results in errors downstream.*"
   ]
  },
  {
   "cell_type": "code",
   "execution_count": null,
   "id": "e8ffa820",
   "metadata": {},
   "outputs": [],
   "source": [
    "consent_group_filter = \"phs000964.c1\"#\"<<<Paste consent group here>>>\"\n",
    "authQuery.filter().delete(\"\\\\_consents\\\\\")\n",
    "authQuery.filter().add(\"\\\\_consents\\\\\", consent_group_filter)"
   ]
  },
  {
   "cell_type": "markdown",
   "id": "a304cb83",
   "metadata": {},
   "source": [
    "Now your query is set to select only variables and participants from the phs accession and consent code you selected. From here, you can build out your query as shown above."
   ]
  },
  {
   "cell_type": "markdown",
   "id": "3369dc3c",
   "metadata": {},
   "source": [
    "### Retrieving data from a query built in the PIC-SURE user interface (UI)\n",
    "\n",
    "You are able to retrieve the results of a query that you have previously built using the [PIC-SURE UI](https://picsure.biodatacatalyst.nhlbi.nih.gov/psamaui/). After you have built your query and filtered to your cohort of interest, click the \"Select data for export\" button in the **What is this box called?!?!**. \n",
    "\n",
    "# Need to finish this section when the UI is complete"
   ]
  }
 ],
 "metadata": {
  "kernelspec": {
   "display_name": "conda_python3",
   "language": "python",
   "name": "conda_python3"
  },
  "language_info": {
   "codemirror_mode": {
    "name": "ipython",
    "version": 3
   },
   "file_extension": ".py",
   "mimetype": "text/x-python",
   "name": "python",
   "nbconvert_exporter": "python",
   "pygments_lexer": "ipython3",
   "version": "3.6.13"
  }
 },
 "nbformat": 4,
 "nbformat_minor": 5
}
