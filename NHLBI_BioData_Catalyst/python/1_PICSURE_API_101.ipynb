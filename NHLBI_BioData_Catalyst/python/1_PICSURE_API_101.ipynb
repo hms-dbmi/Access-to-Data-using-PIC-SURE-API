{
 "cells": [
  {
   "cell_type": "markdown",
   "id": "bdccad7f",
   "metadata": {},
   "source": [
    "# Introduction to the PIC-SURE API\n",
    "This is a tutorial notebook aimed to get the user quickly up and running with the PIC-SURE API. "
   ]
  },
  {
   "cell_type": "markdown",
   "id": "07adb6d3",
   "metadata": {},
   "source": [
    "## PIC-SURE python API\n",
    "### What is PIC-SURE?\n",
    "As part of the *NHLBI BioData Catalyst® (BDC)* ecosystem, the Patient Information Commons: Standard Unification of Research Elements (PIC-SURE) platform has been integrating clinical and genomic datasets from multiple TOPMed and TOPMed-related studies funded by the National Heart, Lung, and Blood Institute (NHLBI). \n",
    "\n",
    "Original data exposed through the PIC-SURE API encompasses a large heterogeneity of data organization underneath. PIC-SURE hides this complexity and esposes the different study datasets in a single tabular format. By simplifying the process of data extraction, it allows investigators to focus on downstream analysis and to facilitate reproducible science. "
   ]
  },
  {
   "cell_type": "markdown",
   "id": "fbb382d6",
   "metadata": {},
   "source": [
    "### More about PIC-SURE\n",
    "The API is available in two different programming languages, python and R, enabling investigators to query the database the same way using either language.\n",
    "\n",
    "PIC-SURE is a larger project from which the R and python PIC-SURE APIs are only a small part. Among other things, PIC-SURE also offers a graphical user interface that allows researchers to explore variables across multiple studies, filter participants that match criteria, and create cohorts from this interactive exploration.\n",
    "\n",
    "The python API is actively developed by the Avillach Lab at Harvard Medical School. \n",
    "\n",
    "PIC-SURE API GitHub repositories:\n",
    "* https://github.com/hms-dbmi/pic-sure-biodatacatalyst-python-adapter-hpds\n",
    "* https://github.com/hms-dbmi/pic-sure-python-adapter-hpds\n",
    "* https://github.com/hms-dbmi/pic-sure-python-client"
   ]
  },
  {
   "cell_type": "markdown",
   "id": "d64c4076",
   "metadata": {},
   "source": [
    " ------- "
   ]
  },
  {
   "cell_type": "markdown",
   "id": "5899f19e",
   "metadata": {},
   "source": [
    "## Getting your user-specific security token"
   ]
  },
  {
   "cell_type": "markdown",
   "id": "f33abee4",
   "metadata": {},
   "source": [
    "**Before running this notebook, please be sure to review the \"Get your security token\" documentation in the [`README.md` file](../README.md). It explains about how to get a security token, which is mandatory to access the databases.**"
   ]
  },
  {
   "cell_type": "markdown",
   "id": "552bdf24",
   "metadata": {},
   "source": [
    "## Environment set-up\n",
    "\n",
    "### Pre-requisites\n",
    "* python 3.6 or later\n",
    "* pip python package manager, already available in most systems with a python interpreter installed (link to pip)\n",
    "\n",
    "### Install packages\n",
    "The first step to using the PIC-SURE API is to install the packages needed. The following code installs the PIC-SURE API components from GitHub, specifically:\n",
    "* PIC-SURE Client\n",
    "* PIC-SURE Adapter\n",
    "* BioData Catalyst PIC-SURE Adapter\n",
    "\n",
    "**Note that if you are using the dedicated PIC-SURE environment within the *BDC Powered by Seven Bridges* platform, the necessary packages have already been installed.**"
   ]
  },
  {
   "cell_type": "code",
   "execution_count": null,
   "id": "8ca336d1-feb8-408c-b3fa-8ab17015d39e",
   "metadata": {},
   "outputs": [],
   "source": [
    "import sys\n",
    "import pandas as pd\n",
    "import matplotlib.pyplot as plt\n",
    "# TERRA users uncomment the following line to specify package install location\n",
    "# sys.path.insert(0, r\"/home/jupyter/.local/lib/python3.7/site-packages\")"
   ]
  },
  {
   "cell_type": "code",
   "execution_count": null,
   "id": "04a0f225-1b8f-4580-ba0d-be33390b2943",
   "metadata": {},
   "outputs": [],
   "source": [
    "!{sys.executable} -m pip install --upgrade --force-reinstall git+https://github.com/hms-dbmi/pic-sure-python-client.git\n",
    "!{sys.executable} -m pip install --upgrade --force-reinstall git+https://github.com/hms-dbmi/pic-sure-python-adapter-hpds.git\n",
    "!{sys.executable} -m pip install --upgrade --force-reinstall git+https://github.com/hms-dbmi/pic-sure-biodatacatalyst-python-adapter-hpds.git"
   ]
  },
  {
   "cell_type": "code",
   "execution_count": null,
   "id": "8d21f184-0ba1-49bd-84ad-82cc129ee1b9",
   "metadata": {},
   "outputs": [],
   "source": [
    "import PicSureClient\n",
    "import PicSureBdcAdapter"
   ]
  },
  {
   "cell_type": "markdown",
   "id": "71a81da8",
   "metadata": {},
   "source": [
    "## Connecting to a PIC-SURE resource\n",
    "\n",
    "The following is required to get access to the PIC-SURE API:\n",
    "* a network URL\n",
    "* a user-specific security token\n",
    "\n",
    "The following code specifies the network URL as the *BDC Powered by PIC-SURE* URL and references the user-specific token saved as `token.txt`.\n",
    "\n",
    "If you have not already retrieved your user-specific token, please refer to the \"Get your security token\" section of the `README.md` file."
   ]
  },
  {
   "cell_type": "code",
   "execution_count": null,
   "id": "e5e78a32",
   "metadata": {},
   "outputs": [],
   "source": [
    "PICSURE_network_URL = \"https://picsure.biodatacatalyst.nhlbi.nih.gov/picsure\"\n",
    "token_file = \"token.txt\"\n",
    "\n",
    "with open(token_file, \"r\") as f:\n",
    "    my_token = f.read()\n",
    "    \n",
    "bdc = PicSureBdcAdapter.Adapter(PICSURE_network_URL, my_token)"
   ]
  },
  {
   "cell_type": "markdown",
   "id": "75a290ae",
   "metadata": {},
   "source": [
    "## Getting help with the PIC-SURE API\n",
    "Each of the objects in the PIC-SURE API have a `help()` method that you can use to get more information about its functionalities."
   ]
  },
  {
   "cell_type": "code",
   "execution_count": null,
   "id": "c39d3179",
   "metadata": {},
   "outputs": [],
   "source": [
    "bdc.help()"
   ]
  },
  {
   "cell_type": "markdown",
   "id": "b25f9b15",
   "metadata": {},
   "source": [
    "For example, the above output lists and briefly defines the four methods that can be used with the `bdc` resource. "
   ]
  },
  {
   "cell_type": "markdown",
   "id": "1aecd1cf",
   "metadata": {},
   "source": [
    "## Using the PIC-SURE variables dictionary\n",
    "Now that you have set up your connection to the PIC-SURE API, let's determine which study or studies you are authorized to access. The `dictionary` method can be used to search the data dictionary for a specific term or to retrieve information about all the variables you are authorized to access."
   ]
  },
  {
   "cell_type": "code",
   "execution_count": null,
   "id": "854f8390",
   "metadata": {},
   "outputs": [],
   "source": [
    "dictionary = bdc.useDictionary().dictionary() # Set up the dictionary\n",
    "all_variables = dictionary.find() # Retrieve all variables you have access to"
   ]
  },
  {
   "cell_type": "code",
   "execution_count": null,
   "id": "af702729",
   "metadata": {},
   "outputs": [],
   "source": [
    "list_all_variables = all_variables.listPaths()\n",
    "studies = set([i.split(\"\\\\\")[1] for i in list_all_variables])\n",
    "if len(studies) > 0:\n",
    "    print(\"You are authorized to access the following studies:\\n\", studies)\n",
    "else:\n",
    "    print(\"You are not authorized to access any studies.\")"
   ]
  },
  {
   "cell_type": "markdown",
   "id": "da78fc98",
   "metadata": {},
   "source": [
    "### ***Note: if you do not see any studies listed above, you are not authorized to access any data. The rest of the notebook will not work.*** \n",
    "Let's save a study to use as an example for the rest of the notebook."
   ]
  },
  {
   "cell_type": "code",
   "execution_count": null,
   "id": "310c55fa",
   "metadata": {},
   "outputs": [],
   "source": [
    "phs_number = list(studies)[0]\n",
    "print(\"The phs accession being used is\", phs_number)"
   ]
  },
  {
   "cell_type": "markdown",
   "id": "043f31a8",
   "metadata": {},
   "source": [
    "Now let's find all of the variables associated with that study. We can search for these using the `find()` method and searching the phs accession number. \n",
    "Additionally, we can view a list of the variables returned from this search using the `listPaths()` method."
   ]
  },
  {
   "cell_type": "code",
   "execution_count": null,
   "id": "fdb38a4e",
   "metadata": {},
   "outputs": [],
   "source": [
    "my_variables = dictionary.find(phs_number) # Search for the phs accession number\n",
    "print(\"There are\", my_variables.count(), \"variables that were returned for your search.\")\n",
    "print(\"Here are some of the variables you have access to:\\n\", my_variables.listPaths()[0:10])"
   ]
  },
  {
   "cell_type": "markdown",
   "id": "a7213de2",
   "metadata": {},
   "source": [
    "The above output lists all of the variables you are authorized to access in the PIC-SURE. \n",
    "\n",
    "We can view these variables in a detailed dataframe format using the `dataframe()` method."
   ]
  },
  {
   "cell_type": "code",
   "execution_count": null,
   "id": "57b819ec",
   "metadata": {
    "scrolled": true,
    "tags": []
   },
   "outputs": [],
   "source": [
    "my_variables_df = my_variables.dataframe() # Save the results as a dataframe\n",
    "my_variables_df.head(5) # View the first 5 rows "
   ]
  },
  {
   "cell_type": "markdown",
   "id": "106f6c48",
   "metadata": {},
   "source": [
    "PIC-SURE integrates clinical and genomic datasets across *BDC*, including TOPMed and TOPMed-related studies, COVID-19 studies, and BioLINCC studies. Each variable is organized as a concept path that contains information about the study, variable group, and variable. Though the specifics of the concept paths are dependent on the type of study, the overall information included is the same. \n",
    "\n",
    "Data Organization in PIC-SURE\n",
    "---------------------------------------\n",
    "| Data organization | TOPMed & TOPMed-related studies | BioLINCC & COVID-19 studies |\n",
    "|-------------------|---------------------------------|-----------------------------|\n",
    "| General organization | Data organized using the format implemented by the database of Genotypes and Phenotypes (dbGaP). Generally, a given study will have several tables, and those tables have several variables. | Data do not follow dbGaP format; there are no phv or pht accessions. Data are organized in groups of like variables, when available. For example, variables like Age, Gender, and Race could be part of the Demographics variable group. |\n",
    "| Concept path structure | \\phs\\pht\\phv\\variable name\\ | \\phs\\variable name |\n",
    "| Variable ID | phv corresponding to the variable accession number | Equivalent to variable name | \n",
    "| Variable name | Encoded variable name that was used by the original submitters of the data | Encoded variable name that was used by the original submitters of the data |\n",
    "| Variable description | Description of the variable | Description of the variable, as available |\n",
    "| Dataset ID | pht corresponding to the trait table accession number | Equivalent to Dataset name | \n",
    "| Dataset name | Name of the trait table | Name of a group of like variables, as available | \n",
    "| Dataset description | Description of the trait table | Description of a group of like variables, as available |\n",
    "| Study ID | phs corresponding to the study accession number | phs corresponding to the study accession number |\n",
    "| Study description | Description of the study from dbGaP | Description of the study from dbGaP |\n",
    "\n"
   ]
  },
  {
   "cell_type": "markdown",
   "id": "4bf425c6",
   "metadata": {},
   "source": [
    "We can also view additional information for individual variables using the `varInfo()` method. "
   ]
  },
  {
   "cell_type": "code",
   "execution_count": null,
   "id": "8db8ef93",
   "metadata": {
    "scrolled": true,
    "tags": []
   },
   "outputs": [],
   "source": [
    "first_var = my_variables.listPaths()[0]\n",
    "my_variables.varInfo(first_var)"
   ]
  },
  {
   "cell_type": "markdown",
   "id": "accf1dbf",
   "metadata": {},
   "source": [
    "Now you can try to search for a term on your own. Below is sample code on how to search for the term `sex`. To practice searching the data dictionary, you can change \"sex\" to a term you are interested in. If there are results for your term, you will see them displayed in the convenient dataframe format using the `displayResults()` method."
   ]
  },
  {
   "cell_type": "code",
   "execution_count": null,
   "id": "73dd6b2b",
   "metadata": {
    "scrolled": true,
    "tags": []
   },
   "outputs": [],
   "source": [
    "my_search = dictionary.find(\"sex\") # Change sex to be your term of interest\n",
    "if len(my_search.listPaths()) > 0:\n",
    "    my_search.displayResults()\n",
    "else:\n",
    "    print(\"Search term returned no results. Please try searching a different term.\")"
   ]
  },
  {
   "cell_type": "markdown",
   "id": "a295cfe9",
   "metadata": {},
   "source": [
    "## Using PIC-SURE to build a query and retrieve data\n",
    "You can also use the PIC-SURE API to build a query and retrieve data. With this functionality, you can filter based on specific variables, add others, and export the data as a dataframe into this notebook. \n",
    "\n",
    "The first step to this is setting up the `authQuery`."
   ]
  },
  {
   "cell_type": "code",
   "execution_count": null,
   "id": "22b9c30f",
   "metadata": {},
   "outputs": [],
   "source": [
    "authPicSure = bdc.useAuthPicSure()\n",
    "authQuery_categorical_example = authPicSure.query()"
   ]
  },
  {
   "cell_type": "markdown",
   "id": "1b9875bf",
   "metadata": {},
   "source": [
    "There are several methods that can be used to build a query, which are listed below.\n",
    "\n",
    "| Method | Arguments / Input | Output|\n",
    "|--------|-------------------|-------|\n",
    "| query.select.add() | variable names (string) or list of strings | all variables included in the list (no record subsetting)|\n",
    "| query.require.add() | variable names (string) or list of strings | all variables; only records that do not contain null values for input variables |\n",
    "| query.anyof.add() | variable names (string) or list of strings | all variables; only records that contain at least one non-null value for input variables |\n",
    "| query.filter.add() | variable name and additional filtering values | input variable; only records that match filter criteria |"
   ]
  },
  {
   "cell_type": "markdown",
   "id": "346482bc",
   "metadata": {},
   "source": [
    "### Build a query with a categorical variable\n",
    "Let's practice building a query by filtering on variables. First, let's select a categorical variable to use. We can identify one using the `is_categorical` column of the variable dataframe."
   ]
  },
  {
   "cell_type": "code",
   "execution_count": null,
   "id": "dbfacce2",
   "metadata": {},
   "outputs": [],
   "source": [
    "i = 0\n",
    "categories = []\n",
    "while len(categories) == 0 or len(categories) > 8:\n",
    "    categorical_var_info = my_variables_df[my_variables_df.is_categorical == True]\n",
    "    # make sure there are values for the variable \n",
    "    categorical_var_info = categorical_var_info[categorical_var_info['values'] != '[]'].iloc[i]\n",
    "    categorical_var = categorical_var_info.HPDS_PATH\n",
    "    categories = list(categorical_var_info.values[0].strip('[]').split(','))\n",
    "    categories = [j.strip() for j in categories]\n",
    "    i += 1\n",
    "    \n",
    "filter_category = categories[0]\n",
    "print(\"We will use the PIC-SURE variable\", categorical_var, \"which is\", categorical_var_info.description)\n",
    "print(\"\\nHere are the categories associated with the variable:\", categories)\n",
    "print(\"\\nWe will filter to participants with the value '\", filter_category, \"' for the variable.\")"
   ]
  },
  {
   "cell_type": "markdown",
   "id": "6a1f7a23",
   "metadata": {},
   "source": [
    "We now have the PIC-SURE variable and the value to apply to the filter saved. We can use the `filter()` method to add this information to our query. "
   ]
  },
  {
   "cell_type": "code",
   "execution_count": null,
   "id": "09820436",
   "metadata": {},
   "outputs": [],
   "source": [
    "authQuery_categorical_example.filter().add(categorical_var, filter_category)"
   ]
  },
  {
   "cell_type": "markdown",
   "id": "b335b50c",
   "metadata": {},
   "source": [
    "Note that though we are only filtering by one value, you can filter by multiple values by passing a list into `filter()`.\n",
    "\n",
    "Now we can export our filtered data to a pandas dataframe in this notebook using `getResultsDataFrame()`."
   ]
  },
  {
   "cell_type": "code",
   "execution_count": null,
   "id": "18f4953f",
   "metadata": {
    "scrolled": true,
    "tags": []
   },
   "outputs": [],
   "source": [
    "results_categorical = authQuery_categorical_example.getResultsDataFrame(low_memory = False)\n",
    "results_categorical.head()"
   ]
  },
  {
   "cell_type": "markdown",
   "id": "9b9766cf",
   "metadata": {},
   "source": [
    "In the data dictionary dataframe shown previously, each row represented a single concept path or variable. In the query dataframe, the concept paths are added as columns with each row representing a participant with data that matches your query. \n",
    "\n",
    "The dataframe above should contain some automatically exported concept paths, such as `Patient ID`, `Parent Study Accession with Subject ID`, `Topmed Study Accession with Subject ID`, and `consents`, and the concept path we added to our query (`categorical_var`). Additionally, all participants should have the value we used to filter for our added concept path."
   ]
  },
  {
   "cell_type": "markdown",
   "id": "ff242370",
   "metadata": {},
   "source": [
    "We can see how this query filtering worked by comparing the resulting dataframe to the full unfiltered data for this variable. Let's build a query that retrieves the data from all participants that have data for the categorical variable of interest using `require()`."
   ]
  },
  {
   "cell_type": "code",
   "execution_count": null,
   "id": "bec48429",
   "metadata": {},
   "outputs": [],
   "source": [
    "authQuery_categorical_example2 = authPicSure.query() # Initialize a new query\n",
    "authQuery_categorical_example2.require().add(categorical_var) # Use require() and the categorical_var\n",
    "full_results_categorical = authQuery_categorical_example2.getResultsDataFrame(low_memory = False) # Get results dataframe"
   ]
  },
  {
   "cell_type": "code",
   "execution_count": null,
   "id": "cf8ddad8",
   "metadata": {},
   "outputs": [],
   "source": [
    "# Visualize the results with pie charts\n",
    "full_stats = full_results_categorical[categorical_var].value_counts()\n",
    "plt.pie(full_stats, labels = full_stats.index)\n",
    "plt.title(\"Before filtering variable\\n\"+categorical_var)\n",
    "plt.show()\n",
    "stats = results_categorical[categorical_var].value_counts()\n",
    "plt.pie(stats, labels = stats.index)\n",
    "plt.title(\"After filtering variable\\n\"+categorical_var)\n",
    "plt.show()"
   ]
  },
  {
   "cell_type": "markdown",
   "id": "8e4dae00",
   "metadata": {},
   "source": [
    "### Build a query with a continuous variable\n",
    "Similarly, we can create a query using a continuous variable. Instead of using the `is_continuous` column, let's make use of the `min` and `max` columns to determine the range of values that can be selected for our query."
   ]
  },
  {
   "cell_type": "code",
   "execution_count": null,
   "id": "b29746a8",
   "metadata": {},
   "outputs": [],
   "source": [
    "continuous_var_info = my_variables_df[~pd.isna(my_variables_df['max'])].iloc[1] # Filter to the first continuous variable\n",
    "continuous_var = continuous_var_info.HPDS_PATH\n",
    "print(\"We will use the PIC-SURE variable\", continuous_var, \"which is\", continuous_var_info.description)\n",
    "value_range = [float(continuous_var_info['min']), float(continuous_var_info['max'])]\n",
    "print(\"\\nHere is the range of values that is associated with the variable:\", value_range)\n",
    "filter_max_value = value_range[1]\n",
    "filter_min_value = value_range[1] - (value_range[1] - value_range[0])/2\n",
    "print(\"\\nWe will filter to participants with the values between\", filter_min_value, \"and\", filter_max_value, \"for the variable.\")"
   ]
  },
  {
   "cell_type": "markdown",
   "id": "91777472",
   "metadata": {},
   "source": [
    "Again, we can use the `filter()` method to add the continuous variable to the query. Once added, we can retrieve our results dataframe."
   ]
  },
  {
   "cell_type": "code",
   "execution_count": null,
   "id": "cb1e7568",
   "metadata": {},
   "outputs": [],
   "source": [
    "authQuery_continuous_example = authPicSure.query() # Start a new query\n",
    "authQuery_continuous_example.filter().add(continuous_var, filter_min_value, filter_max_value)"
   ]
  },
  {
   "cell_type": "code",
   "execution_count": null,
   "id": "5ce0b793",
   "metadata": {
    "scrolled": true,
    "tags": []
   },
   "outputs": [],
   "source": [
    "results_continuous = authQuery_continuous_example.getResultsDataFrame(low_memory = False)\n",
    "results_continuous.head()"
   ]
  },
  {
   "cell_type": "code",
   "execution_count": null,
   "id": "ebfe44c4",
   "metadata": {},
   "outputs": [],
   "source": [
    "print(\"Let's plot a histogram of our results to ensure we are only looking at values for\",\n",
    "      continuous_var_info.description,\n",
    "      \"which fall between\", filter_min_value, \"and\", filter_max_value, \".\")"
   ]
  },
  {
   "cell_type": "code",
   "execution_count": null,
   "id": "6c087192",
   "metadata": {},
   "outputs": [],
   "source": [
    "plt.title(\"After filtering variable\\n\"+continuous_var)\n",
    "plt.hist(results_continuous[continuous_var_info.HPDS_PATH])\n",
    "plt.show()"
   ]
  },
  {
   "cell_type": "markdown",
   "id": "1036c377",
   "metadata": {},
   "source": [
    "Compared to all data values for this variable:"
   ]
  },
  {
   "cell_type": "code",
   "execution_count": null,
   "id": "ca229ad2",
   "metadata": {},
   "outputs": [],
   "source": [
    "authQuery_continuous_example2 = authPicSure.query() # Start a new query\n",
    "authQuery_continuous_example2.require().add(continuous_var)\n",
    "full_results_continuous = authQuery_continuous_example2.getResultsDataFrame(low_memory = False)\n",
    "plt.title(\"Before filtering variable\\n\"+continuous_var)\n",
    "plt.hist(full_results_continuous[continuous_var_info.HPDS_PATH])\n",
    "plt.show()"
   ]
  },
  {
   "cell_type": "markdown",
   "id": "1349637c",
   "metadata": {},
   "source": [
    "### Build a query with multiple variables\n",
    "You can also add multiple variables to a single query. Let's build a query with the first five variables for the study of interest."
   ]
  },
  {
   "cell_type": "code",
   "execution_count": null,
   "id": "15b316e9",
   "metadata": {},
   "outputs": [],
   "source": [
    "query_vars = my_variables.listPaths()[0:5]\n",
    "print(\"We will add the following variables to the query:\")\n",
    "for v in query_vars:\n",
    "    print(v)"
   ]
  },
  {
   "cell_type": "markdown",
   "id": "28f5a05f",
   "metadata": {},
   "source": [
    "We can use a different method, `anyof()`, to add variables to the query. This will filter to participants that have data for at least one of the variables added.  "
   ]
  },
  {
   "cell_type": "code",
   "execution_count": null,
   "id": "39e341f9",
   "metadata": {},
   "outputs": [],
   "source": [
    "authQuery = authPicSure.query() # Start a new query\n",
    "authQuery.anyof().add(query_vars)"
   ]
  },
  {
   "cell_type": "code",
   "execution_count": null,
   "id": "4d70f5d3",
   "metadata": {},
   "outputs": [],
   "source": [
    "results = authQuery.getResultsDataFrame(low_memory = False)\n",
    "results.head()"
   ]
  },
  {
   "cell_type": "markdown",
   "id": "9a7d122a",
   "metadata": {},
   "source": [
    "### Selecting consent groups\n",
    "\n",
    "PIC-SURE will limit results based on which study and consent groups you have been individually authorized to access. In some cases, such as instances where you can access multiple studies and/or consent groups, you may need to limit your results further to only a subset of the groups you have been authorized to access.\n",
    "\n",
    "Let's see which studies and consent groups you are authorized to access using the `show()` method of the query."
   ]
  },
  {
   "cell_type": "code",
   "execution_count": null,
   "id": "f774a5cb",
   "metadata": {},
   "outputs": [],
   "source": [
    "authQuery_consents = authPicSure.query()\n",
    "authQuery_consents.show()"
   ]
  },
  {
   "cell_type": "markdown",
   "id": "104fc65d",
   "metadata": {},
   "source": [
    "The `\\\\_consents\\\\` section of the output shown above lists all of the phs accession numbers and consent codes that you are authorized to access. \n",
    "\n",
    "To query on specific consent groups in this list, you must first clear the list of values within the `\\\\_consents\\\\` section and then manually replace them. Let's practice this by copying and pasting a phs accession number and consent code, deleting the `\\\\_consents\\\\` field, and adding it back with our selected consent code.\n",
    "\n",
    "*Note that trying to manually add a consent group which you are not authorized to access will results in errors downstream.*"
   ]
  },
  {
   "cell_type": "code",
   "execution_count": null,
   "id": "e579ae28",
   "metadata": {},
   "outputs": [],
   "source": [
    "authQuery_consents.filter().delete('\\\\_consents\\\\')\n",
    "authQuery_consents.show()"
   ]
  },
  {
   "cell_type": "code",
   "execution_count": null,
   "id": "c6f41124",
   "metadata": {},
   "outputs": [],
   "source": [
    "consent_group_filter = \"<<<Paste consent group here you are authorized to access here>>>\"\n",
    "authQuery_consents.filter().add(\"\\\\_consents\\\\\", consent_group_filter)\n",
    "authQuery_consents.show()"
   ]
  },
  {
   "cell_type": "markdown",
   "id": "6a51f112",
   "metadata": {},
   "source": [
    "Now your query is set to select only variables and participants from the phs accession and consent code you selected. From here, you can build out your query as shown above."
   ]
  }
 ],
 "metadata": {
  "kernelspec": {
   "display_name": "Python 3 (ipykernel)",
   "language": "python",
   "name": "python3"
  },
  "language_info": {
   "codemirror_mode": {
    "name": "ipython",
    "version": 3
   },
   "file_extension": ".py",
   "mimetype": "text/x-python",
   "name": "python",
   "nbconvert_exporter": "python",
   "pygments_lexer": "ipython3",
   "version": "3.9.6"
  }
 },
 "nbformat": 4,
 "nbformat_minor": 5
}
