{
 "cells": [
  {
   "cell_type": "markdown",
   "id": "693ca65f",
   "metadata": {},
   "source": [
    "# Introduction to the PIC-SURE API\n",
    "This is a tutorial notebook aimed to get the user quickly up and running with the PIC-SURE API. "
   ]
  },
  {
   "cell_type": "markdown",
   "id": "5e5fe82f",
   "metadata": {},
   "source": [
    "## PIC-SURE python API\n",
    "### What is PIC-SURE?\n",
    "As part of the BioData Catalyst Initiative, the Patient Information Commons: Standard Unification of Research Elements (PIC-SURE) platform has been integrating clinical and genomic datasets from multiple TOPMed and TOPMed-related studies funded by the National Heart, Lung, and Blood Institute (NHLBI). \n",
    "\n",
    "Original data exposed through the PIC-SURE API encompasses a large heterogeneity of data organization underneath. PIC-SURE hides this complexity and esposes the different study datasets in a single tabular format. By simplifying the process of data extraction, it allows investigators to focus on downstream analysis and to facilitate reproducible science. "
   ]
  },
  {
   "cell_type": "markdown",
   "id": "b26902fc",
   "metadata": {},
   "source": [
    "### More about PIC-SURE\n",
    "The API is available in two different programming languages, python and R, enabling investigators to query the database the same way using either language.\n",
    "\n",
    "PIC-SURE is a larger project from which the R and python PIC-SURE APIs are only a small part. Among other things, PIC-SURE also offers a graphical user interface that allows researchers to explore variables across multiple studies, filter participants that match criteria, and create cohorts from this interactive exploration.\n",
    "\n",
    "The python API is actively developed by the Avillach Lab at Harvard Medical School. \n",
    "\n",
    "PIC-SURE API GitHub repositories:\n",
    "* https://github.com/hms-dbmi/pic-sure-biodatacatalyst-python-adapter-hpds\n",
    "* https://github.com/hms-dbmi/pic-sure-python-adapter-hpds\n",
    "* https://github.com/hms-dbmi/pic-sure-python-client"
   ]
  },
  {
   "cell_type": "markdown",
   "id": "7846ad8a",
   "metadata": {},
   "source": [
    " ------- "
   ]
  },
  {
   "cell_type": "markdown",
   "id": "03359fa6",
   "metadata": {},
   "source": [
    "## Getting your user-specific security token"
   ]
  },
  {
   "cell_type": "markdown",
   "id": "808917a9",
   "metadata": {},
   "source": [
    "**Before running this notebook, please be sure to review the \"Get your security token\" documentation, which exists in the NHLBI_BioData_Catalyst [README.md file](https://github.com/hms-dbmi/Access-to-Data-using-PIC-SURE-API/tree/master/NHLBI_BioData_Catalyst#get-your-security-token). It explains about how to get a security token, which is mandatory to access the databases.**"
   ]
  },
  {
   "cell_type": "markdown",
   "id": "c1620a93",
   "metadata": {},
   "source": [
    "## Environment set-up\n",
    "\n",
    "### Pre-requisites\n",
    "* python 3.6 or later\n",
    "* pip python package manager, already available in most systems with a python interpreter installed (link to pip)\n",
    "\n",
    "### Install packages\n",
    "The first step to using the PIC-SURE API is to install the packages needed. The following code installs the PIC-SURE API components from GitHub, specifically:\n",
    "* PIC-SURE Client\n",
    "* PIC-SURE Adapter\n",
    "* BioData Catalyst PIC-SURE Adapter"
   ]
  },
  {
   "cell_type": "code",
   "execution_count": null,
   "id": "fcadf23d",
   "metadata": {
    "scrolled": true
   },
   "outputs": [],
   "source": [
    "import pandas as pd\n",
    "import matplotlib.pyplot as plt\n",
    "import sys\n",
    "!{sys.executable} -m pip install --upgrade --force-reinstall git+https://github.com/hms-dbmi/pic-sure-python-client.git\n",
    "!{sys.executable} -m pip install --upgrade --force-reinstall git+https://github.com/hms-dbmi/pic-sure-python-adapter-hpds.git\n",
    "!{sys.executable} -m pip install --upgrade --force-reinstall git+https://github.com/hms-dbmi/pic-sure-biodatacatalyst-python-adapter-hpds.git@new-search\n",
    "\n",
    "import PicSureBdcAdapter"
   ]
  },
  {
   "cell_type": "markdown",
   "id": "6c856dc5",
   "metadata": {},
   "source": [
    "## Connecting to a PIC-SURE resource\n",
    "\n",
    "The following is required to get access to the PIC-SURE API:\n",
    "* a network URL\n",
    "* a user-specific security token\n",
    "\n",
    "The following code specifies the network URL as the BioData Catalyst Powered by PIC-SURE URL and references the user-specific token saved as `token.txt`.\n",
    "\n",
    "If you have not already retrieved your user-specific token, please refer to the \"Get your security token\" section of the [README.md](https://github.com/hms-dbmi/Access-to-Data-using-PIC-SURE-API/tree/master/NHLBI_BioData_Catalyst#get-your-security-token) file."
   ]
  },
  {
   "cell_type": "code",
   "execution_count": null,
   "id": "d6097938",
   "metadata": {},
   "outputs": [],
   "source": [
    "# Uncomment production URL when testing in production\n",
    "# PICSURE_network_URL = \"https://picsure.biodatacatalyst.nhlbi.nih.gov/picsure\"\n",
    "PICSURE_network_URL = \"https://biodatacatalyst.integration.hms.harvard.edu/picsure\"\n",
    "token_file = \"token.txt\"\n",
    "\n",
    "with open(token_file, \"r\") as f:\n",
    "    my_token = f.read()\n",
    "    \n",
    "bdc = PicSureBdcAdapter.Adapter(PICSURE_network_URL, my_token)"
   ]
  },
  {
   "cell_type": "markdown",
   "id": "50efe7d1",
   "metadata": {},
   "source": [
    "## Getting help with the PIC-SURE API\n",
    "Each of the objects in the PIC-SURE API have a `help()` method that you can use to get more information about its functionalities."
   ]
  },
  {
   "cell_type": "code",
   "execution_count": null,
   "id": "522fc4cb",
   "metadata": {},
   "outputs": [],
   "source": [
    "bdc.help()"
   ]
  },
  {
   "cell_type": "markdown",
   "id": "6e4e4c4f",
   "metadata": {},
   "source": [
    "For example, the above output lists and briefly defines the four methods that can be used with the `bdc` resource. "
   ]
  },
  {
   "cell_type": "markdown",
   "id": "a898ba36",
   "metadata": {},
   "source": [
    "## Using the PIC-SURE variables dictionary\n",
    "Now that you have set up your connection to the PIC-SURE API, let's determine which study or studies you are authorized to access. The `dictionary` method can be used to search the data dictionary for a specific term or to retrieve information about all the variables you are authorized to access."
   ]
  },
  {
   "cell_type": "code",
   "execution_count": null,
   "id": "f2b28003",
   "metadata": {},
   "outputs": [],
   "source": [
    "dictionary = bdc.useDictionary().dictionary() # Set up the dictionary\n",
    "all_variables = dictionary.find() # Retrieve all variables you have access to"
   ]
  },
  {
   "cell_type": "code",
   "execution_count": null,
   "id": "aeef28bf",
   "metadata": {},
   "outputs": [],
   "source": [
    "## Code used to identify a bug\n",
    "\n",
    "#concepts = all_variables.listPaths()\n",
    "#for i in concepts:\n",
    "#    phs = i.split(\"\\\\\")[1]\n",
    "#    if 'phs' not in phs:\n",
    "#        print(i)\n",
    "## Note: all concept paths start with phs\n",
    "## There aren't _consents or anything like that\n",
    "#print(all_variables.count())\n",
    "#print(len(concepts))"
   ]
  },
  {
   "cell_type": "code",
   "execution_count": null,
   "id": "d87fe6fd",
   "metadata": {},
   "outputs": [],
   "source": [
    "list_all_variables = all_variables.listPaths()\n",
    "studies = set([i.split(\"\\\\\")[1] for i in list_all_variables])\n",
    "if len(studies) > 0:\n",
    "    print(\"You are authorized to access the following studies:\\n\", studies)\n",
    "else:\n",
    "    print(\"You are not authorized to access any studies.\")"
   ]
  },
  {
   "cell_type": "markdown",
   "id": "8174229d",
   "metadata": {},
   "source": [
    "### ***Note: if you do not see any studies listed above, you are not authorized to access any data. The rest of the notebook will not work.*** \n",
    "Let's save the first study to use as an example for the rest of the notebook."
   ]
  },
  {
   "cell_type": "code",
   "execution_count": null,
   "id": "4f22cc79",
   "metadata": {},
   "outputs": [],
   "source": [
    "phs_number = list(studies)[1]\n",
    "print(\"The phs accession being used is\", phs_number)"
   ]
  },
  {
   "cell_type": "markdown",
   "id": "4ed95412",
   "metadata": {},
   "source": [
    "Now let's find all of the variables associated with that study. We can search for these using the `find()` method and searching the phs accession number. \n",
    "Additionally, we can view a list of the variables returned from this search using the `listPaths()` method."
   ]
  },
  {
   "cell_type": "code",
   "execution_count": null,
   "id": "66a696fa",
   "metadata": {},
   "outputs": [],
   "source": [
    "my_variables = dictionary.find(phs_number) # Search for the phs accession number\n",
    "print(\"There are\", my_variables.count(), \"variables that were returned for your search.\")\n",
    "print(\"Here are some of the variables you have access to:\\n\", my_variables.listPaths()[0:10])"
   ]
  },
  {
   "cell_type": "markdown",
   "id": "806170ea",
   "metadata": {},
   "source": [
    "# Will need to update this accordingly once BioLINCC studies are included\n",
    "\n",
    "The above output lists all of the variables you are authorized to access in the PIC-SURE. These variables are listed as concept paths organized in the \"phs\", \"pht\", and \"phv\" format that is used by the [database of Genotypes and Phenotypes (dbGaP)](https://www.ncbi.nlm.nih.gov/gap/). The concept path is organized in the following format:\n",
    "\n",
    "**\\\\\\phs\\\\\\pht\\\\\\phv\\\\\\variable name\\\\\\**\n",
    "\n",
    "* **phs** corresponds to the study accession number \n",
    "* **pht** corresponds to the trait table accession number\n",
    "* **phv** corresponds to the variable accession number\n",
    "* the **variable name** corresponds to the encoded variable name that was used by the submitters of the data\n",
    "\n",
    "Generally, a given study will have several tables, and those tables have several variables. You can find more information on the dbGaP data structure [here](https://www.ncbi.nlm.nih.gov/pmc/articles/PMC2031016/).\n",
    "\n",
    "We can view these variables in a detailed dataframe format using the `dataframe()` method."
   ]
  },
  {
   "cell_type": "code",
   "execution_count": null,
   "id": "14a50732",
   "metadata": {},
   "outputs": [],
   "source": [
    "my_variables_df = my_variables.dataframe() # Save the results as a dataframe\n",
    "my_variables_df.head() # View the first 5 rows "
   ]
  },
  {
   "cell_type": "code",
   "execution_count": null,
   "id": "c6d06128",
   "metadata": {},
   "outputs": [],
   "source": [
    "my_variables_df.columns"
   ]
  },
  {
   "cell_type": "markdown",
   "id": "d792fca9",
   "metadata": {},
   "source": [
    "We can also view additional information for individual variables using the `varInfo()` method. "
   ]
  },
  {
   "cell_type": "code",
   "execution_count": null,
   "id": "868c0694",
   "metadata": {},
   "outputs": [],
   "source": [
    "first_var = my_variables.listPaths()[0]\n",
    "my_variables.varInfo(first_var)"
   ]
  },
  {
   "cell_type": "markdown",
   "id": "666fd1e4",
   "metadata": {},
   "source": [
    "Now you can try to search for a term on your own. Below is sample code on how to search for the term `sex`. To practice searching the data dictionary, you can change \"sex\" to a term you are interested in. If there are results for your term, you will see them displayed in the convenient dataframe format using the `displayResults()` method."
   ]
  },
  {
   "cell_type": "code",
   "execution_count": null,
   "id": "9a06289c",
   "metadata": {},
   "outputs": [],
   "source": [
    "my_search = dictionary.find(\"sex\") # Change sex to be your term of interest\n",
    "if len(my_search.listPaths()) > 0:\n",
    "    my_search.displayResults()\n",
    "else:\n",
    "    print(\"Search term returned no results. Please try searching a different term.\")"
   ]
  },
  {
   "cell_type": "markdown",
   "id": "21aad6af",
   "metadata": {},
   "source": [
    "## Using PIC-SURE to build a query and retrieve data\n",
    "You can also use the PIC-SURE API to build a query and retrieve data. With this functionality, you can filter based on specific variables, add others, and export the data as a dataframe into this notebook. \n",
    "\n",
    "The first step to this is setting up the `authQuery`."
   ]
  },
  {
   "cell_type": "code",
   "execution_count": null,
   "id": "0e21dea3",
   "metadata": {},
   "outputs": [],
   "source": [
    "authPicSure = bdc.useAuthPicSure()\n",
    "authQuery = authPicSure.query()"
   ]
  },
  {
   "cell_type": "markdown",
   "id": "670e1488",
   "metadata": {},
   "source": [
    "There are several methods that can be used to build a query, which are listed below.\n",
    "\n",
    "| Method | Arguments / Input | Output|\n",
    "|--------|-------------------|-------|\n",
    "| query.select.add() | variable names (string) or list of strings | all variables included in the list (no record subsetting)|\n",
    "| query.require.add() | variable names (string) or list of strings | all variables; only records that do not contain null values for input variables |\n",
    "| query.anyof.add() | variable names (string) or list of strings | all variables; only records that contain at least one non-null value for input variables |\n",
    "| query.filter.add() | variable name and additional filtering values | input variable; only records that match filter criteria |"
   ]
  },
  {
   "cell_type": "markdown",
   "id": "aa68f1b3",
   "metadata": {},
   "source": [
    "### Build a query with a categorical variable\n",
    "Let's practice building a query by filtering on variables. First, let's select a categorical variable to use. We can identify one using the `is_categorical` column of the variable dataframe."
   ]
  },
  {
   "cell_type": "code",
   "execution_count": null,
   "id": "8dff7941",
   "metadata": {},
   "outputs": [],
   "source": [
    "i = 0\n",
    "categories = []\n",
    "while len(categories) == 0:\n",
    "    categorical_var_info = my_variables_df[my_variables_df.is_categorical == True].iloc[i]\n",
    "    categorical_var = categorical_var_info.HPDS_PATH\n",
    "    categories = list(categorical_var_info.values[0].values())\n",
    "    i += 1\n",
    "    \n",
    "filter_category = categories[0]\n",
    "print(\"We will use the PIC-SURE variable\", categorical_var, \"which is\", categorical_var_info.description)\n",
    "print(\"\\nHere are the categories associated with the variable:\", categories)\n",
    "print(\"\\nWe will filter to participants with the value '\", filter_category, \"' for the variable.\")"
   ]
  },
  {
   "cell_type": "markdown",
   "id": "d037351f",
   "metadata": {},
   "source": [
    "We now have the PIC-SURE variable and the value to apply to the filter saved. We can use the `filter()` method to add this information to our query. "
   ]
  },
  {
   "cell_type": "code",
   "execution_count": null,
   "id": "b7429ae7",
   "metadata": {},
   "outputs": [],
   "source": [
    "authQuery.filter().add(categorical_var, filter_category)"
   ]
  },
  {
   "cell_type": "markdown",
   "id": "b5dced05",
   "metadata": {},
   "source": [
    "Note that though we are only filtering by one value, you can filter by multiple values by passing a list into `filter()`.\n",
    "\n",
    "Now we can export our filtered data to a pandas dataframe in this notebook using `getResultsDataFrame()`."
   ]
  },
  {
   "cell_type": "code",
   "execution_count": null,
   "id": "fd12b4b5",
   "metadata": {},
   "outputs": [],
   "source": [
    "results = authQuery.getResultsDataFrame(low_memory = False)\n",
    "results.head()"
   ]
  },
  {
   "cell_type": "markdown",
   "id": "31486dbf",
   "metadata": {},
   "source": [
    "# Mention that the columns added to this dataframe are from the rows in the data dictionary. Link the two.\n",
    "\n",
    "The above dataframe should contain the variable we selected to add to the query. Additionally, all participants should have the value we filtered by for that variable."
   ]
  },
  {
   "cell_type": "markdown",
   "id": "8984a25e",
   "metadata": {},
   "source": [
    "We can see how this query filtering worked by comparing the resulting dataframe to the full unfiltered data for this variable. Let's build a query that retrieves the data from all participants that have data for the categorical variable of interest using `require()`."
   ]
  },
  {
   "cell_type": "code",
   "execution_count": null,
   "id": "018c747d",
   "metadata": {},
   "outputs": [],
   "source": [
    "authQuery = authPicSure.query() # Initialize a new query\n",
    "authQuery.require().add(categorical_var) # Use require() and the categorical_var\n",
    "full_results = authQuery.getResultsDataFrame(low_memory = False) # Get results dataframe"
   ]
  },
  {
   "cell_type": "code",
   "execution_count": null,
   "id": "ec8d2420",
   "metadata": {},
   "outputs": [],
   "source": [
    "# Visualize the results with pie charts\n",
    "full_stats = full_results[categorical_var].value_counts()\n",
    "plt.pie(full_stats, labels = full_stats.index)\n",
    "plt.title(\"Before filtering variable\\n\"+categorical_var)\n",
    "plt.show()\n",
    "stats = results[categorical_var].value_counts()\n",
    "plt.pie(stats, labels = stats.index)\n",
    "plt.title(\"After filtering variable\\n\"+categorical_var)\n",
    "plt.show()"
   ]
  },
  {
   "cell_type": "markdown",
   "id": "9f518f6a",
   "metadata": {},
   "source": [
    "### Build a query with a continuous variable\n",
    "Similarly, we can create a query using a continuous variable. Instead of using the `is_continuous` column, let's make use of the `logical_max` and `logical_min` columns to determine the range of values that can be selected for our query."
   ]
  },
  {
   "cell_type": "markdown",
   "id": "6a591a26",
   "metadata": {},
   "source": [
    "# Data dictionary that Tom is creating will have a reliable min and a reliable max that does indeed match the data\n",
    "\n",
    "# Code below is currently broken, will need to update to exclude logical_max and logical_min"
   ]
  },
  {
   "cell_type": "code",
   "execution_count": null,
   "id": "a56506ed",
   "metadata": {},
   "outputs": [],
   "source": [
    "continuous_var_info = my_variables_df[~pd.isna(my_variables_df.logical_max)].iloc[0] # Filter to the first continuous variable\n",
    "continuous_var = continuous_var_info.HPDS_PATH\n",
    "print(\"We will use the PIC-SURE variable\", continuous_var, \"which is\", continuous_var_info.description)\n",
    "value_range = [float(continuous_var_info.logical_min), float(continuous_var_info.logical_max)]\n",
    "print(\"\\nHere is the range of values that is associated with the variable:\", value_range)\n",
    "max_value = value_range[1]\n",
    "min_value = value_range[1] - (value_range[1] - value_range[0])/2\n",
    "print(\"\\nWe will filter to participants with the values between\", min_value, \"and\", max_value, \"for the variable.\")"
   ]
  },
  {
   "cell_type": "markdown",
   "id": "e1b06850",
   "metadata": {},
   "source": [
    "# Show a varInfo on this variable to provide more information"
   ]
  },
  {
   "cell_type": "markdown",
   "id": "03a35866",
   "metadata": {},
   "source": [
    "Again, we can use the `filter()` method to add the continuous variable to the query. Once added, we can retrieve our results dataframe."
   ]
  },
  {
   "cell_type": "code",
   "execution_count": null,
   "id": "65e59553",
   "metadata": {},
   "outputs": [],
   "source": [
    "authQuery = authPicSure.query() # Start a new query\n",
    "authQuery.filter().add(continuous_var, min_value, max_value)"
   ]
  },
  {
   "cell_type": "code",
   "execution_count": null,
   "id": "8ab2dc62",
   "metadata": {},
   "outputs": [],
   "source": [
    "results = authQuery.getResultsDataFrame(low_memory = False)\n",
    "results.head()"
   ]
  },
  {
   "cell_type": "markdown",
   "id": "932a85ee",
   "metadata": {},
   "source": [
    "The above dataframe should contain the variable we selected to add to the query. Additionally, the values listed as part of that variable should be within the range of values we defined.  \n",
    "\n",
    "# Link back to data dictionary\n",
    "# Filtered range vs. require (no filter) histograms --> is there a way to overlay these histograms?"
   ]
  },
  {
   "cell_type": "markdown",
   "id": "0fad79b2",
   "metadata": {},
   "source": [
    "### Build a query with multiple variables\n",
    "You can also add multiple variables to a single query. Let's build a query with the first five variables for the study of interest."
   ]
  },
  {
   "cell_type": "code",
   "execution_count": null,
   "id": "f7e6eaac",
   "metadata": {},
   "outputs": [],
   "source": [
    "query_vars = my_variables.listPaths()[0:5]\n",
    "print(\"We will add the following variables to the query:\", query_vars)"
   ]
  },
  {
   "cell_type": "markdown",
   "id": "9dc423bf",
   "metadata": {},
   "source": [
    "We can use a different method, `anyof()`, to add variables to the query. This will filter to participants that have data for at least one of the variables added.  "
   ]
  },
  {
   "cell_type": "code",
   "execution_count": null,
   "id": "52917534",
   "metadata": {},
   "outputs": [],
   "source": [
    "authQuery = authPicSure.query() # Start a new query\n",
    "authQuery.anyof().add(query_vars)"
   ]
  },
  {
   "cell_type": "code",
   "execution_count": null,
   "id": "e17d24a9",
   "metadata": {},
   "outputs": [],
   "source": [
    "results = authQuery.getResultsDataFrame(low_memory = False)\n",
    "results.head()"
   ]
  },
  {
   "cell_type": "markdown",
   "id": "fba450f3",
   "metadata": {},
   "source": [
    "### Changing study consents in the query\n",
    "# Need to add this section\n",
    "the way to do this is delete the _consents and add back with new consent group"
   ]
  },
  {
   "cell_type": "markdown",
   "id": "462a7d13",
   "metadata": {},
   "source": [
    "# Add the query ID section"
   ]
  },
  {
   "cell_type": "code",
   "execution_count": null,
   "id": "0990baf6",
   "metadata": {},
   "outputs": [],
   "source": []
  }
 ],
 "metadata": {
  "kernelspec": {
   "display_name": "conda_python3",
   "language": "python",
   "name": "conda_python3"
  },
  "language_info": {
   "codemirror_mode": {
    "name": "ipython",
    "version": 3
   },
   "file_extension": ".py",
   "mimetype": "text/x-python",
   "name": "python",
   "nbconvert_exporter": "python",
   "pygments_lexer": "ipython3",
   "version": "3.6.13"
  }
 },
 "nbformat": 4,
 "nbformat_minor": 5
}
