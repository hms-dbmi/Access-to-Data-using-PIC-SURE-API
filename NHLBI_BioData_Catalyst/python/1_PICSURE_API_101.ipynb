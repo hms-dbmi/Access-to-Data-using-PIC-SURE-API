{
 "cells": [
  {
   "cell_type": "markdown",
   "id": "6f24279a",
   "metadata": {},
   "source": [
    "# Introduction to the PIC-SURE API\n",
    "This is a tutorial notebook aimed to get the user quickly up and running with the PIC-SURE API. "
   ]
  },
  {
   "cell_type": "markdown",
   "id": "78b21821",
   "metadata": {},
   "source": [
    "## PIC-SURE python API\n",
    "### What is PIC-SURE?\n",
    "As part of the BioData Catalyst Initiative, the Patient Information Commons: Standard Unification of Research Elements (PIC-SURE) platform has been integrating clinical and genomic datasets from multiple TOPMed and TOPMed-related studies funded by the National Heart, Lung, and Blood Institute (NHLBI). \n",
    "\n",
    "Original data exposed through the PIC-SURE API encompasses a large heterogeneity of data organization underneath. PIC-SURE hides this complexity and esposes the different study datasets in a single tabular format. By simplifying the process of data extraction, it allows investigators to focus on downstream analysis and to facilitate reproducible science. "
   ]
  },
  {
   "cell_type": "markdown",
   "id": "b9fe6318",
   "metadata": {},
   "source": [
    "### More about PIC-SURE\n",
    "The API is available in two different programming languages, python and R, enabling investigators to query the database the same way using either language.\n",
    "\n",
    "PIC-SURE is a larger project from which the R and python PIC-SURE APIs are only a small part. Among other things, PIC-SURE also offers a graphical user interface that allows researchers to explore variables across multiple studies, filter participants that match criteria, and create cohorts from this interactive exploration.\n",
    "\n",
    "The python API is actively developed by the Avillach Lab at Harvard Medical School. \n",
    "\n",
    "PIC-SURE API GitHub repositories:\n",
    "* https://github.com/hms-dbmi/pic-sure-biodatacatalyst-python-adapter-hpds\n",
    "* https://github.com/hms-dbmi/pic-sure-python-adapter-hpds\n",
    "* https://github.com/hms-dbmi/pic-sure-python-client"
   ]
  },
  {
   "cell_type": "markdown",
   "id": "11981071",
   "metadata": {},
   "source": [
    " ------- "
   ]
  },
  {
   "cell_type": "markdown",
   "id": "06f32f7f",
   "metadata": {},
   "source": [
    "## Getting your user-specific security token"
   ]
  },
  {
   "cell_type": "markdown",
   "id": "97e6458b",
   "metadata": {},
   "source": [
    "**Before running this notebook, please be sure to review the \"Get your security token\" documentation, which exists in the NHLBI_BioData_Catalyst [README.md file](https://github.com/hms-dbmi/Access-to-Data-using-PIC-SURE-API/tree/master/NHLBI_BioData_Catalyst#get-your-security-token). It explains about how to get a security token, which is mandatory to access the databases.**"
   ]
  },
  {
   "cell_type": "markdown",
   "id": "c06620a9",
   "metadata": {},
   "source": [
    "## Environment set-up\n",
    "\n",
    "### Pre-requisites\n",
    "**Check with Jason about this**\n",
    "* python 3.6 or later\n",
    "* pip python package manager, already available in most systems with a python interpreter installed (link to pip)\n",
    "\n",
    "### Install packages\n",
    "The first step to using the PIC-SURE API is to install the packages needed. The following code installs the PIC-SURE API components from GitHub, specifically:\n",
    "* PIC-SURE Client\n",
    "* PIC-SURE Adapter"
   ]
  },
  {
   "cell_type": "code",
   "execution_count": null,
   "id": "eb55507e",
   "metadata": {
    "scrolled": true
   },
   "outputs": [],
   "source": [
    "import pandas as pd\n",
    "import sys\n",
    "!{sys.executable} -m pip install --upgrade --force-reinstall git+https://github.com/hms-dbmi/pic-sure-python-client.git\n",
    "!{sys.executable} -m pip install --upgrade --force-reinstall git+https://github.com/hms-dbmi/pic-sure-python-adapter-hpds.git\n",
    "!{sys.executable} -m pip install --upgrade --force-reinstall git+https://github.com/hms-dbmi/pic-sure-biodatacatalyst-python-adapter-hpds.git@new-search\n",
    "\n",
    "import PicSureBdcAdapter"
   ]
  },
  {
   "cell_type": "markdown",
   "id": "5d326c1a",
   "metadata": {},
   "source": [
    "## Connecting to a PIC-SURE resource\n",
    "\n",
    "The following is required to get access to the PIC-SURE API:\n",
    "* a network URL\n",
    "* a user-specific security token\n",
    "\n",
    "The following code specifies the network URL as the BioData Catalyst Powered by PIC-SURE URL and references the user-specific token saved as `token.txt`.\n",
    "\n",
    "If you have not already retrieved your user-specific token, please refer to the \"Get your security token\" section of the [README.md](https://github.com/hms-dbmi/Access-to-Data-using-PIC-SURE-API/tree/master/NHLBI_BioData_Catalyst#get-your-security-token) file."
   ]
  },
  {
   "cell_type": "code",
   "execution_count": null,
   "id": "71a1c90f",
   "metadata": {},
   "outputs": [],
   "source": [
    "# Uncomment production URL when testing in production\n",
    "# PICSURE_network_URL = \"https://picsure.biodatacatalyst.nhlbi.nih.gov/picsure\"\n",
    "PICSURE_network_URL = \"https://biodatacatalyst.integration.hms.harvard.edu/picsure\"\n",
    "token_file = \"token.txt\"\n",
    "\n",
    "with open(token_file, \"r\") as f:\n",
    "    my_token = f.read()\n",
    "    \n",
    "bdc = PicSureBdcAdapter.Adapter(PICSURE_network_URL, my_token)"
   ]
  },
  {
   "cell_type": "markdown",
   "id": "ca257815",
   "metadata": {},
   "source": [
    "### Can we have this not printed out? Seems more confusing than helpful to the user"
   ]
  },
  {
   "cell_type": "markdown",
   "id": "fa9d9f15",
   "metadata": {},
   "source": [
    "## Getting help with the PIC-SURE API\n",
    "Each of the objects in the PIC-SURE API have a `help()` method that you can use to get more information about its functionalities."
   ]
  },
  {
   "cell_type": "code",
   "execution_count": null,
   "id": "548eed5b",
   "metadata": {},
   "outputs": [],
   "source": [
    "bdc.help()"
   ]
  },
  {
   "cell_type": "markdown",
   "id": "8804f663",
   "metadata": {},
   "source": [
    "For example, the above output lists and briefly defines the four methods that can be used with the `bdc` resource. "
   ]
  },
  {
   "cell_type": "markdown",
   "id": "16704414",
   "metadata": {},
   "source": [
    "## Using the PIC-SURE variables dictionary\n",
    "Now that you have set up your connection to the PIC-SURE API, let's determine which study or studies you are authorized to access. The `dictionary` method can be used to search the data dictionary for a specific term or to retrieve information about all the variables you are authorized to access."
   ]
  },
  {
   "cell_type": "code",
   "execution_count": null,
   "id": "e57fd09b",
   "metadata": {},
   "outputs": [],
   "source": [
    "dictionary = bdc.useDictionary().dictionary() # Set up the dictionary\n",
    "all_variables = dictionary.find() # Retrieve all variables you have access to"
   ]
  },
  {
   "cell_type": "code",
   "execution_count": null,
   "id": "0aa6ed7c",
   "metadata": {},
   "outputs": [],
   "source": [
    "## Code used to identify a bug\n",
    "\n",
    "#concepts = all_variables.listPaths()\n",
    "#for i in concepts:\n",
    "#    phs = i.split(\"\\\\\")[1]\n",
    "#    if 'phs' not in phs:\n",
    "#        print(i)\n",
    "## Note: all concept paths start with phs\n",
    "## There aren't _consents or anything like that\n",
    "#print(all_variables.count())\n",
    "#print(len(concepts))"
   ]
  },
  {
   "cell_type": "code",
   "execution_count": null,
   "id": "f30398f6",
   "metadata": {},
   "outputs": [],
   "source": [
    "all_variables.listPaths()[0:10] # Show the first ten variables"
   ]
  },
  {
   "cell_type": "markdown",
   "id": "62e80968",
   "metadata": {},
   "source": [
    "***Note: if you do not see any variables, you are not authorized to access any data. The rest of the notebook will not work.*** \n",
    "\n",
    "The above output lists all of the variables you are authorized to access in the PIC-SURE. These variables are listed as concept paths organized in the \"phs\", \"pht\", and \"phv\" format that is used by the [database of Genotypes and Phenotypes (dbGaP)](https://www.ncbi.nlm.nih.gov/gap/). The concept path is organized in the following format:\n",
    "\n",
    "**\\\\\\phs\\\\\\pht\\\\\\phv\\\\\\variable name\\\\\\**\n",
    "\n",
    "* **phs** corresponds to the study accession number \n",
    "* **pht** corresponds to the trait table accession number\n",
    "* **phv** corresponds to the variable accession number\n",
    "* the **variable name** corresponds to the encoded variable name that was used by the submitters of the data\n",
    "\n",
    "Generally, a given study will have several tables, and those tables have several variables. You can find more information on the dbGaP data structure [here](https://www.ncbi.nlm.nih.gov/pmc/articles/PMC2031016/).\n",
    "\n",
    "Let's save the phs accession number from a study that you are authorized to access."
   ]
  },
  {
   "cell_type": "markdown",
   "id": "e121fc4d",
   "metadata": {},
   "source": [
    "# Is this format for the concept paths in BioLINCC studies?"
   ]
  },
  {
   "cell_type": "code",
   "execution_count": null,
   "id": "0d8bebc5",
   "metadata": {},
   "outputs": [],
   "source": [
    "phs_number = all_variables.listPaths()[0].split('\\\\')[1]\n",
    "print(\"The phs accession being used is\", phs_number)"
   ]
  },
  {
   "cell_type": "markdown",
   "id": "dee32021",
   "metadata": {},
   "source": [
    "Now let's find all of the variables associated with that study. We can search for these using the `find()` method and searching the phs accession number. Additionally, we can view these variables in a convenient dataframe format using the `dataframe()` method."
   ]
  },
  {
   "cell_type": "code",
   "execution_count": null,
   "id": "b5fd0a00",
   "metadata": {},
   "outputs": [],
   "source": [
    "my_variables = dictionary.find(phs_number) # Search for the phs accession number\n",
    "print(\"There are\", my_variables.count(), \"variables that were returned for your search.\")\n",
    "my_variables_df = my_variables.dataframe() # Save the results as a dataframe\n",
    "my_variables_df.head() # View the first 5 rows "
   ]
  },
  {
   "cell_type": "markdown",
   "id": "35be6439",
   "metadata": {},
   "source": [
    "# Is going through each column and describing the data overkill? --> Yes.\n",
    "\n",
    "The `dataframe()` method displays additional information about the variables in PIC-SURE. Here is a brief explanation of each column:\n",
    "* **values:** data dictionary information, specifically how to decode the raw data to human-readable data. For example, if the values for the variable \"Have you had asthma?\" was `{'0': 'Yes', '1': 'No'}`, the 0s in the raw data were decoded to \"Yes\" and 1s were decoded to \"No\".\n",
    "* **metadata_tags:** tags that are associated with the variable's metadata. These tags can be used to search for or filter to sepcific variables.\n",
    "* **value_tags:** this column ???\n",
    "* **studyId:** the phs accession number associated with the variable.\n",
    "* **dtId:** the pht accession number associated with the variable.\n",
    "* **varId:** the phv accession number of the variable.\n",
    "* **is_categorical:** whether the variable is categorical (\"True\") or not (\"False\").\n",
    "* **is_continuous:** whether the variable is continuous (\"True\") or not (\"False\").\n",
    "* **reported_type:** this column ???\n",
    "* **description:** the description associated with the variable name.\n",
    "* **HPDS_PATH:** the PIC-SURE variable name\n",
    "* **study_id:** the phs accession number associated with the variable. *How is this different than studyId?*\n",
    "* **var_report_description:** the description associated with the variable name. *How is this different than description?*\n",
    "* **dataTableName:** the name associated with the data table or pht accession number.\n",
    "* **variable:** *This column seems empty?*\n",
    "* **name:** the encoded name of the variable.\n",
    "* **dataTableId:** the pht accession number associated with the variable. *How is this different than dtId?*\n",
    "* **dataTableDescription:** the description associated with the data table or pht accession number.\n",
    "* **id:** the full phv accession number of the variable. *Is this the right way to explain this?*\n",
    "* **calculated_type:** the PIC-SURE determined type of the data associated with the variable.\n",
    "* **var_name:** the encoded name of the variable. *How is this different than the name?*\n",
    "* **units:** units associated with the variable if the variable is continuous or numeric.\n",
    "* **unit:** units associated with the variable if the variable is continuous or numeric. *How is this different from units?*\n",
    "* **var_report_comment:** additional comment from the variable report. *Is this correct?*\n",
    "* **logical_max:** *What is this?*\n",
    "* **coll_interval:** *what is this?*\n",
    "* **logical_min:** *what is this?*\n",
    "* **type:** the PIC-SURE determined type of the data associated with the variable. *How is this different from calculated_type?*"
   ]
  },
  {
   "cell_type": "markdown",
   "id": "d70df03d",
   "metadata": {},
   "source": [
    "We can also view this information for individual variables using the `varInfo()` method. "
   ]
  },
  {
   "cell_type": "code",
   "execution_count": null,
   "id": "6bfe8724",
   "metadata": {},
   "outputs": [],
   "source": [
    "first_var = my_variables.listPaths()[0]\n",
    "my_variables.varInfo(first_var)"
   ]
  },
  {
   "cell_type": "markdown",
   "id": "211db5d2",
   "metadata": {},
   "source": [
    "# Add a section about searching for a term of interest - do it yourself :D"
   ]
  },
  {
   "cell_type": "markdown",
   "id": "b32b2315",
   "metadata": {},
   "source": [
    "## Using PIC-SURE to build a query and retrieve data\n",
    "You can also use the PIC-SURE API to build a query and retrieve data. With this functionality, you can filter based on specific variables, add others, and export the data as a dataframe into this notebook. \n",
    "\n",
    "The first step to this is setting up the `authQuery`."
   ]
  },
  {
   "cell_type": "code",
   "execution_count": null,
   "id": "1c471522",
   "metadata": {},
   "outputs": [],
   "source": [
    "authPicSure = bdc.useAuthPicSure()\n",
    "authQuery = authPicSure.query()"
   ]
  },
  {
   "cell_type": "markdown",
   "id": "df0f523e",
   "metadata": {},
   "source": [
    "# Add in table of functions from old notebook"
   ]
  },
  {
   "cell_type": "markdown",
   "id": "38e891c9",
   "metadata": {},
   "source": [
    "### Build a query with a categorical variable\n",
    "Let's practice building a query by filtering on variables. First, let's select a categorical variable to use. We can identify one using the `is_categorical` column of the variable dataframe."
   ]
  },
  {
   "cell_type": "code",
   "execution_count": null,
   "id": "d2e74a22",
   "metadata": {},
   "outputs": [],
   "source": [
    "categorical_var_info = my_variables_df[my_variables_df.is_categorical == True].iloc[0] # Filter to the first categorical variable\n",
    "categorical_var = categorical_var_info.HPDS_PATH\n",
    "print(\"We will use the PIC-SURE variable\", categorical_var, \"which is\", categorical_var_info.description)\n",
    "categories = list(categorical_var_info.values[0].values())\n",
    "print(\"\\nHere are the categories associated with the variable:\", categories)\n",
    "filter_category = categories[0]\n",
    "print(\"\\nWe will filter to participants with the value\", filter_category, \"for the variable.\")"
   ]
  },
  {
   "cell_type": "markdown",
   "id": "7271e5d8",
   "metadata": {},
   "source": [
    "We now have the PIC-SURE variable and the value to apply to the filter saved. We can use the `filter()` method to add this information to our query. "
   ]
  },
  {
   "cell_type": "code",
   "execution_count": null,
   "id": "f40c2bbc",
   "metadata": {},
   "outputs": [],
   "source": [
    "authQuery.filter().add(categorical_var, filter_category)"
   ]
  },
  {
   "cell_type": "markdown",
   "id": "2011f7af",
   "metadata": {},
   "source": [
    "Note that though we are only filtering by one value, you can filter by multiple values by passing a list into `filter()`.\n",
    "\n",
    "Now we can export our filtered data to a pandas dataframe in this notebook using `getResultsDataFrame()`."
   ]
  },
  {
   "cell_type": "code",
   "execution_count": null,
   "id": "0d2bdfa9",
   "metadata": {},
   "outputs": [],
   "source": [
    "results = authQuery.getResultsDataFrame(low_memory = False)\n",
    "results.head()"
   ]
  },
  {
   "cell_type": "markdown",
   "id": "a6d11d1f",
   "metadata": {},
   "source": [
    "# Mention that the columns added to this dataframe are from the rows in the data dictionary. Link the two.\n",
    "\n",
    "The above dataframe should contain the variable we selected to add to the query. Additionally, all participants should have the value we filtered by for that variable.\n",
    "\n",
    "# Include a visualization showing that the query worked and the filter was applied"
   ]
  },
  {
   "cell_type": "markdown",
   "id": "d67623e1",
   "metadata": {},
   "source": [
    "### Build a query with a continuous variable\n",
    "Similarly, we can create a query using a continuous variable. Instead of using the `is_continuous` column, let's make use of the `logical_max` and `logical_min` columns to determine the range of values that can be selected for our query."
   ]
  },
  {
   "cell_type": "code",
   "execution_count": null,
   "id": "0d2986a4",
   "metadata": {},
   "outputs": [],
   "source": [
    "continuous_var_info = my_variables_df[~pd.isna(my_variables_df.logical_max)].iloc[0] # Filter to the first continuous variable\n",
    "continuous_var = continuous_var_info.HPDS_PATH\n",
    "print(\"We will use the PIC-SURE variable\", continuous_var, \"which is\", continuous_var_info.description)\n",
    "value_range = [float(continuous_var_info.logical_min), float(continuous_var_info.logical_max)]\n",
    "print(\"\\nHere is the range of values that is associated with the variable:\", value_range)\n",
    "max_value = value_range[1]\n",
    "min_value = value_range[1] - (value_range[1] - value_range[0])/2\n",
    "print(\"\\nWe will filter to participants with the values between\", min_value, \"and\", max_value, \"for the variable.\")"
   ]
  },
  {
   "cell_type": "markdown",
   "id": "29567e5f",
   "metadata": {},
   "source": [
    "Again, we can use the `filter()` method to add the continuous variable to the query. Once added, we can retrieve our results dataframe."
   ]
  },
  {
   "cell_type": "code",
   "execution_count": null,
   "id": "c9e80e3b",
   "metadata": {},
   "outputs": [],
   "source": [
    "authQuery = authPicSure.query() # Start a new query\n",
    "authQuery.filter().add(continuous_var, min_value, max_value)"
   ]
  },
  {
   "cell_type": "code",
   "execution_count": null,
   "id": "d0c22788",
   "metadata": {},
   "outputs": [],
   "source": [
    "results = authQuery.getResultsDataFrame(low_memory = False)\n",
    "results.head()"
   ]
  },
  {
   "cell_type": "markdown",
   "id": "0d08a145",
   "metadata": {},
   "source": [
    "The above dataframe should contain the variable we selected to add to the query. Additionally, the values listed as part of that variable should be within the range of values we defined.  \n",
    "\n",
    "# Link back to data dictionary"
   ]
  },
  {
   "cell_type": "markdown",
   "id": "3fd0d332",
   "metadata": {},
   "source": [
    "### Build a query with multiple variables\n",
    "You can also add multiple variables to a single query. Let's build a query with the first five variables for the study of interest."
   ]
  },
  {
   "cell_type": "code",
   "execution_count": null,
   "id": "c118fa27",
   "metadata": {},
   "outputs": [],
   "source": [
    "query_vars = my_variables.listPaths()[0:5]\n",
    "print(\"We will add the following variables to the query:\", query_vars)"
   ]
  },
  {
   "cell_type": "markdown",
   "id": "3b3f1d07",
   "metadata": {},
   "source": [
    "We can use a different method, `anyof()`, to add variables to the query. This will filter to participants that have data for at least one of the variables added.  "
   ]
  },
  {
   "cell_type": "code",
   "execution_count": null,
   "id": "7ed96c3e",
   "metadata": {},
   "outputs": [],
   "source": [
    "authQuery = authPicSure.query() # Start a new query\n",
    "authQuery.anyof().add(query_vars)"
   ]
  },
  {
   "cell_type": "code",
   "execution_count": null,
   "id": "fb623f28",
   "metadata": {},
   "outputs": [],
   "source": [
    "results = authQuery.getResultsDataFrame(low_memory = False)\n",
    "results.head()"
   ]
  },
  {
   "cell_type": "markdown",
   "id": "043cf335",
   "metadata": {},
   "source": [
    "### Changing study consents in the query\n",
    "# Need to add this section"
   ]
  },
  {
   "cell_type": "markdown",
   "id": "c6a7a5ae",
   "metadata": {},
   "source": [
    "# Add the query ID section"
   ]
  },
  {
   "cell_type": "code",
   "execution_count": null,
   "id": "1aec5b82",
   "metadata": {},
   "outputs": [],
   "source": []
  }
 ],
 "metadata": {
  "kernelspec": {
   "display_name": "conda_python3",
   "language": "python",
   "name": "conda_python3"
  },
  "language_info": {
   "codemirror_mode": {
    "name": "ipython",
    "version": 3
   },
   "file_extension": ".py",
   "mimetype": "text/x-python",
   "name": "python",
   "nbconvert_exporter": "python",
   "pygments_lexer": "ipython3",
   "version": "3.6.13"
  }
 },
 "nbformat": 4,
 "nbformat_minor": 5
}
