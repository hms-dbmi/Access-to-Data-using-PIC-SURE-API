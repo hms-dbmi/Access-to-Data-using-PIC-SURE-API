{
 "cells": [
  {
   "cell_type": "markdown",
   "metadata": {},
   "source": [
    "# Exploring the RECOVER Adult Cohort on BioData Catalyst\n",
    "\n",
    "RECOVER is a first-of-its-kind, patient-centered research initiative to understand, diagnose, treat, and prevent Long COVID. RECOVER research includes observational cohort studies, electronic health records analysis, pathobiology studies, tissue pathology studies, and clinical trials.\n",
    "\n",
    "RECOVER studies involve thousands of people from all walks of life, hundreds of research investigators, and millions of electronic health records (EHRs). RECOVER aims to achieve the following:\n",
    "\n",
    "* Understand the range of recovery from Long COVID and the changes it can cause in people over time.\n",
    "* Define risk factors, understand the number of people getting Long COVID, and determine whether there are specific, different Long COVID types.\n",
    "* Study how Long COVID changes over time and how those changes may relate to other illnesses.\n",
    "* Identify possible treatments for Long COVID symptoms.\n",
    "\n",
    "\n",
    "Researchers can utilize BioData Catalyst Powered by PIC-SURE to search terms, apply filters, build cohorts, and export of the RECOVER Adult data in an analysis-ready format. "
   ]
  },
  {
   "cell_type": "markdown",
   "metadata": {},
   "source": [
    "------"
   ]
  },
  {
   "cell_type": "markdown",
   "metadata": {},
   "source": [
    "## Set Up\n",
    "\n",
    "### Pre-requisites\n",
    "* python 3.6 or later\n",
    "* pip python package manager, already available in most systems with a python interpreter installed (link to pip)\n",
    "\n",
    "### Install packages\n",
    "The first step to using the PIC-SURE API is to install the packages needed. The following code installs the PIC-SURE API components from GitHub, specifically:\n",
    "* PIC-SURE Client\n",
    "* PIC-SURE Adapter\n",
    "* *BDC-PIC-SURE* Adapter\n",
    "\n",
    "**Note that if you are using the dedicated PIC-SURE environment within the *BDC Powered by Seven Bridges* platform, the necessary packages have already been installed.**"
   ]
  },
  {
   "cell_type": "code",
   "execution_count": null,
   "metadata": {},
   "outputs": [],
   "source": [
    "# Install packages\n",
    "import sys\n",
    "import pandas as pd\n",
    "import matplotlib.pyplot as plt\n",
    "import numpy as np\n",
    "# BDC Powered by Terra users uncomment the following line to specify package install location\n",
    "# sys.path.insert(0, r\"/home/jupyter/.local/lib/python3.7/site-packages\")"
   ]
  },
  {
   "cell_type": "code",
   "execution_count": null,
   "metadata": {},
   "outputs": [],
   "source": [
    "# Install PIC-SURE packages\n",
    "!{sys.executable} -m pip install --upgrade --force-reinstall git+https://github.com/hms-dbmi/pic-sure-python-client.git\n",
    "!{sys.executable} -m pip install --upgrade --force-reinstall git+https://github.com/hms-dbmi/pic-sure-python-adapter-hpds.git\n",
    "!{sys.executable} -m pip install --upgrade --force-reinstall git+https://github.com/hms-dbmi/pic-sure-biodatacatalyst-python-adapter-hpds.git"
   ]
  },
  {
   "cell_type": "code",
   "execution_count": null,
   "metadata": {},
   "outputs": [],
   "source": [
    "import PicSureClient\n",
    "import PicSureBdcAdapter"
   ]
  },
  {
   "cell_type": "markdown",
   "metadata": {},
   "source": [
    "## Connecting to PIC-SURE\n",
    "\n",
    "The following is required to get access to the PIC-SURE API:\n",
    "* a network URL\n",
    "* a user-specific security token\n",
    "\n",
    "The following code specifies the network URL as the *BDC Powered by PIC-SURE* URL and references the user-specific token saved as `token.txt`.\n",
    "\n",
    "If you have not already retrieved your user-specific token, please refer to the \"Get your security token\" section of the `README.md` file and the `Workspace_setup.ipynb` file."
   ]
  },
  {
   "cell_type": "code",
   "execution_count": null,
   "metadata": {},
   "outputs": [],
   "source": [
    "PICSURE_network_URL = \"https://picsure.biodatacatalyst.nhlbi.nih.gov/picsure\"\n",
    "token_file = \"token.txt\"\n",
    "\n",
    "with open(token_file, \"r\") as f:\n",
    "    my_token = f.read()\n",
    "    \n",
    "bdc = PicSureBdcAdapter.Adapter(PICSURE_network_URL, my_token)"
   ]
  },
  {
   "cell_type": "markdown",
   "metadata": {},
   "source": [
    "## Using the RECOVER Adult Cohort\n",
    "\n",
    "The RECOVER Adult dataset includes many variables related to Long COVID and COVID-19 symptoms. For a complete view of all RECOVER variables in PIC-SURE, you can refer to the [PIC-SURE RECOVER Data Dictionary spreadsheet](https://docs.google.com/spreadsheets/d/1A-BGTOjEgaPRG0KqSNWLuFFHMRkflSMh4Y_wYL2AGag/edit?usp=sharing). \n",
    "\n",
    "PIC-SURE can also be used in the coding interface to conduct searches for variables, apply filters to build cohorts, and export the data in an analysis-ready format. \n",
    "\n",
    "For the purposes of this example notebook, let's use variables related to:\n",
    "* Postacute sequelae of SARS-CoV-2 infection (PASC)\n",
    "* Headaches or head pain \n",
    "\n",
    "Postacute sequelae of SARS-CoV-2 infection (PASC), also known as *long COVID* is defined as ongoing, relapsing, or new symptoms or conditions present 30 or more days after infection. A recent publication developed a preliminary rule for defining PASC based on a score derived from the most frequently reported symptoms from those with long COVID. A PASC score between 0 and 34 is assigned based on a person's symptoms, where a greater score indicates more PASC symptoms. The publication also defined a cutoff based on this score to identify individuals as PASC positive or PASC negative:\n",
    "* PASC score < 12: PASC negative\n",
    "* PASC score >= 12: PASC positive\n",
    "\n",
    "The RECOVER biostatistics team has used this definition to derive PASC scores for the RECOVER Adult cohort, which will be used in this notebook. For more information about these PASC scores, please refer to Thaweethai et al.'s [Development of a Definition of Postacute Sequelae of SARS-CoV-2 Infection](https://jamanetwork.com/journals/jama/fullarticle/2805540).\n",
    "\n"
   ]
  },
  {
   "cell_type": "markdown",
   "metadata": {},
   "source": [
    "### PASC Scores\n",
    "First, let's search for variables related to `PASC score`."
   ]
  },
  {
   "cell_type": "code",
   "execution_count": null,
   "metadata": {},
   "outputs": [],
   "source": [
    "# Search for derived PASC score\n",
    "dictionary = bdc.useDictionary().dictionary() # Set up the dictionary\n",
    "pasc_search = dictionary.find(\"pasc score\")\n",
    "pasc_vars = pasc_search.dataframe()\n",
    "pasc_vars = pasc_vars[pasc_vars.columnmeta_study_id == \"phs003463\"]\n",
    "pasc_vars.head()"
   ]
  },
  {
   "cell_type": "markdown",
   "metadata": {},
   "source": [
    "Here, we can see that there are many PASC-related variables in the RECOVER Adult dataset. The scores we are interested in are the `PASC score at time of survey, based on definition from Thaweethai et al. (2023)`, which are the variables generated by the RECOVER biostatistics team. We can find these by filtering the `columnmeta_name` column to show rows that contain this text. "
   ]
  },
  {
   "cell_type": "code",
   "execution_count": null,
   "metadata": {},
   "outputs": [],
   "source": [
    "# Limit to only variables with matching text in columnmeta_name\n",
    "biostats_pasc_vars = pasc_vars[pasc_vars.columnmeta_name.str.contains(\"PASC score at time of survey, based on definition from Thaweethai et al. \\(2023\\)\")]\n",
    "biostats_pasc_vars.head()"
   ]
  },
  {
   "cell_type": "markdown",
   "metadata": {},
   "source": [
    "As shown above, there are derived PASC scores at different times during the data collection, including a baseline measurement and followup visits. Let's use the baseline measurement and information from the first three followup visits."
   ]
  },
  {
   "cell_type": "code",
   "execution_count": null,
   "metadata": {},
   "outputs": [],
   "source": [
    "# Save PASC variables for baseline and first three followups\n",
    "baseline_pasc = biostats_pasc_vars.HPDS_PATH[biostats_pasc_vars.varId.str.contains(\"baseline\")].values[0]\n",
    "f1_pasc = biostats_pasc_vars.HPDS_PATH[biostats_pasc_vars.varId.str.contains(\"followup_1_\")].values[0]\n",
    "f2_pasc = biostats_pasc_vars.HPDS_PATH[biostats_pasc_vars.varId.str.contains(\"followup_2_\")].values[0]\n",
    "f3_pasc = biostats_pasc_vars.HPDS_PATH[biostats_pasc_vars.varId.str.contains(\"followup_3_\")].values[0]"
   ]
  },
  {
   "cell_type": "markdown",
   "metadata": {},
   "source": [
    "### Headache / Head Pain \n",
    "Next, let's search for variables related to `head pain`."
   ]
  },
  {
   "cell_type": "code",
   "execution_count": null,
   "metadata": {},
   "outputs": [],
   "source": [
    "# Search for headache variables\n",
    "headpain_search = dictionary.find(\"head pain\")\n",
    "headpain_vars = headpain_search.dataframe()\n",
    "headpain_vars = headpain_vars[headpain_vars.studyId == \"phs003463\"]\n",
    "headpain_vars.head()"
   ]
  },
  {
   "cell_type": "markdown",
   "metadata": {},
   "source": [
    "We can see that there are many variables related to head pain, such as `pain_head___around` for head pain around the time of index and `pain_head___now` for head pain at the time of the survey. Let's use the `pain_head___now` variables."
   ]
  },
  {
   "cell_type": "code",
   "execution_count": null,
   "metadata": {},
   "outputs": [],
   "source": [
    "headpain_now_vars = headpain_vars[headpain_vars.varId.str.contains(\"pain_head___now\")]\n",
    "headpain_now_vars.head()"
   ]
  },
  {
   "cell_type": "markdown",
   "metadata": {},
   "source": [
    "As shown above, there are derived head pain now scores at different times during the data collection, including a baseline measurement and followup visits. Let's use the baseline measurement and information from the first three followup visits."
   ]
  },
  {
   "cell_type": "code",
   "execution_count": null,
   "metadata": {},
   "outputs": [],
   "source": [
    "# Save head pain variables for baseline and first three followups\n",
    "baseline_headpain = headpain_now_vars.HPDS_PATH[headpain_now_vars.varId.str.contains(\"baseline\")].values[0]\n",
    "f1_headpain = headpain_now_vars.HPDS_PATH[headpain_now_vars.varId.str.contains(\"followup_1_\")].values[0]\n",
    "f2_headpain = headpain_now_vars.HPDS_PATH[headpain_now_vars.varId.str.contains(\"followup_2_\")].values[0]\n",
    "f3_headpain = headpain_now_vars.HPDS_PATH[headpain_now_vars.varId.str.contains(\"followup_3_\")].values[0]"
   ]
  },
  {
   "cell_type": "markdown",
   "metadata": {},
   "source": [
    "### Build a Query\n",
    "Now that we have our variables selected, we can build a query. For more information on how to apply filters to a query, please refer to the `1_PICSURE_API_101` notebook. \n",
    "\n",
    "For this query, we will be requiring that participants have information for all selected variables: PASC scores and head pain information for baseline and first three followups."
   ]
  },
  {
   "cell_type": "code",
   "execution_count": null,
   "metadata": {},
   "outputs": [],
   "source": [
    "# Build a query\n",
    "authPicSure = bdc.useAuthPicSure()\n",
    "pasc_headpain_query = authPicSure.query() # Initiate a query\n",
    "\n",
    "# Add variables as a \"require\" \n",
    "pasc_headpain_query.require().add([baseline_pasc, f1_pasc, f2_pasc, f3_pasc, baseline_headpain, f1_headpain, f2_headpain, f3_headpain])"
   ]
  },
  {
   "cell_type": "code",
   "execution_count": null,
   "metadata": {},
   "outputs": [],
   "source": [
    "# Retrieve results\n",
    "results = pasc_headpain_query.getResultsDataFrame(low_memory = False)\n",
    "# results.head() # Uncomment to peek at the dataframe"
   ]
  },
  {
   "cell_type": "markdown",
   "metadata": {},
   "source": [
    "The export has all variables added to the query as columns, with each RECOVER Adult study participant as rows. This is saved as a Python dataframe and can be used for analysis."
   ]
  },
  {
   "cell_type": "markdown",
   "metadata": {},
   "source": [
    "### Analysis\n",
    "Let's make a visualization to quickly observe the correlation between PASC scores and head pain."
   ]
  },
  {
   "cell_type": "code",
   "execution_count": null,
   "metadata": {},
   "outputs": [],
   "source": [
    "# Create a Box Plot\n",
    "\n",
    "# Get data for different boxes\n",
    "has_pain = True\n",
    "base_nopain = results[results[baseline_headpain] != has_pain][baseline_pasc]\n",
    "base_pain = results[results[baseline_headpain] == has_pain][baseline_pasc]\n",
    "f1_nopain = results[results[f1_headpain] != has_pain][f1_pasc]\n",
    "f1_pain = results[results[f1_headpain] == has_pain][f1_pasc]\n",
    "f2_nopain = results[results[f2_headpain] != has_pain][f2_pasc]\n",
    "f2_pain = results[results[f2_headpain] == has_pain][f2_pasc]\n",
    "f3_nopain = results[results[f3_headpain] != has_pain][f3_pasc]\n",
    "f3_pain = results[results[f3_headpain] == has_pain][f3_pasc]\n",
    "\n",
    "\n",
    "# Set up boxplot\n",
    "fig, ax = plt.subplots()\n",
    "\n",
    "# Baseline boxplots\n",
    "bp = ax.boxplot([base_nopain, base_pain], positions = [1, 2], widths = 0.6, patch_artist=True)#, tick_labels = [\"No Pain\", \"Pain\"])\n",
    "for patch, color in zip(bp['boxes'], ['#1a568c', '#c0143c']):\n",
    "    patch.set_facecolor(color)\n",
    "\n",
    "# Followup 1 boxplots\n",
    "bp = ax.boxplot([f1_nopain, f2_pain], positions = [4, 5], widths = 0.6, patch_artist=True)\n",
    "for patch, color in zip(bp['boxes'], ['#1a568c', '#c0143c']):\n",
    "    patch.set_facecolor(color)\n",
    "\n",
    "# Followup 2 boxplots\n",
    "bp = ax.boxplot([f2_nopain, f3_pain], positions = [7, 8], widths = 0.6, patch_artist=True)\n",
    "for patch, color in zip(bp['boxes'], ['#1a568c', '#c0143c']):\n",
    "    patch.set_facecolor(color)\n",
    "\n",
    "# Followup 3 boxplots\n",
    "bp = ax.boxplot([f3_nopain, f3_pain], positions = [10, 11], widths = 0.6, patch_artist=True)\n",
    "for patch, color in zip(bp['boxes'], ['#1a568c', '#c0143c']):\n",
    "    patch.set_facecolor(color)\n",
    "\n",
    "# Settings and labels for aesthetics\n",
    "ax.set_ylim(-1, 42) # Set Y axis\n",
    "ax.set_xticks([1.5, 4.5, 7.5, 10.5]) # Set X axis ticks and labels\n",
    "ax.set_xticklabels(['Baseline', 'Followup 1', 'Followup 2', 'Followup 3'])\n",
    "ax.legend([bp[\"boxes\"][0], bp[\"boxes\"][1]], ['No Headpain', 'Headpain'], loc='upper right') # set colors\n",
    "ax.set_ylabel(\"PASC Score\")\n",
    "ax.set_title(\"RECOVER Adult PASC Scores and Headpain\")\n",
    "\n",
    "plt.show()"
   ]
  }
 ],
 "metadata": {
  "kernelspec": {
   "display_name": "Python 3 (ipykernel)",
   "language": "python",
   "name": "python3"
  },
  "language_info": {
   "codemirror_mode": {
    "name": "ipython",
    "version": 3
   },
   "file_extension": ".py",
   "mimetype": "text/x-python",
   "name": "python",
   "nbconvert_exporter": "python",
   "pygments_lexer": "ipython3",
   "version": "3.10.5"
  }
 },
 "nbformat": 4,
 "nbformat_minor": 4
}
