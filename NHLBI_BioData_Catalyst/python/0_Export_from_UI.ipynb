{
 "cells": [
  {
   "cell_type": "markdown",
   "id": "ce09edd3-f23b-4899-8021-94c8b98e8003",
   "metadata": {},
   "source": [
    "# Export data from User Interface (UI) to analysis workspace\n",
    "This is a tutorial notebook that walks through the process of exporting selected data from the *NHLBI BioData Catalyst® (BDC) Powered by PIC-SURE* User Interface, or UI, into an analysis workspace. This is done using the PIC-SURE Application Programming Interface, or API."
   ]
  },
  {
   "cell_type": "markdown",
   "id": "5100c576-2986-428d-a270-bf97dfa5ba57",
   "metadata": {},
   "source": [
    " ------- "
   ]
  },
  {
   "cell_type": "markdown",
   "id": "b2f535e5-ad53-423e-a1da-f3521f6a21a0",
   "metadata": {},
   "source": [
    "## Introduction to exporting data into an analysis workspace with PIC-SURE\n",
    "\n",
    "Two things are needed to export data into an analysis workspace:\n",
    "1. Personalized access token: a user-specific token that tells PIC-SURE which studies a user is authorized to access\n",
    "2. Query ID: a token that describes the specific query that was built in the UI, for example, if a user has selected females with body mass index between 18 and 30 from the ARIC study\n",
    "\n",
    "Using these two components, the API can be used to export the selected data into the analysis workspace (in this case, where this Jupyter Notebook is being run). "
   ]
  },
  {
   "cell_type": "markdown",
   "id": "f528db2f-290c-4234-aaea-7e1fc64deb64",
   "metadata": {},
   "source": [
    "## Step 1: Getting your user-specific security token\n",
    "**Before running this notebook, please be sure to review the \"Get your security token\" documentation, which exists in the [`README.md` file](../README.md). It explains how to get a security token, which is mandatory to use the PIC-SURE API.**\n",
    "\n",
    "To set up your token file, be sure to run the [`Workspace_setup.ipynb` file](./Workspace_setup.ipynb)."
   ]
  },
  {
   "cell_type": "markdown",
   "id": "a6ddd9a4-429d-4c74-bc01-11b35c398687",
   "metadata": {},
   "source": [
    "## Step 2: Setting up your notebook\n",
    "\n",
    "### Pre-requisites for the notebook\n",
    "* python 3.6 or later\n",
    "* pip python package manager, already available in most systems with a python interpreter installed (link to pip)\n",
    "\n",
    "### Install packages to connect to the PIC-SURE API\n",
    "The first step to using the PIC-SURE API is to install the packages needed. The following code installs the PIC-SURE API components from GitHub, specifically:\n",
    "* PIC-SURE Client\n",
    "* PIC-SURE Adapter\n",
    "* *BDC-PIC-SURE* Adapter\n",
    "\n",
    "**Note that if you are using the dedicated PIC-SURE environment within the *BDC Powered by Seven Bridges* platform, the necessary packages have already been installed.**"
   ]
  },
  {
   "cell_type": "code",
   "execution_count": null,
   "id": "a5f481cb-c0f2-45a2-b9ab-544ed2bec434",
   "metadata": {},
   "outputs": [],
   "source": [
    "import sys\n",
    "import pandas as pd\n",
    "import matplotlib.pyplot as plt\n",
    "# BDC Powered by Terra users uncomment the following line to specify package install location\n",
    "# sys.path.insert(0, r\"/home/jupyter/.local/lib/python3.7/site-packages\")"
   ]
  },
  {
   "cell_type": "code",
   "execution_count": null,
   "id": "1a768907-e5e4-4795-aeb2-25ceeada79c1",
   "metadata": {},
   "outputs": [],
   "source": [
    "!{sys.executable} -m pip install --upgrade --force-reinstall git+https://github.com/hms-dbmi/pic-sure-python-client.git\n",
    "!{sys.executable} -m pip install --upgrade --force-reinstall git+https://github.com/hms-dbmi/pic-sure-python-adapter-hpds.git\n",
    "!{sys.executable} -m pip install --upgrade --force-reinstall git+https://github.com/hms-dbmi/pic-sure-biodatacatalyst-python-adapter-hpds.git"
   ]
  },
  {
   "cell_type": "code",
   "execution_count": null,
   "id": "43e7e62d-eaff-474d-93f1-af59bb0c1102",
   "metadata": {},
   "outputs": [],
   "source": [
    "import PicSureClient\n",
    "import PicSureBdcAdapter"
   ]
  },
  {
   "cell_type": "markdown",
   "id": "51b6d315-9155-4d83-ade1-efb6e477a523",
   "metadata": {},
   "source": [
    "### Connecting to a PIC-SURE resource\n",
    "\n",
    "The following is required to get access to the PIC-SURE API:\n",
    "* a network URL\n",
    "* a user-specific security token\n",
    "\n",
    "The following code specifies the network URL as the *BDC-PIC-SURE* URL and references the user-specific token saved as `token.txt`.\n",
    "\n",
    "If you have not already retrieved your user-specific token, please refer to the \"Get your security token\" section of the `README.md` and the `Workspace_setup.ipynb` file."
   ]
  },
  {
   "cell_type": "code",
   "execution_count": null,
   "id": "f2375bd9-d97e-4fe5-a648-da9121524582",
   "metadata": {},
   "outputs": [],
   "source": [
    "# Set up connection to PIC-SURE API\n",
    "PICSURE_network_URL = \"https://picsure.biodatacatalyst.nhlbi.nih.gov/picsure\"\n",
    "token_file = \"token.txt\"\n",
    "\n",
    "with open(token_file, \"r\") as f:\n",
    "    my_token = f.read()\n",
    "    \n",
    "bdc = PicSureBdcAdapter.Adapter(PICSURE_network_URL, my_token)"
   ]
  },
  {
   "cell_type": "markdown",
   "id": "0014e02b-f57d-48ba-918a-9b12cfba13a1",
   "metadata": {},
   "source": [
    "## Step 3: Export data from a query built in the PIC-SURE UI using the Query ID\n",
    "\n",
    "You are able to retrieve the results of a query that you have previously built using the [PIC-SURE Authorized Access UI](https://picsure.biodatacatalyst.nhlbi.nih.gov/psamaui/). After you have built your query and filtered to your cohort of interest, open the **Select and Package Data** tool in the Tool Suite. This will allow you to copy your query ID and bring it in to a Jupyter notebook. **Note that query IDs are not permanent and may expire.**"
   ]
  },
  {
   "cell_type": "markdown",
   "id": "ef9e8620-e378-413b-9464-0f1b76701af6",
   "metadata": {},
   "source": [
    "![alt How to copy PIC-SURE query ID](../imgs/get_query_ID.gif \"How to copy PIC-SURE query ID\")"
   ]
  },
  {
   "cell_type": "markdown",
   "id": "0799b9ee",
   "metadata": {},
   "source": [
    "*If you cannot view the image above:*\n",
    "* BDC Powered by Seven Bridges users please view the `get_query_ID.gif` in the `imgs` folder\n",
    "* BDC Powered by Terra users please [view the image in your browser](https://github.com/hms-dbmi/Access-to-Data-using-PIC-SURE-API/blob/bdc-branding/NHLBI_BioData_Catalyst/imgs/get_query_ID.gif)"
   ]
  },
  {
   "cell_type": "code",
   "execution_count": null,
   "id": "4c326046-b490-45a9-8360-0e796ecaf370",
   "metadata": {},
   "outputs": [],
   "source": [
    "# To run this using your notebook you must replace it with the ID value of a query that you have run.\n",
    "queryID = '<<<Paste your Query ID here>>>'"
   ]
  },
  {
   "cell_type": "code",
   "execution_count": null,
   "id": "1ffa4333-a547-4178-8acd-e6706c551385",
   "metadata": {},
   "outputs": [],
   "source": [
    "resource = bdc.useDictionary() # Set up the resource\n",
    "results = resource.retrieveQueryResults(queryID) # Retrieve data from UI\n",
    "\n",
    "# Do imports and save data as pandas dataframe\n",
    "from io import StringIO\n",
    "df_UI = pd.read_csv(StringIO(results), low_memory=False)"
   ]
  },
  {
   "cell_type": "code",
   "execution_count": null,
   "id": "40bd9e38-8ebe-4af0-8f33-b870466fe075",
   "metadata": {},
   "outputs": [],
   "source": [
    "# View the first few records in the dataframe\n",
    "df_UI.head()"
   ]
  },
  {
   "cell_type": "markdown",
   "id": "fcce4c28-36ae-4f59-bd44-fbd504f95617",
   "metadata": {},
   "source": [
    "The data has now been exported as a dataframe saved as `df_UI` and is ready for analysis."
   ]
  }
 ],
 "metadata": {
  "kernelspec": {
   "display_name": "Python 3 (ipykernel)",
   "language": "python",
   "name": "python3"
  },
  "language_info": {
   "codemirror_mode": {
    "name": "ipython",
    "version": 3
   },
   "file_extension": ".py",
   "mimetype": "text/x-python",
   "name": "python",
   "nbconvert_exporter": "python",
   "pygments_lexer": "ipython3",
   "version": "3.9.6"
  }
 },
 "nbformat": 4,
 "nbformat_minor": 5
}
