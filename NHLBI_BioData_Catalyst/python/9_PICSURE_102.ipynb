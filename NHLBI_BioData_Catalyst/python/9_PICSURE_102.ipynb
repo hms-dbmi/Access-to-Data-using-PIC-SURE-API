{
 "cells": [
  {
   "cell_type": "markdown",
   "id": "9836af39-df99-41ef-97d4-34f97bbb5714",
   "metadata": {},
   "source": [
    "# PIC-SURE 102: A Complete Harmonization-focused PIC-SURE workflow\n",
    "\n",
    "This tutorial notebook will demonstrate how a cohort developed in the PIC-SURE UI can be used for harmonization via the PIC-SURE API.\n",
    "This notebook and it's correspoding video walkthrough represents a complete, harmonization focused PIC-SURE workflow integrating the UI and API.\n",
    "\n",
    "Before running the code in this notebook, the user should follow the steps in this youtube video to create a cohort using the PIC-SURE UI. The video covers:\n",
    "1. Searching for variables of interest\n",
    "2. Filtering the cohort based on XX\n",
    "3. Filtering the cohort based on YY (genomic)\n",
    "4. Adding additional variables to export which we are interested in harmonizing\n",
    "5. Copying the resulting query ID for the created cohort\n",
    "\n",
    "In this notebook, the user will:\n",
    "1. Use the PIC-SURE API to pull the selected data export into the analysis workspace using the generated query ID\n",
    "2. Harmonize the variables of interest accross studies (?)\n",
    "3. Visualize the results. \n",
    "\n",
    "---\n"
   ]
  },
  {
   "cell_type": "markdown",
   "id": "55c3ba85-703f-4d40-b52b-d00c85fb6e56",
   "metadata": {},
   "source": [
    "For a more basic introduction to the python PIC-SURE API, see the `1_PICSURE_API_101.ipynb` notebook.\n",
    " \n",
    "**Before running this notebook, please be sure to get a user-specific security token. For more information about how to proceed, see the \\\"Get your security token\\\" instructions in the [README.md](https://github.com/hms-dbmi/Access-to-Data-using-PIC-SURE-API/tree/master/NHLBI_BioData_Catalyst#get-your-security-token).**"
   ]
  },
  {
   "cell_type": "markdown",
   "id": "f80b8f29-9d78-4206-9f74-4af36338d0fb",
   "metadata": {},
   "source": [
    "## Environment set-up\n",
    "\n",
    "### System requirements\n",
    "- Python 3.6 or later\n",
    "- pip python package manager, already available in most systems with a python interpreter installed\n",
    "\n",
    "### Install packages"
   ]
  },
  {
   "cell_type": "code",
   "execution_count": null,
   "id": "abef52f1-ad29-43ef-86a6-4ad74ed6b713",
   "metadata": {},
   "outputs": [],
   "source": [
    "import numpy as np\n",
    "import pandas as pd\n",
    "import sys\n",
    "!{sys.executable} -m pip install --upgrade --force-reinstall git+https://github.com/hms-dbmi/pic-sure-python-client.git\n",
    "!{sys.executable} -m pip install --upgrade --force-reinstall git+https://github.com/hms-dbmi/pic-sure-python-adapter-hpds.git\n",
    "!{sys.executable} -m pip install --upgrade --force-reinstall git+https://github.com/hms-dbmi/pic-sure-biodatacatalyst-python-adapter-hpds.git@new-search\n",
    "\n",
    "import PicSureClient\n",
    "import PicSureBdcAdapter"
   ]
  },
  {
   "cell_type": "markdown",
   "id": "9eb4adf2-61ab-43dd-9b87-f5b154ff20b4",
   "metadata": {},
   "source": [
    "## Connecting to a PIC-SURE network"
   ]
  },
  {
   "cell_type": "code",
   "execution_count": null,
   "id": "17aee376-da80-4321-a58b-7dffbecdba0f",
   "metadata": {},
   "outputs": [],
   "source": [
    "# Uncomment production URL when testing in production\n",
    "# PICSURE_network_URL = \"https://picsure.biodatacatalyst.nhlbi.nih.gov/picsure\"\n",
    "PICSURE_network_URL = \"https://biodatacatalyst.integration.hms.harvard.edu/picsure\"\n",
    "token_file = \"token.txt\"\n",
    "\n",
    "with open(token_file, \"r\") as f:\n",
    "    my_token = f.read()\n",
    "    \n",
    "bdc = PicSureBdcAdapter.Adapter(PICSURE_network_URL, my_token)"
   ]
  },
  {
   "cell_type": "markdown",
   "id": "22cf70f4-849e-4376-a363-c1d73b33ca7e",
   "metadata": {},
   "source": [
    "## 1. Export data from a query built in the PIC-SURE UI using the Query ID"
   ]
  },
  {
   "cell_type": "code",
   "execution_count": null,
   "id": "0b0a43b4-b22e-4f96-b0d7-1a6cccffb3bc",
   "metadata": {},
   "outputs": [],
   "source": [
    "# To run this using your notebook you must replace it with the ID value of a query that you have run.\n",
    "queryID = '<<<Paste your Query ID here>>>'\n",
    "\n",
    "resource = bdc.useDictionary() # Set up the resource\n",
    "results = resource.retrieveQueryResults(queryID) # Retrieve data from UI\n",
    "\n",
    "# Do imports and save data as pandas dataframe\n",
    "from io import StringIO\n",
    "df = pd.read_csv(StringIO(results), low_memory=False)\n",
    "\n",
    "# View the first few records in the dataframe\n",
    "df.head()"
   ]
  },
  {
   "cell_type": "markdown",
   "id": "8f48753c-c514-41f4-8e0a-225f08634819",
   "metadata": {},
   "source": [
    "## 2. Harmonize the variables of interest accross studies"
   ]
  },
  {
   "cell_type": "code",
   "execution_count": null,
   "id": "d2dd4fad-f7ef-4b52-b7be-45f01034fb89",
   "metadata": {},
   "outputs": [],
   "source": []
  },
  {
   "cell_type": "markdown",
   "id": "0c6ac2b0-76ed-453e-9afc-6b40941cfaa7",
   "metadata": {},
   "source": [
    "## 3. Visualise the results"
   ]
  },
  {
   "cell_type": "code",
   "execution_count": null,
   "id": "5e904edd-2186-4ddc-ba93-fd3a287c0d52",
   "metadata": {},
   "outputs": [],
   "source": []
  },
  {
   "cell_type": "code",
   "execution_count": null,
   "id": "599a3515-1f03-44a3-aad9-9d9c2b7e7b83",
   "metadata": {},
   "outputs": [],
   "source": []
  },
  {
   "cell_type": "code",
   "execution_count": null,
   "id": "23cf10db-f439-47dd-9a28-8724d228d2c9",
   "metadata": {},
   "outputs": [],
   "source": []
  }
 ],
 "metadata": {
  "kernelspec": {
   "display_name": "Python 3 (ipykernel)",
   "language": "python",
   "name": "python3"
  },
  "language_info": {
   "codemirror_mode": {
    "name": "ipython",
    "version": 3
   },
   "file_extension": ".py",
   "mimetype": "text/x-python",
   "name": "python",
   "nbconvert_exporter": "python",
   "pygments_lexer": "ipython3",
   "version": "3.9.6"
  }
 },
 "nbformat": 4,
 "nbformat_minor": 5
}
