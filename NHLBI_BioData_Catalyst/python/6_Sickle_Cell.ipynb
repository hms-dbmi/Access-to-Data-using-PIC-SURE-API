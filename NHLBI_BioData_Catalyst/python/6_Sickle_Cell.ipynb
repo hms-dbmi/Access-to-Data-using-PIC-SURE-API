{
 "cells": [
  {
   "cell_type": "markdown",
   "metadata": {},
   "source": [
    "# PIC-SURE API use-case: quick analysis on Hematopoietic Cell Transplant for Sickle Cell Disease (HCT for SCD) data"
   ]
  },
  {
   "cell_type": "markdown",
   "metadata": {},
   "source": [
    "For a more basic introduction to the python PIC-SURE API, see the `1_PICSURE_API_101.ipynb` notebook.\n",
    " \n",
    "**Before running this notebook, please be sure to get a user-specific security token. For more information about how to proceed, see the \\\"Get your security token\\\" instructions in the [README.md](https://github.com/hms-dbmi/Access-to-Data-using-PIC-SURE-API/tree/master/NHLBI_BioData_Catalyst#get-your-security-token).**"
   ]
  },
  {
   "cell_type": "markdown",
   "metadata": {},
   "source": [
    " -------   "
   ]
  },
  {
   "cell_type": "markdown",
   "metadata": {},
   "source": [
    "# Environment set-up"
   ]
  },
  {
   "cell_type": "markdown",
   "metadata": {},
   "source": [
    "## Environment set-up\n",
    "\n",
    "### Pre-requisites\n",
    "* python 3.6 or later\n",
    "* pip python package manager, already available in most systems with a python interpreter installed (link to pip)\n",
    "\n",
    "### Install packages"
   ]
  },
  {
   "cell_type": "code",
   "execution_count": null,
   "metadata": {},
   "outputs": [],
   "source": [
    "#needed?\n",
    "import json\n",
    "from pprint import pprint\n",
    "from scipy import stats\n",
    "\n",
    "import numpy as np\n",
    "import pandas as pd\n",
    "import matplotlib.pyplot as plt\n"
   ]
  },
  {
   "cell_type": "code",
   "execution_count": null,
   "metadata": {},
   "outputs": [],
   "source": [
    "#needed"
   ]
  },
  {
   "cell_type": "code",
   "execution_count": null,
   "metadata": {},
   "outputs": [],
   "source": [
    "\n",
    "import sys\n",
    "!{sys.executable} -m pip install --upgrade --force-reinstall git+https://github.com/hms-dbmi/pic-sure-python-client.git\n",
    "!{sys.executable} -m pip install --upgrade --force-reinstall git+https://github.com/hms-dbmi/pic-sure-python-adapter-hpds.git\n",
    "!{sys.executable} -m pip install --upgrade --force-reinstall git+https://github.com/hms-dbmi/pic-sure-biodatacatalyst-python-adapter-hpds.git@new-search\n",
    "\n",
    "import PicSureBdcAdapter"
   ]
  },
  {
   "cell_type": "markdown",
   "metadata": {},
   "source": [
    "##### Set the display parameters for tables and plots"
   ]
  },
  {
   "cell_type": "code",
   "execution_count": null,
   "metadata": {},
   "outputs": [],
   "source": [
    "# Pandas DataFrame display options\n",
    "pd.set_option(\"max.rows\", 100)\n",
    "\n",
    "# Matplotlib parameters options\n",
    "fig_size = plt.rcParams[\"figure.figsize\"]\n",
    " \n",
    "# Prints: [8.0, 6.0]\n",
    "fig_size[0] = 14\n",
    "fig_size[1] = 8\n",
    "plt.rcParams[\"figure.figsize\"] = fig_size\n",
    "\n",
    "font = {'weight' : 'bold',\n",
    "        'size'   : 14}\n",
    "\n",
    "plt.rc('font', **font)"
   ]
  },
  {
   "cell_type": "markdown",
   "metadata": {},
   "source": [
    "## Connecting to the PIC-SURE network"
   ]
  },
  {
   "cell_type": "code",
   "execution_count": null,
   "metadata": {},
   "outputs": [],
   "source": [
    "# Uncomment production URL when testing in production\n",
    "# PICSURE_network_URL = \"https://picsure.biodatacatalyst.nhlbi.nih.gov/picsure\"\n",
    "PICSURE_network_URL = \"https://biodatacatalyst.integration.hms.harvard.edu/picsure\"\n",
    "token_file = \"token.txt\"\n",
    "\n",
    "with open(token_file, \"r\") as f:\n",
    "    my_token = f.read()\n",
    "    \n",
    "bdc = PicSureBdcAdapter.Adapter(PICSURE_network_URL, my_token)"
   ]
  },
  {
   "cell_type": "markdown",
   "metadata": {},
   "source": [
    "# Analysis on Hematopoietic Cell Transplant for Sickle Cell Disease (HCT for SCD) data\n",
    "\n",
    "<font color='darkgreen'>**Goal: ?**</font> "
   ]
  },
  {
   "cell_type": "markdown",
   "metadata": {},
   "source": [
    "## Find all variables in the HCT for SCD data dictionary\n",
    "We can find all the variables associated with the study of interest, HCT for SCD, but searching the data dictionary for the appropirate PHS number or study ID (phs002385). \n",
    "\n",
    "We can find the study IDs in the Data Access Dashboard in the user interface."
   ]
  },
  {
   "cell_type": "code",
   "execution_count": null,
   "metadata": {},
   "outputs": [],
   "source": [
    "scd_dictionary = bdc.useDictionary().dictionary().find('phs002385')\n",
    "scd_dataframe = scd_dictionary.dataframe()\n",
    "print(scd_dataframe.shape)\n",
    "scd_dataframe.head()\n"
   ]
  },
  {
   "cell_type": "markdown",
   "metadata": {},
   "source": [
    "## Querying and retrieving data"
   ]
  },
  {
   "cell_type": "markdown",
   "metadata": {},
   "source": [
    "If you are interested in learning more about the available query methods, see the `1_PICSURE_API_101.ipynb` notebook. "
   ]
  },
  {
   "cell_type": "markdown",
   "metadata": {},
   "source": [
    "Let's say we are interested in the age at which patients from the following cohorts received their transplants:\n",
    "* males\n",
    "* patients with avascular necrosis\n",
    "* patients that received their transplant after the year 1999\n",
    "\n",
    "First we will find variables pertaining to sex and avascular necrosis. We can do this by searching for \"Sex\" and \"Avascular necrosis\" in the `simplified_name` column of `variablesDict`."
   ]
  },
  {
   "cell_type": "code",
   "execution_count": null,
   "metadata": {},
   "outputs": [],
   "source": [
    "scd_dataframe[scd_dataframe.columnmeta_description.str.contains(\"Sex\")]"
   ]
  },
  {
   "cell_type": "code",
   "execution_count": null,
   "metadata": {},
   "outputs": [],
   "source": [
    "sex_var = variablesDict.loc[variablesDict[\"simplified_name\"] == \"Sex\", \"name\"].values[0]\n",
    "avascular_necrosis_varname = variablesDict.loc[variablesDict[\"simplified_name\"] == \"Avascular necrosis\", \"name\"].values[0]"
   ]
  },
  {
   "cell_type": "code",
   "execution_count": null,
   "metadata": {},
   "outputs": [],
   "source": [
    "# Peek at the result for avascular necrosis\n",
    "variablesDict.loc[variablesDict[\"simplified_name\"] == \"Avascular necrosis\", \"name\"] "
   ]
  },
  {
   "cell_type": "markdown",
   "metadata": {},
   "source": [
    "Next, we can find the variable pertaining to \"Year of transplant\"."
   ]
  },
  {
   "cell_type": "code",
   "execution_count": null,
   "metadata": {},
   "outputs": [],
   "source": [
    "yr_transplant_varname = variablesDict.loc[variablesDict[\"simplified_name\"] == \"Year of transplant\", \"name\"].values[0]\n",
    "yr_transplant_varname"
   ]
  },
  {
   "cell_type": "markdown",
   "metadata": {},
   "source": [
    "Now we can create a new query and apply our filters to retrieve the cohort of interest."
   ]
  },
  {
   "cell_type": "code",
   "execution_count": null,
   "metadata": {},
   "outputs": [],
   "source": [
    "# Patients with avascular necrosis\n",
    "my_query.select().add(avascular_necrosis_varname)\n",
    "my_query.filter().add(avascular_necrosis_varname, \"Yes\")"
   ]
  },
  {
   "cell_type": "code",
   "execution_count": null,
   "metadata": {},
   "outputs": [],
   "source": [
    "# Males\n",
    "my_query.select().add(sex_var)\n",
    "my_query.filter().add(sex_var, \"Male\")"
   ]
  },
  {
   "cell_type": "code",
   "execution_count": null,
   "metadata": {},
   "outputs": [],
   "source": [
    "# Patients receiving transplants after 1999\n",
    "my_query.select().add(yr_transplant_varname)\n",
    "my_query.filter().add(yr_transplant_varname, min=2000)"
   ]
  },
  {
   "cell_type": "markdown",
   "metadata": {},
   "source": [
    "Using this cohort, we can add the variable of interest: \"Patient age at transplant, years\""
   ]
  },
  {
   "cell_type": "code",
   "execution_count": null,
   "metadata": {},
   "outputs": [],
   "source": [
    "age_transplant_var = variablesDict.loc[variablesDict[\"simplified_name\"] == \"Patient age at transplant, years\", \"name\"].values[0]\n",
    "my_query.select().add(age_transplant_var)"
   ]
  },
  {
   "cell_type": "markdown",
   "metadata": {},
   "source": [
    "## Retrieving the data"
   ]
  },
  {
   "cell_type": "markdown",
   "metadata": {},
   "source": [
    "Once our query object is finally built, we use the `query.run()` function to retrieve the data corresponding to our query"
   ]
  },
  {
   "cell_type": "code",
   "execution_count": null,
   "metadata": {},
   "outputs": [],
   "source": [
    "query_df = my_query.getResultsDataFrame().set_index(\"Patient ID\")"
   ]
  },
  {
   "cell_type": "code",
   "execution_count": null,
   "metadata": {},
   "outputs": [],
   "source": [
    "query_df.head()"
   ]
  },
  {
   "cell_type": "markdown",
   "metadata": {},
   "source": [
    "Once the data has been retrieved as a dataframe, you can use python functions to conduct analyses and create visualizations, such as this:"
   ]
  },
  {
   "cell_type": "code",
   "execution_count": null,
   "metadata": {},
   "outputs": [],
   "source": [
    "query_df[age_transplant_var].plot.hist(legend=None, \n",
    "                                       title= \"Age when transplant received in males with avascular necrosis from 2000 to present\", \n",
    "                                       bins=15)"
   ]
  },
  {
   "cell_type": "code",
   "execution_count": null,
   "metadata": {},
   "outputs": [],
   "source": []
  }
 ],
 "metadata": {
  "kernelspec": {
   "display_name": "conda_python3",
   "language": "python",
   "name": "conda_python3"
  },
  "language_info": {
   "codemirror_mode": {
    "name": "ipython",
    "version": 3
   },
   "file_extension": ".py",
   "mimetype": "text/x-python",
   "name": "python",
   "nbconvert_exporter": "python",
   "pygments_lexer": "ipython3",
   "version": "3.6.13"
  },
  "pycharm": {
   "stem_cell": {
    "cell_type": "raw",
    "metadata": {
     "collapsed": false
    },
    "source": []
   }
  }
 },
 "nbformat": 4,
 "nbformat_minor": 4
}
