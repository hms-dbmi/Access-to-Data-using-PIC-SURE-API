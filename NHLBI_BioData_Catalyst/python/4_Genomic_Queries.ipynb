{
 "cells": [
  {
   "cell_type": "markdown",
   "metadata": {},
   "source": [
    "# *NHLBI BioData Catalyst® (BDC)* Powered by PIC-SURE API Use-Case: Querying on Genomic Variables\n",
    "\n",
    "This tutorial notebook focuses how to use the PIC-SURE API to query genomic and phenotypic data together."
   ]
  },
  {
   "cell_type": "markdown",
   "metadata": {},
   "source": [
    "For a more basic introduction to the python PIC-SURE API, see the `1_PICSURE_API_101.ipynb` notebook.\n",
    " \n",
    "**Before running this notebook, please be sure to review the \"Get your security token\" documentation, which exists in the [`README.md` file](../README.md). It explains how to get a security token, which is mandatory to use the PIC-SURE API.**\n",
    "\n",
    "To set up your token file, be sure to run the [`Workspace_setup.ipynb` file](./Workspace_setup.ipynb)."
   ]
  },
  {
   "cell_type": "markdown",
   "metadata": {},
   "source": [
    " -------   "
   ]
  },
  {
   "cell_type": "markdown",
   "metadata": {},
   "source": [
    "# Environment set-up"
   ]
  },
  {
   "cell_type": "markdown",
   "metadata": {},
   "source": [
    "### Pre-requisites\n",
    "- python 3.6 or later\n",
    "- pip python package manager, already available in most systems with a python interpreter installed ([pip installation instructions](https://pip.pypa.io/en/stable/installing/))\n",
    "\n",
    "**Note that if you are using the dedicated PIC-SURE environment within the *BDC Powered by Seven Bridges* platform, the necessary packages have already been installed.**"
   ]
  },
  {
   "cell_type": "markdown",
   "metadata": {},
   "source": [
    "### Install packages\n",
    "\n"
   ]
  },
  {
   "cell_type": "code",
   "execution_count": null,
   "metadata": {},
   "outputs": [],
   "source": [
    "import sys\n",
    "import pandas as pd\n",
    "import matplotlib.pyplot as plt\n",
    "import numpy as np\n",
    "# BDC Powered by Terra users uncomment the following line to specify package install location\n",
    "# sys.path.insert(0, r\"/home/jupyter/.local/lib/python3.7/site-packages\")\n",
    "!{sys.executable} -m pip install matplotlib-venn\n",
    "from matplotlib_venn import venn2\n"
   ]
  },
  {
   "cell_type": "code",
   "execution_count": null,
   "metadata": {},
   "outputs": [],
   "source": [
    "!{sys.executable} -m pip install --upgrade --force-reinstall git+https://github.com/hms-dbmi/pic-sure-python-client.git\n",
    "!{sys.executable} -m pip install --upgrade --force-reinstall git+https://github.com/hms-dbmi/pic-sure-python-adapter-hpds.git\n",
    "!{sys.executable} -m pip install --upgrade --force-reinstall git+https://github.com/hms-dbmi/pic-sure-biodatacatalyst-python-adapter-hpds.git"
   ]
  },
  {
   "cell_type": "code",
   "execution_count": null,
   "metadata": {},
   "outputs": [],
   "source": [
    "import PicSureClient\n",
    "import PicSureBdcAdapter"
   ]
  },
  {
   "cell_type": "markdown",
   "metadata": {},
   "source": [
    "## Connecting to a PIC-SURE network"
   ]
  },
  {
   "cell_type": "code",
   "execution_count": null,
   "metadata": {},
   "outputs": [],
   "source": [
    "PICSURE_network_URL = \"https://picsure.biodatacatalyst.nhlbi.nih.gov/picsure\"\n",
    "token_file = \"token.txt\"\n",
    "\n",
    "with open(token_file, \"r\") as f:\n",
    "    my_token = f.read()\n",
    "    \n",
    "bdc = PicSureBdcAdapter.Adapter(PICSURE_network_URL, my_token)"
   ]
  },
  {
   "cell_type": "markdown",
   "metadata": {},
   "source": [
    "# Example 1: Walkthrough on building a query with genomic and phenotypic variables"
   ]
  },
  {
   "cell_type": "markdown",
   "metadata": {},
   "source": [
    "## 1.1 Building the query with the PIC-SURE API"
   ]
  },
  {
   "cell_type": "markdown",
   "metadata": {},
   "source": [
    "We are going to create a new query request from the PIC-SURE resource that was specified above.  For this example, we will limit the query to a single dataset (the TOPMed DCC Harmonized dataset) by filtering on sex, body mass index, and two genomic filters.\n",
    "\n",
    "For more information about the TOPMed DCC Harmonized dataset, please refer to the [`2_TOPMed_DCC_Harmonized_Variables_analysis.ipynb` notebook](./2_TOPMed_DCC_Harmonized_Variables_analysis.ipynb).\n",
    "\n",
    "First we will create a new query instance."
   ]
  },
  {
   "cell_type": "code",
   "execution_count": null,
   "metadata": {},
   "outputs": [],
   "source": [
    "authPicSure = bdc.useAuthPicSure()\n",
    "my_query = authPicSure.query()"
   ]
  },
  {
   "cell_type": "markdown",
   "metadata": {},
   "source": [
    "### Find all TOPMed DCC Harmonized variables"
   ]
  },
  {
   "cell_type": "markdown",
   "metadata": {},
   "source": [
    "We can search for variables related to our search query using the `dictionary().find()` method. \n",
    "\n",
    "In this example, we will retrive all variables available in the TOPMed DCC Harmonized dataset.\n",
    "\n",
    "You can find information about the phs number associated with each study and what data are available from the Data Access Dashboard in the PIC-SURE [User Interface](https://picsure.biodatacatalyst.nhlbi.nih.gov/)."
   ]
  },
  {
   "cell_type": "code",
   "execution_count": null,
   "metadata": {},
   "outputs": [],
   "source": [
    "# Retrieve all TOPMed Harmonized variables\n",
    "topmed_harmonized_dictionary = bdc.useDictionary().dictionary().find(\"DCC Harmonized\")\n",
    "\n",
    "# Save as dataframe\n",
    "harmonized_df = topmed_harmonized_dictionary.dataframe() \n",
    "harmonized_df = harmonized_df[harmonized_df['studyId'] == \"DCC Harmonized data set\"]\n",
    "print(harmonized_df.shape)\n",
    "harmonized_df.head()              "
   ]
  },
  {
   "cell_type": "markdown",
   "metadata": {},
   "source": [
    "## 1.2 Add categorical phenotypic variable (sex) to the query\n",
    "\n",
    "First, we will search our TOPMed DCC Harmonized data dictionary for a sex-related variable."
   ]
  },
  {
   "cell_type": "code",
   "execution_count": null,
   "metadata": {},
   "outputs": [],
   "source": [
    "sex_var = harmonized_df[harmonized_df.description.str.contains('Subject sex', case = False)]\n",
    "sex_var"
   ]
  },
  {
   "cell_type": "markdown",
   "metadata": {},
   "source": [
    "Let's examine the values within this variable."
   ]
  },
  {
   "cell_type": "code",
   "execution_count": null,
   "metadata": {},
   "outputs": [],
   "source": [
    "sex_var['values']"
   ]
  },
  {
   "cell_type": "markdown",
   "metadata": {},
   "source": [
    "We are only interested in Female values in this use case- let's apply this filter to our query accordingly."
   ]
  },
  {
   "cell_type": "code",
   "execution_count": null,
   "metadata": {},
   "outputs": [],
   "source": [
    "my_query.filter().add(sex_var['HPDS_PATH'],['Female'])"
   ]
  },
  {
   "cell_type": "markdown",
   "metadata": {},
   "source": [
    "## 1.3 Add continuous phenotypic variable (body mass index, BMI) to the query\n",
    "For this example, we are only interested in obese participants (BMI >= 30)."
   ]
  },
  {
   "cell_type": "markdown",
   "metadata": {},
   "source": [
    "Following the data dictionary search pattern shown above, we can search for the TOPMed DCC Harmonized dataset variables related to BMI."
   ]
  },
  {
   "cell_type": "code",
   "execution_count": null,
   "metadata": {},
   "outputs": [],
   "source": [
    "# Search our TOPMed Harmonized dataframe for a BMI variable\n",
    "bmi_var = harmonized_df[harmonized_df.description.str.contains('body mass index', case = False)]\n",
    "print(bmi_var.columnmeta_name, bmi_var.HPDS_PATH, '\\n\\n')\n",
    "\n",
    "# Examine the values\n",
    "print(bmi_var[\"min\"])\n",
    "print(bmi_var[\"max\"])\n",
    "\n",
    "# Filter to obese participants with BMI 30 or more\n",
    "my_query.filter().add(bmi_var['HPDS_PATH'], min=30)"
   ]
  },
  {
   "cell_type": "markdown",
   "metadata": {},
   "source": [
    "## 1.4 Add genomic filters to the query"
   ]
  },
  {
   "cell_type": "markdown",
   "metadata": {},
   "source": [
    "To start adding genomic filters to our query, we first need to understand what genomic annotations are available."
   ]
  },
  {
   "cell_type": "code",
   "execution_count": null,
   "metadata": {},
   "outputs": [],
   "source": [
    "genotype_annotations = authPicSure.genotype_annotations()\n",
    "genotype_annotations"
   ]
  },
  {
   "cell_type": "markdown",
   "metadata": {},
   "source": [
    "The fat mass and obesity related gene, or *FTO* gene, [has been linked to obesity and other diseases](https://www.ncbi.nlm.nih.gov/gene/79068). Let's search for this gene."
   ]
  },
  {
   "cell_type": "code",
   "execution_count": null,
   "metadata": {},
   "outputs": [],
   "source": [
    "genotype_annotation_values = authPicSure.genotype_annotation_values(\"Gene_with_variant\", \"FTO\")\n",
    "genotype_annotation_values"
   ]
  },
  {
   "cell_type": "markdown",
   "metadata": {},
   "source": [
    "Let's also say that we only want the highly severe variants. We can see the levels of severity shown below."
   ]
  },
  {
   "cell_type": "code",
   "execution_count": null,
   "metadata": {},
   "outputs": [],
   "source": [
    "severity = authPicSure.genotype_annotation_values(\"Variant_severity\", '')\n",
    "severity"
   ]
  },
  {
   "cell_type": "markdown",
   "metadata": {},
   "source": [
    "Now we can add the filters to the query."
   ]
  },
  {
   "cell_type": "code",
   "execution_count": null,
   "metadata": {},
   "outputs": [],
   "source": [
    "my_query.filter().add('Gene_with_variant', [\"FTO\"]) # FTO Gene of interest\n",
    "my_query.filter().add('Variant_severity', ['HIGH']) # High severity variants"
   ]
  },
  {
   "cell_type": "markdown",
   "metadata": {},
   "source": [
    "## 1.5 Retrieve data from the query"
   ]
  },
  {
   "cell_type": "markdown",
   "metadata": {},
   "source": [
    "#### Getting query count"
   ]
  },
  {
   "cell_type": "markdown",
   "metadata": {},
   "source": [
    "We have now built a query called `my_query` which contains the search criteria we are interested in:\n",
    "- Sex = Female\n",
    "- BMI > 30\n",
    "- Participants have a highly severe variant on *FTO*\n",
    "\n",
    "We will run a count query to find the number of matching participants.\n",
    "This is a great way to preview how many participants match your query criteria without extracting all of the data yet.\n"
   ]
  },
  {
   "cell_type": "code",
   "execution_count": null,
   "metadata": {},
   "outputs": [],
   "source": [
    "my_query_count = my_query.getCount()\n",
    "print(my_query_count)"
   ]
  },
  {
   "cell_type": "markdown",
   "metadata": {},
   "source": [
    "#### Getting query data"
   ]
  },
  {
   "cell_type": "markdown",
   "metadata": {},
   "source": [
    "We will retrieve our results in a dataframe.\n",
    "Note that since we only added sex and age to the query, these are the only phenotypic variables returned."
   ]
  },
  {
   "cell_type": "code",
   "execution_count": null,
   "metadata": {},
   "outputs": [],
   "source": [
    "query_result = my_query.getResultsDataFrame(low_memory=False)"
   ]
  },
  {
   "cell_type": "code",
   "execution_count": null,
   "metadata": {},
   "outputs": [],
   "source": [
    "query_result.shape"
   ]
  },
  {
   "cell_type": "code",
   "execution_count": null,
   "metadata": {},
   "outputs": [],
   "source": [
    "query_result.head() # Show first few rows of output"
   ]
  },
  {
   "cell_type": "markdown",
   "metadata": {},
   "source": [
    "# Example 2: Use case with *SERPINA1* gene variants as a risk factor for  COPD"
   ]
  },
  {
   "cell_type": "markdown",
   "metadata": {},
   "source": [
    "In this example, we will create a query to explore the relationship between the COPD phenotype and variants in the SERPINA1 gene. Variations of the SERPINA1 gene have been found to be a strong risk factor for COPD, which you can read more about [here](https://pubmed.ncbi.nlm.nih.gov/31661293/)."
   ]
  },
  {
   "cell_type": "markdown",
   "metadata": {},
   "source": [
    "To explore this relationship, we will narrow the cohort down to participants that meet the following criteria:\n",
    "* participated in the COPDgene study\n",
    "* have had COPD\n",
    "* have a missense variant of the *SERPINA1* gene "
   ]
  },
  {
   "cell_type": "markdown",
   "metadata": {},
   "source": [
    "## 2.1 Create query\n",
    "Let's start by creating a new query and finding the variables pertaining to the COPDgene study (phs000179)."
   ]
  },
  {
   "cell_type": "code",
   "execution_count": null,
   "metadata": {
    "scrolled": true
   },
   "outputs": [],
   "source": [
    "# Retrieve all COPDGene variables\n",
    "copd_dictionary = bdc.useDictionary().dictionary().find(\"phs000179\")\n",
    "\n",
    "# Save as dataframe\n",
    "copd_df = copd_dictionary.dataframe() \n",
    "copd_df.head()"
   ]
  },
  {
   "cell_type": "markdown",
   "metadata": {},
   "source": [
    "\n",
    "### Criteria 1: Participants who have had COPD\n",
    "Let's search our dataframe of COPDGene variables to find the one we want to use to filter for participants who have ever had COPD."
   ]
  },
  {
   "cell_type": "code",
   "execution_count": null,
   "metadata": {},
   "outputs": [],
   "source": [
    "copd_df[copd_df.columnmeta_description.str.contains('copd', case = False)][['HPDS_PATH', 'columnmeta_name', 'columnmeta_description', 'values']]"
   ]
  },
  {
   "cell_type": "markdown",
   "metadata": {},
   "source": [
    "The variable with the description \"COPD: have you ever had COPD\" seems the most promising. Let's copy that variable's HPDS path to use in our query. Also note what values are present for this variable- we will filter to participants with value \"Yes\"."
   ]
  },
  {
   "cell_type": "code",
   "execution_count": null,
   "metadata": {},
   "outputs": [],
   "source": [
    "copd_path = '\\\\phs000179\\\\pht002239\\\\phv00159731\\\\COPD\\\\'"
   ]
  },
  {
   "cell_type": "code",
   "execution_count": null,
   "metadata": {},
   "outputs": [],
   "source": [
    "copd_query = authPicSure.query()\n",
    "copd_query.filter().add(copd_path, \"Yes\")"
   ]
  },
  {
   "cell_type": "markdown",
   "metadata": {},
   "source": [
    "### Criteria 2: Participants with a missense variant on *SERPINA1*"
   ]
  },
  {
   "cell_type": "markdown",
   "metadata": {},
   "source": [
    "A filter for the *SERPINA1* gene can be added in a way similar to the first query shown above."
   ]
  },
  {
   "cell_type": "code",
   "execution_count": null,
   "metadata": {},
   "outputs": [],
   "source": [
    "copd_query.filter().add('Gene_with_variant', [\"SERPINA1\"])"
   ]
  },
  {
   "cell_type": "markdown",
   "metadata": {},
   "source": [
    "We can take a look at the variant consequences available for filtering to confirm that missense variant is a filtering option."
   ]
  },
  {
   "cell_type": "code",
   "execution_count": null,
   "metadata": {},
   "outputs": [],
   "source": [
    "consequences = authPicSure.genotype_annotation_values(\"Variant_consequence_calculated\", '')\n",
    "consequences"
   ]
  },
  {
   "cell_type": "code",
   "execution_count": null,
   "metadata": {},
   "outputs": [],
   "source": [
    "copd_query.filter().add('Variant_consequence_calculated', [\"missense_variant\"])"
   ]
  },
  {
   "cell_type": "markdown",
   "metadata": {},
   "source": [
    "COPDGene, like many studies in BDC, has associated participant genomic data in the TOPMed version of the study. In order to map to these genomic files, we will need the sample identifier from the TOPMed study of COPDGene, which has an accession number of phs000951."
   ]
  },
  {
   "cell_type": "code",
   "execution_count": null,
   "metadata": {},
   "outputs": [],
   "source": [
    "sample_id_search = bdc.useDictionary().dictionary().find(\"phs000951\").dataframe()\n",
    "sample_var = sample_id_search.HPDS_PATH[sample_id_search.description == \"Sample ID\"]\n",
    "sample_var"
   ]
  },
  {
   "cell_type": "markdown",
   "metadata": {},
   "source": [
    "To add this variable to the query, let's use `require()` to require participants to have genomic data from the TOPMed study. "
   ]
  },
  {
   "cell_type": "code",
   "execution_count": null,
   "metadata": {},
   "outputs": [],
   "source": [
    "copd_query.require().add(sample_var)"
   ]
  },
  {
   "cell_type": "markdown",
   "metadata": {},
   "source": [
    "## 2.2 Get results \n",
    "Now that the filtering is complete, we can use this final query to get counts and perform analysis on the data."
   ]
  },
  {
   "cell_type": "code",
   "execution_count": null,
   "metadata": {},
   "outputs": [],
   "source": [
    "copd_query.getCount()"
   ]
  },
  {
   "cell_type": "code",
   "execution_count": null,
   "metadata": {},
   "outputs": [],
   "source": [
    "copd_result = copd_query.getResultsDataFrame(low_memory=False)\n",
    "copd_result.shape"
   ]
  },
  {
   "cell_type": "code",
   "execution_count": null,
   "metadata": {},
   "outputs": [],
   "source": [
    "copd_result.head()"
   ]
  },
  {
   "cell_type": "markdown",
   "metadata": {},
   "source": [
    "The sample identifier column can be used to identify genomic data files from the associated TOPMed study for analysis. The following code can be used to get a list of the sample IDs associated with your cohort. Note that there are multiple samples associated with a single participant. In these cases, the IDs are separated by a tab or `\\t` character."
   ]
  },
  {
   "cell_type": "code",
   "execution_count": null,
   "metadata": {},
   "outputs": [],
   "source": [
    "clean_mapping = copd_result[['patient_id', '\\\\phs000951\\\\pht005051\\\\phv00253403\\\\SAMPLE_ID\\\\']]\n",
    "clean_mapping.columns = [\"patient_id\", \"sample_id\"]\n",
    "clean_mapping['sample_id'] = clean_mapping[\"sample_id\"].str.split(\"\\t\")\n",
    "mapping_df = clean_mapping.explode('sample_id')\n",
    "mapping_df.head()"
   ]
  }
 ],
 "metadata": {
  "kernelspec": {
   "display_name": "Python 3",
   "language": "python",
   "name": "python3"
  },
  "language_info": {
   "codemirror_mode": {
    "name": "ipython",
    "version": 3
   },
   "file_extension": ".py",
   "mimetype": "text/x-python",
   "name": "python",
   "nbconvert_exporter": "python",
   "pygments_lexer": "ipython3",
   "version": "3.9.6"
  },
  "toc": {
   "base_numbering": 1,
   "nav_menu": {},
   "number_sections": true,
   "sideBar": true,
   "skip_h1_title": false,
   "title_cell": "Table of Contents",
   "title_sidebar": "Contents",
   "toc_cell": false,
   "toc_position": {},
   "toc_section_display": true,
   "toc_window_display": false
  }
 },
 "nbformat": 4,
 "nbformat_minor": 4
}
