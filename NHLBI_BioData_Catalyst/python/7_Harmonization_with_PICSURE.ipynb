{
 "cells": [
  {
   "cell_type": "markdown",
   "id": "a523c44c",
   "metadata": {},
   "source": [
    "# Harmonization across studies with PIC-SURE"
   ]
  },
  {
   "cell_type": "markdown",
   "id": "7c93cf2d",
   "metadata": {},
   "source": [
    "This tutorial notebook will demonstrate how to query and work with the BioData Catalyst studies, particularly cross-study harmonization. For a more step-by-step introduction to the python PIC-SURE API, see the `1_PICSURE_API_101.ipynb` notebook."
   ]
  },
  {
   "cell_type": "markdown",
   "id": "3703cdd5",
   "metadata": {},
   "source": [
    "**Before running this notebook, please be sure to review the \\\"Get your security token\\\" documentation, which exists in the NHLBI_BioData_Catalyst [README.md file](https://github.com/hms-dbmi/Access-to-Data-using-PIC-SURE-API/tree/master/NHLBI_BioData_Catalyst#get-your-security-token). It explains about how to get a security token, which is mandatory to access the databases.**"
   ]
  },
  {
   "cell_type": "markdown",
   "id": "808597a6",
   "metadata": {},
   "source": [
    " -------   "
   ]
  },
  {
   "cell_type": "markdown",
   "id": "c613e6af",
   "metadata": {},
   "source": [
    "# Environment set-up"
   ]
  },
  {
   "cell_type": "markdown",
   "id": "d3067394",
   "metadata": {},
   "source": [
    "### System requirements\n",
    "- Python 3.6 or later\n",
    "- pip python package manager, already available in most systems with a python interpreter installed\n"
   ]
  },
  {
   "cell_type": "markdown",
   "id": "26fc18ec",
   "metadata": {},
   "source": [
    "### Install packages"
   ]
  },
  {
   "cell_type": "code",
   "execution_count": null,
   "id": "47fd19d7",
   "metadata": {
    "scrolled": true
   },
   "outputs": [],
   "source": [
    "import numpy as np\n",
    "import matplotlib.pyplot as plt\n",
    "import pandas as pd\n",
    "import sys\n",
    "!{sys.executable} -m pip install --upgrade --force-reinstall git+https://github.com/hms-dbmi/pic-sure-python-client.git\n",
    "!{sys.executable} -m pip install --upgrade --force-reinstall git+https://github.com/hms-dbmi/pic-sure-python-adapter-hpds.git\n",
    "!{sys.executable} -m pip install --upgrade --force-reinstall git+https://github.com/hms-dbmi/pic-sure-biodatacatalyst-python-adapter-hpds.git@new-search\n",
    "\n",
    "import PicSureBdcAdapter"
   ]
  },
  {
   "cell_type": "markdown",
   "id": "ee0a2542",
   "metadata": {},
   "source": [
    "## Connecting to a PIC-SURE network"
   ]
  },
  {
   "cell_type": "code",
   "execution_count": null,
   "id": "73c2ac8a",
   "metadata": {},
   "outputs": [],
   "source": [
    "# Uncomment production URL when testing in production\n",
    "# PICSURE_network_URL = \"https://picsure.biodatacatalyst.nhlbi.nih.gov/picsure\"\n",
    "PICSURE_network_URL = \"https://biodatacatalyst.integration.hms.harvard.edu/picsure\"\n",
    "token_file = \"token.txt\"\n",
    "\n",
    "with open(token_file, \"r\") as f:\n",
    "    my_token = f.read()\n",
    "    \n",
    "bdc = PicSureBdcAdapter.Adapter(PICSURE_network_URL, my_token)"
   ]
  },
  {
   "cell_type": "markdown",
   "id": "95867744",
   "metadata": {},
   "source": [
    " -------   "
   ]
  },
  {
   "cell_type": "markdown",
   "id": "3d18a349",
   "metadata": {},
   "source": [
    "## Harmonizing variables with PIC-SURE\n",
    "One of the key challenges to conducting analyses with several studies is ensuring correct data harmonization, or combining of data from different sources. There are many harmonization techniques, but this notebook will demonstrate how to find and extract similar variables from different studies in PIC-SURE. Two examples of this will be shown:\n",
    "1. Retrieving variables for *sex and gender* across studies with BMI\n",
    "2. Harmonizing the variable *\"orthopnea\"* across studies with age\n",
    "\n",
    "\n",
    "*For more information about the TOPMed DCC Harmonized Data Set in PIC-SURE, please refer to the [`2_TOPMed_DCC_Harmonized_Variables_analysis.ipynb`](https://github.com/hms-dbmi/Access-to-Data-using-PIC-SURE-API/blob/master/NHLBI_BioData_Catalyst/python/2_TOPMed_DCC_Harmonized_Variables_analysis.ipynb) notebook*"
   ]
  },
  {
   "cell_type": "markdown",
   "id": "5c34de90",
   "metadata": {},
   "source": [
    "-----"
   ]
  },
  {
   "cell_type": "markdown",
   "id": "d2aa6db0",
   "metadata": {},
   "source": [
    "### Sex and gender variables across studies\n",
    "<font color='darkgreen'>**Goal: Create harmonized variables for sex and BMI which combine data from multiple studies**</font> "
   ]
  },
  {
   "cell_type": "markdown",
   "id": "c137458e",
   "metadata": {},
   "source": [
    "These variables are labelled differently for each of these studies. For example, some use the keyword `sex` while others use `gender`. To acccount for these differences, we need to develop a way to search for multiple keywords at once.\n",
    "\n",
    "Let's start by searching for `sex` and `gender` to gain a better understanding of the variables that exist in PIC-SURE with these terms.\n",
    "\n"
   ]
  },
  {
   "cell_type": "code",
   "execution_count": null,
   "id": "7166ab42",
   "metadata": {},
   "outputs": [],
   "source": [
    "sex_dictionary = bdc.useDictionary().dictionary().find('sex|gender')\n",
    "sex_dataframe = sex_dictionary.dataframe()\n",
    "print(sex_dataframe.shape)\n",
    "sex_dataframe.head()\n"
   ]
  },
  {
   "cell_type": "markdown",
   "id": "f1649868",
   "metadata": {},
   "source": [
    "After reviewing the variables using the dataframe (or the [user interface](https://picsure.biodatacatalyst.nhlbi.nih.gov/psamaui/login)), let's say we are interested in sex/gender variables from the following studies:\n",
    "- ECLIPSE (Evaluation of COPD Longitudinally to Identify Predictive Surrogate Endpoints) (phs001252)\n",
    "- EOCOPD (Early Onset of COPD) (phs000946)\n",
    "\n",
    "We can find the study IDs in the data access dashboard in the user interface."
   ]
  },
  {
   "cell_type": "markdown",
   "id": "d9bfcb7c",
   "metadata": {},
   "source": [
    "We have already used the PIC-SURE API dictionary object and find method to find variables which contain the keywords sex and gender. Let's filter these results to our desired studies of interest."
   ]
  },
  {
   "cell_type": "markdown",
   "id": "0b5f7722",
   "metadata": {},
   "source": [
    "### Which sex variable in ECLIPSE should we use? \n",
    "We can see that there are many sex/gender variables in ECLIPSE originating from various data tables.\n",
    "\n",
    "We will examine the data associated with these variables to determine which one to use for our analysis."
   ]
  },
  {
   "cell_type": "code",
   "execution_count": null,
   "id": "624770b3",
   "metadata": {},
   "outputs": [],
   "source": [
    "# which sex/gender variables are part of ECLIPSE?\n",
    "eclipse_vars = sex_dataframe['studyId'].str.contains('phs001252')\n",
    "\n",
    "# create a subset of only ECLIPSE sex/gender vars\n",
    "eclipse_sex_df = sex_dataframe[eclipse_vars][['studyId', 'dataTableName', 'name', 'description', 'values', 'HPDS_PATH']]\n",
    "eclipse_sex_df\n"
   ]
  },
  {
   "cell_type": "code",
   "execution_count": null,
   "id": "fee6a7d3",
   "metadata": {},
   "outputs": [],
   "source": [
    "# Initialize a query\n",
    "authPicSure = bdc.useAuthPicSure()\n",
    "eclipse_sex_query = authPicSure.query()\n",
    "eclipse_sex_query.anyof().add(eclipse_sex_df['HPDS_PATH'])\n",
    "eclipse_sex_results = eclipse_sex_query.getResultsDataFrame()\n",
    "eclipse_sex_results.head()"
   ]
  },
  {
   "cell_type": "code",
   "execution_count": null,
   "id": "e9c3ea9c",
   "metadata": {},
   "outputs": [],
   "source": [
    "# first let's see which sex/gender variables are the most complete for our dataset by counting the number of NA values\n",
    "print(eclipse_sex_results.isna().sum())\n",
    "\n",
    "# let's focus on those variables which do not have any NA values\n",
    "filtered_eclipse_sex_results = eclipse_sex_results.loc[:, eclipse_sex_results.isna().sum() == 0]\n",
    "filtered_eclipse_sex_results"
   ]
  },
  {
   "cell_type": "code",
   "execution_count": null,
   "id": "deb90f05",
   "metadata": {},
   "outputs": [],
   "source": [
    "# in this example, we notice that all our filtered variables have equivalent data for each patient:\n",
    "filtered_eclipse_sex_results.iloc[:,4:].nunique(axis = 1).unique()"
   ]
  },
  {
   "cell_type": "code",
   "execution_count": null,
   "id": "d3f366fa",
   "metadata": {},
   "outputs": [],
   "source": [
    "# so we select the first variable to use in our analysis.\n",
    "\n",
    "# we can learn more about a variables by using the varInfo method\n",
    "eclipse_sex_var = filtered_eclipse_sex_results.columns[5]\n",
    "sex_dictionary.varInfo(eclipse_sex_var)"
   ]
  },
  {
   "cell_type": "markdown",
   "id": "3acdb0f2",
   "metadata": {},
   "source": [
    "### Which sex variable in EOCOPD should we use? \n",
    "Unlike the ECLIPSE data, we see that there is only one sex variable in EOCOPD. It is called 'GENDER'.\n",
    "\n",
    "We will save the HPDS_PATH associated to this variable so we can add it to our query later."
   ]
  },
  {
   "cell_type": "code",
   "execution_count": null,
   "id": "93f21c65",
   "metadata": {},
   "outputs": [],
   "source": [
    "# which sex/gender variables are part of EOCOPD?\n",
    "eocopd_vars = sex_dataframe['studyId'].str.contains('phs000946')\n",
    "\n",
    "# create a subset of only EOCOPD sex/gender vars\n",
    "eocopd_sex_df = sex_dataframe[eocopd_vars][['studyId', 'dataTableName', 'name', 'description', 'values', 'HPDS_PATH']]\n",
    "eocopd_sex_df\n",
    "\n",
    "eocopd_sex_var = eocopd_sex_df[['HPDS_PATH']].iloc[0,0]\n",
    "eocopd_sex_var"
   ]
  },
  {
   "cell_type": "markdown",
   "id": "d9a44393",
   "metadata": {},
   "source": [
    "### Which BMI variables should we use?\n",
    "\n",
    "We will follow the approach outlined above to first search our data dictionary for all variables containing the terms 'body mass index'. We then filter to only those BMI variables which are part of ECLIPSE or EOCOPD and view the variables with their associated metadata. By examining metadata like the dataTableName, description, nad name, we are able to determine which variables we are interested in:\n",
    "- Body Mass Index [BMI ] for eocopd (\\phs000946\\pht005719\\phv00266123\\BMI\\)\n",
    "- Body mass index (kg/m2) from the bodycomp table for eclipse (\\phs001252\\pht006373\\phv00293610\\VSBMI\\) "
   ]
  },
  {
   "cell_type": "code",
   "execution_count": null,
   "id": "130738c2",
   "metadata": {},
   "outputs": [],
   "source": [
    "bmi_dictionary = bdc.useDictionary().dictionary().find('body mass index')\n",
    "bmi_dataframe = bmi_dictionary.dataframe()\n",
    "\n",
    "# which bmi variables are part of ECLIPSE or EOCOPD?\n",
    "bmi_vars = bmi_dataframe['studyId'].str.contains('phs001252|phs000946')\n",
    "\n",
    "# create a subset of only the ECLIPSE / EOCOPD BMI vars\n",
    "bmi_dataframe = bmi_dataframe[bmi_vars][['studyId', 'dataTableName', 'name', 'description', 'values', 'HPDS_PATH']]\n",
    "bmi_dataframe\n",
    "\n",
    "# save HPDS_PATHs of interest\n",
    "eocopd_bmi_var = \"\\phs000946\\pht005719\\phv00266123\\BMI\\\\\"\n",
    "eclipse_bmi_var = \"\\phs001252\\pht006373\\phv00293610\\VSBMI\\\\\"\n",
    "\n",
    "bmi_dataframe.head()"
   ]
  },
  {
   "cell_type": "code",
   "execution_count": null,
   "id": "b42686a9",
   "metadata": {},
   "outputs": [],
   "source": [
    "combined_query = authPicSure.query()\n",
    "\n",
    "# Build query using selected concept paths\n",
    "combined_query.anyof().add([eclipse_sex_var, eclipse_bmi_var, eocopd_sex_var, eocopd_bmi_var])"
   ]
  },
  {
   "cell_type": "code",
   "execution_count": null,
   "id": "71f8aa08",
   "metadata": {},
   "outputs": [],
   "source": [
    "# Get query results\n",
    "combined_results = combined_query.getResultsDataFrame()\n",
    "combined_results.head()"
   ]
  },
  {
   "cell_type": "code",
   "execution_count": null,
   "id": "17ec3102",
   "metadata": {},
   "outputs": [],
   "source": [
    "# rename columns\n",
    "combined_results.columns = ['patient_id', 'parent_accession', 'topmed_accession', 'consent', 'eocopd_sex', 'eocopd_bmi', 'eclipse_bmi', 'eclipse_sex']\n",
    "combined_results.head()\n"
   ]
  },
  {
   "cell_type": "code",
   "execution_count": null,
   "id": "7f84ea8f",
   "metadata": {},
   "outputs": [],
   "source": [
    "# convert consent code to study name\n",
    "combined_results['study'] = np.where(combined_results['consent'].str.contains('phs001252'), 'eclipse', 'eocopd')\n",
    "combined_results.head()\n"
   ]
  },
  {
   "cell_type": "code",
   "execution_count": null,
   "id": "a40aaec6",
   "metadata": {},
   "outputs": [],
   "source": [
    "# combine sex variables\n",
    "combined_results['sex'] = combined_results['eocopd_sex'].fillna(combined_results['eclipse_sex'])\n",
    "combined_results.head()\n"
   ]
  },
  {
   "cell_type": "code",
   "execution_count": null,
   "id": "98876e6b",
   "metadata": {},
   "outputs": [],
   "source": [
    "# combine bmi variables\n",
    "combined_results['bmi'] = combined_results['eocopd_bmi'].fillna(combined_results['eclipse_bmi'])\n",
    "combined_results.head()\n"
   ]
  },
  {
   "cell_type": "code",
   "execution_count": null,
   "id": "8247b854",
   "metadata": {},
   "outputs": [],
   "source": [
    "# remove unneccessary columns and summarize\n",
    "plotdf = combined_results[[ 'study', 'sex', 'bmi']]\n",
    "plotdf = plotdf.groupby(['study', 'sex']).mean().unstack()\n",
    "plotdf"
   ]
  },
  {
   "cell_type": "code",
   "execution_count": null,
   "id": "1662d585",
   "metadata": {},
   "outputs": [],
   "source": [
    "plotdf.plot(kind = 'bar')\n"
   ]
  },
  {
   "cell_type": "markdown",
   "id": "fe72d28f",
   "metadata": {},
   "source": [
    "-----"
   ]
  },
  {
   "cell_type": "markdown",
   "id": "e606efc9",
   "metadata": {},
   "source": [
    "### Orthopnea variables across studies\n",
    "In this example, we will be harmonizing variables related to `orthopnea`. Orthopnea is shortness of breath that occurs when individuals lie flat. Because of this, people with orthopnea have to sleep propped up in bed or sitting in a chair. You can read more about this condition [here](https://www.sleepfoundation.org/sleep-apnea/orthopnea).\n",
    "\n",
    "Let's start by doing a search in PIC-SURE for concept paths containing `orthopnea`."
   ]
  },
  {
   "cell_type": "code",
   "execution_count": null,
   "id": "4fae482f",
   "metadata": {},
   "outputs": [],
   "source": [
    "ortho_dict = resource.dictionary().find(\"orthopnea\").DataFrame()\n",
    "ortho_dict.head()"
   ]
  },
  {
   "cell_type": "markdown",
   "id": "5c827abc",
   "metadata": {},
   "source": [
    "As shown in the resulting dataframe, orthopnea is often recorded as a something like `sleep on two or more pillows to help you breathe?`\n",
    "\n",
    "Let's do a search for `pillows` in PIC-SURE to explore those concept paths."
   ]
  },
  {
   "cell_type": "code",
   "execution_count": null,
   "id": "b26a5d5c",
   "metadata": {},
   "outputs": [],
   "source": [
    "pillow_dict = resource.dictionary().find(\"pillows\").DataFrame()\n",
    "pillow_dict.tail()"
   ]
  },
  {
   "cell_type": "markdown",
   "id": "0dc3f4d7",
   "metadata": {},
   "source": [
    "As shown in the resulting dataframe, there are some concept paths related to orthopnea that were not captured by the previous `orthopnea` search, such as `Do you sleep on 2 or more pillows to improve your breathing?` from the Jackson Heart Study (JHS) Cohort (phs000286). In fact, the JHS dataset was not returned at all when we searched for `orthopnea`. \n",
    "\n",
    "This is problematic for researchers studying these types of variables, since the concept paths of interest may not always be captured by a single search term. To account for this, researchers must conduct exploratory searches to determine potential search terms."
   ]
  },
  {
   "cell_type": "markdown",
   "id": "7e61d0ee",
   "metadata": {},
   "source": [
    "Let's say we want to harmonize orthopnea variables from the following datasets: FHS, MESA, and WHI. We can first get all concept paths in each study and then search for our terms of interest (`orthopnea` or `pillows`) to retrieve the concept paths of interest."
   ]
  },
  {
   "cell_type": "code",
   "execution_count": null,
   "id": "32fc8416",
   "metadata": {},
   "outputs": [],
   "source": [
    "# Function that filters out variables from a dataframe (df) that contain any of the terms (list_of_terms)\n",
    "def find_concept_paths(study_name, list_of_terms):\n",
    "    df = resource.dictionary().find(study_name).DataFrame()\n",
    "    regex_version = '('+('|').join(list_of_terms)+')'\n",
    "    var_filter = df.index.str.contains(regex_version, flags=re.IGNORECASE)\n",
    "    vars_list = list(df[var_filter].index)\n",
    "    return vars_list"
   ]
  },
  {
   "cell_type": "code",
   "execution_count": null,
   "id": "2160f2e8",
   "metadata": {},
   "outputs": [],
   "source": [
    "ortho_terms = ['orthopnea', 'pillows']"
   ]
  },
  {
   "cell_type": "code",
   "execution_count": null,
   "id": "f9d1de8a",
   "metadata": {},
   "outputs": [],
   "source": [
    "mesa = find_concept_paths('Multi-Ethnic Study of Atherosclerosis (MESA) SHARe ( phs000209 )', ortho_terms)\n",
    "# mesa # Uncomment to view full results list\n",
    "mesa_var = mesa[0]\n",
    "mesa_var"
   ]
  },
  {
   "cell_type": "code",
   "execution_count": null,
   "id": "16364b06",
   "metadata": {},
   "outputs": [],
   "source": [
    "whi = find_concept_paths(\"Women's Health Initiative Clinical Trial and Observational Study ( phs000200 )\", ortho_terms)\n",
    "# whi # Uncomment to view full results list\n",
    "whi_var = whi[0]\n",
    "whi_var"
   ]
  },
  {
   "cell_type": "code",
   "execution_count": null,
   "id": "2bec57ed",
   "metadata": {},
   "outputs": [],
   "source": [
    "fhs = find_concept_paths(\"Framingham Cohort ( phs000007 )\", ortho_terms)\n",
    "fhs # Uncomment to view full results list\n",
    "fhs_var = fhs[37]\n",
    "fhs_var"
   ]
  },
  {
   "cell_type": "markdown",
   "id": "c225abee",
   "metadata": {},
   "source": [
    "As part of our research, let's say we are interested in exploring the relationship between pneumonia and orthopnea. Let's save concept paths related to `pneumonia` as well. "
   ]
  },
  {
   "cell_type": "code",
   "execution_count": null,
   "id": "57e85d42",
   "metadata": {},
   "outputs": [],
   "source": [
    "mesa_pneu = find_concept_paths('Multi-Ethnic Study of Atherosclerosis (MESA) SHARe ( phs000209 )', ['pneumonia'])\n",
    "#mesa_pneu # Uncomment to view full results list\n",
    "mesa_pneu_var = mesa_pneu[4]\n",
    "mesa_pneu_var"
   ]
  },
  {
   "cell_type": "code",
   "execution_count": null,
   "id": "a275af23",
   "metadata": {},
   "outputs": [],
   "source": [
    "whi_pneu = find_concept_paths(\"Women's Health Initiative Clinical Trial and Observational Study ( phs000200 )\", ['pneumonia'])\n",
    "# whi_pneu # Uncomment to view full results list\n",
    "whi_pneu_var = whi_pneu[0]\n",
    "whi_pneu_var"
   ]
  },
  {
   "cell_type": "code",
   "execution_count": null,
   "id": "f44c9588",
   "metadata": {},
   "outputs": [],
   "source": [
    "fhs_pneu = find_concept_paths(\"Framingham Cohort ( phs000007 )\", ['pneumonia'])\n",
    "# fhs_pneu # Uncomment to view full results\n",
    "fhs_pneu_var = fhs_pneu[26]\n",
    "fhs_pneu_var"
   ]
  },
  {
   "cell_type": "markdown",
   "id": "f946fe7b",
   "metadata": {},
   "source": [
    "Now that we know and have saved our concept paths of interest, we can use these to build our queries and obtain our dataframes. "
   ]
  },
  {
   "cell_type": "code",
   "execution_count": null,
   "id": "d30c0347",
   "metadata": {},
   "outputs": [],
   "source": [
    "mesa_query = resource.query()\n",
    "mesa_query.anyof().add(mesa_var)\n",
    "mesa_query.require().add(mesa_pneu_var)\n",
    "mesa_results = mesa_query.getResultsDataFrame(low_memory=False)"
   ]
  },
  {
   "cell_type": "code",
   "execution_count": null,
   "id": "2507f394",
   "metadata": {},
   "outputs": [],
   "source": [
    "fhs_query = resource.query()\n",
    "fhs_query.anyof().add(fhs_var)\n",
    "fhs_query.require().add(fhs_pneu_var)\n",
    "fhs_results = fhs_query.getResultsDataFrame(low_memory=False)"
   ]
  },
  {
   "cell_type": "code",
   "execution_count": null,
   "id": "5d85d0c5",
   "metadata": {},
   "outputs": [],
   "source": [
    "whi_query = resource.query()\n",
    "whi_query.anyof().add(whi_var)\n",
    "whi_query.require().add(whi_pneu_var)\n",
    "whi_results = whi_query.getResultsDataFrame(low_memory=False)"
   ]
  },
  {
   "cell_type": "markdown",
   "id": "f5013522",
   "metadata": {},
   "source": [
    "Now that we have our patient-level dataframes, we can combine them into a single, cohesive dataframe.\n",
    "\n",
    "The following function accomplishes three main tasks:\n",
    "1. Removes extra columns, such as consent information\n",
    "2. Renames the Pneumonia and Orthopnea columns\n",
    "3. Adds the Dataset column, which corresponds to the study"
   ]
  },
  {
   "cell_type": "code",
   "execution_count": null,
   "id": "c6c220f8",
   "metadata": {},
   "outputs": [],
   "source": [
    "def clean_up_df2(df, study):\n",
    "    columns_to_drop = ['\\\\_Parent Study Accession with Subject ID\\\\', '\\\\_Topmed Study Accession with Subject ID\\\\', '\\\\_consents\\\\', '\\\\_harmonized_consent\\\\']\n",
    "    df1 = df.drop(columns=columns_to_drop, errors='ignore')\n",
    "    if 'pneumonia' in df1.columns.values[1].lower():\n",
    "        df1.columns = ['Patient ID', 'Pneumonia', 'Orthopnea']\n",
    "    else:\n",
    "        df1.columns = ['Patient ID', 'Orthopnea', 'Pneumonia']\n",
    "    df1['Dataset'] = study\n",
    "    return df1"
   ]
  },
  {
   "cell_type": "code",
   "execution_count": null,
   "id": "81135b5e",
   "metadata": {},
   "outputs": [],
   "source": [
    "clean_fhs = clean_up_df2(fhs_results, 'FHS')\n",
    "clean_whi = clean_up_df2(whi_results, 'WHI')\n",
    "clean_mesa = clean_up_df2(mesa_results, 'MESA')"
   ]
  },
  {
   "cell_type": "markdown",
   "id": "05c36c91",
   "metadata": {},
   "source": [
    "As you may have noticed, the orthopnea and pneumonia variables are encoded differently between these studies. Specifically:\n",
    "- In FHS, pneumonia is recorded as \"NO\", \"MAYBE\", or \"YES\"\n",
    "- In MESA, pneumonia is recorded as \"Yes\", \"No\", or \"Don't know / Not sure\"\n",
    "- In WHI, pneumonia is recoded as a value, or the number of times a participant has been diagnosed with pneumonia\n",
    "\n",
    "To harmonize these variables, we need to create a consistent encoding across these studies. "
   ]
  },
  {
   "cell_type": "code",
   "execution_count": null,
   "id": "b2778c9e",
   "metadata": {},
   "outputs": [],
   "source": [
    "# Combine the results for the pneumonia and orthopnea variables\n",
    "pneumonia_results = list(clean_fhs['Pneumonia'].unique())+list(clean_whi['Pneumonia'].unique())+list(clean_mesa['Pneumonia'].unique())\n",
    "orthopnea_results = list(clean_fhs['Orthopnea'].unique())+list(clean_whi['Orthopnea'].unique())+list(clean_mesa['Orthopnea'].unique())\n",
    "\n",
    "#pneumonia_results # Uncomment to view values\n",
    "#orthopnea_results # Uncomment to view values"
   ]
  },
  {
   "cell_type": "markdown",
   "id": "798ab02c",
   "metadata": {},
   "source": [
    "The following code creates these mappings:\n",
    "\n",
    "|Raw value|Harmonized value|\n",
    "|---|---|\n",
    "|No|No|\n",
    "|NO|No|\n",
    "|No/Not recorded|No|\n",
    "|Numeric value equal to 0|No|\n",
    "|MAYBE|Maybe|\n",
    "|Don't know / Not sure|Do not know|\n",
    "|DO NOT KNOW|Do not know|\n",
    "|YES|Yes|\n",
    "|Yes|Yes|\n",
    "|Numeric value greater than 0|Yes|"
   ]
  },
  {
   "cell_type": "code",
   "execution_count": null,
   "id": "73ab58d7",
   "metadata": {},
   "outputs": [],
   "source": [
    "mappings = {}\n",
    "for res in [pneumonia_results, orthopnea_results]:\n",
    "    for val in res:\n",
    "        if val not in mappings.keys():\n",
    "            if isinstance(val, float):\n",
    "                if val == 0.0:\n",
    "                    mappings[val] = 'No'\n",
    "                else:\n",
    "                    mappings[val] = 'Yes'\n",
    "            else:\n",
    "                if val.lower() == 'yes':\n",
    "                    mappings[val] = 'Yes'\n",
    "                if 'know' in val.lower():\n",
    "                    mappings[val] = 'Do not know'\n",
    "                elif 'no' in val.lower():\n",
    "                    mappings[val] = 'No'\n",
    "                if 'maybe' in val.lower():\n",
    "                    mappings[val] = 'Maybe'\n",
    "\n",
    "final_df = pd.concat([clean for clean in [clean_fhs, clean_whi, clean_mesa]], ignore_index=True)\n",
    "final_df = final_df.replace({\"Pneumonia\": mappings, 'Orthopnea':mappings})\n",
    "final_df.head()"
   ]
  },
  {
   "cell_type": "markdown",
   "id": "b3e52d8e",
   "metadata": {},
   "source": [
    "Now that the variables have been encoded in the same way, we can use this dataframe for analysis and visualizations. "
   ]
  },
  {
   "cell_type": "code",
   "execution_count": null,
   "id": "194b7bfe",
   "metadata": {},
   "outputs": [],
   "source": [
    "# library\n",
    "import matplotlib.pyplot as plt\n",
    "from matplotlib_venn import venn2"
   ]
  },
  {
   "cell_type": "code",
   "execution_count": null,
   "id": "399c34f9",
   "metadata": {},
   "outputs": [],
   "source": [
    "# Filters to apply to the final_df to create figures\n",
    "pneu_yes = final_df['Pneumonia'] == 'Yes'\n",
    "pneu_no = final_df['Pneumonia'] == 'No'\n",
    "ortho_yes = final_df['Orthopnea'] == 'Yes'\n",
    "ortho_no = final_df['Orthopnea'] == 'No'\n",
    "fhs = final_df['Dataset'] == 'FHS'\n",
    "mesa = final_df['Dataset'] == 'MESA'\n",
    "whi = final_df['Dataset'] == 'WHI'"
   ]
  },
  {
   "cell_type": "code",
   "execution_count": null,
   "id": "dadda7f4",
   "metadata": {},
   "outputs": [],
   "source": [
    "# FHS figure\n",
    "pneu_count =  final_df[pneu_yes & ortho_no & fhs].count()['Patient ID']\n",
    "ortho_count = final_df[pneu_no & ortho_yes & fhs].count()['Patient ID']\n",
    "both_count =  final_df[pneu_yes & ortho_yes & fhs].count()['Patient ID']\n",
    "venn2(subsets = (pneu_count, ortho_count, both_count), set_labels = ('Pneumonia', 'Orthopnea'))\n",
    "plt.title(\"FHS Dataset\")\n",
    "plt.show()\n",
    "\n",
    "# MESA figure\n",
    "pneu_count =  final_df[pneu_yes & ortho_no & mesa].count()['Patient ID']\n",
    "ortho_count = final_df[pneu_no & ortho_yes & mesa].count()['Patient ID']\n",
    "both_count =  final_df[pneu_yes & ortho_yes & mesa].count()['Patient ID']\n",
    "venn2(subsets = (pneu_count, ortho_count, both_count), set_labels = ('Pneumonia', 'Orthopnea'))\n",
    "plt.title(\"MESA Dataset\")\n",
    "plt.show()\n",
    "\n",
    "# WHI figure\n",
    "pneu_count =  final_df[pneu_yes & ortho_no & whi].count()['Patient ID']\n",
    "ortho_count = final_df[pneu_no & ortho_yes & whi].count()['Patient ID']\n",
    "both_count =  final_df[pneu_yes & ortho_yes & whi].count()['Patient ID']\n",
    "venn2(subsets = (pneu_count, ortho_count, both_count), set_labels = ('Pneumonia', 'Orthopnea'))\n",
    "plt.title(\"WHI Dataset\")\n",
    "plt.show()\n",
    "\n",
    "# Combined figure\n",
    "pneu_count =  final_df[pneu_yes & ortho_no].count()['Patient ID']\n",
    "ortho_count = final_df[pneu_no & ortho_yes].count()['Patient ID']\n",
    "both_count =  final_df[pneu_yes & ortho_yes].count()['Patient ID']\n",
    "venn2(subsets = (pneu_count, ortho_count, both_count), set_labels = ('Pneumonia', 'Orthopnea'))\n",
    "plt.title(\"Harmonized\")\n",
    "plt.show()"
   ]
  },
  {
   "cell_type": "code",
   "execution_count": null,
   "id": "93caca47",
   "metadata": {},
   "outputs": [],
   "source": []
  }
 ],
 "metadata": {
  "kernelspec": {
   "display_name": "conda_python3",
   "language": "python",
   "name": "conda_python3"
  },
  "language_info": {
   "codemirror_mode": {
    "name": "ipython",
    "version": 3
   },
   "file_extension": ".py",
   "mimetype": "text/x-python",
   "name": "python",
   "nbconvert_exporter": "python",
   "pygments_lexer": "ipython3",
   "version": "3.6.13"
  }
 },
 "nbformat": 4,
 "nbformat_minor": 5
}
