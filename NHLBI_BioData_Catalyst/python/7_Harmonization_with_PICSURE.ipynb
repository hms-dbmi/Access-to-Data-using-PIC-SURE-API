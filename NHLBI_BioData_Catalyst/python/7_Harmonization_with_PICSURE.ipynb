{
 "cells": [
  {
   "cell_type": "markdown",
   "id": "d829d98f",
   "metadata": {},
   "source": [
    "# Harmonization across studies with PIC-SURE"
   ]
  },
  {
   "cell_type": "markdown",
   "id": "cb3b2e51",
   "metadata": {},
   "source": [
    "This tutorial notebook will demonstrate how to query and work with the BioData Catalyst studies, particularly cross-study harmonization. For a more step-by-step introduction to the python PIC-SURE API, see the `1_PICSURE_API_101.ipynb` notebook."
   ]
  },
  {
   "cell_type": "markdown",
   "id": "c7a2626e",
   "metadata": {},
   "source": [
    "**Before running this notebook, please be sure to review the \\\"Get your security token\\\" documentation, which exists in the NHLBI_BioData_Catalyst [README.md file](https://github.com/hms-dbmi/Access-to-Data-using-PIC-SURE-API/tree/master/NHLBI_BioData_Catalyst#get-your-security-token). It explains about how to get a security token, which is mandatory to access the databases.**"
   ]
  },
  {
   "cell_type": "markdown",
   "id": "36c931c7",
   "metadata": {},
   "source": [
    " -------   "
   ]
  },
  {
   "cell_type": "markdown",
   "id": "b38cba0a",
   "metadata": {},
   "source": [
    "# Environment set-up"
   ]
  },
  {
   "cell_type": "markdown",
   "id": "a6703fe0",
   "metadata": {},
   "source": [
    "### System requirements\n",
    "- Python 3.6 or later\n",
    "- pip python package manager, already available in most systems with a python interpreter installed\n"
   ]
  },
  {
   "cell_type": "markdown",
   "id": "c7c9adb1",
   "metadata": {},
   "source": [
    "### Install packages"
   ]
  },
  {
   "cell_type": "code",
   "execution_count": null,
   "id": "91a34d22",
   "metadata": {
    "scrolled": true
   },
   "outputs": [],
   "source": [
    "!pip install matplotlib-venn\n",
    "import matplotlib.pyplot as plt\n",
    "from matplotlib_venn import venn2\n",
    "import numpy as np\n",
    "import pandas as pd\n",
    "import sys\n",
    "!{sys.executable} -m pip install --upgrade --force-reinstall git+https://github.com/hms-dbmi/pic-sure-python-client.git\n",
    "!{sys.executable} -m pip install --upgrade --force-reinstall git+https://github.com/hms-dbmi/pic-sure-python-adapter-hpds.git\n",
    "!{sys.executable} -m pip install --upgrade --force-reinstall git+https://github.com/hms-dbmi/pic-sure-biodatacatalyst-python-adapter-hpds.git@new-search\n",
    "\n",
    "import PicSureBdcAdapter"
   ]
  },
  {
   "cell_type": "markdown",
   "id": "b56ef6d3",
   "metadata": {},
   "source": [
    "## Connecting to a PIC-SURE network"
   ]
  },
  {
   "cell_type": "code",
   "execution_count": null,
   "id": "2005246a",
   "metadata": {},
   "outputs": [],
   "source": [
    "# Uncomment production URL when testing in production\n",
    "# PICSURE_network_URL = \"https://picsure.biodatacatalyst.nhlbi.nih.gov/picsure\"\n",
    "PICSURE_network_URL = \"https://biodatacatalyst.integration.hms.harvard.edu/picsure\"\n",
    "token_file = \"token.txt\"\n",
    "\n",
    "with open(token_file, \"r\") as f:\n",
    "    my_token = f.read()\n",
    "    \n",
    "bdc = PicSureBdcAdapter.Adapter(PICSURE_network_URL, my_token)"
   ]
  },
  {
   "cell_type": "markdown",
   "id": "ec36a6c1",
   "metadata": {},
   "source": [
    " -------   "
   ]
  },
  {
   "cell_type": "markdown",
   "id": "09fcd9f6",
   "metadata": {},
   "source": [
    "## Harmonizing variables with PIC-SURE\n",
    "One of the key challenges to conducting analyses with several studies is ensuring correct data harmonization, or combining of data from different sources. There are many harmonization techniques, but this notebook will demonstrate an approach to finding and extracting similar variables from different studies in PIC-SURE. Two examples of this will be shown:\n",
    "1. Retrieving variables for *sex and gender* across studies with BMI\n",
    "2. Harmonizing the *\"orthopnea\"* and *\"pneumonia\"* variables across studies\n",
    "\n",
    "\n",
    "*For more information about the TOPMed DCC Harmonized Data Set in PIC-SURE, please refer to the [`2_TOPMed_DCC_Harmonized_Variables_analysis.ipynb`](https://github.com/hms-dbmi/Access-to-Data-using-PIC-SURE-API/blob/master/NHLBI_BioData_Catalyst/python/2_TOPMed_DCC_Harmonized_Variables_analysis.ipynb) notebook*"
   ]
  },
  {
   "cell_type": "markdown",
   "id": "b2a9ab35",
   "metadata": {},
   "source": [
    "-----"
   ]
  },
  {
   "cell_type": "markdown",
   "id": "49337ff4",
   "metadata": {},
   "source": [
    "## Sex and gender variables across studies\n",
    "<font color='darkgreen'>**Goal: Create harmonized variables for sex and BMI which combine data from multiple studies**</font> "
   ]
  },
  {
   "cell_type": "markdown",
   "id": "dbdbda5f",
   "metadata": {},
   "source": [
    "These variables are labelled differently for each of these studies. For example, some use the keyword `sex` while others use `gender`. To acccount for these differences, we need to develop a way to search for multiple keywords at once.\n",
    "\n",
    "Let's start by searching for `sex` and `gender` to gain a better understanding of the variables that exist in PIC-SURE with these terms. The dictionary().find method can take in regular expressions. Here, we take advantage of this by searching for both sex and gender in the same regular expression.\n"
   ]
  },
  {
   "cell_type": "code",
   "execution_count": null,
   "id": "6a2f2bd7",
   "metadata": {},
   "outputs": [],
   "source": [
    "sex_dictionary = bdc.useDictionary().dictionary().find('sex|gender')\n",
    "sex_dataframe = sex_dictionary.dataframe()\n",
    "print(sex_dataframe.shape)\n",
    "sex_dataframe.head()\n"
   ]
  },
  {
   "cell_type": "markdown",
   "id": "1034aad5",
   "metadata": {},
   "source": [
    "After reviewing the variables using the dataframe (or the [user interface](https://picsure.biodatacatalyst.nhlbi.nih.gov/psamaui/login)), let's say we are interested in sex/gender variables from the following studies:\n",
    "- ECLIPSE (Evaluation of COPD Longitudinally to Identify Predictive Surrogate Endpoints) (phs001252)\n",
    "- EOCOPD (Early Onset of COPD) (phs000946)\n",
    "\n",
    "We can find the study IDs in the Data Access Dashboard in the user interface."
   ]
  },
  {
   "cell_type": "markdown",
   "id": "85234302",
   "metadata": {},
   "source": [
    "We have already used the PIC-SURE API dictionary object and find method to find variables which contain the keywords sex and gender. Let's filter these results to our desired studies of interest."
   ]
  },
  {
   "cell_type": "markdown",
   "id": "8490022f",
   "metadata": {},
   "source": [
    "### Which sex variable in ECLIPSE should we use? \n",
    "\n",
    "First, we will filter our sex/gender variables to only look at those from the ECLIPSE study.\n",
    "\n",
    "We can see that there are many sex/gender variables in ECLIPSE originating from various data tables.\n",
    "\n",
    "We will examine the data associated with these variables to determine which one to use for our analysis."
   ]
  },
  {
   "cell_type": "code",
   "execution_count": null,
   "id": "b89c8e62",
   "metadata": {},
   "outputs": [],
   "source": [
    "# which sex/gender variables are part of ECLIPSE?\n",
    "eclipse_vars = sex_dataframe['columnmeta_study_id'].str.contains('phs001252')\n",
    "\n",
    "# create a subset of only ECLIPSE sex/gender vars\n",
    "eclipse_sex_df = sex_dataframe[eclipse_vars][['columnmeta_study_id', 'columnmeta_var_group_description', 'columnmeta_name', 'columnmeta_description', 'values', 'columnmeta_HPDS_PATH']]\n",
    "eclipse_sex_df\n"
   ]
  },
  {
   "cell_type": "markdown",
   "id": "fdb7ac14",
   "metadata": {},
   "source": [
    "Many studies may have multiple variables with similar names and descriptions that come from different data tables. This will vary from study to study based on how the original study was conducted and organized. \n",
    "\n",
    "We will approach this complication by examining the data associated with each sex / gender variables in ECLIPSE and determining which would be the best fit for our analysis.\n",
    "\n",
    "Because we want to examine the patient level data, we will create a query using all sex/gender variables in ECLIPSE. We will add these variables to our query using the `anyof` method, as we are interested in all observations with a value for any of our chosen variables."
   ]
  },
  {
   "cell_type": "code",
   "execution_count": null,
   "id": "fb3df9a9",
   "metadata": {},
   "outputs": [],
   "source": [
    "# Initialize a query\n",
    "authPicSure = bdc.useAuthPicSure()\n",
    "eclipse_sex_query = authPicSure.query()\n",
    "eclipse_sex_query.anyof().add(eclipse_sex_df['columnmeta_HPDS_PATH'])\n",
    "eclipse_sex_results = eclipse_sex_query.getResultsDataFrame()\n",
    "eclipse_sex_results.head()"
   ]
  },
  {
   "cell_type": "markdown",
   "id": "ea549e45",
   "metadata": {},
   "source": [
    "We used the `.getResultsDataFrame()` method to organize our participant level results in a dataframe that is easy to work with using pandas. By previewing the resulting dataframe, we can see that not all of the sex and gender variables are complete for our participant subset. \n",
    "\n",
    "Let's see which sex/gender variables are the most complete for our dataset by counting the number of NA values in each one. "
   ]
  },
  {
   "cell_type": "code",
   "execution_count": null,
   "id": "a4ef9139",
   "metadata": {},
   "outputs": [],
   "source": [
    "# first let's see which sex/gender variables are the most complete for our dataset by counting the number of NA values\n",
    "print(eclipse_sex_results.isna().sum())"
   ]
  },
  {
   "cell_type": "markdown",
   "id": "51bc75ac",
   "metadata": {},
   "source": [
    "We can see that there are a few variables with 0 NA values, we would like to focus on these."
   ]
  },
  {
   "cell_type": "code",
   "execution_count": null,
   "id": "344e84f3",
   "metadata": {},
   "outputs": [],
   "source": [
    "# let's focus on those variables which do not have any NA values\n",
    "filtered_eclipse_sex_results = eclipse_sex_results.loc[:, eclipse_sex_results.isna().sum() == 0]\n",
    "filtered_eclipse_sex_results"
   ]
  },
  {
   "cell_type": "markdown",
   "id": "63f712d0",
   "metadata": {},
   "source": [
    "Now we have filtered our dataset to only include sex/gender variables in ECLIPSE which have complete data. Let's check to see if the values in each variable (column) differ, or if they all have the same data."
   ]
  },
  {
   "cell_type": "code",
   "execution_count": null,
   "id": "df87759f",
   "metadata": {},
   "outputs": [],
   "source": [
    "# in this example, we notice that all our filtered variables have equivalent data for each patient:\n",
    "filtered_eclipse_sex_results.iloc[:,4:].nunique(axis = 1).unique()"
   ]
  },
  {
   "cell_type": "markdown",
   "id": "48bcf854",
   "metadata": {},
   "source": [
    "We can see that all the values in the filtered, complete ECLIPSE sex/gender variables are the same, so we will simply select the first variable to use in our analysis.\n",
    "\n",
    "We can use the `.varInfo()` method to learn more about a variable."
   ]
  },
  {
   "cell_type": "code",
   "execution_count": null,
   "id": "8adcf279",
   "metadata": {},
   "outputs": [],
   "source": [
    "eclipse_sex_var = filtered_eclipse_sex_results.columns[3]\n",
    "sex_dictionary.varInfo(eclipse_sex_var)"
   ]
  },
  {
   "cell_type": "markdown",
   "id": "65faafcd",
   "metadata": {},
   "source": [
    "### Which sex variable in EOCOPD should we use? \n",
    "\n",
    "We will take a similar approach as above, where we first filter our dataframe of sex/gender variables to only those from the EOCOPD study."
   ]
  },
  {
   "cell_type": "code",
   "execution_count": null,
   "id": "361ce558",
   "metadata": {},
   "outputs": [],
   "source": [
    "# which sex/gender variables are part of EOCOPD?\n",
    "eocopd_vars = sex_dataframe['studyId'].str.contains('phs000946')"
   ]
  },
  {
   "cell_type": "markdown",
   "id": "bbf12f01",
   "metadata": {},
   "source": [
    "Unlike the ECLIPSE data, we see that there is only one sex variable in EOCOPD. It is called 'GENDER'.\n"
   ]
  },
  {
   "cell_type": "code",
   "execution_count": null,
   "id": "0d973ba4",
   "metadata": {},
   "outputs": [],
   "source": [
    "# create a subset of only EOCOPD sex/gender vars\n",
    "eocopd_sex_df = sex_dataframe[eocopd_vars][['columnmeta_study_id', 'columnmeta_var_group_description', 'columnmeta_name', 'columnmeta_description', 'values', 'columnmeta_HPDS_PATH']]\n",
    "eocopd_sex_df"
   ]
  },
  {
   "cell_type": "markdown",
   "id": "6ef5f4f4",
   "metadata": {},
   "source": [
    "We will save the HPDS_PATH associated to this variable so we can add it to our query later."
   ]
  },
  {
   "cell_type": "code",
   "execution_count": null,
   "id": "aee6f8b3",
   "metadata": {},
   "outputs": [],
   "source": [
    "# save the HPDS path associated to our variable of interest\n",
    "eocopd_sex_var = eocopd_sex_df[['columnmeta_HPDS_PATH']].iloc[0,0]\n",
    "eocopd_sex_var"
   ]
  },
  {
   "cell_type": "markdown",
   "id": "6c8689ac",
   "metadata": {},
   "source": [
    "### Which BMI variables should we use?\n",
    "\n",
    "We will follow the approach outlined above to first search our data dictionary for all variables containing the terms 'body mass index'. "
   ]
  },
  {
   "cell_type": "code",
   "execution_count": null,
   "id": "f00248e1",
   "metadata": {},
   "outputs": [],
   "source": [
    "bmi_dictionary = bdc.useDictionary().dictionary().find('body mass index')\n",
    "bmi_dataframe = bmi_dictionary.dataframe()\n",
    "\n"
   ]
  },
  {
   "cell_type": "markdown",
   "id": "9f359a28",
   "metadata": {},
   "source": [
    "We then filter to only those BMI variables which are part of ECLIPSE or EOCOPD and view the variables with their associated metadata. "
   ]
  },
  {
   "cell_type": "code",
   "execution_count": null,
   "id": "81132109",
   "metadata": {},
   "outputs": [],
   "source": [
    "# which bmi variables are part of ECLIPSE or EOCOPD?\n",
    "bmi_vars = bmi_dataframe['studyId'].str.contains('phs001252|phs000946')\n",
    "\n",
    "# create a subset of only the ECLIPSE / EOCOPD BMI vars\n",
    "bmi_dataframe = bmi_dataframe[bmi_vars][['columnmeta_study_id', 'columnmeta_var_group_description', 'columnmeta_name', 'columnmeta_description', 'values', 'columnmeta_HPDS_PATH']]\n",
    "bmi_dataframe.head(10)\n"
   ]
  },
  {
   "cell_type": "markdown",
   "id": "2f579e96",
   "metadata": {},
   "source": [
    "By examining metadata like the dataTableName, description, and name, we are able to determine which variables we are interested in:\n",
    "- Body Mass Index [BMI ] for EOCOPD (\\phs000946\\pht005719\\phv00266123\\BMI\\)\n",
    "- Body mass index (kg/m2) from the bodycomp table for ECLIPSE (\\phs001252\\pht006373\\phv00293610\\VSBMI\\) \n",
    "\n",
    "We will save the HPDS_PATHs associated to the BMI variables of interest so we can add it to our query later."
   ]
  },
  {
   "cell_type": "code",
   "execution_count": null,
   "id": "77f960be",
   "metadata": {},
   "outputs": [],
   "source": [
    "# save HPDS_PATHs of interest\n",
    "eocopd_bmi_var = \"\\phs000946\\pht005719\\phv00266123\\BMI\\\\\"\n",
    "eclipse_bmi_var = \"\\phs001252\\pht006373\\phv00293610\\VSBMI\\\\\"\n"
   ]
  },
  {
   "cell_type": "markdown",
   "id": "c2aaa13f",
   "metadata": {},
   "source": [
    "### Query PIC-SURE for selected variables"
   ]
  },
  {
   "cell_type": "markdown",
   "id": "baf8259c",
   "metadata": {},
   "source": [
    "First, we create a new query:"
   ]
  },
  {
   "cell_type": "code",
   "execution_count": null,
   "id": "61bb21a9",
   "metadata": {},
   "outputs": [],
   "source": [
    "combined_query = authPicSure.query()"
   ]
  },
  {
   "cell_type": "markdown",
   "id": "752e8e6b",
   "metadata": {},
   "source": [
    "Next, we add the HPDS paths (concept paths) for our selected variabels of interest to the query.\n",
    "\n",
    "As a reminder, these are the paths associated to the sex/gender and BMI variables from ECLIPSE and EOCOPD.\n",
    "\n",
    "We use the `.anyof` method to add these variables to the query because we are interested in results with observations in any of the variables of interest. If you are interested in learning more about the other query methods available, see the `1_PICSURE_API_101.ipynb` notebook. "
   ]
  },
  {
   "cell_type": "code",
   "execution_count": null,
   "id": "4d625662",
   "metadata": {},
   "outputs": [],
   "source": [
    "# Build query using selected concept paths\n",
    "combined_query.anyof().add([eclipse_sex_var, eclipse_bmi_var, eocopd_sex_var, eocopd_bmi_var])"
   ]
  },
  {
   "cell_type": "markdown",
   "id": "6eb9375b",
   "metadata": {},
   "source": [
    "We will use the `.getResultsDataFrame()` method to get our results as a dataframe object for easy manipulation using pandas."
   ]
  },
  {
   "cell_type": "code",
   "execution_count": null,
   "id": "aaf8e601",
   "metadata": {},
   "outputs": [],
   "source": [
    "# Get query results\n",
    "combined_results = combined_query.getResultsDataFrame()\n",
    "combined_results.head()"
   ]
  },
  {
   "cell_type": "markdown",
   "id": "dea0e50a",
   "metadata": {},
   "source": [
    "### Clean and wrangle query result dataframe"
   ]
  },
  {
   "cell_type": "markdown",
   "id": "d653be85",
   "metadata": {},
   "source": [
    "You may notice that the column names are not the most informative, we will rename them below."
   ]
  },
  {
   "cell_type": "code",
   "execution_count": null,
   "id": "6694451f",
   "metadata": {},
   "outputs": [],
   "source": [
    "# rename columns\n",
    "combined_results.columns = ['patient_id', 'parent_accession', 'topmed_accession', 'consent', 'eocopd_sex', 'eocopd_bmi', 'eclipse_bmi', 'eclipse_sex']\n",
    "combined_results.head()\n"
   ]
  },
  {
   "cell_type": "markdown",
   "id": "cf9159f1",
   "metadata": {},
   "source": [
    "We will also create a 'study' column to easier identify from which study a participant's data originated from."
   ]
  },
  {
   "cell_type": "code",
   "execution_count": null,
   "id": "b5e8b192",
   "metadata": {},
   "outputs": [],
   "source": [
    "# convert consent code to study name\n",
    "combined_results['study'] = np.where(combined_results['consent'].str.contains('phs001252'), 'eclipse', 'eocopd')\n",
    "combined_results.head()\n"
   ]
  },
  {
   "cell_type": "markdown",
   "id": "acc6e4bb",
   "metadata": {},
   "source": [
    "Finally, we will harmonize the sex and bmi variables by combining them into one single 'sex' column.\n",
    "\n",
    "Sex and BMI are reported in the same way in both EOCOPD and ECLIPSE, so we do not have to transform any of the participant level data."
   ]
  },
  {
   "cell_type": "code",
   "execution_count": null,
   "id": "4ba9af64",
   "metadata": {},
   "outputs": [],
   "source": [
    "# combine sex variables\n",
    "combined_results['sex'] = combined_results['eocopd_sex'].fillna(combined_results['eclipse_sex'])\n",
    "combined_results.head()\n"
   ]
  },
  {
   "cell_type": "code",
   "execution_count": null,
   "id": "18d49fcf",
   "metadata": {},
   "outputs": [],
   "source": [
    "# combine bmi variables\n",
    "combined_results['bmi'] = combined_results['eocopd_bmi'].fillna(combined_results['eclipse_bmi'])\n",
    "combined_results.head()\n"
   ]
  },
  {
   "cell_type": "markdown",
   "id": "a087a713",
   "metadata": {},
   "source": [
    "### Analysis and visualization\n",
    "\n",
    "In this example, we are interested in comparing mean BMI across different studies. We will calculate the mean for each group (ECLIPSE males, ECLIPSE females, EOCOPD males, EOCOPD females) and display the results as a table and a bar chart."
   ]
  },
  {
   "cell_type": "code",
   "execution_count": null,
   "id": "9be6f927",
   "metadata": {},
   "outputs": [],
   "source": [
    "# remove unneccessary columns and summarize\n",
    "plotdf = combined_results[[ 'sex', 'study', 'bmi']]\n",
    "plotdf = plotdf.groupby(['sex', 'study']).mean().unstack()\n",
    "plotdf"
   ]
  },
  {
   "cell_type": "code",
   "execution_count": null,
   "id": "010b822f",
   "metadata": {},
   "outputs": [],
   "source": [
    "plotdf.plot(kind = 'bar')\n"
   ]
  },
  {
   "cell_type": "markdown",
   "id": "cce2b8fa",
   "metadata": {},
   "source": [
    "-----"
   ]
  },
  {
   "cell_type": "markdown",
   "id": "05ef47da",
   "metadata": {},
   "source": [
    "## Orthopnea variables across studies\n",
    "<font color='darkgreen'>**Goal: Create harmonized variables for orthopnea and pneumonia which combine data from multiple studies, and compare participant distributions across these phenotypes**</font> \n",
    "\n",
    "In this example, we will be harmonizing variables related to `orthopnea`. Orthopnea is shortness of breath that occurs when individuals lie flat. Because of this, people with orthopnea have to sleep propped up in bed or sitting in a chair. You can read more about this condition [here](https://www.sleepfoundation.org/sleep-apnea/orthopnea).\n",
    "\n",
    "Let's start by doing a search in PIC-SURE for concept paths containing `orthopnea`."
   ]
  },
  {
   "cell_type": "markdown",
   "id": "eecc7df2",
   "metadata": {},
   "source": [
    "### Search and find orthopnea variables"
   ]
  },
  {
   "cell_type": "code",
   "execution_count": null,
   "id": "291af729",
   "metadata": {},
   "outputs": [],
   "source": [
    "orthopnea_dictionary = bdc.useDictionary().dictionary().find(\"orthopnea\")\n",
    "orthopnea_dataframe = orthopnea_dictionary.dataframe()\n",
    "print(orthopnea_dataframe.shape)\n",
    "orthopnea_dataframe[['columnmeta_name', 'columnmeta_description', 'values', 'columnmeta_study_id']].head()"
   ]
  },
  {
   "cell_type": "markdown",
   "id": "a5b56aab",
   "metadata": {},
   "source": [
    "As shown in the resulting dataframe, orthopnea is often recorded as a something like `sleep on two or more pillows to help you breathe?`\n",
    "\n",
    "Let's do a search for `pillows` in PIC-SURE to explore those concept paths."
   ]
  },
  {
   "cell_type": "code",
   "execution_count": null,
   "id": "7bd48ba8",
   "metadata": {},
   "outputs": [],
   "source": [
    "pillows_dictionary = bdc.useDictionary().dictionary().find(\"pillows\")\n",
    "pillows_dataframe = pillows_dictionary.dataframe()\n",
    "pillows_dataframe[['columnmeta_name', 'columnmeta_description', 'values', 'columnmeta_study_id']].head()"
   ]
  },
  {
   "cell_type": "markdown",
   "id": "fe50d1ca",
   "metadata": {},
   "source": [
    "As shown in the resulting dataframe, there are some concept paths related to orthopnea that were not captured by the previous `orthopnea` search, such as `Do you sleep on 2 or more pillows to improve your breathing?` from the Jackson Heart Study (JHS) Cohort (phs000286). In fact, the JHS dataset was not returned at all when we searched for `orthopnea`. \n",
    "\n",
    "This is problematic for researchers studying these types of variables, since the concept paths of interest may not always be captured by a single search term. To account for this, researchers must conduct exploratory searches to determine potential search terms."
   ]
  },
  {
   "cell_type": "markdown",
   "id": "0171209c",
   "metadata": {},
   "source": [
    "Let's say we want to harmonize orthopnea variables from the following datasets: \n",
    "- FHS (phs000007)\n",
    "- MESA (phs000209)\n",
    "- WHI (phs000200)\n",
    "\n",
    "We can first get all concept paths related to our terms of interest (`orthopnea` or `pillows`) and then filter to our studies of interest.\n",
    "\n",
    "You can get the phs number associated with each study from the Data Access Dashboard."
   ]
  },
  {
   "cell_type": "code",
   "execution_count": null,
   "id": "bcd17647",
   "metadata": {},
   "outputs": [],
   "source": [
    "# search pic-sure for 'orthopnea' and 'pillows'\n",
    "harmonized_dictionary = bdc.useDictionary().dictionary().find(\"orthopnea|pillows\")\n",
    "harmonized_df = harmonized_dictionary.dataframe()\n",
    "\n",
    "# filter to variables found in FHS, MESA, WHI\n",
    "harmonized_df = harmonized_df[harmonized_df['studyId'].str.contains('phs000007|phs000209|phs000200')]\n",
    "print(harmonized_df.shape)\n",
    "harmonized_df[['columnmeta_name', 'columnmeta_description', 'values', 'columnmeta_study_id']]"
   ]
  },
  {
   "cell_type": "markdown",
   "id": "b188a339",
   "metadata": {},
   "source": [
    "After browsing the available variables, we decided to choose the following:"
   ]
  },
  {
   "cell_type": "code",
   "execution_count": null,
   "id": "667d865e",
   "metadata": {},
   "outputs": [],
   "source": [
    "orthopnea_variables_of_interest = harmonized_df[harmonized_df['columnmeta_description'].isin(['Orthopnea', \n",
    "                                                                                   'F136 Orthopnea', \n",
    "                                                                                   'SLEEP ON 2+ PILLOWS TO HELP BREATHING'])]\n",
    "\n",
    "# save variable paths for querying data\n",
    "orthopnea_variable_paths_of_interest = orthopnea_variables_of_interest['columnmeta_HPDS_PATH'].tolist()\n",
    "\n",
    "orthopnea_variables_of_interest[['columnmeta_name', 'columnmeta_description', 'values', 'columnmeta_study_id']]\n"
   ]
  },
  {
   "cell_type": "markdown",
   "id": "df04fe8b",
   "metadata": {},
   "source": [
    "### Search and find pneumonia variables"
   ]
  },
  {
   "cell_type": "markdown",
   "id": "947b9b12",
   "metadata": {},
   "source": [
    "As part of our research, let's say we are interested in exploring the relationship between pneumonia and orthopnea. Let's save concept paths related to `pneumonia` as well. "
   ]
  },
  {
   "cell_type": "code",
   "execution_count": null,
   "id": "a65283ec",
   "metadata": {},
   "outputs": [],
   "source": [
    "# search pic-sure for 'pneumonia'\n",
    "harmonized_dictionary = bdc.useDictionary().dictionary().find(\"pneumonia\")\n",
    "harmonized_df = harmonized_dictionary.dataframe()\n",
    "\n",
    "# filter to variables found in FHS, MESA, WHI\n",
    "harmonized_df = harmonized_df[harmonized_df['columnmeta_study_id'].str.contains('phs000007|phs000209|phs000200')]\n",
    "print(harmonized_df.shape)\n",
    "harmonized_df[['columnmeta_name', 'columnmeta_description', 'values', 'columnmeta_study_id', 'varId']]"
   ]
  },
  {
   "cell_type": "markdown",
   "id": "8ca03185",
   "metadata": {},
   "source": [
    "After browsing the available variables, we decided to choose the following:"
   ]
  },
  {
   "cell_type": "code",
   "execution_count": null,
   "id": "2927d2f7",
   "metadata": {},
   "outputs": [],
   "source": [
    "pneumonia_variables_of_interest = harmonized_df[harmonized_df['varId'].isin(['phv00255144', \n",
    "                                                                             'phv00083774', \n",
    "                                                                             'phv00283208'])]\n",
    "\n",
    "# save variable paths for querying data\n",
    "pneumonia_variable_paths_of_interest = pneumonia_variables_of_interest['columnmeta_HPDS_PATH'].tolist()\n",
    "\n",
    "pneumonia_variables_of_interest[['values', 'columnmeta_study_id', 'columnmeta_description', 'columnmeta_name', 'columnmeta_var_id']]\n"
   ]
  },
  {
   "cell_type": "markdown",
   "id": "63d4e97b",
   "metadata": {},
   "source": [
    "### Query PIC-SURE for selected variables"
   ]
  },
  {
   "cell_type": "code",
   "execution_count": null,
   "id": "2638927d",
   "metadata": {},
   "outputs": [],
   "source": [
    "# Initialize a query\n",
    "authPicSure = bdc.useAuthPicSure()\n",
    "orthopnea_query = authPicSure.query()\n",
    "orthopnea_query.anyof().add(orthopnea_variable_paths_of_interest + pneumonia_variable_paths_of_interest)\n",
    "orthopnea_results = orthopnea_query.getResultsDataFrame(low_memory=False)\n",
    "orthopnea_results.head()"
   ]
  },
  {
   "cell_type": "code",
   "execution_count": null,
   "id": "d57a6af6",
   "metadata": {},
   "outputs": [],
   "source": [
    "# rename columns\n",
    "orthopnea_results.columns = ['patient_id', 'parent_accession', 'topmed_accession', 'consent', \n",
    "                             'fhs_pneumonia', 'fhs_orthopnea', 'whi_pneumonia', \n",
    "                             'whi_orthopnea', 'mesa_pneumonia', 'mesa_orthopnea']\n",
    "orthopnea_results.head()\n"
   ]
  },
  {
   "cell_type": "markdown",
   "id": "74b63d7f",
   "metadata": {},
   "source": [
    "### Clean and wrangle data"
   ]
  },
  {
   "cell_type": "code",
   "execution_count": null,
   "id": "14dd2ad4",
   "metadata": {},
   "outputs": [],
   "source": [
    "# convert consent code to study name\n",
    "orthopnea_results['study'] = np.where(orthopnea_results['consent'].str.contains('phs000007'), 'fhs', \n",
    "                                      np.where(orthopnea_results['consent'].str.contains('phs000209'), 'mesa', 'whi'))\n",
    "orthopnea_results.head()\n"
   ]
  },
  {
   "cell_type": "code",
   "execution_count": null,
   "id": "623d045d",
   "metadata": {},
   "outputs": [],
   "source": [
    "# combine orthopnea variables\n",
    "orthopnea_results['orthopnea'] = orthopnea_results['fhs_orthopnea'].fillna(orthopnea_results['whi_orthopnea'])\n",
    "orthopnea_results['orthopnea'] = orthopnea_results['orthopnea'].fillna(orthopnea_results['mesa_orthopnea'])\n",
    "orthopnea_results.head()\n",
    "\n"
   ]
  },
  {
   "cell_type": "code",
   "execution_count": null,
   "id": "ebbf2833",
   "metadata": {},
   "outputs": [],
   "source": [
    "# combine pneumonia variables\n",
    "orthopnea_results['pneumonia'] = orthopnea_results['fhs_pneumonia'].fillna(orthopnea_results['whi_pneumonia'])\n",
    "orthopnea_results['pneumonia'] = orthopnea_results['pneumonia'].fillna(orthopnea_results['mesa_pneumonia'])\n",
    "orthopnea_results.head()"
   ]
  },
  {
   "cell_type": "markdown",
   "id": "77fb4d62",
   "metadata": {},
   "source": [
    "As you may have noticed, the orthopnea and pneumonia variables are encoded differently between these studies. \n",
    "\n",
    "This means that we see a range of vales that need to be harmonized (printed below)\n",
    "\n",
    "We need to create a consistent encoding across these studies. "
   ]
  },
  {
   "cell_type": "code",
   "execution_count": null,
   "id": "8a4af221",
   "metadata": {},
   "outputs": [],
   "source": [
    "print(orthopnea_results.orthopnea.value_counts())\n",
    "print('\\n')\n",
    "print(orthopnea_results.pneumonia.value_counts())"
   ]
  },
  {
   "cell_type": "markdown",
   "id": "11238672",
   "metadata": {},
   "source": [
    "We create a consistent mapping:"
   ]
  },
  {
   "cell_type": "code",
   "execution_count": null,
   "id": "bb6d6ce1",
   "metadata": {},
   "outputs": [],
   "source": [
    "mapping_df = pd.DataFrame({'raw': np.unique(np.array(list(orthopnea_results['orthopnea']) + list(orthopnea_results['pneumonia']))),\n",
    "                           'harmonized': ['Unknown', 'Unknown', 'Unknown', 'No', 'No', 'No', 'Yes', 'Yes', 'Unknown']})\n",
    "\n",
    "value_mapping_dictionary = dict(zip(mapping_df.raw, mapping_df.harmonized))\n",
    "\n",
    "mapping_df\n",
    "        "
   ]
  },
  {
   "cell_type": "markdown",
   "id": "7575f0af",
   "metadata": {},
   "source": [
    "And apply it to our hamonized orthopnea and pneumonia columns"
   ]
  },
  {
   "cell_type": "code",
   "execution_count": null,
   "id": "94a1c2f2",
   "metadata": {},
   "outputs": [],
   "source": [
    "orthopnea_results.orthopnea = orthopnea_results.orthopnea.map(value_mapping_dictionary)\n",
    "orthopnea_results.pneumonia = orthopnea_results.pneumonia.map(value_mapping_dictionary)\n",
    "\n",
    "print(orthopnea_results.orthopnea.value_counts())\n",
    "print('\\n')\n",
    "print(orthopnea_results.pneumonia.value_counts())"
   ]
  },
  {
   "cell_type": "markdown",
   "id": "512fd044",
   "metadata": {},
   "source": [
    "Now that the variables have been encoded in the same way, we can use this dataframe for analysis and visualizations. "
   ]
  },
  {
   "cell_type": "markdown",
   "id": "146c829d",
   "metadata": {},
   "source": [
    "### Visualize"
   ]
  },
  {
   "cell_type": "code",
   "execution_count": null,
   "id": "8cf8134b",
   "metadata": {},
   "outputs": [],
   "source": [
    "final_df = orthopnea_results"
   ]
  },
  {
   "cell_type": "code",
   "execution_count": null,
   "id": "d3008d5a",
   "metadata": {},
   "outputs": [],
   "source": [
    "# Filters to apply to the final_df to create figures\n",
    "pneu_yes = final_df['pneumonia'] == 'Yes'\n",
    "pneu_no = final_df['pneumonia'] == 'No'\n",
    "ortho_yes = final_df['orthopnea'] == 'Yes'\n",
    "ortho_no = final_df['orthopnea'] == 'No'\n",
    "fhs = final_df['study'] == 'fhs'\n",
    "mesa = final_df['study'] == 'mesa'\n",
    "whi = final_df['study'] == 'whi'"
   ]
  },
  {
   "cell_type": "code",
   "execution_count": null,
   "id": "318d2010",
   "metadata": {},
   "outputs": [],
   "source": [
    "# FHS figure\n",
    "pneu_count =  final_df[pneu_yes & ortho_no & fhs].count()['patient_id']\n",
    "ortho_count = final_df[pneu_no & ortho_yes & fhs].count()['patient_id']\n",
    "both_count =  final_df[pneu_yes & ortho_yes & fhs].count()['patient_id']\n",
    "venn2(subsets = (pneu_count, ortho_count, both_count), set_labels = ('Pneumonia', 'Orthopnea'))\n",
    "plt.title(\"FHS Dataset\")\n",
    "plt.show()\n",
    "\n",
    "# MESA figure\n",
    "pneu_count =  final_df[pneu_yes & ortho_no & mesa].count()['patient_id']\n",
    "ortho_count = final_df[pneu_no & ortho_yes & mesa].count()['patient_id']\n",
    "both_count =  final_df[pneu_yes & ortho_yes & mesa].count()['patient_id']\n",
    "venn2(subsets = (pneu_count, ortho_count, both_count), set_labels = ('Pneumonia', 'Orthopnea'))\n",
    "plt.title(\"MESA Dataset\")\n",
    "plt.show()\n",
    "\n",
    "# WHI figure\n",
    "pneu_count =  final_df[pneu_yes & ortho_no & whi].count()['patient_id']\n",
    "ortho_count = final_df[pneu_no & ortho_yes & whi].count()['patient_id']\n",
    "both_count =  final_df[pneu_yes & ortho_yes & whi].count()['patient_id']\n",
    "venn2(subsets = (pneu_count, ortho_count, both_count), set_labels = ('Pneumonia', 'Orthopnea'))\n",
    "plt.title(\"WHI Dataset\")\n",
    "plt.show()\n",
    "\n",
    "# Combined figure\n",
    "pneu_count =  final_df[pneu_yes & ortho_no].count()['patient_id']\n",
    "ortho_count = final_df[pneu_no & ortho_yes].count()['patient_id']\n",
    "both_count =  final_df[pneu_yes & ortho_yes].count()['patient_id']\n",
    "venn2(subsets = (pneu_count, ortho_count, both_count), set_labels = ('Pneumonia', 'Orthopnea'))\n",
    "plt.title(\"Combined results across FHS, MESA, and WHI\")\n",
    "plt.show()"
   ]
  },
  {
   "cell_type": "code",
   "execution_count": null,
   "id": "3b13ab06",
   "metadata": {},
   "outputs": [],
   "source": []
  }
 ],
 "metadata": {
  "kernelspec": {
   "display_name": "conda_python3",
   "language": "python",
   "name": "conda_python3"
  },
  "language_info": {
   "codemirror_mode": {
    "name": "ipython",
    "version": 3
   },
   "file_extension": ".py",
   "mimetype": "text/x-python",
   "name": "python",
   "nbconvert_exporter": "python",
   "pygments_lexer": "ipython3",
   "version": "3.6.13"
  }
 },
 "nbformat": 4,
 "nbformat_minor": 5
}
