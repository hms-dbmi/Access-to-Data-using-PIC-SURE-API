{
 "cells": [
  {
   "cell_type": "markdown",
   "id": "45208894",
   "metadata": {},
   "source": [
    "# Harmonization across studies with *NHLBI BioData Catalyst® (BDC) Powered by PIC-SURE*"
   ]
  },
  {
   "cell_type": "markdown",
   "id": "399ffd28",
   "metadata": {},
   "source": [
    "This tutorial notebook will demonstrate how to query and work with the BDC studies, particularly cross-study harmonization. For a more step-by-step introduction to the python PIC-SURE API, see the `1_PICSURE_API_101.ipynb` notebook."
   ]
  },
  {
   "cell_type": "markdown",
   "id": "7bc33b6d",
   "metadata": {},
   "source": [
    "**Before running this notebook, please be sure to review the \\\"Get your security token\\\" documentation, which exists in the [`README.md` file](../README.md). It explains about how to get a security token, which is mandatory to access the databases.**"
   ]
  },
  {
   "cell_type": "markdown",
   "id": "cce18daf",
   "metadata": {},
   "source": [
    " -------   "
   ]
  },
  {
   "cell_type": "markdown",
   "id": "11a7006f",
   "metadata": {},
   "source": [
    "# Environment set-up"
   ]
  },
  {
   "cell_type": "markdown",
   "id": "daf6075a",
   "metadata": {},
   "source": [
    "### System requirements\n",
    "- Python 3.6 or later\n",
    "- pip python package manager, already available in most systems with a python interpreter installed\n"
   ]
  },
  {
   "cell_type": "markdown",
   "id": "33516f23",
   "metadata": {},
   "source": [
    "### Install packages\n",
    "\n",
    "**Note that if you are using the dedicated PIC-SURE environment within the *BDC Powered by Seven Bridges* platform, the necessary packages have already been installed.**"
   ]
  },
  {
   "cell_type": "code",
   "execution_count": null,
   "id": "c09dfa43-f1d5-458d-87fb-ef788bcbf605",
   "metadata": {},
   "outputs": [],
   "source": [
    "import sys\n",
    "import pandas as pd\n",
    "import matplotlib.pyplot as plt\n",
    "import numpy as np\n",
    "# BDC Powered by Terra users uncomment the following line to specify package install location\n",
    "# sys.path.insert(0, r\"/home/jupyter/.local/lib/python3.7/site-packages\")\n",
    "!pip install matplotlib-venn\n",
    "from matplotlib_venn import venn2\n"
   ]
  },
  {
   "cell_type": "code",
   "execution_count": null,
   "id": "3445f579-2fda-478d-90b1-51cd2f7a4311",
   "metadata": {},
   "outputs": [],
   "source": [
    "!{sys.executable} -m pip install --upgrade --force-reinstall git+https://github.com/hms-dbmi/pic-sure-python-client.git\n",
    "!{sys.executable} -m pip install --upgrade --force-reinstall git+https://github.com/hms-dbmi/pic-sure-python-adapter-hpds.git\n",
    "!{sys.executable} -m pip install --upgrade --force-reinstall git+https://github.com/hms-dbmi/pic-sure-biodatacatalyst-python-adapter-hpds.git"
   ]
  },
  {
   "cell_type": "code",
   "execution_count": null,
   "id": "9a23b694-73de-448b-836e-539749b96da7",
   "metadata": {},
   "outputs": [],
   "source": [
    "import PicSureClient\n",
    "import PicSureBdcAdapter"
   ]
  },
  {
   "cell_type": "markdown",
   "id": "9dd4a827",
   "metadata": {},
   "source": [
    "## Connecting to a PIC-SURE network"
   ]
  },
  {
   "cell_type": "code",
   "execution_count": null,
   "id": "e8f3b154",
   "metadata": {},
   "outputs": [],
   "source": [
    "PICSURE_network_URL = \"https://picsure.biodatacatalyst.nhlbi.nih.gov/picsure\"\n",
    "token_file = \"token.txt\"\n",
    "\n",
    "with open(token_file, \"r\") as f:\n",
    "    my_token = f.read()\n",
    "    \n",
    "bdc = PicSureBdcAdapter.Adapter(PICSURE_network_URL, my_token)"
   ]
  },
  {
   "cell_type": "markdown",
   "id": "28da02e3",
   "metadata": {},
   "source": [
    " -------   "
   ]
  },
  {
   "cell_type": "markdown",
   "id": "56ff4e55",
   "metadata": {},
   "source": [
    "## Harmonizing variables with PIC-SURE\n",
    "One of the key challenges to conducting analyses with several studies is ensuring correct data harmonization, or combining of data from different sources. There are many harmonization techniques, but this notebook will demonstrate an approach to finding and extracting similar variables from different studies in PIC-SURE. Two examples of this will be shown:\n",
    "1. Retrieving variables for *sex and gender* across studies with BMI\n",
    "2. Harmonizing the *\"orthopnea\"* and *\"pneumonia\"* variables across studies\n",
    "\n",
    "\n",
    "*For more information about the TOPMed DCC Harmonized Data Set in PIC-SURE, please refer to the `2_TOPMed_DCC_Harmonized_Variables_analysis.ipynb` notebook*"
   ]
  },
  {
   "cell_type": "markdown",
   "id": "8c8a4ee5",
   "metadata": {},
   "source": [
    "-----"
   ]
  },
  {
   "cell_type": "markdown",
   "id": "14deab66",
   "metadata": {},
   "source": [
    "## Sex and gender variables across studies\n",
    "<font color='darkgreen'>**Goal: Create harmonized variables for sex and BMI which combine data from multiple studies**</font> "
   ]
  },
  {
   "cell_type": "markdown",
   "id": "d0bc8f31",
   "metadata": {},
   "source": [
    "These variables are labelled differently for each of these studies. For example, some use the keyword `sex` while others use `gender`. To acccount for these differences, we need to develop a way to search for multiple keywords at once.\n",
    "\n",
    "Let's start by searching for `sex` and `gender` to gain a better understanding of the variables that exist in PIC-SURE with these terms. The dictionary().find method can take in regular expressions. Here, we take advantage of this by searching for both sex and gender in the same regular expression.\n"
   ]
  },
  {
   "cell_type": "code",
   "execution_count": null,
   "id": "efaa8420",
   "metadata": {},
   "outputs": [],
   "source": [
    "sex_dictionary = bdc.useDictionary().dictionary().find('sex|gender')\n",
    "sex_dataframe = sex_dictionary.dataframe()\n",
    "print(sex_dataframe.shape)\n",
    "sex_dataframe.head()"
   ]
  },
  {
   "cell_type": "markdown",
   "id": "b56038e7",
   "metadata": {},
   "source": [
    "After reviewing the variables using the dataframe (or the [user interface](https://picsure.biodatacatalyst.nhlbi.nih.gov/psamaui/login)), let's say we are interested in sex/gender variables from the following studies:\n",
    "- ECLIPSE (Evaluation of COPD Longitudinally to Identify Predictive Surrogate Endpoints) (phs001252)\n",
    "- EOCOPD (Early Onset of COPD) (phs000946)\n",
    "\n",
    "We can find the study IDs in the Data Access Dashboard in the user interface."
   ]
  },
  {
   "cell_type": "markdown",
   "id": "8c3176bc",
   "metadata": {},
   "source": [
    "We have already used the PIC-SURE API dictionary object and find method to find variables which contain the keywords sex and gender. Let's filter these results to our desired studies of interest."
   ]
  },
  {
   "cell_type": "markdown",
   "id": "14f10947",
   "metadata": {},
   "source": [
    "### Which sex variable in ECLIPSE should we use? \n",
    "\n",
    "First, we will filter our sex/gender variables to only look at those from the ECLIPSE study.\n",
    "\n",
    "We can see that there are many sex/gender variables in ECLIPSE originating from various data tables.\n",
    "\n",
    "We will examine the data associated with these variables to determine which one to use for our analysis."
   ]
  },
  {
   "cell_type": "code",
   "execution_count": null,
   "id": "0f6491e8",
   "metadata": {
    "scrolled": true,
    "tags": []
   },
   "outputs": [],
   "source": [
    "# which sex/gender variables are part of ECLIPSE?\n",
    "eclipse_vars = sex_dataframe['columnmeta_study_id'].str.contains('phs001252')\n",
    "\n",
    "# create a subset of only ECLIPSE sex/gender vars\n",
    "eclipse_sex_df = sex_dataframe[eclipse_vars][['columnmeta_study_id', 'columnmeta_var_group_description', 'columnmeta_name', 'columnmeta_description', 'values', 'columnmeta_HPDS_PATH']]\n",
    "eclipse_sex_df"
   ]
  },
  {
   "cell_type": "markdown",
   "id": "bab531ed-2326-4904-9add-d5939ae4f146",
   "metadata": {},
   "source": [
    "We can see that the results there is a variable called `BICAT` or \"Biomarker\". This variable was selected because one of the values associated with this variable is \"Sex hormone binding globulin\" and was returned with our search. However, this is not a sex/gender variable and we should remove this."
   ]
  },
  {
   "cell_type": "code",
   "execution_count": null,
   "id": "ae423647-c8c9-4aa7-b11a-d72fa911c836",
   "metadata": {},
   "outputs": [],
   "source": [
    "eclipse_sex_df = eclipse_sex_df[eclipse_sex_df['columnmeta_name'] != \"BICAT\"]"
   ]
  },
  {
   "cell_type": "markdown",
   "id": "2a2e3678",
   "metadata": {},
   "source": [
    "Many studies may have multiple variables with similar names and descriptions that come from different data tables. This will vary from study to study based on how the original study was conducted and organized. \n",
    "\n",
    "We will approach this complication by examining the data associated with each sex / gender variables in ECLIPSE and determining which would be the best fit for our analysis.\n",
    "\n",
    "Because we want to examine the patient level data, we will create a query using all sex/gender variables in ECLIPSE. We will add these variables to our query using the `anyof` method, as we are interested in all observations with a value for any of our chosen variables."
   ]
  },
  {
   "cell_type": "code",
   "execution_count": null,
   "id": "e1e4fbdb",
   "metadata": {},
   "outputs": [],
   "source": [
    "# Initialize a query\n",
    "authPicSure = bdc.useAuthPicSure()\n",
    "eclipse_sex_query = authPicSure.query()\n",
    "eclipse_sex_query.anyof().add(eclipse_sex_df['columnmeta_HPDS_PATH'])\n",
    "eclipse_sex_results = eclipse_sex_query.getResultsDataFrame()\n",
    "eclipse_sex_results.head()"
   ]
  },
  {
   "cell_type": "markdown",
   "id": "68909222",
   "metadata": {},
   "source": [
    "We used the `.getResultsDataFrame()` method to organize our participant level results in a dataframe that is easy to work with using pandas. By previewing the resulting dataframe, we can see that not all of the sex and gender variables are complete for our participant subset. \n",
    "\n",
    "Let's see which sex/gender variables are the most complete for our dataset by counting the number of NA values in each one. "
   ]
  },
  {
   "cell_type": "code",
   "execution_count": null,
   "id": "cdd8c7fe",
   "metadata": {
    "scrolled": true,
    "tags": []
   },
   "outputs": [],
   "source": [
    "# first let's see which sex/gender variables are the most complete for our dataset by counting the number of NA values\n",
    "print(eclipse_sex_results.isna().sum())"
   ]
  },
  {
   "cell_type": "markdown",
   "id": "fe455eb3",
   "metadata": {},
   "source": [
    "We can see that there are a few variables with 0 NA values, we would like to focus on these."
   ]
  },
  {
   "cell_type": "code",
   "execution_count": null,
   "id": "081791ab",
   "metadata": {},
   "outputs": [],
   "source": [
    "# let's focus on those variables which do not have any NA values\n",
    "filtered_eclipse_sex_results = eclipse_sex_results.loc[:, eclipse_sex_results.isna().sum() == 0]\n",
    "filtered_eclipse_sex_results"
   ]
  },
  {
   "cell_type": "markdown",
   "id": "8683f352",
   "metadata": {},
   "source": [
    "Now we have filtered our dataset to only include sex/gender variables in ECLIPSE which have complete data. Let's check to see if the values in each variable (column) differ, or if they all have the same data."
   ]
  },
  {
   "cell_type": "code",
   "execution_count": null,
   "id": "c180ee36",
   "metadata": {},
   "outputs": [],
   "source": [
    "# in this example, we notice that all our filtered variables have equivalent data for each patient:\n",
    "for col in filtered_eclipse_sex_results.iloc[:, 4:]:\n",
    "    print(col)\n",
    "    print(filtered_eclipse_sex_results[col].unique())"
   ]
  },
  {
   "cell_type": "markdown",
   "id": "c61f294e",
   "metadata": {},
   "source": [
    "We can see that all the values in the filtered, complete ECLIPSE sex/gender variables are the same, so we will simply select the first variable to use in our analysis.\n",
    "\n",
    "We can use the `.varInfo()` method to learn more about a variable."
   ]
  },
  {
   "cell_type": "code",
   "execution_count": null,
   "id": "0c742f4e",
   "metadata": {
    "scrolled": true,
    "tags": []
   },
   "outputs": [],
   "source": [
    "eclipse_sex_var = filtered_eclipse_sex_results.columns[3]\n",
    "sex_dictionary.varInfo(eclipse_sex_var)"
   ]
  },
  {
   "cell_type": "markdown",
   "id": "f11624cc",
   "metadata": {},
   "source": [
    "### Which sex variable in EOCOPD should we use? \n",
    "\n",
    "We will take a similar approach as above, where we first filter our dataframe of sex/gender variables to only those from the EOCOPD study."
   ]
  },
  {
   "cell_type": "code",
   "execution_count": null,
   "id": "4fc8a5f8",
   "metadata": {},
   "outputs": [],
   "source": [
    "# which sex/gender variables are part of EOCOPD?\n",
    "eocopd_vars = sex_dataframe['studyId'].str.contains('phs000946')\n",
    "sex_dataframe[eocopd_vars][['columnmeta_name', 'columnmeta_description']]"
   ]
  },
  {
   "cell_type": "markdown",
   "id": "e2c2d318",
   "metadata": {},
   "source": [
    "When reviewing the results from the search, we see that, unlike the ECLIPSE data, there is only one sex variable in EOCOPD. It is called 'GENDER'. Let's select this variable for filtering."
   ]
  },
  {
   "cell_type": "code",
   "execution_count": null,
   "id": "9d6d94cd",
   "metadata": {},
   "outputs": [],
   "source": [
    "# Save the GENDER var from EOCOPD\n",
    "eocopd_sex_df = sex_dataframe[eocopd_vars][['columnmeta_study_id', 'columnmeta_var_group_description', 'columnmeta_name', 'columnmeta_description', 'values', 'columnmeta_HPDS_PATH']]\n",
    "eocopd_sex_df = eocopd_sex_df[eocopd_sex_df[\"columnmeta_name\"] == \"GENDER\"]\n",
    "eocopd_sex_df"
   ]
  },
  {
   "cell_type": "markdown",
   "id": "b5633ef4",
   "metadata": {},
   "source": [
    "We will save the HPDS_PATH associated to this variable so we can add it to our query later."
   ]
  },
  {
   "cell_type": "code",
   "execution_count": null,
   "id": "9807d6ae",
   "metadata": {},
   "outputs": [],
   "source": [
    "# save the HPDS path associated to our variable of interest\n",
    "eocopd_sex_var = eocopd_sex_df[['columnmeta_HPDS_PATH']].iloc[0,0]\n",
    "eocopd_sex_var"
   ]
  },
  {
   "cell_type": "markdown",
   "id": "2bfa64cf",
   "metadata": {},
   "source": [
    "### Which BMI variables should we use?\n",
    "\n",
    "We will follow the approach outlined above to first search our data dictionary for all variables containing the terms 'body mass index'. "
   ]
  },
  {
   "cell_type": "code",
   "execution_count": null,
   "id": "4a712201",
   "metadata": {},
   "outputs": [],
   "source": [
    "bmi_dictionary = bdc.useDictionary().dictionary().find('body mass index')\n",
    "bmi_dataframe = bmi_dictionary.dataframe()"
   ]
  },
  {
   "cell_type": "markdown",
   "id": "30377f03",
   "metadata": {},
   "source": [
    "We then filter to only those BMI variables which are part of ECLIPSE or EOCOPD and view the variables with their associated metadata. "
   ]
  },
  {
   "cell_type": "code",
   "execution_count": null,
   "id": "91d3b35b",
   "metadata": {},
   "outputs": [],
   "source": [
    "# which bmi variables are part of ECLIPSE or EOCOPD?\n",
    "bmi_vars = bmi_dataframe['studyId'].str.contains('phs001252|phs000946')\n",
    "\n",
    "# create a subset of only the ECLIPSE / EOCOPD BMI vars\n",
    "bmi_dataframe = bmi_dataframe[bmi_vars][['columnmeta_study_id', 'columnmeta_var_group_description', 'columnmeta_name', 'columnmeta_description', 'values', 'columnmeta_HPDS_PATH']]\n",
    "bmi_dataframe.head(10)"
   ]
  },
  {
   "cell_type": "markdown",
   "id": "fc8ce9d1",
   "metadata": {},
   "source": [
    "By examining metadata like the dataTableName, description, and name, we are able to determine which variables we are interested in:\n",
    "- Body Mass Index [BMI] for EOCOPD (\\phs000946\\pht005719\\phv00266123\\BMI\\)\n",
    "- Body mass index (kg/m2) from the bodycomp table for ECLIPSE (\\phs001252\\pht006373\\phv00293610\\VSBMI\\) \n",
    "\n",
    "We will save the HPDS_PATHs associated to the BMI variables of interest so we can add it to our query later."
   ]
  },
  {
   "cell_type": "code",
   "execution_count": null,
   "id": "29eb4f32",
   "metadata": {},
   "outputs": [],
   "source": [
    "# save HPDS_PATHs of interest\n",
    "eocopd_bmi_var = \"\\phs000946\\pht005719\\phv00266123\\BMI\\\\\"\n",
    "eclipse_bmi_var = \"\\phs001252\\pht006373\\phv00293610\\VSBMI\\\\\""
   ]
  },
  {
   "cell_type": "markdown",
   "id": "f134c1dd",
   "metadata": {},
   "source": [
    "### Query PIC-SURE for selected variables"
   ]
  },
  {
   "cell_type": "markdown",
   "id": "3674fc2a",
   "metadata": {},
   "source": [
    "First, we create a new query:"
   ]
  },
  {
   "cell_type": "code",
   "execution_count": null,
   "id": "f5ce4d03",
   "metadata": {},
   "outputs": [],
   "source": [
    "combined_query = authPicSure.query()"
   ]
  },
  {
   "cell_type": "markdown",
   "id": "cafe771a",
   "metadata": {},
   "source": [
    "Next, we add the HPDS paths (concept paths) for our selected variabels of interest to the query.\n",
    "\n",
    "As a reminder, these are the paths associated to the sex/gender and BMI variables from ECLIPSE and EOCOPD.\n",
    "\n",
    "We use the `.anyof` method to add these variables to the query because we are interested in results with observations in any of the variables of interest. If you are interested in learning more about the other query methods available, see the `1_PICSURE_API_101.ipynb` notebook. "
   ]
  },
  {
   "cell_type": "code",
   "execution_count": null,
   "id": "210e8c92",
   "metadata": {},
   "outputs": [],
   "source": [
    "# Build query using selected concept paths\n",
    "combined_query.anyof().add([eclipse_sex_var, eclipse_bmi_var, eocopd_sex_var, eocopd_bmi_var])"
   ]
  },
  {
   "cell_type": "markdown",
   "id": "6597c778",
   "metadata": {},
   "source": [
    "We will use the `.getResultsDataFrame()` method to get our results as a dataframe object for easy manipulation using pandas."
   ]
  },
  {
   "cell_type": "code",
   "execution_count": null,
   "id": "d5ff5a6f",
   "metadata": {},
   "outputs": [],
   "source": [
    "# Get query results\n",
    "combined_results = combined_query.getResultsDataFrame()\n",
    "combined_results.head()"
   ]
  },
  {
   "cell_type": "markdown",
   "id": "c5a2c4a1",
   "metadata": {},
   "source": [
    "### Clean and wrangle query result dataframe"
   ]
  },
  {
   "cell_type": "markdown",
   "id": "f8f10e31",
   "metadata": {},
   "source": [
    "You may notice that the column names are not the most informative, we will rename them below."
   ]
  },
  {
   "cell_type": "code",
   "execution_count": null,
   "id": "838ed1be",
   "metadata": {},
   "outputs": [],
   "source": [
    "# rename columns\n",
    "combined_results.columns = ['patient_id', 'parent_accession', 'topmed_accession', 'consent', 'eocopd_sex', 'eocopd_bmi', 'eclipse_bmi', 'eclipse_sex']\n",
    "combined_results.head()"
   ]
  },
  {
   "cell_type": "markdown",
   "id": "5bf14c76",
   "metadata": {},
   "source": [
    "We will also create a 'study' column to easier identify from which study a participant's data originated from."
   ]
  },
  {
   "cell_type": "code",
   "execution_count": null,
   "id": "2fcf5642",
   "metadata": {},
   "outputs": [],
   "source": [
    "# convert consent code to study name\n",
    "combined_results['study'] = np.where(combined_results['consent'].str.contains('phs001252'), 'eclipse', 'eocopd')\n",
    "combined_results.head()"
   ]
  },
  {
   "cell_type": "markdown",
   "id": "a1048334",
   "metadata": {},
   "source": [
    "Finally, we will harmonize the sex and bmi variables by combining them into one single 'sex' column.\n",
    "\n",
    "Sex and BMI are reported in the same way in both EOCOPD and ECLIPSE, so we do not have to transform any of the participant level data."
   ]
  },
  {
   "cell_type": "code",
   "execution_count": null,
   "id": "9fdf790c",
   "metadata": {},
   "outputs": [],
   "source": [
    "# combine sex variables\n",
    "combined_results['sex'] = combined_results['eocopd_sex'].fillna(combined_results['eclipse_sex'])\n",
    "combined_results.head()"
   ]
  },
  {
   "cell_type": "code",
   "execution_count": null,
   "id": "29d879f7",
   "metadata": {},
   "outputs": [],
   "source": [
    "# combine bmi variables\n",
    "combined_results['bmi'] = combined_results['eocopd_bmi'].fillna(combined_results['eclipse_bmi'])\n",
    "combined_results.head()"
   ]
  },
  {
   "cell_type": "markdown",
   "id": "71f9bb71",
   "metadata": {},
   "source": [
    "### Analysis and visualization\n",
    "\n",
    "In this example, we are interested in comparing mean BMI across different studies. We will calculate the mean for each group (ECLIPSE males, ECLIPSE females, EOCOPD males, EOCOPD females) and display the results as a table and a bar chart."
   ]
  },
  {
   "cell_type": "code",
   "execution_count": null,
   "id": "54c39ee2",
   "metadata": {},
   "outputs": [],
   "source": [
    "# remove unneccessary columns and summarize\n",
    "plotdf = combined_results[[ 'sex', 'study', 'bmi']]\n",
    "plotdf = plotdf.groupby(['sex', 'study']).mean().unstack()\n",
    "plotdf"
   ]
  },
  {
   "cell_type": "code",
   "execution_count": null,
   "id": "92dae2ba",
   "metadata": {},
   "outputs": [],
   "source": [
    "plotdf.plot(kind = 'bar')"
   ]
  },
  {
   "cell_type": "markdown",
   "id": "4717bddc",
   "metadata": {},
   "source": [
    "-----"
   ]
  },
  {
   "cell_type": "markdown",
   "id": "e6fc7ef9",
   "metadata": {},
   "source": [
    "## Orthopnea variables across studies\n",
    "<font color='darkgreen'>**Goal: Create harmonized variables for orthopnea and pneumonia which combine data from multiple studies, and compare participant distributions across these phenotypes**</font> \n",
    "\n",
    "In this example, we will be harmonizing variables related to `orthopnea`. Orthopnea is shortness of breath that occurs when individuals lie flat. Because of this, people with orthopnea have to sleep propped up in bed or sitting in a chair. You can read more about this condition [here](https://www.sleepfoundation.org/sleep-apnea/orthopnea).\n",
    "\n",
    "Let's start by doing a search in PIC-SURE for concept paths containing `orthopnea`."
   ]
  },
  {
   "cell_type": "markdown",
   "id": "276cc17d",
   "metadata": {},
   "source": [
    "### Search and find orthopnea variables"
   ]
  },
  {
   "cell_type": "code",
   "execution_count": null,
   "id": "12953e66",
   "metadata": {},
   "outputs": [],
   "source": [
    "orthopnea_dictionary = bdc.useDictionary().dictionary().find(\"orthopnea\")\n",
    "orthopnea_dataframe = orthopnea_dictionary.dataframe()\n",
    "print(orthopnea_dataframe.shape)\n",
    "orthopnea_dataframe[['columnmeta_name', 'columnmeta_description', 'values', 'columnmeta_study_id']].head()"
   ]
  },
  {
   "cell_type": "markdown",
   "id": "42fe0583",
   "metadata": {},
   "source": [
    "As shown in the resulting dataframe, orthopnea is often recorded as a something like `sleep on two or more pillows to help you breathe?`\n",
    "\n",
    "Let's do a search for `pillows` in PIC-SURE to explore those concept paths."
   ]
  },
  {
   "cell_type": "code",
   "execution_count": null,
   "id": "ac69d7ee",
   "metadata": {},
   "outputs": [],
   "source": [
    "pillows_dictionary = bdc.useDictionary().dictionary().find(\"pillows\")\n",
    "pillows_dataframe = pillows_dictionary.dataframe()\n",
    "pillows_dataframe[['columnmeta_name', 'columnmeta_description', 'values', 'columnmeta_study_id']].head()"
   ]
  },
  {
   "cell_type": "markdown",
   "id": "1a0803d3",
   "metadata": {},
   "source": [
    "As shown in the resulting dataframe, there are some concept paths related to orthopnea that were not captured by the previous `orthopnea` search, such as `Do you sleep on 2 or more pillows to improve your breathing?` from the Jackson Heart Study (JHS) Cohort (phs000286). In fact, the JHS dataset was not returned at all when we searched for `orthopnea`. \n",
    "\n",
    "This is problematic for researchers studying these types of variables, since the concept paths of interest may not always be captured by a single search term. To account for this, researchers must conduct exploratory searches to determine potential search terms."
   ]
  },
  {
   "cell_type": "markdown",
   "id": "5844b95d",
   "metadata": {},
   "source": [
    "Let's say we want to harmonize orthopnea variables from the following datasets: \n",
    "- FHS (phs000007)\n",
    "- MESA (phs000209)\n",
    "- WHI (phs000200)\n",
    "\n",
    "We can first get all concept paths related to our terms of interest (`orthopnea` or `pillows`) and then filter to our studies of interest.\n",
    "\n",
    "You can get the phs number associated with each study from the Data Access Dashboard."
   ]
  },
  {
   "cell_type": "code",
   "execution_count": null,
   "id": "9767a606",
   "metadata": {},
   "outputs": [],
   "source": [
    "# search pic-sure for 'orthopnea' and 'pillows'\n",
    "harmonized_dictionary = bdc.useDictionary().dictionary().find(\"orthopnea|pillows\")\n",
    "harmonized_df = harmonized_dictionary.dataframe()\n",
    "\n",
    "# filter to variables found in FHS, MESA, WHI\n",
    "harmonized_df = harmonized_df[harmonized_df['studyId'].str.contains('phs000007|phs000209|phs000200')]\n",
    "print(harmonized_df.shape)\n",
    "harmonized_df[['columnmeta_name', 'columnmeta_description', 'values', 'columnmeta_study_id']]"
   ]
  },
  {
   "cell_type": "markdown",
   "id": "fbdd2b07",
   "metadata": {},
   "source": [
    "After browsing the available variables, we decided to choose the following:"
   ]
  },
  {
   "cell_type": "code",
   "execution_count": null,
   "id": "d318570f",
   "metadata": {},
   "outputs": [],
   "source": [
    "orthopnea_variables_of_interest = harmonized_df[harmonized_df['columnmeta_description'].isin(['ORTHOPNEA, RECENT', \n",
    "                                                                                   'F136 Orthopnea', \n",
    "                                                                                   'SLEEP ON 2+ PILLOWS TO HELP BREATHING'])]\n",
    "\n",
    "# save variable paths for querying data\n",
    "orthopnea_variable_paths_of_interest = orthopnea_variables_of_interest['columnmeta_HPDS_PATH'].tolist()\n",
    "\n",
    "orthopnea_variables_of_interest[['columnmeta_name', 'columnmeta_description', 'values', 'columnmeta_study_id']]"
   ]
  },
  {
   "cell_type": "markdown",
   "id": "b7499f05",
   "metadata": {},
   "source": [
    "### Search and find pneumonia variables"
   ]
  },
  {
   "cell_type": "markdown",
   "id": "ac8610af",
   "metadata": {},
   "source": [
    "As part of our research, let's say we are interested in exploring the relationship between pneumonia and orthopnea. Let's save concept paths related to `pneumonia` as well. "
   ]
  },
  {
   "cell_type": "code",
   "execution_count": null,
   "id": "59e1f701",
   "metadata": {},
   "outputs": [],
   "source": [
    "# search pic-sure for 'pneumonia'\n",
    "harmonized_dictionary = bdc.useDictionary().dictionary().find(\"pneumonia\")\n",
    "harmonized_df = harmonized_dictionary.dataframe()\n",
    "\n",
    "# filter to variables found in FHS, MESA, WHI\n",
    "harmonized_df = harmonized_df[harmonized_df['columnmeta_study_id'].str.contains('phs000007|phs000209|phs000200')]\n",
    "print(harmonized_df.shape)\n",
    "harmonized_df[['columnmeta_name', 'columnmeta_description', 'values', 'columnmeta_study_id', 'varId']]"
   ]
  },
  {
   "cell_type": "markdown",
   "id": "36556d2a",
   "metadata": {},
   "source": [
    "After browsing the available variables, we decided to choose the following:"
   ]
  },
  {
   "cell_type": "code",
   "execution_count": null,
   "id": "8a9fb24e",
   "metadata": {},
   "outputs": [],
   "source": [
    "pneumonia_variables_of_interest = harmonized_df[harmonized_df['varId'].isin(['phv00255144', \n",
    "                                                                             'phv00083774', \n",
    "                                                                             'phv00283208'])]\n",
    "\n",
    "# save variable paths for querying data\n",
    "pneumonia_variable_paths_of_interest = pneumonia_variables_of_interest['columnmeta_HPDS_PATH'].tolist()\n",
    "\n",
    "pneumonia_variables_of_interest[['values', 'columnmeta_study_id', 'columnmeta_description', 'columnmeta_name', 'columnmeta_var_id']]"
   ]
  },
  {
   "cell_type": "markdown",
   "id": "381a6e86",
   "metadata": {},
   "source": [
    "### Query PIC-SURE for selected variables"
   ]
  },
  {
   "cell_type": "code",
   "execution_count": null,
   "id": "4ffc9cd6",
   "metadata": {},
   "outputs": [],
   "source": [
    "# Initialize a query\n",
    "authPicSure = bdc.useAuthPicSure()\n",
    "orthopnea_query = authPicSure.query()\n",
    "orthopnea_query.anyof().add(orthopnea_variable_paths_of_interest + pneumonia_variable_paths_of_interest)\n",
    "orthopnea_results = orthopnea_query.getResultsDataFrame(low_memory=False)\n",
    "orthopnea_results.head()"
   ]
  },
  {
   "cell_type": "code",
   "execution_count": null,
   "id": "f652bd32",
   "metadata": {},
   "outputs": [],
   "source": [
    "# rename columns\n",
    "orthopnea_results.columns = ['patient_id', 'parent_accession', 'topmed_accession', 'consent', \n",
    "                             'fhs_pneumonia', 'fhs_orthopnea', 'whi_pneumonia', \n",
    "                             'whi_orthopnea', 'mesa_pneumonia', 'mesa_orthopnea']\n",
    "orthopnea_results.head()"
   ]
  },
  {
   "cell_type": "markdown",
   "id": "f2c683b0",
   "metadata": {},
   "source": [
    "### Clean and wrangle data"
   ]
  },
  {
   "cell_type": "code",
   "execution_count": null,
   "id": "f6614a17",
   "metadata": {},
   "outputs": [],
   "source": [
    "# convert consent code to study name\n",
    "orthopnea_results['study'] = np.where(orthopnea_results['consent'].str.contains('phs000007'), 'fhs', \n",
    "                                      np.where(orthopnea_results['consent'].str.contains('phs000209'), 'mesa', 'whi'))\n",
    "orthopnea_results.head()"
   ]
  },
  {
   "cell_type": "code",
   "execution_count": null,
   "id": "d43bc36f",
   "metadata": {},
   "outputs": [],
   "source": [
    "# combine orthopnea variables\n",
    "orthopnea_results['orthopnea'] = orthopnea_results['fhs_orthopnea'].fillna(orthopnea_results['whi_orthopnea'])\n",
    "orthopnea_results['orthopnea'] = orthopnea_results['orthopnea'].fillna(orthopnea_results['mesa_orthopnea'])\n",
    "orthopnea_results.head()\n",
    "\n"
   ]
  },
  {
   "cell_type": "code",
   "execution_count": null,
   "id": "b9858c85",
   "metadata": {},
   "outputs": [],
   "source": [
    "# combine pneumonia variables\n",
    "orthopnea_results['pneumonia'] = orthopnea_results['fhs_pneumonia'].fillna(orthopnea_results['whi_pneumonia'])\n",
    "orthopnea_results['pneumonia'] = orthopnea_results['pneumonia'].fillna(orthopnea_results['mesa_pneumonia'])\n",
    "orthopnea_results.head()"
   ]
  },
  {
   "cell_type": "markdown",
   "id": "7d85c95c",
   "metadata": {},
   "source": [
    "As you may have noticed, the orthopnea and pneumonia variables are encoded differently between these studies. \n",
    "\n",
    "This means that we see a range of vales that need to be harmonized (printed below)\n",
    "\n",
    "We need to create a consistent encoding across these studies. "
   ]
  },
  {
   "cell_type": "code",
   "execution_count": null,
   "id": "eab78f28",
   "metadata": {},
   "outputs": [],
   "source": [
    "print(orthopnea_results.orthopnea.value_counts())\n",
    "print('\\n')\n",
    "print(orthopnea_results.pneumonia.value_counts())"
   ]
  },
  {
   "cell_type": "code",
   "execution_count": null,
   "id": "daf87737-d040-452f-898c-61022229207b",
   "metadata": {},
   "outputs": [],
   "source": [
    "len(np.unique(np.array(list(orthopnea_results['orthopnea']) + list(orthopnea_results['pneumonia']))))"
   ]
  },
  {
   "cell_type": "markdown",
   "id": "478f9d26",
   "metadata": {},
   "source": [
    "We create a consistent mapping:"
   ]
  },
  {
   "cell_type": "code",
   "execution_count": null,
   "id": "71d31a6d",
   "metadata": {},
   "outputs": [],
   "source": [
    "mapping_df = pd.DataFrame({'raw': np.unique(np.array(list(orthopnea_results['orthopnea']) + list(orthopnea_results['pneumonia']))),\n",
    "                           'harmonized': ['Unknown', 'Unknown', 'Unknown', 'Unknown', 'No', 'No', 'No', 'Yes', 'Yes', 'Unknown']})\n",
    "\n",
    "value_mapping_dictionary = dict(zip(mapping_df.raw, mapping_df.harmonized))\n",
    "\n",
    "mapping_df"
   ]
  },
  {
   "cell_type": "markdown",
   "id": "f2dc5cba",
   "metadata": {},
   "source": [
    "And apply it to our hamonized orthopnea and pneumonia columns"
   ]
  },
  {
   "cell_type": "code",
   "execution_count": null,
   "id": "9083f964",
   "metadata": {},
   "outputs": [],
   "source": [
    "orthopnea_results.orthopnea = orthopnea_results.orthopnea.map(value_mapping_dictionary)\n",
    "orthopnea_results.pneumonia = orthopnea_results.pneumonia.map(value_mapping_dictionary)\n",
    "\n",
    "print(orthopnea_results.orthopnea.value_counts())\n",
    "print('\\n')\n",
    "print(orthopnea_results.pneumonia.value_counts())"
   ]
  },
  {
   "cell_type": "markdown",
   "id": "760d2c67",
   "metadata": {},
   "source": [
    "Now that the variables have been encoded in the same way, we can use this dataframe for analysis and visualizations. "
   ]
  },
  {
   "cell_type": "markdown",
   "id": "5e8eadef",
   "metadata": {},
   "source": [
    "### Visualize"
   ]
  },
  {
   "cell_type": "code",
   "execution_count": null,
   "id": "65a0c031",
   "metadata": {},
   "outputs": [],
   "source": [
    "final_df = orthopnea_results\n",
    "final_df['orthopnea'] = final_df['orthopnea']. fillna('Unknown')\n",
    "final_df['pneumonia'] = final_df['pneumonia']. fillna('Unknown')"
   ]
  },
  {
   "cell_type": "code",
   "execution_count": null,
   "id": "190c5cff",
   "metadata": {},
   "outputs": [],
   "source": [
    "# Filters to apply to the final_df to create figures\n",
    "pneu_yes = final_df['pneumonia'] == 'Yes'\n",
    "pneu_no = final_df['pneumonia'] == 'No'\n",
    "ortho_yes = final_df['orthopnea'] == 'Yes'\n",
    "ortho_no = final_df['orthopnea'] == 'No'\n",
    "fhs = final_df['study'] == 'fhs'\n",
    "mesa = final_df['study'] == 'mesa'\n",
    "whi = final_df['study'] == 'whi'"
   ]
  },
  {
   "cell_type": "code",
   "execution_count": null,
   "id": "8c717760",
   "metadata": {},
   "outputs": [],
   "source": [
    "# FHS figure\n",
    "pneu_count =  final_df[pneu_yes & ortho_no & fhs].count()['patient_id']\n",
    "ortho_count = final_df[pneu_no & ortho_yes & fhs].count()['patient_id']\n",
    "both_count =  final_df[pneu_yes & ortho_yes & fhs].count()['patient_id']\n",
    "venn2(subsets = (pneu_count, ortho_count, both_count), set_labels = ('Pneumonia', 'Orthopnea'))\n",
    "plt.title(\"FHS Dataset\")\n",
    "plt.show()\n",
    "\n",
    "# MESA figure\n",
    "pneu_count =  final_df[pneu_yes & ortho_no & mesa].count()['patient_id']\n",
    "ortho_count = final_df[pneu_no & ortho_yes & mesa].count()['patient_id']\n",
    "both_count =  final_df[pneu_yes & ortho_yes & mesa].count()['patient_id']\n",
    "venn2(subsets = (pneu_count, ortho_count, both_count), set_labels = ('Pneumonia', 'Orthopnea'))\n",
    "plt.title(\"MESA Dataset\")\n",
    "plt.show()\n",
    "\n",
    "# WHI figure\n",
    "pneu_count =  final_df[pneu_yes & ortho_no & whi].count()['patient_id']\n",
    "ortho_count = final_df[pneu_no & ortho_yes & whi].count()['patient_id']\n",
    "both_count =  final_df[pneu_yes & ortho_yes & whi].count()['patient_id']\n",
    "venn2(subsets = (pneu_count, ortho_count, both_count), set_labels = ('Pneumonia', 'Orthopnea'))\n",
    "plt.title(\"WHI Dataset\")\n",
    "plt.show()\n",
    "\n",
    "# Combined figure\n",
    "pneu_count =  final_df[pneu_yes & ortho_no].count()['patient_id']\n",
    "ortho_count = final_df[pneu_no & ortho_yes].count()['patient_id']\n",
    "both_count =  final_df[pneu_yes & ortho_yes].count()['patient_id']\n",
    "venn2(subsets = (pneu_count, ortho_count, both_count), set_labels = ('Pneumonia', 'Orthopnea'))\n",
    "plt.title(\"Combined results across FHS, MESA, and WHI\")\n",
    "plt.show()"
   ]
  },
  {
   "cell_type": "code",
   "execution_count": null,
   "id": "94a8dc69-377b-43e5-9cb2-eb4ffcb421ce",
   "metadata": {},
   "outputs": [],
   "source": []
  },
  {
   "cell_type": "code",
   "execution_count": null,
   "id": "a63fd2bd-2d5a-475a-b7fe-74e2ac166354",
   "metadata": {},
   "outputs": [],
   "source": []
  }
 ],
 "metadata": {
  "kernelspec": {
   "display_name": "Python 3 (ipykernel)",
   "language": "python",
   "name": "python3"
  },
  "language_info": {
   "codemirror_mode": {
    "name": "ipython",
    "version": 3
   },
   "file_extension": ".py",
   "mimetype": "text/x-python",
   "name": "python",
   "nbconvert_exporter": "python",
   "pygments_lexer": "ipython3",
   "version": "3.9.6"
  }
 },
 "nbformat": 4,
 "nbformat_minor": 5
}
