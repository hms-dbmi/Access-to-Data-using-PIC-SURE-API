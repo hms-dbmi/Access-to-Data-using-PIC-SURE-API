{
 "cells": [
  {
   "cell_type": "markdown",
   "id": "7cc22faf",
   "metadata": {},
   "source": [
    "# Harmonization across studies with PIC-SURE"
   ]
  },
  {
   "cell_type": "markdown",
   "id": "d42f3d92",
   "metadata": {},
   "source": [
    "This tutorial notebook will demonstrate how to query and work with the BioData Catalyst studies, particularly cross-study harmonization. For a more step-by-step introduction to the python PIC-SURE API, see the `1_PICSURE_API_101.ipynb` notebook."
   ]
  },
  {
   "cell_type": "markdown",
   "id": "a926a345",
   "metadata": {},
   "source": [
    "**Before running this notebook, please be sure to review the \\\"Get your security token\\\" documentation, which exists in the NHLBI_BioData_Catalyst [README.md file](https://github.com/hms-dbmi/Access-to-Data-using-PIC-SURE-API/tree/master/NHLBI_BioData_Catalyst#get-your-security-token). It explains about how to get a security token, which is mandatory to access the databases.**"
   ]
  },
  {
   "cell_type": "markdown",
   "id": "06eb2211",
   "metadata": {},
   "source": [
    " -------   "
   ]
  },
  {
   "cell_type": "markdown",
   "id": "539c2c67",
   "metadata": {},
   "source": [
    "# Environment set-up"
   ]
  },
  {
   "cell_type": "markdown",
   "id": "92da22a1",
   "metadata": {},
   "source": [
    "### System requirements\n",
    "- Python 3.6 or later\n",
    "- pip python package manager, already available in most systems with a python interpreter installed\n"
   ]
  },
  {
   "cell_type": "markdown",
   "id": "5c349453",
   "metadata": {},
   "source": [
    "### Install packages"
   ]
  },
  {
   "cell_type": "code",
   "execution_count": null,
   "id": "0009b88e",
   "metadata": {
    "scrolled": true
   },
   "outputs": [],
   "source": [
    "import numpy as np\n",
    "import matplotlib.pyplot as plt\n",
    "import pandas as pd\n",
    "import sys\n",
    "!{sys.executable} -m pip install --upgrade --force-reinstall git+https://github.com/hms-dbmi/pic-sure-python-client.git\n",
    "!{sys.executable} -m pip install --upgrade --force-reinstall git+https://github.com/hms-dbmi/pic-sure-python-adapter-hpds.git\n",
    "!{sys.executable} -m pip install --upgrade --force-reinstall git+https://github.com/hms-dbmi/pic-sure-biodatacatalyst-python-adapter-hpds.git@new-search\n",
    "\n",
    "import PicSureBdcAdapter"
   ]
  },
  {
   "cell_type": "markdown",
   "id": "939c75aa",
   "metadata": {},
   "source": [
    "## Connecting to a PIC-SURE network"
   ]
  },
  {
   "cell_type": "code",
   "execution_count": null,
   "id": "1567db3c",
   "metadata": {},
   "outputs": [],
   "source": [
    "# Uncomment production URL when testing in production\n",
    "# PICSURE_network_URL = \"https://picsure.biodatacatalyst.nhlbi.nih.gov/picsure\"\n",
    "PICSURE_network_URL = \"https://biodatacatalyst.integration.hms.harvard.edu/picsure\"\n",
    "token_file = \"token.txt\"\n",
    "\n",
    "with open(token_file, \"r\") as f:\n",
    "    my_token = f.read()\n",
    "    \n",
    "bdc = PicSureBdcAdapter.Adapter(PICSURE_network_URL, my_token)"
   ]
  },
  {
   "cell_type": "markdown",
   "id": "d83f659b",
   "metadata": {},
   "source": [
    " -------   "
   ]
  },
  {
   "cell_type": "markdown",
   "id": "2f46e106",
   "metadata": {},
   "source": [
    "## Harmonizing variables with PIC-SURE\n",
    "One of the key challenges to conducting analyses with several studies is ensuring correct data harmonization, or combining of data from different sources. There are many harmonization techniques, but this notebook will demonstrate how to find and extract similar variables from different studies in PIC-SURE. Two examples of this will be shown:\n",
    "1. Retrieving variables for *sex and gender* across studies with BMI\n",
    "2. Harmonizing the variable *\"orthopnea\"* across studies with age\n",
    "\n",
    "\n",
    "*For more information about the TOPMed DCC Harmonized Data Set in PIC-SURE, please refer to the [`2_TOPMed_DCC_Harmonized_Variables_analysis.ipynb`](https://github.com/hms-dbmi/Access-to-Data-using-PIC-SURE-API/blob/master/NHLBI_BioData_Catalyst/python/2_TOPMed_DCC_Harmonized_Variables_analysis.ipynb) notebook*"
   ]
  },
  {
   "cell_type": "markdown",
   "id": "db3ba0ce",
   "metadata": {},
   "source": [
    "-----"
   ]
  },
  {
   "cell_type": "markdown",
   "id": "76ec5104",
   "metadata": {},
   "source": [
    "## Sex and gender variables across studies\n",
    "<font color='darkgreen'>**Goal: Create harmonized variables for sex and BMI which combine data from multiple studies**</font> "
   ]
  },
  {
   "cell_type": "markdown",
   "id": "6e718213",
   "metadata": {},
   "source": [
    "These variables are labelled differently for each of these studies. For example, some use the keyword `sex` while others use `gender`. To acccount for these differences, we need to develop a way to search for multiple keywords at once.\n",
    "\n",
    "Let's start by searching for `sex` and `gender` to gain a better understanding of the variables that exist in PIC-SURE with these terms.\n",
    "\n"
   ]
  },
  {
   "cell_type": "code",
   "execution_count": null,
   "id": "0b1aecbe",
   "metadata": {},
   "outputs": [],
   "source": [
    "sex_dictionary = bdc.useDictionary().dictionary().find('sex|gender')\n",
    "sex_dataframe = sex_dictionary.dataframe()\n",
    "print(sex_dataframe.shape)\n",
    "sex_dataframe.head()\n"
   ]
  },
  {
   "cell_type": "markdown",
   "id": "93145563",
   "metadata": {},
   "source": [
    "After reviewing the variables using the dataframe (or the [user interface](https://picsure.biodatacatalyst.nhlbi.nih.gov/psamaui/login)), let's say we are interested in sex/gender variables from the following studies:\n",
    "- ECLIPSE (Evaluation of COPD Longitudinally to Identify Predictive Surrogate Endpoints) (phs001252)\n",
    "- EOCOPD (Early Onset of COPD) (phs000946)\n",
    "\n",
    "We can find the study IDs in the data access dashboard in the user interface."
   ]
  },
  {
   "cell_type": "markdown",
   "id": "53150f13",
   "metadata": {},
   "source": [
    "We have already used the PIC-SURE API dictionary object and find method to find variables which contain the keywords sex and gender. Let's filter these results to our desired studies of interest."
   ]
  },
  {
   "cell_type": "markdown",
   "id": "126b130f",
   "metadata": {},
   "source": [
    "### Which sex variable in ECLIPSE should we use? \n",
    "We can see that there are many sex/gender variables in ECLIPSE originating from various data tables.\n",
    "\n",
    "We will examine the data associated with these variables to determine which one to use for our analysis."
   ]
  },
  {
   "cell_type": "code",
   "execution_count": null,
   "id": "860f948e",
   "metadata": {},
   "outputs": [],
   "source": [
    "# which sex/gender variables are part of ECLIPSE?\n",
    "eclipse_vars = sex_dataframe['studyId'].str.contains('phs001252')\n",
    "\n",
    "# create a subset of only ECLIPSE sex/gender vars\n",
    "eclipse_sex_df = sex_dataframe[eclipse_vars][['studyId', 'dataTableName', 'name', 'description', 'values', 'HPDS_PATH']]\n",
    "eclipse_sex_df\n"
   ]
  },
  {
   "cell_type": "code",
   "execution_count": null,
   "id": "15ddf202",
   "metadata": {},
   "outputs": [],
   "source": [
    "# Initialize a query\n",
    "authPicSure = bdc.useAuthPicSure()\n",
    "eclipse_sex_query = authPicSure.query()\n",
    "eclipse_sex_query.anyof().add(eclipse_sex_df['HPDS_PATH'])\n",
    "eclipse_sex_results = eclipse_sex_query.getResultsDataFrame()\n",
    "eclipse_sex_results.head()"
   ]
  },
  {
   "cell_type": "code",
   "execution_count": null,
   "id": "b8ab49c7",
   "metadata": {},
   "outputs": [],
   "source": [
    "# first let's see which sex/gender variables are the most complete for our dataset by counting the number of NA values\n",
    "print(eclipse_sex_results.isna().sum())\n",
    "\n",
    "# let's focus on those variables which do not have any NA values\n",
    "filtered_eclipse_sex_results = eclipse_sex_results.loc[:, eclipse_sex_results.isna().sum() == 0]\n",
    "filtered_eclipse_sex_results"
   ]
  },
  {
   "cell_type": "code",
   "execution_count": null,
   "id": "2dd86668",
   "metadata": {},
   "outputs": [],
   "source": [
    "# in this example, we notice that all our filtered variables have equivalent data for each patient:\n",
    "filtered_eclipse_sex_results.iloc[:,4:].nunique(axis = 1).unique()"
   ]
  },
  {
   "cell_type": "code",
   "execution_count": null,
   "id": "b3ac5a77",
   "metadata": {},
   "outputs": [],
   "source": [
    "# so we select the first variable to use in our analysis.\n",
    "\n",
    "# we can learn more about a variables by using the varInfo method\n",
    "eclipse_sex_var = filtered_eclipse_sex_results.columns[5]\n",
    "sex_dictionary.varInfo(eclipse_sex_var)"
   ]
  },
  {
   "cell_type": "markdown",
   "id": "62848954",
   "metadata": {},
   "source": [
    "### Which sex variable in EOCOPD should we use? \n",
    "Unlike the ECLIPSE data, we see that there is only one sex variable in EOCOPD. It is called 'GENDER'.\n",
    "\n",
    "We will save the HPDS_PATH associated to this variable so we can add it to our query later."
   ]
  },
  {
   "cell_type": "code",
   "execution_count": null,
   "id": "1d59a821",
   "metadata": {},
   "outputs": [],
   "source": [
    "# which sex/gender variables are part of EOCOPD?\n",
    "eocopd_vars = sex_dataframe['studyId'].str.contains('phs000946')\n",
    "\n",
    "# create a subset of only EOCOPD sex/gender vars\n",
    "eocopd_sex_df = sex_dataframe[eocopd_vars][['studyId', 'dataTableName', 'name', 'description', 'values', 'HPDS_PATH']]\n",
    "eocopd_sex_df\n",
    "\n",
    "eocopd_sex_var = eocopd_sex_df[['HPDS_PATH']].iloc[0,0]\n",
    "eocopd_sex_var"
   ]
  },
  {
   "cell_type": "markdown",
   "id": "8c2772d2",
   "metadata": {},
   "source": [
    "### Which BMI variables should we use?\n",
    "\n",
    "We will follow the approach outlined above to first search our data dictionary for all variables containing the terms 'body mass index'. We then filter to only those BMI variables which are part of ECLIPSE or EOCOPD and view the variables with their associated metadata. By examining metadata like the dataTableName, description, nad name, we are able to determine which variables we are interested in:\n",
    "- Body Mass Index [BMI ] for eocopd (\\phs000946\\pht005719\\phv00266123\\BMI\\)\n",
    "- Body mass index (kg/m2) from the bodycomp table for eclipse (\\phs001252\\pht006373\\phv00293610\\VSBMI\\) "
   ]
  },
  {
   "cell_type": "code",
   "execution_count": null,
   "id": "9458f3b0",
   "metadata": {},
   "outputs": [],
   "source": [
    "bmi_dictionary = bdc.useDictionary().dictionary().find('body mass index')\n",
    "bmi_dataframe = bmi_dictionary.dataframe()\n",
    "\n",
    "# which bmi variables are part of ECLIPSE or EOCOPD?\n",
    "bmi_vars = bmi_dataframe['studyId'].str.contains('phs001252|phs000946')\n",
    "\n",
    "# create a subset of only the ECLIPSE / EOCOPD BMI vars\n",
    "bmi_dataframe = bmi_dataframe[bmi_vars][['studyId', 'dataTableName', 'name', 'description', 'values', 'HPDS_PATH']]\n",
    "bmi_dataframe\n",
    "\n",
    "# save HPDS_PATHs of interest\n",
    "eocopd_bmi_var = \"\\phs000946\\pht005719\\phv00266123\\BMI\\\\\"\n",
    "eclipse_bmi_var = \"\\phs001252\\pht006373\\phv00293610\\VSBMI\\\\\"\n",
    "\n",
    "bmi_dataframe.head()"
   ]
  },
  {
   "cell_type": "code",
   "execution_count": null,
   "id": "264b4546",
   "metadata": {},
   "outputs": [],
   "source": [
    "combined_query = authPicSure.query()\n",
    "\n",
    "# Build query using selected concept paths\n",
    "combined_query.anyof().add([eclipse_sex_var, eclipse_bmi_var, eocopd_sex_var, eocopd_bmi_var])"
   ]
  },
  {
   "cell_type": "code",
   "execution_count": null,
   "id": "9d82880c",
   "metadata": {},
   "outputs": [],
   "source": [
    "# Get query results\n",
    "combined_results = combined_query.getResultsDataFrame()\n",
    "combined_results.head()"
   ]
  },
  {
   "cell_type": "code",
   "execution_count": null,
   "id": "977fe95c",
   "metadata": {},
   "outputs": [],
   "source": [
    "# rename columns\n",
    "combined_results.columns = ['patient_id', 'parent_accession', 'topmed_accession', 'consent', 'eocopd_sex', 'eocopd_bmi', 'eclipse_bmi', 'eclipse_sex']\n",
    "combined_results.head()\n"
   ]
  },
  {
   "cell_type": "code",
   "execution_count": null,
   "id": "f1b2d616",
   "metadata": {},
   "outputs": [],
   "source": [
    "# convert consent code to study name\n",
    "combined_results['study'] = np.where(combined_results['consent'].str.contains('phs001252'), 'eclipse', 'eocopd')\n",
    "combined_results.head()\n"
   ]
  },
  {
   "cell_type": "code",
   "execution_count": null,
   "id": "3fef3727",
   "metadata": {},
   "outputs": [],
   "source": [
    "# combine sex variables\n",
    "combined_results['sex'] = combined_results['eocopd_sex'].fillna(combined_results['eclipse_sex'])\n",
    "combined_results.head()\n"
   ]
  },
  {
   "cell_type": "code",
   "execution_count": null,
   "id": "1d54d58d",
   "metadata": {},
   "outputs": [],
   "source": [
    "# combine bmi variables\n",
    "combined_results['bmi'] = combined_results['eocopd_bmi'].fillna(combined_results['eclipse_bmi'])\n",
    "combined_results.head()\n"
   ]
  },
  {
   "cell_type": "code",
   "execution_count": null,
   "id": "deb11112",
   "metadata": {},
   "outputs": [],
   "source": [
    "# remove unneccessary columns and summarize\n",
    "plotdf = combined_results[[ 'study', 'sex', 'bmi']]\n",
    "plotdf = plotdf.groupby(['study', 'sex']).mean().unstack()\n",
    "plotdf"
   ]
  },
  {
   "cell_type": "code",
   "execution_count": null,
   "id": "c9c29056",
   "metadata": {},
   "outputs": [],
   "source": [
    "plotdf.plot(kind = 'bar')\n"
   ]
  },
  {
   "cell_type": "markdown",
   "id": "c0629b77",
   "metadata": {},
   "source": [
    "-----"
   ]
  },
  {
   "cell_type": "markdown",
   "id": "36c65603",
   "metadata": {},
   "source": [
    "## Orthopnea variables across studies\n",
    "In this example, we will be harmonizing variables related to `orthopnea`. Orthopnea is shortness of breath that occurs when individuals lie flat. Because of this, people with orthopnea have to sleep propped up in bed or sitting in a chair. You can read more about this condition [here](https://www.sleepfoundation.org/sleep-apnea/orthopnea).\n",
    "\n",
    "Let's start by doing a search in PIC-SURE for concept paths containing `orthopnea`."
   ]
  },
  {
   "cell_type": "markdown",
   "id": "c81b4863",
   "metadata": {},
   "source": [
    "### Search and find orthopnea variables"
   ]
  },
  {
   "cell_type": "code",
   "execution_count": null,
   "id": "4687d20b",
   "metadata": {},
   "outputs": [],
   "source": [
    "orthopnea_dictionary = bdc.useDictionary().dictionary().find(\"orthopnea\")\n",
    "orthopnea_dataframe = orthopnea_dictionary.dataframe()\n",
    "print(orthopnea_dataframe.shape)\n",
    "orthopnea_dataframe[['name', 'description', 'values', 'studyId']].head()"
   ]
  },
  {
   "cell_type": "markdown",
   "id": "d2d75fc6",
   "metadata": {},
   "source": [
    "As shown in the resulting dataframe, orthopnea is often recorded as a something like `sleep on two or more pillows to help you breathe?`\n",
    "\n",
    "Let's do a search for `pillows` in PIC-SURE to explore those concept paths."
   ]
  },
  {
   "cell_type": "code",
   "execution_count": null,
   "id": "82f37ddc",
   "metadata": {},
   "outputs": [],
   "source": [
    "pillows_dictionary = bdc.useDictionary().dictionary().find(\"pillows\")\n",
    "pillows_dataframe = pillows_dictionary.dataframe()\n",
    "pillows_dataframe[['name', 'description', 'values', 'studyId']].head()"
   ]
  },
  {
   "cell_type": "markdown",
   "id": "52eb67f6",
   "metadata": {},
   "source": [
    "As shown in the resulting dataframe, there are some concept paths related to orthopnea that were not captured by the previous `orthopnea` search, such as `Do you sleep on 2 or more pillows to improve your breathing?` from the Jackson Heart Study (JHS) Cohort (phs000286). In fact, the JHS dataset was not returned at all when we searched for `orthopnea`. \n",
    "\n",
    "This is problematic for researchers studying these types of variables, since the concept paths of interest may not always be captured by a single search term. To account for this, researchers must conduct exploratory searches to determine potential search terms."
   ]
  },
  {
   "cell_type": "markdown",
   "id": "2ef0298f",
   "metadata": {},
   "source": [
    "Let's say we want to harmonize orthopnea variables from the following datasets: \n",
    "- FHS (phs000007)\n",
    "- MESA (phs000209)\n",
    "- WHI (phs000200)\n",
    "\n",
    "We can first get all concept paths related to our terms of interest (`orthopnea` or `pillows`) and then filter to our studies of interest.\n",
    "\n",
    "You can get the phs number associated with each study from the data access dashboard."
   ]
  },
  {
   "cell_type": "code",
   "execution_count": null,
   "id": "7921c14c",
   "metadata": {},
   "outputs": [],
   "source": [
    "# search pic-sure for 'orthopnea' and 'pillows'\n",
    "harmonized_dictionary = bdc.useDictionary().dictionary().find(\"orthopnea|pillows\")\n",
    "harmonized_df = harmonized_dictionary.dataframe()\n",
    "\n",
    "# filter to variables found in FHS, MESA, WHI\n",
    "harmonized_df = harmonized_df[harmonized_df['studyId'].str.contains('phs000007|phs000209|phs000200')]\n",
    "print(harmonized_df.shape)\n",
    "harmonized_df[['name', 'description', 'values', 'studyId']]"
   ]
  },
  {
   "cell_type": "markdown",
   "id": "3027b8aa",
   "metadata": {},
   "source": [
    "After browsing the available variables, we decided to choose the following:"
   ]
  },
  {
   "cell_type": "code",
   "execution_count": null,
   "id": "fe7cff34",
   "metadata": {},
   "outputs": [],
   "source": [
    "orthopnea_variables_of_interest = harmonized_df[harmonized_df['description'].isin(['Orthopnea', 'F136 Orthopnea', 'SLEEP ON 2+ PILLOWS TO HELP BREATHING'])]\n",
    "\n",
    "# save variable paths for querying data\n",
    "orthopnea_variable_paths_of_interest = orthopnea_variables_of_interest['HPDS_PATH'].tolist()\n",
    "\n",
    "orthopnea_variables_of_interest[['values', 'studyId', 'description', 'name']]\n"
   ]
  },
  {
   "cell_type": "markdown",
   "id": "e3bab09c",
   "metadata": {},
   "source": [
    "### Search and find pneumonia variables"
   ]
  },
  {
   "cell_type": "markdown",
   "id": "5d2328cc",
   "metadata": {},
   "source": [
    "As part of our research, let's say we are interested in exploring the relationship between pneumonia and orthopnea. Let's save concept paths related to `pneumonia` as well. "
   ]
  },
  {
   "cell_type": "code",
   "execution_count": null,
   "id": "a56001ea",
   "metadata": {},
   "outputs": [],
   "source": [
    "# search pic-sure for 'pneumonia'\n",
    "harmonized_dictionary = bdc.useDictionary().dictionary().find(\"pneumonia\")\n",
    "harmonized_df = harmonized_dictionary.dataframe()\n",
    "\n",
    "# filter to variables found in FHS, MESA, WHI\n",
    "harmonized_df = harmonized_df[harmonized_df['studyId'].str.contains('phs000007|phs000209|phs000200')]\n",
    "print(harmonized_df.shape)\n",
    "harmonized_df[['name', 'description', 'values', 'studyId']]"
   ]
  },
  {
   "cell_type": "markdown",
   "id": "3cd43e21",
   "metadata": {},
   "source": [
    "After browsing the available variables, we decided to choose the following:"
   ]
  },
  {
   "cell_type": "code",
   "execution_count": null,
   "id": "35edb840",
   "metadata": {},
   "outputs": [],
   "source": [
    "pneumonia_variables_of_interest = harmonized_df[harmonized_df['varId'].isin(['phv00255144.v1', \n",
    "                                                                             'phv00083539.v1', \n",
    "                                                                             'phv00283208.v1'])]\n",
    "\n",
    "# save variable paths for querying data\n",
    "pneumonia_variable_paths_of_interest = pneumonia_variables_of_interest['HPDS_PATH'].tolist()\n",
    "\n",
    "pneumonia_variables_of_interest[['values', 'studyId', 'description', 'name', 'varId']]\n"
   ]
  },
  {
   "cell_type": "markdown",
   "id": "b538fe61",
   "metadata": {},
   "source": [
    "### Make query"
   ]
  },
  {
   "cell_type": "code",
   "execution_count": null,
   "id": "32704e47",
   "metadata": {},
   "outputs": [],
   "source": [
    "# Initialize a query\n",
    "authPicSure = bdc.useAuthPicSure()\n",
    "orthopnea_query = authPicSure.query()\n",
    "orthopnea_query.anyof().add(orthopnea_variable_paths_of_interest + pneumonia_variable_paths_of_interest)\n",
    "orthopnea_results = orthopnea_query.getResultsDataFrame()\n",
    "orthopnea_results.head()"
   ]
  },
  {
   "cell_type": "code",
   "execution_count": null,
   "id": "2b1e3669",
   "metadata": {},
   "outputs": [],
   "source": [
    "# rename columns\n",
    "orthopnea_results.columns = ['patient_id', 'parent_accession', 'topmed_accession', 'consent', \n",
    "                             'fhs_pneumonia', 'fhs_orthopnea', 'whi_pneumonia', \n",
    "                             'whi_orthopnea', 'mesa_pneumonia', 'mesa_orthopnea']\n",
    "orthopnea_results.head()\n"
   ]
  },
  {
   "cell_type": "code",
   "execution_count": null,
   "id": "b55b7180",
   "metadata": {},
   "outputs": [],
   "source": [
    "# convert consent code to study name\n",
    "orthopnea_results['study'] = np.where(orthopnea_results['consent'].str.contains('phs000007'), 'fhs', \n",
    "                                      np.where(orthopnea_results['consent'].str.contains('phs000209'), 'mesa', 'whi'))\n",
    "orthopnea_results.head()\n"
   ]
  },
  {
   "cell_type": "code",
   "execution_count": null,
   "id": "6bc80cad",
   "metadata": {},
   "outputs": [],
   "source": [
    "# combine orthopnea variables\n",
    "orthopnea_results['orthopnea'] = orthopnea_results['fhs_orthopnea'].fillna(orthopnea_results['whi_orthopnea'])\n",
    "orthopnea_results['orthopnea'] = orthopnea_results['orthopnea'].fillna(orthopnea_results['mesa_orthopnea'])\n",
    "orthopnea_results.head()\n",
    "\n",
    "orthopnea_results['orthopnea'].unique()"
   ]
  },
  {
   "cell_type": "markdown",
   "id": "72b0a4c0",
   "metadata": {},
   "source": [
    "---"
   ]
  },
  {
   "cell_type": "code",
   "execution_count": null,
   "id": "8bd2c18a",
   "metadata": {},
   "outputs": [],
   "source": [
    "mesa_pneu = find_concept_paths('Multi-Ethnic Study of Atherosclerosis (MESA) SHARe ( phs000209 )', ['pneumonia'])\n",
    "#mesa_pneu # Uncomment to view full results list\n",
    "mesa_pneu_var = mesa_pneu[4]\n",
    "mesa_pneu_var"
   ]
  },
  {
   "cell_type": "code",
   "execution_count": null,
   "id": "39dad218",
   "metadata": {},
   "outputs": [],
   "source": [
    "whi_pneu = find_concept_paths(\"Women's Health Initiative Clinical Trial and Observational Study ( phs000200 )\", ['pneumonia'])\n",
    "# whi_pneu # Uncomment to view full results list\n",
    "whi_pneu_var = whi_pneu[0]\n",
    "whi_pneu_var"
   ]
  },
  {
   "cell_type": "code",
   "execution_count": null,
   "id": "ad911589",
   "metadata": {},
   "outputs": [],
   "source": [
    "fhs_pneu = find_concept_paths(\"Framingham Cohort ( phs000007 )\", ['pneumonia'])\n",
    "# fhs_pneu # Uncomment to view full results\n",
    "fhs_pneu_var = fhs_pneu[26]\n",
    "fhs_pneu_var"
   ]
  },
  {
   "cell_type": "markdown",
   "id": "3e22dff8",
   "metadata": {},
   "source": [
    "Now that we know and have saved our concept paths of interest, we can use these to build our queries and obtain our dataframes. "
   ]
  },
  {
   "cell_type": "code",
   "execution_count": null,
   "id": "68210785",
   "metadata": {},
   "outputs": [],
   "source": [
    "mesa_query = resource.query()\n",
    "mesa_query.anyof().add(mesa_var)\n",
    "mesa_query.require().add(mesa_pneu_var)\n",
    "mesa_results = mesa_query.getResultsDataFrame(low_memory=False)"
   ]
  },
  {
   "cell_type": "code",
   "execution_count": null,
   "id": "0f66cd6b",
   "metadata": {},
   "outputs": [],
   "source": [
    "fhs_query = resource.query()\n",
    "fhs_query.anyof().add(fhs_var)\n",
    "fhs_query.require().add(fhs_pneu_var)\n",
    "fhs_results = fhs_query.getResultsDataFrame(low_memory=False)"
   ]
  },
  {
   "cell_type": "code",
   "execution_count": null,
   "id": "36639f16",
   "metadata": {},
   "outputs": [],
   "source": [
    "whi_query = resource.query()\n",
    "whi_query.anyof().add(whi_var)\n",
    "whi_query.require().add(whi_pneu_var)\n",
    "whi_results = whi_query.getResultsDataFrame(low_memory=False)"
   ]
  },
  {
   "cell_type": "markdown",
   "id": "0843f800",
   "metadata": {},
   "source": [
    "Now that we have our patient-level dataframes, we can combine them into a single, cohesive dataframe.\n",
    "\n",
    "The following function accomplishes three main tasks:\n",
    "1. Removes extra columns, such as consent information\n",
    "2. Renames the Pneumonia and Orthopnea columns\n",
    "3. Adds the Dataset column, which corresponds to the study"
   ]
  },
  {
   "cell_type": "code",
   "execution_count": null,
   "id": "8476cd7b",
   "metadata": {},
   "outputs": [],
   "source": [
    "def clean_up_df2(df, study):\n",
    "    columns_to_drop = ['\\\\_Parent Study Accession with Subject ID\\\\', '\\\\_Topmed Study Accession with Subject ID\\\\', '\\\\_consents\\\\', '\\\\_harmonized_consent\\\\']\n",
    "    df1 = df.drop(columns=columns_to_drop, errors='ignore')\n",
    "    if 'pneumonia' in df1.columns.values[1].lower():\n",
    "        df1.columns = ['Patient ID', 'Pneumonia', 'Orthopnea']\n",
    "    else:\n",
    "        df1.columns = ['Patient ID', 'Orthopnea', 'Pneumonia']\n",
    "    df1['Dataset'] = study\n",
    "    return df1"
   ]
  },
  {
   "cell_type": "code",
   "execution_count": null,
   "id": "ad8f8788",
   "metadata": {},
   "outputs": [],
   "source": [
    "clean_fhs = clean_up_df2(fhs_results, 'FHS')\n",
    "clean_whi = clean_up_df2(whi_results, 'WHI')\n",
    "clean_mesa = clean_up_df2(mesa_results, 'MESA')"
   ]
  },
  {
   "cell_type": "markdown",
   "id": "c9d0ce05",
   "metadata": {},
   "source": [
    "As you may have noticed, the orthopnea and pneumonia variables are encoded differently between these studies. Specifically:\n",
    "- In FHS, pneumonia is recorded as \"NO\", \"MAYBE\", or \"YES\"\n",
    "- In MESA, pneumonia is recorded as \"Yes\", \"No\", or \"Don't know / Not sure\"\n",
    "- In WHI, pneumonia is recoded as a value, or the number of times a participant has been diagnosed with pneumonia\n",
    "\n",
    "To harmonize these variables, we need to create a consistent encoding across these studies. "
   ]
  },
  {
   "cell_type": "code",
   "execution_count": null,
   "id": "ac5bee5e",
   "metadata": {},
   "outputs": [],
   "source": [
    "# Combine the results for the pneumonia and orthopnea variables\n",
    "pneumonia_results = list(clean_fhs['Pneumonia'].unique())+list(clean_whi['Pneumonia'].unique())+list(clean_mesa['Pneumonia'].unique())\n",
    "orthopnea_results = list(clean_fhs['Orthopnea'].unique())+list(clean_whi['Orthopnea'].unique())+list(clean_mesa['Orthopnea'].unique())\n",
    "\n",
    "#pneumonia_results # Uncomment to view values\n",
    "#orthopnea_results # Uncomment to view values"
   ]
  },
  {
   "cell_type": "markdown",
   "id": "2b9f2ac0",
   "metadata": {},
   "source": [
    "The following code creates these mappings:\n",
    "\n",
    "|Raw value|Harmonized value|\n",
    "|---|---|\n",
    "|No|No|\n",
    "|NO|No|\n",
    "|No/Not recorded|No|\n",
    "|Numeric value equal to 0|No|\n",
    "|MAYBE|Maybe|\n",
    "|Don't know / Not sure|Do not know|\n",
    "|DO NOT KNOW|Do not know|\n",
    "|YES|Yes|\n",
    "|Yes|Yes|\n",
    "|Numeric value greater than 0|Yes|"
   ]
  },
  {
   "cell_type": "code",
   "execution_count": null,
   "id": "67f1f7d7",
   "metadata": {},
   "outputs": [],
   "source": [
    "mappings = {}\n",
    "for res in [pneumonia_results, orthopnea_results]:\n",
    "    for val in res:\n",
    "        if val not in mappings.keys():\n",
    "            if isinstance(val, float):\n",
    "                if val == 0.0:\n",
    "                    mappings[val] = 'No'\n",
    "                else:\n",
    "                    mappings[val] = 'Yes'\n",
    "            else:\n",
    "                if val.lower() == 'yes':\n",
    "                    mappings[val] = 'Yes'\n",
    "                if 'know' in val.lower():\n",
    "                    mappings[val] = 'Do not know'\n",
    "                elif 'no' in val.lower():\n",
    "                    mappings[val] = 'No'\n",
    "                if 'maybe' in val.lower():\n",
    "                    mappings[val] = 'Maybe'\n",
    "\n",
    "final_df = pd.concat([clean for clean in [clean_fhs, clean_whi, clean_mesa]], ignore_index=True)\n",
    "final_df = final_df.replace({\"Pneumonia\": mappings, 'Orthopnea':mappings})\n",
    "final_df.head()"
   ]
  },
  {
   "cell_type": "markdown",
   "id": "5f65153d",
   "metadata": {},
   "source": [
    "Now that the variables have been encoded in the same way, we can use this dataframe for analysis and visualizations. "
   ]
  },
  {
   "cell_type": "code",
   "execution_count": null,
   "id": "78af09f8",
   "metadata": {},
   "outputs": [],
   "source": [
    "# library\n",
    "import matplotlib.pyplot as plt\n",
    "from matplotlib_venn import venn2"
   ]
  },
  {
   "cell_type": "code",
   "execution_count": null,
   "id": "58d3c3e3",
   "metadata": {},
   "outputs": [],
   "source": [
    "# Filters to apply to the final_df to create figures\n",
    "pneu_yes = final_df['Pneumonia'] == 'Yes'\n",
    "pneu_no = final_df['Pneumonia'] == 'No'\n",
    "ortho_yes = final_df['Orthopnea'] == 'Yes'\n",
    "ortho_no = final_df['Orthopnea'] == 'No'\n",
    "fhs = final_df['Dataset'] == 'FHS'\n",
    "mesa = final_df['Dataset'] == 'MESA'\n",
    "whi = final_df['Dataset'] == 'WHI'"
   ]
  },
  {
   "cell_type": "code",
   "execution_count": null,
   "id": "572165d7",
   "metadata": {},
   "outputs": [],
   "source": [
    "# FHS figure\n",
    "pneu_count =  final_df[pneu_yes & ortho_no & fhs].count()['Patient ID']\n",
    "ortho_count = final_df[pneu_no & ortho_yes & fhs].count()['Patient ID']\n",
    "both_count =  final_df[pneu_yes & ortho_yes & fhs].count()['Patient ID']\n",
    "venn2(subsets = (pneu_count, ortho_count, both_count), set_labels = ('Pneumonia', 'Orthopnea'))\n",
    "plt.title(\"FHS Dataset\")\n",
    "plt.show()\n",
    "\n",
    "# MESA figure\n",
    "pneu_count =  final_df[pneu_yes & ortho_no & mesa].count()['Patient ID']\n",
    "ortho_count = final_df[pneu_no & ortho_yes & mesa].count()['Patient ID']\n",
    "both_count =  final_df[pneu_yes & ortho_yes & mesa].count()['Patient ID']\n",
    "venn2(subsets = (pneu_count, ortho_count, both_count), set_labels = ('Pneumonia', 'Orthopnea'))\n",
    "plt.title(\"MESA Dataset\")\n",
    "plt.show()\n",
    "\n",
    "# WHI figure\n",
    "pneu_count =  final_df[pneu_yes & ortho_no & whi].count()['Patient ID']\n",
    "ortho_count = final_df[pneu_no & ortho_yes & whi].count()['Patient ID']\n",
    "both_count =  final_df[pneu_yes & ortho_yes & whi].count()['Patient ID']\n",
    "venn2(subsets = (pneu_count, ortho_count, both_count), set_labels = ('Pneumonia', 'Orthopnea'))\n",
    "plt.title(\"WHI Dataset\")\n",
    "plt.show()\n",
    "\n",
    "# Combined figure\n",
    "pneu_count =  final_df[pneu_yes & ortho_no].count()['Patient ID']\n",
    "ortho_count = final_df[pneu_no & ortho_yes].count()['Patient ID']\n",
    "both_count =  final_df[pneu_yes & ortho_yes].count()['Patient ID']\n",
    "venn2(subsets = (pneu_count, ortho_count, both_count), set_labels = ('Pneumonia', 'Orthopnea'))\n",
    "plt.title(\"Harmonized\")\n",
    "plt.show()"
   ]
  },
  {
   "cell_type": "code",
   "execution_count": null,
   "id": "6cee5fcc",
   "metadata": {},
   "outputs": [],
   "source": []
  }
 ],
 "metadata": {
  "kernelspec": {
   "display_name": "conda_python3",
   "language": "python",
   "name": "conda_python3"
  },
  "language_info": {
   "codemirror_mode": {
    "name": "ipython",
    "version": 3
   },
   "file_extension": ".py",
   "mimetype": "text/x-python",
   "name": "python",
   "nbconvert_exporter": "python",
   "pygments_lexer": "ipython3",
   "version": "3.6.13"
  }
 },
 "nbformat": 4,
 "nbformat_minor": 5
}
