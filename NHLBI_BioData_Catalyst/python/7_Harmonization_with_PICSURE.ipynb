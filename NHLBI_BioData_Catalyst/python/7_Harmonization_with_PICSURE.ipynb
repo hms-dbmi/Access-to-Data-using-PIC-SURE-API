{
 "cells": [
  {
   "cell_type": "markdown",
   "id": "813f3d77",
   "metadata": {},
   "source": [
    "# Harmonization across studies with PIC-SURE"
   ]
  },
  {
   "cell_type": "markdown",
   "id": "9cdc8633",
   "metadata": {},
   "source": [
    "This tutorial notebook will demonstrate how to query and work with the BioData Catalyst studies, particularly cross-study harmonization. For a more step-by-step introduction to the python PIC-SURE API, see the `1_PICSURE_API_101.ipynb` notebook."
   ]
  },
  {
   "cell_type": "markdown",
   "id": "ef49391b",
   "metadata": {},
   "source": [
    "**Before running this notebook, please be sure to review the \\\"Get your security token\\\" documentation, which exists in the NHLBI_BioData_Catalyst [README.md file](https://github.com/hms-dbmi/Access-to-Data-using-PIC-SURE-API/tree/master/NHLBI_BioData_Catalyst#get-your-security-token). It explains about how to get a security token, which is mandatory to access the databases.**"
   ]
  },
  {
   "cell_type": "markdown",
   "id": "1481f36a",
   "metadata": {},
   "source": [
    " -------   "
   ]
  },
  {
   "cell_type": "markdown",
   "id": "3488c667",
   "metadata": {},
   "source": [
    "# Environment set-up"
   ]
  },
  {
   "cell_type": "markdown",
   "id": "3b6b6f8b",
   "metadata": {},
   "source": [
    "### System requirements\n",
    "- Python 3.6 or later\n",
    "- pip python package manager, already available in most systems with a python interpreter installed\n"
   ]
  },
  {
   "cell_type": "markdown",
   "id": "12e6c07e",
   "metadata": {},
   "source": [
    "### Install packages"
   ]
  },
  {
   "cell_type": "code",
   "execution_count": null,
   "id": "59476a12",
   "metadata": {
    "scrolled": true
   },
   "outputs": [],
   "source": [
    "import pandas as pd\n",
    "import sys\n",
    "!{sys.executable} -m pip install --upgrade --force-reinstall git+https://github.com/hms-dbmi/pic-sure-python-client.git\n",
    "!{sys.executable} -m pip install --upgrade --force-reinstall git+https://github.com/hms-dbmi/pic-sure-python-adapter-hpds.git\n",
    "!{sys.executable} -m pip install --upgrade --force-reinstall git+https://github.com/hms-dbmi/pic-sure-biodatacatalyst-python-adapter-hpds.git@new-search\n",
    "\n",
    "import PicSureBdcAdapter"
   ]
  },
  {
   "cell_type": "markdown",
   "id": "e20b70ee",
   "metadata": {},
   "source": [
    "## Connecting to a PIC-SURE network"
   ]
  },
  {
   "cell_type": "code",
   "execution_count": null,
   "id": "fd8cde1a",
   "metadata": {},
   "outputs": [],
   "source": [
    "# Uncomment production URL when testing in production\n",
    "# PICSURE_network_URL = \"https://picsure.biodatacatalyst.nhlbi.nih.gov/picsure\"\n",
    "PICSURE_network_URL = \"https://biodatacatalyst.integration.hms.harvard.edu/picsure\"\n",
    "token_file = \"token.txt\"\n",
    "\n",
    "with open(token_file, \"r\") as f:\n",
    "    my_token = f.read()\n",
    "    \n",
    "bdc = PicSureBdcAdapter.Adapter(PICSURE_network_URL, my_token)"
   ]
  },
  {
   "cell_type": "markdown",
   "id": "cb539939",
   "metadata": {},
   "source": [
    " -------   "
   ]
  },
  {
   "cell_type": "markdown",
   "id": "90e66c5b",
   "metadata": {},
   "source": [
    "## Harmonizing variables with PIC-SURE\n",
    "One of the key challenges to conducting analyses with several studies is ensuring correct data harmonization, or combining of data from different sources. There are many harmonization techniques, but this notebook will demonstrate how to find and extract similar variables from different studies in PIC-SURE. Two examples of this will be shown:\n",
    "1. Retrieving variables for *sex and gender* across studies with BMI\n",
    "2. Harmonizing the variable *\"orthopnea\"* across studies with age\n",
    "\n",
    "\n",
    "*For more information about the TOPMed DCC Harmonized Data Set in PIC-SURE, please refer to the [`2_TOPMed_DCC_Harmonized_Variables_analysis.ipynb`](https://github.com/hms-dbmi/Access-to-Data-using-PIC-SURE-API/blob/master/NHLBI_BioData_Catalyst/python/2_TOPMed_DCC_Harmonized_Variables_analysis.ipynb) notebook*"
   ]
  },
  {
   "cell_type": "markdown",
   "id": "45586356",
   "metadata": {},
   "source": [
    "-----"
   ]
  },
  {
   "cell_type": "markdown",
   "id": "f5340bd6",
   "metadata": {},
   "source": [
    "### Sex and gender variables across studies\n",
    "<font color='darkgreen'>**Goal: Create a single harmonized variable called \"sex\" which combines data from multiple studies**</font> "
   ]
  },
  {
   "cell_type": "markdown",
   "id": "fa2017ff",
   "metadata": {},
   "source": [
    "These variables are labelled differently for each of these studies. For example, some use the keyword `sex` while others use `gender`. To acccount for these differences, we need to develop a way to search for multiple keywords at once.\n",
    "\n",
    "Let's start by searching for `sex` and `gender` to gain a better understanding of the variables that exist in PIC-SURE with these terms.\n",
    "\n"
   ]
  },
  {
   "cell_type": "code",
   "execution_count": null,
   "id": "c3a87575",
   "metadata": {},
   "outputs": [],
   "source": [
    "sex_variable_dictionary = bdc.useDictionary().dictionary().find('sex|gender').dataframe()\n",
    "print(sex_variable_dictionary.shape)\n",
    "sex_variable_dictionary.head()\n"
   ]
  },
  {
   "cell_type": "markdown",
   "id": "89388dfe",
   "metadata": {},
   "source": [
    "After reviewing the variables using the dataframe (or the [user interface](https://picsure.biodatacatalyst.nhlbi.nih.gov/psamaui/login)), let's say we are interested in sex/gender variables from the following studies:\n",
    "- TOPMed Harmonized data set (phs####)\n",
    "- ECLIPSE (Evaluation of COPD Longitudinally to Identify Predictive Surrogate Endpoints) (phs001252)\n",
    "- EOCOPD (Early Onset of COPD) (phs000946)\n",
    "\n",
    "We can find the study IDs in the data access dashboard in the user interface."
   ]
  },
  {
   "cell_type": "code",
   "execution_count": null,
   "id": "89c80c69",
   "metadata": {},
   "outputs": [],
   "source": []
  },
  {
   "cell_type": "markdown",
   "id": "860185f4",
   "metadata": {},
   "source": [
    "We have already used the PIC-SURE API dictionary object and find method to find variables which contain the keywords sex and gender. Let's filter these results to our desired studies of interest."
   ]
  },
  {
   "cell_type": "code",
   "execution_count": null,
   "id": "1d0551f3",
   "metadata": {},
   "outputs": [],
   "source": [
    "list(sex_variable_dictionary)"
   ]
  },
  {
   "cell_type": "code",
   "execution_count": null,
   "id": "4f32d9d0",
   "metadata": {},
   "outputs": [],
   "source": [
    "# which sex/gender variables are part of ECLIPSE?\n",
    "eclipse_vars = sex_variable_dictionary['studyId'].str.contains('phs001252')\n",
    "\n",
    "# create a subset of only ECLIPSE sex/gender vars\n",
    "eclipse_sex_dictionary = sex_variable_dictionary[eclipse_vars][['studyId', 'dataTableName', 'name', 'description', 'values', 'HPDS_PATH']]\n",
    "eclipse_sex_dictionary\n"
   ]
  },
  {
   "cell_type": "code",
   "execution_count": null,
   "id": "960488b8",
   "metadata": {},
   "outputs": [],
   "source": [
    "# which sex/gender variables are part of EOCOPD?\n",
    "eocopd_vars = sex_variable_dictionary['studyId'].str.contains('phs000946')\n",
    "\n",
    "# create a subset of only EOCOPD sex/gender vars\n",
    "eocopd_sex_dictionary = sex_variable_dictionary[eclipse_vars][['studyId', 'dataTableName', 'name', 'description', 'values', 'HPDS_PATH']]\n",
    "eocopd_sex_dictionary\n"
   ]
  },
  {
   "cell_type": "markdown",
   "id": "bdad3c0e",
   "metadata": {},
   "source": [
    "We can see that there are many sex/gender variables in ECLIPSE originating from various data tables, and only one found in EOCOPD/"
   ]
  },
  {
   "cell_type": "code",
   "execution_count": null,
   "id": "0067dd49",
   "metadata": {},
   "outputs": [],
   "source": [
    "# Initialize a query\n",
    "authPicSure = bdc.useAuthPicSure()\n",
    "sex_query = authPicSure.query()\n"
   ]
  },
  {
   "cell_type": "code",
   "execution_count": null,
   "id": "fe197cf5",
   "metadata": {},
   "outputs": [],
   "source": [
    "# Build query using selected concept paths\n",
    "sex_query.anyof().add(pd.concat([eclipse_sex_dictionary['HPDS_PATH'], eocopd_sex_dictionary['HPDS_PATH']]))\n"
   ]
  },
  {
   "cell_type": "code",
   "execution_count": null,
   "id": "e2d95a0f",
   "metadata": {
    "scrolled": true
   },
   "outputs": [],
   "source": [
    "sex_results = sex_query.getResultsDataFrame()\n",
    "sex_results.head()"
   ]
  },
  {
   "cell_type": "markdown",
   "id": "3c6edcfa",
   "metadata": {},
   "source": [
    "# in progress - how to know which to pick?\n",
    "Since there are multiple concept paths that are contain either `gender` or `sex` in the EOCOPD dataset, we can investigate these concept paths to determine the true variable of interest."
   ]
  },
  {
   "cell_type": "code",
   "execution_count": null,
   "id": "2f4165d3",
   "metadata": {
    "scrolled": true
   },
   "outputs": [],
   "source": [
    "# Uncomment following line to see full list of sex/gender variables in EOCOPD\n",
    "#print(\"Full list of variables\", eocopd_vars)\n",
    "\n",
    "# Based on this, we can see that the variable we want for this analysis is the last in the list: Gender of participant\n",
    "eocopd_var = find_vars(eocopd, ['gender of participant'])\n",
    "print(\"Concept path from EOCOPD data set:\\n\", eocopd_var)"
   ]
  },
  {
   "cell_type": "markdown",
   "id": "7668eef2",
   "metadata": {},
   "source": [
    "As part of our research, let's also say we are interested in body mass index (BMI) measurements across these studies. Let's save these concept paths to use in our queries as well."
   ]
  },
  {
   "cell_type": "code",
   "execution_count": null,
   "id": "b2f92abd",
   "metadata": {},
   "outputs": [],
   "source": [
    "# search for body mass index variables\n",
    "bmi_variable_dictionary = bdc.useDictionary().dictionary().find('body mass index').dataframe()\n",
    "\n",
    "# which sex/gender variables are part of ECLIPSE or EOCOPD?\n",
    "bmi_vars = bmi_variable_dictionary['studyId'].str.contains('phs001252|phs000946')\n",
    "\n",
    "# create a subset of only the ECLIPSE / EOCOPD BMI vars\n",
    "bmi_dictionary = bmi_variable_dictionary[bmi_vars][['studyId', 'dataTableName', 'name', 'description', 'values', 'HPDS_PATH']]\n",
    "bmi_dictionary"
   ]
  },
  {
   "cell_type": "code",
   "execution_count": null,
   "id": "c98008b1",
   "metadata": {},
   "outputs": [],
   "source": [
    "bmi_query = authPicSure.query()\n",
    "\n",
    "# Build query using selected concept paths\n",
    "bmi_query.anyof().add(bmi_dictionary['HPDS_PATH'])\n",
    "\n",
    "# Get query results\n",
    "bmi_results = bmi_query.getResultsDataFrame()\n",
    "bmi_results.head()"
   ]
  },
  {
   "cell_type": "markdown",
   "id": "7b0e2d09",
   "metadata": {},
   "source": [
    "Now that we know and have saved our concept paths of interest, we can use these to build our query. \n",
    "\n",
    "**Note: queries with the TOPMed DCC Harmonized data set cannot be combined with concept paths from other datasets. Because of this, we will run separate queries and combine the dataframes.**"
   ]
  },
  {
   "cell_type": "markdown",
   "id": "dab91cf0",
   "metadata": {},
   "source": [
    "Now that we have our patient-level dataframes, we can combine them into a single, cohesive dataframe.\n",
    "\n",
    "The following function accomplishes three main tasks:\n",
    "1. Removes extra columns, such as consent information\n",
    "2. Renames the BMI and Sex columns\n",
    "3. Adds the Dataset column, which corresponds to the study"
   ]
  },
  {
   "cell_type": "code",
   "execution_count": null,
   "id": "06bcd3ce",
   "metadata": {},
   "outputs": [],
   "source": [
    "def clean_up_df(df, study):\n",
    "    columns_to_drop = ['\\\\_Parent Study Accession with Subject ID\\\\', '\\\\_Topmed Study Accession with Subject ID\\\\', '\\\\_consents\\\\', '\\\\_harmonized_consent\\\\']\n",
    "    df1 = df.drop(columns=columns_to_drop, errors='ignore')\n",
    "    if 'body mass index' in df1.columns.values[1].lower():\n",
    "        df1.columns = ['Patient ID', 'BMI', 'Sex']\n",
    "    else:\n",
    "        df1.columns = ['Patient ID', 'Sex', 'BMI']\n",
    "    df2 = df1.dropna(subset=['BMI'])\n",
    "    df2['Dataset'] = study\n",
    "    return df2"
   ]
  },
  {
   "cell_type": "code",
   "execution_count": null,
   "id": "73c38730",
   "metadata": {},
   "outputs": [],
   "source": [
    "clean_eclipse = clean_up_df(eclipse_results, 'ECLIPSE')\n",
    "clean_eocopd = clean_up_df(eocopd_results, 'EOCOPD')\n",
    "clean_dcc = clean_up_df(dcc_harmonized_results, 'TOPMed Harmonized')"
   ]
  },
  {
   "cell_type": "markdown",
   "id": "3091592d",
   "metadata": {},
   "source": [
    "The datasets have been prepped. We can now merge them and begin our analysis."
   ]
  },
  {
   "cell_type": "code",
   "execution_count": null,
   "id": "a6133236",
   "metadata": {},
   "outputs": [],
   "source": [
    "# Combine individual dataframes\n",
    "final_df = pd.concat([clean for clean in [clean_eclipse, clean_eocopd, clean_dcc]], ignore_index=True)"
   ]
  },
  {
   "cell_type": "code",
   "execution_count": null,
   "id": "89fba0d8",
   "metadata": {},
   "outputs": [],
   "source": [
    "# Comparison of the datasets and sample harmonization\n",
    "separate = final_df.drop(columns = ['Patient ID']).groupby(['Dataset','Sex']).mean()\n",
    "print(separate)\n",
    "harmonized = final_df.drop(columns = ['Patient ID']).groupby(['Sex']).mean()\n",
    "print(harmonized)"
   ]
  },
  {
   "cell_type": "code",
   "execution_count": null,
   "id": "a1bcdd83",
   "metadata": {},
   "outputs": [],
   "source": [
    "# Make lists of male and female mean BMI for plotting\n",
    "male_means = list(separate[separate.index.get_level_values('Sex')=='Male']['BMI'])\n",
    "male_means.append(*list(harmonized[harmonized.index.get_level_values('Sex')=='Male']['BMI']))\n",
    "female_means = list(separate[separate.index.get_level_values('Sex')=='Female']['BMI'])\n",
    "female_means.append(*list(harmonized[harmonized.index.get_level_values('Sex')=='Female']['BMI']))"
   ]
  },
  {
   "cell_type": "code",
   "execution_count": null,
   "id": "22080542",
   "metadata": {},
   "outputs": [],
   "source": [
    "# Bar plot of the results\n",
    "width = 0.2\n",
    "labels = ['Male', 'Female']\n",
    "x = np.arange(len(labels))\n",
    "\n",
    "fig, ax = plt.subplots()\n",
    "study1 = ax.bar(x - width*1.5, [male_means[0], female_means[0]], width, label='ECLIPSE')\n",
    "study2 = ax.bar(x - width*0.5, [male_means[1], female_means[1]], width, label='EOCOPD')\n",
    "study3 = ax.bar(x + width*0.5, [male_means[2], female_means[2]], width, label='TOPMed Harmonized')\n",
    "study4 = ax.bar(x + width*1.5, [male_means[3], female_means[3]], width, label='Combined')\n",
    "\n",
    "ax.set_ylabel('Body Mass Index (BMI)')\n",
    "ax.set_title('Average Body Mass Index by Sex and Dataset')\n",
    "ax.set_xticks(x)\n",
    "ax.set_xticklabels(labels)\n",
    "ax.legend()\n",
    "plt.legend(bbox_to_anchor=(1.05, 1.0), loc='upper left')\n",
    "fig.tight_layout()\n",
    "\n",
    "plt.show()"
   ]
  },
  {
   "cell_type": "markdown",
   "id": "8df76b2e",
   "metadata": {},
   "source": [
    "-----"
   ]
  },
  {
   "cell_type": "markdown",
   "id": "824019f5",
   "metadata": {},
   "source": [
    "### Orthopnea variables across studies\n",
    "In this example, we will be harmonizing variables related to `orthopnea`. Orthopnea is shortness of breath that occurs when individuals lie flat. Because of this, people with orthopnea have to sleep propped up in bed or sitting in a chair. You can read more about this condition [here](https://www.sleepfoundation.org/sleep-apnea/orthopnea).\n",
    "\n",
    "Let's start by doing a search in PIC-SURE for concept paths containing `orthopnea`."
   ]
  },
  {
   "cell_type": "code",
   "execution_count": null,
   "id": "aae86439",
   "metadata": {},
   "outputs": [],
   "source": [
    "ortho_dict = resource.dictionary().find(\"orthopnea\").DataFrame()\n",
    "ortho_dict.head()"
   ]
  },
  {
   "cell_type": "markdown",
   "id": "b462f124",
   "metadata": {},
   "source": [
    "As shown in the resulting dataframe, orthopnea is often recorded as a something like `sleep on two or more pillows to help you breathe?`\n",
    "\n",
    "Let's do a search for `pillows` in PIC-SURE to explore those concept paths."
   ]
  },
  {
   "cell_type": "code",
   "execution_count": null,
   "id": "84921539",
   "metadata": {},
   "outputs": [],
   "source": [
    "pillow_dict = resource.dictionary().find(\"pillows\").DataFrame()\n",
    "pillow_dict.tail()"
   ]
  },
  {
   "cell_type": "markdown",
   "id": "f5271f2e",
   "metadata": {},
   "source": [
    "As shown in the resulting dataframe, there are some concept paths related to orthopnea that were not captured by the previous `orthopnea` search, such as `Do you sleep on 2 or more pillows to improve your breathing?` from the Jackson Heart Study (JHS) Cohort (phs000286). In fact, the JHS dataset was not returned at all when we searched for `orthopnea`. \n",
    "\n",
    "This is problematic for researchers studying these types of variables, since the concept paths of interest may not always be captured by a single search term. To account for this, researchers must conduct exploratory searches to determine potential search terms."
   ]
  },
  {
   "cell_type": "markdown",
   "id": "e53bc5ed",
   "metadata": {},
   "source": [
    "Let's say we want to harmonize orthopnea variables from the following datasets: FHS, MESA, and WHI. We can first get all concept paths in each study and then search for our terms of interest (`orthopnea` or `pillows`) to retrieve the concept paths of interest."
   ]
  },
  {
   "cell_type": "code",
   "execution_count": null,
   "id": "66d391dd",
   "metadata": {},
   "outputs": [],
   "source": [
    "# Function that filters out variables from a dataframe (df) that contain any of the terms (list_of_terms)\n",
    "def find_concept_paths(study_name, list_of_terms):\n",
    "    df = resource.dictionary().find(study_name).DataFrame()\n",
    "    regex_version = '('+('|').join(list_of_terms)+')'\n",
    "    var_filter = df.index.str.contains(regex_version, flags=re.IGNORECASE)\n",
    "    vars_list = list(df[var_filter].index)\n",
    "    return vars_list"
   ]
  },
  {
   "cell_type": "code",
   "execution_count": null,
   "id": "4d446757",
   "metadata": {},
   "outputs": [],
   "source": [
    "ortho_terms = ['orthopnea', 'pillows']"
   ]
  },
  {
   "cell_type": "code",
   "execution_count": null,
   "id": "171b50d6",
   "metadata": {},
   "outputs": [],
   "source": [
    "mesa = find_concept_paths('Multi-Ethnic Study of Atherosclerosis (MESA) SHARe ( phs000209 )', ortho_terms)\n",
    "# mesa # Uncomment to view full results list\n",
    "mesa_var = mesa[0]\n",
    "mesa_var"
   ]
  },
  {
   "cell_type": "code",
   "execution_count": null,
   "id": "cade518c",
   "metadata": {},
   "outputs": [],
   "source": [
    "whi = find_concept_paths(\"Women's Health Initiative Clinical Trial and Observational Study ( phs000200 )\", ortho_terms)\n",
    "# whi # Uncomment to view full results list\n",
    "whi_var = whi[0]\n",
    "whi_var"
   ]
  },
  {
   "cell_type": "code",
   "execution_count": null,
   "id": "ba6d84d0",
   "metadata": {},
   "outputs": [],
   "source": [
    "fhs = find_concept_paths(\"Framingham Cohort ( phs000007 )\", ortho_terms)\n",
    "fhs # Uncomment to view full results list\n",
    "fhs_var = fhs[37]\n",
    "fhs_var"
   ]
  },
  {
   "cell_type": "markdown",
   "id": "df38f189",
   "metadata": {},
   "source": [
    "As part of our research, let's say we are interested in exploring the relationship between pneumonia and orthopnea. Let's save concept paths related to `pneumonia` as well. "
   ]
  },
  {
   "cell_type": "code",
   "execution_count": null,
   "id": "04a19b75",
   "metadata": {},
   "outputs": [],
   "source": [
    "mesa_pneu = find_concept_paths('Multi-Ethnic Study of Atherosclerosis (MESA) SHARe ( phs000209 )', ['pneumonia'])\n",
    "#mesa_pneu # Uncomment to view full results list\n",
    "mesa_pneu_var = mesa_pneu[4]\n",
    "mesa_pneu_var"
   ]
  },
  {
   "cell_type": "code",
   "execution_count": null,
   "id": "97513be4",
   "metadata": {},
   "outputs": [],
   "source": [
    "whi_pneu = find_concept_paths(\"Women's Health Initiative Clinical Trial and Observational Study ( phs000200 )\", ['pneumonia'])\n",
    "# whi_pneu # Uncomment to view full results list\n",
    "whi_pneu_var = whi_pneu[0]\n",
    "whi_pneu_var"
   ]
  },
  {
   "cell_type": "code",
   "execution_count": null,
   "id": "505cb200",
   "metadata": {},
   "outputs": [],
   "source": [
    "fhs_pneu = find_concept_paths(\"Framingham Cohort ( phs000007 )\", ['pneumonia'])\n",
    "# fhs_pneu # Uncomment to view full results\n",
    "fhs_pneu_var = fhs_pneu[26]\n",
    "fhs_pneu_var"
   ]
  },
  {
   "cell_type": "markdown",
   "id": "f2eb165e",
   "metadata": {},
   "source": [
    "Now that we know and have saved our concept paths of interest, we can use these to build our queries and obtain our dataframes. "
   ]
  },
  {
   "cell_type": "code",
   "execution_count": null,
   "id": "177d96fb",
   "metadata": {},
   "outputs": [],
   "source": [
    "mesa_query = resource.query()\n",
    "mesa_query.anyof().add(mesa_var)\n",
    "mesa_query.require().add(mesa_pneu_var)\n",
    "mesa_results = mesa_query.getResultsDataFrame(low_memory=False)"
   ]
  },
  {
   "cell_type": "code",
   "execution_count": null,
   "id": "6630f5c9",
   "metadata": {},
   "outputs": [],
   "source": [
    "fhs_query = resource.query()\n",
    "fhs_query.anyof().add(fhs_var)\n",
    "fhs_query.require().add(fhs_pneu_var)\n",
    "fhs_results = fhs_query.getResultsDataFrame(low_memory=False)"
   ]
  },
  {
   "cell_type": "code",
   "execution_count": null,
   "id": "02d9c13e",
   "metadata": {},
   "outputs": [],
   "source": [
    "whi_query = resource.query()\n",
    "whi_query.anyof().add(whi_var)\n",
    "whi_query.require().add(whi_pneu_var)\n",
    "whi_results = whi_query.getResultsDataFrame(low_memory=False)"
   ]
  },
  {
   "cell_type": "markdown",
   "id": "7ce981fa",
   "metadata": {},
   "source": [
    "Now that we have our patient-level dataframes, we can combine them into a single, cohesive dataframe.\n",
    "\n",
    "The following function accomplishes three main tasks:\n",
    "1. Removes extra columns, such as consent information\n",
    "2. Renames the Pneumonia and Orthopnea columns\n",
    "3. Adds the Dataset column, which corresponds to the study"
   ]
  },
  {
   "cell_type": "code",
   "execution_count": null,
   "id": "b7e635fe",
   "metadata": {},
   "outputs": [],
   "source": [
    "def clean_up_df2(df, study):\n",
    "    columns_to_drop = ['\\\\_Parent Study Accession with Subject ID\\\\', '\\\\_Topmed Study Accession with Subject ID\\\\', '\\\\_consents\\\\', '\\\\_harmonized_consent\\\\']\n",
    "    df1 = df.drop(columns=columns_to_drop, errors='ignore')\n",
    "    if 'pneumonia' in df1.columns.values[1].lower():\n",
    "        df1.columns = ['Patient ID', 'Pneumonia', 'Orthopnea']\n",
    "    else:\n",
    "        df1.columns = ['Patient ID', 'Orthopnea', 'Pneumonia']\n",
    "    df1['Dataset'] = study\n",
    "    return df1"
   ]
  },
  {
   "cell_type": "code",
   "execution_count": null,
   "id": "2b2d2641",
   "metadata": {},
   "outputs": [],
   "source": [
    "clean_fhs = clean_up_df2(fhs_results, 'FHS')\n",
    "clean_whi = clean_up_df2(whi_results, 'WHI')\n",
    "clean_mesa = clean_up_df2(mesa_results, 'MESA')"
   ]
  },
  {
   "cell_type": "markdown",
   "id": "991aa6ae",
   "metadata": {},
   "source": [
    "As you may have noticed, the orthopnea and pneumonia variables are encoded differently between these studies. Specifically:\n",
    "- In FHS, pneumonia is recorded as \"NO\", \"MAYBE\", or \"YES\"\n",
    "- In MESA, pneumonia is recorded as \"Yes\", \"No\", or \"Don't know / Not sure\"\n",
    "- In WHI, pneumonia is recoded as a value, or the number of times a participant has been diagnosed with pneumonia\n",
    "\n",
    "To harmonize these variables, we need to create a consistent encoding across these studies. "
   ]
  },
  {
   "cell_type": "code",
   "execution_count": null,
   "id": "8fc85467",
   "metadata": {},
   "outputs": [],
   "source": [
    "# Combine the results for the pneumonia and orthopnea variables\n",
    "pneumonia_results = list(clean_fhs['Pneumonia'].unique())+list(clean_whi['Pneumonia'].unique())+list(clean_mesa['Pneumonia'].unique())\n",
    "orthopnea_results = list(clean_fhs['Orthopnea'].unique())+list(clean_whi['Orthopnea'].unique())+list(clean_mesa['Orthopnea'].unique())\n",
    "\n",
    "#pneumonia_results # Uncomment to view values\n",
    "#orthopnea_results # Uncomment to view values"
   ]
  },
  {
   "cell_type": "markdown",
   "id": "15c682fc",
   "metadata": {},
   "source": [
    "The following code creates these mappings:\n",
    "\n",
    "|Raw value|Harmonized value|\n",
    "|---|---|\n",
    "|No|No|\n",
    "|NO|No|\n",
    "|No/Not recorded|No|\n",
    "|Numeric value equal to 0|No|\n",
    "|MAYBE|Maybe|\n",
    "|Don't know / Not sure|Do not know|\n",
    "|DO NOT KNOW|Do not know|\n",
    "|YES|Yes|\n",
    "|Yes|Yes|\n",
    "|Numeric value greater than 0|Yes|"
   ]
  },
  {
   "cell_type": "code",
   "execution_count": null,
   "id": "b01893a0",
   "metadata": {},
   "outputs": [],
   "source": [
    "mappings = {}\n",
    "for res in [pneumonia_results, orthopnea_results]:\n",
    "    for val in res:\n",
    "        if val not in mappings.keys():\n",
    "            if isinstance(val, float):\n",
    "                if val == 0.0:\n",
    "                    mappings[val] = 'No'\n",
    "                else:\n",
    "                    mappings[val] = 'Yes'\n",
    "            else:\n",
    "                if val.lower() == 'yes':\n",
    "                    mappings[val] = 'Yes'\n",
    "                if 'know' in val.lower():\n",
    "                    mappings[val] = 'Do not know'\n",
    "                elif 'no' in val.lower():\n",
    "                    mappings[val] = 'No'\n",
    "                if 'maybe' in val.lower():\n",
    "                    mappings[val] = 'Maybe'\n",
    "\n",
    "final_df = pd.concat([clean for clean in [clean_fhs, clean_whi, clean_mesa]], ignore_index=True)\n",
    "final_df = final_df.replace({\"Pneumonia\": mappings, 'Orthopnea':mappings})\n",
    "final_df.head()"
   ]
  },
  {
   "cell_type": "markdown",
   "id": "5437c440",
   "metadata": {},
   "source": [
    "Now that the variables have been encoded in the same way, we can use this dataframe for analysis and visualizations. "
   ]
  },
  {
   "cell_type": "code",
   "execution_count": null,
   "id": "199b3ac2",
   "metadata": {},
   "outputs": [],
   "source": [
    "# library\n",
    "import matplotlib.pyplot as plt\n",
    "from matplotlib_venn import venn2"
   ]
  },
  {
   "cell_type": "code",
   "execution_count": null,
   "id": "2716cb00",
   "metadata": {},
   "outputs": [],
   "source": [
    "# Filters to apply to the final_df to create figures\n",
    "pneu_yes = final_df['Pneumonia'] == 'Yes'\n",
    "pneu_no = final_df['Pneumonia'] == 'No'\n",
    "ortho_yes = final_df['Orthopnea'] == 'Yes'\n",
    "ortho_no = final_df['Orthopnea'] == 'No'\n",
    "fhs = final_df['Dataset'] == 'FHS'\n",
    "mesa = final_df['Dataset'] == 'MESA'\n",
    "whi = final_df['Dataset'] == 'WHI'"
   ]
  },
  {
   "cell_type": "code",
   "execution_count": null,
   "id": "1a2b1bee",
   "metadata": {},
   "outputs": [],
   "source": [
    "# FHS figure\n",
    "pneu_count =  final_df[pneu_yes & ortho_no & fhs].count()['Patient ID']\n",
    "ortho_count = final_df[pneu_no & ortho_yes & fhs].count()['Patient ID']\n",
    "both_count =  final_df[pneu_yes & ortho_yes & fhs].count()['Patient ID']\n",
    "venn2(subsets = (pneu_count, ortho_count, both_count), set_labels = ('Pneumonia', 'Orthopnea'))\n",
    "plt.title(\"FHS Dataset\")\n",
    "plt.show()\n",
    "\n",
    "# MESA figure\n",
    "pneu_count =  final_df[pneu_yes & ortho_no & mesa].count()['Patient ID']\n",
    "ortho_count = final_df[pneu_no & ortho_yes & mesa].count()['Patient ID']\n",
    "both_count =  final_df[pneu_yes & ortho_yes & mesa].count()['Patient ID']\n",
    "venn2(subsets = (pneu_count, ortho_count, both_count), set_labels = ('Pneumonia', 'Orthopnea'))\n",
    "plt.title(\"MESA Dataset\")\n",
    "plt.show()\n",
    "\n",
    "# WHI figure\n",
    "pneu_count =  final_df[pneu_yes & ortho_no & whi].count()['Patient ID']\n",
    "ortho_count = final_df[pneu_no & ortho_yes & whi].count()['Patient ID']\n",
    "both_count =  final_df[pneu_yes & ortho_yes & whi].count()['Patient ID']\n",
    "venn2(subsets = (pneu_count, ortho_count, both_count), set_labels = ('Pneumonia', 'Orthopnea'))\n",
    "plt.title(\"WHI Dataset\")\n",
    "plt.show()\n",
    "\n",
    "# Combined figure\n",
    "pneu_count =  final_df[pneu_yes & ortho_no].count()['Patient ID']\n",
    "ortho_count = final_df[pneu_no & ortho_yes].count()['Patient ID']\n",
    "both_count =  final_df[pneu_yes & ortho_yes].count()['Patient ID']\n",
    "venn2(subsets = (pneu_count, ortho_count, both_count), set_labels = ('Pneumonia', 'Orthopnea'))\n",
    "plt.title(\"Harmonized\")\n",
    "plt.show()"
   ]
  },
  {
   "cell_type": "code",
   "execution_count": null,
   "id": "d8b6f64f",
   "metadata": {},
   "outputs": [],
   "source": []
  }
 ],
 "metadata": {
  "kernelspec": {
   "display_name": "conda_python3",
   "language": "python",
   "name": "conda_python3"
  },
  "language_info": {
   "codemirror_mode": {
    "name": "ipython",
    "version": 3
   },
   "file_extension": ".py",
   "mimetype": "text/x-python",
   "name": "python",
   "nbconvert_exporter": "python",
   "pygments_lexer": "ipython3",
   "version": "3.6.13"
  }
 },
 "nbformat": 4,
 "nbformat_minor": 5
}
