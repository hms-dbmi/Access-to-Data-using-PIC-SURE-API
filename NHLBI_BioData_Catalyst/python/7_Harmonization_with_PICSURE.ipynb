{
 "cells": [
  {
   "cell_type": "markdown",
   "id": "9b7b55b8",
   "metadata": {},
   "source": [
    "# Notes:\n",
    "- MESA is having issues\n",
    "- Add in TOPMed harmonized data to sex example?\n",
    "- Double check notebook after data update\n",
    "- Additional text explanations"
   ]
  },
  {
   "cell_type": "markdown",
   "id": "057b0079",
   "metadata": {},
   "source": [
    "# Harmonization across studies with PIC-SURE"
   ]
  },
  {
   "cell_type": "markdown",
   "id": "7ab96b3b",
   "metadata": {},
   "source": [
    "This tutorial notebook will demonstrate how to query and work with the BioData Catalyst studies, particularly cross-study harmonization. For a more step-by-step introduction to the python PIC-SURE API, see the `1_PICSURE_API_101.ipynb` notebook."
   ]
  },
  {
   "cell_type": "markdown",
   "id": "2d17649d",
   "metadata": {},
   "source": [
    "**Before running this notebook, please be sure to review the \\\"Get your security token\\\" documentation, which exists in the NHLBI_BioData_Catalyst [README.md file](https://github.com/hms-dbmi/Access-to-Data-using-PIC-SURE-API/tree/master/NHLBI_BioData_Catalyst#get-your-security-token). It explains about how to get a security token, which is mandatory to access the databases.**"
   ]
  },
  {
   "cell_type": "markdown",
   "id": "af35bbe1",
   "metadata": {},
   "source": [
    " -------   "
   ]
  },
  {
   "cell_type": "markdown",
   "id": "3b227625",
   "metadata": {},
   "source": [
    "# Environment set-up"
   ]
  },
  {
   "cell_type": "markdown",
   "id": "e892ef1c",
   "metadata": {},
   "source": [
    "### System requirements\n",
    "- Python 3.6 or later\n",
    "- pip python package manager, already available in most systems with a python interpreter installed\n"
   ]
  },
  {
   "cell_type": "markdown",
   "id": "4cca5297",
   "metadata": {},
   "source": [
    "### Install packages"
   ]
  },
  {
   "cell_type": "code",
   "execution_count": null,
   "id": "53d4e5ec",
   "metadata": {
    "scrolled": true
   },
   "outputs": [],
   "source": [
    "#!pip install matplotlib-venn\n",
    "import matplotlib.pyplot as plt\n",
    "from matplotlib_venn import venn2\n",
    "import numpy as np\n",
    "import pandas as pd\n",
    "import sys\n",
    "!{sys.executable} -m pip install --upgrade --force-reinstall git+https://github.com/hms-dbmi/pic-sure-python-client.git\n",
    "!{sys.executable} -m pip install --upgrade --force-reinstall git+https://github.com/hms-dbmi/pic-sure-python-adapter-hpds.git\n",
    "!{sys.executable} -m pip install --upgrade --force-reinstall git+https://github.com/hms-dbmi/pic-sure-biodatacatalyst-python-adapter-hpds.git@new-search\n",
    "\n",
    "import PicSureBdcAdapter"
   ]
  },
  {
   "cell_type": "markdown",
   "id": "289fa4a3",
   "metadata": {},
   "source": [
    "## Connecting to a PIC-SURE network"
   ]
  },
  {
   "cell_type": "code",
   "execution_count": null,
   "id": "c1c7aa9d",
   "metadata": {},
   "outputs": [],
   "source": [
    "# Uncomment production URL when testing in production\n",
    "# PICSURE_network_URL = \"https://picsure.biodatacatalyst.nhlbi.nih.gov/picsure\"\n",
    "PICSURE_network_URL = \"https://biodatacatalyst.integration.hms.harvard.edu/picsure\"\n",
    "token_file = \"token.txt\"\n",
    "\n",
    "with open(token_file, \"r\") as f:\n",
    "    my_token = f.read()\n",
    "    \n",
    "bdc = PicSureBdcAdapter.Adapter(PICSURE_network_URL, my_token)"
   ]
  },
  {
   "cell_type": "markdown",
   "id": "a3427dc2",
   "metadata": {},
   "source": [
    " -------   "
   ]
  },
  {
   "cell_type": "markdown",
   "id": "d361df7d",
   "metadata": {},
   "source": [
    "## Harmonizing variables with PIC-SURE\n",
    "One of the key challenges to conducting analyses with several studies is ensuring correct data harmonization, or combining of data from different sources. There are many harmonization techniques, but this notebook will demonstrate how to find and extract similar variables from different studies in PIC-SURE. Two examples of this will be shown:\n",
    "1. Retrieving variables for *sex and gender* across studies with BMI\n",
    "2. Harmonizing the *\"orthopnea\"* and *\"pneumonia\"* variables across studies\n",
    "\n",
    "\n",
    "*For more information about the TOPMed DCC Harmonized Data Set in PIC-SURE, please refer to the [`2_TOPMed_DCC_Harmonized_Variables_analysis.ipynb`](https://github.com/hms-dbmi/Access-to-Data-using-PIC-SURE-API/blob/master/NHLBI_BioData_Catalyst/python/2_TOPMed_DCC_Harmonized_Variables_analysis.ipynb) notebook*"
   ]
  },
  {
   "cell_type": "markdown",
   "id": "64d90d9c",
   "metadata": {},
   "source": [
    "-----"
   ]
  },
  {
   "cell_type": "markdown",
   "id": "4a643c90",
   "metadata": {},
   "source": [
    "## Sex and gender variables across studies\n",
    "<font color='darkgreen'>**Goal: Create harmonized variables for sex and BMI which combine data from multiple studies**</font> "
   ]
  },
  {
   "cell_type": "markdown",
   "id": "ebdf5cb3",
   "metadata": {},
   "source": [
    "These variables are labelled differently for each of these studies. For example, some use the keyword `sex` while others use `gender`. To acccount for these differences, we need to develop a way to search for multiple keywords at once.\n",
    "\n",
    "Let's start by searching for `sex` and `gender` to gain a better understanding of the variables that exist in PIC-SURE with these terms. The dictionary().find method can take in regular expressions. Here, we take advantage of this by searching for both sex and gender in the same regular expression.\n"
   ]
  },
  {
   "cell_type": "code",
   "execution_count": null,
   "id": "22e6c3a0",
   "metadata": {},
   "outputs": [],
   "source": [
    "sex_dictionary = bdc.useDictionary().dictionary().find('sex|gender')\n",
    "sex_dataframe = sex_dictionary.dataframe()\n",
    "print(sex_dataframe.shape)\n",
    "sex_dataframe.head()\n"
   ]
  },
  {
   "cell_type": "markdown",
   "id": "b22bd73b",
   "metadata": {},
   "source": [
    "After reviewing the variables using the dataframe (or the [user interface](https://picsure.biodatacatalyst.nhlbi.nih.gov/psamaui/login)), let's say we are interested in sex/gender variables from the following studies:\n",
    "- ECLIPSE (Evaluation of COPD Longitudinally to Identify Predictive Surrogate Endpoints) (phs001252)\n",
    "- EOCOPD (Early Onset of COPD) (phs000946)\n",
    "\n",
    "We can find the study IDs in the Data Access Dashboard in the user interface."
   ]
  },
  {
   "cell_type": "markdown",
   "id": "7410b1a3",
   "metadata": {},
   "source": [
    "We have already used the PIC-SURE API dictionary object and find method to find variables which contain the keywords sex and gender. Let's filter these results to our desired studies of interest."
   ]
  },
  {
   "cell_type": "markdown",
   "id": "68587b42",
   "metadata": {},
   "source": [
    "### Which sex variable in ECLIPSE should we use? \n",
    "We can see that there are many sex/gender variables in ECLIPSE originating from various data tables.\n",
    "\n",
    "We will examine the data associated with these variables to determine which one to use for our analysis."
   ]
  },
  {
   "cell_type": "code",
   "execution_count": null,
   "id": "b8be8be3",
   "metadata": {},
   "outputs": [],
   "source": [
    "# which sex/gender variables are part of ECLIPSE?\n",
    "eclipse_vars = sex_dataframe['studyId'].str.contains('phs001252')\n",
    "\n",
    "# create a subset of only ECLIPSE sex/gender vars\n",
    "eclipse_sex_df = sex_dataframe[eclipse_vars][['studyId', 'dataTableName', 'name', 'description', 'values', 'HPDS_PATH']]\n",
    "eclipse_sex_df\n"
   ]
  },
  {
   "cell_type": "markdown",
   "id": "6160efef",
   "metadata": {},
   "source": [
    "<font color='red'>**ADD MARKDOWN TEXT EXPLANATIONS**\n",
    "- why choose anyof?</font> "
   ]
  },
  {
   "cell_type": "code",
   "execution_count": null,
   "id": "39f7fa14",
   "metadata": {},
   "outputs": [],
   "source": [
    "# Initialize a query\n",
    "authPicSure = bdc.useAuthPicSure()\n",
    "eclipse_sex_query = authPicSure.query()\n",
    "eclipse_sex_query.anyof().add(eclipse_sex_df['HPDS_PATH'])\n",
    "eclipse_sex_results = eclipse_sex_query.getResultsDataFrame()\n",
    "eclipse_sex_results.head()"
   ]
  },
  {
   "cell_type": "code",
   "execution_count": null,
   "id": "ca1d6c83",
   "metadata": {},
   "outputs": [],
   "source": [
    "# first let's see which sex/gender variables are the most complete for our dataset by counting the number of NA values\n",
    "print(eclipse_sex_results.isna().sum())\n",
    "\n",
    "# let's focus on those variables which do not have any NA values\n",
    "filtered_eclipse_sex_results = eclipse_sex_results.loc[:, eclipse_sex_results.isna().sum() == 0]\n",
    "filtered_eclipse_sex_results"
   ]
  },
  {
   "cell_type": "code",
   "execution_count": null,
   "id": "4af9c736",
   "metadata": {},
   "outputs": [],
   "source": [
    "# in this example, we notice that all our filtered variables have equivalent data for each patient:\n",
    "filtered_eclipse_sex_results.iloc[:,4:].nunique(axis = 1).unique()"
   ]
  },
  {
   "cell_type": "code",
   "execution_count": null,
   "id": "cabcd87f",
   "metadata": {},
   "outputs": [],
   "source": [
    "# so we select the first variable to use in our analysis.\n",
    "\n",
    "# we can learn more about a variables by using the varInfo method\n",
    "eclipse_sex_var = filtered_eclipse_sex_results.columns[5]\n",
    "sex_dictionary.varInfo(eclipse_sex_var)"
   ]
  },
  {
   "cell_type": "markdown",
   "id": "81952726",
   "metadata": {},
   "source": [
    "### Which sex variable in EOCOPD should we use? \n",
    "Unlike the ECLIPSE data, we see that there is only one sex variable in EOCOPD. It is called 'GENDER'.\n",
    "\n",
    "We will save the HPDS_PATH associated to this variable so we can add it to our query later."
   ]
  },
  {
   "cell_type": "code",
   "execution_count": null,
   "id": "ec976710",
   "metadata": {},
   "outputs": [],
   "source": [
    "# which sex/gender variables are part of EOCOPD?\n",
    "eocopd_vars = sex_dataframe['studyId'].str.contains('phs000946')"
   ]
  },
  {
   "cell_type": "code",
   "execution_count": null,
   "id": "5ceb44ce",
   "metadata": {},
   "outputs": [],
   "source": [
    "# create a subset of only EOCOPD sex/gender vars\n",
    "eocopd_sex_df = sex_dataframe[eocopd_vars][['studyId', 'dataTableName', 'name', 'description', 'values', 'HPDS_PATH']]\n",
    "eocopd_sex_df"
   ]
  },
  {
   "cell_type": "code",
   "execution_count": null,
   "id": "86760e52",
   "metadata": {},
   "outputs": [],
   "source": [
    "# save the HPDS path associated to our variable of interest\n",
    "eocopd_sex_var = eocopd_sex_df[['HPDS_PATH']].iloc[0,0]\n",
    "eocopd_sex_var"
   ]
  },
  {
   "cell_type": "markdown",
   "id": "12640e7e",
   "metadata": {},
   "source": [
    "### Which BMI variables should we use?\n",
    "\n",
    "We will follow the approach outlined above to first search our data dictionary for all variables containing the terms 'body mass index'. We then filter to only those BMI variables which are part of ECLIPSE or EOCOPD and view the variables with their associated metadata. "
   ]
  },
  {
   "cell_type": "code",
   "execution_count": null,
   "id": "fce1024d",
   "metadata": {},
   "outputs": [],
   "source": [
    "bmi_dictionary = bdc.useDictionary().dictionary().find('body mass index')\n",
    "bmi_dataframe = bmi_dictionary.dataframe()\n",
    "\n",
    "# which bmi variables are part of ECLIPSE or EOCOPD?\n",
    "bmi_vars = bmi_dataframe['studyId'].str.contains('phs001252|phs000946')\n",
    "\n",
    "# create a subset of only the ECLIPSE / EOCOPD BMI vars\n",
    "bmi_dataframe = bmi_dataframe[bmi_vars][['studyId', 'dataTableName', 'name', 'description', 'values', 'HPDS_PATH']]\n",
    "bmi_dataframe.head(10)\n"
   ]
  },
  {
   "cell_type": "markdown",
   "id": "24966b2f",
   "metadata": {},
   "source": [
    "By examining metadata like the dataTableName, description, and name, we are able to determine which variables we are interested in:\n",
    "- Body Mass Index [BMI ] for EOCOPD (\\phs000946\\pht005719\\phv00266123\\BMI\\)\n",
    "- Body mass index (kg/m2) from the bodycomp table for ECLIPSE (\\phs001252\\pht006373\\phv00293610\\VSBMI\\) "
   ]
  },
  {
   "cell_type": "code",
   "execution_count": null,
   "id": "f14f1cc2",
   "metadata": {},
   "outputs": [],
   "source": [
    "# save HPDS_PATHs of interest\n",
    "eocopd_bmi_var = \"\\phs000946\\pht005719\\phv00266123\\BMI\\\\\"\n",
    "eclipse_bmi_var = \"\\phs001252\\pht006373\\phv00293610\\VSBMI\\\\\"\n"
   ]
  },
  {
   "cell_type": "markdown",
   "id": "ddf64d18",
   "metadata": {},
   "source": [
    "# add more text about creating hte query, why anyof?"
   ]
  },
  {
   "cell_type": "code",
   "execution_count": null,
   "id": "83704bf7",
   "metadata": {},
   "outputs": [],
   "source": [
    "combined_query = authPicSure.query()\n",
    "\n",
    "# Build query using selected concept paths\n",
    "combined_query.anyof().add([eclipse_sex_var, eclipse_bmi_var, eocopd_sex_var, eocopd_bmi_var])"
   ]
  },
  {
   "cell_type": "code",
   "execution_count": null,
   "id": "6346c668",
   "metadata": {},
   "outputs": [],
   "source": [
    "# Get query results\n",
    "combined_results = combined_query.getResultsDataFrame()\n",
    "combined_results.head()"
   ]
  },
  {
   "cell_type": "code",
   "execution_count": null,
   "id": "8fda7b32",
   "metadata": {},
   "outputs": [],
   "source": [
    "# rename columns\n",
    "combined_results.columns = ['patient_id', 'parent_accession', 'topmed_accession', 'consent', 'eocopd_sex', 'eocopd_bmi', 'eclipse_bmi', 'eclipse_sex']\n",
    "combined_results.head()\n"
   ]
  },
  {
   "cell_type": "code",
   "execution_count": null,
   "id": "a204e888",
   "metadata": {},
   "outputs": [],
   "source": [
    "# convert consent code to study name\n",
    "combined_results['study'] = np.where(combined_results['consent'].str.contains('phs001252'), 'eclipse', 'eocopd')\n",
    "combined_results.head()\n"
   ]
  },
  {
   "cell_type": "code",
   "execution_count": null,
   "id": "dbe44573",
   "metadata": {},
   "outputs": [],
   "source": [
    "# combine sex variables\n",
    "combined_results['sex'] = combined_results['eocopd_sex'].fillna(combined_results['eclipse_sex'])\n",
    "combined_results.head()\n"
   ]
  },
  {
   "cell_type": "code",
   "execution_count": null,
   "id": "913e26e2",
   "metadata": {},
   "outputs": [],
   "source": [
    "# combine bmi variables\n",
    "combined_results['bmi'] = combined_results['eocopd_bmi'].fillna(combined_results['eclipse_bmi'])\n",
    "combined_results.head()\n"
   ]
  },
  {
   "cell_type": "code",
   "execution_count": null,
   "id": "bc6601e1",
   "metadata": {},
   "outputs": [],
   "source": [
    "# remove unneccessary columns and summarize\n",
    "plotdf = combined_results[[ 'sex', 'study', 'bmi']]\n",
    "plotdf = plotdf.groupby(['sex', 'study']).mean().unstack()\n",
    "plotdf"
   ]
  },
  {
   "cell_type": "markdown",
   "id": "feda1dc4",
   "metadata": {},
   "source": [
    "# x axis is sex, add in average bar?, make plot prettier"
   ]
  },
  {
   "cell_type": "code",
   "execution_count": null,
   "id": "0ff6d3ef",
   "metadata": {},
   "outputs": [],
   "source": [
    "plotdf.plot(kind = 'bar')\n"
   ]
  },
  {
   "cell_type": "markdown",
   "id": "21de992c",
   "metadata": {},
   "source": [
    "-----"
   ]
  },
  {
   "cell_type": "markdown",
   "id": "d6ab6c55",
   "metadata": {},
   "source": [
    "## Orthopnea variables across studies\n",
    "<font color='darkgreen'>**Goal: Create harmonized variables for orthopnea and pneumonia which combine data from multiple studies, and compare participant distributions across these phenotypes**</font> \n",
    "\n",
    "In this example, we will be harmonizing variables related to `orthopnea`. Orthopnea is shortness of breath that occurs when individuals lie flat. Because of this, people with orthopnea have to sleep propped up in bed or sitting in a chair. You can read more about this condition [here](https://www.sleepfoundation.org/sleep-apnea/orthopnea).\n",
    "\n",
    "Let's start by doing a search in PIC-SURE for concept paths containing `orthopnea`."
   ]
  },
  {
   "cell_type": "markdown",
   "id": "06fc3d43",
   "metadata": {},
   "source": [
    "### Search and find orthopnea variables"
   ]
  },
  {
   "cell_type": "code",
   "execution_count": null,
   "id": "b5b803df",
   "metadata": {},
   "outputs": [],
   "source": [
    "orthopnea_dictionary = bdc.useDictionary().dictionary().find(\"orthopnea\")\n",
    "orthopnea_dataframe = orthopnea_dictionary.dataframe()\n",
    "print(orthopnea_dataframe.shape)\n",
    "orthopnea_dataframe[['name', 'description', 'values', 'studyId']].head()"
   ]
  },
  {
   "cell_type": "markdown",
   "id": "b752e532",
   "metadata": {},
   "source": [
    "As shown in the resulting dataframe, orthopnea is often recorded as a something like `sleep on two or more pillows to help you breathe?`\n",
    "\n",
    "Let's do a search for `pillows` in PIC-SURE to explore those concept paths."
   ]
  },
  {
   "cell_type": "code",
   "execution_count": null,
   "id": "5d032837",
   "metadata": {},
   "outputs": [],
   "source": [
    "pillows_dictionary = bdc.useDictionary().dictionary().find(\"pillows\")\n",
    "pillows_dataframe = pillows_dictionary.dataframe()\n",
    "pillows_dataframe[['name', 'description', 'values', 'studyId']].head()"
   ]
  },
  {
   "cell_type": "markdown",
   "id": "336c1aa3",
   "metadata": {},
   "source": [
    "As shown in the resulting dataframe, there are some concept paths related to orthopnea that were not captured by the previous `orthopnea` search, such as `Do you sleep on 2 or more pillows to improve your breathing?` from the Jackson Heart Study (JHS) Cohort (phs000286). In fact, the JHS dataset was not returned at all when we searched for `orthopnea`. \n",
    "\n",
    "This is problematic for researchers studying these types of variables, since the concept paths of interest may not always be captured by a single search term. To account for this, researchers must conduct exploratory searches to determine potential search terms."
   ]
  },
  {
   "cell_type": "markdown",
   "id": "34c09496",
   "metadata": {},
   "source": [
    "Let's say we want to harmonize orthopnea variables from the following datasets: \n",
    "- FHS (phs000007)\n",
    "- MESA (phs000209)\n",
    "- WHI (phs000200)\n",
    "\n",
    "We can first get all concept paths related to our terms of interest (`orthopnea` or `pillows`) and then filter to our studies of interest.\n",
    "\n",
    "You can get the phs number associated with each study from the Data Access Dashboard."
   ]
  },
  {
   "cell_type": "code",
   "execution_count": null,
   "id": "0d660c70",
   "metadata": {},
   "outputs": [],
   "source": [
    "# search pic-sure for 'orthopnea' and 'pillows'\n",
    "harmonized_dictionary = bdc.useDictionary().dictionary().find(\"orthopnea|pillows\")\n",
    "harmonized_df = harmonized_dictionary.dataframe()\n",
    "\n",
    "# filter to variables found in FHS, MESA, WHI\n",
    "harmonized_df = harmonized_df[harmonized_df['studyId'].str.contains('phs000007|phs000209|phs000200')]\n",
    "print(harmonized_df.shape)\n",
    "harmonized_df[['name', 'description', 'values', 'studyId']]"
   ]
  },
  {
   "cell_type": "markdown",
   "id": "b1d9d82b",
   "metadata": {},
   "source": [
    "After browsing the available variables, we decided to choose the following:"
   ]
  },
  {
   "cell_type": "code",
   "execution_count": null,
   "id": "5049e462",
   "metadata": {},
   "outputs": [],
   "source": [
    "orthopnea_variables_of_interest = harmonized_df[harmonized_df['description'].isin(['Orthopnea', \n",
    "                                                                                   'F136 Orthopnea', \n",
    "                                                                                   'SLEEP ON 2+ PILLOWS TO HELP BREATHING'])]\n",
    "\n",
    "# save variable paths for querying data\n",
    "orthopnea_variable_paths_of_interest = orthopnea_variables_of_interest['HPDS_PATH'].tolist()\n",
    "\n",
    "orthopnea_variables_of_interest[['values', 'studyId', 'description', 'name']]\n"
   ]
  },
  {
   "cell_type": "markdown",
   "id": "6a1ea194",
   "metadata": {},
   "source": [
    "### Search and find pneumonia variables"
   ]
  },
  {
   "cell_type": "markdown",
   "id": "2ea65ad3",
   "metadata": {},
   "source": [
    "As part of our research, let's say we are interested in exploring the relationship between pneumonia and orthopnea. Let's save concept paths related to `pneumonia` as well. "
   ]
  },
  {
   "cell_type": "code",
   "execution_count": null,
   "id": "44364e66",
   "metadata": {},
   "outputs": [],
   "source": [
    "# search pic-sure for 'pneumonia'\n",
    "harmonized_dictionary = bdc.useDictionary().dictionary().find(\"pneumonia\")\n",
    "harmonized_df = harmonized_dictionary.dataframe()\n",
    "\n",
    "# filter to variables found in FHS, MESA, WHI\n",
    "harmonized_df = harmonized_df[harmonized_df['studyId'].str.contains('phs000007|phs000209|phs000200')]\n",
    "print(harmonized_df.shape)\n",
    "harmonized_df[['name', 'description', 'values', 'studyId']]"
   ]
  },
  {
   "cell_type": "markdown",
   "id": "3ac50d6d",
   "metadata": {},
   "source": [
    "After browsing the available variables, we decided to choose the following:"
   ]
  },
  {
   "cell_type": "code",
   "execution_count": null,
   "id": "a6226886",
   "metadata": {},
   "outputs": [],
   "source": [
    "pneumonia_variables_of_interest = harmonized_df[harmonized_df['varId'].isin(['phv00255144.v1', \n",
    "                                                                             'phv00083774.v2', \n",
    "                                                                             'phv00283208.v1'])]\n",
    "\n",
    "# save variable paths for querying data\n",
    "pneumonia_variable_paths_of_interest = pneumonia_variables_of_interest['HPDS_PATH'].tolist()\n",
    "\n",
    "pneumonia_variables_of_interest[['values', 'studyId', 'description', 'name', 'varId']]\n"
   ]
  },
  {
   "cell_type": "markdown",
   "id": "4b0dbccf",
   "metadata": {},
   "source": [
    "### Make query"
   ]
  },
  {
   "cell_type": "code",
   "execution_count": null,
   "id": "2fe41d41",
   "metadata": {},
   "outputs": [],
   "source": [
    "# Initialize a query\n",
    "authPicSure = bdc.useAuthPicSure()\n",
    "orthopnea_query = authPicSure.query()\n",
    "orthopnea_query.anyof().add(orthopnea_variable_paths_of_interest + pneumonia_variable_paths_of_interest)\n",
    "orthopnea_results = orthopnea_query.getResultsDataFrame()\n",
    "orthopnea_results.head()"
   ]
  },
  {
   "cell_type": "code",
   "execution_count": null,
   "id": "e92c509d",
   "metadata": {},
   "outputs": [],
   "source": [
    "# rename columns\n",
    "orthopnea_results.columns = ['patient_id', 'parent_accession', 'topmed_accession', 'consent', \n",
    "                             'fhs_pneumonia', 'fhs_orthopnea', 'whi_pneumonia', \n",
    "                             'whi_orthopnea', 'mesa_pneumonia', 'mesa_orthopnea']\n",
    "orthopnea_results.head()\n"
   ]
  },
  {
   "cell_type": "code",
   "execution_count": null,
   "id": "b4f2a7d3",
   "metadata": {},
   "outputs": [],
   "source": [
    "# convert consent code to study name\n",
    "orthopnea_results['study'] = np.where(orthopnea_results['consent'].str.contains('phs000007'), 'fhs', \n",
    "                                      np.where(orthopnea_results['consent'].str.contains('phs000209'), 'mesa', 'whi'))\n",
    "orthopnea_results.head()\n"
   ]
  },
  {
   "cell_type": "code",
   "execution_count": null,
   "id": "e79b32f8",
   "metadata": {},
   "outputs": [],
   "source": [
    "# combine orthopnea variables\n",
    "orthopnea_results['orthopnea'] = orthopnea_results['fhs_orthopnea'].fillna(orthopnea_results['whi_orthopnea'])\n",
    "orthopnea_results['orthopnea'] = orthopnea_results['orthopnea'].fillna(orthopnea_results['mesa_orthopnea'])\n",
    "orthopnea_results.head()\n",
    "\n"
   ]
  },
  {
   "cell_type": "code",
   "execution_count": null,
   "id": "d8a21948",
   "metadata": {},
   "outputs": [],
   "source": [
    "# combine pneumonia variables\n",
    "orthopnea_results['pneumonia'] = orthopnea_results['fhs_pneumonia'].fillna(orthopnea_results['whi_pneumonia'])\n",
    "orthopnea_results['pneumonia'] = orthopnea_results['pneumonia'].fillna(orthopnea_results['mesa_pneumonia'])\n",
    "orthopnea_results.head()"
   ]
  },
  {
   "cell_type": "markdown",
   "id": "42f3643f",
   "metadata": {},
   "source": [
    "As you may have noticed, the orthopnea and pneumonia variables are encoded differently between these studies. \n",
    "\n",
    "This means that we see a range of vales that need to be harmonized (printed below)\n",
    "\n",
    "We need to create a consistent encoding across these studies. "
   ]
  },
  {
   "cell_type": "code",
   "execution_count": null,
   "id": "ef771aa2",
   "metadata": {},
   "outputs": [],
   "source": [
    "print(orthopnea_results.orthopnea.value_counts())\n",
    "print('\\n')\n",
    "print(orthopnea_results.pneumonia.value_counts())"
   ]
  },
  {
   "cell_type": "markdown",
   "id": "f6266e82",
   "metadata": {},
   "source": [
    "We create a consistent mapping:"
   ]
  },
  {
   "cell_type": "code",
   "execution_count": null,
   "id": "9d897bea",
   "metadata": {},
   "outputs": [],
   "source": [
    "mapping_df = pd.DataFrame({'raw': np.unique(np.array(list(orthopnea_results['orthopnea']) + list(orthopnea_results['pneumonia']))),\n",
    "                           'harmonized': ['Unknown', 'Unknown', 'Unknown', 'No', 'No', 'No', 'Yes', 'Yes', 'Unknown']})\n",
    "\n",
    "value_mapping_dictionary = dict(zip(mapping_df.raw, mapping_df.harmonized))\n",
    "\n",
    "mapping_df\n",
    "        "
   ]
  },
  {
   "cell_type": "markdown",
   "id": "8ccc42b9",
   "metadata": {},
   "source": [
    "And apply it to our hamonized orthopnea and pneumonia columns"
   ]
  },
  {
   "cell_type": "code",
   "execution_count": null,
   "id": "d9f7ad24",
   "metadata": {},
   "outputs": [],
   "source": [
    "orthopnea_results.orthopnea = orthopnea_results.orthopnea.map(value_mapping_dictionary)\n",
    "orthopnea_results.pneumonia = orthopnea_results.pneumonia.map(value_mapping_dictionary)\n",
    "\n",
    "print(orthopnea_results.orthopnea.value_counts())\n",
    "print('\\n')\n",
    "print(orthopnea_results.pneumonia.value_counts())"
   ]
  },
  {
   "cell_type": "markdown",
   "id": "46e7a1f0",
   "metadata": {},
   "source": [
    "Now that the variables have been encoded in the same way, we can use this dataframe for analysis and visualizations. "
   ]
  },
  {
   "cell_type": "markdown",
   "id": "5b9b22b3",
   "metadata": {},
   "source": [
    "### Plot"
   ]
  },
  {
   "cell_type": "code",
   "execution_count": null,
   "id": "09fc9e89",
   "metadata": {},
   "outputs": [],
   "source": [
    "final_df = orthopnea_results"
   ]
  },
  {
   "cell_type": "code",
   "execution_count": null,
   "id": "354360c4",
   "metadata": {},
   "outputs": [],
   "source": [
    "# Filters to apply to the final_df to create figures\n",
    "pneu_yes = final_df['pneumonia'] == 'Yes'\n",
    "pneu_no = final_df['pneumonia'] == 'No'\n",
    "ortho_yes = final_df['orthopnea'] == 'Yes'\n",
    "ortho_no = final_df['orthopnea'] == 'No'\n",
    "fhs = final_df['study'] == 'fhs'\n",
    "mesa = final_df['study'] == 'mesa'\n",
    "whi = final_df['study'] == 'whi'"
   ]
  },
  {
   "cell_type": "code",
   "execution_count": null,
   "id": "aba22991",
   "metadata": {},
   "outputs": [],
   "source": [
    "# FHS figure\n",
    "pneu_count =  final_df[pneu_yes & ortho_no & fhs].count()['patient_id']\n",
    "ortho_count = final_df[pneu_no & ortho_yes & fhs].count()['patient_id']\n",
    "both_count =  final_df[pneu_yes & ortho_yes & fhs].count()['patient_id']\n",
    "venn2(subsets = (pneu_count, ortho_count, both_count), set_labels = ('Pneumonia', 'Orthopnea'))\n",
    "plt.title(\"FHS Dataset\")\n",
    "plt.show()\n",
    "\n",
    "# MESA figure\n",
    "pneu_count =  final_df[pneu_yes & ortho_no & mesa].count()['patient_id']\n",
    "ortho_count = final_df[pneu_no & ortho_yes & mesa].count()['patient_id']\n",
    "both_count =  final_df[pneu_yes & ortho_yes & mesa].count()['patient_id']\n",
    "venn2(subsets = (pneu_count, ortho_count, both_count), set_labels = ('Pneumonia', 'Orthopnea'))\n",
    "plt.title(\"MESA Dataset\")\n",
    "plt.show()\n",
    "\n",
    "# WHI figure\n",
    "pneu_count =  final_df[pneu_yes & ortho_no & whi].count()['patient_id']\n",
    "ortho_count = final_df[pneu_no & ortho_yes & whi].count()['patient_id']\n",
    "both_count =  final_df[pneu_yes & ortho_yes & whi].count()['patient_id']\n",
    "venn2(subsets = (pneu_count, ortho_count, both_count), set_labels = ('Pneumonia', 'Orthopnea'))\n",
    "plt.title(\"WHI Dataset\")\n",
    "plt.show()\n",
    "\n",
    "# Combined figure\n",
    "pneu_count =  final_df[pneu_yes & ortho_no].count()['patient_id']\n",
    "ortho_count = final_df[pneu_no & ortho_yes].count()['patient_id']\n",
    "both_count =  final_df[pneu_yes & ortho_yes].count()['patient_id']\n",
    "venn2(subsets = (pneu_count, ortho_count, both_count), set_labels = ('Pneumonia', 'Orthopnea'))\n",
    "plt.title(\"Combined results across FHS, MESA, and WHI\")\n",
    "plt.show()"
   ]
  },
  {
   "cell_type": "code",
   "execution_count": null,
   "id": "5bd506cc",
   "metadata": {},
   "outputs": [],
   "source": []
  }
 ],
 "metadata": {
  "kernelspec": {
   "display_name": "conda_python3",
   "language": "python",
   "name": "conda_python3"
  },
  "language_info": {
   "codemirror_mode": {
    "name": "ipython",
    "version": 3
   },
   "file_extension": ".py",
   "mimetype": "text/x-python",
   "name": "python",
   "nbconvert_exporter": "python",
   "pygments_lexer": "ipython3",
   "version": "3.6.13"
  }
 },
 "nbformat": 4,
 "nbformat_minor": 5
}
