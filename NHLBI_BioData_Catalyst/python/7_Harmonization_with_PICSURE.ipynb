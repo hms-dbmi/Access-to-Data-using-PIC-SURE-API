{
 "cells": [
  {
   "cell_type": "markdown",
   "id": "56a90c48",
   "metadata": {},
   "source": [
    "# Harmonization across studies with PIC-SURE"
   ]
  },
  {
   "cell_type": "markdown",
   "id": "7e835e0d",
   "metadata": {},
   "source": [
    "This tutorial notebook will demonstrate how to query and work with the BioData Catalyst studies, particularly cross-study harmonization. For a more step-by-step introduction to the python PIC-SURE API, see the `1_PICSURE_API_101.ipynb` notebook."
   ]
  },
  {
   "cell_type": "markdown",
   "id": "97923da8",
   "metadata": {},
   "source": [
    "**Before running this notebook, please be sure to review the \\\"Get your security token\\\" documentation, which exists in the NHLBI_BioData_Catalyst [README.md file](https://github.com/hms-dbmi/Access-to-Data-using-PIC-SURE-API/tree/master/NHLBI_BioData_Catalyst#get-your-security-token). It explains about how to get a security token, which is mandatory to access the databases.**"
   ]
  },
  {
   "cell_type": "markdown",
   "id": "dfbbefb9",
   "metadata": {},
   "source": [
    " -------   "
   ]
  },
  {
   "cell_type": "markdown",
   "id": "779b57d7",
   "metadata": {},
   "source": [
    "# Environment set-up"
   ]
  },
  {
   "cell_type": "markdown",
   "id": "7144daf7",
   "metadata": {},
   "source": [
    "### System requirements\n",
    "- Python 3.6 or later\n",
    "- pip package manager\n",
    "- bash interpreter"
   ]
  },
  {
   "cell_type": "markdown",
   "id": "58e6253f",
   "metadata": {},
   "source": [
    "### Installation of external dependencies"
   ]
  },
  {
   "cell_type": "code",
   "execution_count": null,
   "id": "8864f88c",
   "metadata": {
    "scrolled": true
   },
   "outputs": [],
   "source": [
    "import sys\n",
    "!{sys.executable} -m pip install -r requirements.txt"
   ]
  },
  {
   "cell_type": "code",
   "execution_count": null,
   "id": "37d8410d",
   "metadata": {
    "scrolled": true
   },
   "outputs": [],
   "source": [
    "!{sys.executable} -m pip install matplotlib_venn\n",
    "!{sys.executable} -m pip install --upgrade --force-reinstall git+https://github.com/hms-dbmi/pic-sure-python-adapter-hpds.git\n",
    "!{sys.executable} -m pip install --upgrade --force-reinstall git+https://github.com/hms-dbmi/pic-sure-python-client.git\n",
    "!{sys.executable} -m pip install --upgrade --force-reinstall git+https://github.com/hms-dbmi/pic-sure-biodatacatalyst-python-adapter-hpds.git"
   ]
  },
  {
   "cell_type": "code",
   "execution_count": null,
   "id": "2e3c93e6",
   "metadata": {},
   "outputs": [],
   "source": [
    "import json\n",
    "\n",
    "import pandas as pd\n",
    "import numpy as np \n",
    "import matplotlib.pyplot as plt\n",
    "\n",
    "import PicSureClient\n",
    "import PicSureBdcAdapter\n",
    "\n",
    "from python_lib.utils import get_multiIndex_variablesDict, joining_variablesDict_onCol\n",
    "\n",
    "import re"
   ]
  },
  {
   "cell_type": "code",
   "execution_count": null,
   "id": "f5d0989b",
   "metadata": {},
   "outputs": [],
   "source": [
    "print(\"NB: This Jupyter Notebook has been written using PIC-SURE API following versions:\\n- PicSureBdcAdapter: 1.0.0\\n- PicSureClient: 1.1.0\")\n",
    "print(\"The installed PIC-SURE API libraries versions:\\n- PicSureBdcAdapter: {0}\\n- PicSureClient: {1}\".format(PicSureBdcAdapter.__version__, PicSureClient.__version__))"
   ]
  },
  {
   "cell_type": "markdown",
   "id": "234ec031",
   "metadata": {},
   "source": [
    "## Connecting to a PIC-SURE network"
   ]
  },
  {
   "cell_type": "code",
   "execution_count": null,
   "id": "9652e38e",
   "metadata": {},
   "outputs": [],
   "source": [
    "PICSURE_network_URL = \"https://picsure.biodatacatalyst.nhlbi.nih.gov/picsure\"\n",
    "resource_id = \"02e23f52-f354-4e8b-992c-d37c8b9ba140\"\n",
    "token_file = \"token.txt\""
   ]
  },
  {
   "cell_type": "code",
   "execution_count": null,
   "id": "ed915b93",
   "metadata": {},
   "outputs": [],
   "source": [
    "with open(token_file, \"r\") as f:\n",
    "    my_token = f.read()"
   ]
  },
  {
   "cell_type": "code",
   "execution_count": null,
   "id": "9d2bb02c",
   "metadata": {},
   "outputs": [],
   "source": [
    "client = PicSureClient.Client()\n",
    "connection = client.connect(PICSURE_network_URL, my_token)\n",
    "adapter = PicSureBdcAdapter.Adapter(connection)\n",
    "resource = adapter.useResource(resource_id)"
   ]
  },
  {
   "cell_type": "markdown",
   "id": "28529884",
   "metadata": {},
   "source": [
    " -------   "
   ]
  },
  {
   "cell_type": "markdown",
   "id": "5da610db",
   "metadata": {},
   "source": [
    "## Harmonizing variables with PIC-SURE\n",
    "One of the key challenges to conducting analyses with several studies is ensuring correct data harmonization, or combining of data from different sources. There are many harmonization techniques, but this notebook will demonstrate how to find and extract similar variables from different studies in PIC-SURE. Two examples of this will be shown:\n",
    "1. Retrieving variables for *sex and gender* across studies with BMI\n",
    "2. Harmonizing the variable *\"orthopnea\"* across studies with age\n",
    "\n",
    "\n",
    "*For more information about the TOPMed DCC Harmonized Data Set in PIC-SURE, please refer to the [`2_TOPMed_DCC_Harmonized_Variables_analysis.ipynb`](https://github.com/hms-dbmi/Access-to-Data-using-PIC-SURE-API/blob/master/NHLBI_BioData_Catalyst/python/2_TOPMed_DCC_Harmonized_Variables_analysis.ipynb) notebook*"
   ]
  },
  {
   "cell_type": "markdown",
   "id": "68ff71b9",
   "metadata": {},
   "source": [
    "-----"
   ]
  },
  {
   "cell_type": "markdown",
   "id": "a872dd6e",
   "metadata": {},
   "source": [
    "### Sex and gender variables across studies"
   ]
  },
  {
   "cell_type": "markdown",
   "id": "6a68e58a",
   "metadata": {},
   "source": [
    "Let's start by doing separate searches for `sex` and `gender` to gain a better understanding of the variables that exist in PIC-SURE with these terms."
   ]
  },
  {
   "cell_type": "code",
   "execution_count": null,
   "id": "0fbe182c",
   "metadata": {},
   "outputs": [],
   "source": [
    "# Get dataframe of full results\n",
    "full_dict = resource.dictionary().find().DataFrame()\n",
    "full_multiindex_dict = get_multiIndex_variablesDict(full_dict)"
   ]
  },
  {
   "cell_type": "code",
   "execution_count": null,
   "id": "93d51994",
   "metadata": {},
   "outputs": [],
   "source": [
    "sex = full_multiindex_dict['simplified_name'].str.contains('sex') # Find all instances where 'sex' in simplified_name\n",
    "gender = full_multiindex_dict['simplified_name'].str.contains('gender') # Find all instances where 'gender' in simplified_name"
   ]
  },
  {
   "cell_type": "code",
   "execution_count": null,
   "id": "d7b60d05",
   "metadata": {},
   "outputs": [],
   "source": [
    "# Uncomment the following lines of code to preview the filtered dataframes\n",
    "#full_multiindex_dict[sex] # Sex variables\n",
    "#full_multiindex_dict[gender] # Gender variables"
   ]
  },
  {
   "cell_type": "markdown",
   "id": "71314390",
   "metadata": {},
   "source": [
    "After reviewing the variables using the dataframe (or the [user interface](https://picsure.biodatacatalyst.nhlbi.nih.gov/psamaui/login)), let's say we are interested in sex/gender variables from the following studies:\n",
    "- TOPMed Harmonized data set\n",
    "- ECLIPSE (Evaluation of COPD Longitudinally to Identify Predictive Surrogate Endpoints)\n",
    "- EOCOPD (Early Onset of COPD)\n",
    "\n",
    "However, these concept paths are labelled differently for each of these studies. For example, some use the keyword `sex` while others use `gender`. To acccount for these differences, we need to develop a way to search for multiple keywords at once."
   ]
  },
  {
   "cell_type": "markdown",
   "id": "942ae6bb",
   "metadata": {},
   "source": [
    "First, let's get all of the concept paths associated with each study."
   ]
  },
  {
   "cell_type": "code",
   "execution_count": null,
   "id": "a24062d6",
   "metadata": {},
   "outputs": [],
   "source": [
    "topmed_harmonized = resource.dictionary().find(\"DCC Harmonized data set\").DataFrame()\n",
    "eclipse = resource.dictionary().find(\"Evaluation of COPD Longitudinally to Identify Predictive Surrogate Endpoints (ECLIPSE)\").DataFrame()\n",
    "eocopd = resource.dictionary().find(\"NHLBI TOPMed: Boston Early-Onset COPD Study\").DataFrame()"
   ]
  },
  {
   "cell_type": "markdown",
   "id": "786d0283",
   "metadata": {},
   "source": [
    "Now we will search for the terms of interest (`sex` and `gender`) and filter out these concept paths.\n",
    "\n",
    "Below is a simple user-defined function that you could use to accomplish this."
   ]
  },
  {
   "cell_type": "code",
   "execution_count": null,
   "id": "751486fd",
   "metadata": {},
   "outputs": [],
   "source": [
    "# Function that filters out variables from a dataframe (df) that contain any of the terms (list_of_terms)\n",
    "def find_vars(df, list_of_terms):\n",
    "    regex_version = '('+('|').join(list_of_terms)+')'\n",
    "    var_filter = df.index.str.contains(regex_version, flags=re.IGNORECASE)\n",
    "    vars_list = list(df[var_filter].index)\n",
    "    return vars_list"
   ]
  },
  {
   "cell_type": "code",
   "execution_count": null,
   "id": "ca748739",
   "metadata": {},
   "outputs": [],
   "source": [
    "# Search for 'sex' and 'gender' variables in TOPMed Harmonized dataset\n",
    "topmed_var = find_vars(topmed_harmonized, ['sex', 'gender'])\n",
    "print(\"Concept path from TOPMed Harmonized data set:\\n\", topmed_var)"
   ]
  },
  {
   "cell_type": "code",
   "execution_count": null,
   "id": "387bfa02",
   "metadata": {},
   "outputs": [],
   "source": [
    "# Search for 'sex' and 'gender' variables in ECLIPSE dataset\n",
    "eclipse_var = find_vars(eclipse, ['sex', 'gender'])\n",
    "print(\"Concept path from ECLIPSE data set:\\n\", eclipse_var)"
   ]
  },
  {
   "cell_type": "code",
   "execution_count": null,
   "id": "500dc07c",
   "metadata": {},
   "outputs": [],
   "source": [
    "# Search for 'sex' and 'gender' variables in EOCOPD dataset\n",
    "eocopd_vars = find_vars(eocopd, ['sex', 'gender'])\n",
    "print(\"Number of concept paths from EOCOPD data set:\\n\", len(eocopd_vars))"
   ]
  },
  {
   "cell_type": "markdown",
   "id": "8b1535b3",
   "metadata": {},
   "source": [
    "Since there are multiple concept paths that are contain either `gender` or `sex` in the EOCOPD dataset, we can investigate these concept paths to determine the true variable of interest."
   ]
  },
  {
   "cell_type": "code",
   "execution_count": null,
   "id": "5ba02957",
   "metadata": {
    "scrolled": true
   },
   "outputs": [],
   "source": [
    "# Uncomment following line to see full list of sex/gender variables in EOCOPD\n",
    "#print(\"Full list of variables\", eocopd_vars)\n",
    "\n",
    "# Based on this, we can see that the variable we want for this analysis is the last in the list: Gender of participant\n",
    "eocopd_var = find_vars(eocopd, ['gender of participant'])\n",
    "print(\"Concept path from EOCOPD data set:\\n\", eocopd_var)"
   ]
  },
  {
   "cell_type": "markdown",
   "id": "04beeb09",
   "metadata": {},
   "source": [
    "As part of our research, let's also say we are interested in body mass index (BMI) measurements across these studies. Let's save these concept paths to use in our queries as well."
   ]
  },
  {
   "cell_type": "code",
   "execution_count": null,
   "id": "193bbbbc",
   "metadata": {},
   "outputs": [],
   "source": [
    "topmed_bmi = find_vars(topmed_harmonized, ['body mass index'])\n",
    "print(topmed_bmi)\n",
    "eclipse_bmi = find_vars(eclipse, ['body mass index'])\n",
    "print(eclipse_bmi)\n",
    "eocopd_bmi = find_vars(eocopd, ['body mass index'])\n",
    "print(eocopd_bmi)"
   ]
  },
  {
   "cell_type": "markdown",
   "id": "387d581f",
   "metadata": {},
   "source": [
    "Now that we know and have saved our concept paths of interest, we can use these to build our query. \n",
    "\n",
    "**Note: queries with the TOPMed DCC Harmonized data set cannot be combined with concept paths from other datasets. Because of this, we will run separate queries and combine the dataframes.**"
   ]
  },
  {
   "cell_type": "code",
   "execution_count": null,
   "id": "b5c2827c",
   "metadata": {},
   "outputs": [],
   "source": [
    "# Initialize a query\n",
    "eclipse_query = resource.query()\n",
    "# Build query using these concept paths\n",
    "eclipse_query.anyof().add(eclipse_var)\n",
    "eclipse_query.anyof().add(eclipse_bmi)"
   ]
  },
  {
   "cell_type": "code",
   "execution_count": null,
   "id": "80c3eaa7",
   "metadata": {},
   "outputs": [],
   "source": [
    "# Check results\n",
    "eclipse_results = eclipse_query.getResultsDataFrame(low_memory=False)\n",
    "eclipse_results.head()"
   ]
  },
  {
   "cell_type": "code",
   "execution_count": null,
   "id": "ff022dda",
   "metadata": {},
   "outputs": [],
   "source": [
    "# Initialize a query\n",
    "eocopd_query = resource.query()\n",
    "# Build query using these concept paths\n",
    "eocopd_query.anyof().add(eocopd_var)\n",
    "eocopd_query.anyof().add(eocopd_bmi)"
   ]
  },
  {
   "cell_type": "code",
   "execution_count": null,
   "id": "e0dd63bd",
   "metadata": {},
   "outputs": [],
   "source": [
    "# Check results \n",
    "eocopd_results = eocopd_query.getResultsDataFrame(low_memory=False)\n",
    "eocopd_results.head()"
   ]
  },
  {
   "cell_type": "code",
   "execution_count": null,
   "id": "d58b9a42",
   "metadata": {},
   "outputs": [],
   "source": [
    "# Initialize a query\n",
    "dcc_harmonized_query = resource.query()\n",
    "# Build query using TOPMed harmonized concept paths\n",
    "dcc_harmonized_query.anyof().add(topmed_var)\n",
    "dcc_harmonized_query.anyof().add(topmed_bmi)"
   ]
  },
  {
   "cell_type": "code",
   "execution_count": null,
   "id": "f1b9cab8",
   "metadata": {},
   "outputs": [],
   "source": [
    "# Check results\n",
    "dcc_harmonized_results = dcc_harmonized_query.getResultsDataFrame(low_memory=False)\n",
    "dcc_harmonized_results.head()"
   ]
  },
  {
   "cell_type": "markdown",
   "id": "67bb01eb",
   "metadata": {},
   "source": [
    "Now that we have our patient-level dataframes, we can combine them into a single, cohesive dataframe.\n",
    "\n",
    "The following function accomplishes three main tasks:\n",
    "1. Removes extra columns, such as consent information\n",
    "2. Renames the BMI and Sex columns\n",
    "3. Adds the Dataset column, which corresponds to the study"
   ]
  },
  {
   "cell_type": "code",
   "execution_count": null,
   "id": "531f2a2b",
   "metadata": {},
   "outputs": [],
   "source": [
    "def clean_up_df(df, study):\n",
    "    columns_to_drop = ['\\\\_Parent Study Accession with Subject ID\\\\', '\\\\_Topmed Study Accession with Subject ID\\\\', '\\\\_consents\\\\', '\\\\_harmonized_consent\\\\']\n",
    "    df1 = df.drop(columns=columns_to_drop, errors='ignore')\n",
    "    if 'body mass index' in df1.columns.values[1].lower():\n",
    "        df1.columns = ['Patient ID', 'BMI', 'Sex']\n",
    "    else:\n",
    "        df1.columns = ['Patient ID', 'Sex', 'BMI']\n",
    "    df2 = df1.dropna(subset=['BMI'])\n",
    "    df2['Dataset'] = study\n",
    "    return df2"
   ]
  },
  {
   "cell_type": "code",
   "execution_count": null,
   "id": "83709b4a",
   "metadata": {},
   "outputs": [],
   "source": [
    "clean_eclipse = clean_up_df(eclipse_results, 'ECLIPSE')\n",
    "clean_eocopd = clean_up_df(eocopd_results, 'EOCOPD')\n",
    "clean_dcc = clean_up_df(dcc_harmonized_results, 'TOPMed Harmonized')"
   ]
  },
  {
   "cell_type": "markdown",
   "id": "bb571767",
   "metadata": {},
   "source": [
    "The datasets have been prepped. We can now merge them and begin our analysis."
   ]
  },
  {
   "cell_type": "code",
   "execution_count": null,
   "id": "fba41ced",
   "metadata": {},
   "outputs": [],
   "source": [
    "# Combine individual dataframes\n",
    "final_df = pd.concat([clean for clean in [clean_eclipse, clean_eocopd, clean_dcc]], ignore_index=True)"
   ]
  },
  {
   "cell_type": "code",
   "execution_count": null,
   "id": "3e9c826f",
   "metadata": {},
   "outputs": [],
   "source": [
    "# Comparison of the datasets and sample harmonization\n",
    "separate = final_df.drop(columns = ['Patient ID']).groupby(['Dataset','Sex']).mean()\n",
    "print(separate)\n",
    "harmonized = final_df.drop(columns = ['Patient ID']).groupby(['Sex']).mean()\n",
    "print(harmonized)"
   ]
  },
  {
   "cell_type": "code",
   "execution_count": null,
   "id": "8da901d7",
   "metadata": {},
   "outputs": [],
   "source": [
    "# Make lists of male and female mean BMI for plotting\n",
    "male_means = list(separate[separate.index.get_level_values('Sex')=='Male']['BMI'])\n",
    "male_means.append(*list(harmonized[harmonized.index.get_level_values('Sex')=='Male']['BMI']))\n",
    "female_means = list(separate[separate.index.get_level_values('Sex')=='Female']['BMI'])\n",
    "female_means.append(*list(harmonized[harmonized.index.get_level_values('Sex')=='Female']['BMI']))"
   ]
  },
  {
   "cell_type": "code",
   "execution_count": null,
   "id": "deec7a88",
   "metadata": {},
   "outputs": [],
   "source": [
    "# Bar plot of the results\n",
    "width = 0.2\n",
    "labels = ['Male', 'Female']\n",
    "x = np.arange(len(labels))\n",
    "\n",
    "fig, ax = plt.subplots()\n",
    "study1 = ax.bar(x - width*1.5, [male_means[0], female_means[0]], width, label='ECLIPSE')\n",
    "study2 = ax.bar(x - width*0.5, [male_means[1], female_means[1]], width, label='EOCOPD')\n",
    "study3 = ax.bar(x + width*0.5, [male_means[2], female_means[2]], width, label='TOPMed Harmonized')\n",
    "study4 = ax.bar(x + width*1.5, [male_means[3], female_means[3]], width, label='Combined')\n",
    "\n",
    "ax.set_ylabel('Body Mass Index (BMI)')\n",
    "ax.set_title('Average Body Mass Index by Sex and Dataset')\n",
    "ax.set_xticks(x)\n",
    "ax.set_xticklabels(labels)\n",
    "ax.legend()\n",
    "plt.legend(bbox_to_anchor=(1.05, 1.0), loc='upper left')\n",
    "fig.tight_layout()\n",
    "\n",
    "plt.show()"
   ]
  },
  {
   "cell_type": "markdown",
   "id": "ce79eddb",
   "metadata": {},
   "source": [
    "-----"
   ]
  },
  {
   "cell_type": "markdown",
   "id": "55b847a4",
   "metadata": {},
   "source": [
    "### Orthopnea variables across studies\n",
    "In this example, we will be harmonizing variables related to `orthopnea`. Orthopnea is shortness of breath that occurs when individuals lie flat. Because of this, people with orthopnea have to sleep propped up in bed or sitting in a chair. You can read more about this condition [here](https://www.sleepfoundation.org/sleep-apnea/orthopnea).\n",
    "\n",
    "Let's start by doing a search in PIC-SURE for concept paths containing `orthopnea`."
   ]
  },
  {
   "cell_type": "code",
   "execution_count": null,
   "id": "add81ead",
   "metadata": {},
   "outputs": [],
   "source": [
    "ortho_dict = resource.dictionary().find(\"orthopnea\").DataFrame()\n",
    "ortho_dict.head()"
   ]
  },
  {
   "cell_type": "markdown",
   "id": "5073c73c",
   "metadata": {},
   "source": [
    "As shown in the resulting dataframe, orthopnea is often recorded as a something like `sleep on two or more pillows to help you breathe?`\n",
    "\n",
    "Let's do a search for `pillows` in PIC-SURE to explore those concept paths."
   ]
  },
  {
   "cell_type": "code",
   "execution_count": null,
   "id": "0fa1e319",
   "metadata": {},
   "outputs": [],
   "source": [
    "pillow_dict = resource.dictionary().find(\"pillows\").DataFrame()\n",
    "pillow_dict.tail()"
   ]
  },
  {
   "cell_type": "markdown",
   "id": "97fe54f0",
   "metadata": {},
   "source": [
    "As shown in the resulting dataframe, there are some concept paths related to orthopnea that were not captured by the previous `orthopnea` search, such as `Do you sleep on 2 or more pillows to improve your breathing?` from the Jackson Heart Study (JHS) Cohort (phs000286). In fact, the JHS dataset was not returned at all when we searched for `orthopnea`. \n",
    "\n",
    "This is problematic for researchers studying these types of variables, since the concept paths of interest may not always be captured by a single search term. To account for this, researchers must conduct exploratory searches to determine potential search terms."
   ]
  },
  {
   "cell_type": "markdown",
   "id": "cad463b6",
   "metadata": {},
   "source": [
    "Let's say we want to harmonize orthopnea variables from the following datasets: FHS, MESA, and WHI. We can first get all concept paths in each study and then search for our terms of interest (`orthopnea` or `pillows`) to retrieve the concept paths of interest."
   ]
  },
  {
   "cell_type": "code",
   "execution_count": null,
   "id": "cd743638",
   "metadata": {},
   "outputs": [],
   "source": [
    "# Function that filters out variables from a dataframe (df) that contain any of the terms (list_of_terms)\n",
    "def find_concept_paths(study_name, list_of_terms):\n",
    "    df = resource.dictionary().find(study_name).DataFrame()\n",
    "    regex_version = '('+('|').join(list_of_terms)+')'\n",
    "    var_filter = df.index.str.contains(regex_version, flags=re.IGNORECASE)\n",
    "    vars_list = list(df[var_filter].index)\n",
    "    return vars_list"
   ]
  },
  {
   "cell_type": "code",
   "execution_count": null,
   "id": "95efd7c1",
   "metadata": {},
   "outputs": [],
   "source": [
    "ortho_terms = ['orthopnea', 'pillows']"
   ]
  },
  {
   "cell_type": "code",
   "execution_count": null,
   "id": "9e487a48",
   "metadata": {},
   "outputs": [],
   "source": [
    "mesa = find_concept_paths('Multi-Ethnic Study of Atherosclerosis (MESA) SHARe ( phs000209 )', ortho_terms)\n",
    "# mesa # Uncomment to view full results list\n",
    "mesa_var = mesa[0]\n",
    "mesa_var"
   ]
  },
  {
   "cell_type": "code",
   "execution_count": null,
   "id": "e9652a81",
   "metadata": {},
   "outputs": [],
   "source": [
    "whi = find_concept_paths(\"Women's Health Initiative Clinical Trial and Observational Study ( phs000200 )\", ortho_terms)\n",
    "# whi # Uncomment to view full results list\n",
    "whi_var = whi[0]\n",
    "whi_var"
   ]
  },
  {
   "cell_type": "code",
   "execution_count": null,
   "id": "c24d9eef",
   "metadata": {},
   "outputs": [],
   "source": [
    "fhs = find_concept_paths(\"Framingham Cohort ( phs000007 )\", ortho_terms)\n",
    "fhs # Uncomment to view full results list\n",
    "fhs_var = fhs[37]\n",
    "fhs_var"
   ]
  },
  {
   "cell_type": "markdown",
   "id": "45a90acb",
   "metadata": {},
   "source": [
    "As part of our research, let's say we are interested in exploring the relationship between pneumonia and orthopnea. Let's save concept paths related to `pneumonia` as well. "
   ]
  },
  {
   "cell_type": "code",
   "execution_count": null,
   "id": "98d95188",
   "metadata": {},
   "outputs": [],
   "source": [
    "mesa_pneu = find_concept_paths('Multi-Ethnic Study of Atherosclerosis (MESA) SHARe ( phs000209 )', ['pneumonia'])\n",
    "#mesa_pneu # Uncomment to view full results list\n",
    "mesa_pneu_var = mesa_pneu[4]\n",
    "mesa_pneu_var"
   ]
  },
  {
   "cell_type": "code",
   "execution_count": null,
   "id": "01adf717",
   "metadata": {},
   "outputs": [],
   "source": [
    "whi_pneu = find_concept_paths(\"Women's Health Initiative Clinical Trial and Observational Study ( phs000200 )\", ['pneumonia'])\n",
    "# whi_pneu # Uncomment to view full results list\n",
    "whi_pneu_var = whi_pneu[0]\n",
    "whi_pneu_var"
   ]
  },
  {
   "cell_type": "code",
   "execution_count": null,
   "id": "a257435b",
   "metadata": {},
   "outputs": [],
   "source": [
    "fhs_pneu = find_concept_paths(\"Framingham Cohort ( phs000007 )\", ['pneumonia'])\n",
    "# fhs_pneu # Uncomment to view full results\n",
    "fhs_pneu_var = fhs_pneu[26]\n",
    "fhs_pneu_var"
   ]
  },
  {
   "cell_type": "markdown",
   "id": "b4897c57",
   "metadata": {},
   "source": [
    "Now that we know and have saved our concept paths of interest, we can use these to build our queries and obtain our dataframes. "
   ]
  },
  {
   "cell_type": "code",
   "execution_count": null,
   "id": "2f9f0d1a",
   "metadata": {},
   "outputs": [],
   "source": [
    "mesa_query = resource.query()\n",
    "mesa_query.anyof().add(mesa_var)\n",
    "mesa_query.require().add(mesa_pneu_var)\n",
    "mesa_results = mesa_query.getResultsDataFrame(low_memory=False)"
   ]
  },
  {
   "cell_type": "code",
   "execution_count": null,
   "id": "587905d8",
   "metadata": {},
   "outputs": [],
   "source": [
    "fhs_query = resource.query()\n",
    "fhs_query.anyof().add(fhs_var)\n",
    "fhs_query.require().add(fhs_pneu_var)\n",
    "fhs_results = fhs_query.getResultsDataFrame(low_memory=False)"
   ]
  },
  {
   "cell_type": "code",
   "execution_count": null,
   "id": "b2409b14",
   "metadata": {},
   "outputs": [],
   "source": [
    "whi_query = resource.query()\n",
    "whi_query.anyof().add(whi_var)\n",
    "whi_query.require().add(whi_pneu_var)\n",
    "whi_results = whi_query.getResultsDataFrame(low_memory=False)"
   ]
  },
  {
   "cell_type": "markdown",
   "id": "0058fb8f",
   "metadata": {},
   "source": [
    "Now that we have our patient-level dataframes, we can combine them into a single, cohesive dataframe.\n",
    "\n",
    "The following function accomplishes three main tasks:\n",
    "1. Removes extra columns, such as consent information\n",
    "2. Renames the Pneumonia and Orthopnea columns\n",
    "3. Adds the Dataset column, which corresponds to the study"
   ]
  },
  {
   "cell_type": "code",
   "execution_count": null,
   "id": "9356456f",
   "metadata": {},
   "outputs": [],
   "source": [
    "def clean_up_df2(df, study):\n",
    "    columns_to_drop = ['\\\\_Parent Study Accession with Subject ID\\\\', '\\\\_Topmed Study Accession with Subject ID\\\\', '\\\\_consents\\\\', '\\\\_harmonized_consent\\\\']\n",
    "    df1 = df.drop(columns=columns_to_drop, errors='ignore')\n",
    "    if 'pneumonia' in df1.columns.values[1].lower():\n",
    "        df1.columns = ['Patient ID', 'Pneumonia', 'Orthopnea']\n",
    "    else:\n",
    "        df1.columns = ['Patient ID', 'Orthopnea', 'Pneumonia']\n",
    "    df1['Dataset'] = study\n",
    "    return df1"
   ]
  },
  {
   "cell_type": "code",
   "execution_count": null,
   "id": "13f7a7fb",
   "metadata": {},
   "outputs": [],
   "source": [
    "clean_fhs = clean_up_df2(fhs_results, 'FHS')\n",
    "clean_whi = clean_up_df2(whi_results, 'WHI')\n",
    "clean_mesa = clean_up_df2(mesa_results, 'MESA')"
   ]
  },
  {
   "cell_type": "markdown",
   "id": "5e0eb86f",
   "metadata": {},
   "source": [
    "As you may have noticed, the orthopnea and pneumonia variables are encoded differently between these studies. Specifically:\n",
    "- In FHS, pneumonia is recorded as \"NO\", \"MAYBE\", or \"YES\"\n",
    "- In MESA, pneumonia is recorded as \"Yes\", \"No\", or \"Don't know / Not sure\"\n",
    "- In WHI, pneumonia is recoded as a value, or the number of times a participant has been diagnosed with pneumonia\n",
    "\n",
    "To harmonize these variables, we need to create a consistent encoding across these studies. "
   ]
  },
  {
   "cell_type": "code",
   "execution_count": null,
   "id": "46ec25a6",
   "metadata": {},
   "outputs": [],
   "source": [
    "# Combine the results for the pneumonia and orthopnea variables\n",
    "pneumonia_results = list(clean_fhs['Pneumonia'].unique())+list(clean_whi['Pneumonia'].unique())+list(clean_mesa['Pneumonia'].unique())\n",
    "orthopnea_results = list(clean_fhs['Orthopnea'].unique())+list(clean_whi['Orthopnea'].unique())+list(clean_mesa['Orthopnea'].unique())\n",
    "\n",
    "#pneumonia_results # Uncomment to view values\n",
    "#orthopnea_results # Uncomment to view values"
   ]
  },
  {
   "cell_type": "markdown",
   "id": "bd015729",
   "metadata": {},
   "source": [
    "The following code creates these mappings:\n",
    "\n",
    "|Raw value|Harmonized value|\n",
    "|---|---|\n",
    "|No|No|\n",
    "|NO|No|\n",
    "|No/Not recorded|No|\n",
    "|Numeric value equal to 0|No|\n",
    "|MAYBE|Maybe|\n",
    "|Don't know / Not sure|Do not know|\n",
    "|DO NOT KNOW|Do not know|\n",
    "|YES|Yes|\n",
    "|Yes|Yes|\n",
    "|Numeric value greater than 0|Yes|"
   ]
  },
  {
   "cell_type": "code",
   "execution_count": null,
   "id": "3394b583",
   "metadata": {},
   "outputs": [],
   "source": [
    "mappings = {}\n",
    "for res in [pneumonia_results, orthopnea_results]:\n",
    "    for val in res:\n",
    "        if val not in mappings.keys():\n",
    "            if isinstance(val, float):\n",
    "                if val == 0.0:\n",
    "                    mappings[val] = 'No'\n",
    "                else:\n",
    "                    mappings[val] = 'Yes'\n",
    "            else:\n",
    "                if val.lower() == 'yes':\n",
    "                    mappings[val] = 'Yes'\n",
    "                if 'know' in val.lower():\n",
    "                    mappings[val] = 'Do not know'\n",
    "                elif 'no' in val.lower():\n",
    "                    mappings[val] = 'No'\n",
    "                if 'maybe' in val.lower():\n",
    "                    mappings[val] = 'Maybe'\n",
    "\n",
    "final_df = pd.concat([clean for clean in [clean_fhs, clean_whi, clean_mesa]], ignore_index=True)\n",
    "final_df = final_df.replace({\"Pneumonia\": mappings, 'Orthopnea':mappings})\n",
    "final_df.head()"
   ]
  },
  {
   "cell_type": "markdown",
   "id": "ec29fe42",
   "metadata": {},
   "source": [
    "Now that the variables have been encoded in the same way, we can use this dataframe for analysis and visualizations. "
   ]
  },
  {
   "cell_type": "code",
   "execution_count": null,
   "id": "b13c630b",
   "metadata": {},
   "outputs": [],
   "source": [
    "# library\n",
    "import matplotlib.pyplot as plt\n",
    "from matplotlib_venn import venn2"
   ]
  },
  {
   "cell_type": "code",
   "execution_count": null,
   "id": "53673049",
   "metadata": {},
   "outputs": [],
   "source": [
    "# Filters to apply to the final_df to create figures\n",
    "pneu_yes = final_df['Pneumonia'] == 'Yes'\n",
    "pneu_no = final_df['Pneumonia'] == 'No'\n",
    "ortho_yes = final_df['Orthopnea'] == 'Yes'\n",
    "ortho_no = final_df['Orthopnea'] == 'No'\n",
    "fhs = final_df['Dataset'] == 'FHS'\n",
    "mesa = final_df['Dataset'] == 'MESA'\n",
    "whi = final_df['Dataset'] == 'WHI'"
   ]
  },
  {
   "cell_type": "code",
   "execution_count": null,
   "id": "5b5717d4",
   "metadata": {},
   "outputs": [],
   "source": [
    "# FHS figure\n",
    "pneu_count =  final_df[pneu_yes & ortho_no & fhs].count()['Patient ID']\n",
    "ortho_count = final_df[pneu_no & ortho_yes & fhs].count()['Patient ID']\n",
    "both_count =  final_df[pneu_yes & ortho_yes & fhs].count()['Patient ID']\n",
    "venn2(subsets = (pneu_count, ortho_count, both_count), set_labels = ('Pneumonia', 'Orthopnea'))\n",
    "plt.title(\"FHS Dataset\")\n",
    "plt.show()\n",
    "\n",
    "# MESA figure\n",
    "pneu_count =  final_df[pneu_yes & ortho_no & mesa].count()['Patient ID']\n",
    "ortho_count = final_df[pneu_no & ortho_yes & mesa].count()['Patient ID']\n",
    "both_count =  final_df[pneu_yes & ortho_yes & mesa].count()['Patient ID']\n",
    "venn2(subsets = (pneu_count, ortho_count, both_count), set_labels = ('Pneumonia', 'Orthopnea'))\n",
    "plt.title(\"MESA Dataset\")\n",
    "plt.show()\n",
    "\n",
    "# WHI figure\n",
    "pneu_count =  final_df[pneu_yes & ortho_no & whi].count()['Patient ID']\n",
    "ortho_count = final_df[pneu_no & ortho_yes & whi].count()['Patient ID']\n",
    "both_count =  final_df[pneu_yes & ortho_yes & whi].count()['Patient ID']\n",
    "venn2(subsets = (pneu_count, ortho_count, both_count), set_labels = ('Pneumonia', 'Orthopnea'))\n",
    "plt.title(\"WHI Dataset\")\n",
    "plt.show()\n",
    "\n",
    "# Combined figure\n",
    "pneu_count =  final_df[pneu_yes & ortho_no].count()['Patient ID']\n",
    "ortho_count = final_df[pneu_no & ortho_yes].count()['Patient ID']\n",
    "both_count =  final_df[pneu_yes & ortho_yes].count()['Patient ID']\n",
    "venn2(subsets = (pneu_count, ortho_count, both_count), set_labels = ('Pneumonia', 'Orthopnea'))\n",
    "plt.title(\"Harmonized\")\n",
    "plt.show()"
   ]
  },
  {
   "cell_type": "code",
   "execution_count": null,
   "id": "4b80f418",
   "metadata": {},
   "outputs": [],
   "source": []
  }
 ],
 "metadata": {
  "kernelspec": {
   "display_name": "conda_python3",
   "language": "python",
   "name": "conda_python3"
  },
  "language_info": {
   "codemirror_mode": {
    "name": "ipython",
    "version": 3
   },
   "file_extension": ".py",
   "mimetype": "text/x-python",
   "name": "python",
   "nbconvert_exporter": "python",
   "pygments_lexer": "ipython3",
   "version": "3.6.13"
  }
 },
 "nbformat": 4,
 "nbformat_minor": 5
}
