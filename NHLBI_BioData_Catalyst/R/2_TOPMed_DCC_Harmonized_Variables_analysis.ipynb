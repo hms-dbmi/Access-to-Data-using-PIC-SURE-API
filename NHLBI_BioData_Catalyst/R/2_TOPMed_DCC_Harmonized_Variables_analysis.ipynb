{
 "cells": [
  {
   "cell_type": "markdown",
   "metadata": {},
   "source": [
    "# Accessing *NHLBI BioData Catalyst® (BDC)* Harmonized variables using R PIC-SURE API"
   ]
  },
  {
   "cell_type": "markdown",
   "metadata": {},
   "source": [
    "This tutorial notebook will demonstrate how to query and work with the *BDC* cross-studies harmonized variables using R PIC-SURE API. For a more step-by-step introduction to the R PIC-SURE API, see the `1_PICSURE_API_101.ipynb` notebook."
   ]
  },
  {
   "cell_type": "markdown",
   "metadata": {},
   "source": [
    "**Before running this notebook, please be sure to review the \\\"Get your security token\\\" documentation, which exists in the [`README.md` file](../README.md). It explains about how to get a security token, which is mandatory to access the databases.**"
   ]
  },
  {
   "cell_type": "markdown",
   "metadata": {},
   "source": [
    " -------"
   ]
  },
  {
   "cell_type": "markdown",
   "metadata": {},
   "source": [
    "# Environment set-up"
   ]
  },
  {
   "cell_type": "markdown",
   "metadata": {},
   "source": [
    "## System requirements\n",
    "- R 3.4 or later"
   ]
  },
  {
   "cell_type": "markdown",
   "metadata": {},
   "source": [
    "## Install Packages\n",
    "\n",
    "**Note that if you are using the dedicated PIC-SURE environment within the *BDC Powered by Seven Bridges (BDC-Seven Bridges)* platform, the necessary packages have already been installed.**\n",
    "\n",
    "*Troubleshooting: if you encounter an error while installing packages or connecting to a PIC-SURE resource, try restarting your kernel and trying again.*"
   ]
  },
  {
   "cell_type": "code",
   "execution_count": null,
   "metadata": {},
   "outputs": [],
   "source": [
    "### Uncomment this code if you are not using the PIC-SURE environment in *BDC-Seven Bridges*), or if you do not have all the necessary dependencies installed.\n",
    "#install.packages(c(\"devtools\", \"dplyr\", \"ggplot2\"))"
   ]
  },
  {
   "cell_type": "code",
   "execution_count": null,
   "metadata": {},
   "outputs": [],
   "source": [
    "devtools::install_github(\"hms-dbmi/pic-sure-r-client\", ref=\"master\", force=T, quiet=TRUE)\n",
    "devtools::install_github(\"hms-dbmi/pic-sure-r-adapter-hpds\", ref=\"master\", force=T, quiet=TRUE)\n",
    "devtools::install_github(\"hms-dbmi/pic-sure-biodatacatalyst-r-adapter-hpds\", ref=\"master\", force=T)\n",
    "library(hpds)\n",
    "library(dplyr)\n",
    "library(ggplot2)\n"
   ]
  },
  {
   "cell_type": "markdown",
   "metadata": {},
   "source": [
    "## Connecting to a PIC-SURE resource"
   ]
  },
  {
   "cell_type": "code",
   "execution_count": null,
   "metadata": {},
   "outputs": [],
   "source": [
    "PICSURE_network_URL = \"https://picsure.biodatacatalyst.nhlbi.nih.gov/picsure\"\n",
    "token_file <- \"token.txt\"\n",
    "token <- scan(token_file, what = \"character\")\n",
    "connection <- picsure::connect(PICSURE_network_URL, token)\n",
    "authPicSure = bdc::use.authPicSure(connection)"
   ]
  },
  {
   "cell_type": "markdown",
   "metadata": {},
   "source": [
    "## About Harmonized Variables\n",
    "\n",
    "The data harmonization effort aims to produce \"a high quality, lasting resource of publicly available and thoroughly documented harmonized phenotype variables\". The TOPMed Data Coordinating Center collaborates with Working Group members and phenotype experts on this endeavor. So far, 44 harmonized variables are accessible through PIC-SURE API (in addition to the age at which each variable value as been collected for a given subject).\n",
    "\n",
    "The following phenotypes are included as harmonized variables:\n",
    "\n",
    "- Key NHLBI phenotypes    \n",
    "    - Blood cell counts\n",
    "    - VTE\n",
    "    - Atherosclerosis-related phenotypes\n",
    "    - Lipids\n",
    "    - Blood pressure\n",
    "\n",
    "\n",
    "- Common covariates\n",
    "    - Height\n",
    "    - Weight\n",
    "    - BMI\n",
    "    - Smoking status\n",
    "    - Race/ethnicity\n",
    "\n",
    "More information about the variable harmonization process is available at https://www.nhlbiwgs.org/sites/default/files/pheno_harmonization_guidelines.pdf"
   ]
  },
  {
   "cell_type": "markdown",
   "metadata": {},
   "source": [
    "# Working with the TOPMed DCC Harmonized Variables in PIC-SURE\n",
    "## 1. Identifying harmonized variables of interest\n",
    "First, let's explore what harmonized variables are available in PIC-SURE by searching for the keyword `harmonized`."
   ]
  },
  {
   "cell_type": "code",
   "execution_count": null,
   "metadata": {
    "pycharm": {
     "is_executing": false
    }
   },
   "outputs": [],
   "source": [
    "dictionary <- bdc::use.dictionary(connection) # set up the variable dictionary\n",
    "harmonized_dic <- bdc::find.in.dictionary(dictionary, \"harmonized\")\n",
    "harmonized_df <- bdc::extract.dataframe(harmonized_dic)\n",
    "head(harmonized_df)\n"
   ]
  },
  {
   "cell_type": "markdown",
   "metadata": {},
   "source": [
    "We can see that these variables are all part of the unique study ID pertaining to the DCC Harmonized dataset."
   ]
  },
  {
   "cell_type": "code",
   "execution_count": null,
   "metadata": {},
   "outputs": [],
   "source": [
    "unique(harmonized_df$study_id)"
   ]
  },
  {
   "cell_type": "markdown",
   "metadata": {},
   "source": [
    "We can also see that although there are only 44 DCC Harmonized variables, we have found 125 'harmonized' variables in PIC-SURE. This is because our variable results include subject IDs and 'metadata variables' which contain information about the age of the subject when a certain measure was taken, or the units of a variables. Let's exclude these."
   ]
  },
  {
   "cell_type": "code",
   "execution_count": null,
   "metadata": {},
   "outputs": [],
   "source": [
    "dim(harmonized_df)"
   ]
  },
  {
   "cell_type": "code",
   "execution_count": null,
   "metadata": {},
   "outputs": [],
   "source": [
    "# Discarding \"subject ID\",\n",
    "# the variables which only indicate age of the subject at which a given harmonized variable was been measured,\n",
    "# and variables which indicate the units of a given harmonized variable\n",
    "harmonized_df <- harmonized_df[!grepl(pattern = \"age_at|SUBJECT_ID|unit_\", harmonized_df$var_name),]\n",
    "dim(harmonized_df)\n",
    "head(harmonized_df[,c('var_name', 'var_description', 'HPDS_PATH', 'study_id')])"
   ]
  },
  {
   "cell_type": "markdown",
   "metadata": {},
   "source": [
    "We can now see our 44 harmonized variables. This is in line with the [DCC Harmonized Variables documentation](https://github.com/UW-GAC/topmed-dcc-harmonized-phenotypes). "
   ]
  },
  {
   "cell_type": "markdown",
   "metadata": {},
   "source": [
    "## 2. Selecting variables and retrieving data from the database\n",
    "\n",
    "Let's say we are interested in the subset of Harmonized Variables pertaining to patient demographics. \n",
    "\n",
    "We might do this by selecting variables based on what **datatable** or **variable group** the variables belong to. \n",
    "\n",
    "We will do this by filtering on the `group_id` column. We can see the values of this column and how many variables are in each group:"
   ]
  },
  {
   "cell_type": "code",
   "execution_count": null,
   "metadata": {},
   "outputs": [],
   "source": [
    "table(harmonized_df$group_id)"
   ]
  },
  {
   "cell_type": "markdown",
   "metadata": {},
   "source": [
    "Since we are interested in patient demographics, we filter our dataframe to include all harmonized variables which are part of the `demographic` variable group or data table. "
   ]
  },
  {
   "cell_type": "code",
   "execution_count": null,
   "metadata": {},
   "outputs": [],
   "source": [
    "demographic_df <- harmonized_df[grepl('demographic', harmonized_df$group_id),]\n",
    "demographic_df[,c('var_name', 'var_description', 'HPDS_PATH', 'study_id')]\n",
    "vars_of_interest <- demographic_df$HPDS_PATH"
   ]
  },
  {
   "cell_type": "markdown",
   "metadata": {},
   "source": [
    "## Query PIC-SURE for participant-level data for harmonized variables of interest"
   ]
  },
  {
   "cell_type": "code",
   "execution_count": null,
   "metadata": {},
   "outputs": [],
   "source": [
    "demographic_query <- bdc::new.query(authPicSure) # Start a new query\n",
    "vars_of_interest <- c(vars_of_interest, '\\\\DCC Harmonized data set\\\\demographic\\\\race_1\\\\')\n",
    "invisible(lapply(vars_of_interest, bdc::query.anyof.add, query = demographic_query))\n",
    "demographic_results <- bdc::query.run(demographic_query)\n",
    "head(demographic_results)"
   ]
  },
  {
   "cell_type": "markdown",
   "metadata": {},
   "source": [
    "## Visualizing our sex and race harmonized variables across study cohorts\n",
    "### Male:Female ratio across study cohorts\n",
    "\n",
    "Below, we wrangle the data to calculate the male/female sex ratio per study cohort and prepare our data for plotting.\n"
   ]
  },
  {
   "cell_type": "code",
   "execution_count": null,
   "metadata": {},
   "outputs": [],
   "source": [
    "mf_df <- demographic_results %>%\n",
    "    select(grep('sex|subcohort', colnames(demographic_results)))\n",
    "colnames(mf_df) <- c('sex', 'subcohort')\n",
    "mf_df <- mf_df %>%\n",
    "    group_by(subcohort) %>%\n",
    "    filter(subcohort != '') %>% #filter out empty subcohorts\n",
    "    summarise(female = sum(sex == 'Female'),\n",
    "              male = sum(sex == 'Male')) %>%\n",
    "    mutate(mf_ratio = male / female)\n",
    "\n",
    "head(mf_df)"
   ]
  },
  {
   "cell_type": "code",
   "execution_count": null,
   "metadata": {},
   "outputs": [],
   "source": [
    "options(repr.plot.width=16, repr.plot.height=12)\n",
    "mf_df %>%\n",
    "ggplot(aes(x = subcohort, y = mf_ratio)) + \n",
    "    geom_col() + \n",
    "    theme_minimal() +\n",
    "    theme(axis.text.x = element_text(angle = 90, vjust = 0.5, hjust=1, size = 12)) +\n",
    "    labs(x = 'Study Cohort', y = 'Male/Female ratio', title = 'Male/Female ratio across study cohorts')\n",
    "    "
   ]
  },
  {
   "cell_type": "markdown",
   "metadata": {},
   "source": [
    "### Participant race percentages across study cohorts\n",
    "Below, we wrangle the data to calculate the percentage of participants in given racial categories per study cohort and prepare out data for plotting."
   ]
  },
  {
   "cell_type": "code",
   "execution_count": null,
   "metadata": {},
   "outputs": [],
   "source": [
    "race_df <- demographic_results %>%\n",
    "    select(grep('race|subcohort', colnames(demographic_results)))\n",
    "colnames(race_df) <- c('race', 'subcohort')\n",
    "race_df <- race_df %>%\n",
    "    filter(subcohort != '', race != '') %>% # filter out blanks\n",
    "    group_by(subcohort, race) %>%\n",
    "    summarise(n = n())\n",
    "head(race_df)"
   ]
  },
  {
   "cell_type": "code",
   "execution_count": null,
   "metadata": {},
   "outputs": [],
   "source": [
    "ggplot(race_df, aes(fill=race, y=n, x=subcohort)) + \n",
    "    geom_bar(position=\"fill\", stat=\"identity\") +\n",
    "    theme_minimal() +\n",
    "    theme(axis.text.x = element_text(angle = 90, vjust = 0.5, hjust=1, size = 12)) +\n",
    "    labs(x = 'Study Cohort', y = 'Race percentage', title = 'Race percentage distribution across study cohorts')\n",
    "    "
   ]
  },
  {
   "cell_type": "code",
   "execution_count": null,
   "metadata": {},
   "outputs": [],
   "source": []
  }
 ],
 "metadata": {
  "jupytext": {
   "formats": "ipynb,Rmd"
  },
  "kernelspec": {
   "display_name": "R",
   "language": "R",
   "name": "ir"
  },
  "language_info": {
   "codemirror_mode": "r",
   "file_extension": ".r",
   "mimetype": "text/x-r-source",
   "name": "R",
   "pygments_lexer": "r",
   "version": "4.1.1"
  },
  "toc": {
   "base_numbering": 1,
   "nav_menu": {},
   "number_sections": true,
   "sideBar": true,
   "skip_h1_title": false,
   "title_cell": "Table of Contents",
   "title_sidebar": "Contents",
   "toc_cell": false,
   "toc_position": {},
   "toc_section_display": true,
   "toc_window_display": false
  }
 },
 "nbformat": 4,
 "nbformat_minor": 4
}
