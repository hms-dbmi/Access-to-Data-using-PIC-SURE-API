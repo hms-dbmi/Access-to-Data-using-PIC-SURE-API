{
 "cells": [
  {
   "cell_type": "markdown",
   "metadata": {},
   "source": [
    "# *NHLBI BioData Catalyst® (BDC) Powered by PIC-SURE* API use-case: quick analysis on Hematopoietic Cell Transplant for Sickle Cell Disease (HCT for SCD) data"
   ]
  },
  {
   "cell_type": "markdown",
   "metadata": {},
   "source": [
    "This is a tutorial notebook aimed to get the user quickly up and running with the R PIC-SURE API. It covers the main functionalities of the API."
   ]
  },
  {
   "cell_type": "markdown",
   "metadata": {},
   "source": [
    " -------   "
   ]
  },
  {
   "cell_type": "markdown",
   "metadata": {},
   "source": [
    "# Getting your own user-specific security token"
   ]
  },
  {
   "cell_type": "markdown",
   "metadata": {},
   "source": [
    "**Before running this notebook, please be sure to review the \"Get your security token\" documentation, which exists in the [`README.md` file](../README.md). It explains about how to get a security token, which is mandatory to access the databases.**"
   ]
  },
  {
   "cell_type": "markdown",
   "metadata": {},
   "source": [
    "# Environment set-up"
   ]
  },
  {
   "cell_type": "markdown",
   "metadata": {},
   "source": [
    "### Pre-requisites\n",
    "- R 3.4 or later"
   ]
  },
  {
   "cell_type": "markdown",
   "metadata": {},
   "source": [
    "### Install Packages\n",
    "\n",
    "**Note that if you are using the dedicated PIC-SURE environment within the *BDC Powered by Seven Bridges (BDC-Seven Bridges)* platform, the necessary packages have already been installed.**\n",
    "\n",
    "*Troubleshooting: if you encounter an error while installing packages or connecting to a PIC-SURE resource, try restarting your kernel and trying again.*"
   ]
  },
  {
   "cell_type": "code",
   "execution_count": null,
   "metadata": {},
   "outputs": [],
   "source": [
    "Sys.setenv(TAR = \"/bin/tar\")\n",
    "options(unzip = \"internal\")"
   ]
  },
  {
   "cell_type": "code",
   "execution_count": null,
   "metadata": {},
   "outputs": [],
   "source": [
    "### Uncomment this code if you are not using the PIC-SURE environment in *BDC-Seven Bridges*, or if you do not have all the necessary dependencies installed.\n",
    "#install.packages(c(\"devtools\"))"
   ]
  },
  {
   "cell_type": "code",
   "execution_count": null,
   "metadata": {},
   "outputs": [],
   "source": [
    "devtools::install_github(\"hms-dbmi/pic-sure-r-client\", ref=\"master\", force=T, quiet=TRUE)\n",
    "devtools::install_github(\"hms-dbmi/pic-sure-r-adapter-hpds\", ref=\"master\", force=T, quiet=TRUE)\n",
    "devtools::install_github(\"hms-dbmi/pic-sure-biodatacatalyst-r-adapter-hpds\", ref=\"master\", force=T)\n",
    "\n",
    "library(hpds)"
   ]
  },
  {
   "cell_type": "markdown",
   "metadata": {},
   "source": [
    "## Connecting to a PIC-SURE resource"
   ]
  },
  {
   "cell_type": "markdown",
   "metadata": {},
   "source": [
    "The following is required to get access to data through the PIC-SURE API: \n",
    "- Network URL\n",
    "- Resource id\n",
    "- User-specific security token"
   ]
  },
  {
   "cell_type": "markdown",
   "metadata": {},
   "source": [
    "If you have not already retrieved your user-specific token, please refer to the \"Get your security token\" section of the `README.md` file."
   ]
  },
  {
   "cell_type": "code",
   "execution_count": null,
   "metadata": {},
   "outputs": [],
   "source": [
    "PICSURE_network_URL = \"https://picsure.biodatacatalyst.nhlbi.nih.gov/picsure\"\n",
    "token_file <- \"token.txt\"\n",
    "token <- scan(token_file, what = \"character\")\n",
    "connection <- picsure::connect(PICSURE_network_URL, token)\n",
    "authPicSure = bdc::use.authPicSure(connection)"
   ]
  },
  {
   "cell_type": "markdown",
   "metadata": {},
   "source": [
    "# Sickle Cell Example"
   ]
  },
  {
   "cell_type": "markdown",
   "metadata": {},
   "source": [
    "Let's search the data dictionary in PIC-SURE to find all the variables in the `HCT for SCD` study, which is associated to PHS study number `phs002385`. "
   ]
  },
  {
   "cell_type": "code",
   "execution_count": null,
   "metadata": {},
   "outputs": [],
   "source": [
    "dictionary <- bdc::use.dictionary(connection) # set up the variable dictionary\n",
    "dictionary_search <- bdc::find.in.dictionary(dictionary, \"phs002385\")\n",
    "df <- bdc::extract.dataframe(dictionary_search)\n"
   ]
  },
  {
   "cell_type": "code",
   "execution_count": null,
   "metadata": {},
   "outputs": [],
   "source": [
    "head(df)"
   ]
  },
  {
   "cell_type": "markdown",
   "metadata": {},
   "source": [
    "### Building a query: investigating male patients with avascular necrosis who received their transplant after 1999"
   ]
  },
  {
   "cell_type": "markdown",
   "metadata": {},
   "source": [
    "Let's say we are interested in the age at which patients from the following cohort received their transplant:\n",
    "* males\n",
    "* patients with avascular necrosis\n",
    "* patients who received their transplant after 1999\n",
    "\n",
    "We will use regular expressions to search the variable descriptions within the HCT for SCD study to find these variables."
   ]
  },
  {
   "cell_type": "code",
   "execution_count": null,
   "metadata": {},
   "outputs": [],
   "source": [
    "variables_of_interest <- df[grepl('Sex|Avascular necrosis|Year of transplant$', df$var_description),]\n",
    "\n",
    "sex_var <- df[grepl('Sex', df$var_description),'HPDS_PATH']\n",
    "avascular_necrosis_var <- df[grepl('Avascular necrosis', df$var_description),'HPDS_PATH']\n",
    "transplant_yr_var <- df[grepl('Year of transplant$', df$var_description),'HPDS_PATH']\n",
    "\n",
    "variables_of_interest"
   ]
  },
  {
   "cell_type": "markdown",
   "metadata": {},
   "source": [
    "Now we can create a new query using the `HPDS_PATH` associated with our variables of interest and apply our filters to retrieve the cohort of interest."
   ]
  },
  {
   "cell_type": "code",
   "execution_count": null,
   "metadata": {},
   "outputs": [],
   "source": [
    "myquery <- bdc::new.query(authPicSure) # Start a new query\n",
    "\n",
    "# Filter to Males\n",
    "bdc::query.filter.add(myquery, sex_var, \"Male\")\n",
    "\n",
    "# Filter to patients with Avascular Necrosis\n",
    "bdc::query.filter.add(myquery, avascular_necrosis_var, \"Yes\")\n",
    "\n",
    "# Filter to patients with year of transplant after 1999\n",
    "bdc::query.filter.add(myquery, transplant_yr_var, min = 1999, max = 2019)\n"
   ]
  },
  {
   "cell_type": "markdown",
   "metadata": {},
   "source": [
    "We are also interested in the patients' age at which they received their transplant. However, we do not want to filter our cohort based on these values. We can use the query.select method to add this variable to the query without filtering."
   ]
  },
  {
   "cell_type": "markdown",
   "metadata": {},
   "source": [
    "Using this cohort, we can add the variable of interest: \"Patient age at transplant, years\""
   ]
  },
  {
   "cell_type": "code",
   "execution_count": null,
   "metadata": {},
   "outputs": [],
   "source": [
    "age_transplant_var <- df[grepl('age at transplant, years$', df$var_description),'HPDS_PATH']\n",
    "bdc::query.select.add(myquery, age_transplant_var)"
   ]
  },
  {
   "cell_type": "markdown",
   "metadata": {},
   "source": [
    "## Retrieving the data"
   ]
  },
  {
   "cell_type": "markdown",
   "metadata": {},
   "source": [
    "Once our query object is finally built, we use the `query.run` function to retrieve the data corresponding to our query"
   ]
  },
  {
   "cell_type": "code",
   "execution_count": null,
   "metadata": {},
   "outputs": [],
   "source": [
    "results <- bdc::query.run(myquery)\n",
    "head(results)"
   ]
  },
  {
   "cell_type": "markdown",
   "metadata": {
    "tags": []
   },
   "source": [
    "Once the data has been retrieved as a dataframe, you can use R functions to conduct analyses and create visualizations, such as this:"
   ]
  },
  {
   "cell_type": "code",
   "execution_count": null,
   "metadata": {},
   "outputs": [],
   "source": [
    "hist(results[,5], breaks = 10, \n",
    "     xlab = 'Age received transplant, yrs old', \n",
    "     main = \"Histogram of the ages at which males with Avascular Necrosis \\nreceived their transplant in the HCT for SCD study\")"
   ]
  },
  {
   "cell_type": "code",
   "execution_count": null,
   "metadata": {},
   "outputs": [],
   "source": []
  }
 ],
 "metadata": {
  "kernelspec": {
   "display_name": "R",
   "language": "R",
   "name": "ir"
  },
  "language_info": {
   "codemirror_mode": "r",
   "file_extension": ".r",
   "mimetype": "text/x-r-source",
   "name": "R",
   "pygments_lexer": "r",
   "version": "4.1.1"
  }
 },
 "nbformat": 4,
 "nbformat_minor": 4
}
