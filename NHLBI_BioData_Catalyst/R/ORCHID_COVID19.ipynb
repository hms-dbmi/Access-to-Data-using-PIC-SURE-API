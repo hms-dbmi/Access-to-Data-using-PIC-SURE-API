{
 "cells": [
  {
   "cell_type": "markdown",
   "metadata": {},
   "source": [
    "# ORCHID Clinical Trial: statistical analysis reproduction"
   ]
  },
  {
   "cell_type": "markdown",
   "metadata": {},
   "source": [
    "# Version 0.4"
   ]
  },
  {
   "cell_type": "markdown",
   "metadata": {},
   "source": [
    "**Disclaimer** \n",
    "\n",
    "This is a development version of the notebook reproducing the statistical analysis of the ORCHID trial. Even though the code producing the analyses and the plots will change and be refined, the libraries required to run the notebook will not, hence it can already be tested to check that the packages installation process and overall notebook execution works as expected.\n",
    "\n",
    "Some of the results do not match with what is exposed in the results in the [ORCHID trial article](https://jamanetwork.com/journals/jama/fullarticle/10.1001/jama.2020.22240?utm_campaign=articlePDF&utm_medium=articlePDFlink&utm_source=articlePDF&utm_content=jama.2020.22240) (namely the count of 'cytopenia', and the Fine and Gray model to analyse the 'discharge from hospital' secondary outcome). The analyses will be refined in order to identify where the discrepancies come from and eventually correct the analysis."
   ]
  },
  {
   "cell_type": "markdown",
   "metadata": {},
   "source": [
    "# Data Access using PIC-SURE API"
   ]
  },
  {
   "cell_type": "markdown",
   "metadata": {},
   "source": [
    "User access authentication works through a security token, which is passed to the API using the token.txt file (file to be created by the user). In order to know how to get your security token, please see [the README of the PIC-SURE API GitHub repo](https://github.com/hms-dbmi/Access-to-Data-using-PIC-SURE-API/tree/master/NHLBI_BioData_Catalyst)."
   ]
  },
  {
   "cell_type": "markdown",
   "metadata": {},
   "source": [
    "# ORCHID Clinical Trial"
   ]
  },
  {
   "cell_type": "markdown",
   "metadata": {},
   "source": [
    "Multi-center, double blinded, randomized clinical trial conducted to assess the efficacy of hydroxychloroquine in the treatment of COVID-19. Results published in JAMA on November 9th 2020, [paper available here](https://jamanetwork.com/journals/jama/fullarticle/10.1001/jama.2020.22240?utm_campaign=articlePDF&utm_medium=articlePDFlink&utm_source=articlePDF&utm_content=jama.2020.22240)"
   ]
  },
  {
   "cell_type": "markdown",
   "metadata": {},
   "source": [
    "NHLBI made available the data to every authorized investigators. Hence, this notebook enables anybody with authorized credentials to reproduce the ORCHID clinical trial results by showing how to:\n",
    "1. Access the data using the PIC-SURE API\n",
    "2. Reproduce the results of this study using the open-source R programming languages"
   ]
  },
  {
   "cell_type": "markdown",
   "metadata": {
    "lines_to_next_cell": 0
   },
   "source": [
    "# Packages Installation "
   ]
  },
  {
   "cell_type": "code",
   "execution_count": null,
   "metadata": {},
   "outputs": [],
   "source": [
    "options(repr.plot.width=18, repr.plot.height=9, warn=-1)"
   ]
  },
  {
   "cell_type": "code",
   "execution_count": null,
   "metadata": {
    "lines_to_next_cell": 2
   },
   "outputs": [],
   "source": [
    "required_libraries <- c(\n",
    "  'tidyverse',\n",
    "  'devtools',\n",
    "  'kableExtra',\n",
    "  'survival',\n",
    "  'survminer',\n",
    "  'MASS',\n",
    "  'quantreg',\n",
    "  'DescTools', \n",
    "  'IRdisplay', \n",
    "  'arsenal')\n",
    "for (package in required_libraries) {\n",
    "  if (!package %in% row.names(installed.packages())) install.packages(package)\n",
    "  library(package, character.only = TRUE)\n",
    "}\n",
    "devtools::install_github(\"hms-dbmi/pic-sure-r-client\", force = TRUE)\n",
    "devtools::install_github(\"hms-dbmi/pic-sure-r-adapter-hpds\", force = TRUE)"
   ]
  },
  {
   "cell_type": "markdown",
   "metadata": {},
   "source": [
    "# Installing the library and connecting to the database "
   ]
  },
  {
   "cell_type": "code",
   "execution_count": null,
   "metadata": {
    "name": "Installing the library and connecting to the database"
   },
   "outputs": [],
   "source": [
    "PICSURE_network_URL <- \"https://picsure.biodatacatalyst.nhlbi.nih.gov/picsure\"\n",
    "token_file <- \"token.txt\"\n",
    "token <- scan(token_file, what = \"character\")\n",
    "httr::set_config(httr::config(ssl_verifypeer=0L, ssl_verifyhost=0L))\n",
    "myconnection <- picsure::connect(url = PICSURE_network_URL, token = token)\n",
    "resource_id <- picsure::list.resources(myconnection)\n",
    "resource <- hpds::get.resource(myconnection, resourceUUID = resource_id)"
   ]
  },
  {
   "cell_type": "markdown",
   "metadata": {
    "lines_to_next_cell": 0
   },
   "source": [
    "# Querying the data"
   ]
  },
  {
   "cell_type": "code",
   "execution_count": null,
   "metadata": {
    "lines_to_next_cell": 0,
    "name": "Query the data"
   },
   "outputs": [],
   "source": [
    "dictionary_results <- hpds::find.in.dictionary(resource, 'ORCHID')\n",
    "list_variables <- hpds::extract.keys(dictionary_results)\n",
    "query <- hpds::new.query(resource)\n",
    "hpds::query.anyof.add(query, list_variables)\n",
    "raw_df <- hpds::query.run(query, result.type = \"dataframe\") %>%\n",
    "  as_tibble()"
   ]
  },
  {
   "cell_type": "markdown",
   "metadata": {
    "lines_to_next_cell": 0
   },
   "source": [
    "# Variable names "
   ]
  },
  {
   "cell_type": "code",
   "execution_count": null,
   "metadata": {
    "lines_to_next_cell": 2
   },
   "outputs": [],
   "source": [
    "primary_outcome_name <- \"d_covid15\"\n",
    "secondary_outcomes_binary <- c(\"d_mort15\",\n",
    "                               \"d_mort29\",\n",
    "                               \"d_ecmo_death\")\n",
    "secondary_outcomes_ccs <- c('d_covid3',\n",
    "                            'd_covid8',\n",
    "                            'd_covid29')\n",
    "secondary_outcomes_daysfree <- c(\n",
    "  'd_time_to_recovery',\n",
    "  \"d_hospfreedays\",\n",
    "  \"d_oxyfreedays\",\n",
    "  \"d_ventfreedays\",\n",
    "  \"d_vasofreedays\",\n",
    "  \"d_icufreedays\"\n",
    ")\n",
    "safety_outcomes <- c(\n",
    "  'safe_cytopenia',\n",
    "  'safe_seizure',\n",
    "  'safe_astalt',\n",
    "  'safe_hypogly',\n",
    "  'safe_ca',\n",
    "  'safe_vtach'\n",
    ")\n",
    "covariates <- c('rand_trt',\n",
    "                'bl_age',\n",
    "                'bl_sex',\n",
    "                'covid_ooscale_1',\n",
    "                'd_sofa_gcs',\n",
    "                'bl_symptomdt')"
   ]
  },
  {
   "cell_type": "markdown",
   "metadata": {
    "lines_to_next_cell": 0
   },
   "source": [
    "# Data Management"
   ]
  },
  {
   "cell_type": "code",
   "execution_count": null,
   "metadata": {},
   "outputs": [],
   "source": [
    "simplified_names <- names(raw_df) %>%\n",
    "  str_extract('((?<=X\\\\.COVID19\\\\.ORCHID\\\\.\\\\.\\\\.phs002299\\\\.\\\\.\\\\.)\\\\w+(?=\\\\.))|(Patient\\\\.ID)')\n",
    "orchid_data <- raw_df[!is.na(simplified_names)]\n",
    "names(orchid_data) <- simplified_names[!is.na(simplified_names)]\n",
    "\n",
    "orchid_data$rand_trt <- relevel(orchid_data$rand_trt, 'Placebo')\n",
    "orchid_data$safe_cytopenia <- apply(\n",
    "  orchid_data[, c('safe_neutrop',\n",
    "                  'safe_lympho',\n",
    "                  'safe_anemia',\n",
    "                  'safe_thombo')],\n",
    "  1,\n",
    "  function(row) ifelse(any(row == 'Yes', na.rm = TRUE), 'Yes', 'No'))\n",
    "    \n",
    "respiratory_symptoms_variables <- c(\n",
    "    'ie_arisymptoms___cou',\n",
    "    'ie_arisymptoms___fev',\n",
    "    'ie_arisymptoms___sob',\n",
    "    'ie_arisymptoms___st'\n",
    ")\n",
    "orchid_data[respiratory_symptoms_variables] <- lapply(orchid_data[respiratory_symptoms_variables], \n",
    "                                                      function(variable)\n",
    "                                                      ifelse(variable == \"Checked\",\n",
    "                                                             TRUE,\n",
    "                                                             ifelse(variable == \"Unchecked\", \n",
    "                                                                    FALSE,\n",
    "                                                                    NA)\n",
    "                                                            )\n",
    "                                                      )\n",
    "\n",
    "dm_factors <- function(factor) {\n",
    "  factor <- as.character(factor)\n",
    "  ifelse(factor == '', NA, ifelse(\n",
    "    factor %in% c('Yes', '1'), 'Yes', ifelse(\n",
    "      factor %in% c('No', '0'), 'No', NA\n",
    "    )\n",
    "  )) %>% as.factor()\n",
    "}\n",
    "orchid_data[c(safety_outcomes, secondary_outcomes_binary)] <- lapply(\n",
    "  orchid_data[c(safety_outcomes, secondary_outcomes_binary)],\n",
    "  dm_factors) %>%\n",
    "  as_tibble()\n",
    "\n",
    "\n",
    "create_ordered_daysfree <- function(variable) {\n",
    "  factor_levels <- as.character(0:28)\n",
    "  factor_variable <- factor(as.character(variable), ordered = TRUE, levels = factor_levels)\n",
    "  return(factor_variable)\n",
    "}\n",
    "orchid_data[secondary_outcomes_daysfree] <- lapply(\n",
    "  orchid_data[secondary_outcomes_daysfree], create_ordered_daysfree) %>%\n",
    "  as_tibble()\n",
    "\n",
    "\n",
    "create_ordered_covid_clinical_scale <- function(variable) {\n",
    "  levels <- c(\n",
    "    '1, Dead',\n",
    "    '2, Hospitalized on invasive mechanical ventilation or ECMO',\n",
    "    '3, Hospitalized on non-invasive ventilation or high flow nasal cannula',\n",
    "    '4, Hospitalized on supplemental oxygen,',\n",
    "    '5, Hospitalized not on supplemental oxygen',\n",
    "    '6, Not hospitalized with limitation in activity (continued symptoms)',\n",
    "    '7, Not hospitalized without limitation in activity (no symptoms)'\n",
    "  )\n",
    "  factor(variable, levels = levels, ordered = TRUE)\n",
    "}\n",
    "orchid_data[grep('(^d_covid)|(^covid_ooscale)', names(orchid_data))] <- lapply(\n",
    "  orchid_data[grep('(^d_covid)|(^covid_ooscale)', names(orchid_data))],\n",
    "  create_ordered_covid_clinical_scale) %>%\n",
    "  as_tibble()"
   ]
  },
  {
   "cell_type": "code",
   "execution_count": null,
   "metadata": {},
   "outputs": [],
   "source": [
    "orchid_data$vs_died[orchid_data$vs_died == ''] <- NA\n",
    "orchid_data$vs_died <- fct_recode(orchid_data$vs_died, '0' = 'No', '1' = 'Yes') %>%\n",
    "  as.character() %>%\n",
    "  as.numeric()\n",
    "\n",
    "orchid_data$iho_dischyn[orchid_data$iho_dischyn == ''] <- NA\n",
    "orchid_data$iho_dischyn <- fct_recode(orchid_data$iho_dischyn, '0' = 'No', '1' = 'Yes') %>%\n",
    "  as.character() %>%\n",
    "  as.numeric()\n",
    "\n",
    "\n",
    "    \n",
    "    # Ethnicity\n",
    "orchid_data$multi_race <- apply(\n",
    "  orchid_data[c('bl_race___1', 'bl_race___othcat', 'bl_race___5')],\n",
    "  1, \n",
    "  function(row) ifelse(sum(row == 'Checked', na.rm = TRUE) > 1, TRUE, FALSE))\n",
    "  \n",
    "orchid_data$race_ethnicity <- \n",
    "  ifelse(orchid_data$bl_ethnic == 'Hispanic or Latino',\n",
    "         'Hispanic or Latino', \n",
    "         ifelse(orchid_data$multi_race == TRUE, \n",
    "                'Multirace', \n",
    "                ifelse(orchid_data$bl_race___1 == 'Checked', \n",
    "                       'Black or African American',\n",
    "                       ifelse(orchid_data$bl_race___5 == 'Checked', \n",
    "                              'White', \n",
    "                              ifelse(orchid_data$bl_race___othcat == 'Checked', \n",
    "                                     'American Indian or Alaska Native/Asian/Native Hawaiian or Other Pacific Islander',\n",
    "                                     NA)\n",
    "                       )\n",
    "                )\n",
    "         )\n",
    "  )\n",
    "orchid_data$bmi <- round(orchid_data$bl_weight / (orchid_data$bl_height / 100)^2, 1)\n",
    "\n",
    "chronic_conditions <- c(\n",
    "    'charl_contis',\n",
    "    'charl_ulcer',\n",
    "    'charl_hypertension',\n",
    "    'charl_cad',\n",
    "    'charl_fatal',\n",
    "    'charl_liver',\n",
    "    'charl_diabetes',\n",
    "    'charl_kidney',\n",
    "    'charl_copd'\n",
    ")\n",
    "orchid_data$diabetes_bool <- ifelse(orchid_data$charl_diabetes %in%\n",
    "                                      c('DM with end organ damage present (excludes diet controlled alone)',\n",
    "                                        'Uncomplicated DM present (no end organ damage present)'),\n",
    "                                    TRUE, FALSE)\n",
    "orchid_data$kidney_bool <- ifelse(orchid_data$charl_kidney %in% c(\n",
    "  'Moderate to severe kidney disease present (Cr > 3, ESRD, chart diagnosis of CKD stage 5 (eGFR < 15 mL/min/1.73m²) not on dialysis)',\n",
    "  'Moderate to severe kidney disease present and patient is dialysis dependent'\n",
    "), \n",
    "TRUE, \n",
    "FALSE)\n",
    "orchid_data$cad_bool <- ifelse(orchid_data$charl_cad == 'Yes', TRUE, FALSE)\n",
    "orchid_data$hypertension_bool <- ifelse(orchid_data$charl_hypertension == 'Yes', TRUE, FALSE)\n",
    "orchid_data$copd_bool <- ifelse(orchid_data$charl_copd == 'Yes', TRUE, FALSE)\n"
   ]
  },
  {
   "cell_type": "markdown",
   "metadata": {},
   "source": [
    "# Table 1 Description"
   ]
  },
  {
   "cell_type": "code",
   "execution_count": null,
   "metadata": {},
   "outputs": [],
   "source": [
    "table1_labels <- c(\n",
    "    'bl_sex' = 'Sex',\n",
    "    'bl_age' = 'Age',\n",
    "    'race_ethnicity' = 'Ethnicity',\n",
    "    'bl_prehosp' = 'Location at hospitalization',\n",
    "    'bmi' = 'BMI' ,\n",
    "    'diabetes_bool' = 'Diabetes',\n",
    "    'kidney_bool' = 'Chronic Kidney Disease',\n",
    "    'cad_bool' = 'Coronary Artery Disease',\n",
    "    'hypertension_bool' = 'Hypertension',\n",
    "    'copd_bool' = 'Chronic Obstructive Pulmonary Disease',\n",
    "    'bl_randloc' = 'Location at randomization',\n",
    "    'covid_ooscale_1' = 'COVID Clinical Scale at Baseline',\n",
    "    'vit_vasop_1' = 'Vasopressor',\n",
    "    'd_sofa_gcs' = 'SOFA at baseline',\n",
    "    'ie_arisymptoms___cou'= 'Cough',\n",
    "    'ie_arisymptoms___fev'= 'Fever (temperature >37.5 °C)',\n",
    "    'ie_arisymptoms___sob'= 'Sobbering',\n",
    "    'ie_arisymptoms___st'= 'Shortness of breath',\n",
    "    'd_onset_duration'= 'Symptoms onset duration',\n",
    "    'labs_wbch_1' = 'Lowest white cells blood count at Day 1(/mm3)',\n",
    "    'labs_wbcl_1' = 'Highest white cells blood count at Day 1(/mm3)',\n",
    "    'sofa_platl_1' = 'Lowest platelet count at Day 1(k/mm3)',\n",
    "    'labs_asth_1' = 'Highest AST - Aspartate aminotransferase (units per liter) (Day 1)'\n",
    ")\n"
   ]
  },
  {
   "cell_type": "code",
   "execution_count": null,
   "metadata": {},
   "outputs": [],
   "source": [
    "orchid_table1 <- orchid_data\n",
    "orchid_table1$rand_trt <- relevel(orchid_table1$rand_trt, 'Hydroxychloroquine')"
   ]
  },
  {
   "cell_type": "code",
   "execution_count": null,
   "metadata": {},
   "outputs": [],
   "source": [
    "for (label_name in names(table1_labels)) {\n",
    "    attr(orchid_table1[[label_name]], 'label') <- table1_labels[[label_name]]\n",
    "}"
   ]
  },
  {
   "cell_type": "code",
   "execution_count": null,
   "metadata": {},
   "outputs": [],
   "source": [
    "demographics_table <- tableby(rand_trt ~ \n",
    "                             bl_sex +\n",
    "                             bl_age +\n",
    "                             race_ethnicity \n",
    "                             , data = orchid_table1)"
   ]
  },
  {
   "cell_type": "code",
   "execution_count": null,
   "metadata": {},
   "outputs": [],
   "source": [
    "baseline_table <- tableby(rand_trt ~ \n",
    "                             bl_randloc +\n",
    "                             covid_ooscale_1 +\n",
    "                             vit_vasop_1 \n",
    "                             , data = orchid_table1)"
   ]
  },
  {
   "cell_type": "code",
   "execution_count": null,
   "metadata": {},
   "outputs": [],
   "source": [
    "comorbidity_table <- tableby(rand_trt ~ \n",
    "                             diabetes_bool +\n",
    "                             kidney_bool +\n",
    "                             cad_bool +\n",
    "                             hypertension_bool +\n",
    "                             copd_bool\n",
    "                             , data = orchid_table1)"
   ]
  },
  {
   "cell_type": "code",
   "execution_count": null,
   "metadata": {},
   "outputs": [],
   "source": [
    "symptoms_table <- tableby(rand_trt ~\n",
    "                          ie_arisymptoms___cou +\n",
    "                          ie_arisymptoms___fev +\n",
    "                          ie_arisymptoms___sob +\n",
    "                          ie_arisymptoms___st,  \n",
    "                         data = orchid_table1)"
   ]
  },
  {
   "cell_type": "code",
   "execution_count": null,
   "metadata": {},
   "outputs": [],
   "source": [
    "admission_table <- tableby(rand_trt ~ d_sofa_gcs + d_onset_duration,\n",
    "                              data = orchid_table1\n",
    ")"
   ]
  },
  {
   "cell_type": "code",
   "execution_count": null,
   "metadata": {},
   "outputs": [],
   "source": [
    "table1_df <- merge(demographics_table, baseline_table) %>% \n",
    "merge(symptoms_table) %>%\n",
    "merge(admission_table) %>%\n",
    "merge(comorbidity_table) %>%\n",
    "as_tibble() %>%\n",
    "dplyr::select(all_of(c('label', 'Hydroxychloroquine', 'Placebo'))) %>%\n",
    "rename('Characteristic' = label) %>%\n",
    "filter(!Characteristic %in% c('FALSE', 'Range'))\n"
   ]
  },
  {
   "cell_type": "code",
   "execution_count": null,
   "metadata": {},
   "outputs": [],
   "source": [
    "table1_df[, c('Hydroxychloroquine', 'Placebo')] <- apply(table1_df[, c('Hydroxychloroquine', 'Placebo')],\n",
    "       c(1, 2), \n",
    "       function(elem) {\n",
    "           elem_bis <- unlist(elem)\n",
    "           ifelse(elem != '', \n",
    "                  unlist(elem_bis) %>% round(1) %>% paste0( collapse=' (') %>% paste0(')'),\n",
    "                  elem_bis\n",
    "                  )\n",
    "     }\n",
    ") %>% as_tibble()"
   ]
  },
  {
   "cell_type": "code",
   "execution_count": null,
   "metadata": {},
   "outputs": [],
   "source": [
    "indices_cat <- which(table1_df['Hydroxychloroquine'] == '')\n",
    "indices_results <- which(table1_df['Hydroxychloroquine'] != '')"
   ]
  },
  {
   "cell_type": "code",
   "execution_count": null,
   "metadata": {},
   "outputs": [],
   "source": [
    "kbl(table1_df) %>%\n",
    "kable_minimal() %>% kable_styling(bootstrap_options = c(\"striped\"), \n",
    "                                  full_width = FALSE,\n",
    "                                  position = \"left\", \n",
    "                                 font_size = 12) %>%\n",
    "  column_spec(1, width = \"20em\") %>%\n",
    "  column_spec(2, width = \"10em\") %>% \n",
    "  column_spec(3, width = \"10em\") %>% \n",
    "add_header_above(c(\" \", \"No. (%)\" = 2), align = 'left') %>%\n",
    "row_spec(0, bold = TRUE, extra_css = \"font-size: medium\") %>%\n",
    "row_spec(indices_cat, underline = FALSE, bold = TRUE, align = 'left') %>%\n",
    "column_spec(1, background = 'FDEBD0') %>%\n",
    "kableExtra:::add_indent_html(positions = indices_results) %>%\n",
    "pack_rows('Demographics', 1, 20, indent = FALSE, label_row_css = \"text-align: left; font-style: italic\") %>%\n",
    "pack_rows('COVID-19 Symptoms', 20, 39, indent = FALSE, label_row_css = \"text-align: left; font-style: italic\") %>%\n",
    "pack_rows('Comorbidities', 40, 48, indent = FALSE, label_row_css = \"text-align: left; font-style: italic\") %>%\n",
    "as.character() %>%\n",
    "#str_replace_all(paste0('(', str_c(table1_labels, collapse = ')|('), ')'),\n",
    "str_replace_all(c(\"Comorbidities\"),\n",
    "            replacement = function(string) paste0(string, '<hr>')) %>%\n",
    "str_replace_all(c(\"Demographics\"),\n",
    "            replacement = function(string) paste0(string, '<hr>')) %>%\n",
    "str_replace_all(c(\"COVID-19 Symptoms\"),\n",
    "            replacement = function(string) paste0(string, '<hr>')) %>%\n",
    "display_html()"
   ]
  },
  {
   "cell_type": "markdown",
   "metadata": {},
   "source": [
    "# Statistical Analysis\n",
    "\n",
    "## COVID-19 Ordered Clinical Scale Description"
   ]
  },
  {
   "cell_type": "code",
   "execution_count": null,
   "metadata": {},
   "outputs": [],
   "source": [
    "coos_df <- orchid_data %>%\n",
    "  dplyr::select(subject_id, rand_trt, starts_with(\"d_covid\")) %>%\n",
    "  pivot_longer(cols = starts_with(\"d_covid\"),\n",
    "               names_to = \"date\",\n",
    "               values_to = \"COOS\") %>%\n",
    "  mutate(COOS =  fct_rev(COOS))\n",
    "\n",
    "barplot_width <- 0.6\n",
    "plot_count_COOS <- coos_df %>%\n",
    "  filter(date %in% c(\"d_covid15\", \"d_covid29\")) %>%\n",
    "  mutate(rand_trt = fct_recode(relevel(rand_trt, 'Hydroxychloroquine'),\n",
    "                               \"Hydroxychloroquine\\n(n=242)\" = \"Hydroxychloroquine\",\n",
    "                               \"Placebo\\n(n=237)\" = \"Placebo\"),\n",
    "         date = fct_recode(date,\n",
    "                           \"14 d After randomization\\n(primary outcome)\" = \"d_covid15\",\n",
    "                           \"28 d After randomization\\n(secondary outcome)\" = \"d_covid29\")) %>%\n",
    "  ggplot(aes(x = rand_trt, fill = COOS)) +\n",
    "  geom_bar(width = barplot_width, position=\"fill\", colour = \"black\") +\n",
    "  scale_y_continuous(labels = scales::percent,\n",
    "                     limits = c(0, 1)) +\n",
    "  facet_grid( ~ date) +\n",
    "  scale_fill_brewer(palette = \"Greens\") +\n",
    "  theme_bw() +\n",
    "  theme(legend.background = element_blank(),\n",
    "        legend.box.background = element_rect(colour = \"black\"),\n",
    "        panel.spacing = grid::unit(c(0), \"lines\"),\n",
    "        axis.line = element_line(colour = \"black\"),\n",
    "        panel.grid.major = element_blank(),\n",
    "        text = element_text(size=20),\n",
    "        axis.text.x = element_text(angle=0, hjust=0.5),\n",
    "        # panel.grid.minor = element_blank(),\n",
    "        panel.border = element_blank(),\n",
    "        panel.background = element_blank(),\n",
    "        strip.background = element_rect(colour = \"white\", fill = \"white\")) +\n",
    "  labs(title=\"Figure 1: Clinical Status on the Coronavirus Disease (COVID) Outcomes Scale 14 Days and 28 Days After Randomization\",\n",
    "       fill = \"Clinical status (COVID Outcomes Scale category)\"\n",
    "       ) +\n",
    "  xlab(\"Treatment group\") +\n",
    "  ylab(\"Patients with clinical status, %\")\n",
    "plot_count_COOS"
   ]
  },
  {
   "cell_type": "markdown",
   "metadata": {},
   "source": [
    "## Primary and secondary outcomes comparison"
   ]
  },
  {
   "cell_type": "code",
   "execution_count": null,
   "metadata": {
    "lines_to_next_cell": 0
   },
   "outputs": [],
   "source": [
    "#orchid_data$bl_sex <- ifelse(orchid_data$bl_sex == 'Other', \n",
    "#                            orchid_data$bl_sex )\n",
    "fitted_polr <- function(outcome, covariates, df) {\n",
    "  formula <- paste(outcome,\n",
    "                   paste(covariates, collapse = \" + \"),\n",
    "                   sep = \" ~ \")\n",
    "  fitted_model <- MASS::polr(formula, Hess = TRUE, dat = df)\n",
    "  return(fitted_model)\n",
    "}\n",
    "\n",
    "dm_polr_results <- function(fitted_model) {\n",
    "  coef_table <- coef(summary(fitted_model))['rand_trtHydroxychloroquine',]\n",
    "  OR <- exp(coef(fitted_model))['rand_trtHydroxychloroquine']\n",
    "  coeff_names <- names(OR)\n",
    "  ci <- exp(coef_table['Value'] + qnorm(c(0.025, 0.975))*coef_table['Std. Error'])\n",
    "  p <- pnorm(abs(coef_table[\"t value\"]), lower.tail = FALSE) * 2\n",
    "  results <- round(c(OR, ci, p), 2)\n",
    "  names(results) <- c('OR', '2.5%', '97.5%', 'pvalue')\n",
    "  return(results)\n",
    "}\n",
    "\n",
    "ci_quantreg <- function(outcome, covariates, df) {\n",
    "  formula <- paste0(outcome, ' ~ rand_trt')\n",
    "  df[[outcome]] <- as.numeric(df[[outcome]])\n",
    "  non_nan <- !is.na(df[[outcome]])\n",
    "  qr_b <- boot.rq(cbind(1, df[['rand_trt']][non_nan]), df[[outcome]][non_nan], tau = 0.5, R = 10000)\n",
    "  ci <- t(apply(qr_b$B, 2, quantile, c(0.025,0.975)))[2, ]\n",
    "  return(ci)\n",
    "}\n",
    "\n",
    "\n",
    "list_results_outcomes <- list()\n",
    "for (outcome_name in c(primary_outcome_name, secondary_outcomes_ccs, secondary_outcomes_daysfree)) {\n",
    "  fitted_model <- fitted_polr(outcome_name, covariates, orchid_data)\n",
    "  result_model_polyr <- dm_polr_results(fitted_model)\n",
    "  adjusted_OR <- paste0(result_model_polyr[[\"OR\"]], ' (', result_model_polyr[[\"2.5%\"]], ' - ',\n",
    "                        result_model_polyr[[\"97.5%\"]], ')'\n",
    "  )\n",
    "  quartiles <- by(orchid_data, relevel(orchid_data$rand_trt, 'Hydroxychloroquine'),\n",
    "     function(df) {\n",
    "       numeric_var <- as.numeric(df[[outcome_name]])\n",
    "       trunc(quantile(numeric_var, probs = c(0.25, 0.5, 0.75), na.rm = TRUE))\n",
    "     })\n",
    "  median <- quartiles %>%\n",
    "    lapply(function(x) paste0(x[['50%']], ' (', x[['25%']], ' to ', x[['75%']], ')'))\n",
    "  unadjusted_diff <- quartiles[[1]][['50%']] - quartiles[[2]][['50%']]\n",
    "  if (unadjusted_diff == 0) {\n",
    "    ci_unadjusted_diff <- as.character(unadjusted_diff)\n",
    "  } else {\n",
    "    ci_diff_num <- ci_quantreg(outcome = outcome_name, covariates = covariates, df = orchid_data)\n",
    "    ci_unadjusted_diff <- paste0(unadjusted_diff, ' (', ci_diff_num[[1]], ' to ', ci_diff_num[[2]], ')')\n",
    "  }\n",
    "  list_results_outcomes[[outcome_name]] <- c(median,\n",
    "                                                     \"Unadjusted difference\" = ci_unadjusted_diff,\n",
    "                                                     \"Adjusted odds ratio or odds ratio\" = adjusted_OR\n",
    "  )\n",
    "}\n",
    "\n",
    "\n",
    "dm_result_logistr <- function(fitted_model) {\n",
    "  coef_table <- coef(summary(fitted_model))['rand_trtHydroxychloroquine',]\n",
    "  OR <- exp(coef(fitted_model))['rand_trtHydroxychloroquine']\n",
    "  ci <- exp(coef_table['Estimate'] + qnorm(c(0.025, 0.975))*coef_table['Std. Error'])\n",
    "  results <- round(c(OR, ci), 2)\n",
    "  names(results) <- c('OR', '2.5%', '97.5%')\n",
    "  return(results)\n",
    "}\n",
    "\n",
    "\n",
    "for (safety_outcome in c(secondary_outcomes_binary, safety_outcomes)) {\n",
    "  formula_safety <- paste(safety_outcome,\n",
    "                          \"rand_trt\",\n",
    "                          sep = \" ~ \")\n",
    "  non_na <- ! (is.na(orchid_data[[safety_outcome]]) | orchid_data[[safety_outcome]] == '')\n",
    "  OR <- tryCatch({\n",
    "    fitted_model <- glm(formula_safety, family = binomial(link = \"logit\"), data = orchid_data[non_na, ])\n",
    "    OR <- dm_result_logistr(fitted_model)\n",
    "    if (is.infinite(OR[['97.5%']])) OR <- NA\n",
    "    OR\n",
    "  },\n",
    "  error = function(e) e,\n",
    "  warning = function(w) NA\n",
    "  )\n",
    "  table_count <- table(orchid_data[non_na, c('rand_trt', safety_outcome)]) %>%\n",
    "    as.data.frame() %>%\n",
    "    pivot_wider(names_from = all_of(safety_outcome), values_from = 'Freq') %>%\n",
    "    mutate(freq = round(Yes/(Yes + No), 3) * 100)\n",
    "  table_count <- table_count[c(2, 1), ]\n",
    "  count_safety = table_count[['Yes']]\n",
    "  freq_safety = table_count[['freq']]\n",
    "  names(count_safety) = table_count[['rand_trt']]\n",
    "  names(freq_safety) = table_count[['rand_trt']]\n",
    "  diff <- BinomDiffCI(x1 = table_count[[1, \"Yes\"]],\n",
    "              n1 = sum(table_count[1, c('No', 'Yes')]),\n",
    "              x2 = table_count[[2, \"Yes\"]],\n",
    "              n2 = sum(table_count[2, c('No', 'Yes')]),\n",
    "              method = \"wald\") %>% round(3) * 100\n",
    "  list_results_outcomes[[safety_outcome]] <- c(\n",
    "    paste0(count_safety, ' (', freq_safety, ')'),\n",
    "    paste0(diff[[1]], ' (', diff[[2]], ' to ', diff[[3]], ')'),\n",
    "    if (length(OR) == 1) NA else paste0(OR[['OR']], ' (', OR[['2.5%']], ' to ', OR[['97.5%']], ')')\n",
    "  )\n",
    "}\n",
    "\n",
    "\n",
    "output_results <- do.call(rbind, list_results_outcomes)\n",
    "\n",
    "list_renaming_outcomes <- c(\n",
    "  'safe_seizure' = 'Seizure',\n",
    "  'safe_vtach' = 'Ventricular tachyarrhythmia',\n",
    "  'safe_ca' = 'Cardiac arrest treated with CPR',\n",
    "  'safe_astalt' = 'AST or ALT ≥2 times upper limit of normal',\n",
    "  'safe_hypogly' = 'Symptomatic hypoglycemia',\n",
    "  'd_covid3' = 'COVID Outcomes Scale score, median (IQR) at Day 2',\n",
    "  'd_covid8' = 'COVID Outcomes Scale score, median (IQR) at Day 7',\n",
    "  'd_covid15' = 'COVID Outcomes Scale score, median (IQR) at Day 14',\n",
    "  'd_covid29' = 'COVID Outcomes Scale score, median (IQR) at Day 28',\n",
    "  'd_mort15' = 'All-cause, all-location death',\n",
    "  'd_mort29' = 'All-cause, all-location death',\n",
    "  'd_ecmo_death' = 'Ecmo or Death',\n",
    "  'd_hospfreedays' = 'Hospital Free Days',\n",
    "  'd_icufreedays' = 'ICU Free Days',\n",
    "  'd_oxyfreedays' = 'Oxygen free days',\n",
    "  'd_time_to_recovery' = 'Time to recovery',\n",
    "  'd_vasofreedays' = 'Vasopressor Free Days',\n",
    "  'd_ventfreedays' = 'Ventilator Free Days',\n",
    "  'safe_cytopenia' = 'Cytopenia'\n",
    ")\n",
    "row.names(output_results) <- list_renaming_outcomes[row.names(output_results)]\n",
    "\n",
    "output_results %>%\n",
    "  kable(caption=\"Effect of Hydroxychloroquine on COVID Outcomes Scale\") %>%\n",
    "  kable_minimal() %>%\n",
    "  pack_rows('Primary Outcome', 1, 1, indent = FALSE, label_row_css = \"text-align: left; font-style: italic\") %>%\n",
    "  pack_rows('Secondary Outcomes', 2, 13, indent = FALSE, label_row_css = \"text-align: left; font-style: italic\") %>%\n",
    "  pack_rows('Safety Events', 14, 20, indent = FALSE, label_row_css = \"text-align: left; font-style: italic\") %>%\n",
    "  as.character() %>%\n",
    "str_replace_all(c(\"Primary Outcome\"),\n",
    "            replacement = function(string) paste0(string, '<hr>')) %>%\n",
    "str_replace_all(c(\"Secondary Outcomes\"),\n",
    "            replacement = function(string) paste0(string, '<hr>')) %>%\n",
    "str_replace_all(c(\"Safety Events\"),\n",
    "            replacement = function(string) paste0(string, '<hr>')) %>%\n",
    "  as.character() %>%\n",
    "  IRdisplay::display_html()"
   ]
  },
  {
   "cell_type": "markdown",
   "metadata": {},
   "source": [
    "## Survival Outcomes"
   ]
  },
  {
   "cell_type": "markdown",
   "metadata": {},
   "source": [
    "## All-cause survival"
   ]
  },
  {
   "cell_type": "code",
   "execution_count": null,
   "metadata": {
    "lines_to_next_cell": 2
   },
   "outputs": [],
   "source": [
    "orchid_data$death_fu <- orchid_data$d_lastalivedt + 1"
   ]
  },
  {
   "cell_type": "code",
   "execution_count": null,
   "metadata": {
    "lines_to_next_cell": 2
   },
   "outputs": [],
   "source": [
    "orchid_data$discharged_within_28 <- ifelse(\n",
    "    orchid_data$iho_dischdt <= 28,\n",
    "    1, \n",
    "    0\n",
    ") %>% replace_na(0)\n",
    "\n",
    "orchid_data$death_within_28 <- ifelse(\n",
    "    orchid_data$vs_deathdt <= 28,\n",
    "    1, \n",
    "    0\n",
    ") %>% replace_na(0)\n",
    "        "
   ]
  },
  {
   "cell_type": "code",
   "execution_count": null,
   "metadata": {
    "lines_to_next_cell": 2
   },
   "outputs": [],
   "source": [
    "no_fu_individuals <- apply(orchid_data[c('vs_alivedt', 'vs_deathdt')],\n",
    "                                      1,\n",
    "                                      function(x) sum(is.na(x)) == 2)\n",
    "\n",
    "survival_data <- orchid_data[!no_fu_individuals, ]\n",
    "\n",
    "survival_data$fu_death_28 <- pmin(28, \n",
    "                            survival_data$vs_alivedt,\n",
    "                            survival_data$vs_deathdt,\n",
    "                           na.rm = TRUE)\n",
    "\n",
    "coxph_death <- coxph(Surv(time = survival_data$fu_death_28,\n",
    "                          event = survival_data$death_within_28) ~\n",
    "                       rand_trt + bl_age + bl_sex + covid_ooscale_1 + d_sofa_gcs_s + bl_symptomdt,\n",
    "                     data = survival_data)\n",
    "\n",
    "\n",
    "survfit_death <- survfit(Surv(time = survival_data$fu_death_28,\n",
    "                              event = survival_data$death_within_28) ~ rand_trt,\n",
    "                         data = survival_data)"
   ]
  },
  {
   "cell_type": "code",
   "execution_count": null,
   "metadata": {
    "lines_to_next_cell": 2
   },
   "outputs": [],
   "source": [
    "death_plot <- ggsurvplot(survfit_death,\n",
    "           xlim = c(1, 28),\n",
    "           size = 1.3,                 \n",
    "           palette = c(\"#275057\", \"#F4890B\"),\n",
    "           conf.int = FALSE,          \n",
    "           pval = TRUE,              \n",
    "           risk.table = TRUE,        \n",
    "           risk.table.col = \"strata\",\n",
    "           legend.labs =c(\"Placebo\", \"Hydroxychloroquine\"),\n",
    "           risk.table.height = 0.25,\n",
    "           ggtheme = theme_bw() +  theme(\n",
    "        text = element_text(size=20),\n",
    "        axis.text.x = element_text(angle=0, hjust=0.5)),\n",
    "           combine = TRUE,\n",
    "           keep_data = TRUE,\n",
    "           type=\"cuminc\",\n",
    "           title = \"Figure 2: Treatment Effect on Survival at 28 Days\",\n",
    ")\n",
    "\n",
    "death_plot"
   ]
  },
  {
   "cell_type": "markdown",
   "metadata": {},
   "source": [
    "### Fine and Gray Model for Hospital discharge "
   ]
  },
  {
   "cell_type": "code",
   "execution_count": null,
   "metadata": {},
   "outputs": [],
   "source": [
    "# Time to discharge\n",
    "discharge_data <- orchid_data\n",
    "discharge_data$bl_sex <- as.factor(\n",
    "    if_else(\n",
    "    as.character(discharge_data$bl_sex) == 'Other/Unknown',\n",
    "    'Female',\n",
    "    as.character(discharge_data$bl_sex)\n",
    "    )\n",
    ")\n",
    "\n",
    "discharge_data$death_discharge <- as.factor(ifelse(\n",
    "    discharge_data$discharged_within_28 == 1 & !is.na(discharge_data$discharged_within_28),\n",
    "    'discharged', \n",
    "    ifelse(\n",
    "        discharge_data$death_within_28 & !is.na(discharge_data$death_within_28), \n",
    "        'dead', \n",
    "        'censored')\n",
    "    )\n",
    ")\n",
    "\n",
    "discharge_data$fu_discharge_28 <- pmin(28, \n",
    "                            discharge_data$vs_deathdt,\n",
    "                            discharge_data$iho_dischdt,\n",
    "                            discharge_data$vs_deathdt,\n",
    "                           na.rm = TRUE)\n",
    "\n",
    "finegray_data <- finegray(Surv(discharge_data$fu_discharge_28, discharge_data$death_discharge) ~ .,\n",
    "                           data = discharge_data,\n",
    "                           etype = \"discharged\")\n",
    "\n",
    "discharge_model <- coxph(Surv(fgstart, fgstop, fgstatus) ~\n",
    "                              rand_trt + bl_age + bl_sex + covid_ooscale_1 + d_sofa_gcs_s + bl_symptomdt,\n",
    "                            data = finegray_data,\n",
    "                            weight = fgwt)\n",
    "\n",
    "discharge_model <- coxph(Surv(fgstart, fgstop, fgstatus) ~\n",
    "                              rand_trt ,\n",
    "                            data = finegray_data,\n",
    "                            weight = fgwt)\n",
    "\n",
    "pvalue_hydroxychloroquine_discharge <- summary(discharge_model)$coefficients['rand_trtHydroxychloroquine', 'Pr(>|z|)']\n",
    "\n",
    "survfit_discharge <- survfit(\n",
    "  Surv(fu_discharge_28, discharged_within_28) ~ rand_trt,\n",
    "  data = discharge_data)"
   ]
  },
  {
   "cell_type": "code",
   "execution_count": null,
   "metadata": {
    "lines_to_next_cell": 0
   },
   "outputs": [],
   "source": [
    "discharge_plot <- ggsurvplot(\n",
    "  survfit_discharge,\n",
    "  xlim = c(1, 28),\n",
    "  size = 1.3,                 \n",
    "  palette = c(\"#275057\", \"#F4890B\"),\n",
    "  conf.int = FALSE,          \n",
    "  pval = TRUE,              \n",
    "  risk.table = TRUE,        \n",
    "  risk.table.col = \"strata\",\n",
    "  legend.labs =c(\"Hydroxychloroquine\", \"Placebo\"),\n",
    "  risk.table.height = 0.25,\n",
    "  ggtheme = theme_bw() +  theme(\n",
    "  text = element_text(size=20),\n",
    "  axis.text.x = element_text(angle=0, hjust=0.5)),\n",
    "  combine = TRUE,\n",
    "  keep_data = TRUE,\n",
    "  linetype = 'strata',\n",
    "  fun = 'event',\n",
    "  type = \"cuminc\",\n",
    "  title = \"Figure 3: Treatment Effect on Hospital Discharge\"\n",
    ")\n",
    "\n",
    "discharge_plot\n"
   ]
  }
 ],
 "metadata": {
  "jupytext": {
   "cell_metadata_filter": "name,-all",
   "main_language": "R",
   "notebook_metadata_filter": "-all"
  },
  "kernelspec": {
   "display_name": "R",
   "language": "R",
   "name": "ir"
  },
  "language_info": {
   "codemirror_mode": "r",
   "file_extension": ".r",
   "mimetype": "text/x-r-source",
   "name": "R",
   "pygments_lexer": "r",
   "version": "3.6.3"
  }
 },
 "nbformat": 4,
 "nbformat_minor": 4
}
