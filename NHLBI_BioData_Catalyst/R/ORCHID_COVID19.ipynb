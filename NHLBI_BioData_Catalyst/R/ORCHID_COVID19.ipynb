{
 "cells": [
  {
   "cell_type": "markdown",
   "metadata": {},
   "source": [
    "# ORCHID Clinical Trial: statistical analysis reproduction"
   ]
  },
  {
   "cell_type": "markdown",
   "metadata": {},
   "source": [
    "# Version 1.0"
   ]
  },
  {
   "cell_type": "markdown",
   "metadata": {},
   "source": [
    "This notebook reproduces the statistical analysis of the ORCHID clinical trial. Results have been published to JAMA, on November 7th 2021: [\"Effect of Hydroxychloroquine on Clinical Status at 14 Days in Hospitalized Patients With COVID-19\"](https://jamanetwork.com/journals/jama/fullarticle/2772922). The statistical analysis plan can be found on [clinicaltrials.gov](https://clinicaltrials.gov/ct2/show/NCT04332991?term=orchid&cond=Covid19&cntry=US&draw=2&rank=1). \n",
    "\n",
    "The clinical trial has been conducted between April and July 2020, and stopped before enrollment completion for futility, finding no difference of efficacy between hydroxychloroquine and placebo. This notebook is a reproduction of the clinical trial results based on the clinical trial protocol and the investigators original source code."
   ]
  },
  {
   "cell_type": "markdown",
   "metadata": {},
   "source": [
    "## Requirements\n",
    "\n",
    "*This notebook has been tested to work with R version 4.2.2 on 3/09/2023*. \n",
    "\n",
    "Below is the output of the sessionInfo() function:\n"
   ]
  },
  {
   "cell_type": "code",
   "execution_count": null,
   "metadata": {},
   "outputs": [],
   "source": [
    "sessionInfo()"
   ]
  },
  {
   "cell_type": "markdown",
   "metadata": {},
   "source": [
    "# Data Access using PIC-SURE API"
   ]
  },
  {
   "cell_type": "markdown",
   "metadata": {},
   "source": [
    "User access authentication works through a security token, which is passed to the API using the token.txt file (file to be created by the user). In order to know how to get your security token, please see [`README.md` file](../README.md) and [`Workspace_setup.ipynb` file](./Workspace_setup.ipynb)."
   ]
  },
  {
   "cell_type": "markdown",
   "metadata": {},
   "source": [
    "# ORCHID Clinical Trial"
   ]
  },
  {
   "cell_type": "markdown",
   "metadata": {},
   "source": [
    "It is a multi-center, double blinded, randomized clinical trial conducted to assess the efficacy of hydroxychloroquine in the treatment of COVID-19 in hospitalized patients."
   ]
  },
  {
   "cell_type": "markdown",
   "metadata": {},
   "source": [
    "NHLBI made available the data to every authorized investigators. Hence, this notebook enables anybody with authorized credentials to reproduce the ORCHID clinical trial results by showing how to:\n",
    "1. Access the data using the PIC-SURE API\n",
    "2. Reproduce the results of this study using the open-source R programming languages"
   ]
  },
  {
   "cell_type": "markdown",
   "metadata": {},
   "source": [
    "# Overview of the statistical analysis plan\n",
    "\n",
    "The primary outcome is the COVID-19 Outcome Scale (COS) assess at 14 days. The scale comprises 7 levels, as follows:\n",
    "- 1, Dead\n",
    "- 2, Hospitalized on invasive mechanical ventilation or ECMO\n",
    "- 3, Hospitalized on non-invasive ventilation or high flow nasal cannula\n",
    "- 4, Hospitalized on supplemental oxygen\n",
    "- 5, Hospitalized not on supplemental oxygen\n",
    "- 6, Not hospitalized with limitation in activity (continued symptoms)\n",
    "- 7, Not hospitalized without limitation in activity (no symptoms)\n",
    "\n",
    "This scale will also be assessed at different timepoints as secondary outcomes: day-3, day-7, and day-28.\n",
    "\n",
    "This scale will be treated as an ordered factor, and thus this outcome will be analyzed using a proportional odds regression model. \n",
    "\n",
    "Other secondary outcomes will be considered. Death, and composite of death and ECMO will be analyzed using logistic regression models. Time to recovery (patient without oxygen supplementation -- ie COS level 6 or 7) and time to discharge will be analyzed using survival models. Support free-days (hospital, oxygen, ICU, ventilation, and vasopressor) will be treated as ordered factors and analyzed using proportional odds regression models.\n",
    "\n",
    "The multivariable model adjusts the treatment effect for the following 5 confoundings:\n",
    "- Age at randomization\n",
    "- Sex\n",
    "- Clinical status as assessed by the COVID Ordinal Outcome Scale at randomization\n",
    "- Sequential Organ Failure Assessment (SOFA) score at randomization\n",
    "- Duration of acute respiratory infection symptoms prior to randomization"
   ]
  },
  {
   "cell_type": "markdown",
   "metadata": {
    "lines_to_next_cell": 0
   },
   "source": [
    "# Packages Installation "
   ]
  },
  {
   "cell_type": "code",
   "execution_count": null,
   "metadata": {},
   "outputs": [],
   "source": [
    "Sys.setenv(TAR = \"/bin/tar\")\n",
    "options(unzip = \"internal\")\n",
    "devtools::install_github(\"hms-dbmi/pic-sure-r-adapter-hpds\", ref=\"main\", force=T, quiet=FALSE)"
   ]
  },
  {
   "cell_type": "code",
   "execution_count": null,
   "metadata": {},
   "outputs": [],
   "source": [
    "# If you are NOT using the Seven Bridges PIC-SURE image, you may need to install the following packages.\n",
    "#install.packages('ggtext', repos='http://cran.rstudio.com/')\n",
    "#install.packages('quantreg', repos='http://cran.rstudio.com/')\n",
    "#install.packages('DescTools', repos='http://cran.rstudio.com/')\n",
    "#install.packages('survminer', repos='http://cran.rstudio.com/')\n",
    "#install.packages('cmprsk', repos='http://cran.rstudio.com/')\n",
    "#install.packages('kableExtra', repos='http://cran.rstudio.com/')\n",
    "#install.packages('arsenal', repos='http://cran.rstudio.com/')\n",
    "#install.packages('tidyr', repos='http://cran.rstudio.com/')\n",
    "#install.packages('coin')"
   ]
  },
  {
   "cell_type": "code",
   "execution_count": null,
   "metadata": {},
   "outputs": [],
   "source": [
    "library(dplyr)\n",
    "library(stringr)\n",
    "library(forcats)\n",
    "library(tidyr)\n",
    "library(ggplot2)\n",
    "library(survival)\n",
    "library(ggtext)\n",
    "library(quantreg)\n",
    "library(DescTools)\n",
    "library(survminer)\n",
    "library(cmprsk)\n",
    "library(kableExtra)\n",
    "library(arsenal)\n",
    "library(tibble)\n",
    "library(coin)"
   ]
  },
  {
   "cell_type": "code",
   "execution_count": null,
   "metadata": {},
   "outputs": [],
   "source": [
    "options(repr.plot.width=18, repr.plot.height=9)"
   ]
  },
  {
   "cell_type": "markdown",
   "metadata": {},
   "source": [
    "# Installing the library and connecting to the database using the PICSURE API "
   ]
  },
  {
   "cell_type": "code",
   "execution_count": null,
   "metadata": {
    "name": "Installing the library and connecting to the database"
   },
   "outputs": [],
   "source": [
    "PICSURE_network_URL = \"https://picsure.biodatacatalyst.nhlbi.nih.gov/picsure\"\n",
    "token_file <- \"token.txt\"\n",
    "token <- scan(token_file, what = \"character\")\n",
    "session <- picsure::bdc.initializeSession(PICSURE_network_URL, token)\n",
    "session <- picsure::bdc.setResource(session = session,  resourceName = \"AUTH\")"
   ]
  },
  {
   "cell_type": "markdown",
   "metadata": {
    "lines_to_next_cell": 0
   },
   "source": [
    "# Querying the data"
   ]
  },
  {
   "cell_type": "code",
   "execution_count": null,
   "metadata": {
    "lines_to_next_cell": 0,
    "name": "Query the data"
   },
   "outputs": [],
   "source": [
    "dictionary_df <- picsure::bdc.searchPicsure(session, 'ORCHID')  \n",
    "list_variables <- dictionary_df$name\n",
    "\n",
    "query <- picsure::bdc.newQuery(session) # Initialize a new query\n",
    "query <- picsure::bdc.addClause(query = query, \n",
    "                                keys = list_variables,\n",
    "                                type = 'ANYOF') \n",
    "\n",
    "raw_df <-  picsure::runQuery(query) %>% as_tibble()"
   ]
  },
  {
   "cell_type": "code",
   "execution_count": null,
   "metadata": {},
   "outputs": [],
   "source": [
    "head(raw_df)"
   ]
  },
  {
   "cell_type": "code",
   "execution_count": null,
   "metadata": {},
   "outputs": [],
   "source": [
    "raw_df <- raw_df %>% filter(`\\\\phs002299\\\\bl_sex\\\\` != '')"
   ]
  },
  {
   "cell_type": "markdown",
   "metadata": {
    "lines_to_next_cell": 0
   },
   "source": [
    "# Data Management"
   ]
  },
  {
   "cell_type": "markdown",
   "metadata": {},
   "source": [
    "The raw data contains long variable names, and the following code trims the uniformative part."
   ]
  },
  {
   "cell_type": "code",
   "execution_count": null,
   "metadata": {},
   "outputs": [],
   "source": [
    "simplified_names <- names(raw_df) %>%\n",
    "  str_extract('([\\\\w\\\\s\\\\(\\\\)]+(?=\\\\\\\\$))|(Patient\\\\sID)')\n",
    "orchid_data <- raw_df[!is.na(simplified_names)]\n",
    "names(orchid_data) <- simplified_names[!is.na(simplified_names)]\n",
    "orchid_data <- orchid_data  %>%\n",
    "  lapply(function(column) {\n",
    "      if (is.character(column)) {\n",
    "          as.factor(column) }\n",
    "      else {\n",
    "          column\n",
    "        }\n",
    "      }\n",
    "    ) %>%\n",
    "  as_tibble()"
   ]
  },
  {
   "cell_type": "code",
   "execution_count": null,
   "metadata": {},
   "outputs": [],
   "source": [
    "head(raw_df)"
   ]
  },
  {
   "cell_type": "markdown",
   "metadata": {},
   "source": [
    "Here we will rename the variables  we will use throughout this notebook."
   ]
  },
  {
   "cell_type": "code",
   "execution_count": null,
   "metadata": {
    "lines_to_next_cell": 0
   },
   "outputs": [],
   "source": [
    "outcomes_labels <- c(\n",
    "  'safe_seizure' = 'Seizure',\n",
    "  'safe_vtach' = 'Ventricular tachyarrhythmia',\n",
    "  'safe_ca' = 'Cardiac arrest treated with CPR',\n",
    "  'safe_astalt' = 'AST or ALT ≥2 times upper limit of normal',\n",
    "  'safe_hypogly' = 'Symptomatic hypoglycemia',\n",
    "  'safe_cytopenia' = 'Cytopenia',\n",
    "  'd_covid3' = 'COVID Outcomes Scale score at day 2',\n",
    "  'd_covid8' = 'COVID Outcomes Scale score at day 7',\n",
    "  'd_covid15' = \"COVID Outcomes Scale score at day 14, median (IQR)\",\n",
    "  'd_covid29' = 'COVID Outcomes Scale score at day 28',\n",
    "  'd_mort15' = 'All-cause, all-location death at Day 14',\n",
    "  'd_mort29' = 'All-cause, all-location death at Day 28',\n",
    "  'd_ecmo_death' = 'Composite of death or ECMO through 28 d, No./total No. (%)',\n",
    "  'd_time_to_recovery' = 'Time to recovery in days, median (IQR)',\n",
    "  'd_hospfreedays' = 'Hospital-free days',\n",
    "  'd_icufreedays' = 'ICU-free days',\n",
    "  'd_oxyfreedays' = 'Oxygen-free days',\n",
    "  'd_vasofreedays' = 'Vasopressor-free days',\n",
    "  'd_ventfreedays' = 'Ventilator-free days'\n",
    ")\n",
    "\n",
    "table1_labels <- c(\n",
    "    'bl_sex' = 'Sex',\n",
    "    'bl_age' = 'Age',\n",
    "    'race_ethnicity' = 'Ethnicity',\n",
    "    'bl_prehosp' = 'Location at hospitalization',\n",
    "    'bmi' = 'BMI' ,\n",
    "    'diabetes_bool' = 'Diabetes',\n",
    "    'kidney_bool' = 'Chronic Kidney Disease',\n",
    "    'cad_bool' = 'Coronary Artery Disease',\n",
    "    'hypertension_bool' = 'Hypertension',\n",
    "    'copd_bool' = 'Chronic Obstructive Pulmonary Disease',\n",
    "    'bl_randloc' = 'Location at randomization',\n",
    "    'covid_ooscale_1' = 'COVID Clinical Scale at Baseline',\n",
    "    'vit_vasop_1' = 'Vasopressor',\n",
    "    'd_sofa_gcs' = 'SOFA at baseline',\n",
    "    'ie_arisymptoms___cou'= 'Cough',\n",
    "    'ie_arisymptoms___fev'= 'Fever (temperature >37.5 °C)',\n",
    "    'ie_arisymptoms___sob'= 'Sobbering',\n",
    "    'ie_arisymptoms___st'= 'Shortness of breath',\n",
    "    'd_onset_duration'= 'Symptoms onset duration',\n",
    "    'labs_wbch_1' = 'Lowest white cells blood count at Day 1(/mm3)',\n",
    "    'labs_wbcl_1' = 'Highest white cells blood count at Day 1(/mm3)',\n",
    "    'sofa_platl_1' = 'Lowest platelet count at Day 1(k/mm3)',\n",
    "    'labs_asth_1' = 'Highest AST - Aspartate aminotransferase (units per liter) (Day 1)'\n",
    ")\n",
    "tibble(\"Variable Name\" = names(c(outcomes_labels, table1_labels)), \n",
    "      \"Meaning\" = c(outcomes_labels, table1_labels))"
   ]
  },
  {
   "cell_type": "markdown",
   "metadata": {},
   "source": [
    "Here we define the group of variables used for the analysis"
   ]
  },
  {
   "cell_type": "code",
   "execution_count": null,
   "metadata": {
    "lines_to_next_cell": 2
   },
   "outputs": [],
   "source": [
    "primary_outcome_name <- \"d_covid15\"\n",
    "secondary_outcomes_death <- c(\"d_mort15\",\n",
    "                               \"d_mort29\",\n",
    "                               \"d_ecmo_death\")\n",
    "secondary_outcomes_ccs <- c('d_covid3',\n",
    "                            'd_covid8',\n",
    "                            'd_covid29')\n",
    "secondary_outcomes_daysfree <- c(\n",
    "  'd_time_to_recovery',\n",
    "  \"d_hospfreedays\",\n",
    "  \"d_oxyfreedays\",\n",
    "  \"d_ventfreedays\",\n",
    "  \"d_vasofreedays\",\n",
    "  \"d_icufreedays\"\n",
    ")\n",
    "safety_outcomes <- c(\n",
    "  'safe_cytopenia',\n",
    "  'safe_seizure',\n",
    "  'safe_astalt',\n",
    "  'safe_hypogly',\n",
    "  'safe_ca',\n",
    "  'safe_vtach'\n",
    ")\n",
    "chronic_conditions <- c(\n",
    "    'charl_contis',\n",
    "    'charl_ulcer',\n",
    "    'charl_hypertension',\n",
    "    'charl_cad',\n",
    "    'charl_fatal',\n",
    "    'charl_liver',\n",
    "    'charl_diabetes',\n",
    "    'charl_kidney',\n",
    "    'charl_copd'\n",
    ")\n",
    "secondary_outcomes_binary <- c(safety_outcomes, secondary_outcomes_death)\n",
    "ordered_outcome_names <- c(primary_outcome_name, secondary_outcomes_ccs, secondary_outcomes_daysfree)"
   ]
  },
  {
   "cell_type": "markdown",
   "metadata": {},
   "source": [
    "The code below recode some variables"
   ]
  },
  {
   "cell_type": "code",
   "execution_count": null,
   "metadata": {},
   "outputs": [],
   "source": [
    "orchid_data$rand_trt <- relevel(orchid_data$rand_trt, 'Placebo')\n",
    "\n",
    "# Recoding cytopenia\n",
    "orchid_data$safe_cytopenia <- apply(\n",
    "  orchid_data[, c('safe_neutrop',\n",
    "                  'safe_lympho',\n",
    "                  'safe_anemia',\n",
    "                  'safe_thombo')],\n",
    "  1,\n",
    "  function(row) ifelse(any(row == 'Yes', na.rm = TRUE), 'Yes', 'No'))\n",
    "\n",
    "# Recoding respiratory outcomes\n",
    "respiratory_symptoms_variables <- c(\n",
    "    'ie_arisymptoms___cou',\n",
    "    'ie_arisymptoms___fev',\n",
    "    'ie_arisymptoms___sob',\n",
    "    'ie_arisymptoms___st'\n",
    ")\n",
    "orchid_data[respiratory_symptoms_variables] <- lapply(orchid_data[respiratory_symptoms_variables], \n",
    "                                                      function(variable)\n",
    "                                                      ifelse(variable == \"Checked\",\n",
    "                                                             TRUE,\n",
    "                                                             ifelse(variable == \"Unchecked\", \n",
    "                                                                    FALSE,\n",
    "                                                                    NA)\n",
    "                                                            )\n",
    "                                                      )\n",
    "\n",
    "dm_factors <- function(factor) {\n",
    "  factor <- as.character(factor)\n",
    "  ifelse(factor == '', NA, ifelse(\n",
    "    factor %in% c('Yes', '1'), 'Yes', ifelse(\n",
    "      factor %in% c('No', '0'), 'No', NA\n",
    "    )\n",
    "  )) %>% as.factor()\n",
    "}\n",
    "orchid_data[secondary_outcomes_binary] <- lapply(\n",
    "  orchid_data[secondary_outcomes_binary],\n",
    "  dm_factors) %>%\n",
    "  as_tibble()\n",
    "\n",
    "\n",
    "create_ordered_daysfree <- function(variable) {\n",
    "  factor_levels <- as.character(0:28)\n",
    "  factor_variable <- factor(as.character(variable), ordered = TRUE, levels = factor_levels)\n",
    "  return(factor_variable)\n",
    "}\n",
    "orchid_data[secondary_outcomes_daysfree] <- lapply(\n",
    "  orchid_data[secondary_outcomes_daysfree], create_ordered_daysfree) %>%\n",
    "  as_tibble()\n",
    "\n",
    "\n",
    "# Transforming COVID Clinical scale into ordered factors\n",
    "create_ordered_covid_clinical_scale <- function(variable) {\n",
    "  levels <- c(\n",
    "    '1, Dead',\n",
    "    '2, Hospitalized on invasive mechanical ventilation or ECMO',\n",
    "    '3, Hospitalized on non-invasive ventilation or high flow nasal cannula',\n",
    "    '4, Hospitalized on supplemental oxygen,',\n",
    "    '5, Hospitalized not on supplemental oxygen',\n",
    "    '6, Not hospitalized with limitation in activity (continued symptoms)',\n",
    "    '7, Not hospitalized without limitation in activity (no symptoms)'\n",
    "  )\n",
    "  factor(variable, levels = levels, ordered = TRUE)\n",
    "}\n",
    "orchid_data[grep('(^d_covid)|(^covid_ooscale)', names(orchid_data))] <- lapply(\n",
    "  orchid_data[grep('(^d_covid)|(^covid_ooscale)', names(orchid_data))],\n",
    "  create_ordered_covid_clinical_scale) %>%\n",
    "  as_tibble()\n",
    "\n",
    "# Recoding death\n",
    "orchid_data$vs_died[orchid_data$vs_died == ''] <- NA\n",
    "orchid_data$vs_died <- fct_recode(orchid_data$vs_died, '0' = 'No', '1' = 'Yes') %>%\n",
    "  as.character() %>%\n",
    "  as.numeric()\n",
    "\n",
    "# Recoding ethnicity\n",
    "orchid_data$multi_race <- apply(\n",
    "  orchid_data[c('bl_race___1', 'bl_race___othcat', 'bl_race___5')],\n",
    "  1, \n",
    "  function(row) ifelse(sum(row == 'Checked', na.rm = TRUE) > 1, TRUE, FALSE))\n",
    "  \n",
    "orchid_data$race_ethnicity <- \n",
    "  ifelse(orchid_data$bl_ethnic == 'Hispanic or Latino',\n",
    "         'Hispanic or Latino', \n",
    "         ifelse(orchid_data$multi_race == TRUE, \n",
    "                'Multirace', \n",
    "                ifelse(orchid_data$bl_race___1 == 'Checked', \n",
    "                       'Black or African American',\n",
    "                       ifelse(orchid_data$bl_race___5 == 'Checked', \n",
    "                              'White', \n",
    "                              ifelse(orchid_data$bl_race___othcat == 'Checked', \n",
    "                                     'American Indian or Alaska Native/Asian/Native Hawaiian or Other Pacific Islander',\n",
    "                                     NA)\n",
    "                       )\n",
    "                )\n",
    "         )\n",
    "  )\n",
    "\n",
    "# BMI\n",
    "orchid_data$bmi <- round(orchid_data$bl_weight / (orchid_data$bl_height / 100)^2, 1)\n",
    "\n",
    "# Chronics comorbidities\n",
    "orchid_data$diabetes_bool <- ifelse(orchid_data$charl_diabetes %in%\n",
    "                                      c('DM with end organ damage present (excludes diet controlled alone)',\n",
    "                                        'Uncomplicated DM present (no end organ damage present)'),\n",
    "                                    TRUE, FALSE)\n",
    "orchid_data$kidney_bool <- ifelse(\n",
    "    orchid_data$charl_kidney %in% c(\n",
    "    'Moderate to severe kidney disease present (Cr > 3, ESRD, chart diagnosis of CKD stage 5 (eGFR < 15 mL/min/1.73m²) not on dialysis)',\n",
    "    'Moderate to severe kidney disease present and patient is dialysis dependent'), \n",
    "     TRUE, \n",
    "     FALSE)\n",
    "orchid_data$cad_bool <- ifelse(orchid_data$charl_cad == 'Yes', TRUE, FALSE)\n",
    "orchid_data$hypertension_bool <- ifelse(orchid_data$charl_hypertension == 'Yes', TRUE, FALSE)\n",
    "orchid_data$copd_bool <- ifelse(orchid_data$charl_copd == 'Yes', TRUE, FALSE)"
   ]
  },
  {
   "cell_type": "code",
   "execution_count": null,
   "metadata": {},
   "outputs": [],
   "source": [
    "# Defining the general theme for the plots\n",
    "orchid_gg_theme <-  function(...) {\n",
    "  theme_bw() +\n",
    "  theme(legend.background = element_blank(),\n",
    "        legend.box.background = element_rect(colour = \"black\"),\n",
    "        panel.spacing = grid::unit(c(0), \"lines\"),\n",
    "        axis.line = element_line(colour = \"black\"),\n",
    "        panel.grid.major = element_blank(),\n",
    "        text = element_text(size=20),\n",
    "        plot.title = element_text(size = 20, face = 'bold'),\n",
    "        axis.text.x = element_text(angle=0, hjust=0.5),\n",
    "        legend.key.height = unit(.8, \"cm\"),\n",
    "        panel.border = element_blank(),\n",
    "        panel.background = element_blank(),\n",
    "        strip.background = element_rect(colour = \"white\", fill = \"white\")) +\n",
    "    theme(...)\n",
    "} "
   ]
  },
  {
   "cell_type": "markdown",
   "metadata": {},
   "source": [
    "# Population Description"
   ]
  },
  {
   "cell_type": "markdown",
   "metadata": {},
   "source": [
    "The following code calculate statistics about baseline characteristics of the population according to treatment groups."
   ]
  },
  {
   "cell_type": "code",
   "execution_count": null,
   "metadata": {},
   "outputs": [],
   "source": [
    "orchid_table1 <- orchid_data\n",
    "orchid_table1$rand_trt <- relevel(orchid_table1$rand_trt, 'Hydroxychloroquine')\n",
    "\n",
    "for (label_name in names(table1_labels)) {\n",
    "    attr(orchid_table1[[label_name]], 'label') <- table1_labels[[label_name]]\n",
    "}\n",
    "\n"
   ]
  },
  {
   "cell_type": "code",
   "execution_count": null,
   "metadata": {},
   "outputs": [],
   "source": [
    "demographics_table <- tableby(rand_trt ~ \n",
    "                             bl_sex +\n",
    "                             bl_age +\n",
    "                             race_ethnicity \n",
    "                             , data = orchid_table1)\n",
    "\n",
    "baseline_table <- tableby(rand_trt ~ \n",
    "                             bl_randloc +\n",
    "                             covid_ooscale_1 +\n",
    "                             vit_vasop_1 \n",
    "                             , data = orchid_table1)\n",
    "\n",
    "comorbidity_table <- tableby(rand_trt ~ \n",
    "                             diabetes_bool +\n",
    "                             kidney_bool +\n",
    "                             cad_bool +\n",
    "                             hypertension_bool +\n",
    "                             copd_bool\n",
    "                             , data = orchid_table1)\n",
    "\n",
    "symptoms_table <- tableby(rand_trt ~\n",
    "                          ie_arisymptoms___cou +\n",
    "                          ie_arisymptoms___fev +\n",
    "                          ie_arisymptoms___sob +\n",
    "                          ie_arisymptoms___st,  \n",
    "                         data = orchid_table1)\n",
    "\n",
    "admission_table <- tableby(rand_trt ~ d_sofa_gcs + d_onset_duration,\n",
    "                              data = orchid_table1\n",
    ")\n",
    "\n",
    "table1_df <- merge(demographics_table, baseline_table) %>% \n",
    "merge(symptoms_table) %>%\n",
    "merge(admission_table) %>%\n",
    "merge(comorbidity_table) %>%\n",
    "as_tibble() %>%\n",
    "dplyr::select(all_of(c('label', 'Hydroxychloroquine', 'Placebo'))) %>%\n",
    "rename('Characteristic' = label) %>%\n",
    "filter(!Characteristic %in% c('FALSE', 'Range'))\n"
   ]
  },
  {
   "cell_type": "code",
   "execution_count": null,
   "metadata": {},
   "outputs": [],
   "source": [
    "table1_df[, c('Hydroxychloroquine', 'Placebo')] <- apply(table1_df[, c('Hydroxychloroquine', 'Placebo')],\n",
    "       c(1, 2), \n",
    "       function(elem) {\n",
    "           elem_bis <- unlist(elem)\n",
    "           ifelse(elem != '', \n",
    "                  unlist(elem_bis) %>%\n",
    "                  round(1) %>%\n",
    "                  paste0(collapse = ' (') %>%\n",
    "                  paste0(')'),\n",
    "                  elem_bis\n",
    "                  )\n",
    "     }\n",
    ") %>% as_tibble()"
   ]
  },
  {
   "cell_type": "code",
   "execution_count": null,
   "metadata": {},
   "outputs": [],
   "source": [
    "indices_cat <- which(table1_df['Hydroxychloroquine'] == '')\n",
    "indices_results <- which(table1_df['Hydroxychloroquine'] != '')\n",
    "\n",
    "kbl(table1_df, caption = \"Table 1: Description of the population\") %>%\n",
    "kable_minimal() %>% kable_styling(bootstrap_options = c(\"striped\"), \n",
    "                                  full_width = FALSE,\n",
    "                                  position = \"left\", \n",
    "                                 font_size = 12) %>%\n",
    "  column_spec(1, width = \"20em\") %>%\n",
    "  column_spec(2, width = \"10em\") %>% \n",
    "  column_spec(3, width = \"10em\") %>% \n",
    "add_header_above(c(\" \", \"No. (%)\" = 2), align = 'left') %>%\n",
    "row_spec(0, bold = TRUE, extra_css = \"font-size: medium\") %>%\n",
    "row_spec(indices_cat, underline = FALSE, bold = TRUE, align = 'left') %>%\n",
    "column_spec(1, background = 'FDEBD0') %>%\n",
    "kableExtra:::add_indent_html(positions = indices_results) %>%\n",
    "pack_rows('Demographics', 1, 20, indent = FALSE, label_row_css = \"text-align: left; font-style: italic\") %>%\n",
    "pack_rows('COVID-19 Symptoms', 20, 42, indent = FALSE, label_row_css = \"text-align: left; font-style: italic\") %>%\n",
    "pack_rows('Comorbidities', 43, 52, indent = FALSE, label_row_css = \"text-align: left; font-style: italic\") %>%\n",
    "as.character() %>%\n",
    "str_replace_all(c(\"Comorbidities\"),\n",
    "            replacement = function(string) paste0(string, '<hr>')) %>%\n",
    "str_replace_all(c(\"Demographics\"),\n",
    "            replacement = function(string) paste0(string, '<hr>')) %>%\n",
    "str_replace_all(c(\"COVID-19 Symptoms\"),\n",
    "            replacement = function(string) paste0(string, '<hr>')) %>%\n",
    "IRdisplay::display_html()"
   ]
  },
  {
   "cell_type": "markdown",
   "metadata": {},
   "source": [
    "# Outcome Analysis"
   ]
  },
  {
   "cell_type": "markdown",
   "metadata": {},
   "source": [
    "## Primary Outcome: COVID-19 Ordinal Outcome Scale at Day 14"
   ]
  },
  {
   "cell_type": "markdown",
   "metadata": {},
   "source": [
    "Primary outcome evolution: evolution of the COVID-19 Ordinal Outcome Scale between day 0 and day 14."
   ]
  },
  {
   "cell_type": "code",
   "execution_count": null,
   "metadata": {},
   "outputs": [],
   "source": [
    "covid_ooscale_renaming <- c(\n",
    "    \"1, Dead\" = \"1: Death\",\n",
    "    \"2, Hospitalized on invasive mechanical ventilation or ECMO\" = \"2: Invasive mechanical ventilation or ECMO\",\n",
    "    \"3, Hospitalized on non-invasive ventilation or high flow nasal cannula\" = \"3: Non-invasive ventilation or high flow nasal cannula\",\n",
    "    \"4, Hospitalized on supplemental oxygen,\" = \"4: Hospitalized with oxygen\",\n",
    "    \"5, Hospitalized not on supplemental oxygen\" = \"5: Hospitalized without oxygen\",\n",
    "    \"6, Not hospitalized with limitation in activity (continued symptoms)\" = \"6: Discharged, limitation in activity\",\n",
    "    \"7, Not hospitalized without limitation in activity (no symptoms)\" = \"7: Discharged, no limitation in activity\"\n",
    ")"
   ]
  },
  {
   "cell_type": "code",
   "execution_count": null,
   "metadata": {},
   "outputs": [],
   "source": [
    "coos_df <- orchid_data %>%\n",
    "  dplyr::select(subject_id, rand_trt, starts_with(\"d_covid\")) %>%\n",
    "  pivot_longer(cols = starts_with(\"d_covid\"),\n",
    "               names_to = \"date\",\n",
    "               values_to = \"COOS\") %>%\n",
    "  mutate(COOS =  fct_rev(COOS)) %>%\n",
    "  mutate(COOS = recode(COOS, !!!covid_ooscale_renaming))\n",
    "\n",
    "\n",
    "plot_count_COOS <- coos_df %>%\n",
    "  filter(date %in% c(\"d_covid15\", \"d_covid29\")) %>%\n",
    "  mutate(rand_trt = fct_recode(relevel(rand_trt, 'Hydroxychloroquine'),\n",
    "                               \"Hydroxychloroquine\\n(n=242)\" = \"Hydroxychloroquine\",\n",
    "                               \"Placebo\\n(n=237)\" = \"Placebo\"),\n",
    "         date = fct_recode(date,\n",
    "                           \"14 d After randomization\\n(primary outcome)\" = \"d_covid15\",\n",
    "                           \"28 d After randomization\\n(secondary outcome)\" = \"d_covid29\")) %>%\n",
    "  ggplot() +\n",
    "  geom_bar(aes(x = rand_trt, fill = COOS), \n",
    "           width = 0.4, position=\"fill\", colour = \"black\") +\n",
    "  scale_y_continuous(labels = scales::percent,\n",
    "                     n.breaks = 6,\n",
    "                     limits = c(0, 1)) +\n",
    "  facet_grid( ~ date) +\n",
    "  scale_fill_brewer(palette = \"Blues\") +\n",
    "  orchid_gg_theme(plot.title = element_markdown()) +\n",
    "  labs(title=\"Clinical Status on the Coronavirus Disease (COVID) Outcomes Scale 14 Days and 28 Days After Randomization\",\n",
    "       fill = \"Clinical status (COVID Outcomes Scale category)\"\n",
    "       ) +\n",
    "  xlab(\"Treatment group\") +\n",
    "  ylab(\"Patients with clinical status, %\")\n",
    "\n",
    "plot_data <- ggplot_build(plot_count_COOS)$data\n",
    "line_data <- plot_data[[1]] %>%\n",
    "    mutate(x_line = if_else(x == 1, xmax, xmin), \n",
    "           date = as.factor(if_else(PANEL == 1, \n",
    "                           \"14 d After randomization\\n(primary outcome)\",\n",
    "                           \"28 d After randomization\\n(secondary outcome)\"\n",
    "                            ))\n",
    "          )\n",
    "         \n",
    "plot_count_COOS <- plot_count_COOS + \n",
    "    geom_line(data = line_data,\n",
    "              aes(x = x_line, y = ymax, group = fill), \n",
    "              linetype = \"dashed\"\n",
    "              )\n",
    "print(plot_count_COOS)"
   ]
  },
  {
   "cell_type": "markdown",
   "metadata": {},
   "source": [
    "## Primary and secondary outcomes comparison"
   ]
  },
  {
   "cell_type": "markdown",
   "metadata": {},
   "source": [
    "Below we define a group of functions to analyze the outcomes"
   ]
  },
  {
   "cell_type": "code",
   "execution_count": null,
   "metadata": {
    "lines_to_next_cell": 0
   },
   "outputs": [],
   "source": [
    "# Functions defined in this cell are being used to analysis the variables formatted as ordered factors\n",
    "fitted_polr <- function(outcome, covariates, data) {\n",
    "  formula <- paste(outcome,\n",
    "                   paste(covariates, collapse = \" + \"),\n",
    "                   sep = \" ~ \")\n",
    "  fitted_model <- MASS::polr(formula, Hess = TRUE, dat = data)\n",
    "  return(fitted_model)\n",
    "}\n",
    "\n",
    "dm_polr_results <- function(fitted_model) {\n",
    "  coef_table <- coef(summary(fitted_model))['rand_trtHydroxychloroquine',]\n",
    "  OR <- exp(coef(fitted_model))['rand_trtHydroxychloroquine']\n",
    "  coeff_names <- names(OR)\n",
    "  ci <- exp(coef_table['Value'] + qnorm(c(0.025, 0.975))*coef_table['Std. Error'])\n",
    "  p <- pnorm(abs(coef_table[\"t value\"]), lower.tail = FALSE) * 2\n",
    "  result_model_polyr <- round(c(OR, ci, p), 2)\n",
    "  names(result_model_polyr) <- c('OR', '2.5%', '97.5%', 'pvalue')\n",
    "  df_results = as.data.frame(result_model_polyr)\n",
    "  df_results[['attribute']] = row.names(df_results)\n",
    "  df_results[['entity']] = 'adjusted'\n",
    "  df_results[['group']] = 'all'\n",
    "  df_results[['outcome_type']] = 'Outcomes'\n",
    "  df_results[['string']] = paste0(result_model_polyr['OR'],\n",
    "                                  ' (',\n",
    "                                  result_model_polyr['2.5%'],\n",
    "                                  ' to ', \n",
    "                                  result_model_polyr['97.5%'],\n",
    "                                  ')'\n",
    "                                  )\n",
    "  names(df_results)[names(df_results) == 'result_model_polyr'] = 'value'\n",
    "  return(df_results)\n",
    "}\n",
    "\n",
    "\n",
    "ordered_factor_to_numeric <- function(column) {\n",
    "  col <- as.character(column)\n",
    "  matching <- regexpr('^[0-9]+', col)\n",
    "  as.numeric(\n",
    "      ifelse(matching != -1, \n",
    "            regmatches(col, matching), \n",
    "            col)\n",
    "  )\n",
    "}\n",
    "\n",
    "\n",
    "ordered_factors_analysis <- function(ordered_outcome_names, covariates, data) {        \n",
    "    list_results_outcomes <- list()\n",
    "    for (outcome_name in ordered_outcome_names) {\n",
    "      fitted_model <- fitted_polr(outcome_name, covariates, data)\n",
    "      df_results_polyr <- dm_polr_results(fitted_model)\n",
    "      df_quartiles <<- get_quartiles(outcome_name, 'rand_trt', data)\n",
    "      difference <<- df_quartiles[df_quartiles$attribute == '50%' &\n",
    "                                df_quartiles$group == 'Hydroxychloroquine', \n",
    "                                'value'] - \n",
    "      df_quartiles[df_quartiles$attribute == '50%' &\n",
    "                                df_quartiles$group == 'Placebo', \n",
    "                                'value']\n",
    "      df_differences <- ci_quantreg(outcome = outcome_name,\n",
    "                                    group = 'rand_trt',\n",
    "                                    difference = difference, \n",
    "                                    df = data)\n",
    "      col_order = c('group', 'entity', 'attribute', 'value', 'outcome_type', \"string\")\n",
    "      df_result_outcome <- list(df_results_polyr, df_quartiles, df_differences) %>% \n",
    "        lapply(function(df) df[col_order]) %>%\n",
    "        do.call(rbind, args = .)\n",
    "      row.names(df_result_outcome) <- NULL\n",
    "      list_results_outcomes[[outcome_name]] <- df_result_outcome\n",
    "    }\n",
    "  return(list_results_outcomes)\n",
    "}"
   ]
  },
  {
   "cell_type": "code",
   "execution_count": null,
   "metadata": {
    "lines_to_next_cell": 0
   },
   "outputs": [],
   "source": [
    "# Functions to analyze continuous outcomes\n",
    "get_quartiles <- function(outcome, group, data) {\n",
    "  trt_group <- relevel(data[[group]], 'Hydroxychloroquine')\n",
    "  numeric_var <- ordered_factor_to_numeric(data[[outcome]])\n",
    "  df_quartiles <- tapply(numeric_var,\n",
    "         list(trt_group),\n",
    "         FUN = function(var) {\n",
    "      trunc(quantile(var, probs = c(0.25, 0.5, 0.75), na.rm = TRUE))          \n",
    "    }\n",
    "  ) %>%\n",
    "    do.call(data.frame, args = .) %>%\n",
    "    t() %>%\n",
    "    as.data.frame()\n",
    "  df_quartiles[\"string\"] = paste0(df_quartiles[[\"50%\"]], \" (\", df_quartiles[[\"25%\"]], \"-\", df_quartiles[[\"75%\"]], \")\")\n",
    "  df_quartiles[['entity']] = 'count'\n",
    "  df_quartiles[['group']] = row.names(df_quartiles)\n",
    "  df_results <- pivot_longer(df_quartiles,\n",
    "               cols = c(\"25%\", \"50%\", \"75%\"), \n",
    "               names_to = 'attribute', \n",
    "              values_to = 'value') %>%\n",
    "    mutate(outcome_type = 'Outcomes')\n",
    " \n",
    "}\n",
    "\n",
    "ci_quantreg <- function(outcome, group, difference, df) {\n",
    "  numeric_var <- ordered_factor_to_numeric(df[[outcome]])\n",
    "  non_nan <- !is.na(numeric_var)\n",
    "  qr_b <- boot.rq(cbind(1, df[[group]][non_nan]), numeric_var[non_nan], tau = 0.5, R = 10000)\n",
    "  ci <- t(apply(qr_b$B, 2, quantile, c(0.025,0.975)))[2, ]\n",
    "  df_results <- data.frame('value' = ci)\n",
    "  df_results[['entity']] = 'unadjusted'\n",
    "  df_results[['attribute']] = row.names(df_results)\n",
    "  df_results[['group']] = 'all'\n",
    "  df_results[['outcome_type']] = 'Outcomes'\n",
    "  df_results[['string']] = paste0(difference, ' (', ci[['2.5%']], ' to ',  ci[['97.5%']], ')')\n",
    "  return(df_results)\n",
    "}"
   ]
  },
  {
   "cell_type": "code",
   "execution_count": null,
   "metadata": {
    "lines_to_next_cell": 0
   },
   "outputs": [],
   "source": [
    "# Functions to analyze binary outcomes\n",
    "fitted_logisticr <- function(outcome, covariates, data) {\n",
    "    model <- as.formula(paste0(outcome, '~', paste(covariates, collapse = '+')))\n",
    "    glm(model, data = orchid_data, family = binomial(link='logit'))\n",
    "}\n",
    "           \n",
    "dm_result_logistr <- function(fitted_model, outcome) {\n",
    "  coef_table <- coef(summary(fitted_model))['rand_trtHydroxychloroquine',]\n",
    "  OR <- exp(coef(fitted_model))['rand_trtHydroxychloroquine']\n",
    "  ci <- exp(coef_table['Estimate'] + qnorm(c(0.025, 0.975))*coef_table['Std. Error'])\n",
    "  results <- round(c(OR, ci), 2)\n",
    "  df_results = data.frame('value' = results)\n",
    "  df_results[['attribute']] = c('OR', '2.5%', '97.5%')\n",
    "  if (any(is.infinite(ci))) df_results[['value']] <- NA \n",
    "  df_results[['entity']] = 'adjusted'\n",
    "  df_results[['group']] = 'all'\n",
    "  df_results[['outcome_type']] = if (outcome %in% safety_outcomes) 'Safety Outcomes' else 'Outcomes'\n",
    "  df_results[['string']] = paste0(df_results[df_results$attribute == \"OR\", \"value\"],\n",
    "                                    \" (\", \n",
    "                                    df_results[df_results$attribute == \"2.5%\", 'value'],\n",
    "                                    \" - \",\n",
    "                                    df_results[df_results$attribute == \"97.5%\", 'value'], \n",
    "                                   \")\")\n",
    "  return(df_results)\n",
    "}\n",
    "\n",
    "get_table_count <- function(data, binary_outcome, safety_outcomes) {\n",
    " non_na <- ! (is.na(data[[binary_outcome]]) | data[[binary_outcome]] == '')\n",
    " table_count <- table(data[non_na, c('rand_trt', binary_outcome)]) %>%\n",
    "   as.data.frame() %>%\n",
    "   pivot_wider(names_from = all_of(binary_outcome), values_from = 'Freq') %>%\n",
    "   mutate(freq = round(Yes/(Yes + No), 3) * 100) %>%\n",
    "   pivot_longer(cols = c('No', 'Yes', 'freq'), \n",
    "               names_to = 'attribute') %>%\n",
    "   mutate(entity = 'count') %>%\n",
    "   rename(group = rand_trt)\n",
    "   table_count[['outcome_type']] = if (binary_outcome %in% safety_outcomes) 'Safety Outcomes' else 'Outcomes'\n",
    "   values <- table_count[[\"value\"]]             \n",
    "   names(values) = table_count[[\"attribute\"]]               \n",
    "   string = tapply(values, table_count$group,\n",
    "          function(vector) paste0(vector[[\"Yes\"]], \n",
    "                                  \" (\",\n",
    "                                  round(vector[[\"Yes\"]]*100/(vector[[\"Yes\"]] + vector[[\"No\"]]), 1), \n",
    "                                  \")\")\n",
    "                             )\n",
    "   df_string = string %>% data.frame()\n",
    "   names(df_string) = c(\"string\")\n",
    "   df_string[[\"group\"]] = row.names(df_string)\n",
    "   inner_join(table_count, df_string, by = \"group\")         \n",
    "}"
   ]
  },
  {
   "cell_type": "code",
   "execution_count": null,
   "metadata": {
    "lines_to_next_cell": 0
   },
   "outputs": [],
   "source": [
    "## Binary outcomes : binomial CI + logistic regression\n",
    "binary_outcomes_analysis <- function(binary_outcomes,\n",
    "                                     covariates, \n",
    "                                     data) {\n",
    "    list_results_outcomes <- list()\n",
    "    for (binary_outcome in binary_outcomes) {\n",
    "      if (binary_outcome %in% secondary_outcomes_death) {\n",
    "          model_covariates = covariates\n",
    "      } else {\n",
    "          model_covariates = 'rand_trt'\n",
    "      }\n",
    "      fitted_model <- fitted_logisticr(outcome = binary_outcome, \n",
    "                                        covariates = model_covariates, \n",
    "                                        data = data)\n",
    "      df_logistr <- dm_result_logistr(fitted_model, binary_outcome)\n",
    "        \n",
    "\n",
    "     table_count <- get_table_count(data, binary_outcome, safety_outcomes)\n",
    "\n",
    "      df_differences <- BinomDiffCI(\n",
    "          x1 = as.numeric(\n",
    "              table_count[table_count$group == 'Placebo' & \n",
    "                          table_count$attribute == 'Yes',\n",
    "                          'value']\n",
    "              ), \n",
    "          n1 = sum(table_count[table_count$group == 'Placebo' & \n",
    "                                       table_count$attribute %in% c('Yes', 'No'),\n",
    "                                        'value'] ),\n",
    "          x2 = as.numeric(table_count[table_count$group == 'Hydroxychloroquine' & \n",
    "                                       table_count$attribute == 'Yes',\n",
    "                                        'value']),\n",
    "          n2 = sum(table_count[table_count$group == 'Hydroxychloroquine' & \n",
    "                                       table_count$attribute %in% c('Yes', 'No'),\n",
    "                                        'value'] ),\n",
    "                  method = \"wald\") %>%\n",
    "        round(3) %>%\n",
    "        `*`(100) %>% \n",
    "        t() %>%\n",
    "        data.frame(value = .)\n",
    "      df_differences[[\"string\"]] = paste0(df_differences[\"est\", \"value\"], \n",
    "       \" (\", \n",
    "       df_differences[\"lwr.ci\", \"value\"], \n",
    "       \" to \", \n",
    "       df_differences[\"upr.ci\", \"value\"],\n",
    "       \")\")\n",
    "\n",
    "      df_differences[['entity']] = 'unadjusted'\n",
    "      df_differences[['attribute']] = row.names(df_differences)\n",
    "      df_differences[['group']] = 'all'  \n",
    "      df_differences[['outcome_type']] = if (binary_outcome %in% safety_outcomes) 'Safety Outcomes' else 'Outcomes'\n",
    "      col_order = c('group', 'entity', 'attribute', 'value', 'outcome_type', \"string\")\n",
    "      df_result_outcome <- list(df_logistr, table_count, df_differences) %>% \n",
    "        lapply(function(df) df[col_order]) %>%\n",
    "        do.call(rbind, args = .)\n",
    "      row.names(df_result_outcome) <- NULL\n",
    "      list_results_outcomes[[binary_outcome]] <- df_result_outcome\n",
    "    }\n",
    "  return(list_results_outcomes)\n",
    "}"
   ]
  },
  {
   "cell_type": "code",
   "execution_count": null,
   "metadata": {
    "lines_to_next_cell": 0
   },
   "outputs": [],
   "source": [
    "data_manage_results <- function(list_results_ordered, list_results_binary) {\n",
    "    outcome_comparison <- do.call(rbind, c(list_results_ordered, list_results_binary, deparse.level = 0))\n",
    "    outcome_comparison[['outcome']] <- gsub('\\\\.[0-9]+$', '', row.names(outcome_comparison))\n",
    "    row.names(outcome_comparison) <- NULL\n",
    "    outcome_comparison$outcome_type <- factor(outcome_comparison$outcome_type,\n",
    "                                              levels = c('Outcomes', 'Safety Outcomes'))\n",
    "    outcome_comparison$outcome <- factor(outcome_comparison$outcome, \n",
    "                                         levels = c(safety_outcomes, \n",
    "                                                    secondary_outcomes_daysfree, \n",
    "                                                    secondary_outcomes_death, \n",
    "                                                    secondary_outcomes_ccs, \n",
    "                                                    primary_outcome_name)\n",
    "                                         )\n",
    "    return(outcome_comparison)\n",
    "}\n",
    "\n",
    "data_manage_table <- function(outcome_comparison) {\n",
    "    outcome_models <- outcome_comparison[c(\"string\", \"outcome\", \"entity\")] %>%\n",
    "    filter(entity %in% c(\"unadjusted\", \"adjusted\")) %>%\n",
    "    unique() %>%\n",
    "    pivot_wider(names_from = \"entity\", values_from = \"string\")\n",
    "    outcome_counts <- outcome_comparison[c(\"string\", \"outcome\", \"group\", \"entity\")] %>%\n",
    "    filter(entity %in% c(\"count\")) %>%\n",
    "    unique() %>%\n",
    "    pivot_wider(names_from = \"group\", values_from = \"string\")\n",
    "    table_results_outcomes <- inner_join(outcome_models, outcome_counts, by = \"outcome\") %>%\n",
    "      as.data.frame()\n",
    "    row.names(table_results_outcomes) <- outcomes_labels[as.character(table_results_outcomes$outcome)]\n",
    "    table_results_outcomes <- table_results_outcomes[!names(table_results_outcomes) %in% c(\"outcome\", \"entity\")]\n",
    "    \n",
    "    list_renaming_columns <- c(    \n",
    "        \"Hydroxychloroquine\" = \"Hydroxychloroquine (n = 242)\",\n",
    "        \"Placebo\" = \"Placebo (n = 237)\",\n",
    "        \"unadjusted\" = \"Unadjusted absolute difference (95% CI)\",\n",
    "        \"adjusted\" = \"Adjusted odds ratio or odds ratio (95% CI)\"\n",
    "    )\n",
    "    table_results_outcomes <- table_results_outcomes[names(list_renaming_columns)]\n",
    "    names(table_results_outcomes) <- list_renaming_columns[names(table_results_outcomes)]\n",
    "    return(table_results_outcomes)\n",
    "}"
   ]
  },
  {
   "cell_type": "markdown",
   "metadata": {},
   "source": [
    "## Outcomes Analyses"
   ]
  },
  {
   "cell_type": "markdown",
   "metadata": {},
   "source": [
    "The outcomes will be analyzed in univariate and multivariate analyses. The multivariable model adjust the treatment effect on 5 confoundings: \n",
    "- Age at baseline\n",
    "- Gender\n",
    "- COVID clinical scale evaluated at baseline (treated as a covariate with 3 levels: 1. invasive or non-invasive ventilation, 2. oxygen supplementation, and 3. no oxygen supplementation)\n",
    "- SOFA score at baseline\n",
    "- Time between inclusion and symptoms onset"
   ]
  },
  {
   "cell_type": "code",
   "execution_count": null,
   "metadata": {
    "lines_to_next_cell": 2
   },
   "outputs": [],
   "source": [
    "# Creation of dummy variables based on the COVID clinical scale at inclusion \n",
    "oo_scale1_l3 <- ifelse(as.numeric(orchid_data$covid_ooscale_1) == 3, \n",
    "                      TRUE, \n",
    "                      FALSE)\n",
    "oo_scale1_l4 <- ifelse(as.numeric(orchid_data$covid_ooscale_1) == 4, \n",
    "                      TRUE, \n",
    "                      FALSE)\n",
    "oo_scale1_l5 <- ifelse(as.numeric(orchid_data$covid_ooscale_1) == 5, \n",
    "                      TRUE, \n",
    "                      FALSE)\n",
    "\n",
    "orchid_data$sex_dm <- ifelse(\n",
    "    orchid_data$bl_sex == \"Other/Unknown\", \n",
    "    NA,\n",
    "    orchid_data$bl_sex\n",
    ")\n",
    "\n",
    "# Set of variables included in the adjusted model\n",
    "covariates <- c('rand_trt',\n",
    "                'bl_age',\n",
    "                'sex_dm',\n",
    "                'd_sofa_gcs',\n",
    "                'bl_symptomdt', \n",
    "                \"oo_scale1_l3\",\n",
    "                \"oo_scale1_l4\",\n",
    "                \"oo_scale1_l5\")"
   ]
  },
  {
   "cell_type": "code",
   "execution_count": null,
   "metadata": {
    "lines_to_next_cell": 0
   },
   "outputs": [],
   "source": [
    "list_results_ordered <- ordered_factors_analysis(ordered_outcome_names, \n",
    "                                                 covariates = covariates, \n",
    "                                                 data = orchid_data)\n",
    "\n",
    "list_results_binary <- binary_outcomes_analysis(c(secondary_outcomes_death, safety_outcomes), \n",
    "                                                covariates,\n",
    "                                                orchid_data)"
   ]
  },
  {
   "cell_type": "code",
   "execution_count": null,
   "metadata": {
    "lines_to_next_cell": 0
   },
   "outputs": [],
   "source": [
    "outcome_comparison <- data_manage_results(list_results_ordered, list_results_binary)\n",
    "table_results_outcomes <- data_manage_table(outcome_comparison)"
   ]
  },
  {
   "cell_type": "code",
   "execution_count": null,
   "metadata": {
    "lines_to_next_cell": 0
   },
   "outputs": [],
   "source": [
    "table_results <- table_results_outcomes %>%\n",
    "  kable(caption=\"Effect of Hydroxychloroquine on COVID Outcomes Scale\") %>%\n",
    "  kable_minimal() %>%\n",
    "  pack_rows('Primary Outcome', 1, 1, indent = FALSE, label_row_css = \"text-align: left; font-style: italic\") %>%\n",
    "  pack_rows('Secondary Outcomes', 2, 2, indent = FALSE, label_row_css = \"text-align: left; font-style: italic\") %>%\n",
    "  pack_rows('COVID Outcomes Scale score, median (IQR)', 2, 4, indent = TRUE, label_row_css = \"text-align: left\") %>%\n",
    "  pack_rows('Support-free days through day 28, median (IQR)', 6, 10, indent = TRUE, label_row_css = \"text-align: left\") %>%\n",
    "  pack_rows('All-cause, all-location death, No. (%)', 11, 12, indent = TRUE, label_row_css = \"text-align: left\") %>%\n",
    "  pack_rows('Systematically collected safety events, No. (%)', 14, 19, indent = FALSE, label_row_css = \"text-align: left; font-style: italic\") %>%\n",
    "  as.character() %>%\n",
    "str_replace_all(c(\"Primary Outcome\"),\n",
    "            replacement = function(string) paste0(string, '<hr>')) %>%\n",
    "str_replace_all(c(\"Secondary Outcomes\"),\n",
    "            replacement = function(string) paste0(string, '<hr>')) %>%\n",
    "str_replace_all(c(\"Systematically collected safety events, No\\\\. \\\\(\\\\%\\\\)\"),\n",
    "            replacement = function(string) paste0(string, '<hr>')) %>%\n",
    "str_replace(\"Placebo \\\\(n = 237\\\\)\",\n",
    "            replacement = \"Placebo <br>(n = 237)\") %>%\n",
    "str_replace(\"Hydroxychloroquine \\\\(n = 242\\\\)\",\n",
    "            replacement = \"Hydroxychloroquine <br>(n = 242)\") %>%\n",
    "str_replace(\"COVID Outcomes Scale score, median \\\\(IQR\\\\) at Day 14\",\n",
    "            replacement = \"<b>Outcomes Scale score, median (IQR) at Day 14</b>\") %>%\n",
    "  as.character() %>%\n",
    "  IRdisplay::display_html()  "
   ]
  },
  {
   "cell_type": "code",
   "execution_count": null,
   "metadata": {},
   "outputs": [],
   "source": [
    "forest_plot <- function(table_results_outcomes, outcomes_labels) {\n",
    "  outcomes_labels[\"d_covid15\"] <- \"**COVID Outcomes Scale score, median (IQR) at Day 14**\"\n",
    "  plt <- table_results_outcomes[table_results_outcomes$entity == 'adjusted' & \n",
    "                          ! is.na(table_results_outcomes$value), ] %>%\n",
    "  pivot_wider(names_from = attribute, values_from = value) %>%\n",
    "ggplot(aes(x = outcome, y = OR, ymin = `2.5%`, ymax = `97.5%`)) + \n",
    "  geom_pointrange() + \n",
    "  coord_flip() + \n",
    "  facet_grid(outcome_type ~ . ,\n",
    "             scales = 'free', \n",
    "            space = 'free', \n",
    "            switch = 'y') +\n",
    "  geom_hline(yintercept = 1) +\n",
    "  scale_x_discrete(labels=outcomes_labels) +\n",
    "  # scale_y_continuous(labels=c(0, 1, 2, 4, 6, 8)) +\n",
    "  orchid_gg_theme(panel.spacing = unit(2, \"lines\"), \n",
    "                 axis.text.y = element_markdown()) + \n",
    "  labs(title = 'Hydroxychloroquine adjusted effects on the outcomes', \n",
    "      x = '', \n",
    "      y = 'Odds Ratio')\n",
    "  return(plt)\n",
    "}"
   ]
  },
  {
   "cell_type": "code",
   "execution_count": null,
   "metadata": {},
   "outputs": [],
   "source": [
    "suppressWarnings(print(forest_plot(outcome_comparison, outcomes_labels)))"
   ]
  },
  {
   "cell_type": "markdown",
   "metadata": {},
   "source": [
    "## Survival Outcomes"
   ]
  },
  {
   "cell_type": "markdown",
   "metadata": {},
   "source": [
    "## All-cause survival"
   ]
  },
  {
   "cell_type": "markdown",
   "metadata": {},
   "source": [
    "Survival has been analyzed through a Kaplan-Meïer curve. The difference in survival curve was tested using a log-rank test. The adjusted treatment effect for all-cause death was estimated using an adjusted hazard regression model."
   ]
  },
  {
   "cell_type": "code",
   "execution_count": null,
   "metadata": {},
   "outputs": [],
   "source": [
    "CENSOR_TIME <- 28"
   ]
  },
  {
   "cell_type": "code",
   "execution_count": null,
   "metadata": {
    "lines_to_next_cell": 2
   },
   "outputs": [],
   "source": [
    "orchid_data$death_within_28 <- ifelse(\n",
    "    orchid_data$vs_deathdt <= 28,\n",
    "    1, \n",
    "    0\n",
    ") %>% replace_na(0)\n",
    "\n",
    "orchid_data$death_fu <- orchid_data$d_lastalivedt + 1\n",
    "no_fu_individuals <- apply(orchid_data[c('vs_alivedt', 'vs_deathdt')],\n",
    "                                      1,\n",
    "                                      function(x) sum(is.na(x)) == 2)\n",
    "\n",
    "survival_data <- orchid_data[!no_fu_individuals, ]\n",
    "\n",
    "survival_data$fu_death_28 <- pmin(28, \n",
    "                            survival_data$vs_alivedt,\n",
    "                            survival_data$vs_deathdt,\n",
    "                           na.rm = TRUE)\n",
    "\n",
    "coxph_death <- coxph(Surv(time = survival_data$fu_death_28,\n",
    "                          event = survival_data$death_within_28) ~\n",
    "                       rand_trt + bl_age + bl_sex + covid_ooscale_1 + d_sofa_gcs_s + bl_symptomdt,\n",
    "                     data = survival_data)\n",
    "\n",
    "\n",
    "survfit_death <- survfit(Surv(time = survival_data$fu_death_28,\n",
    "                              event = survival_data$death_within_28) ~ rand_trt,\n",
    "                         data = survival_data)"
   ]
  },
  {
   "cell_type": "code",
   "execution_count": null,
   "metadata": {
    "lines_to_next_cell": 2
   },
   "outputs": [],
   "source": [
    "death_plot <- ggsurvplot(survfit_death,\n",
    "           xlim = c(1, 28),\n",
    "           size = 1.3,                 \n",
    "           palette = c(\"#275057\", \"#F4890B\"),\n",
    "           conf.int = FALSE,          \n",
    "           pval = TRUE,              \n",
    "           risk.table = FALSE,        \n",
    "           risk.table.col = \"strata\",\n",
    "           legend.labs =c(\"Placebo\", \"Hydroxychloroquine\"),\n",
    "           risk.table.height = 0.25,\n",
    "           ggtheme = theme_bw() +  theme(\n",
    "        text = element_text(size=20),\n",
    "        axis.text.x = element_text(angle=0, hjust=0.5)),\n",
    "           combine = TRUE,\n",
    "           keep_data = TRUE,\n",
    "           type=\"cuminc\",\n",
    "           title = \"Survival Through 28 Days Following Randomization\",\n",
    ")\n",
    "\n",
    "death_plot"
   ]
  },
  {
   "cell_type": "markdown",
   "metadata": {},
   "source": [
    "### Hospital discharge "
   ]
  },
  {
   "cell_type": "markdown",
   "metadata": {},
   "source": [
    "Time to hospital-discharge between treatment groups has been analyzed using a Fin and Gray Model, treating death as a competing risk. A patient was considered discharged at first hospital discharge, regardless of eventual re-hospitalization or death occurring afterwards.\n",
    "\n",
    "Adjusted treatment effect on time to hospital-discharge was estimated using an adjusted hazard regression model."
   ]
  },
  {
   "cell_type": "code",
   "execution_count": null,
   "metadata": {},
   "outputs": [],
   "source": [
    "discharge_data <- orchid_data\n",
    "\n",
    "discharge_data$discharge_status <- with(discharge_data, \n",
    "                        ifelse(!is.na(vs_deathdt) & !is.na(iho_dischdt), \n",
    "                               ifelse(vs_deathdt <= iho_dischdt, \n",
    "                                      \"dead\",\n",
    "                                      \"discharged\"),\n",
    "                               ifelse(!is.na(vs_deathdt),\n",
    "                                      \"dead\",\n",
    "                                      ifelse(!is.na(iho_dischdt),\n",
    "                                             \"discharged\",\n",
    "                                             \"censored\")\n",
    "                                     )\n",
    "                               )\n",
    ") %>% factor(levels = c(\"censored\", \"discharged\", \"dead\"))\n",
    "discharge_data$discharge_dt <- with(discharge_data, \n",
    "                                    ifelse(                                        \n",
    "                                        discharge_status == \"discharged\", \n",
    "                                        iho_dischdt, \n",
    "                                        ifelse(discharge_status == \"dead\", \n",
    "                                              vs_deathdt, \n",
    "                                              ifelse(discharge_status == \"censored\", \n",
    "                                                    vs_alivedt, \n",
    "                                                    NA)\n",
    "                                              )\n",
    "                                        )\n",
    "                                    ) %>%\n",
    "ifelse(. <= CENSOR_TIME, ., CENSOR_TIME)"
   ]
  },
  {
   "cell_type": "code",
   "execution_count": null,
   "metadata": {},
   "outputs": [],
   "source": [
    "discharge_fit <- cmprsk::cuminc(\n",
    "    ftime = discharge_data$discharge_dt, \n",
    "    fstatus = as.numeric(discharge_data$discharge_status), \n",
    "    cencode = 1, \n",
    "    group = as.numeric(discharge_data$rand_trt)\n",
    ")\n",
    "pvalue_gray <- round(discharge_fit[[\"Tests\"]][1, \"pv\"], 2)"
   ]
  },
  {
   "cell_type": "code",
   "execution_count": null,
   "metadata": {},
   "outputs": [],
   "source": [
    "survfit_discharge <- survfit(Surv(\n",
    "    discharge_data$discharge_dt, \n",
    "    ifelse(discharge_data$discharge_status == \"discharged\", 1, 0), \n",
    "    ) ~ rand_trt, \n",
    "    data = discharge_data[c(\"discharge_dt\", \"discharge_status\", \"rand_trt\")]\n",
    "                            )\n",
    "\n",
    "ggsurvplot(\n",
    "  survfit_discharge, \n",
    "  xlim = c(1, 28),\n",
    "  size = 1.3,\n",
    "  risk.table = FALSE,        \n",
    "  palette = c(\"#F4890B\", \"#275057\"),\n",
    "  conf.int = FALSE,          \n",
    "  pval = pvalue_gray,              \n",
    "  risk.table.col = \"strata\",\n",
    "  legend.labs = c(\"Hydroxychloroquine\", \"Placebo\"),\n",
    "  risk.table.height = 0.25,\n",
    "  ggtheme = theme_bw() +  theme(\n",
    "  text = element_text(size=20),\n",
    "  axis.text.x = element_text(angle=0, hjust=0.5)),\n",
    "  combine = TRUE,\n",
    "  keep_data = TRUE,\n",
    "  linetype = 'strata',\n",
    "  fun = 'event',\n",
    "  type = \"cuminc\",\n",
    "  title = \"Hospital Discharge Through 28 Days Following Randomization\"\n",
    ")"
   ]
  },
  {
   "cell_type": "markdown",
   "metadata": {},
   "source": [
    "# Sensitivity Analyses"
   ]
  },
  {
   "cell_type": "markdown",
   "metadata": {},
   "source": [
    "This notebook can also be useful to kick-start new analyses. The heavy lifting data management has already been done and allows the user to begin expanding on the original work quickly. As an example, we are going to focus on the lab trajectories in the different treatment groups, and how it is related to the use of premedication by azithromycin."
   ]
  },
  {
   "cell_type": "markdown",
   "metadata": {},
   "source": [
    "## Time to recovery associated with premedications"
   ]
  },
  {
   "cell_type": "code",
   "execution_count": null,
   "metadata": {},
   "outputs": [],
   "source": [
    "premedications <- c(\n",
    "        \"prmed_chlor\",\n",
    "        \"prmed_hydroxychlor\",\n",
    "        \"prmed_remdesivir\",\n",
    "        \"prmed_lopinavir\",\n",
    "        \"prmed_corticoster\",\n",
    "        \"prmed_tocilizumab\",\n",
    "        \"prmed_sarilumab\",\n",
    "        \"prmed_interferon\",\n",
    "        \"prmed_azithro\"\n",
    "    )"
   ]
  },
  {
   "cell_type": "code",
   "execution_count": null,
   "metadata": {},
   "outputs": [],
   "source": [
    "coos_df <- orchid_data %>%\n",
    "  dplyr::select(subject_id, covid_ooscale_1, prmed_azithro, starts_with(\"d_covid\")) %>%\n",
    "  pivot_longer(cols = c(starts_with(\"d_covid\"), covid_ooscale_1),\n",
    "               names_to = \"date\",\n",
    "               values_to = \"COOS\") %>%\n",
    "  mutate(COOS =  fct_rev(COOS)) %>%\n",
    "  mutate(COOS = recode(COOS, !!!covid_ooscale_renaming))"
   ]
  },
  {
   "cell_type": "code",
   "execution_count": null,
   "metadata": {},
   "outputs": [],
   "source": [
    "table_outcomes_count <- coos_df %>%\n",
    "  filter(date %in% c(\"covid_ooscale_1\", \"d_covid15\", \"d_covid29\")) %>%\n",
    "  mutate(prmed_azithro = as.factor(prmed_azithro)) %>%\n",
    "  mutate(prmed_azithro = fct_recode(relevel(prmed_azithro, 'Yes'),\n",
    "                               \"Yes\\n(n=150)\" = \"Yes\",\n",
    "                               \"No\\n(n=329)\" = \"No\"),\n",
    "         date = fct_recode(date,\n",
    "                           \"At randomization\" = \"covid_ooscale_1\", \n",
    "                           \"14 d After randomization\\n(primary outcome)\" = \"d_covid15\",\n",
    "                           \"28 d After randomization\\n(secondary outcome)\" = \"d_covid29\"))\n",
    " "
   ]
  },
  {
   "cell_type": "code",
   "execution_count": null,
   "metadata": {},
   "outputs": [],
   "source": [
    "table_count_azithro <- table_outcomes_count %>%\n",
    "  group_by(prmed_azithro, COOS, date) %>%\n",
    "  summarize(count = n()) %>%\n",
    "  group_by(prmed_azithro, date) %>%\n",
    "  mutate(percentage = round(count/sum(count) * 100, 1)) %>%\n",
    "  mutate(string = glue::glue(\"{count} ({percentage}%)\", count = count, percentage = percentage)) %>% \n",
    "  pivot_wider(id_cols = c(COOS),\n",
    "              names_from = c(date, prmed_azithro), \n",
    "              values_from = string) %>%\n",
    "  arrange(desc(COOS))\n",
    "table_count_azithro <- table_count_azithro %>%\n",
    "  mutate(across(colnames(table_count_azithro)[-1], replace_na, \"0 (0%)\")) %>%\n",
    "  `[`(c(1, 4, 7, 2, 5, 3, 6))\n",
    "table_count_azithro"
   ]
  },
  {
   "cell_type": "code",
   "execution_count": null,
   "metadata": {},
   "outputs": [],
   "source": [
    "names(table_count_azithro) <-  c(\"COOS\", \n",
    "         \"Yes (n=150)\",\n",
    "         \"No (n=329)\",\n",
    "         \"Yes (n=150)\",\n",
    "         \"No (n=329)\",\n",
    "         \"Yes (n=150)\",\n",
    "         \"No (n=329)\")\n",
    "table_count_azithro %>%\n",
    "kbl() %>%\n",
    "kable_minimal() %>% \n",
    "kable_styling(bootstrap_options = c(\"striped\"), \n",
    "                                full_width = FALSE,\n",
    "                                 position = \"left\", \n",
    "                                 font_size = 12) %>%\n",
    "  column_spec(1, width = \"20em\") %>%\n",
    "  column_spec(2, width = \"10em\") %>% \n",
    "  column_spec(3, width = \"10em\") %>% \n",
    "add_header_above(c(\" \" = 1, \"At randomization\" = 2, \n",
    "                  \"14 d After randomization\" = 2, \n",
    "                  \"28 d After randomization\" = 2),\n",
    "                 align = 'left') %>%\n",
    "as.character() %>%\n",
    "IRdisplay::display_html()"
   ]
  },
  {
   "cell_type": "code",
   "execution_count": null,
   "metadata": {},
   "outputs": [],
   "source": [
    "plot_count_COOS <- table_outcomes_count %>%\n",
    "  ggplot() +\n",
    "  geom_bar(aes(x = prmed_azithro, fill = COOS), \n",
    "           width = 0.4, position=\"fill\", colour = \"black\") +\n",
    "  scale_y_continuous(labels = scales::percent,\n",
    "                     n.breaks = 6,\n",
    "                     limits = c(0, 1)) +\n",
    "  facet_grid( ~ date) +\n",
    "  scale_fill_brewer(palette = \"Oranges\") +\n",
    "  orchid_gg_theme(plot.title = element_markdown()) +\n",
    "  labs(title=\"Clinical Status on the Coronavirus Disease (COVID) Outcomes Scale 14 Days and 28 Days After Randomization\",\n",
    "       fill = \"Clinical status (COVID Outcomes Scale category)\"\n",
    "       ) +\n",
    "  xlab(\"Premedication by azithromycin\") +\n",
    "  ylab(\"Patients with clinical status, %\")\n",
    "\n",
    "plot_data <- ggplot_build(plot_count_COOS)$data\n",
    "line_data <- plot_data[[1]] %>%\n",
    "    mutate(x_line = if_else(x == 1, xmax, xmin), \n",
    "           date = as.factor(if_else(PANEL == 1, \n",
    "                                    \"At randomization\",\n",
    "                                    ifelse(PANEL == 2,\n",
    "                                           \"14 d After randomization\\n(primary outcome)\",\n",
    "                                           \"28 d After randomization\\n(secondary outcome)\"\n",
    "                                           )\n",
    "                            ))\n",
    "          )\n",
    "         \n",
    "plot_count_COOS <- plot_count_COOS + \n",
    "    geom_line(data = line_data,\n",
    "              aes(x = x_line, y = ymax, group = fill), \n",
    "              linetype = \"dashed\"\n",
    "              )\n",
    "print(plot_count_COOS)"
   ]
  },
  {
   "cell_type": "markdown",
   "metadata": {},
   "source": [
    "This plot represents the patients' clinical status according to day 0, 14, and 28 from randomization. It shows that, overall, patients who received premedication with azithromycin had more severe clinical baseline status. This translated into more severe outcomes at the different time points (day 14 and 28 from randomization)."
   ]
  },
  {
   "cell_type": "markdown",
   "metadata": {},
   "source": [
    "## Premedications and labs trajectories"
   ]
  },
  {
   "cell_type": "code",
   "execution_count": null,
   "metadata": {},
   "outputs": [],
   "source": [
    "labs_names <- list(\n",
    "    labs_wbch = \"Highest white blood cell count (/mm3)\", \n",
    "    labs_wbcl = \"Lowest white blood cell count (/mm3)\", \n",
    "    labs_hemol = \"Lowest hemoglobin (g/dl)\", \n",
    "    labs_plateletl = \"Lowest platelet count (/mm3; in thousands)\", \n",
    "    labs_sodiumh = \"Highest sodium (mEq/L)\", \n",
    "    labs_sodiuml = \"Lowest sodium (mEq/L)\", \n",
    "    labs_potassiumh = \"Highest potassium (mEq/L)\", \n",
    "    labs_potassiuml = \"Lowest potassium (mEq/L)\", \n",
    "    labs_chlorideh = \"Highest chloride (mEq/L)\", \n",
    "    labs_bicarbonateh = \"Highest bicarbonate (mEq/L)\", \n",
    "    labs_bicarbonatel = \"Lowest bicarbonate (mEq/L)\", \n",
    "    labs_bunh = \"Highest BUN - Blood Urea Nitrogen (mg/dL)\", \n",
    "    labs_creath = \"Highest creatinine (mg/dL)\", \n",
    "    labs_troph = \"Highest troponin (mg/dL)\", \n",
    "    labs_asth = \"Highest AST - Aspartate aminotransferase (units per liter)\", \n",
    "    labs_alth = \"Highest ALT - Alanine aminotransferase (units per liter)\", \n",
    "    labs_alph = \"Highest ALP - Alkaline Phosphatase (IU/L)\", \n",
    "    labs_totbilih = \"Highest total bilirubin (mg/dL)\", \n",
    "    labs_albuminl = \"Lowest albumin (g/dL)\", \n",
    "    labs_ptth = \"Highest PTT - Partial Thromboplastin Time (seconds)\", \n",
    "    labs_inrh = \"Highest INR - International Normalized R\"\n",
    ")"
   ]
  },
  {
   "cell_type": "code",
   "execution_count": null,
   "metadata": {},
   "outputs": [],
   "source": [
    "list_names = list()\n",
    "for (labs in names(labs_names)) {\n",
    "    list_names[[labs]] <- grep(labs, names(orchid_data), value = TRUE)\n",
    "}\n",
    "orchid_labs_names <- do.call(c, list_names) %>% unname()"
   ]
  },
  {
   "cell_type": "code",
   "execution_count": null,
   "metadata": {},
   "outputs": [],
   "source": [
    "labs_long <- orchid_data[c(\"Patient ID\", \"rand_trt\", \"prmed_azithro\", orchid_labs_names)] %>%\n",
    "    pivot_longer(cols = all_of(orchid_labs_names), \n",
    "                 names_sep = \"_(?=[0-9]$)\", \n",
    "                 names_to = c(\"labs\", \"day\"),\n",
    "                 values_to = \"values\") %>%\n",
    "    mutate(day = as.numeric(as.character(day)))"
   ]
  },
  {
   "cell_type": "code",
   "execution_count": null,
   "metadata": {},
   "outputs": [],
   "source": [
    "summarized_labs <- labs_long %>% \n",
    "    group_by(rand_trt, prmed_azithro, labs, day) %>%\n",
    "    summarise(mean = mean(values, na.rm = TRUE), \n",
    "              count = n(), \n",
    "              sd = sd(values, na.rm = TRUE)) %>%\n",
    "   ungroup()"
   ]
  },
  {
   "cell_type": "code",
   "execution_count": null,
   "metadata": {},
   "outputs": [],
   "source": [
    "summarized_labs <- labs_long %>% \n",
    "    group_by(rand_trt, prmed_azithro, labs, day) %>%\n",
    "    summarise(mean = mean(values, na.rm = TRUE), \n",
    "              count = n(), \n",
    "              sd = sd(values, na.rm = TRUE)) %>%\n",
    "   ungroup()"
   ]
  },
  {
   "cell_type": "code",
   "execution_count": null,
   "metadata": {},
   "outputs": [],
   "source": [
    "labs_long %>%\n",
    "group_by(prmed_azithro, labs, day) %>%\n",
    "summarise(median = median(values, na.rm = TRUE),\n",
    "          mean = mean(values, na.rm = TRUE),\n",
    "          sd = sd(values, na.rm = TRUE), \n",
    "          n_obs = n()) %>% \n",
    "mutate(labs = recode(labs, !!!labs_names), \n",
    "       prmed_azithro = relevel(prmed_azithro, ref = \"Yes\")) %>% {\n",
    "ggplot(., aes(x = day, \n",
    "           y = mean, \n",
    "           color = prmed_azithro, \n",
    "           shape = prmed_azithro)) +\n",
    "geom_point(aes(size=n_obs)) +\n",
    "geom_line() + \n",
    "# geom_errorbar(aes(ymin = pmax(0, mean - sd), ymax = mean + sd), width = 0.2) +\n",
    "scale_size_binned() +\n",
    "scale_color_brewer(palette = \"Set1\") +\n",
    "facet_wrap(\"labs\", scale = \"free_y\", labeller = label_wrap_gen(width=40)) + \n",
    "orchid_gg_theme() +\n",
    "    theme(strip.text.x = element_text(size=11)) +\n",
    "labs(title = \"Labs trajectory from Day 1 to 5, depending on premedication\", \n",
    "     subtitle = \"Premedication by azythromycin\", \n",
    "     x = \"Days from inclusion\", \n",
    "     y = \"Mean concentration\", \n",
    "     colour = \"Azithromycin\",\n",
    "     shape = \"Azithromycin\",\n",
    "     size = \"Observation count\")\n",
    "}\n"
   ]
  },
  {
   "cell_type": "markdown",
   "metadata": {},
   "source": [
    "Interpretation of these graphs: \n",
    "\n",
    "- The most significant differences occur in the average level of troponin: patients that had been prescribed Azithromycin had lower levels of troponin on average."
   ]
  },
  {
   "cell_type": "code",
   "execution_count": null,
   "metadata": {},
   "outputs": [],
   "source": [
    "labs_long[labs_long$labs == \"labs_asth\", ] %>%\n",
    "mutate(prmed_azithro = relevel(prmed_azithro, ref = \"Yes\")) %>%\n",
    "   ggplot(aes(x=day, y=values, colour=prmed_azithro)) +\n",
    "   geom_jitter(size=4) +\n",
    "   scale_colour_brewer(palette = \"Set1\") +\n",
    "   orchid_gg_theme() +\n",
    "labs(title = paste0(labs_names[[\"labs_asth\"]], \" concentation\"), \n",
    "     subtitle = \"Premedication by azythromycin\", \n",
    "     x = \"Days from inclusion\", \n",
    "     y = labs_names[[\"labs_troph\"]], \n",
    "     colour = \"Azithromycin\")\n",
    "   "
   ]
  },
  {
   "cell_type": "code",
   "execution_count": null,
   "metadata": {},
   "outputs": [],
   "source": [
    "labs_long[labs_long$labs == \"labs_alth\", ] %>%\n",
    "mutate(prmed_azithro = relevel(prmed_azithro, ref = \"Yes\")) %>%\n",
    "   ggplot(aes(x=day, y=values, colour=prmed_azithro)) +\n",
    "   geom_jitter(size=4) +\n",
    "   scale_colour_brewer(palette = \"Set1\") +\n",
    "   orchid_gg_theme() +\n",
    "labs(title = paste0(labs_names[[\"labs_alth\"]], \" concentation\"), \n",
    "     subtitle = \"Premedication by azythromycin\", \n",
    "     x = \"Days from inclusion\", \n",
    "     y = labs_names[[\"labs_troph\"]], \n",
    "     colour = \"Azithromycin\")\n",
    "   "
   ]
  },
  {
   "cell_type": "code",
   "execution_count": null,
   "metadata": {},
   "outputs": [],
   "source": [
    "labs_long[labs_long$labs == \"labs_alph\", ] %>%\n",
    "mutate(prmed_azithro = relevel(prmed_azithro, ref = \"Yes\")) %>%\n",
    "   ggplot(aes(x=day, y=values, colour=prmed_azithro)) +\n",
    "   geom_jitter(size=4) +\n",
    "   scale_colour_brewer(palette = \"Set1\") +\n",
    "   orchid_gg_theme() +\n",
    "labs(title = paste0(labs_names[[\"labs_alph\"]], \" concentation\"), \n",
    "     subtitle = \"Premedication by azythromycin\", \n",
    "     x = \"Days from inclusion\", \n",
    "     y = labs_names[[\"labs_troph\"]], \n",
    "     colour = \"Azithromycin\")\n",
    "   "
   ]
  },
  {
   "cell_type": "code",
   "execution_count": null,
   "metadata": {},
   "outputs": [],
   "source": [
    "labs_long[labs_long$labs == \"labs_troph\", ] %>%\n",
    "mutate(prmed_azithro = relevel(prmed_azithro, ref = \"Yes\")) %>%\n",
    "   ggplot(aes(x=day, y=values, colour=prmed_azithro)) +\n",
    "   geom_jitter(size=4) +\n",
    "   scale_colour_brewer(palette = \"Set1\") +\n",
    "   orchid_gg_theme() +\n",
    "labs(title = paste0(labs_names[[\"labs_troph\"]], \" concentation\"), \n",
    "     subtitle = \"Premedication by azythromycin\", \n",
    "     x = \"Days from inclusion\", \n",
    "     y = labs_names[[\"labs_troph\"]], \n",
    "     colour = \"Azithromycin\")\n",
    "   "
   ]
  },
  {
   "cell_type": "code",
   "execution_count": null,
   "metadata": {},
   "outputs": [],
   "source": [
    "labs_long[grepl(\"labs_totbilih\", labs_long$labs), ] %>%\n",
    "mutate(prmed_azithro = relevel(prmed_azithro, ref = \"Yes\")) %>%\n",
    "   ggplot(aes(x=day, y=values, colour=prmed_azithro)) +\n",
    "   geom_jitter(size=4) +\n",
    "   scale_colour_brewer(palette = \"Set1\") +\n",
    "   orchid_gg_theme() +\n",
    "labs(title = paste0(labs_names[[\"labs_totbilih\"]], \" concentation\"), \n",
    "     subtitle = \"Premedication by azythromycin\", \n",
    "     x = \"Days from inclusion\", \n",
    "     y = labs_names[[\"labs_totbilih\"]], \n",
    "     colour = \"Azithromycin\")\n",
    "   "
   ]
  }
 ],
 "metadata": {
  "jupytext": {
   "cell_metadata_filter": "name,-all",
   "main_language": "R",
   "notebook_metadata_filter": "-all"
  },
  "kernelspec": {
   "display_name": "R",
   "language": "R",
   "name": "ir"
  },
  "language_info": {
   "codemirror_mode": "r",
   "file_extension": ".r",
   "mimetype": "text/x-r-source",
   "name": "R",
   "pygments_lexer": "r",
   "version": "4.1.1"
  },
  "toc": {
   "base_numbering": 1,
   "nav_menu": {},
   "number_sections": true,
   "sideBar": true,
   "skip_h1_title": false,
   "title_cell": "Table of Contents",
   "title_sidebar": "Contents",
   "toc_cell": false,
   "toc_position": {},
   "toc_section_display": true,
   "toc_window_display": false
  }
 },
 "nbformat": 4,
 "nbformat_minor": 4
}
