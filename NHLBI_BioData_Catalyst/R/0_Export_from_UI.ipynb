{
 "cells": [
  {
   "cell_type": "markdown",
   "id": "f8fc210f",
   "metadata": {},
   "source": [
    "# Export data from User Interface (UI) to analysis workspace\n",
    "This is a tutorial notebook that walks through the process of exporting selected data from the *NHLBI BioData Catalyst® (BDC) Powered by PIC-SURE* User Interface, or UI, into an analysis workspace. This is done using the *BDC Powered by PIC-SURE (BDC-PIC-SURE)* Application Programming Interface, or API.\n",
    "\n",
    "------- \n",
    " \n",
    "## Introduction to exporting data into an analysis workspace with PIC-SURE\n",
    "\n",
    "Two things are needed to export data into an analysis workspace:\n",
    "1. Personalized access token: a user-specific token that tells PIC-SURE which studies a user is authorized to access\n",
    "2. Query ID: a token that describes the specific query that was built in the UI, for example, if a user has selected females with body mass index between 18 and 30 from the ARIC study\n",
    "\n",
    "Using these two components, the API can be used to export the selected data into the analysis workspace (in this case, where this Jupyter Notebook is being run). \n",
    "\n",
    "## Step 1: Getting your user-specific security token\n",
    "**Before running this notebook, please be sure to review the \"Get your security token\" documentation, which exists in the `README.md` file. It explains about how to get a security token, which is mandatory to access the databases.**\n",
    "\n",
    "## Step 2: Setting up your notebook\n",
    "\n",
    "### Pre-requisites for the notebook\n",
    "* python 3.6 or later\n",
    "* pip python package manager, already available in most systems with a python interpreter installed (link to pip)\n",
    "\n",
    "### Install packages to connect to the PIC-SURE API\n",
    "The first step to using the PIC-SURE API is to install the packages needed. The following code installs the PIC-SURE API components from GitHub, specifically:\n",
    "* PIC-SURE Client\n",
    "* PIC-SURE Adapter\n",
    "* BioData Catalyst PIC-SURE Adapter\n",
    "\n",
    "**Note that if you are using the dedicated PIC-SURE environment within the *BDC Powered by Seven Bridges (BDC-Seven Bridges)* platform, the necessary packages have already been installed.**\n",
    "\n",
    "*Troubleshooting: if you encounter an error while installing packages or connecting to a PIC-SURE resource, try restarting your kernel and trying again.*"
   ]
  },
  {
   "cell_type": "code",
   "execution_count": null,
   "id": "e1aa9994-cf44-43a2-8476-9f8dead0f512",
   "metadata": {},
   "outputs": [],
   "source": [
    "### Uncomment this code if you are not using the PIC-SURE environment in *BDC-Seven Bridges*, or if you do not have all the necessary dependencies installed.\n",
    "#install.packages(\"devtools\")"
   ]
  },
  {
   "cell_type": "code",
   "execution_count": null,
   "id": "591dc160-fa1e-4c24-a260-50946bdc1d2b",
   "metadata": {},
   "outputs": [],
   "source": [
    "Sys.setenv(TAR = \"/bin/tar\")\n",
    "options(unzip = \"internal\")\n",
    "devtools::install_github(\"hms-dbmi/pic-sure-r-client\", ref=\"master\", force=T, quiet=TRUE)\n",
    "devtools::install_github(\"hms-dbmi/pic-sure-r-adapter-hpds\", ref=\"master\", force=T, quiet=TRUE)\n",
    "devtools::install_github(\"hms-dbmi/pic-sure-biodatacatalyst-r-adapter-hpds\", ref=\"master\", force=T)\n",
    "library(hpds)"
   ]
  },
  {
   "cell_type": "markdown",
   "id": "f7eaa7b5",
   "metadata": {},
   "source": [
    "## Connecting to a PIC-SURE resource\n",
    "The following is required to get access to data through the PIC-SURE API: \n",
    "- Network URL\n",
    "- User-specific security token\n",
    "\n",
    "The following code specifies the network URL as the *BDC-PIC-SURE* URL and references the user-specific token saved as `token.txt`.\n",
    "\n",
    "If you have not already retrieved your user-specific token, please refer to the \"Get your security token\" section of the `README.md` file."
   ]
  },
  {
   "cell_type": "code",
   "execution_count": null,
   "id": "5b45c787",
   "metadata": {},
   "outputs": [],
   "source": [
    "PICSURE_network_URL = \"https://picsure.biodatacatalyst.nhlbi.nih.gov/picsure\"\n",
    "token_file <- \"token.txt\"\n",
    "token <- scan(token_file, what = \"character\")\n",
    "connection <- picsure::connect(PICSURE_network_URL, token)\n",
    "authPicSure = bdc::use.authPicSure(connection)"
   ]
  },
  {
   "cell_type": "markdown",
   "id": "0a4c52fd",
   "metadata": {},
   "source": [
    "## Step 3: Export data from a query built in the PIC-SURE UI using the Query ID\n",
    "\n",
    "You are able to retrieve the results of a query that you have previously built using the [PIC-SURE Authorized Access UI](https://picsure.biodatacatalyst.nhlbi.nih.gov/psamaui/). After you have built your query and filtered to your cohort of interest, open the **Select and Package Data** tool in the Tool Suite. This will allow you to copy your query ID and bring it in to a Jupyter notebook. **Note that query IDs are not permanent and may expire.**"
   ]
  },
  {
   "cell_type": "markdown",
   "id": "95cb6726",
   "metadata": {},
   "source": [
    "<img src=\"https://drive.google.com/uc?id=1XD3L0obdgQZ3GgO2Xu-sxhMxzzXgqofL\">"
   ]
  },
  {
   "cell_type": "code",
   "execution_count": null,
   "id": "4130556f",
   "metadata": {},
   "outputs": [],
   "source": [
    "# To run this using your notebook you must replace it with the ID value of a query that you have run.\n",
    "queryID <- '<<<Paste your Query ID here>>>'"
   ]
  },
  {
   "cell_type": "code",
   "execution_count": null,
   "id": "1abf5e0f",
   "metadata": {},
   "outputs": [],
   "source": [
    "# save the data as a dataframe\n",
    "results <- bdc::query.getResults(authPicSure, queryID)\n",
    "results <- read.delim(textConnection(results), sep = \",\")\n",
    "\n",
    "# view the first few records\n",
    "head(results)"
   ]
  },
  {
   "cell_type": "markdown",
   "id": "6480a1fd",
   "metadata": {},
   "source": [
    "The data has now been exported as a dataframe saved as `results` and is ready for analysis."
   ]
  },
  {
   "cell_type": "code",
   "execution_count": null,
   "id": "983017b4",
   "metadata": {},
   "outputs": [],
   "source": []
  }
 ],
 "metadata": {
  "kernelspec": {
   "display_name": "R",
   "language": "R",
   "name": "ir"
  },
  "language_info": {
   "codemirror_mode": "r",
   "file_extension": ".r",
   "mimetype": "text/x-r-source",
   "name": "R",
   "pygments_lexer": "r",
   "version": "4.1.3"
  },
  "toc": {
   "base_numbering": 1,
   "nav_menu": {},
   "number_sections": true,
   "sideBar": true,
   "skip_h1_title": false,
   "title_cell": "Table of Contents",
   "title_sidebar": "Contents",
   "toc_cell": false,
   "toc_position": {},
   "toc_section_display": true,
   "toc_window_display": false
  }
 },
 "nbformat": 4,
 "nbformat_minor": 5
}
