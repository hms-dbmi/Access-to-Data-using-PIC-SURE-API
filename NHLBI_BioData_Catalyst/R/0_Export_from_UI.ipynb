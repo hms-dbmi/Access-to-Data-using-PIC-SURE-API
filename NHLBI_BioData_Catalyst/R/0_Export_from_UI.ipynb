{
 "cells": [
  {
   "cell_type": "markdown",
   "id": "f8fc210f",
   "metadata": {},
   "source": [
    "# Export data from User Interface (UI) to analysis workspace\n",
    "This is a tutorial notebook that walks through the process of exporting selected data from the *NHLBI BioData Catalyst® (BDC) Powered by PIC-SURE* User Interface, or UI, into an analysis workspace. This is done using the *BDC Powered by PIC-SURE (BDC-PIC-SURE)* Application Programming Interface, or API.\n",
    "\n",
    "------- \n",
    " \n",
    "## Introduction to exporting data into an analysis workspace with PIC-SURE\n",
    "\n",
    "Two things are needed to export data into an analysis workspace:\n",
    "1. Personalized access token: a user-specific token that tells PIC-SURE which studies a user is authorized to access\n",
    "2. Query ID: a token that describes the specific query that was built in the UI, for example, if a user has selected females with body mass index between 18 and 30 from the ARIC study\n",
    "\n",
    "Using these two components, the API can be used to export the selected data into the analysis workspace (in this case, where this Jupyter Notebook is being run). \n",
    "\n",
    "## Step 1: Getting your user-specific security token\n",
    "**Before running this notebook, please be sure to review the \"Get your security token\" documentation, which exists in the [`README.md` file](../README.md). It explains how to get a security token, which is mandatory to use the PIC-SURE API.**\n",
    "\n",
    "To set up your token file, be sure to run the [`Workspace_setup.ipynb` file](./Workspace_setup.ipynb).\n",
    "\n",
    "## Step 2: Setting up your notebook\n",
    "\n",
    "### Pre-requisites for the notebook\n",
    "* python 3.6 or later\n",
    "* pip python package manager, already available in most systems with a python interpreter installed (link to pip)\n",
    "\n",
    "### Install packages to connect to the PIC-SURE API\n",
    "The first step to using the PIC-SURE API is to install the packages needed. The following code installs the PIC-SURE API components from GitHub, specifically:\n",
    "* PIC-SURE Client\n",
    "* PIC-SURE Adapter\n",
    "\n",
    "**Note that if you are using the dedicated PIC-SURE environment within the *BDC Powered by Seven Bridges (BDC-Seven Bridges)* platform, the necessary packages have already been installed.**\n",
    "\n",
    "*Troubleshooting: if you encounter an error while installing packages or connecting to a PIC-SURE resource, try restarting your kernel and trying again.*"
   ]
  },
  {
   "cell_type": "code",
   "execution_count": null,
   "id": "e1aa9994-cf44-43a2-8476-9f8dead0f512",
   "metadata": {},
   "outputs": [],
   "source": [
    "### Uncomment this code if you are not using the PIC-SURE environment in *BDC-Seven Bridges*, or if you do not have all the necessary dependencies installed.\n",
    "#install.packages(\"devtools\")"
   ]
  },
  {
   "cell_type": "code",
   "execution_count": null,
   "id": "591dc160-fa1e-4c24-a260-50946bdc1d2b",
   "metadata": {},
   "outputs": [],
   "source": [
    "Sys.setenv(TAR = \"/bin/tar\")\n",
    "options(unzip = \"internal\")\n",
    "devtools::install_github(\"hms-dbmi/pic-sure-r-adapter-hpds\", ref=\"main\", force=T, quiet=FALSE)\n",
    "library(dplyr)"
   ]
  },
  {
   "cell_type": "markdown",
   "id": "f7eaa7b5",
   "metadata": {},
   "source": [
    "## Connecting to a PIC-SURE resource\n",
    "The following is required to get access to data through the PIC-SURE API: \n",
    "- Network URL\n",
    "- User-specific security token\n",
    "\n",
    "The following code specifies the network URL as the *BDC-PIC-SURE* URL and references the user-specific token saved as `token.txt`.\n",
    "\n",
    "If you have not already retrieved your user-specific token, please refer to the \"Get your security token\" section of the `README.md` file and the `Workspace_setup.ipynb` file."
   ]
  },
  {
   "cell_type": "code",
   "execution_count": null,
   "id": "5b45c787",
   "metadata": {},
   "outputs": [],
   "source": [
    "PICSURE_network_URL = \"https://picsure.biodatacatalyst.nhlbi.nih.gov/picsure\"\n",
    "token_file <- \"token.txt\"\n",
    "token <- scan(token_file, what = \"character\")\n",
    "session <- picsure::bdc.initializeSession(PICSURE_network_URL, token)\n",
    "session <- picsure::bdc.setResource(session = session,  resourceName = \"AUTH\")"
   ]
  },
  {
   "cell_type": "markdown",
   "id": "0a4c52fd",
   "metadata": {},
   "source": [
    "## Step 3: Export data from a query built in the PIC-SURE UI using the Query ID\n",
    "\n",
    "You are able to retrieve the results of a query that you have previously built using the [PIC-SURE UI](https://picsure.biodatacatalyst.nhlbi.nih.gov/). After you have built your query and filtered to your cohort of interest, click the \"Prepare Data for Analysis\" button. This will allow you to copy your query ID and bring it into a Jupyter notebook."
   ]
  },
  {
   "cell_type": "code",
   "execution_count": null,
   "id": "4130556f",
   "metadata": {},
   "outputs": [],
   "source": [
    "# To run this using your notebook you must replace it with the ID value of a query that you have run.\n",
    "queryID <- 'paste your query ID here'\n",
    "\n"
   ]
  },
  {
   "cell_type": "code",
   "execution_count": null,
   "id": "1abf5e0f",
   "metadata": {},
   "outputs": [],
   "source": [
    "# save the data as a dataframe\n",
    "results <- picsure::getResultByQueryUUID(session, queryID)\n",
    "\n",
    "# view the first few records\n",
    "head(results)\n",
    "\n"
   ]
  },
  {
   "cell_type": "markdown",
   "id": "6480a1fd",
   "metadata": {},
   "source": [
    "The data has now been exported as a dataframe saved as `results` and is ready for analysis."
   ]
  },
  {
   "cell_type": "markdown",
   "id": "fa2dc55f-af26-454b-9783-eda6302a1b32",
   "metadata": {},
   "source": [
    "## Bonus: Edit from a query built in the PIC-SURE UI using the Query ID\n",
    "You can now use the PIC-SURE API to edit queries that were built in the PIC-SURE UI. To do this, follow the same steps outlined above to build a query, package the data, and retrieve a Query ID. "
   ]
  },
  {
   "cell_type": "code",
   "execution_count": null,
   "id": "7722ec2d-738f-40cc-bc81-01f896635efa",
   "metadata": {},
   "outputs": [],
   "source": [
    "# To run this using your notebook you must replace it with the ID value of a query that you have run.\n",
    "queryID <- 'paste your query ID here'\n",
    "query <- picsure::bdc.getQueryByUUID(session, queryID)\n",
    "\n",
    "\n"
   ]
  },
  {
   "cell_type": "markdown",
   "id": "c1654d9e-d605-4409-b6ae-dd68d1d9c92d",
   "metadata": {},
   "source": [
    "You can use the following code to view the filters and variables added for export. There are several different fields shown in this output.\n",
    "\n",
    "| Field | Meaning | Output | Example |\n",
    "|--------|-------------------|-------|-------|\n",
    "| query\\$fields | All variables included in the list (no record subsetting) | Automatically generated PIC-SURE variables; variables added to export | `\\\\_Topmed Study Accession with Subject ID\\\\`, <br />`\\\\_Parent Study Accession with Subject ID\\\\`, <br />`\\\\phs000820\\\\pht004333\\\\phv00219059\\\\sampleID\\\\` |\n",
    "| query\\$requiredFields | All variables; only records that do not contain null values for input variables | Variables filters to all values (such as selecting both \"Is a tumor\" and \"Is not a tumor\" for a \"Tumor status\" variable) | `\\\\phs000820\\\\pht004333\\\\phv00219063\\\\is_tumor\\\\` |\n",
    "| query\\$anyRecordOf | All variables; only records that contain at least one non-null value for input variables | Variables added from the Dataset modal | `\\\\phs000820\\\\pht004332\\\\phv00219058\\\\AfibYes\\\\` |\n",
    "| query\\$categoryFilters | Only records that match filter criteria for added categorical variables | Automatically generated PIC-SURE variables; variables that have been filtered (such as selecting only \"Male\" for a \"Sex\" variable | `$\\\\_consents\\\\ \\| ['phs000820.c1']`,<br /> `categorical \\| '\\\\phs000820\\\\pht004332\\\\phv00219057\\\\sex\\\\' \\| 'Male'`|\n",
    "| query\\$numericFilters | Only records that match filter criteria for added numeric variables | Variables that have been filtered (such as selecting participants between 30 and 70 years old | `\\\\phs000820\\\\pht004332\\\\phv00219056\\\\age\\\\\": \"min\": \"30\", \"max\": \"70\"`|"
   ]
  },
  {
   "cell_type": "code",
   "execution_count": null,
   "id": "ca940abf-c6e7-4ef9-aaeb-17794ca89e8e",
   "metadata": {},
   "outputs": [],
   "source": [
    "# View all of the selected \"fields\" added to the query\n",
    "query$fields\n"
   ]
  },
  {
   "cell_type": "code",
   "execution_count": null,
   "id": "507bc1b9-350d-4adb-b3a3-1427d91af5e7",
   "metadata": {},
   "outputs": [],
   "source": [
    "# View all of the \"requiredFields\" added to the query\n",
    "query$requiredFields\n",
    "\n"
   ]
  },
  {
   "cell_type": "code",
   "execution_count": null,
   "id": "dac24ae4-4607-4819-a90c-71be297cf69b",
   "metadata": {},
   "outputs": [],
   "source": [
    "# View all of the \"anyRecordOf\" fields added to the query\n",
    "query$anyRecordOf\n",
    "\n"
   ]
  },
  {
   "cell_type": "code",
   "execution_count": null,
   "id": "50c6a146-6c32-4693-8aa6-0f48eb7f2e8d",
   "metadata": {
    "tags": []
   },
   "outputs": [],
   "source": [
    "# View all of the \"categoryFilters\" fields added to the query\n",
    "query$categoryFilters\n",
    "\n",
    "# Note - this includes a PIC-SURE required field called \"\\\\_consents\\\\\", which informs which studies and consent codes you are authorized to access. For more information about this field, view the \"1_PICSURE_API_101\" notebook."
   ]
  },
  {
   "cell_type": "code",
   "execution_count": null,
   "id": "b816ca22-f4d8-4be7-a478-d6538f1a8d77",
   "metadata": {},
   "outputs": [],
   "source": [
    "# View all of the \"numericFilters\" fields added to the query\n",
    "query$numericFilters\n",
    "\n"
   ]
  },
  {
   "cell_type": "markdown",
   "id": "205ac7ab-9bd8-4cc2-a510-768346372122",
   "metadata": {},
   "source": [
    "Now that the query has been loaded, you can use the PIC-SURE API code to add new, edit existing, or delete clauses. \n",
    "\n",
    "There are several methods that can be used to build a query, which can be specified by the `type` argument in the `picsure::addClause` function. \n",
    "\n",
    "| type | functionality |\n",
    "|--------|-------------------|\n",
    "| type = 'SELECT' | return all variables included in the list (no record subsetting)|\n",
    "| type = 'REQUIRE' | return all variables included in the list; only records that do not contain null values for input variables |\n",
    "| type = 'ANYOF' | return all variables included in the list; only records that contain at least one non-null value for input variables |\n",
    "| type = 'FILTER' | return input variable; only records that match filter criteria |\n",
    "\n",
    "\n",
    "Additionally, the `picsure::deleteClause` function can be used to delete fields of the query. \n",
    "\n",
    "*Note: Please review the `1_PICSURE_API_101` notebook for more information and detailed examples about how to add to a query.*"
   ]
  },
  {
   "cell_type": "code",
   "execution_count": null,
   "id": "f8c643c8-78ad-4d41-9ce9-500d1a53e8cf",
   "metadata": {},
   "outputs": [],
   "source": [
    "# EXAMPLE CODE\n",
    "# Note: This code may not work with your query and is only intended to show how to set up code. Please adjust to your query and research purposes.\n",
    "\n",
    "# Let's say we have a \"Gender of participant\" filtering to \"Male\" but want to also add \"Female\". We could accomplish this using the following code:\n",
    "query <- picsure::addClause(query = query, \n",
    "                             keys = \"\\\\phs000820\\\\pht004332\\\\phv00219057\\\\sex\\\\\",\n",
    "                             type = \"FILTER\",\n",
    "                             categories = list(\"Male\", \"Female\"))\n",
    "\n",
    "# Similarly, we can edit an existing age range of 30 to 70 to be 35 to 75.\n",
    "query <- picsure::addClause(query = query, \n",
    "                             keys = '\\\\phs000820\\\\pht004332\\\\phv00219056\\\\age\\\\',\n",
    "                             type = \"FILTER\", \n",
    "                             min = 35,\n",
    "                             max = 75)\n",
    "\n",
    "# We can also delete variables and filters from the query altogether.\n",
    "query <- picsure::deleteClause(query = query, '\\\\phs000820\\\\pht004333\\\\phv00219063\\\\is_tumor\\\\')"
   ]
  }
 ],
 "metadata": {
  "kernelspec": {
   "display_name": "R",
   "language": "R",
   "name": "ir"
  },
  "language_info": {
   "codemirror_mode": "r",
   "file_extension": ".r",
   "mimetype": "text/x-r-source",
   "name": "R",
   "pygments_lexer": "r",
   "version": "4.1.3"
  },
  "toc": {
   "base_numbering": 1,
   "nav_menu": {},
   "number_sections": true,
   "sideBar": true,
   "skip_h1_title": false,
   "title_cell": "Table of Contents",
   "title_sidebar": "Contents",
   "toc_cell": false,
   "toc_position": {},
   "toc_section_display": true,
   "toc_window_display": false
  }
 },
 "nbformat": 4,
 "nbformat_minor": 5
}
