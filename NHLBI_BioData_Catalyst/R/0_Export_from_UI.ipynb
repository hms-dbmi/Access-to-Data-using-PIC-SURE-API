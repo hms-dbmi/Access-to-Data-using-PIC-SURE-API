{
 "cells": [
  {
   "cell_type": "markdown",
   "id": "d971b399",
   "metadata": {},
   "source": [
    "# Export data from User Interface (UI) to analysis workspace\n",
    "This is a tutorial notebook that walks through the process of exporting selected data from the BioData Catalyst Powered by PIC-SURE User Interface, or UI, into an analysis workspace. This is done using the PIC-SURE Application Programming Interface, or API.\n",
    "\n",
    "------- \n",
    " \n",
    "## Introduction to exporting data into an analysis workspace with PIC-SURE\n",
    "\n",
    "Two things are needed to export data into an analysis workspace:\n",
    "1. Personalized access token: a user-specific token that tells PIC-SURE which studies a user is authorized to access\n",
    "2. Query ID: a token that describes the specific query that was built in the UI, for example, if a user has selected females with body mass index between 18 and 30 from the ARIC study\n",
    "\n",
    "Using these two components, the API can be used to export the selected data into the analysis workspace (in this case, where this Jupyter Notebook is being run). \n",
    "\n",
    "## Step 1: Getting your user-specific security token\n",
    "**Before running this notebook, please be sure to review the \"Get your security token\" documentation, which exists in the NHLBI_BioData_Catalyst [README.md file](https://github.com/hms-dbmi/Access-to-Data-using-PIC-SURE-API/tree/master/NHLBI_BioData_Catalyst#get-your-security-token). It explains about how to get a security token, which is mandatory to access the databases.**\n",
    "\n",
    "## Step 2: Setting up your notebook\n",
    "\n",
    "### Pre-requisites for the notebook\n",
    "* python 3.6 or later\n",
    "* pip python package manager, already available in most systems with a python interpreter installed (link to pip)\n",
    "\n",
    "### Install packages to connect to the PIC-SURE API\n",
    "The first step to using the PIC-SURE API is to install the packages needed. The following code installs the PIC-SURE API components from GitHub, specifically:\n",
    "* PIC-SURE Client\n",
    "* PIC-SURE Adapter\n",
    "* BioData Catalyst PIC-SURE Adapter"
   ]
  },
  {
   "cell_type": "code",
   "execution_count": null,
   "id": "b7fc96ac",
   "metadata": {},
   "outputs": [],
   "source": [
    "system(command = 'conda install -c conda-forge r-devtools --yes')\n",
    "devtools::install_github(\"hms-dbmi/pic-sure-r-client\", ref=\"master\", force=T, quiet=TRUE)\n",
    "devtools::install_github(\"hms-dbmi/pic-sure-r-adapter-hpds\", ref=\"master\", force=T, quiet=TRUE)\n",
    "devtools::install_github(\"hms-dbmi/pic-sure-biodatacatalyst-r-adapter-hpds\", ref=\"new-search\", force=T)\n",
    "library(hpds)\n"
   ]
  },
  {
   "cell_type": "markdown",
   "id": "6150c495",
   "metadata": {},
   "source": [
    "## Connecting to a PIC-SURE resource\n",
    "The following is required to get access to data through the PIC-SURE API: \n",
    "- Network URL\n",
    "- User-specific security token\n",
    "\n",
    "The following code specifies the network URL as the BioData Catalyst Powered by PIC-SURE URL and references the user-specific token saved as `token.txt`.\n",
    "\n",
    "If you have not already retrieved your user-specific token, please refer to the \"Get your security token\" section of the [README.md](https://github.com/hms-dbmi/Access-to-Data-using-PIC-SURE-API/tree/master/NHLBI_BioData_Catalyst#get-your-security-token) file."
   ]
  },
  {
   "cell_type": "code",
   "execution_count": null,
   "id": "dd09104c",
   "metadata": {},
   "outputs": [],
   "source": [
    "# Uncomment production URL when testing in production\n",
    "# PICSURE_network_URL = \"https://picsure.biodatacatalyst.nhlbi.nih.gov/picsure\"\n",
    "PICSURE_network_URL = \"https://biodatacatalyst.integration.hms.harvard.edu/picsure\"\n",
    "token_file <- \"token.txt\"\n",
    "token <- scan(token_file, what = \"character\")\n",
    "connection <- picsure::connect(PICSURE_network_URL, token)\n",
    "authPicSure = bdc::use.authPicSure(connection)"
   ]
  },
  {
   "cell_type": "markdown",
   "id": "35f7976c",
   "metadata": {},
   "source": [
    "## Step 3: Export data from a query built in the PIC-SURE UI using the Query ID\n",
    "\n",
    "You are able to retrieve the results of a query that you have previously built using the [PIC-SURE Authorized Access UI](https://picsure.biodatacatalyst.nhlbi.nih.gov/psamaui/). After you have built your query and filtered to your cohort of interest, open the **Select and Package Data** tool in the Tool Suite. This will allow you to copy your query ID and bring it in to a Jupyter notebook. **Note that query IDs are not permanent and may expire.**"
   ]
  },
  {
   "cell_type": "markdown",
   "id": "ee64ab85",
   "metadata": {},
   "source": [
    "<img src=\"https://drive.google.com/uc?id=1XD3L0obdgQZ3GgO2Xu-sxhMxzzXgqofL\">"
   ]
  },
  {
   "cell_type": "code",
   "execution_count": null,
   "id": "f2aacfa9",
   "metadata": {},
   "outputs": [],
   "source": [
    "# To run this using your notebook you must replace it with the ID value of a query that you have run.\n",
    "queryID <- '<<<Paste your Query ID here>>>'"
   ]
  },
  {
   "cell_type": "code",
   "execution_count": null,
   "id": "fbec9ebd",
   "metadata": {},
   "outputs": [],
   "source": [
    "# save the data as a dataframe\n",
    "results <- bdc::query.getResults(authPicSure, queryID)\n",
    "results <- read.table(textConnection(results), sep = \",\")\n",
    "colnames(results) <- results[1,]\n",
    "\n",
    "# view the first few records\n",
    "head(results)"
   ]
  },
  {
   "cell_type": "markdown",
   "id": "289b0368",
   "metadata": {},
   "source": [
    "The data has now been exported as a dataframe saved as `results` and is ready for analysis."
   ]
  },
  {
   "cell_type": "code",
   "execution_count": null,
   "id": "367b82e3",
   "metadata": {},
   "outputs": [],
   "source": []
  }
 ],
 "metadata": {
  "kernelspec": {
   "display_name": "R",
   "language": "R",
   "name": "ir"
  },
  "language_info": {
   "codemirror_mode": "r",
   "file_extension": ".r",
   "mimetype": "text/x-r-source",
   "name": "R",
   "pygments_lexer": "r",
   "version": "4.1.3"
  }
 },
 "nbformat": 4,
 "nbformat_minor": 5
}
