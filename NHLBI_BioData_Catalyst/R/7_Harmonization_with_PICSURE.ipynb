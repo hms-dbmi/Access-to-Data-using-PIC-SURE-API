{
 "cells": [
  {
   "cell_type": "markdown",
   "id": "80fa6323",
   "metadata": {},
   "source": [
    "# Harmonization across studies with PIC-SURE"
   ]
  },
  {
   "cell_type": "markdown",
   "id": "6bb4e72c",
   "metadata": {},
   "source": [
    "This tutorial notebook will demonstrate how to query and work with the BioData Catalyst studies, particularly cross-study harmonization. For a more step-by-step introduction to the python PIC-SURE API, see the `1_PICSURE_API_101.ipynb` notebook."
   ]
  },
  {
   "cell_type": "markdown",
   "id": "739460e2",
   "metadata": {},
   "source": [
    "**Before running this notebook, please be sure to review the \\\"Get your security token\\\" documentation, which exists in the NHLBI_BioData_Catalyst [README.md file](https://github.com/hms-dbmi/Access-to-Data-using-PIC-SURE-API/tree/master/NHLBI_BioData_Catalyst#get-your-security-token). It explains about how to get a security token, which is mandatory to access the databases.**"
   ]
  },
  {
   "cell_type": "markdown",
   "id": "1ba09131",
   "metadata": {},
   "source": [
    "-----"
   ]
  },
  {
   "cell_type": "markdown",
   "id": "6de2184b",
   "metadata": {},
   "source": [
    "# Environment set-up"
   ]
  },
  {
   "cell_type": "markdown",
   "id": "ab22b288",
   "metadata": {},
   "source": [
    "### Pre-requisites\n",
    "- R 3.4 or later\n",
    "\n",
    "\n",
    "### Install packages\n",
    "Install the following:\n",
    "- packages listed in the `requirements.R` file\n",
    "- PIC-SURE API components (from Github)\n",
    "    - PIC-SURE Adapter\n",
    "    - PIC-SURE Client"
   ]
  },
  {
   "cell_type": "code",
   "execution_count": null,
   "id": "6732e392",
   "metadata": {
    "scrolled": true
   },
   "outputs": [],
   "source": [
    "source(\"R_lib/requirements.R\")"
   ]
  },
  {
   "cell_type": "code",
   "execution_count": null,
   "id": "a9cef829",
   "metadata": {
    "scrolled": true
   },
   "outputs": [],
   "source": [
    "Sys.setenv(TAR = \"/bin/tar\")\n",
    "options(unzip = \"internal\")\n",
    "install.packages(\"https://cran.r-project.org/src/contrib/Archive/devtools/devtools_1.13.6.tar.gz\", repos=NULL, type=\"source\")\n",
    "install.packages(\"https://cran.r-project.org/src/contrib/R6_2.5.1.tar.gz\", repos=NULL, type=\"source\")\n",
    "install.packages(\"https://cran.r-project.org/src/contrib/hash_2.2.6.1.tar.gz\", repos=NULL, type=\"source\")\n",
    "install.packages(c(\"urltools\"),repos = \"http://cran.us.r-project.org\")\n",
    "devtools::install_github(\"hms-dbmi/pic-sure-r-client\", force=T)\n",
    "devtools::install_github(\"hms-dbmi/pic-sure-r-adapter-hpds\", force=T)\n",
    "devtools::install_github(\"hms-dbmi/pic-sure-biodatacatalyst-r-adapter-hpds\", force=T)"
   ]
  },
  {
   "cell_type": "markdown",
   "id": "fbcc2845",
   "metadata": {},
   "source": [
    "##### Loading user-defined functions"
   ]
  },
  {
   "cell_type": "code",
   "execution_count": null,
   "id": "aabb4c2f",
   "metadata": {},
   "outputs": [],
   "source": [
    "source(\"R_lib/utils.R\")"
   ]
  },
  {
   "cell_type": "markdown",
   "id": "37abbc0f",
   "metadata": {},
   "source": [
    "## Connecting to a PIC-SURE resource"
   ]
  },
  {
   "cell_type": "code",
   "execution_count": null,
   "id": "d6b57ee8",
   "metadata": {},
   "outputs": [],
   "source": [
    "PICSURE_network_URL <- \"https://picsure.biodatacatalyst.nhlbi.nih.gov/picsure\"\n",
    "resource_id <- \"02e23f52-f354-4e8b-992c-d37c8b9ba140\"\n",
    "token_file <- \"token.txt\""
   ]
  },
  {
   "cell_type": "code",
   "execution_count": null,
   "id": "b5682050",
   "metadata": {},
   "outputs": [],
   "source": [
    "token <- scan(token_file, what = \"character\")"
   ]
  },
  {
   "cell_type": "code",
   "execution_count": null,
   "id": "c09d8dc5",
   "metadata": {},
   "outputs": [],
   "source": [
    "connection <- picsure::connect(url = PICSURE_network_URL,\n",
    "                                 token = token)\n",
    "resource <- bdc::get.resource(connection,\n",
    "                               resourceUUID = resource_id)"
   ]
  },
  {
   "cell_type": "markdown",
   "id": "83241702",
   "metadata": {},
   "source": [
    "-----"
   ]
  },
  {
   "cell_type": "markdown",
   "id": "727dafbc",
   "metadata": {},
   "source": [
    "## Harmonizing variables with PIC-SURE\n",
    "One of the key challenges to conducting analyses with several studies is ensuring correct data harmonization, or combining of data from different sources. There are many harmonization techniques, but this notebook will demonstrate how to find and extract similar variables from different studies in PIC-SURE. Two examples of this will be shown:\n",
    "1. Retrieving variables for *sex and gender* across studies with BMI\n",
    "2. Harmonizing the variable *\"orthopnea\"* across studies with age\n",
    "\n",
    "\n",
    "*For more information about the TOPMed DCC Harmonized Data Set in PIC-SURE, please refer to the [`2_TOPMed_DCC_Harmonized_Variables_analysis.ipynb`](https://github.com/hms-dbmi/Access-to-Data-using-PIC-SURE-API/blob/master/NHLBI_BioData_Catalyst/R/2_TOPMed_DCC_Harmonized_Variables_analysis.ipynb) notebook*"
   ]
  },
  {
   "cell_type": "markdown",
   "id": "0765ad81",
   "metadata": {},
   "source": [
    "-----"
   ]
  },
  {
   "cell_type": "markdown",
   "id": "ca1b2e99",
   "metadata": {},
   "source": [
    "### Sex and gender variables across studies"
   ]
  },
  {
   "cell_type": "markdown",
   "id": "a60a4820",
   "metadata": {},
   "source": [
    "Let's start by doing separate searches for `sex` and `gender` to gain a better understanding of the variables that exist in PIC-SURE with these terms."
   ]
  },
  {
   "cell_type": "code",
   "execution_count": null,
   "id": "ab6906ab",
   "metadata": {},
   "outputs": [],
   "source": [
    "full_dict <- bdc::find.in.dictionary(resource) %>%\n",
    "    bdc::extract.entries()\n",
    "full_multiindex_dict <- get_multiIndex_variablesDict(full_dict)"
   ]
  },
  {
   "cell_type": "code",
   "execution_count": null,
   "id": "d7f703b3",
   "metadata": {},
   "outputs": [],
   "source": [
    "sex_mask <- full_multiindex_dict$simplified_name[str_detect(full_multiindex_dict$simplified_name, 'sex')]\n",
    "sex <- full_multiindex_dict[full_multiindex_dict$simplified_name %in% sex_mask,]\n",
    "gender_mask <- full_multiindex_dict$simplified_name[str_detect(full_multiindex_dict$simplified_name, 'gender')]\n",
    "gender <- full_multiindex_dict[full_multiindex_dict$simplified_name %in% gender_mask,]"
   ]
  },
  {
   "cell_type": "code",
   "execution_count": null,
   "id": "4ff2f41e",
   "metadata": {},
   "outputs": [],
   "source": [
    "# Uncomment the following lines of code to preview the filtered dataframes\n",
    "#head(sex)\n",
    "#head(gender)"
   ]
  },
  {
   "cell_type": "markdown",
   "id": "64df5293",
   "metadata": {},
   "source": [
    "After reviewing the variables using the dataframe (or the [user interface](https://picsure.biodatacatalyst.nhlbi.nih.gov/psamaui/login)), let's say we are interested in sex/gender variables from the following studies:\n",
    "- TOPMed Harmonized data set\n",
    "- ECLIPSE (Evaluation of COPD Longitudinally to Identify Predictive Surrogate Endpoints)\n",
    "- EOCOPD (Early Onset of COPD)\n",
    "\n",
    "However, these concept paths are labelled differently for each of these studies. For example, some use the keyword `sex` while others use `gender`. To acccount for these differences, we need to develop a way to search for multiple keywords at once."
   ]
  },
  {
   "cell_type": "markdown",
   "id": "f92fc87f",
   "metadata": {},
   "source": [
    "First, let's get all of the concept paths associated with each study."
   ]
  },
  {
   "cell_type": "code",
   "execution_count": null,
   "id": "cc1736c8",
   "metadata": {},
   "outputs": [],
   "source": [
    "topmed_harmonized <- bdc::find.in.dictionary(resource, 'DCC Harmonized data set') %>%\n",
    "    bdc::extract.entries()\n",
    "eclipse <- bdc::find.in.dictionary(resource, 'Evaluation of COPD Longitudinally to Identify Predictive Surrogate Endpoints (ECLIPSE)') %>%\n",
    "    bdc::extract.entries()\n",
    "eocopd <- bdc::find.in.dictionary(resource, 'NHLBI TOPMed: Boston Early-Onset COPD Study') %>%\n",
    "    bdc::extract.entries()"
   ]
  },
  {
   "cell_type": "markdown",
   "id": "4842638f",
   "metadata": {},
   "source": [
    "Now we will search for the terms of interest (`sex` and `gender`) and filter out these concept paths.\n",
    "\n",
    "Below is a simple user-defined function that you could use to accomplish this."
   ]
  },
  {
   "cell_type": "code",
   "execution_count": null,
   "id": "115b416b",
   "metadata": {},
   "outputs": [],
   "source": [
    "# Function that filters out variables from a dataframe (df) that contain any of the terms (list_of_terms)\n",
    "find_vars <- function(df, list_of_terms){\n",
    "    if(length(list_of_terms)>1){\n",
    "        pattern <- paste(list_of_terms, collapse='|')\n",
    "    } else {\n",
    "        pattern <- list_of_terms\n",
    "    }\n",
    "    pattern <- paste(c('(', pattern, ')'), collapse = '')\n",
    "    df_filtered <- df %>%\n",
    "        filter(grepl(pattern, name, ignore.case=TRUE))\n",
    "    vars_list <- list(df_filtered$name)[[1]]\n",
    "    return(vars_list)\n",
    "}"
   ]
  },
  {
   "cell_type": "code",
   "execution_count": null,
   "id": "f0c756fd",
   "metadata": {},
   "outputs": [],
   "source": [
    "# Search for 'sex' and 'gender' variables in TOPMed Harmonized dataset\n",
    "topmed_var <- find_vars(topmed_harmonized, c('sex', 'gender'))\n",
    "print(c(\"Concept path from TOPMed Harmonized data set:\", topmed_var))"
   ]
  },
  {
   "cell_type": "code",
   "execution_count": null,
   "id": "e214d99f",
   "metadata": {},
   "outputs": [],
   "source": [
    "# Search for 'sex' and 'gender' variables in ECLIPSE dataset\n",
    "eclipse_var <- find_vars(eclipse, c('sex', 'gender'))\n",
    "print(c(\"Concept path from ECLIPSE data set:\", eclipse_var))"
   ]
  },
  {
   "cell_type": "code",
   "execution_count": null,
   "id": "272bbd61",
   "metadata": {},
   "outputs": [],
   "source": [
    "# Search for 'sex' and 'gender' variables in EOCOPD dataset\n",
    "eocopd_vars <- find_vars(eocopd, c('sex', 'gender'))\n",
    "print(c(\"Number of concept paths from EOCOPD data set:\", length(eocopd_vars)))"
   ]
  },
  {
   "cell_type": "markdown",
   "id": "7b70457d",
   "metadata": {},
   "source": [
    "Since there are multiple concept paths that are contain either `gender` or `sex` in the EOCOPD dataset, we can investigate these concept paths to determine the true variable of interest."
   ]
  },
  {
   "cell_type": "code",
   "execution_count": null,
   "id": "881cd676",
   "metadata": {},
   "outputs": [],
   "source": [
    "# Uncomment the following line to see full list of sex/gender variables in EOCOPD\n",
    "#print(c(\"Full list of variables\", eocopd_vars))\n",
    "\n",
    "# Based on this, we can see that the variable we want for this analysis is the last in the list: Gender of participant\n",
    "eocopd_var <- find_vars(eocopd, c('gender of participant'))\n",
    "print(c(\"Concept path from EOCOPD data set:\", eocopd_var))"
   ]
  },
  {
   "cell_type": "markdown",
   "id": "ebc6979c",
   "metadata": {},
   "source": [
    "As part of our research, let's also say we are interested in body mass index (BMI) measurements across these studies. Let's save these concept paths to use in our queries as well."
   ]
  },
  {
   "cell_type": "code",
   "execution_count": null,
   "id": "c3901849",
   "metadata": {},
   "outputs": [],
   "source": [
    "topmed_bmi <- find_vars(topmed_harmonized, c('body mass index'))\n",
    "print(topmed_bmi)\n",
    "eclipse_bmi <- find_vars(eclipse, c('body mass index'))\n",
    "print(eclipse_bmi)\n",
    "eocopd_bmi <- find_vars(eocopd, c('body mass index'))\n",
    "print(eocopd_bmi)"
   ]
  },
  {
   "cell_type": "markdown",
   "id": "31276867",
   "metadata": {},
   "source": [
    "Now that we know and have saved our concept paths of interest, we can use these to build our query. \n",
    "\n",
    "**Note: queries with the TOPMed DCC Harmonized data set cannot be combined with concept paths from other datasets. Because of this, we will run separate queries and combine the dataframes.**"
   ]
  },
  {
   "cell_type": "code",
   "execution_count": null,
   "id": "3521d39f",
   "metadata": {},
   "outputs": [],
   "source": [
    "# Initialize a query\n",
    "eclipse_query <- bdc::new.query(resource = resource)\n",
    "# Build query using these concept paths\n",
    "bdc::query.anyof.add(query = eclipse_query,\n",
    "                     keys = eclipse_var)\n",
    "bdc::query.anyof.add(query = eclipse_query,\n",
    "                     keys = eclipse_bmi)"
   ]
  },
  {
   "cell_type": "code",
   "execution_count": null,
   "id": "8120af35",
   "metadata": {},
   "outputs": [],
   "source": [
    "# Check results\n",
    "eclipse_results <- bdc::query.run(eclipse_query, result.type = 'dataframe')\n",
    "head(eclipse_results)"
   ]
  },
  {
   "cell_type": "code",
   "execution_count": null,
   "id": "70f06df6",
   "metadata": {},
   "outputs": [],
   "source": [
    "# Initialize a query\n",
    "eocopd_query <- bdc::new.query(resource = resource)\n",
    "# Build query using these concept paths\n",
    "bdc::query.anyof.add(query = eocopd_query,\n",
    "                     keys = eocopd_var)\n",
    "bdc::query.anyof.add(query = eocopd_query,\n",
    "                     keys = eocopd_bmi)"
   ]
  },
  {
   "cell_type": "code",
   "execution_count": null,
   "id": "96de65e8",
   "metadata": {},
   "outputs": [],
   "source": [
    "# Check results\n",
    "eocopd_results <- bdc::query.run(eocopd_query, result.type = 'dataframe')\n",
    "head(eocopd_results)"
   ]
  },
  {
   "cell_type": "code",
   "execution_count": null,
   "id": "673da59e",
   "metadata": {},
   "outputs": [],
   "source": [
    "# Initialize a query\n",
    "dcc_harmonized_query <- bdc::new.query(resource = resource)\n",
    "# Build query using these concept paths\n",
    "bdc::query.anyof.add(query = dcc_harmonized_query,\n",
    "                     keys =  topmed_var)\n",
    "bdc::query.anyof.add(query = dcc_harmonized_query,\n",
    "                     keys = topmed_bmi)"
   ]
  },
  {
   "cell_type": "code",
   "execution_count": null,
   "id": "1a7bd98f",
   "metadata": {},
   "outputs": [],
   "source": [
    "# Check results\n",
    "dcc_harmonized_results <- bdc::query.run(dcc_harmonized_query, result.type = 'dataframe')\n",
    "head(dcc_harmonized_results)"
   ]
  },
  {
   "cell_type": "markdown",
   "id": "d0bc283a",
   "metadata": {},
   "source": [
    "Now that we have our patient-level dataframes, we can combine them into a single, cohesive dataframe.\n",
    "\n",
    "The following function accomplishes three main tasks:\n",
    "1. Removes extra columns, such as consent information\n",
    "2. Renames the BMI and Sex columns\n",
    "3. Adds the Dataset column, which corresponds to the study"
   ]
  },
  {
   "cell_type": "code",
   "execution_count": null,
   "id": "8086eca6",
   "metadata": {},
   "outputs": [],
   "source": [
    "clean_up_df <- function(df, study){\n",
    "    columns_to_drop <- c('\\\\_Parent Study Accession with Subject ID\\\\', '\\\\_Topmed Study Accession with Subject ID\\\\', '\\\\_consents\\\\', '\\\\_harmonized_consent\\\\')\n",
    "    df1 <- df[,!(names(df) %in% columns_to_drop)]\n",
    "    if(grepl('body mass index', names(df1)[2], ignore.case=TRUE)){\n",
    "        names(df1)[2] <- 'BMI'\n",
    "        names(df1)[3] <- 'Sex'\n",
    "    } else {\n",
    "        names(df1)[2] <- \"Sex\"\n",
    "        names(df1)[3] <- \"BMI\"\n",
    "    }\n",
    "    df2 <- na.omit(df1)\n",
    "    df2$Dataset <- study\n",
    "    return(df2)\n",
    "}"
   ]
  },
  {
   "cell_type": "code",
   "execution_count": null,
   "id": "8fafb3a7",
   "metadata": {
    "scrolled": true
   },
   "outputs": [],
   "source": [
    "clean_eclipse <- clean_up_df(eclipse_results, 'ECLIPSE')\n",
    "clean_eocopd <- clean_up_df(eocopd_results, \"EOCOPD\")\n",
    "clean_dcc <- clean_up_df(dcc_harmonized_results, \"TOPMed Harmonized\")"
   ]
  },
  {
   "cell_type": "markdown",
   "id": "971fc8d3",
   "metadata": {},
   "source": [
    "The datasets have been prepped. We can now merge them and begin our analysis."
   ]
  },
  {
   "cell_type": "code",
   "execution_count": null,
   "id": "81a083ce",
   "metadata": {},
   "outputs": [],
   "source": [
    "# Combine individual dataframes\n",
    "final_df <- rbind(clean_eclipse, clean_eocopd, clean_dcc)"
   ]
  },
  {
   "cell_type": "code",
   "execution_count": null,
   "id": "5e2aea6c",
   "metadata": {
    "scrolled": true
   },
   "outputs": [],
   "source": [
    "# Comparison of the datasets and sample harmonization\n",
    "separate <- final_df %>%\n",
    "    select(-c('Patient ID')) %>%\n",
    "    group_by(Dataset, Sex) %>%\n",
    "    summarise(mean_BMI = mean(BMI))\n",
    "print(separate)\n",
    "\n",
    "harmonized <- final_df %>%\n",
    "    select(-c('Patient ID', 'Dataset')) %>%\n",
    "    group_by(Sex) %>%\n",
    "    summarise(mean_BMI = mean(BMI))\n",
    "print(harmonized)"
   ]
  },
  {
   "cell_type": "code",
   "execution_count": null,
   "id": "39972509",
   "metadata": {},
   "outputs": [],
   "source": [
    "# Make lists of male and female mean BMI for plotting\n",
    "male_means <- c(separate$mean_BMI[separate$Sex == 'Male'], harmonized$mean_BMI[harmonized$Sex == 'Male'])\n",
    "female_means <-  c(separate$mean_BMI[separate$Sex == 'Female'], harmonized$mean_BMI[harmonized$Sex == 'Female'])"
   ]
  },
  {
   "cell_type": "code",
   "execution_count": null,
   "id": "c907b3f7",
   "metadata": {},
   "outputs": [],
   "source": [
    "studies <- rep(c('ECLIPSE', \"EOCOPD\", 'TOPMed Harmonized', \"Combined\"), 2)\n",
    "sex <- c(rep('Male', 4), rep('Female', 4))\n",
    "total_means <- c(male_means, female_means)\n",
    "to_plot <- data.frame(total_means, sex, studies)"
   ]
  },
  {
   "cell_type": "code",
   "execution_count": null,
   "id": "3369eeda",
   "metadata": {},
   "outputs": [],
   "source": [
    "ggplot(data = to_plot, aes(fill=studies, y=total_means, x=sex)) + \n",
    "    geom_bar(position=\"dodge\", stat=\"identity\") +\n",
    "    labs(title = \"Average Body Mass Index by Sex and Dataset\",\n",
    "         x = \"Sex\", y = \"Body Mass Index (BMI)\",\n",
    "         fill = \"Dataset\")"
   ]
  },
  {
   "cell_type": "markdown",
   "id": "eff76ec2",
   "metadata": {},
   "source": [
    "-----"
   ]
  },
  {
   "cell_type": "markdown",
   "id": "714ad855",
   "metadata": {},
   "source": [
    "### Orthopnea variables across studies\n",
    "In this example, we will be harmonizing variables related to `orthopnea`. Orthopnea is shortness of breath that occurs when individuals lie flat. Because of this, people with orthopnea have to sleep propped up in bed or sitting in a chair. You can read more about this condition [here](https://www.sleepfoundation.org/sleep-apnea/orthopnea).\n",
    "\n",
    "Let's start by doing a search in PIC-SURE for concept paths containing `orthopnea`."
   ]
  },
  {
   "cell_type": "code",
   "execution_count": null,
   "id": "abb25977",
   "metadata": {
    "scrolled": true
   },
   "outputs": [],
   "source": [
    "ortho_dict <- bdc::find.in.dictionary(resource, \"orthopnea\") %>%\n",
    "    bdc::extract.entries()\n",
    "head(ortho_dict)"
   ]
  },
  {
   "cell_type": "markdown",
   "id": "b2895676",
   "metadata": {},
   "source": [
    "As shown in the resulting dataframe, orthopnea is often recorded as a something like `sleep on two or more pillows to help you breathe?`\n",
    "\n",
    "Let's do a search for `pillows` in PIC-SURE to explore those concept paths."
   ]
  },
  {
   "cell_type": "code",
   "execution_count": null,
   "id": "1aed53fa",
   "metadata": {
    "scrolled": true
   },
   "outputs": [],
   "source": [
    "pillow_dict <- bdc::find.in.dictionary(resource, \"pillows\") %>%\n",
    "    bdc::extract.entries()\n",
    "tail(pillow_dict)"
   ]
  },
  {
   "cell_type": "markdown",
   "id": "501a5941",
   "metadata": {},
   "source": [
    "As shown in the resulting dataframe, there are some concept paths related to orthopnea that were not captured by the previous `orthopnea` search, such as `Do you sleep on 2 or more pillows to improve your breathing?` from the Jackson Heart Study (JHS) Cohort (phs000286). In fact, the JHS dataset was not returned at all when we searched for `orthopnea`. \n",
    "\n",
    "This is problematic for researchers studying these types of variables, since the concept paths of interest may not always be captured by a single search term. To account for this, researchers must conduct exploratory searches to determine potential search terms."
   ]
  },
  {
   "cell_type": "markdown",
   "id": "4f463484",
   "metadata": {},
   "source": [
    "Let's say we want to harmonize orthopnea variables from the following datasets: FHS, MESA, and WHI. We can first get all concept paths in each study and then search for our terms of interest (`orthopnea` or `pillows`) to retrieve the concept paths of interest."
   ]
  },
  {
   "cell_type": "code",
   "execution_count": null,
   "id": "771e89f1",
   "metadata": {},
   "outputs": [],
   "source": [
    "# Function that filters out variabels from a dataframe (df) that contain any of the terms (list_of_terms)\n",
    "find_concept_paths <- function(study_name, list_of_terms){\n",
    "    df <- bdc::find.in.dictionary(resource, study_name) %>%\n",
    "        bdc::extract.entries()\n",
    "    if(length(list_of_terms)>1){\n",
    "        pattern <- paste(list_of_terms, collapse='|')\n",
    "    } else {\n",
    "        pattern <- list_of_terms\n",
    "    }\n",
    "    pattern <- paste(c('(', pattern, ')'), collapse = '')\n",
    "    df_filtered <- df %>%\n",
    "        filter(grepl(pattern, name, ignore.case=TRUE))\n",
    "    vars_list <- list(df_filtered$name)[[1]]\n",
    "    return(vars_list)\n",
    "}"
   ]
  },
  {
   "cell_type": "code",
   "execution_count": null,
   "id": "61d3c0b9",
   "metadata": {},
   "outputs": [],
   "source": [
    "ortho_terms = c('orthopnea', 'pillows')"
   ]
  },
  {
   "cell_type": "code",
   "execution_count": null,
   "id": "f7d5205c",
   "metadata": {},
   "outputs": [],
   "source": [
    "mesa <- find_concept_paths('Multi-Ethnic Study of Atherosclerosis (MESA) SHARe ( phs000209 )', ortho_terms)\n",
    "#mesa # Uncomment to view full results list\n",
    "mesa_var <- mesa[1]\n",
    "mesa_var"
   ]
  },
  {
   "cell_type": "code",
   "execution_count": null,
   "id": "bf6a0305",
   "metadata": {},
   "outputs": [],
   "source": [
    "whi <- find_concept_paths(\"Women's Health Initiative Clinical Trial and Observational Study ( phs000200 )\", ortho_terms)\n",
    "#whi # Uncomment to view full results list\n",
    "whi_var <- whi[1]\n",
    "whi_var"
   ]
  },
  {
   "cell_type": "code",
   "execution_count": null,
   "id": "7df44290",
   "metadata": {},
   "outputs": [],
   "source": [
    "fhs <- find_concept_paths(\"Framingham Cohort ( phs000007 )\", ortho_terms)\n",
    "#fhs # Uncomment to view full results list\n",
    "fhs_var <- fhs[38]\n",
    "fhs_var"
   ]
  },
  {
   "cell_type": "markdown",
   "id": "002d4d37",
   "metadata": {},
   "source": [
    "As part of our research, let's say we are interested in exploring the relationship between pneumonia and orthopnea. Let's save concept paths related to `pneumonia` as well. "
   ]
  },
  {
   "cell_type": "code",
   "execution_count": null,
   "id": "2c4ae2a5",
   "metadata": {},
   "outputs": [],
   "source": [
    "mesa_pneu <- find_concept_paths('Multi-Ethnic Study of Atherosclerosis (MESA) SHARe ( phs000209 )', c('pneumonia'))\n",
    "#mesa_pneu # Uncomment to view full results list\n",
    "mesa_pneu_var <- mesa_pneu[5]\n",
    "mesa_pneu_var"
   ]
  },
  {
   "cell_type": "code",
   "execution_count": null,
   "id": "f5fe3c7d",
   "metadata": {},
   "outputs": [],
   "source": [
    "whi_pneu <- find_concept_paths(\"Women's Health Initiative Clinical Trial and Observational Study ( phs000200 )\", c('pneumonia'))\n",
    "# whi_pneu # Uncomment to view full results list\n",
    "whi_pneu_var <- whi_pneu[1]\n",
    "whi_pneu_var"
   ]
  },
  {
   "cell_type": "code",
   "execution_count": null,
   "id": "1871628d",
   "metadata": {},
   "outputs": [],
   "source": [
    "fhs_pneu <- find_concept_paths(\"Framingham Cohort ( phs000007 )\", c('pneumonia'))\n",
    "# fhs_pneu # Uncomment to view full results\n",
    "fhs_pneu_var <- fhs_pneu[27]\n",
    "fhs_pneu_var"
   ]
  },
  {
   "cell_type": "markdown",
   "id": "c48ab63e",
   "metadata": {},
   "source": [
    "Now that we know and have saved our concept paths of interest, we can use these to build our queries and obtain our dataframes. "
   ]
  },
  {
   "cell_type": "code",
   "execution_count": null,
   "id": "3302bf68",
   "metadata": {},
   "outputs": [],
   "source": [
    "mesa_query <- bdc::new.query(resource = resource)\n",
    "bdc::query.anyof.add(query = mesa_query,\n",
    "                     keys =  mesa_var)\n",
    "bdc::query.require.add(query = mesa_query,\n",
    "                     keys =  mesa_pneu_var)\n",
    "mesa_results <- bdc::query.run(mesa_query, result.type = 'dataframe')"
   ]
  },
  {
   "cell_type": "code",
   "execution_count": null,
   "id": "be0dfb26",
   "metadata": {},
   "outputs": [],
   "source": [
    "fhs_query <- bdc::new.query(resource = resource)\n",
    "bdc::query.anyof.add(query = fhs_query,\n",
    "                     keys =  fhs_var)\n",
    "bdc::query.require.add(query = fhs_query,\n",
    "                     keys =  fhs_pneu_var)\n",
    "fhs_results <- bdc::query.run(fhs_query, result.type = 'dataframe')"
   ]
  },
  {
   "cell_type": "code",
   "execution_count": null,
   "id": "36b34b61",
   "metadata": {},
   "outputs": [],
   "source": [
    "whi_query <- bdc::new.query(resource = resource)\n",
    "bdc::query.anyof.add(query = whi_query,\n",
    "                     keys =  whi_var)\n",
    "bdc::query.require.add(query = whi_query,\n",
    "                     keys =  whi_pneu_var)\n",
    "whi_results <- bdc::query.run(whi_query, result.type = 'dataframe')"
   ]
  },
  {
   "cell_type": "markdown",
   "id": "d9cf40d2",
   "metadata": {},
   "source": [
    "Now that we have our patient-level dataframes, we can combine them into a single, cohesive dataframe.\n",
    "\n",
    "The following function accomplishes three main tasks:\n",
    "1. Removes extra columns, such as consent information\n",
    "2. Renames the Pneumonia and Orthopnea columns\n",
    "3. Adds the Dataset column, which corresponds to the study"
   ]
  },
  {
   "cell_type": "code",
   "execution_count": null,
   "id": "13d6d06a",
   "metadata": {},
   "outputs": [],
   "source": [
    "clean_up_df2 <- function(df, study){\n",
    "    columns_to_drop <- c('\\\\_Parent Study Accession with Subject ID\\\\', '\\\\_Topmed Study Accession with Subject ID\\\\', '\\\\_consents\\\\', '\\\\_harmonized_consent\\\\')\n",
    "    df1 <- df[,!(names(df) %in% columns_to_drop)]\n",
    "    if(grepl('pneumonia', names(df1)[2], ignore.case=TRUE)){\n",
    "        names(df1)[2] <- 'Pneumonia'\n",
    "        names(df1)[3] <- 'Orthopnea'\n",
    "    } else {\n",
    "        names(df1)[2] <- \"Orthopnea\"\n",
    "        names(df1)[3] <- \"Pneumonia\"\n",
    "    }\n",
    "    df1$Dataset <- study\n",
    "    return(df1)\n",
    "}"
   ]
  },
  {
   "cell_type": "code",
   "execution_count": null,
   "id": "50622d89",
   "metadata": {},
   "outputs": [],
   "source": [
    "clean_fhs <- clean_up_df2(fhs_results, 'FHS')\n",
    "clean_whi <- clean_up_df2(whi_results, 'WHI')\n",
    "clean_mesa <- clean_up_df2(mesa_results, 'MESA')"
   ]
  },
  {
   "cell_type": "markdown",
   "id": "fc94a45e",
   "metadata": {},
   "source": [
    "As you may have noticed, the orthopnea and pneumonia variables are encoded differently between these studies. Specifically:\n",
    "- In FHS, pneumonia is recorded as \"NO\", \"MAYBE\", or \"YES\"\n",
    "- In MESA, pneumonia is recorded as \"Yes\", \"No\", or \"Don't know / Not sure\"\n",
    "- In WHI, pneumonia is recoded as a value, or the number of times a participant has been diagnosed with pneumonia\n",
    "\n",
    "To harmonize these variables, we need to create a consistent encoding across these studies. "
   ]
  },
  {
   "cell_type": "code",
   "execution_count": null,
   "id": "0f342d8e",
   "metadata": {},
   "outputs": [],
   "source": [
    "# Combine results for the pneumonia and orthopnea variables\n",
    "pneumonia_results <- c(unique(clean_fhs$Pneumonia), \n",
    "                       unique(clean_whi$Pneumonia),\n",
    "                       unique(clean_mesa$Pneumonia))\n",
    "orthopnea_results <- c(unique(clean_fhs$Orthopnea), \n",
    "                       unique(clean_whi$Orthopnea),\n",
    "                       unique(clean_mesa$Orthopnea))\n",
    "raw <- c(pneumonia_results, orthopnea_results)\n",
    "#pneumonia_results # Uncomment to view values\n",
    "#orthopnea_results # Uncomment to view values"
   ]
  },
  {
   "cell_type": "markdown",
   "id": "1e9887b9",
   "metadata": {},
   "source": [
    "The following code creates these mappings:\n",
    "\n",
    "|Raw value|Harmonized value|\n",
    "|---|---|\n",
    "|No|0|\n",
    "|NO|0|\n",
    "|No/Not recorded|0|\n",
    "|Numeric value equal to 0|0|\n",
    "|MAYBE|2|\n",
    "|Don't know / Not sure|2|\n",
    "|DO NOT KNOW|2|\n",
    "|YES|1|\n",
    "|Yes|1|\n",
    "|Numeric value greater than 0|1|"
   ]
  },
  {
   "cell_type": "code",
   "execution_count": null,
   "id": "686b5d7a",
   "metadata": {},
   "outputs": [],
   "source": [
    "# Function to create mapping\n",
    "create_mappings <- function(raw){\n",
    "    if_else(raw %in% c(\"NO\", \"no\", \"No\", \"No/Not Recorded\"), 0,\n",
    "            if_else(raw %in% c(\"YES\", \"Yes\", \"yes\"), 1,\n",
    "                    if_else(raw %in% c(\"MAYBE\", 'DO NOT KNOW', \"Don\\'t know / Not sure\"), 2,\n",
    "                            if_else(raw == 0, 0, 1))))\n",
    "}\n"
   ]
  },
  {
   "cell_type": "code",
   "execution_count": null,
   "id": "7e6c6cc5",
   "metadata": {},
   "outputs": [],
   "source": [
    "final_df <- rbind(clean_whi, clean_mesa, clean_fhs) %>%\n",
    "    mutate(Pneumonia = create_mappings(Pneumonia),\n",
    "           Orthopnea = create_mappings(Orthopnea)) %>%\n",
    "    subset(Pneumonia != 2) %>% # Remove \"2\" values since they will not be used in the figures\n",
    "    subset(Orthopnea != 2)\n",
    "head(final_df)"
   ]
  },
  {
   "cell_type": "markdown",
   "id": "33bbf981",
   "metadata": {},
   "source": [
    "Now that the variables have been encoded in the same way, we can use this dataframe for analysis and visualizations. "
   ]
  },
  {
   "cell_type": "code",
   "execution_count": null,
   "id": "df42d628",
   "metadata": {
    "scrolled": true
   },
   "outputs": [],
   "source": [
    "#library\n",
    "install.packages(\"BiocManager\")\n",
    "BiocManager::install(\"limma\")\n",
    "library(limma)"
   ]
  },
  {
   "cell_type": "code",
   "execution_count": null,
   "id": "ce7e6cb2",
   "metadata": {},
   "outputs": [],
   "source": [
    "# Filters to apply to the final_df to create figure\n",
    "fhs <- final_df$Dataset == \"FHS\"\n",
    "mesa <- final_df$Dataset == 'MESA'\n",
    "whi <- final_df$Dataset == \"WHI\""
   ]
  },
  {
   "cell_type": "code",
   "execution_count": null,
   "id": "2c1f40f4",
   "metadata": {
    "scrolled": false
   },
   "outputs": [],
   "source": [
    "fhs_subset <- as.matrix(final_df[fhs, c('Pneumonia', 'Orthopnea')])\n",
    "vennDiagram(vennCounts(fhs_subset), main='FHS Dataset')"
   ]
  },
  {
   "cell_type": "code",
   "execution_count": null,
   "id": "885c1196",
   "metadata": {},
   "outputs": [],
   "source": [
    "mesa_subset <- as.matrix(final_df[mesa, c('Pneumonia', 'Orthopnea')])\n",
    "vennDiagram(vennCounts(mesa_subset), main=\"MESA Dataset\")"
   ]
  },
  {
   "cell_type": "code",
   "execution_count": null,
   "id": "31fb8f32",
   "metadata": {},
   "outputs": [],
   "source": [
    "whi_subset <- as.matrix(final_df[whi, c('Pneumonia', 'Orthopnea')])\n",
    "vennDiagram(vennCounts(whi_subset), main='WHI Dataset')"
   ]
  },
  {
   "cell_type": "code",
   "execution_count": null,
   "id": "71f87017",
   "metadata": {},
   "outputs": [],
   "source": [
    "sub <- as.matrix(final_df[, c('Pneumonia', 'Orthopnea')])\n",
    "vennDiagram(vennCounts(sub), main='Harmonized')"
   ]
  },
  {
   "cell_type": "code",
   "execution_count": null,
   "id": "d6584255",
   "metadata": {},
   "outputs": [],
   "source": []
  }
 ],
 "metadata": {
  "kernelspec": {
   "display_name": "R",
   "language": "R",
   "name": "ir"
  },
  "language_info": {
   "codemirror_mode": "r",
   "file_extension": ".r",
   "mimetype": "text/x-r-source",
   "name": "R",
   "pygments_lexer": "r",
   "version": "4.1.1"
  }
 },
 "nbformat": 4,
 "nbformat_minor": 5
}
