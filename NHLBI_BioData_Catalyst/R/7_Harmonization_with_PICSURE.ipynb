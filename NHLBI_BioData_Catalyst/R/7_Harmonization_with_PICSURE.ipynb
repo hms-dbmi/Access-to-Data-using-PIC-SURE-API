{
 "cells": [
  {
   "cell_type": "markdown",
   "id": "e9be0d5f",
   "metadata": {},
   "source": [
    "# Harmonization across studies with PIC-SURE"
   ]
  },
  {
   "cell_type": "markdown",
   "id": "503dbe5c",
   "metadata": {},
   "source": [
    "This tutorial notebook will demonstrate how to query and work with the BioData Catalyst studies, particularly cross-study harmonization. For a more step-by-step introduction to the python PIC-SURE API, see the `1_PICSURE_API_101.ipynb` notebook."
   ]
  },
  {
   "cell_type": "markdown",
   "id": "26702b2f",
   "metadata": {},
   "source": [
    "**Before running this notebook, please be sure to review the \\\"Get your security token\\\" documentation, which exists in the NHLBI_BioData_Catalyst [README.md file](https://github.com/hms-dbmi/Access-to-Data-using-PIC-SURE-API/tree/master/NHLBI_BioData_Catalyst#get-your-security-token). It explains about how to get a security token, which is mandatory to access the databases.**"
   ]
  },
  {
   "cell_type": "markdown",
   "id": "e52f9ee3",
   "metadata": {},
   "source": [
    "-----"
   ]
  },
  {
   "cell_type": "markdown",
   "id": "f34703de",
   "metadata": {},
   "source": [
    "# Environment set-up"
   ]
  },
  {
   "cell_type": "markdown",
   "id": "2fcd446e",
   "metadata": {},
   "source": [
    "### System Requirements\n",
    "R >= 3.4\n",
    "\n",
    "### Install packages"
   ]
  },
  {
   "cell_type": "code",
   "execution_count": null,
   "id": "46e6aed3",
   "metadata": {
    "scrolled": true
   },
   "outputs": [],
   "source": [
    "system(command = 'conda install -c conda-forge r-devtools --yes')\n",
    "devtools::install_github(\"hms-dbmi/pic-sure-r-client\", ref=\"master\", force=T, quiet=TRUE)\n",
    "devtools::install_github(\"hms-dbmi/pic-sure-r-adapter-hpds\", ref=\"master\", force=T, quiet=TRUE)\n",
    "devtools::install_github(\"hms-dbmi/pic-sure-biodatacatalyst-r-adapter-hpds\", ref=\"new-search\", force=T)\n",
    "library(hpds)\n"
   ]
  },
  {
   "cell_type": "code",
   "execution_count": null,
   "id": "ee978f35",
   "metadata": {},
   "outputs": [],
   "source": [
    "install.packages('dplyr')\n",
    "library(dplyr)"
   ]
  },
  {
   "cell_type": "markdown",
   "id": "f76732cc",
   "metadata": {},
   "source": [
    "## Connecting to a PIC-SURE Network"
   ]
  },
  {
   "cell_type": "code",
   "execution_count": null,
   "id": "41994b67",
   "metadata": {},
   "outputs": [],
   "source": [
    "# Uncomment production URL when testing in production\n",
    "# PICSURE_network_URL = \"https://picsure.biodatacatalyst.nhlbi.nih.gov/picsure\"\n",
    "PICSURE_network_URL = \"https://biodatacatalyst.integration.hms.harvard.edu/picsure\"\n",
    "token_file <- \"token.txt\"\n",
    "token <- scan(token_file, what = \"character\")\n",
    "connection <- picsure::connect(PICSURE_network_URL, token)\n",
    "authPicSure = bdc::use.authPicSure(connection)"
   ]
  },
  {
   "cell_type": "markdown",
   "id": "cc73822a",
   "metadata": {},
   "source": [
    "-----"
   ]
  },
  {
   "cell_type": "markdown",
   "id": "24777c52",
   "metadata": {},
   "source": [
    "## Harmonizing variables with PIC-SURE\n",
    "One of the key challenges to conducting analyses with several studies is ensuring correct data harmonization, or combining of data from different sources. There are many harmonization techniques, but this notebook will demonstrate an approach to finding and extracting similar variables from different studies in PIC-SURE. Two examples of this will be shown:\n",
    "1. Retrieving variables for *sex and gender* across studies with BMI\n",
    "2. Harmonizing the *\"orthopnea\"* and *\"pneumonia\"* variables across studies\n",
    "\n",
    "\n",
    "*For more information about the TOPMed DCC Harmonized Data Set in PIC-SURE, please refer to the [`2_TOPMed_DCC_Harmonized_Variables_analysis.ipynb`](https://github.com/hms-dbmi/Access-to-Data-using-PIC-SURE-API/blob/master/NHLBI_BioData_Catalyst/python/2_TOPMed_DCC_Harmonized_Variables_analysis.ipynb) notebook*"
   ]
  },
  {
   "cell_type": "markdown",
   "id": "8421b9db",
   "metadata": {},
   "source": [
    "-----"
   ]
  },
  {
   "cell_type": "markdown",
   "id": "183ef059",
   "metadata": {},
   "source": [
    "## Sex and gender variables across studies\n",
    "<font color='darkgreen'>**Goal: Create harmonized variables for sex and BMI which combine data from multiple studies**</font> "
   ]
  },
  {
   "cell_type": "markdown",
   "id": "f47e8466",
   "metadata": {},
   "source": [
    "These variables are labelled differently for each of these studies. For example, some use the keyword `sex` while others use `gender`. To acccount for these differences, we need to develop a way to search for multiple keywords at once.\n",
    "\n",
    "Let's start by searching for `sex` and `gender` to gain a better understanding of the variables that exist in PIC-SURE with these terms. The `bdc::find.in.dictionary()` function can take in regular expressions. Here, we take advantage of this by searching for both sex and gender in the same regular expression.\n"
   ]
  },
  {
   "cell_type": "code",
   "execution_count": null,
   "id": "5e0cbde1",
   "metadata": {},
   "outputs": [],
   "source": [
    "dictionary <- bdc::use.dictionary(connection) # set up the variable dictionary\n",
    "sex_dictionary <- bdc::find.in.dictionary(dictionary, \"sex|gender\")\n",
    "sex_df <- bdc::extract.dataframe(sex_dictionary)\n",
    "head(sex_df, 3)"
   ]
  },
  {
   "cell_type": "markdown",
   "id": "0d47bf06",
   "metadata": {},
   "source": [
    "After reviewing the variables using the dataframe (or the [user interface](https://picsure.biodatacatalyst.nhlbi.nih.gov/psamaui/login)), let's say we are interested in sex/gender variables from the following studies:\n",
    "- ECLIPSE (Evaluation of COPD Longitudinally to Identify Predictive Surrogate Endpoints) (phs001252)\n",
    "- EOCOPD (Early Onset of COPD) (phs000946)\n",
    "\n",
    "We can find the study IDs in the Data Access Dashboard in the user interface.\n",
    "\n",
    "We have already used the PIC-SURE API dictionary object and find method to find variables which contain the keywords sex and gender. Let's filter these results to our desired studies of interest."
   ]
  },
  {
   "cell_type": "code",
   "execution_count": null,
   "id": "e7d2c4df",
   "metadata": {},
   "outputs": [],
   "source": [
    "# which sex / gender variables are part of ECLIPSE?\n",
    "# create a subset of only ECLIPSE sex/gender vars\n",
    "eclipse_sex_df <- sex_df %>%\n",
    "    filter(grepl('phs001252', study_id)) %>%\n",
    "    select(var_name, var_description, values, HPDS_PATH)\n",
    "\n",
    "eclipse_sex_df"
   ]
  },
  {
   "cell_type": "markdown",
   "id": "1cde5b6a",
   "metadata": {},
   "source": [
    "Many studies may have multiple variables with similar names and descriptions that come from different data tables. This will vary from study to study based on how the original study was conducted and organized. \n",
    "\n",
    "We will approach this complication by examining the data associated with each sex / gender variables in ECLIPSE and determining which would be the best fit for our analysis.\n",
    "\n",
    "Because we want to examine the patient level data, we will create a query using all sex/gender variables in ECLIPSE. We will add these variables to our query using the `anyof` method, as we are interested in all observations with a value for any of our chosen variables."
   ]
  },
  {
   "cell_type": "code",
   "execution_count": null,
   "id": "bbec8403",
   "metadata": {},
   "outputs": [],
   "source": [
    "eclipse_sex_query <- bdc::new.query(authPicSure) # Start a new query\n",
    "invisible(lapply(eclipse_sex_df$HPDS_PATH, bdc::query.select.add, query = eclipse_sex_query))\n",
    "eclipse_sex_results <- bdc::query.run(eclipse_sex_query)\n",
    "head(eclipse_sex_results)"
   ]
  },
  {
   "cell_type": "markdown",
   "id": "12a88cba",
   "metadata": {},
   "source": [
    "By previewing the resulting dataframe, we can see that not all of the sex and gender variables are complete for our participant subset. \n",
    "\n",
    "Let's see which sex/gender variables are the most complete for our dataset by counting the number of NA values in each one. "
   ]
  },
  {
   "cell_type": "code",
   "execution_count": null,
   "id": "274a3999",
   "metadata": {},
   "outputs": [],
   "source": [
    "# first let's see which sex/gender variables are the most complete for our dataset by counting the number of NA values\n",
    "as.data.frame(colSums(eclipse_sex_results != '')) "
   ]
  },
  {
   "cell_type": "markdown",
   "id": "e2fe5d06",
   "metadata": {},
   "source": [
    "We can see that there are a few variables with 0 NA values, we would like to focus on these."
   ]
  },
  {
   "cell_type": "code",
   "execution_count": null,
   "id": "9531511c",
   "metadata": {},
   "outputs": [],
   "source": [
    "# let's focus on those variables which do not have any NA values\n",
    "filtered_eclipse_sex_results = eclipse_sex_results.loc[:, eclipse_sex_results.isna().sum() == 0]\n",
    "filtered_eclipse_sex_results"
   ]
  },
  {
   "cell_type": "code",
   "execution_count": null,
   "id": "7ae3d4a8",
   "metadata": {},
   "outputs": [],
   "source": []
  },
  {
   "cell_type": "code",
   "execution_count": null,
   "id": "cadbfc4f",
   "metadata": {},
   "outputs": [],
   "source": []
  },
  {
   "cell_type": "code",
   "execution_count": null,
   "id": "615ae2e8",
   "metadata": {},
   "outputs": [],
   "source": []
  },
  {
   "cell_type": "code",
   "execution_count": null,
   "id": "342fa632",
   "metadata": {},
   "outputs": [],
   "source": []
  },
  {
   "cell_type": "code",
   "execution_count": null,
   "id": "a36c3cea",
   "metadata": {},
   "outputs": [],
   "source": []
  },
  {
   "cell_type": "code",
   "execution_count": null,
   "id": "b5186b63",
   "metadata": {},
   "outputs": [],
   "source": []
  },
  {
   "cell_type": "code",
   "execution_count": null,
   "id": "281541b5",
   "metadata": {},
   "outputs": [],
   "source": []
  },
  {
   "cell_type": "code",
   "execution_count": null,
   "id": "37922049",
   "metadata": {},
   "outputs": [],
   "source": []
  }
 ],
 "metadata": {
  "kernelspec": {
   "display_name": "R",
   "language": "R",
   "name": "ir"
  },
  "language_info": {
   "codemirror_mode": "r",
   "file_extension": ".r",
   "mimetype": "text/x-r-source",
   "name": "R",
   "pygments_lexer": "r",
   "version": "4.1.3"
  }
 },
 "nbformat": 4,
 "nbformat_minor": 5
}
