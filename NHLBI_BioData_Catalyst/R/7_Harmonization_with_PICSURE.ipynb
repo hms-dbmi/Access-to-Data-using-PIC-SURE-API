{
 "cells": [
  {
   "cell_type": "markdown",
   "id": "29050e3d",
   "metadata": {},
   "source": [
    "# Harmonization across studies with PIC-SURE"
   ]
  },
  {
   "cell_type": "markdown",
   "id": "e0fb3853",
   "metadata": {},
   "source": [
    "This tutorial notebook will demonstrate how to query and work with the BioData Catalyst studies, particularly cross-study harmonization. For a more step-by-step introduction to the python PIC-SURE API, see the `1_PICSURE_API_101.ipynb` notebook."
   ]
  },
  {
   "cell_type": "markdown",
   "id": "3d68dc2e",
   "metadata": {},
   "source": [
    "**Before running this notebook, please be sure to review the \\\"Get your security token\\\" documentation, which exists in the NHLBI_BioData_Catalyst [README.md file](https://github.com/hms-dbmi/Access-to-Data-using-PIC-SURE-API/tree/master/NHLBI_BioData_Catalyst#get-your-security-token). It explains about how to get a security token, which is mandatory to access the databases.**"
   ]
  },
  {
   "cell_type": "markdown",
   "id": "9f3983c0",
   "metadata": {},
   "source": [
    "-----"
   ]
  },
  {
   "cell_type": "markdown",
   "id": "cd2667bb",
   "metadata": {},
   "source": [
    "# Environment set-up"
   ]
  },
  {
   "cell_type": "markdown",
   "id": "b5f76fd1",
   "metadata": {},
   "source": [
    "### System Requirements\n",
    "R >= 3.4\n",
    "\n",
    "### Install packages\n",
    "\n",
    "**Note that if you are using the dedicated PIC-SURE environment within the BioData Catalyst Seven Bridges platform, the necessary packages have already been installed.**\n",
    "\n",
    "*Troubleshooting: if you encounter an error while installing packages or connecting to a PIC-SURE resource, try restarting your kernel and trying again.*"
   ]
  },
  {
   "cell_type": "code",
   "execution_count": null,
   "id": "8c283d2e-6045-48be-9963-0d51251c61c8",
   "metadata": {},
   "outputs": [],
   "source": [
    "### Uncomment this code if you are not using the PIC-SURE environment in Seven Bridges, or if you do not have all the necessary dependencies installed.\n",
    "#install.packages(c(\"devtools\", \"dplyr\", \"ggplot2\"))"
   ]
  },
  {
   "cell_type": "code",
   "execution_count": null,
   "id": "62d8359d",
   "metadata": {
    "scrolled": true
   },
   "outputs": [],
   "source": [
    "install.packages('devtools')\n",
    "devtools::install_github(\"hms-dbmi/pic-sure-r-client\", ref=\"master\", force=T, quiet=TRUE)\n",
    "devtools::install_github(\"hms-dbmi/pic-sure-r-adapter-hpds\", ref=\"master\", force=T, quiet=TRUE)\n",
    "devtools::install_github(\"hms-dbmi/pic-sure-biodatacatalyst-r-adapter-hpds\", ref=\"new-search\", force=T)\n",
    "library(dplyr)\n",
    "library(ggplot2)\n",
    "library(hpds)"
   ]
  },
  {
   "cell_type": "code",
   "execution_count": null,
   "id": "c6f6fc19",
   "metadata": {},
   "outputs": [],
   "source": [
    "install.packages(\"BiocManager\", verbose=TRUE)\n",
    "library(BiocManager)\n",
    "BiocManager::install(\"limma\")\n",
    "library(limma)"
   ]
  },
  {
   "cell_type": "markdown",
   "id": "4995c5e0",
   "metadata": {},
   "source": [
    "## Connecting to a PIC-SURE Network"
   ]
  },
  {
   "cell_type": "code",
   "execution_count": null,
   "id": "1e2bd153",
   "metadata": {},
   "outputs": [],
   "source": [
    "# Uncomment production URL when testing in production\n",
    "# PICSURE_network_URL = \"https://picsure.biodatacatalyst.nhlbi.nih.gov/picsure\"\n",
    "PICSURE_network_URL = \"https://biodatacatalyst.integration.hms.harvard.edu/picsure\"\n",
    "token_file <- \"token.txt\"\n",
    "token <- scan(token_file, what = \"character\")\n",
    "connection <- picsure::connect(PICSURE_network_URL, token)\n",
    "authPicSure = bdc::use.authPicSure(connection)"
   ]
  },
  {
   "cell_type": "markdown",
   "id": "d756958c",
   "metadata": {},
   "source": [
    "-----"
   ]
  },
  {
   "cell_type": "markdown",
   "id": "912eb0e7",
   "metadata": {},
   "source": [
    "## Harmonizing variables with PIC-SURE\n",
    "One of the key challenges to conducting analyses with several studies is ensuring correct data harmonization, or combining of data from different sources. There are many harmonization techniques, but this notebook will demonstrate an approach to finding and extracting similar variables from different studies in PIC-SURE. Two examples of this will be shown:\n",
    "1. Retrieving variables for *sex and gender* across studies with BMI\n",
    "2. Harmonizing the *\"orthopnea\"* and *\"pneumonia\"* variables across studies\n",
    "\n",
    "\n",
    "*For more information about the TOPMed DCC Harmonized Data Set in PIC-SURE, please refer to the [`2_TOPMed_DCC_Harmonized_Variables_analysis.ipynb`](https://github.com/hms-dbmi/Access-to-Data-using-PIC-SURE-API/blob/master/NHLBI_BioData_Catalyst/python/2_TOPMed_DCC_Harmonized_Variables_analysis.ipynb) notebook*"
   ]
  },
  {
   "cell_type": "markdown",
   "id": "71203946",
   "metadata": {},
   "source": [
    "-----"
   ]
  },
  {
   "cell_type": "markdown",
   "id": "f470427a",
   "metadata": {},
   "source": [
    "## Sex and gender variables across studies\n",
    "<font color='darkgreen'>**Goal: Create harmonized variables for sex and BMI which combine data from multiple studies**</font> "
   ]
  },
  {
   "cell_type": "markdown",
   "id": "1b3150e9",
   "metadata": {},
   "source": [
    "These variables are labelled differently for each of these studies. For example, some use the keyword `sex` while others use `gender`. To acccount for these differences, we need to develop a way to search for multiple keywords at once.\n",
    "\n",
    "Let's start by searching for `sex` and `gender` to gain a better understanding of the variables that exist in PIC-SURE with these terms. The `bdc::find.in.dictionary()` function can take in regular expressions. Here, we take advantage of this by searching for both sex and gender in the same regular expression.\n"
   ]
  },
  {
   "cell_type": "code",
   "execution_count": null,
   "id": "6e2a4bad",
   "metadata": {},
   "outputs": [],
   "source": [
    "dictionary <- bdc::use.dictionary(connection) # set up the variable dictionary\n",
    "sex_dictionary <- bdc::find.in.dictionary(dictionary, \"sex|gender\")\n",
    "sex_df <- bdc::extract.dataframe(sex_dictionary)\n",
    "head(sex_df, 3)"
   ]
  },
  {
   "cell_type": "markdown",
   "id": "c6ea4f26",
   "metadata": {},
   "source": [
    "After reviewing the variables using the dataframe (or the [user interface](https://picsure.biodatacatalyst.nhlbi.nih.gov/psamaui/login)), let's say we are interested in sex/gender variables from the following studies:\n",
    "- ECLIPSE (Evaluation of COPD Longitudinally to Identify Predictive Surrogate Endpoints) (phs001252)\n",
    "- EOCOPD (Early Onset of COPD) (phs000946)\n",
    "\n",
    "We can find the study IDs in the Data Access Dashboard in the user interface.\n",
    "\n",
    "We have already used the PIC-SURE API dictionary object and find method to find variables which contain the keywords sex and gender. Let's filter these results to our desired studies of interest."
   ]
  },
  {
   "cell_type": "code",
   "execution_count": null,
   "id": "cd561d99",
   "metadata": {},
   "outputs": [],
   "source": [
    "# which sex / gender variables are part of ECLIPSE?\n",
    "# create a subset of only ECLIPSE sex/gender vars\n",
    "eclipse_sex_df <- sex_df %>%\n",
    "    filter(grepl('phs001252', study_id)) %>%\n",
    "    select(var_name, var_description, values, HPDS_PATH)\n",
    "\n",
    "eclipse_sex_df"
   ]
  },
  {
   "cell_type": "markdown",
   "id": "8beba157",
   "metadata": {},
   "source": [
    "Many studies may have multiple variables with similar names and descriptions that come from different data tables. This will vary from study to study based on how the original study was conducted and organized. \n",
    "\n",
    "We will approach this complication by examining the data associated with each sex / gender variables in ECLIPSE and determining which would be the best fit for our analysis.\n",
    "\n",
    "Because we want to examine the patient level data, we will create a query using all sex/gender variables in ECLIPSE. We will add these variables to our query using the `anyof` method, as we are interested in all observations with a value for any of our chosen variables."
   ]
  },
  {
   "cell_type": "code",
   "execution_count": null,
   "id": "ce499352",
   "metadata": {},
   "outputs": [],
   "source": [
    "eclipse_sex_query <- bdc::new.query(authPicSure) # Start a new query\n",
    "invisible(lapply(eclipse_sex_df$HPDS_PATH, bdc::query.anyof.add, query = eclipse_sex_query))\n",
    "eclipse_sex_results <- bdc::query.run(eclipse_sex_query)\n",
    "head(eclipse_sex_results)"
   ]
  },
  {
   "cell_type": "markdown",
   "id": "7e08ebd3",
   "metadata": {},
   "source": [
    "By previewing the resulting dataframe, we can see that not all of the sex and gender variables are complete for our participant subset. \n",
    "\n",
    "Let's see which sex/gender variables are the most complete for our dataset by counting the number of empty values in each one. "
   ]
  },
  {
   "cell_type": "code",
   "execution_count": null,
   "id": "38330716",
   "metadata": {},
   "outputs": [],
   "source": [
    "# first let's see which sex/gender variables are the most complete for our dataset by counting the number of NA values\n",
    "complete_df <- as.data.frame(colSums(eclipse_sex_results == ''))\n",
    "colnames(complete_df) <- 'n_empty'\n",
    "complete_df\n"
   ]
  },
  {
   "cell_type": "markdown",
   "id": "9314b2b0",
   "metadata": {},
   "source": [
    "We can see that there are a few variables with 0 NA values, we would like to focus on these."
   ]
  },
  {
   "cell_type": "code",
   "execution_count": null,
   "id": "f0d5bf19",
   "metadata": {},
   "outputs": [],
   "source": [
    "filtered_eclipse_sex_results <- eclipse_sex_results %>%\n",
    "    select(complete_df %>% filter(n_empty == 0) %>% rownames)\n",
    "head(filtered_eclipse_sex_results)"
   ]
  },
  {
   "cell_type": "markdown",
   "id": "573cfa6b",
   "metadata": {},
   "source": [
    "Now we have filtered our dataset to only include sex/gender variables in ECLIPSE which have complete data. Let's check to see if the values in each variable (column) differ, or if they all have the same data."
   ]
  },
  {
   "cell_type": "code",
   "execution_count": null,
   "id": "b4f5f24e",
   "metadata": {},
   "outputs": [],
   "source": [
    "# in this example, we notice that all our filtered variables have equivalent data for each patient:\n",
    "unique(apply(filtered_eclipse_sex_results[,-c(1:3)], 1, n_distinct))\n",
    "\n",
    "#filtered_eclipse_sex_results.iloc[:,4:].nunique(axis = 1).unique()"
   ]
  },
  {
   "cell_type": "markdown",
   "id": "2733d307",
   "metadata": {},
   "source": [
    "We can see that all the values in the filtered, complete ECLIPSE sex/gender variables are the same, so we will simply select the first variable to use in our analysis.\n",
    "\n",
    "We can use the `get.varInfo()` function to learn more about a variable."
   ]
  },
  {
   "cell_type": "code",
   "execution_count": null,
   "id": "3d170468",
   "metadata": {},
   "outputs": [],
   "source": [
    "eclipse_sex_var = colnames(filtered_eclipse_sex_results)[4]\n",
    "bdc::get.varInfo(sex_dictionary, eclipse_sex_var)"
   ]
  },
  {
   "cell_type": "markdown",
   "id": "8ac832f6",
   "metadata": {},
   "source": [
    "### Which sex variable in EOCOPD should we use? \n",
    "\n",
    "We will take a similar approach as above, where we first filter our dataframe of sex/gender variables to only those from the EOCOPD study."
   ]
  },
  {
   "cell_type": "code",
   "execution_count": null,
   "id": "a9b16a6b",
   "metadata": {},
   "outputs": [],
   "source": [
    "# which sex/gender variables are part of EOCOPD?\n",
    "eocopd_vars <- sex_df %>% \n",
    "    filter(grepl('phs000946', study_id))"
   ]
  },
  {
   "cell_type": "markdown",
   "id": "20e49bd6",
   "metadata": {},
   "source": [
    "Unlike the ECLIPSE data, we see that there is only one sex variable in EOCOPD. It is called 'GENDER'.\n"
   ]
  },
  {
   "cell_type": "code",
   "execution_count": null,
   "id": "6dd9bed8",
   "metadata": {},
   "outputs": [],
   "source": [
    "# create a subset of only EOCOPD sex/gender vars\n",
    "eocopd_sex_df <- eocopd_vars %>%\n",
    "    select(var_name, var_description, values, HPDS_PATH)\n",
    "eocopd_sex_df"
   ]
  },
  {
   "cell_type": "markdown",
   "id": "340b89c2",
   "metadata": {},
   "source": [
    "We will save the HPDS_PATH associated to this variable so we can add it to our query later."
   ]
  },
  {
   "cell_type": "code",
   "execution_count": null,
   "id": "38a8b2f5",
   "metadata": {},
   "outputs": [],
   "source": [
    "# save the HPDS path associated to our variable of interest\n",
    "eocopd_sex_var = eocopd_sex_df %>% pull(HPDS_PATH)"
   ]
  },
  {
   "cell_type": "markdown",
   "id": "ef09390a",
   "metadata": {},
   "source": [
    "### Which BMI variables should we use?\n",
    "\n",
    "We will follow the approach outlined above to first search our data dictionary for all variables containing the terms 'body mass index'. "
   ]
  },
  {
   "cell_type": "code",
   "execution_count": null,
   "id": "fdff23c5",
   "metadata": {},
   "outputs": [],
   "source": [
    "bmi_dictionary <- bdc::find.in.dictionary(dictionary, \"body mass index\")\n",
    "bmi_df <- bdc::extract.dataframe(bmi_dictionary)\n"
   ]
  },
  {
   "cell_type": "markdown",
   "id": "891f9b0c",
   "metadata": {},
   "source": [
    "We then filter to only those BMI variables which are part of ECLIPSE or EOCOPD and view the variables with their associated metadata. "
   ]
  },
  {
   "cell_type": "code",
   "execution_count": null,
   "id": "5a6db243",
   "metadata": {},
   "outputs": [],
   "source": [
    "# which bmi variables are part of ECLIPSE or EOCOPD?\n",
    "# create a subset of only the ECLIPSE / EOCOPD BMI vars\n",
    "bmi_df <- bmi_df %>%\n",
    "    filter(grepl('phs001252|phs000946', study_id)) %>%\n",
    "    select(var_name, var_description, values, HPDS_PATH)\n",
    "\n",
    "head(bmi_df)\n"
   ]
  },
  {
   "cell_type": "markdown",
   "id": "5363509a",
   "metadata": {},
   "source": [
    "By examining metadata like the variable name and description, we are able to determine which variables we are interested in:\n",
    "- Body Mass Index [BMI ] for EOCOPD (\\phs000946\\pht005719\\phv00266123\\BMI\\)\n",
    "- Body mass index (kg/m2) from the bodycomp table for ECLIPSE (\\phs001252\\pht006373\\phv00293610\\VSBMI\\) \n",
    "\n",
    "We will save the HPDS_PATHs associated to the BMI variables of interest so we can add it to our query later."
   ]
  },
  {
   "cell_type": "code",
   "execution_count": null,
   "id": "c455de9b",
   "metadata": {},
   "outputs": [],
   "source": [
    "# save HPDS_PATHs of interest\n",
    "eocopd_bmi_var <- \"\\\\phs000946\\\\pht005719\\\\phv00266123\\\\BMI\\\\\"\n",
    "eclipse_bmi_var <- \"\\\\phs001252\\\\pht006373\\\\phv00293610\\\\VSBMI\\\\\"\n"
   ]
  },
  {
   "cell_type": "markdown",
   "id": "86e9ac55",
   "metadata": {},
   "source": [
    "### Query PIC-SURE for selected variables\n",
    "First, we create a new query:"
   ]
  },
  {
   "cell_type": "code",
   "execution_count": null,
   "id": "f4e54932",
   "metadata": {},
   "outputs": [],
   "source": [
    "combined_query <- bdc::new.query(authPicSure) # Start a new query"
   ]
  },
  {
   "cell_type": "markdown",
   "id": "66404c9e",
   "metadata": {},
   "source": [
    "Next, we add the HPDS paths (concept paths) for our selected variabels of interest to the query.\n",
    "\n",
    "As a reminder, these are the paths associated to the sex/gender and BMI variables from ECLIPSE and EOCOPD.\n",
    "\n",
    "We use the `.anyof` method to add these variables to the query because we are interested in results with observations in any of the variables of interest. If you are interested in learning more about the other query methods available, see the `1_PICSURE_API_101.ipynb` notebook. "
   ]
  },
  {
   "cell_type": "code",
   "execution_count": null,
   "id": "6a9690a4",
   "metadata": {},
   "outputs": [],
   "source": [
    "# Build query using selected concept paths\n",
    "vars_of_interest <- c(eclipse_sex_var, eclipse_bmi_var, eocopd_sex_var, eocopd_bmi_var)\n",
    "invisible(lapply(vars_of_interest, bdc::query.anyof.add, query = combined_query))\n",
    "combined_results <- bdc::query.run(combined_query)\n",
    "head(combined_results)"
   ]
  },
  {
   "cell_type": "markdown",
   "id": "bf6b5916",
   "metadata": {},
   "source": [
    "### Clean and wrangle query result dataframe\n",
    "You may notice that the column names are not the most informative, we will rename them below."
   ]
  },
  {
   "cell_type": "code",
   "execution_count": null,
   "id": "e0e20365",
   "metadata": {},
   "outputs": [],
   "source": [
    "# rename columns\n",
    "colnames(combined_results) = c('patient_id', 'parent_accession', 'topmed_accession', 'consent', \n",
    "                               'eocopd_sex', 'eocopd_bmi', 'eclipse_bmi', 'eclipse_sex')"
   ]
  },
  {
   "cell_type": "markdown",
   "id": "d1ec47f8",
   "metadata": {},
   "source": [
    "We will also create a 'study' column to easier identify from which study a participant's data originated from."
   ]
  },
  {
   "cell_type": "code",
   "execution_count": null,
   "id": "a2985505",
   "metadata": {},
   "outputs": [],
   "source": [
    "# convert consent code to study name\n",
    "combined_results <- combined_results %>%\n",
    "    mutate(study = ifelse(grepl('phs001252', consent), 'eclipse', 'eocopd'))\n",
    "\n",
    "head(combined_results)\n"
   ]
  },
  {
   "cell_type": "markdown",
   "id": "b3d0c999",
   "metadata": {},
   "source": [
    "Finally, we will harmonize the sex and bmi variables by combining them into one single 'sex' column.\n",
    "\n",
    "Sex and BMI are reported in the same way in both EOCOPD and ECLIPSE, so we do not have to transform any of the participant level data."
   ]
  },
  {
   "cell_type": "code",
   "execution_count": null,
   "id": "8d3da793",
   "metadata": {},
   "outputs": [],
   "source": [
    "combined_results <- combined_results %>%\n",
    "           # combine sex variables\n",
    "    mutate(sex = eocopd_sex, \n",
    "           sex = ifelse(sex == '', eclipse_sex, sex),\n",
    "           # combine bmi variables\n",
    "           bmi = eocopd_bmi,\n",
    "           bmi = ifelse(is.nan(bmi), eclipse_bmi, bmi))\n",
    "\n",
    "head(combined_results)\n"
   ]
  },
  {
   "cell_type": "markdown",
   "id": "97f05b81",
   "metadata": {},
   "source": [
    "### Analysis and visualization\n",
    "\n",
    "In this example, we are interested in comparing mean BMI across different studies. We will calculate the mean for each group (ECLIPSE males, ECLIPSE females, EOCOPD males, EOCOPD females) and display the results as a table and a bar chart."
   ]
  },
  {
   "cell_type": "code",
   "execution_count": null,
   "id": "895ea961",
   "metadata": {},
   "outputs": [],
   "source": [
    "# remove unneccessary columns and summarize\n",
    "plotdf = combined_results %>% \n",
    "    select(sex, study, bmi) %>%\n",
    "    group_by(sex, study) %>%\n",
    "    summarise(mean = mean(bmi, na.rm = TRUE))\n",
    "\n",
    "plotdf"
   ]
  },
  {
   "cell_type": "code",
   "execution_count": null,
   "id": "c1356abf",
   "metadata": {},
   "outputs": [],
   "source": [
    "plotdf %>%\n",
    "ggplot(aes(x = sex, y = mean, fill = study)) +\n",
    "    geom_col(position=\"dodge\") +\n",
    "    theme_bw()\n"
   ]
  },
  {
   "cell_type": "markdown",
   "id": "4c659bde",
   "metadata": {},
   "source": [
    "## Orthopnea variables across studies\n",
    "<font color='darkgreen'>**Goal: Create harmonized variables for orthopnea and pneumonia which combine data from multiple studies, and compare participant distributions across these phenotypes**</font> \n",
    "\n",
    "In this example, we will be harmonizing variables related to `orthopnea`. Orthopnea is shortness of breath that occurs when individuals lie flat. Because of this, people with orthopnea have to sleep propped up in bed or sitting in a chair. You can read more about this condition [here](https://www.sleepfoundation.org/sleep-apnea/orthopnea).\n",
    "\n",
    "Let's start by doing a search in PIC-SURE for concept paths containing `orthopnea`."
   ]
  },
  {
   "cell_type": "markdown",
   "id": "7c7eddc3",
   "metadata": {},
   "source": [
    "### Search and find orthopnea variables\n"
   ]
  },
  {
   "cell_type": "code",
   "execution_count": null,
   "id": "d09e2d52",
   "metadata": {},
   "outputs": [],
   "source": [
    "orthopnea_dictionary <- bdc::find.in.dictionary(dictionary, \"orthopnea\")\n",
    "orthopnea_dataframe <- bdc::extract.dataframe(orthopnea_dictionary)\n",
    "head(orthopnea_dataframe, 3) %>% select(var_name, var_description, values, study_id)"
   ]
  },
  {
   "cell_type": "markdown",
   "id": "be667055",
   "metadata": {},
   "source": [
    "As shown in the resulting dataframe, orthopnea is often recorded as a something like `sleep on two or more pillows to help you breathe?`\n",
    "\n",
    "Let's do a search for `pillows` in PIC-SURE to explore those concept paths."
   ]
  },
  {
   "cell_type": "code",
   "execution_count": null,
   "id": "580b7ffd",
   "metadata": {},
   "outputs": [],
   "source": [
    "pillows_dictionary <- bdc::find.in.dictionary(dictionary, \"pillows\")\n",
    "pillows_dataframe <- bdc::extract.dataframe(pillows_dictionary)\n",
    "head(pillows_dataframe, 3) %>% select(var_name, var_description, values, study_id)\n"
   ]
  },
  {
   "cell_type": "markdown",
   "id": "5ad6ae39",
   "metadata": {},
   "source": [
    "As shown in the resulting dataframe, there are some concept paths related to orthopnea that were not captured by the previous `orthopnea` search, such as `Do you sleep on 2 or more pillows to improve your breathing?` from the Jackson Heart Study (JHS) Cohort (phs000286). In fact, the JHS dataset was not returned at all when we searched for `orthopnea`. \n",
    "\n",
    "This is problematic for researchers studying these types of variables, since the concept paths of interest may not always be captured by a single search term. To account for this, researchers must conduct exploratory searches to determine potential search terms."
   ]
  },
  {
   "cell_type": "markdown",
   "id": "aaf0ef8e",
   "metadata": {},
   "source": [
    "Let's say we want to harmonize orthopnea variables from the following datasets: \n",
    "- FHS (phs000007)\n",
    "- MESA (phs000209)\n",
    "- WHI (phs000200)\n",
    "\n",
    "We can first get all concept paths related to our terms of interest (`orthopnea` or `pillows`) and then filter to our studies of interest.\n",
    "\n",
    "You can get the phs number associated with each study from the Data Access Dashboard."
   ]
  },
  {
   "cell_type": "code",
   "execution_count": null,
   "id": "2eb56f1d",
   "metadata": {},
   "outputs": [],
   "source": [
    "harmonized_dictionary <- bdc::find.in.dictionary(dictionary, \"orthopnea|pillows\")\n",
    "harmonized_df <- bdc::extract.dataframe(harmonized_dictionary)\n",
    "harmonized_df <- harmonized_df %>%\n",
    "    filter(grepl('phs000007|phs000209|phs000200', study_id))\n",
    "harmonized_df %>% select(var_name, var_description, values, study_id)\n"
   ]
  },
  {
   "cell_type": "markdown",
   "id": "8248a6f2",
   "metadata": {},
   "source": [
    "After browsing the available variables, we decided to choose the following:"
   ]
  },
  {
   "cell_type": "code",
   "execution_count": null,
   "id": "b7381dbb",
   "metadata": {},
   "outputs": [],
   "source": [
    "orthopnea_variables_of_interest <- harmonized_df %>%\n",
    "    filter(var_description %in% c('Orthopnea', \n",
    "                                  'F136 Orthopnea', \n",
    "                                  'SLEEP ON 2+ PILLOWS TO HELP BREATHING'))\n",
    "\n",
    "# save variable paths for querying data\n",
    "orthopnea_variable_paths_of_interest = orthopnea_variables_of_interest$HPDS_PATH\n",
    "\n",
    "orthopnea_variables_of_interest %>% select(var_name, var_description, values, study_id)"
   ]
  },
  {
   "cell_type": "markdown",
   "id": "a381ce8a",
   "metadata": {},
   "source": [
    "### Search and find pneumonia variables\n",
    "As part of our research, let's say we are interested in exploring the relationship between pneumonia and orthopnea. Let's save concept paths related to `pneumonia` as well. "
   ]
  },
  {
   "cell_type": "code",
   "execution_count": null,
   "id": "b8979f8f",
   "metadata": {},
   "outputs": [],
   "source": [
    "# search pic-sure for 'pneumonia'\n",
    "harmonized_dictionary <- bdc::find.in.dictionary(dictionary, \"pneumonia\")\n",
    "harmonized_df <- bdc::extract.dataframe(harmonized_dictionary)\n",
    "harmonized_df <- harmonized_df %>%\n",
    "    # filter to variables found in FHS, MESA, WHI\n",
    "    filter(grepl('phs000007|phs000209|phs000200', study_id))\n",
    "harmonized_df %>% select(var_name, var_description, values, study_id)\n"
   ]
  },
  {
   "cell_type": "markdown",
   "id": "45ba282d",
   "metadata": {},
   "source": [
    "After browsing the available variables, we decided to choose the following:"
   ]
  },
  {
   "cell_type": "code",
   "execution_count": null,
   "id": "b1981bee",
   "metadata": {},
   "outputs": [],
   "source": [
    "pneumonia_variables_of_interest = harmonized_df %>%\n",
    "    filter(grepl('phv00255144|phv00083774|phv00283208', var_id))\n",
    "\n",
    "# save variable paths for querying data\n",
    "pneumonia_variable_paths_of_interest = pneumonia_variables_of_interest$HPDS_PATH\n",
    "\n",
    "pneumonia_variables_of_interest %>% select(var_name, var_description, values, study_id)\n"
   ]
  },
  {
   "cell_type": "markdown",
   "id": "cbb1469a",
   "metadata": {},
   "source": [
    "### Query PIC-SURE for selected variables"
   ]
  },
  {
   "cell_type": "code",
   "execution_count": null,
   "id": "8569321f",
   "metadata": {},
   "outputs": [],
   "source": [
    "orthopnea_query <- bdc::new.query(authPicSure) # Start a new query\n",
    "# Build query using selected concept paths\n",
    "vars_of_interest <- c(orthopnea_variable_paths_of_interest, pneumonia_variable_paths_of_interest)\n",
    "invisible(lapply(vars_of_interest, bdc::query.anyof.add, query = orthopnea_query))\n",
    "orthopnea_results <- bdc::query.run(orthopnea_query)\n",
    "head(orthopnea_results)\n"
   ]
  },
  {
   "cell_type": "code",
   "execution_count": null,
   "id": "2c9b8353",
   "metadata": {},
   "outputs": [],
   "source": [
    "# rename columns\n",
    "colnames(orthopnea_results) = c('patient_id', 'parent_accession', 'topmed_accession', 'consent', \n",
    "                             'fhs_pneumonia', 'fhs_orthopnea', 'whi_pneumonia', \n",
    "                             'whi_orthopnea', 'mesa_pneumonia', 'mesa_orthopnea')\n",
    "head(orthopnea_results)\n"
   ]
  },
  {
   "cell_type": "markdown",
   "id": "7b402026",
   "metadata": {},
   "source": [
    "### Clean and wrangle data"
   ]
  },
  {
   "cell_type": "code",
   "execution_count": null,
   "id": "83c4ef66",
   "metadata": {},
   "outputs": [],
   "source": [
    "orthopnea_results <- orthopnea_results %>%\n",
    "    # convert consent code to study name\n",
    "    mutate(study = ifelse(grepl('phs000007', consent), 'fhs',\n",
    "                         ifelse(grepl('phs000209', consent), 'mesa', 'whi')),\n",
    "          # combine orthopnea variables\n",
    "          orthopnea = ifelse(study == 'fhs', fhs_orthopnea,\n",
    "                             ifelse(study == 'mesa', mesa_orthopnea,\n",
    "                                    ifelse(study == 'whi', whi_orthopnea,\n",
    "                                           'OTHER'))),\n",
    "          # combine orthopnea variables\n",
    "          pneumonia = ifelse(study == 'fhs', fhs_pneumonia,\n",
    "                             ifelse(study == 'mesa', mesa_pneumonia,\n",
    "                                    ifelse(study == 'whi', whi_pneumonia,\n",
    "                                           'OTHER'))))\n",
    "\n",
    "\n",
    "head(orthopnea_results)\n"
   ]
  },
  {
   "cell_type": "markdown",
   "id": "07d1eef5",
   "metadata": {},
   "source": [
    "As you may have noticed, the orthopnea and pneumonia variables are encoded differently between these studies. \n",
    "\n",
    "This means that we see a range of vales that need to be harmonized (printed below)\n",
    "\n",
    "We need to create a consistent encoding across these studies. "
   ]
  },
  {
   "cell_type": "code",
   "execution_count": null,
   "id": "37fc1d30",
   "metadata": {},
   "outputs": [],
   "source": [
    "print('Orthopnea values: ')\n",
    "table(orthopnea_results$orthopnea)\n",
    "\n",
    "print('Pneumonia values: ')\n",
    "table(orthopnea_results$pneumonia)"
   ]
  },
  {
   "cell_type": "markdown",
   "id": "8662b409",
   "metadata": {},
   "source": [
    "We create a consistent mapping:"
   ]
  },
  {
   "cell_type": "code",
   "execution_count": null,
   "id": "387861bd",
   "metadata": {},
   "outputs": [],
   "source": [
    "mapping_df <- data.frame('raw' = c(unique(orthopnea_results$orthopnea), \n",
    "                                   unique(orthopnea_results$pneumonia)),\n",
    "                        'harmonized' = c('Yes', 'No', 'Unknown', 'No', 'Yes', 'Unknown',\n",
    "                                         'No', 'Unknown', 'No', 'Yes', 'Unknown', 'No',\n",
    "                                         'Yes', 'Unknown')) %>%\n",
    "unique()\n",
    "\n",
    "mapping_df\n",
    "        "
   ]
  },
  {
   "cell_type": "markdown",
   "id": "38c39be2",
   "metadata": {},
   "source": [
    "And apply it to our hamonized orthopnea and pneumonia columns"
   ]
  },
  {
   "cell_type": "code",
   "execution_count": null,
   "id": "7a30a306",
   "metadata": {},
   "outputs": [],
   "source": [
    "orthopnea_results <- left_join(orthopnea_results, mapping_df, by = c('orthopnea' = 'raw'))\n",
    "orthopnea_results$orthopnea <- orthopnea_results$harmonized\n",
    "orthopnea_results <- left_join(orthopnea_results, mapping_df, by = c('pneumonia' = 'raw'))\n",
    "orthopnea_results$pneumonia <- orthopnea_results$harmonized.y\n",
    "\n",
    "\n",
    "table(orthopnea_results$orthopnea)\n",
    "table(orthopnea_results$pneumonia)\n"
   ]
  },
  {
   "cell_type": "markdown",
   "id": "c361caaa",
   "metadata": {},
   "source": [
    "Now that the variables have been encoded in the same way, we can use this dataframe for analysis and visualizations. "
   ]
  },
  {
   "cell_type": "markdown",
   "id": "4d0aa18a",
   "metadata": {},
   "source": [
    "### Visualize"
   ]
  },
  {
   "cell_type": "code",
   "execution_count": null,
   "id": "7a9026f4",
   "metadata": {},
   "outputs": [],
   "source": [
    "final_df <- orthopnea_results"
   ]
  },
  {
   "cell_type": "code",
   "execution_count": null,
   "id": "7105be7e",
   "metadata": {},
   "outputs": [],
   "source": [
    "final_df %>% \n",
    "    filter(study == 'fhs') %>%\n",
    "    select(pneumonia, orthopnea) %>%\n",
    "    filter(pneumonia != 'Unknown',\n",
    "           orthopnea != 'Unknown') %>%\n",
    "    mutate(pneumonia = ifelse(pneumonia == 'Yes', 1, 0),\n",
    "           orthopnea = ifelse(orthopnea == 'Yes', 1, 0)) %>%\n",
    "    as.matrix %>%\n",
    "    vennCounts %>%\n",
    "    vennDiagram(main = 'FHS Dataset')\n",
    "\n",
    "final_df %>% \n",
    "    filter(study == 'mesa') %>%\n",
    "    select(pneumonia, orthopnea) %>%\n",
    "    filter(pneumonia != 'Unknown',\n",
    "           orthopnea != 'Unknown') %>%\n",
    "    mutate(pneumonia = ifelse(pneumonia == 'Yes', 1, 0),\n",
    "           orthopnea = ifelse(orthopnea == 'Yes', 1, 0)) %>%\n",
    "    as.matrix %>%\n",
    "    vennCounts %>%\n",
    "    vennDiagram(main = 'MESA Dataset')\n",
    "\n",
    "final_df %>% \n",
    "    filter(study == 'whi') %>%\n",
    "    select(pneumonia, orthopnea) %>%\n",
    "    filter(pneumonia != 'Unknown',\n",
    "           orthopnea != 'Unknown') %>%\n",
    "    mutate(pneumonia = ifelse(pneumonia == 'Yes', 1, 0),\n",
    "           orthopnea = ifelse(orthopnea == 'Yes', 1, 0)) %>%\n",
    "    as.matrix %>%\n",
    "    vennCounts %>%\n",
    "    vennDiagram(main = 'WHI Dataset')\n",
    "\n",
    "final_df %>% \n",
    "    select(pneumonia, orthopnea) %>%\n",
    "    filter(pneumonia != 'Unknown',\n",
    "           orthopnea != 'Unknown') %>%\n",
    "    mutate(pneumonia = ifelse(pneumonia == 'Yes', 1, 0),\n",
    "           orthopnea = ifelse(orthopnea == 'Yes', 1, 0)) %>%\n",
    "    as.matrix %>%\n",
    "    vennCounts %>%\n",
    "    vennDiagram(main = 'Combined results across FHS, MESA, and WHI')\n"
   ]
  }
 ],
 "metadata": {
  "kernelspec": {
   "display_name": "R",
   "language": "R",
   "name": "ir"
  },
  "language_info": {
   "codemirror_mode": "r",
   "file_extension": ".r",
   "mimetype": "text/x-r-source",
   "name": "R",
   "pygments_lexer": "r",
   "version": "4.1.3"
  },
  "toc": {
   "base_numbering": 1,
   "nav_menu": {},
   "number_sections": true,
   "sideBar": true,
   "skip_h1_title": false,
   "title_cell": "Table of Contents",
   "title_sidebar": "Contents",
   "toc_cell": false,
   "toc_position": {},
   "toc_section_display": true,
   "toc_window_display": false
  }
 },
 "nbformat": 4,
 "nbformat_minor": 5
}
