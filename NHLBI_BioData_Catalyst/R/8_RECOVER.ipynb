{
 "cells": [
  {
   "cell_type": "markdown",
   "id": "241c5197-aa5d-42f3-bb47-d91586715ef6",
   "metadata": {},
   "source": [
    "# Exploring the RECOVER Adult Cohort on BioData Catalyst\n",
    "\n",
    "RECOVER is a first-of-its-kind, patient-centered research initiative to understand, diagnose, treat, and prevent Long COVID. RECOVER research includes observational cohort studies, electronic health records analysis, pathobiology studies, tissue pathology studies, and clinical trials.\n",
    "\n",
    "RECOVER studies involve thousands of people from all walks of life, hundreds of research investigators, and millions of electronic health records (EHRs). RECOVER aims to achieve the following:\n",
    "\n",
    "* Understand the range of recovery from Long COVID and the changes it can cause in people over time.\n",
    "* Define risk factors, understand the number of people getting Long COVID, and determine whether there are specific, different Long COVID types.\n",
    "* Study how Long COVID changes over time and how those changes may relate to other illnesses.\n",
    "* Identify possible treatments for Long COVID symptoms.\n",
    "\n",
    "\n",
    "Researchers can utilize BioData Catalyst Powered by PIC-SURE to search terms, apply filters, build cohorts, and export of the RECOVER Adult data in an analysis-ready format. "
   ]
  },
  {
   "cell_type": "markdown",
   "id": "6dd1c132-6a06-4aa9-a4cc-f6907c4bba77",
   "metadata": {},
   "source": [
    "----"
   ]
  },
  {
   "cell_type": "markdown",
   "id": "29f4afb0-362e-4e5b-9149-9de25434e2f2",
   "metadata": {},
   "source": [
    "## Set up\n",
    "### Pre-requisites\n",
    "- R 3.4 or later\n",
    "\n",
    "\n",
    "### Install packages\n",
    "\n",
    "The first step to using the PIC-SURE API is to install the packages needed. The following code installs the PIC-SURE API components from GitHub, specifically:\n",
    "\n",
    "- PIC-SURE Client\n",
    "- PIC-SURE Adapter\n",
    "- *BDC-PIC-SURE* Adapter\n",
    "\n",
    "**Note that if you are using the dedicated PIC-SURE environment within the *BDC Powered by Seven Bridges (BDC-Seven Bridges)* platform, the necessary packages have already been installed.**\n",
    "\n",
    "*Troubleshooting: if you encounter an error while installing packages or connecting to a PIC-SURE resource, try restarting your kernel and trying again.*"
   ]
  },
  {
   "cell_type": "code",
   "execution_count": null,
   "id": "b828f512-ec6e-460f-be2b-91c84ff6fb8a",
   "metadata": {},
   "outputs": [],
   "source": [
    "### Uncomment this code if you are not using the PIC-SURE environment in *BDC-Seven Bridges*, or if you do not have all the necessary dependencies installed.\n",
    "#install.packages(\"devtools\")"
   ]
  },
  {
   "cell_type": "code",
   "execution_count": null,
   "id": "3d46ffb2-f0ff-4792-8a0b-0b419a95b63b",
   "metadata": {},
   "outputs": [],
   "source": [
    "Sys.setenv(TAR = \"/bin/tar\")\n",
    "options(unzip = \"internal\")\n",
    "devtools::install_github(\"hms-dbmi/pic-sure-r-adapter-hpds\", ref=\"main\", force=T, quiet=FALSE)\n",
    "library(dplyr)"
   ]
  },
  {
   "cell_type": "markdown",
   "id": "29a26e96-d2b0-4741-8ebb-946b6413fd04",
   "metadata": {},
   "source": [
    "## Connecting to a PIC-SURE resource\n",
    "The following is required to get access to data through the PIC-SURE API: \n",
    "- Network URL\n",
    "- User-specific security token\n",
    "\n",
    "The following code specifies the network URL as the *BDC-PIC-SURE* URL and references the user-specific token saved as `token.txt`.\n",
    "\n",
    "If you have not already retrieved your user-specific token, please refer to the \"Get your security token\" section of the `README.md` file and the `Workspace_setup.ipynb` file."
   ]
  },
  {
   "cell_type": "code",
   "execution_count": null,
   "id": "129e85c8-ae7d-438e-b289-8212bb240c58",
   "metadata": {},
   "outputs": [],
   "source": [
    "PICSURE_network_URL = \"https://picsure.biodatacatalyst.nhlbi.nih.gov/picsure\"\n",
    "token_file <- \"token.txt\"\n",
    "token <- scan(token_file, what = \"character\")\n",
    "session <- picsure::bdc.initializeSession(PICSURE_network_URL, token)\n",
    "session <- picsure::bdc.setResource(session = session,  resourceName = \"AUTH\")"
   ]
  },
  {
   "cell_type": "markdown",
   "id": "1856c777-a1ce-4ccc-9da3-9dd4ed2e75d6",
   "metadata": {},
   "source": [
    "## Using the RECOVER Adult Cohort\n",
    "\n",
    "The RECOVER Adult dataset includes many variables related to Long COVID and COVID-19 symptoms. For a complete view of all RECOVER variables in PIC-SURE, you can refer to the [PIC-SURE RECOVER Data Dictionary spreadsheet](https://docs.google.com/spreadsheets/d/1A-BGTOjEgaPRG0KqSNWLuFFHMRkflSMh4Y_wYL2AGag/edit?usp=sharing). \n",
    "\n",
    "PIC-SURE can also be used in the coding interface to conduct searches for variables, apply filters to build cohorts, and export the data in an analysis-ready format. \n",
    "\n",
    "For the purposes of this example notebook, let's use variables related to:\n",
    "* Postacute sequelae of SARS-CoV-2 infection (PASC)\n",
    "* Headaches or head pain \n",
    "\n",
    "Postacute sequelae of SARS-CoV-2 infection (PASC), also known as *long COVID* is defined as ongoing, relapsing, or new symptoms or conditions present 30 or more days after infection. A recent publication developed a preliminary rule for defining PASC based on a score derived from the most frequently reported symptoms from those with long COVID. A PASC score between 0 and 34 is assigned based on a person's symptoms, where a greater score indicates more PASC symptoms. The publication also defined a cutoff based on this score to identify individuals as PASC positive or PASC negative:\n",
    "* PASC score < 12: PASC negative\n",
    "* PASC score >= 12: PASC positive\n",
    "\n",
    "The RECOVER biostatistics team has used this definition to derive PASC scores for the RECOVER Adult cohort, which will be used in this notebook. For more information about these PASC scores, please refer to Thaweethai et al.'s [Development of a Definition of Postacute Sequelae of SARS-CoV-2 Infection](https://jamanetwork.com/journals/jama/fullarticle/2805540)."
   ]
  },
  {
   "cell_type": "markdown",
   "id": "ab2c8284-b27c-4c62-81cd-a6225adb7b6f",
   "metadata": {},
   "source": [
    "### PASC Scores\n",
    "First, let's search for variables related to `derived PASC score`."
   ]
  },
  {
   "cell_type": "code",
   "execution_count": null,
   "id": "1256b0ff-d22f-4c62-9f0c-2195ad6d7ee0",
   "metadata": {},
   "outputs": [],
   "source": [
    "pasc_vars <- picsure::bdc.searchPicsure(session, keyword = \"derived PASC score\", includeValues = TRUE)\n",
    "head(pasc_vars)"
   ]
  },
  {
   "cell_type": "markdown",
   "id": "d8aa787c-33db-47e4-8126-0bd4c87e8984",
   "metadata": {},
   "source": [
    "Here, we can see that there are many PASC-related variables in the RECOVER Adult dataset. The scores we are interested in are the `pasc_score_biostats_derived`, which are the variables generated by the RECOVER biostatistics team."
   ]
  },
  {
   "cell_type": "code",
   "execution_count": null,
   "id": "570c2355-52a4-4226-94da-67a1bee77cd7",
   "metadata": {},
   "outputs": [],
   "source": [
    "# Limit to only variables with pasc_score_derived_biostats in the var_id\n",
    "biostats_pasc_vars <- pasc_vars %>% filter(grepl(\"pasc_score_biostats_derived\", var_id))\n",
    "head(biostats_pasc_vars)"
   ]
  },
  {
   "cell_type": "markdown",
   "id": "bc3773b3-c450-45ad-9612-55c0cff87eb8",
   "metadata": {},
   "source": [
    "As shown above, there are derived PASC scores as different times during the data collection, including a baseline measurement and followup visits. Let's use the baseline measurement and information from the first three followup visits."
   ]
  },
  {
   "cell_type": "code",
   "execution_count": null,
   "id": "c3df8f3d-5880-4009-81e7-e8855b4fb509",
   "metadata": {},
   "outputs": [],
   "source": [
    "# Save PASC variables for baseline and first three followups\n",
    "baseline_pasc <- biostats_pasc_vars %>% filter(grepl(\"baseline\", var_id)) %>% pull(name)\n",
    "f1_pasc <- biostats_pasc_vars %>% filter(grepl(\"f1_\", var_id)) %>% pull(name)\n",
    "f2_pasc <- biostats_pasc_vars %>% filter(grepl(\"f2_\", var_id)) %>% pull(name)\n",
    "f3_pasc <- biostats_pasc_vars %>% filter(grepl(\"f3_\", var_id)) %>% pull(name)"
   ]
  },
  {
   "cell_type": "markdown",
   "id": "c37672e0-2729-48bd-94a9-353eb291beca",
   "metadata": {},
   "source": [
    "### Headache / Head Pain \n",
    "Next, let's search for variables related to `head pain`."
   ]
  },
  {
   "cell_type": "code",
   "execution_count": null,
   "id": "a8dbb50f-9b17-475c-b70a-ed86e4040c99",
   "metadata": {},
   "outputs": [],
   "source": [
    "# Search for headache variables\n",
    "headpain_vars <- picsure::bdc.searchPicsure(session, keyword = \"head pain\", includeValues = TRUE)\n",
    "headpain_vars <- headpain_vars %>% filter(study_id == \"phs003463\")\n",
    "head(headpain_vars)"
   ]
  },
  {
   "cell_type": "markdown",
   "id": "4422a21a-cea5-4966-bd51-ebb965d6c734",
   "metadata": {},
   "source": [
    "We can see that there are many variables related to head pain, such as `pain_head___around` for head pain around the time of index and `pain_head___now` for head pain at the time of the survey. Let's use the `pain_head___now` variables."
   ]
  },
  {
   "cell_type": "code",
   "execution_count": null,
   "id": "92b52cfb-98a7-436c-bd47-f9f140096f16",
   "metadata": {},
   "outputs": [],
   "source": [
    "headpain_now_vars <- headpain_vars %>% filter(grepl(\"pain_head___now\", var_id))\n",
    "head(headpain_now_vars)"
   ]
  },
  {
   "cell_type": "markdown",
   "id": "4d0ac15d-e55f-43b2-88b0-b420c647939d",
   "metadata": {},
   "source": [
    "As shown above, there are derived head pain now scores at different times during the data collection, including a baseline measurement and followup visits. Let's use the baseline measurement and information from the first three followup visits."
   ]
  },
  {
   "cell_type": "code",
   "execution_count": null,
   "id": "b1d68df9-c038-46bd-8ab6-fe64516213f9",
   "metadata": {},
   "outputs": [],
   "source": [
    "# Save head pain variables for baseline and first three followups\n",
    "baseline_headpain <- headpain_now_vars %>% filter(grepl(\"baseline\", var_id)) %>% pull(name)\n",
    "f1_headpain <- headpain_now_vars %>% filter(grepl(\"f1_\", var_id)) %>% pull(name)\n",
    "f2_headpain <- headpain_now_vars %>% filter(grepl(\"f2_\", var_id)) %>% pull(name)\n",
    "f3_headpain <- headpain_now_vars %>% filter(grepl(\"f3_\", var_id)) %>% pull(name)"
   ]
  },
  {
   "cell_type": "markdown",
   "id": "8c824427-6faf-4a38-808a-9cd7fa62a89a",
   "metadata": {},
   "source": [
    "### Build a Query\n",
    "Now that we have our variables selected, we can build a query. For more information on how to apply filters to a query, please refer to the `1_PICSURE_API_101` notebook. \n",
    "\n",
    "For this query, we will be requiring that participants have information for all selected variables: PASC scores and head pain information for baseline and first three followups."
   ]
  },
  {
   "cell_type": "code",
   "execution_count": null,
   "id": "97017705-213a-47d3-ab18-772168495235",
   "metadata": {},
   "outputs": [],
   "source": [
    "# Build a query\n",
    "pasc_headpain_query <- picsure::bdc.newQuery(session)\n",
    "\n",
    "# Add variables as a \"require\"\n",
    "pasc_headpain_query <- picsure::addClause(query = pasc_headpain_query,\n",
    "                                          keys = c(baseline_pasc, f1_pasc, f2_pasc, f3_pasc, baseline_headpain, f1_headpain, f2_headpain, f3_headpain),\n",
    "                                          type = \"REQUIRE\")"
   ]
  },
  {
   "cell_type": "code",
   "execution_count": null,
   "id": "a254fae0-9f88-44cd-b17f-c8245abdbd90",
   "metadata": {},
   "outputs": [],
   "source": [
    "# Retrieve results\n",
    "results <- picsure::runQuery(pasc_headpain_query, resultType = \"DATA_FRAME\")\n",
    "# head(results) # Uncomment to peek at the dataframe"
   ]
  },
  {
   "cell_type": "markdown",
   "id": "d96fa795-329b-4fb3-a8b2-19f343035189",
   "metadata": {},
   "source": [
    "The export has all variables added ot the query as columns, with each RECOVER Adult study participant as rows. This is saved as a Python dataframe and can be used for analysis."
   ]
  },
  {
   "cell_type": "markdown",
   "id": "db7c5861-3895-422e-af0b-54ad51c9f84d",
   "metadata": {},
   "source": [
    "### Analysis\n",
    "Let's make a visualization to quickly observe the correlation between PASC scores and head pain."
   ]
  },
  {
   "cell_type": "code",
   "execution_count": null,
   "id": "213145fd-b067-4903-81a6-5624e15d1e0b",
   "metadata": {},
   "outputs": [],
   "source": [
    "# Load libraries for plotting and cleaning dataframe\n",
    "library(ggplot2)\n",
    "library(tidyr)"
   ]
  },
  {
   "cell_type": "code",
   "execution_count": null,
   "id": "2ade2a58-be62-43d5-9d60-83a0777e57e0",
   "metadata": {},
   "outputs": [],
   "source": [
    "# Create a boxplot\n",
    "\n",
    "# Rename columns to simpler names and select only those necessary for plotting\n",
    "colnames(results) <- c(\"Patient_ID\", \"Parent\", \"Topmed\", \"consents\",\n",
    "                       \"headpain_baseline\", \"headpain_f1\", \"headpain_f2\", \"headpain_f3\",\n",
    "                       \"pasc_baseline\", \"pasc_f1\", \"pasc_f2\", \"pasc_f3\")\n",
    "clean <- results %>% select(\"Patient_ID\", \"headpain_baseline\", \"headpain_f1\", \n",
    "                            \"headpain_f2\", \"headpain_f3\", \"pasc_baseline\", \n",
    "                            \"pasc_f1\", \"pasc_f2\", \"pasc_f3\")\n",
    "\n",
    "# Clean up dataframe for plotting\n",
    "clean_long <- clean %>%\n",
    "    # Create two columns from headpain and pasc columns to save visit and value\n",
    "    pivot_longer(cols = starts_with(\"headpain\"), names_to = \"headpain_time\", values_to = \"Headpain\") %>%\n",
    "    pivot_longer(cols = starts_with(\"pasc\"), names_to = \"pasc_time\", values_to = \"PASC_Score\") %>%\n",
    "    # Save visit into separate columns\n",
    "    separate(headpain_time, into = c(\"headpain\", \"Visit\"), sep = \"_\") %>%\n",
    "    separate(pasc_time, into = c(\"pasc\", \"Visit2\"), sep = \"_\") %>%\n",
    "    # Save only rows where the visits match and select only necessary columns\n",
    "    filter(Visit == Visit2) %>%\n",
    "    select(Patient_ID, Headpain, PASC_Score, Visit) %>%\n",
    "    # Rename values for better plotting and cleaner data\n",
    "    mutate(Headpain = if_else(Headpain == \"does not have symptom NOW at time of survey\", \"No Headpain\", \"Headpain\"),\n",
    "          Visit = case_when(Visit == \"baseline\" ~ \"Baseline\", \n",
    "                           Visit == \"f1\" ~ \"Followup 1\",\n",
    "                           Visit == \"f2\" ~ \"Followup 2\", \n",
    "                           Visit == \"f3\" ~ \"Followup 3\"))\n",
    "\n",
    "# Make Headpain column a factor, with No Headpain as baseline\n",
    "clean_long$Headpain <- factor(clean_long$Headpain, levels = c(\"No Headpain\", \"Headpain\"))"
   ]
  },
  {
   "cell_type": "code",
   "execution_count": null,
   "id": "9511f135-9609-4538-a069-9c6ca34deac2",
   "metadata": {},
   "outputs": [],
   "source": [
    "# Assuming your dataframe is named df_long\n",
    "ggplot(clean_long, aes(x = Visit, y = PASC_Score, fill = Headpain)) +\n",
    "  geom_boxplot() +\n",
    "  labs(title = \"RECOVER Adult PASC Scores and Headpain\",\n",
    "       y = \"PASC Score\",\n",
    "       fill = \"Headpain Status\") +\n",
    "  scale_fill_manual(values = c(\"Headpain\" = \"#c0143c\", \"No Headpain\" = \"#1a568c\")) #+\n",
    "  #theme_minimal()\n"
   ]
  },
  {
   "cell_type": "code",
   "execution_count": null,
   "id": "645331aa-00a4-4a4a-8146-2c74e4b482a3",
   "metadata": {},
   "outputs": [],
   "source": []
  }
 ],
 "metadata": {
  "kernelspec": {
   "display_name": "R",
   "language": "R",
   "name": "ir"
  },
  "language_info": {
   "codemirror_mode": "r",
   "file_extension": ".r",
   "mimetype": "text/x-r-source",
   "name": "R",
   "pygments_lexer": "r",
   "version": "4.1.3"
  }
 },
 "nbformat": 4,
 "nbformat_minor": 5
}
