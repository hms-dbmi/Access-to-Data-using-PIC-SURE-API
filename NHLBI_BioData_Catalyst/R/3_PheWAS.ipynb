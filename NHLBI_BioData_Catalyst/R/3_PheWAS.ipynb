{
 "cells": [
  {
   "cell_type": "markdown",
   "metadata": {},
   "source": [
    "# PIC-SURE R API use-case: Phenome-Wide analysis on BioData Catalyst studies"
   ]
  },
  {
   "cell_type": "markdown",
   "metadata": {},
   "source": [
    "This notebook is an illustration example about how to query data using the R **PIC-SURE API**. It takes as use-case a simple PheWAS analysis. This notebook is intentionally straightforward, and explanation provided are only aimed at guiding through the PheWAS analysis process. For a more step-by-step introduction to the R PIC-SURE API, see the `1_PICSURE_API_101.ipynb` notebook."
   ]
  },
  {
   "cell_type": "markdown",
   "metadata": {},
   "source": [
    "**Before running this notebook, please be sure to get an user-specific security token. For more information on how to proceed, see the `get_your_token.ipynb` notebook**"
   ]
  },
  {
   "cell_type": "markdown",
   "metadata": {},
   "source": [
    "## Environment set-up"
   ]
  },
  {
   "cell_type": "markdown",
   "metadata": {},
   "source": [
    "### System requirements\n",
    "- R 4.0 or later"
   ]
  },
  {
   "cell_type": "markdown",
   "metadata": {},
   "source": [
    "### Install packages\n",
    "\n",
    "**Note that if you are using the dedicated PIC-SURE environment within the BioData Catalyst Seven Bridges platform, the necessary packages have already been installed.**"
   ]
  },
  {
   "cell_type": "code",
   "execution_count": null,
   "metadata": {},
   "outputs": [],
   "source": [
    "### Uncomment this code if you are not using the PIC-SURE environment in Seven Bridges, or if you do not have all the necessary dependencies installed.\n",
    "#install.packages(c(\"devtools\", \"dplyr\", \"ggplot2\", \"stringr\", \"ggrepel\"))"
   ]
  },
  {
   "cell_type": "code",
   "execution_count": null,
   "metadata": {},
   "outputs": [],
   "source": [
    "install.packages('devtools')\n",
    "devtools::install_github(\"hms-dbmi/pic-sure-r-client\", ref=\"master\", force=T, quiet=TRUE)\n",
    "devtools::install_github(\"hms-dbmi/pic-sure-r-adapter-hpds\", ref=\"master\", force=T, quiet=TRUE)\n",
    "devtools::install_github(\"hms-dbmi/pic-sure-biodatacatalyst-r-adapter-hpds\", ref=\"new-search\", force=T)\n",
    "library(dplyr)\n",
    "library(stringr)\n",
    "library(ggplot2)\n",
    "library(ggrepel)\n",
    "library(hpds)"
   ]
  },
  {
   "cell_type": "markdown",
   "metadata": {},
   "source": [
    "## Connecting to a PIC-SURE resource"
   ]
  },
  {
   "cell_type": "code",
   "execution_count": null,
   "metadata": {
    "scrolled": true
   },
   "outputs": [],
   "source": [
    "# Uncomment production URL when testing in production\n",
    "# PICSURE_network_URL = \"https://picsure.biodatacatalyst.nhlbi.nih.gov/picsure\"\n",
    "PICSURE_network_URL = \"https://biodatacatalyst.integration.hms.harvard.edu/picsure\"\n",
    "token_file <- \"token.txt\"\n",
    "token <- scan(token_file, what = \"character\")\n",
    "connection <- picsure::connect(PICSURE_network_URL, token)\n",
    "authPicSure = bdc::use.authPicSure(connection)"
   ]
  },
  {
   "cell_type": "markdown",
   "metadata": {},
   "source": [
    "# PheWAS analysis\n",
    "*Note: This example is not meant to be publication-ready, but rather serve as a guide or starting point to perform PheWAS.*\n",
    "\n",
    "This PheWAS analysis focuses on the TopMed DCC Harmonized Variables. \n",
    "We leverage the harmonized variables to provide an example PheWAS focused on total cholesterol in FHS.\n",
    "The PIC-SURE API is helpful in wrangling our phenotypic data. \n",
    "\n",
    "In a nutshell, this PheWAS analysis follows the subsequent steps:\n",
    "1. Retrieving the variable dictionary, using the PIC-SURE API dedicated methods\n",
    "2. Using the PIC-SURE API to select variables and retrieve data\n",
    "3. Data management\n",
    "4. Statistical analysis for each study and sex\n",
    "5. Visualization of results in Manhattan Plot\n",
    "\n",
    "With this, we are tackling two different analysis considerations of a PheWAS: \n",
    "1. Using multiple variables in a PheWAS. In this example, we are looking into sex differences of total \n",
    "2. Harmonization and meta-analysis issues when using data from multiple studies or datasets"
   ]
  },
  {
   "cell_type": "markdown",
   "metadata": {},
   "source": [
    "### 1. Retrieving variable dictionary from PIC-SURE\n",
    "The first step to conducting the PheWAS is to retrieve information about the variables that will be used in the analysis. For this example, we will be using variables from the TOPMed Data Coordinating Center (DCC) Harmonized data set. \n",
    "\n",
    "The Data Harmonization effort aims to produce \"a high quality, lasting resource of publicly available and thoroughly documented harmonized phenotype variables\". The TOPMed DCC collaborates with Working Group members and phenotype experts on this endeavour. So far, 44 harmonized variables are accessible through PIC-SURE API (in addition to the age at which each variable value has been collected for a given subject).\n",
    "\n",
    "Which phenotypic characteristics are included in the harmonized variables?\n",
    "\n",
    "- Key NHLBI phenotypes\n",
    "    - Blood cell counts\n",
    "    - VTE\n",
    "    - Atherosclerosis-related phenotypes\n",
    "    - Lipids\n",
    "    - Blood pressure\n",
    "    \n",
    "    \n",
    "- Common covariates\n",
    "    - Height\n",
    "    - Weight\n",
    "    - BMI\n",
    "    - Smoking status\n",
    "    - Race/ethnicity\n",
    "\n",
    "More information about the variable harmonization process is available at https://www.nhlbiwgs.org/sites/default/files/pheno_harmonization_guidelines.pdf"
   ]
  },
  {
   "cell_type": "markdown",
   "metadata": {},
   "source": [
    "Here, we find all 44 DCC harmonized variables. For more details on this process, see the `2_TOPMed_DCC_Harmonized_Variables_analysis` notebook."
   ]
  },
  {
   "cell_type": "code",
   "execution_count": null,
   "metadata": {
    "scrolled": true
   },
   "outputs": [],
   "source": [
    "dictionary <- bdc::use.dictionary(connection) # set up the variable dictionary\n",
    "harmonized_dic <- bdc::find.in.dictionary(dictionary, \"harmonized\")\n",
    "harmonized_df <- bdc::extract.dataframe(harmonized_dic)\n",
    "harmonized_df <- harmonized_df[!grepl(pattern = \"age_at|SUBJECT_ID|unit_\", harmonized_df$var_name),]\n",
    "dim(harmonized_df)\n",
    "head(harmonized_df[,c('var_name', 'var_description', 'HPDS_PATH', 'study_id')])"
   ]
  },
  {
   "cell_type": "markdown",
   "metadata": {},
   "source": [
    "### 2. Using the PIC-SURE API to select variables and retrieve data\n",
    "Now that we've retrieved the variable information, we need to select our variable of interest. In this example, we are interested in exploring the relationship between the harmonized variables and blood cholesterol. Specifically, we will find the HPDS path that contains \"Blood mass concentration of total cholesterol\"."
   ]
  },
  {
   "cell_type": "code",
   "execution_count": null,
   "metadata": {
    "scrolled": true
   },
   "outputs": [],
   "source": [
    "# Retrieve the dependent variable - total cholesterol\n",
    "cholesterol_variables <- harmonized_df %>%\n",
    "    filter(grepl('cholesterol', HPDS_PATH))\n",
    "cholesterol_variables\n",
    "\n",
    "cholesterol_path <- cholesterol_variables %>% pull(HPDS_PATH)"
   ]
  },
  {
   "cell_type": "code",
   "execution_count": null,
   "metadata": {
    "scrolled": true
   },
   "outputs": [],
   "source": [
    "# Create full list of concept paths with cholesterol_path removed\n",
    "selected_vars <- harmonized_df %>% \n",
    "    filter(!grepl('cholesterol', HPDS_PATH)) %>%\n",
    "    pull(HPDS_PATH)"
   ]
  },
  {
   "cell_type": "markdown",
   "metadata": {},
   "source": [
    "We are ready to create our query and retrieve the dataframe. This query will consist of two parts:\n",
    "1. **Any record of `cholesterol_path`.** By performing an \"any record of\" filter on the `cholesterol_path`, we will filter out all participants that do not have total blood cholesterol measurements. This allows us to perform more meaningful statistical analysis on the data.\n",
    "2. **Select all remaining harmonized variables (`selected_vars`).** We will then add all of the remaining harmonized variables to the query, which will allow us to retrieve this information."
   ]
  },
  {
   "cell_type": "code",
   "execution_count": null,
   "metadata": {
    "scrolled": true
   },
   "outputs": [],
   "source": [
    "# Initialize a query\n",
    "myquery <- bdc::new.query(authPicSure) # Start a new query\n",
    "bdc::query.anyof.add(myquery, cholesterol_path) # Use anyof for the cholesterol variable to filter out the NA values\n",
    "invisible(lapply(selected_vars, bdc::query.select.add, query = myquery))\n",
    "facts <- bdc::query.run(myquery)\n",
    "head(facts)"
   ]
  },
  {
   "cell_type": "markdown",
   "metadata": {},
   "source": [
    "### 3. Data-management\n",
    "Now that we have retrieved the data, we shall perform some data management steps to prepare for the statistical analysis. First, we will identify which variables are categorical and which are continuous using the `data_type` column of the harmonized dictionary. This is an example of how the PIC-SURE API greatly simplifies this step for the user, as categorizing variables can be tricky."
   ]
  },
  {
   "cell_type": "code",
   "execution_count": null,
   "metadata": {
    "scrolled": true
   },
   "outputs": [],
   "source": [
    "categorical_df <- harmonized_df %>% filter(data_type == 'categorical')\n",
    "categorical_varnames <- categorical_df %>% pull(HPDS_PATH)\n",
    "continuous_df <- harmonized_df %>% filter(data_type == 'continuous')\n",
    "continuous_varnames <-  continuous_df %>% pull(HPDS_PATH)\n"
   ]
  },
  {
   "cell_type": "code",
   "execution_count": null,
   "metadata": {
    "scrolled": true
   },
   "outputs": [],
   "source": [
    "# remove cholesterol_path from continuous_varnames\n",
    "continuous_varnames <- continuous_varnames[-which(continuous_varnames == cholesterol_path)]\n",
    "# remove subgroup concept path from categorical_varnames\n",
    "categorical_varnames <- categorical_varnames[-which(categorical_varnames == \"\\\\DCC Harmonized data set\\\\01 - Demographics\\\\A distinct subgroup within a study  generally indicating subjects who share similar characteristics due to study design. Subjects may belong to only one subcohort.\\\\\")]"
   ]
  },
  {
   "cell_type": "markdown",
   "metadata": {},
   "source": [
    "To perform this PheWAS, we will frame two participant cohorts in the context of the dependent variable of interest. In this example, we are interested in blood cholesterol. However, `Blood mass concentation of total cholesterol` is a continuous variable. We shall convert this variable into a binary variable with two groups, Normal/Low and High cholesterol levels, by applying a [threshold of 200mg/dL](https://www.mayoclinic.org/diseases-conditions/high-blood-cholesterol/diagnosis-treatment/drc-20350806). "
   ]
  },
  {
   "cell_type": "code",
   "execution_count": null,
   "metadata": {
    "scrolled": true
   },
   "outputs": [],
   "source": [
    "chol_vector <- facts %>% pull(eval(cholesterol_path))\n",
    "facts$categorical_cholesterol <- cut(chol_vector, breaks = c(48, 200, 647),\n",
    "                  labels = c(\"Normal/Low\", \"High\"))"
   ]
  },
  {
   "cell_type": "markdown",
   "metadata": {},
   "source": [
    "We will also specify the variable name for the covariate we are interested in, in this case Sex."
   ]
  },
  {
   "cell_type": "code",
   "execution_count": null,
   "metadata": {
    "scrolled": true
   },
   "outputs": [],
   "source": [
    "sex_path <- colnames(facts)[grep('sex', colnames(facts))]\n",
    "sex_path"
   ]
  },
  {
   "cell_type": "markdown",
   "metadata": {},
   "source": [
    "We will also select our cohorts of interest. In this example, we are interested in participants from the Framingham Heart Study (FHS). We can utilize the `\\\\DCC Harmonized data set\\\\demographic\\\\subcohort_1\\\\` concept path in the DCC Harmonized data set to select the participants of interest."
   ]
  },
  {
   "cell_type": "code",
   "execution_count": null,
   "metadata": {
    "scrolled": true
   },
   "outputs": [],
   "source": [
    "subgroup_var <- '\\\\DCC Harmonized data set\\\\demographic\\\\subcohort_1\\\\' # Get concept path for distinct subgroups\n",
    "# Filter using FHS \n",
    "fhs_subset <- facts %>% filter(grepl('FHS', get(subgroup_var)))"
   ]
  },
  {
   "cell_type": "markdown",
   "metadata": {},
   "source": [
    "### 4. Statistical analysis\n",
    "Two different association tests will be carried out according to variables data types:\n",
    "- Logistic regression for continuous variables, using the `glm` R function\n",
    "- Fisher exact test for categorical variables, using the `fisher.test` R function\n",
    "\n",
    "We will create two functions, `test_continuous` and `test_categorical`, to perform these statistical tests. \n",
    "An additional function, `check_vars`, will be used to check if the data passes some assumptions of these tests.\n"
   ]
  },
  {
   "cell_type": "code",
   "execution_count": null,
   "metadata": {
    "scrolled": true
   },
   "outputs": [],
   "source": [
    "test_continuous <- function(dependent_vec, independent_vec){\n",
    "    \n",
    "    pval <- 999\n",
    "    glm.fit <- glm(dependent_vec ~ independent_vec, family = 'binomial')\n",
    "    try(pval <- coef(summary(glm.fit))['independent_vec','Pr(>|z|)'], silent = TRUE)\n",
    "    if (pval == 999) {pval <- NA}\n",
    "    \n",
    "    return(pval)\n",
    "}\n",
    "\n",
    "test_categorical <- function(dependent_vec, independent_vec) {\n",
    "    \n",
    "    contingency_table <- table(dependent_vec, independent_vec)\n",
    "    \n",
    "    # set arbitrary cutoff (5): do not compute stats for categorical variables with too many levels\n",
    "    if (max(dim(contingency_table)) > 5 | min(dim(contingency_table)) == 1) {\n",
    "        return(NA)\n",
    "    } else {\n",
    "        res <- fisher.test(contingency_table, workspace = 2e8, simulate.p.value=TRUE)\n",
    "        pval <- res$p.value\n",
    "        return(pval)\n",
    "    }   \n",
    "}\n",
    "\n",
    "check_vars <- function(dependent_var, other_var, df, case_value, control_value){\n",
    "    pass <- FALSE\n",
    "    cases <- df %>% filter(get(dependent_var) == case_value)\n",
    "    controls <- df %>% filter(get(dependent_var) == control_value)\n",
    "    \n",
    "    \n",
    "    try(if ((var(cases, na.rm = TRUE) != 0) & (var(controls, na.rm = TRUE) != 0)) {pass <- TRUE}, silent = TRUE)\n",
    "    \n",
    "    concept_vec <- df %>% pull(eval(other_var))\n",
    "    if(length(table(concept_vec)) > 1) {pass <- TRUE}\n",
    "    \n",
    "    return(pass)\n",
    "}"
   ]
  },
  {
   "cell_type": "markdown",
   "metadata": {},
   "source": [
    "We wrap the previously created functions into one broad analysis function: ```run_phewas```. This would allow the user to run a variation of the analyses described here simply by modifying the calls to the function. The arguments are described below.\n",
    "- `facts`: a dataframe representing the results from your PIC-SURE query. This dataframe can be filtered as needed.\n",
    "- `dependent_var`: the column name corresponding to the name of your outcome varible. In this example. 'categorical_cholesterol'.\n",
    "- `continuous_varnames`: a vector containing all column names of continuous variables within the facts dataframe which you would like to test.\n",
    "- `categorical_varnames`: a vector containing all column names of categorical variables within the facts dataframe which you would like to test.\n",
    "- `case_value`: the value corresponding to the 'cases' in the dependent_var vector\n",
    "- `control_value`: the value corresponding to the 'controls' in the dependent_var vector"
   ]
  },
  {
   "cell_type": "code",
   "execution_count": null,
   "metadata": {
    "scrolled": true
   },
   "outputs": [],
   "source": [
    "run_phewas <- function(facts, dependent_var, continuous_varnames, categorical_varnames, case_value, control_value){\n",
    "\n",
    "    results_df <- data.frame('concept_code' = '', \n",
    "                             'simplified_varname' = '', \n",
    "                             'vartype' = '', \n",
    "                             'pval' = 1.0,\n",
    "                             'n_cases' = 0,\n",
    "                             'n_controls' = 0,\n",
    "                             'var_cases' = 0,\n",
    "                             'var_controls' = 0\n",
    "                            )[-1,]\n",
    "\n",
    "    for (other_var in continuous_varnames){\n",
    "        \n",
    "        df <- facts %>% select(eval(dependent_var), eval(other_var)) # do any filtering, removal of NA or blank values here if necessary (currently not doing so)\n",
    "        check <- check_vars(dependent_var, other_var, df, case_value, control_value)\n",
    "        if(check){\n",
    "        results_df <- results_df %>% add_row(concept_code = other_var, \n",
    "                                             simplified_varname = str_extract(other_var, '\\\\\\\\[^\\\\\\\\]*\\\\\\\\$') %>% str_replace_all('\\\\\\\\', ''), \n",
    "                                             vartype = 'continuous', \n",
    "                                             pval = test_continuous(df[,1], df[,2]),\n",
    "                                             n_cases = df %>% filter(get(dependent_var) == case_value, !is.na(get(other_var))) %>% nrow(),\n",
    "                                             n_controls = df %>% filter(get(dependent_var) == control_value, !is.na(get(other_var))) %>% nrow(),\n",
    "                                             var_cases = df %>% filter(get(dependent_var) == case_value) %>% pull(eval(other_var)) %>% var(na.rm = TRUE), #Variance\n",
    "                                             var_controls = df %>% filter(get(dependent_var) == control_value) %>% pull(eval(other_var)) %>% var(na.rm = TRUE)\n",
    "                                            )\n",
    "            }\n",
    "    }\n",
    "    for (other_var in categorical_varnames){\n",
    "        \n",
    "        df <- facts %>% select(eval(dependent_var), eval(other_var)) # do any filtering, removal of NA or blank values here if necessary (currently not doing so)\n",
    "        check <- check_vars(dependent_var, other_var, df, case_value, control_value)\n",
    "        if(check) {\n",
    "        results_df <- results_df %>% add_row(concept_code = other_var, \n",
    "                                             simplified_varname = str_extract(other_var, '\\\\\\\\[^\\\\\\\\]*\\\\\\\\$') %>% str_replace_all('\\\\\\\\', ''), \n",
    "                                             vartype = 'categorical', \n",
    "                                             pval = test_categorical(df[,2], df[,1]),\n",
    "                                             n_cases = df %>% filter(get(dependent_var) == case_value, !is.na(get(other_var))) %>% nrow(),\n",
    "                                             n_controls = df %>% filter(get(dependent_var) == control_value, !is.na(get(other_var))) %>% nrow(),\n",
    "                                             var_cases = NA,\n",
    "                                             var_controls = NA\n",
    "                                            )\n",
    "        \n",
    "            }\n",
    "        }\n",
    "    return(results_df)\n",
    "}"
   ]
  },
  {
   "cell_type": "markdown",
   "metadata": {},
   "source": [
    "We then use our previously defined wrapper function to run the PheWAS 2 times:\n",
    "- Testing all harmonized variables against cholesterol in females in the FHS study\n",
    "- Testing all harmonized variables against cholesterol in males in the FHS study\n"
   ]
  },
  {
   "cell_type": "code",
   "execution_count": null,
   "metadata": {},
   "outputs": [],
   "source": [
    "fhs_female_df <- run_phewas(fhs_subset %>% filter(get(sex_path) == 'Female'),\n",
    "                                     \"categorical_cholesterol\", \n",
    "                                     continuous_varnames, \n",
    "                                     categorical_varnames, \n",
    "                                     case_value=\"High\", \n",
    "                                     control_value=\"Normal/Low\") %>%\n",
    "    mutate(sex = 'Female',\n",
    "           study = 'FHS')\n",
    "\n",
    "fhs_male_df <- run_phewas(fhs_subset %>% filter(get(sex_path) == 'Male'),\n",
    "                                     \"categorical_cholesterol\", \n",
    "                                     continuous_varnames, \n",
    "                                     categorical_varnames, \n",
    "                                     case_value=\"High\", \n",
    "                                     control_value=\"Normal/Low\") %>%\n",
    "    mutate(sex = 'Male',\n",
    "           study = 'FHS')\n"
   ]
  },
  {
   "cell_type": "code",
   "execution_count": null,
   "metadata": {
    "scrolled": true
   },
   "outputs": [],
   "source": [
    "combined_df <- rbind(fhs_female_df, fhs_male_df)\n",
    "head(combined_df)"
   ]
  },
  {
   "cell_type": "markdown",
   "metadata": {},
   "source": [
    "Because we are running many statistical tests, we need to perform a p-value adjustment. Here, we use the holm-bonferroni method with an alpha of 0.01."
   ]
  },
  {
   "cell_type": "code",
   "execution_count": null,
   "metadata": {
    "scrolled": true
   },
   "outputs": [],
   "source": [
    "combined_df$adj_pvalues <- p.adjust(combined_df$pval, method=\"holm\")\n",
    "combined_df$log_adj_pvalues <- -log10(combined_df$adj_pvalues)\n",
    "adjusted_alpha <- -log10(0.01) "
   ]
  },
  {
   "cell_type": "code",
   "execution_count": null,
   "metadata": {
    "scrolled": true
   },
   "outputs": [],
   "source": [
    "# identify top 5 adjusted p value results for each study\n",
    "combined_df <- combined_df %>% \n",
    "    group_by(study) %>% \n",
    "    mutate(top5pbystudy = log_adj_pvalues %in% sort(log_adj_pvalues, decreasing = TRUE)[1:5])"
   ]
  },
  {
   "cell_type": "markdown",
   "metadata": {},
   "source": [
    "### 5. Visualization of results in a Manhattan plot\n",
    "We plot a Manhattan plot, commonly used in PheWAS analyses, to visualize our results. First we will organize our data for plotting."
   ]
  },
  {
   "cell_type": "code",
   "execution_count": null,
   "metadata": {
    "scrolled": true
   },
   "outputs": [],
   "source": [
    "# Identify and record categories for each concept code\n",
    "category_vector <- c()\n",
    "for(cat in str_split(combined_df$concept_code, '\\\\\\\\')){\n",
    "    category_vector <- c(category_vector, cat[3])\n",
    "}\n",
    "combined_df$category <- category_vector"
   ]
  },
  {
   "cell_type": "code",
   "execution_count": null,
   "metadata": {
    "scrolled": true
   },
   "outputs": [],
   "source": [
    "# Order datafame\n",
    "plot_df <- combined_df[order(combined_df$category, combined_df$simplified_varname), ]\n",
    "plot_df$category <- as.factor(plot_df$category)\n",
    "# Just label the top5\n",
    "plot_df$graph_labels <- ''\n",
    "plot_df[plot_df$top5pbystudy,]$graph_labels <- plot_df[plot_df$top5pbystudy, ]$simplified_varname"
   ]
  },
  {
   "cell_type": "markdown",
   "metadata": {},
   "source": [
    "The x axis represents each of the phenotypes tested, and the y axis represents their associated -log10 p value. "
   ]
  },
  {
   "cell_type": "code",
   "execution_count": null,
   "metadata": {
    "scrolled": true
   },
   "outputs": [],
   "source": [
    "options(repr.plot.width=25, repr.plot.height=20)\n",
    "my_theme <- theme_bw() +\n",
    "theme(axis.title.y = element_text(face=\"italic\", size=30),\n",
    "      title = element_text(size=35),\n",
    "      axis.title.x = element_text(size=30),\n",
    "      axis.text.x = element_blank(),\n",
    "      panel.grid.major.x = element_blank(),\n",
    "      strip.text = element_text(size=25)\n",
    "      )"
   ]
  },
  {
   "cell_type": "code",
   "execution_count": null,
   "metadata": {
    "scrolled": true
   },
   "outputs": [],
   "source": [
    "# Manatthan plot using geom_jitter --> more suitable when number of point per category is enough\n",
    "ggplot(data=plot_df, aes(x=concept_code, y=log_adj_pvalues, \n",
    "                         shape=sex, color=category, label=graph_labels)) +\n",
    "geom_jitter(alpha=1, \n",
    "           width=0.5,\n",
    "           size=5) +\n",
    "geom_hline(yintercept=adjusted_alpha, linetype=\"dashed\", color = 'red') +\n",
    "scale_y_continuous(expand = c(0, 20) ) +\n",
    "geom_text_repel(size=6)+\n",
    "labs(title=\"Association between phenotypic variables and cholesterol level status\",\n",
    "    x=\"Phenotype\",\n",
    "    y=\"- log10(p-values)\",\n",
    "    colour=\"Category\",\n",
    "    shape=\"Sex\") +\n",
    "facet_wrap(facets = vars(study), nrow = 2) +\n",
    "my_theme\n"
   ]
  },
  {
   "cell_type": "code",
   "execution_count": null,
   "metadata": {
    "scrolled": true
   },
   "outputs": [],
   "source": [
    "# View top 5 p-values for each study/sex combination\n",
    "print(\"FHS Females:\")\n",
    "arrange(fhs_female_df, pval)[1:5,] %>% select(simplified_varname, pval, sex, study)\n",
    "print(\"FHS Males:\")\n",
    "arrange(fhs_male_df, pval)[1:5,] %>% select(simplified_varname, pval, sex, study)"
   ]
  },
  {
   "cell_type": "code",
   "execution_count": null,
   "metadata": {
    "scrolled": true
   },
   "outputs": [],
   "source": []
  },
  {
   "cell_type": "code",
   "execution_count": null,
   "metadata": {
    "scrolled": true
   },
   "outputs": [],
   "source": []
  },
  {
   "cell_type": "code",
   "execution_count": null,
   "metadata": {},
   "outputs": [],
   "source": []
  }
 ],
 "metadata": {
  "jupytext": {
   "formats": "ipynb,Rmd"
  },
  "kernelspec": {
   "display_name": "R",
   "language": "R",
   "name": "ir"
  },
  "language_info": {
   "codemirror_mode": "r",
   "file_extension": ".r",
   "mimetype": "text/x-r-source",
   "name": "R",
   "pygments_lexer": "r",
   "version": "4.1.3"
  },
  "toc": {
   "base_numbering": 1,
   "nav_menu": {},
   "number_sections": true,
   "sideBar": true,
   "skip_h1_title": false,
   "title_cell": "Table of Contents",
   "title_sidebar": "Contents",
   "toc_cell": false,
   "toc_position": {},
   "toc_section_display": true,
   "toc_window_display": false
  }
 },
 "nbformat": 4,
 "nbformat_minor": 4
}
