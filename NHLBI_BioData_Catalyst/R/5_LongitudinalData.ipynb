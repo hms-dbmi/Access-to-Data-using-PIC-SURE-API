{
 "cells": [
  {
   "cell_type": "markdown",
   "id": "3603c40d",
   "metadata": {},
   "source": [
    "# Identifying and Extracting Longitudinal Variables using the R PIC-SURE API"
   ]
  },
  {
   "cell_type": "markdown",
   "id": "164db031",
   "metadata": {},
   "source": [
    "This tutorial notebook will demonstrate how to identify and extract longitudinal variables using the R PIC-SURE API. Longitudinal variables are defined as containing multiple 'Exam' or 'Visit' descriptions within their concept path. \n",
    "\n",
    "In this example, we will find the patient level data for a lipid-related longitudinal variable within the Framingham Heart study. We will:\n",
    "1. Identify what longitudinal variables are associated with the keywords of interest (lipid, triglyceride), and how many exams / visits are associated with each one\n",
    "2. Select a longitudinal variable of interest from a specific study (Framingham heart study)\n",
    "3. Extract patient level data into a dataframe where each rows represent patients and columns represent visits"
   ]
  },
  {
   "cell_type": "markdown",
   "id": "c2713c78",
   "metadata": {},
   "source": [
    "For a more basic introduction to the R PIC-SURE API, see the `1_PICSURE_API_101.ipynb` notebook.\n",
    "\n",
    "**Before running this notebook, please be sure to get a user-specific security token. For more information about how to proceed, see the \"Get your security token\" instructions in the [README.md](https://github.com/hms-dbmi/Access-to-Data-using-PIC-SURE-API/tree/master/NHLBI_BioData_Catalyst#get-your-security-token).**"
   ]
  },
  {
   "cell_type": "markdown",
   "id": "8090b7ab",
   "metadata": {},
   "source": [
    "## Environment Set-Up"
   ]
  },
  {
   "cell_type": "markdown",
   "id": "549725e8",
   "metadata": {},
   "source": [
    "### System Requirements\n",
    "R >= 3.4"
   ]
  },
  {
   "cell_type": "markdown",
   "id": "08fd9a13",
   "metadata": {},
   "source": [
    "### Install Packages\n",
    "\n",
    "**Note that if you are using the dedicated PIC-SURE environment within the BioData Catalyst Seven Bridges platform, the necessary packages have already been installed.**\n",
    "\n",
    "*Troubleshooting: if you encounter an error while installing packages or connecting to a PIC-SURE resource, try restarting your kernel and trying again.*"
   ]
  },
  {
   "cell_type": "code",
   "execution_count": null,
   "id": "ed349c37-7137-49ad-b04c-e9b34c0a1d44",
   "metadata": {},
   "outputs": [],
   "source": [
    "### Uncomment this code if you are not using the PIC-SURE environment in Seven Bridges, or if you do not have all the necessary dependencies installed.\n",
    "#install.packages(c(\"devtools\", \"dplyr\", \"stringr\", \"tidyr\", \"ggplot2\"))"
   ]
  },
  {
   "cell_type": "code",
   "execution_count": null,
   "id": "09092fad",
   "metadata": {
    "scrolled": true
   },
   "outputs": [],
   "source": [
    "Sys.setenv(TAR = \"/bin/tar\")\n",
    "options(unzip = \"internal\")\n",
    "devtools::install_github(\"hms-dbmi/pic-sure-r-adapter-hpds\", ref=\"ALS-3799\", force=T, quiet=FALSE)\n",
    "library(dplyr)\n",
    "library(stringr)\n",
    "library(tidyr)\n",
    "library(ggplot2)\n"
   ]
  },
  {
   "cell_type": "markdown",
   "id": "f88c8997",
   "metadata": {},
   "source": [
    "## Connecting to a PIC-SURE Network"
   ]
  },
  {
   "cell_type": "code",
   "execution_count": null,
   "id": "4676496b",
   "metadata": {},
   "outputs": [],
   "source": [
    "PICSURE_network_URL = \"https://picsure.biodatacatalyst.nhlbi.nih.gov/picsure\"\n",
    "token_file <- \"token.txt\"\n",
    "token <- scan(token_file, what = \"character\")\n",
    "session <- picsure::bdc.initializeSession(PICSURE_network_URL, token)\n",
    "session <- picsure::bdc.setResource(session = session,  resourceName = \"AUTH\")\n",
    "     "
   ]
  },
  {
   "cell_type": "markdown",
   "id": "2f444143",
   "metadata": {},
   "source": [
    "## Longitudinal Lipid Variable Example\n",
    "<font color='darkgreen'>**Goal: Extract lipid measurements from multiple visits. In this example, we will focus on the Framingham Heart Study (phs000007).**</font> \n",
    "\n",
    "In this notebook example, we will:\n",
    "1. Identify lipid-related variables in the Framingham Heart Study\n",
    "2. Identify which lipid variables are measured over time, for example across multiple visits or exams\n",
    "3. Identify which longitudinal lipid variable(s) are of interest\n",
    "4. Query PIC-SURE for the longitudinal lipid variable(s) of interest\n",
    "\n",
    "\n",
    "### Identify lipid-related variables in the Framingham Heart Study\n",
    "\n",
    "First, let's search the data dictionary in PIC-SURE. We will use a regular expression for the search term: `lipid|trigliceride`. This allows us to find all variables related to `lipid` *or* `trigliceride`. "
   ]
  },
  {
   "cell_type": "code",
   "execution_count": null,
   "id": "3f4bf15e",
   "metadata": {},
   "outputs": [],
   "source": [
    "lipid_df <- picsure::bdc.searchPicsure(session, 'lipid|triglyceride')  "
   ]
  },
  {
   "cell_type": "markdown",
   "id": "152e78f2",
   "metadata": {},
   "source": [
    "We are interested in variables from the Framingham Heart Study. The PHS number associated with this study is `phs000007`. If you don't know the PHS number for a study of interest, you can check the Data Access Dashboard in the PIC-SURE [User Interface](https://picsure.biodatacatalyst.nhlbi.nih.gov/psamaui/login).\n",
    "\n",
    "Here, we filter our variables dataframe to only include those where the studyId matches our PHS number of interest."
   ]
  },
  {
   "cell_type": "code",
   "execution_count": null,
   "id": "92da1bd8",
   "metadata": {},
   "outputs": [],
   "source": [
    "filtered_lipid_df <- lipid_df %>% filter(grepl('phs000007', study_id))\n",
    "head(filtered_lipid_df)"
   ]
  },
  {
   "cell_type": "markdown",
   "id": "30d37821",
   "metadata": {},
   "source": [
    "As you can see, there are a number of variables in the Framingham Heart Study which are related to lipids or triglicerides. In this case study, we are interested specifically in `longitudinal` data, or variables which have been measured over time. "
   ]
  },
  {
   "cell_type": "markdown",
   "id": "eedec159",
   "metadata": {},
   "source": [
    "### Identify the longitudinal lipid variables\n",
    "In order to identify which lipid variables are measured over time, we will take advantage of the keywords `exam` and `visit`. Through a brief review of our lipid variables in the Framingham Heart Study, we can see that many variables contain an exam or visit number, indicating that it is longitudinal data.\n",
    "\n",
    "First, we will filter our dataframe containing variables which are related to `lipid` or `triglyceride` in Framingham Heart Study to those which have the keywords `exam #` or `visit #`."
   ]
  },
  {
   "cell_type": "code",
   "execution_count": null,
   "id": "a46b1bd7",
   "metadata": {},
   "outputs": [],
   "source": [
    "filtered_lipid_df <- filtered_lipid_df %>% \n",
    "    filter(grepl('(exam \\\\d+|visit \\\\d+)', var_description, ignore.case = TRUE))"
   ]
  },
  {
   "cell_type": "markdown",
   "id": "595cfddf",
   "metadata": {},
   "source": [
    "Next, we will extract the exam or visit number of each variable into column `exam_number`."
   ]
  },
  {
   "cell_type": "code",
   "execution_count": null,
   "id": "97a3b13b",
   "metadata": {},
   "outputs": [],
   "source": [
    "filtered_lipid_df <- filtered_lipid_df %>%\n",
    "    mutate(exam_number = toupper(str_trim(str_extract(var_description, regex('exam \\\\d+|visit \\\\d+', ignore_case = 'T')))))\n"
   ]
  },
  {
   "cell_type": "markdown",
   "id": "a7f6c814",
   "metadata": {},
   "source": [
    "Now we save the variable name without the exam number as `varname_noexam`. This prepares us for the next step, where we will group the data by the variable name root."
   ]
  },
  {
   "cell_type": "code",
   "execution_count": null,
   "id": "08601f42",
   "metadata": {},
   "outputs": [],
   "source": [
    "filtered_lipid_df <- filtered_lipid_df %>%\n",
    "    mutate(varname_noexam = str_trim(str_replace(var_description, regex('exam \\\\d+|visit \\\\d+', ignore_case = 'T'), '')))"
   ]
  },
  {
   "cell_type": "markdown",
   "id": "e0290555",
   "metadata": {},
   "source": [
    "Finally, we can return a summary table showing which variables have more than one exam recorded."
   ]
  },
  {
   "cell_type": "code",
   "execution_count": null,
   "id": "0cb1f96f",
   "metadata": {},
   "outputs": [],
   "source": [
    "# Isolate columns of interest\n",
    "filtered_lipid_df <- filtered_lipid_df %>% \n",
    "    select(var_name, var_description, exam_number, varname_noexam) %>%\n",
    "    mutate(var_name = toupper(var_name)) %>%\n",
    "    distinct()\n",
    "\n",
    "# Create summary table by pivoting the dataframe to show which variables have which exam # provided.\n",
    "longitudinal_lipid_summary <- filtered_lipid_df %>%\n",
    "    pivot_wider(id_cols = exam_number,\n",
    "                names_from = varname_noexam,\n",
    "                values_from = var_name)"
   ]
  },
  {
   "cell_type": "code",
   "execution_count": null,
   "id": "33b14c77",
   "metadata": {},
   "outputs": [],
   "source": [
    "head(longitudinal_lipid_summary)"
   ]
  },
  {
   "cell_type": "markdown",
   "id": "d994cd75",
   "metadata": {},
   "source": [
    "Now that we know which longitudinal variables are available to us, we can choose a variable of interest and extract the patient and visit level data associated with it.\n",
    "\n",
    "### Identify which longitudinal lipid variable(s) are of interest\n",
    "\n",
    "We can see from the table above that the variable `treated for lipids` appears to be the most robust, with 32 exams recored.\n",
    "\n",
    "In this example, we will further investigate the `treated for lipids` variable by adding all the associated variable IDs to our PIC-SURE query.\n",
    "\n",
    "To do so, we need the `name` for each variable ID.\n"
   ]
  },
  {
   "cell_type": "code",
   "execution_count": null,
   "id": "fc90a889",
   "metadata": {},
   "outputs": [],
   "source": [
    "names <- lipid_df %>% filter(grepl('Treated for lipids,', var_description)) %>% pull(name)"
   ]
  },
  {
   "cell_type": "markdown",
   "id": "f9cb6910",
   "metadata": {},
   "source": [
    "### Query PIC-SURE for longitudinal variables of interest\n",
    "First, we will create a new query object."
   ]
  },
  {
   "cell_type": "code",
   "execution_count": null,
   "id": "d327d1a4",
   "metadata": {},
   "outputs": [],
   "source": [
    "longitudinal_query <- picsure::bdc.newQuery(session) # Initialize a new query\n"
   ]
  },
  {
   "cell_type": "markdown",
   "id": "528bb49d",
   "metadata": {},
   "source": [
    "We will use the `query.anyof().add()` method. This will allow us to include all input variables, but only participant records that contain at least one non-null value for those variables in the output. See the `1_PICSURE_API_101.ipynb` notebook for a more in depth explanation of query methods."
   ]
  },
  {
   "cell_type": "code",
   "execution_count": null,
   "id": "e285f2c8",
   "metadata": {},
   "outputs": [],
   "source": [
    "longitudinal_query <- picsure::addClause(query = longitudinal_query, \n",
    "                                         keys = names,\n",
    "                                         type = 'ANYOF')"
   ]
  },
  {
   "cell_type": "markdown",
   "id": "0d9e75f3",
   "metadata": {},
   "source": [
    "Retrieve the query results as a dataframe"
   ]
  },
  {
   "cell_type": "code",
   "execution_count": null,
   "id": "88cdbd56",
   "metadata": {},
   "outputs": [],
   "source": [
    "longitudinal_results <- picsure::runQuery(longitudinal_query)\n",
    "head(longitudinal_results)"
   ]
  },
  {
   "cell_type": "markdown",
   "id": "90b34878",
   "metadata": {},
   "source": [
    "### Visualize the results\n",
    "Let's plot a graph to see whether patients were or were not treated for lipids over time."
   ]
  },
  {
   "cell_type": "markdown",
   "id": "1fe2f27e",
   "metadata": {},
   "source": [
    "First, we will clean the data by removing the subject identifiers and renaming the columns to simply represent the visit number. We can see that our data values are in the form \"Yes\", \"No\". We will map them to a boolean representation."
   ]
  },
  {
   "cell_type": "code",
   "execution_count": null,
   "id": "ce107cdd-52b6-4508-ac5a-03be4dd6ca8e",
   "metadata": {},
   "outputs": [],
   "source": [
    "plotdf <- longitudinal_results\n",
    "plotdf <- plotdf[,-c(1:4)]\n",
    "colnames(plotdf)\n",
    "gsub('LIPRX', '', str_extract(colnames(plotdf), 'LIPRX\\\\d+'))"
   ]
  },
  {
   "cell_type": "code",
   "execution_count": null,
   "id": "397904e6",
   "metadata": {},
   "outputs": [],
   "source": [
    "plotdf <- longitudinal_results\n",
    "\n",
    "# drop columns not containing data\n",
    "plotdf <- plotdf[,-c(1:4)]\n",
    "\n",
    "# rename columns with just the visit number\n",
    "colnames(plotdf) <- gsub('LIPRX', '', str_extract(colnames(plotdf), 'LIPRX\\\\d+'))\n",
    "\n",
    "###########remove after removing duplicates by using var_id\n",
    "plotdf <- plotdf[,-which(duplicated(colnames(plotdf)))]\n",
    "plotdf <- plotdf[,!is.na(colnames(plotdf))]"
   ]
  },
  {
   "cell_type": "code",
   "execution_count": null,
   "id": "912a60f9-1eaa-4cc4-95b3-04c085ed6781",
   "metadata": {},
   "outputs": [],
   "source": [
    "head(plotdf)"
   ]
  },
  {
   "cell_type": "code",
   "execution_count": null,
   "id": "c4962d8a",
   "metadata": {},
   "outputs": [],
   "source": [
    "# map yes/no values to numeric representation\n",
    "my_func <- function(vec) {\n",
    "    ifelse(str_trim(vec) == 'Yes', 1, \n",
    "           ifelse(str_trim(vec) == 'No', -1, \n",
    "                  0))\n",
    "}\n",
    "\n",
    "for (x in 1:ncol(plotdf)){\n",
    "    plotdf[,x] <- my_func(plotdf[,x])\n",
    "}"
   ]
  },
  {
   "cell_type": "code",
   "execution_count": null,
   "id": "d7cf31e6-2933-4658-a4f0-e01b77c7369e",
   "metadata": {},
   "outputs": [],
   "source": [
    "head(plotdf)"
   ]
  },
  {
   "cell_type": "markdown",
   "id": "0a7f3f57",
   "metadata": {},
   "source": [
    "Although we have 12792 patients in this dataset with at least one 'treated for lipids' value, some of the data is quite sparse. Let's focus on visualizing patients which have at least 20 values recorded."
   ]
  },
  {
   "cell_type": "code",
   "execution_count": null,
   "id": "6e4b6443",
   "metadata": {},
   "outputs": [],
   "source": [
    "#colnames(plotdf) <- paste0('a', colnames(plotdf))\n",
    "plotdf <- plotdf %>%\n",
    "    mutate(recorded_values = rowSums(. != 0)) %>%\n",
    "    filter(recorded_values >= 20) %>%\n",
    "    select(-recorded_values)\n",
    "\n",
    "head(plotdf)"
   ]
  },
  {
   "cell_type": "markdown",
   "id": "c5cbb9cf",
   "metadata": {},
   "source": [
    "The heatmap below represents each patient with at least 20 observations on each row. We can see distinct trends regarding the reporting of lipid treatment over time."
   ]
  },
  {
   "cell_type": "code",
   "execution_count": null,
   "id": "8a0eb0f5",
   "metadata": {},
   "outputs": [],
   "source": [
    "plotdf$id <- rownames(plotdf)\n",
    "plotdf <- pivot_longer(plotdf, cols = colnames(plotdf)[-33], names_to = 'visit')\n",
    "plotdf$visit <- factor(plotdf$visit, levels = c(1:32))\n",
    "plotdf$value <- factor(plotdf$value)"
   ]
  },
  {
   "cell_type": "code",
   "execution_count": null,
   "id": "f5997692",
   "metadata": {},
   "outputs": [],
   "source": [
    "ggplot(plotdf, aes(visit, id)) + \n",
    "    geom_tile(aes(fill = value)) + \n",
    "    scale_fill_manual(values=c(\"darkorange\", \"lightyellow\", \"forestgreen\"),\n",
    "                      labels = c('No', 'No Data', 'Yes')) +\n",
    "    ylab(label = 'Participants') +\n",
    "    theme(axis.text.y = element_blank()) "
   ]
  },
  {
   "cell_type": "code",
   "execution_count": null,
   "id": "038874ea-912e-4464-bbf9-42220fec706a",
   "metadata": {},
   "outputs": [],
   "source": []
  }
 ],
 "metadata": {
  "kernelspec": {
   "display_name": "R",
   "language": "R",
   "name": "ir"
  },
  "language_info": {
   "codemirror_mode": "r",
   "file_extension": ".r",
   "mimetype": "text/x-r-source",
   "name": "R",
   "pygments_lexer": "r",
   "version": "4.1.3"
  },
  "toc": {
   "base_numbering": 1,
   "nav_menu": {},
   "number_sections": true,
   "sideBar": true,
   "skip_h1_title": false,
   "title_cell": "Table of Contents",
   "title_sidebar": "Contents",
   "toc_cell": false,
   "toc_position": {},
   "toc_section_display": true,
   "toc_window_display": false
  }
 },
 "nbformat": 4,
 "nbformat_minor": 5
}
