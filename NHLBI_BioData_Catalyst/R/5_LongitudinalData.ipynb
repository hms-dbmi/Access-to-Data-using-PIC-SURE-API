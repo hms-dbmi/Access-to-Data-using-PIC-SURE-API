{
 "cells": [
  {
   "cell_type": "markdown",
   "id": "f4877356",
   "metadata": {},
   "source": [
    "# Identifying and Extracting Longitudinal Variables using the R PIC-SURE API"
   ]
  },
  {
   "cell_type": "markdown",
   "id": "e77133c6",
   "metadata": {},
   "source": [
    "This tutorial notebook will demonstrate how to identify and extract longitudinal variables using the R PIC-SURE API. Longitudinal variables are defined as containing multiple 'Exam' or 'Visit' descriptions within their concept path. \n",
    "\n",
    "In this example, we will find the patient level data for a lipid-related longitudinal variable within the Framingham Heart study. We will:\n",
    "1. Identify what longitudinal variables are associated with the keywords of interest (lipid, triglyceride), and how many exams / visits are associated with each one\n",
    "2. Select a longitudinal variable of interest from a specific study (Framingham heart study)\n",
    "3. Extract patient level data into a dataframe where each rows represent patients and columns represent visits"
   ]
  },
  {
   "cell_type": "markdown",
   "id": "692a7191",
   "metadata": {},
   "source": [
    "For a more basic introduction to the R PIC-SURE API, see the `1_PICSURE_API_101.ipynb` notebook.\n",
    "\n",
    "**Before running this notebook, please be sure to get a user-specific security token. For more information about how to proceed, see the \"Get your security token\" instructions in the [README.md](https://github.com/hms-dbmi/Access-to-Data-using-PIC-SURE-API/tree/master/NHLBI_BioData_Catalyst#get-your-security-token).**"
   ]
  },
  {
   "cell_type": "markdown",
   "id": "fb2cdec6",
   "metadata": {},
   "source": [
    "## Environment Set-Up"
   ]
  },
  {
   "cell_type": "markdown",
   "id": "dd222ac9",
   "metadata": {},
   "source": [
    "### System Requirements\n",
    "R >= 3.4"
   ]
  },
  {
   "cell_type": "markdown",
   "id": "6d97b374",
   "metadata": {},
   "source": [
    "### Install Packages"
   ]
  },
  {
   "cell_type": "code",
   "execution_count": null,
   "id": "b1472408",
   "metadata": {
    "scrolled": true
   },
   "outputs": [],
   "source": [
    "system(command = 'conda install -c conda-forge r-devtools --yes')\n",
    "devtools::install_github(\"hms-dbmi/pic-sure-r-client\", ref=\"master\", force=T, quiet=TRUE)\n",
    "devtools::install_github(\"hms-dbmi/pic-sure-r-adapter-hpds\", ref=\"master\", force=T, quiet=TRUE)\n",
    "devtools::install_github(\"hms-dbmi/pic-sure-biodatacatalyst-r-adapter-hpds\", ref=\"new-search\", force=T)\n",
    "library(hpds)\n"
   ]
  },
  {
   "cell_type": "code",
   "execution_count": null,
   "id": "e6deb9f3",
   "metadata": {},
   "outputs": [],
   "source": [
    "install.packages(c('dplyr', 'stringr', 'tidyr', 'ggplot2'))\n",
    "library(dplyr)\n",
    "library(stringr)\n",
    "library(tidyr)\n",
    "library(ggplot2)"
   ]
  },
  {
   "cell_type": "markdown",
   "id": "da38e82f",
   "metadata": {},
   "source": [
    "## Connecting to a PIC-SURE Network"
   ]
  },
  {
   "cell_type": "code",
   "execution_count": null,
   "id": "09054b23",
   "metadata": {},
   "outputs": [],
   "source": [
    "# Uncomment production URL when testing in production\n",
    "# PICSURE_network_URL = \"https://picsure.biodatacatalyst.nhlbi.nih.gov/picsure\"\n",
    "PICSURE_network_URL = \"https://biodatacatalyst.integration.hms.harvard.edu/picsure\"\n",
    "token_file <- \"token.txt\"\n",
    "token <- scan(token_file, what = \"character\")\n",
    "connection <- picsure::connect(PICSURE_network_URL, token)\n",
    "authPicSure = bdc::use.authPicSure(connection)"
   ]
  },
  {
   "cell_type": "markdown",
   "id": "b88b8633",
   "metadata": {},
   "source": [
    "## Longitudinal Lipid Variable Example\n",
    "<font color='darkgreen'>**Goal: Extract lipid measurements from multiple visits. In this example, we will focus on the Framingham Heart Study (phs000007).**</font> \n",
    "\n",
    "In this notebook example, we will:\n",
    "1. Identify lipid-related variables in the Framingham Heart Study\n",
    "2. Identify which lipid variables are measured over time, for example across multiple visits or exams\n",
    "3. Identify which longitudinal lipid variable(s) are of interest\n",
    "4. Query PIC-SURE for the longitudinal lipid variable(s) of interest\n",
    "\n",
    "\n",
    "### Identify lipid-related variables in the Framingham Heart Study\n",
    "\n",
    "First, let's search the data dictionary in PIC-SURE. We will use a regular expression for the search term: `lipid|trigliceride`. This allows us to find all variables related to `lipid` *or* `trigliceride`. "
   ]
  },
  {
   "cell_type": "code",
   "execution_count": null,
   "id": "d845bd5b",
   "metadata": {},
   "outputs": [],
   "source": [
    "dictionary <- bdc::use.dictionary(connection) # set up the variable dictionary\n",
    "lipid_dictionary <- bdc::find.in.dictionary(dictionary, \"lipid|triglyceride\")\n",
    "lipid_df <- bdc::extract.dataframe(lipid_dictionary)\n"
   ]
  },
  {
   "cell_type": "markdown",
   "id": "860bfa12",
   "metadata": {},
   "source": [
    "We are interested in variables from the Framingham Heart Study. The PHS number associated with this study is `phs000007`. If you don't know the PHS number for a study of interest, you can check the Data Access Dashboard in the PIC-SURE [User Interface](https://picsure.biodatacatalyst.nhlbi.nih.gov/psamaui/login).\n",
    "\n",
    "Here, we filter our variables dataframe to only include those where the studyId matches our PHS number of interest."
   ]
  },
  {
   "cell_type": "code",
   "execution_count": null,
   "id": "1cb20209",
   "metadata": {},
   "outputs": [],
   "source": [
    "filtered_lipid_df <- lipid_df %>% filter(grepl('phs000007', study_id))\n",
    "head(filtered_lipid_df)"
   ]
  },
  {
   "cell_type": "markdown",
   "id": "b5ac3e54",
   "metadata": {},
   "source": [
    "As you can see, there are a number of variables in the Framingham Heart Study which are related to lipids or triglicerides. In this case study, we are interested specifically in `longitudinal` data, or variables which have been measured over time. "
   ]
  },
  {
   "cell_type": "markdown",
   "id": "2f766463",
   "metadata": {},
   "source": [
    "### Identify the longitudinal lipid variables\n",
    "In order to identify which lipid variables are measured over time, we will take advantage of the keywords `exam` and `visit`. Through a brief review of our lipid variables in the Framingham Heart Study, we can see that many variables contain an exam or visit number, indicating that it is longitudinal data.\n",
    "\n",
    "First, we will filter our dataframe containing variables which are related to `lipid` or `triglyceride` in Framingham Heart Study to those which have the keywords `exam #` or `visit #`."
   ]
  },
  {
   "cell_type": "code",
   "execution_count": null,
   "id": "65ba1d63",
   "metadata": {},
   "outputs": [],
   "source": [
    "filtered_lipid_df <- filtered_lipid_df %>% \n",
    "    filter(grepl('(exam \\\\d+|visit \\\\d+)', var_description, ignore.case = TRUE))"
   ]
  },
  {
   "cell_type": "code",
   "execution_count": null,
   "id": "375be3d5",
   "metadata": {},
   "outputs": [],
   "source": [
    "filtered_lipid_df"
   ]
  },
  {
   "cell_type": "markdown",
   "id": "0e646c3f",
   "metadata": {},
   "source": [
    "Next, we will extract the exam or visit number of each variable into column `exam_number`."
   ]
  },
  {
   "cell_type": "code",
   "execution_count": null,
   "id": "4ea5f516",
   "metadata": {},
   "outputs": [],
   "source": [
    "filtered_lipid_df <- filtered_lipid_df %>%\n",
    "    mutate(exam_number = str_extract(var_description, regex('exam \\\\d+|visit \\\\d+', ignore_case = 'T')))\n"
   ]
  },
  {
   "cell_type": "markdown",
   "id": "c85ed3e0",
   "metadata": {},
   "source": [
    "Now we save the variable name without the exam number as `varname_noexam`. This prepares us for the next step, where we will group the data by the variable name root."
   ]
  },
  {
   "cell_type": "code",
   "execution_count": null,
   "id": "ccb78f6c",
   "metadata": {},
   "outputs": [],
   "source": [
    "filtered_lipid_df <- filtered_lipid_df %>%\n",
    "    mutate(varname_noexam = str_replace(var_description, regex('exam \\\\d+|visit \\\\d+', ignore_case = 'T'), ''))"
   ]
  },
  {
   "cell_type": "markdown",
   "id": "f5874a15",
   "metadata": {},
   "source": [
    "Finally, we can return a summary table showing which variables have more than one exam recorded."
   ]
  },
  {
   "cell_type": "code",
   "execution_count": null,
   "id": "aa43af00",
   "metadata": {},
   "outputs": [],
   "source": [
    "# Isolate columns of interest\n",
    "filtered_lipid_df <- filtered_lipid_df %>% \n",
    "    select(var_name, var_description, exam_number, varname_noexam) %>%\n",
    "    distinct\n",
    "\n",
    "# Create summary table by pivoting the dataframe to show which variables have which exam # provided.\n",
    "longitudinal_lipid_summary <- filtered_lipid_df %>%\n",
    "    pivot_wider(id_cols = exam_number,\n",
    "                names_from = varname_noexam,\n",
    "                values_from = var_name)"
   ]
  },
  {
   "cell_type": "code",
   "execution_count": null,
   "id": "66ccc246",
   "metadata": {},
   "outputs": [],
   "source": [
    "longitudinal_lipid_summary"
   ]
  },
  {
   "cell_type": "markdown",
   "id": "21a16dee",
   "metadata": {},
   "source": [
    "Now that we know which longitudinal variables are available to us, we can choose a variable of interest and extract the patient and visit level data associated with it.\n",
    "\n",
    "### Identify which longitudinal lipid variable(s) are of interest\n",
    "\n",
    "We can see from the table above that the variable `treated for lipids` appears to be the most robust, with 32 exams recored.\n",
    "\n",
    "In this example, we will further investigate the `treated for lipids` variable by adding all the associated variable IDs to our PIC-SURE query.\n",
    "\n",
    "To do so, we need the HPDS_PATH for each variable ID.\n"
   ]
  },
  {
   "cell_type": "code",
   "execution_count": null,
   "id": "68a4426e",
   "metadata": {},
   "outputs": [],
   "source": [
    "hpds_paths <- lipid_df %>% filter(grepl('Treated for lipids,', var_description)) %>% pull(HPDS_PATH)\n",
    "hpds_paths"
   ]
  },
  {
   "cell_type": "markdown",
   "id": "26d3bab3",
   "metadata": {},
   "source": [
    "### Query PIC-SURE for longitudinal variables of interest\n",
    "First, we will create a new query object."
   ]
  },
  {
   "cell_type": "code",
   "execution_count": null,
   "id": "2fbbbc4c",
   "metadata": {},
   "outputs": [],
   "source": [
    "longitudinal_query <- bdc::new.query(authPicSure) # Start a new query\n"
   ]
  },
  {
   "cell_type": "markdown",
   "id": "2b97c85b",
   "metadata": {},
   "source": [
    "We will use the `query.anyof().add()` method. This will allow us to include all input variables, but only participant records that contain at least one non-null value for those variables in the output. See the `1_PICSURE_API_101.ipynb` notebook for a more in depth explanation of query methods."
   ]
  },
  {
   "cell_type": "code",
   "execution_count": null,
   "id": "410d0d54",
   "metadata": {},
   "outputs": [],
   "source": [
    "invisible(lapply(hpds_paths, bdc::query.select.add, query = longitudinal_query))\n"
   ]
  },
  {
   "cell_type": "markdown",
   "id": "1f1af10d",
   "metadata": {},
   "source": [
    "Retrieve the query results as a dataframe"
   ]
  },
  {
   "cell_type": "code",
   "execution_count": null,
   "id": "7f5a5267",
   "metadata": {},
   "outputs": [],
   "source": [
    "longitudinal_results <- bdc::query.run(longitudinal_query)\n",
    "head(longitudinal_results)"
   ]
  },
  {
   "cell_type": "markdown",
   "id": "c538e70c",
   "metadata": {},
   "source": [
    "### Visualize the results\n",
    "Let's plot a graph to see whether patients were or were not treated for lipids over time."
   ]
  },
  {
   "cell_type": "markdown",
   "id": "ea90f479",
   "metadata": {},
   "source": [
    "First, we will clean the data by removing the subject identifiers and renaming the columns to simply represent the visit number. We can see that our data values are in the form \"Yes\", \"No\". We will map them to a boolean representation."
   ]
  },
  {
   "cell_type": "code",
   "execution_count": null,
   "id": "be6f7a6c",
   "metadata": {},
   "outputs": [],
   "source": [
    "plotdf <- longitudinal_results\n",
    "\n",
    "# drop columns not containing data\n",
    "plotdf <- plotdf[,-c(1:4)]\n",
    "\n",
    "# rename columns with just the visit number\n",
    "colnames(plotdf) <- gsub('LIPRX', '', str_extract(colnames(plotdf), 'LIPRX\\\\d+'))\n",
    "\n",
    "###########remove after removing duplicates by using var_id\n",
    "plotdf <- plotdf[,-which(duplicated(colnames(plotdf)))]"
   ]
  },
  {
   "cell_type": "code",
   "execution_count": null,
   "id": "5da780a6",
   "metadata": {},
   "outputs": [],
   "source": [
    "# map yes/no values to numeric representation\n",
    "my_func <- function(vec) {\n",
    "    ifelse(vec == 'Yes', 1, \n",
    "           ifelse(vec == 'No', -1, \n",
    "                  0))\n",
    "}\n",
    "\n",
    "plotdf <- plotdf %>%\n",
    "    mutate_all(my_func)"
   ]
  },
  {
   "cell_type": "markdown",
   "id": "09083adb",
   "metadata": {},
   "source": [
    "Although we have 12792 patients in this dataset with at least one 'treated for lipids' value, some of the data is quite sparse. Let's focus on visualizing patients which have at least 20 values recorded."
   ]
  },
  {
   "cell_type": "code",
   "execution_count": null,
   "id": "590b550e",
   "metadata": {},
   "outputs": [],
   "source": [
    "plotdf <- plotdf %>%\n",
    "    mutate(recorded_values = rowSums(. != 0)) %>%\n",
    "    filter(recorded_values >= 20) %>%\n",
    "    select(-recorded_values)"
   ]
  },
  {
   "cell_type": "markdown",
   "id": "4b651373",
   "metadata": {},
   "source": [
    "The heatmap below represents each patient with at least 20 observations on each row. We can see distinct trends regarding the reporting of lipid treatment over time."
   ]
  },
  {
   "cell_type": "code",
   "execution_count": null,
   "id": "40bcc033",
   "metadata": {},
   "outputs": [],
   "source": [
    "plotdf$id <- rownames(plotdf)\n",
    "plotdf <- pivot_longer(plotdf, cols = colnames(plotdf)[-33], names_to = 'visit')\n",
    "plotdf$visit <- factor(test$visit, levels = c(1:32))\n",
    "plotdf$value <- factor(test$value)"
   ]
  },
  {
   "cell_type": "code",
   "execution_count": null,
   "id": "c9cf4918",
   "metadata": {},
   "outputs": [],
   "source": [
    "ggplot(plotdf, aes(visit, id)) + \n",
    "    geom_tile(aes(fill = value)) + \n",
    "    scale_fill_manual(values=c(\"darkorange\", \"lightyellow\", \"forestgreen\"),\n",
    "                      labels = c('No', 'No Data', 'Yes')) +\n",
    "    ylab(label = 'Participants') +\n",
    "    theme(axis.text.y = element_blank()) "
   ]
  },
  {
   "cell_type": "code",
   "execution_count": null,
   "id": "ca189e73",
   "metadata": {},
   "outputs": [],
   "source": []
  }
 ],
 "metadata": {
  "kernelspec": {
   "display_name": "R",
   "language": "R",
   "name": "ir"
  },
  "language_info": {
   "codemirror_mode": "r",
   "file_extension": ".r",
   "mimetype": "text/x-r-source",
   "name": "R",
   "pygments_lexer": "r",
   "version": "4.1.3"
  },
  "toc": {
   "base_numbering": 1,
   "nav_menu": {},
   "number_sections": true,
   "sideBar": true,
   "skip_h1_title": false,
   "title_cell": "Table of Contents",
   "title_sidebar": "Contents",
   "toc_cell": false,
   "toc_position": {},
   "toc_section_display": true,
   "toc_window_display": false
  }
 },
 "nbformat": 4,
 "nbformat_minor": 5
}
