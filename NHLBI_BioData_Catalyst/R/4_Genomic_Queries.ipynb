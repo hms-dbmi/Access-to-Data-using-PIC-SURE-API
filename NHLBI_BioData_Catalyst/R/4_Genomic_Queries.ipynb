{
 "cells": [
  {
   "cell_type": "markdown",
   "metadata": {},
   "source": [
    "# PIC-SURE API Use-Case: Querying on Genomic Variables"
   ]
  },
  {
   "cell_type": "markdown",
   "metadata": {},
   "source": [
    "This is a tutorial notebook, aimed to be quickly up and running with the R PIC-SURE API. It covers the main functionalities of the API."
   ]
  },
  {
   "cell_type": "markdown",
   "metadata": {},
   "source": [
    "## PIC-SURE R API \n",
    "### What is PIC-SURE? \n",
    "\n",
    "<!--img src=\"./img/PIC-SURE_logo.png\" width= \"360px\"> -->\n",
    "\n",
    "As part of the BioData Catalyst initiative, the Patient Information Commons Standard Unification of Research Elements (PIC-SURE) platform has been integrating clinical and genomic datasets from multiple TOPMed and TOPMed related studies funded by the National Heart Lung and Blood Institute (NHLBI). \n",
    "\n",
    "Original data exposed through PIC-SURE API encompasses a large heterogeneity of data organization underneath. PIC-SURE hides this complexity and exposes the different study datasets in a single tabular format. By easing the process of data extraction, it allows investigators to focus on the downstream analyses and to facilitate reproducible science.\n",
    "\n",
    "Both phenotypic and genomic variables are accessible through the PIC-SURE API.\n",
    "\n",
    "### More about PIC-SURE\n",
    "The API is available in two different programming languages, python and R, enabling investigators to query the databases the same way using either language.\n",
    "\n",
    "The R/python PIC-SURE API is a small part of the entire PIC-SURE platform.\n",
    "\n",
    "The R API is actively developed by the Avillach Lab at Harvard Medical School.\n",
    "\n",
    "PIC-SURE API R Library GitHub repos:\n",
    "* https://github.com/hms-dbmi/pic-sure-r-adapter-hpds\n",
    "* https://github.com/hms-dbmi/pic-sure-r-client\n",
    "* https://github.com/hms-dbmi/pic-sure-biodatacatalyst-r-adapter-hpds\n",
    "\n"
   ]
  },
  {
   "cell_type": "markdown",
   "metadata": {},
   "source": [
    " -------"
   ]
  },
  {
   "cell_type": "markdown",
   "metadata": {},
   "source": [
    "# Getting your own user-specific security token"
   ]
  },
  {
   "cell_type": "markdown",
   "metadata": {},
   "source": [
    "**Before running this notebook, please be sure to review the \"Get your security token\" documentation, which exists in the NHLBI_BioData_Catalyst [README.md file](https://github.com/hms-dbmi/Access-to-Data-using-PIC-SURE-API/tree/master/NHLBI_BioData_Catalyst#get-your-security-token). It explains about how to get a security token, which is mandatory to access the databases.**"
   ]
  },
  {
   "cell_type": "markdown",
   "metadata": {},
   "source": [
    "# Environment set-up"
   ]
  },
  {
   "cell_type": "markdown",
   "metadata": {},
   "source": [
    "### Pre-requisites\n",
    "- R 3.4 or later"
   ]
  },
  {
   "cell_type": "markdown",
   "metadata": {},
   "source": [
    "### Install packages"
   ]
  },
  {
   "cell_type": "code",
   "execution_count": null,
   "metadata": {
    "scrolled": true
   },
   "outputs": [],
   "source": [
    "source(\"R_lib/requirements.R\")"
   ]
  },
  {
   "cell_type": "markdown",
   "metadata": {},
   "source": [
    "#### Installing the latest PIC-SURE API library from GitHub"
   ]
  },
  {
   "cell_type": "markdown",
   "metadata": {},
   "source": [
    "Installation of the two components of the PIC-SURE API from GitHub, that is the PIC-SURE adapter and the PIC-SURE Client."
   ]
  },
  {
   "cell_type": "code",
   "execution_count": null,
   "metadata": {},
   "outputs": [],
   "source": [
    "Sys.setenv(TAR = \"/bin/tar\")\n",
    "options(unzip = \"internal\")\n",
    "install.packages(\"https://cran.r-project.org/src/contrib/Archive/devtools/devtools_1.13.6.tar.gz\", repos=NULL, type=\"source\")\n",
    "install.packages(\"https://cran.r-project.org/src/contrib/R6_2.5.1.tar.gz\", repos=NULL, type=\"source\")\n",
    "install.packages(\"https://cran.r-project.org/src/contrib/hash_2.2.6.1.tar.gz\", repos=NULL, type=\"source\")\n",
    "install.packages(c(\"urltools\"),repos = \"http://cran.us.r-project.org\")\n",
    "devtools::install_github(\"hms-dbmi/pic-sure-r-client\", force=T)\n",
    "devtools::install_github(\"hms-dbmi/pic-sure-r-adapter-hpds\", force=T)\n",
    "devtools::install_github(\"hms-dbmi/pic-sure-biodatacatalyst-r-adapter-hpds\", force=T)"
   ]
  },
  {
   "cell_type": "code",
   "execution_count": null,
   "metadata": {},
   "outputs": [],
   "source": [
    "library(stringr)\n",
    "library(dplyr)"
   ]
  },
  {
   "cell_type": "code",
   "execution_count": null,
   "metadata": {},
   "outputs": [],
   "source": [
    "source(\"R_lib/utils.R\")"
   ]
  },
  {
   "cell_type": "markdown",
   "metadata": {},
   "source": [
    "## Connecting to a PIC-SURE resource"
   ]
  },
  {
   "cell_type": "markdown",
   "metadata": {},
   "source": [
    "The following is required to get access to data through the PIC-SURE API: \n",
    "- Network URL\n",
    "- Resource ID\n",
    "- User-specific security token\n",
    "\n",
    "\n",
    "If you have not already retrieved your user-specific token, please refer to the \"Get your security token\" section of the [README.md](https://github.com/hms-dbmi/Access-to-Data-using-PIC-SURE-API/tree/master/NHLBI_BioData_Catalyst#get-your-security-token) file."
   ]
  },
  {
   "cell_type": "code",
   "execution_count": null,
   "metadata": {},
   "outputs": [],
   "source": [
    "PICSURE_network_URL <- \"https://picsure.biodatacatalyst.nhlbi.nih.gov/picsure\"\n",
    "resource_id <- \"02e23f52-f354-4e8b-992c-d37c8b9ba140\"\n",
    "token_file <- \"token.txt\""
   ]
  },
  {
   "cell_type": "code",
   "execution_count": null,
   "metadata": {},
   "outputs": [],
   "source": [
    "token <- scan(token_file, what = \"character\")"
   ]
  },
  {
   "cell_type": "code",
   "execution_count": null,
   "metadata": {},
   "outputs": [],
   "source": [
    "connection <- picsure::connect(url = PICSURE_network_URL,\n",
    "                               token = token)"
   ]
  },
  {
   "cell_type": "code",
   "execution_count": null,
   "metadata": {},
   "outputs": [],
   "source": [
    "resource <- bdc::get.resource(connection,\n",
    "                               resourceUUID = resource_id)"
   ]
  },
  {
   "cell_type": "markdown",
   "metadata": {},
   "source": [
    "Two objects are created here: a `connection` and a `resource` object.\n",
    "\n",
    "Since we will only be using a single resource, **the `resource` object is the only one we will need to proceed with the data analysis**.\n",
    "\n",
    "It is connected to the specific resource we supplied and enables us to query and retrieve data from this database."
   ]
  },
  {
   "cell_type": "markdown",
   "metadata": {},
   "source": [
    "## Building the query with the PIC-SURE API"
   ]
  },
  {
   "cell_type": "markdown",
   "metadata": {},
   "source": [
    "We are going to create a new query request from the PIC-SURE resource that was specified above.  For this example, we will limit the query to a single study, a single phenotype (gender and age range), and two genomic filters.\n",
    "\n",
    "First, we will create a new query instance."
   ]
  },
  {
   "cell_type": "code",
   "execution_count": null,
   "metadata": {},
   "outputs": [],
   "source": [
    "my_query <- bdc::new.query(resource=resource)"
   ]
  },
  {
   "cell_type": "markdown",
   "metadata": {},
   "source": [
    "\n",
    "#### Limiting the query to a single study"
   ]
  },
  {
   "cell_type": "markdown",
   "metadata": {},
   "source": [
    "By default, new query objects are automatically populated with all the consent groups for which you are authorized to access.  For this example we are going to clear the existing consents and specify a single consent group that represents accessing only the NHLBI TOPMed: Study of African Americans, Asthma, Genes and Environment (SAGE) study."
   ]
  },
  {
   "cell_type": "code",
   "execution_count": null,
   "metadata": {},
   "outputs": [],
   "source": [
    "# Here we show all the studies that you have access to\n",
    "bdc::query.show(bdc::new.query(resource = resource))"
   ]
  },
  {
   "cell_type": "code",
   "execution_count": null,
   "metadata": {},
   "outputs": [],
   "source": [
    "# Here we delete that access and add only the consent code corresponding to the SAGE study\n",
    "bdc::query.filter.delete(my_query, \"\\\\_consents\\\\\")"
   ]
  },
  {
   "cell_type": "code",
   "execution_count": null,
   "metadata": {},
   "outputs": [],
   "source": [
    "# Here we show that we have only selected a single study\n",
    "bdc::query.filter.add(query = my_query,\n",
    "                      keys = \"\\\\_consents\\\\\",\n",
    "                      as.list(c(\"phs000921.c2\")))"
   ]
  },
  {
   "cell_type": "markdown",
   "metadata": {},
   "source": [
    "*Note that trying to manually add a consent group which you are not authorized to access will result in errors downstream.*"
   ]
  },
  {
   "cell_type": "markdown",
   "metadata": {},
   "source": [
    "#### List available phenotypic variables"
   ]
  },
  {
   "cell_type": "markdown",
   "metadata": {},
   "source": [
    "Once a connection to the desired resource has been established, it is helpful to search for variables related to our search query. To this end, we will use the `dictionary` method of the `resource` object to create a data dictionary instance to search for variables."
   ]
  },
  {
   "cell_type": "code",
   "execution_count": null,
   "metadata": {
    "scrolled": true
   },
   "outputs": [],
   "source": [
    "# search for variables that are part of the SAGE study\n",
    "fullVariablesDict <- bdc::find.in.dictionary(resource, \"\") %>% bdc::extract.entries()\n",
    "\n",
    "# extract the phenotypic variables\n",
    "fullPhenotypeVars <- fullVariablesDict[fullVariablesDict$HpdsDataType == \"phenotypes\", ]\n",
    "\n",
    "# display phenotypic vars for SAGE study\n",
    "fullPhenotypeVars[stringr::str_detect(fullPhenotypeVars$name, fixed(\"(SAGE)\")), c(\"name\", \"patientCount\", \"observationCount\", \"categorical\", \"min\", \"max\", \"HpdsDataType\")]"
   ]
  },
  {
   "cell_type": "markdown",
   "metadata": {},
   "source": [
    "#### Add categorical phenotypic variable (gender) to the query"
   ]
  },
  {
   "cell_type": "markdown",
   "metadata": {},
   "source": [
    "A `dictionary` instance enables us to retrieve matching records by searching for a specific term. The `extract.entries` method can be used to retrieve information about all available variables. For instance, looking for variables containing the term `Sex of participant` is done this way:"
   ]
  },
  {
   "cell_type": "code",
   "execution_count": null,
   "metadata": {},
   "outputs": [],
   "source": [
    "found_terms <- bdc::find.in.dictionary(resource = resource, \n",
    "                                        term = \"Sex of participant\")"
   ]
  },
  {
   "cell_type": "markdown",
   "metadata": {},
   "source": [
    "We now will look for variables containing the term `Sex of participant` which also contain \"`(SAGE)`\" . This will allow us to find the specific name associated with our variable of interest and also which values of the sex variable are valid to add to our query."
   ]
  },
  {
   "cell_type": "code",
   "execution_count": null,
   "metadata": {},
   "outputs": [],
   "source": [
    "# View information about the \"Sex of participant\" variable for the \"(SAGE)\" study\n",
    "found_terms_df <- bdc::extract.entries(found_terms)\n",
    "found_terms_df[stringr::str_detect(found_terms_df$name, fixed(\"(SAGE)\")), ]"
   ]
  },
  {
   "cell_type": "markdown",
   "metadata": {},
   "source": [
    "The above dictionary entry shows that we can select \"FEMALE\", \"MALE\", or \"NA\" for gender.  For this example, let's limit our search to females."
   ]
  },
  {
   "cell_type": "code",
   "execution_count": null,
   "metadata": {},
   "outputs": [],
   "source": [
    "bdc::query.filter.add(query = my_query, \n",
    "                       keys = \"\\\\NHLBI TOPMed: Study of African Americans, Asthma, Genes and Environment (SAGE) Study ( phs000921 )\\\\Sex of participant\\\\\",\n",
    "                       values = 'FEMALE')"
   ]
  },
  {
   "cell_type": "code",
   "execution_count": null,
   "metadata": {},
   "outputs": [],
   "source": [
    "bdc::query.show(my_query)"
   ]
  },
  {
   "cell_type": "markdown",
   "metadata": {},
   "source": [
    "#### Add continous phenotypic variable (age) to the query"
   ]
  },
  {
   "cell_type": "markdown",
   "metadata": {},
   "source": [
    "Following the data dictionary search pattern just shown, we can search for the SAGE study variables related to `Subject Age`."
   ]
  },
  {
   "cell_type": "code",
   "execution_count": null,
   "metadata": {},
   "outputs": [],
   "source": [
    "# View information about the \"subject age\" variable\n",
    "found_terms <- bdc::find.in.dictionary(resource = resource,\n",
    "                                        term = \"Subject Age\")\n",
    "found_terms_df <- bdc::extract.entries(found_terms)\n",
    "found_terms_df[stringr::str_detect(found_terms_df$name, \"(SAGE)\"), ]"
   ]
  },
  {
   "cell_type": "markdown",
   "metadata": {},
   "source": [
    "The dictionary entry in the output above shows the age range of data available for `Subject Age`.  \n",
    "\n",
    "For this example, let's limit our search to a minimum age of 8 and maximum age of 35."
   ]
  },
  {
   "cell_type": "code",
   "execution_count": null,
   "metadata": {},
   "outputs": [],
   "source": [
    "bdc::query.filter.add(query = my_query,\n",
    "                       keys = \"\\\\NHLBI TOPMed: Study of African Americans, Asthma, Genes and Environment (SAGE) Study ( phs000921 )\\\\Subject age\\\\\",\n",
    "                       min = 8,\n",
    "                       max = 35)"
   ]
  },
  {
   "cell_type": "markdown",
   "metadata": {},
   "source": [
    "#### List available genotypic variables\n",
    "To start adding genomic filters to our query, we first need to understand which genomic variables exist."
   ]
  },
  {
   "cell_type": "code",
   "execution_count": null,
   "metadata": {},
   "outputs": [],
   "source": [
    "# extract the genotypic vars for SAGE\n",
    "geno_vars <- filter(fullVariablesDict, HpdsDataType == \"info\")\n",
    "\n",
    "geno_vars$categoryValues[geno_vars$name == \"Gene_with_variant\"] <- '<<<FULL GENE LIST REMOVED.>>>'\n",
    "# display genotypic vars\n",
    "geno_vars"
   ]
  },
  {
   "cell_type": "markdown",
   "metadata": {},
   "source": [
    "As shown in the output above, some genomic variables that can be used in queries include `Gene_with_variant`, `Variant_class`, and `Variant_severity`."
   ]
  },
  {
   "cell_type": "markdown",
   "metadata": {},
   "source": [
    "Note that, for printing purposes, the full list of genes in `Gene_with_variant` row and `categoryValues` column was removed. This is to provide a simpler preview of the genomic variables and to avoid printing thousands of gene names in the dataframe."
   ]
  },
  {
   "cell_type": "markdown",
   "metadata": {},
   "source": [
    "#### Add genotypic variable (Gene_with_variant) to the query\n",
    "Let's use `Gene_with_variant` to view a list of genes and get more information about this variable."
   ]
  },
  {
   "cell_type": "code",
   "execution_count": null,
   "metadata": {},
   "outputs": [],
   "source": [
    "# View gene list from the \"Gene_with_variant\" variable\n",
    "found_terms <- bdc::find.in.dictionary(resource = resource,\n",
    "                                        term = \"Gene_with_variant\") %>% bdc::extract.entries()\n",
    "gene_list <- found_terms$categoryValues[found_terms$name == \"Gene_with_variant\"]\n",
    "print(sort(gene_list[[1]]))"
   ]
  },
  {
   "cell_type": "markdown",
   "metadata": {},
   "source": [
    "The output shown above provides a list of values that can be used for this variable, in this case genes affected by a variant. Let's narrow our query to include the CHD8 gene.\n",
    "\n"
   ]
  },
  {
   "cell_type": "code",
   "execution_count": null,
   "metadata": {},
   "outputs": [],
   "source": [
    "# Look for entries with variants in the CHD8 gene \n",
    "bdc::query.filter.add(query = my_query,\n",
    "                       keys = \"Gene_with_variant\",\n",
    "                       values = \"CHD8\")"
   ]
  },
  {
   "cell_type": "markdown",
   "metadata": {},
   "source": [
    "Now that all query criteria have been entered into the query instance, we can view it by using the following line of code:"
   ]
  },
  {
   "cell_type": "code",
   "execution_count": null,
   "metadata": {},
   "outputs": [],
   "source": [
    "# Now we show the query as it is specified\n",
    "bdc::query.show(query = my_query)"
   ]
  },
  {
   "cell_type": "markdown",
   "metadata": {},
   "source": [
    "\n",
    "Next we will take this query and retreve the data for patients with matching criteria."
   ]
  },
  {
   "cell_type": "markdown",
   "metadata": {},
   "source": [
    "## Retrieving data from the query"
   ]
  },
  {
   "cell_type": "markdown",
   "metadata": {},
   "source": [
    "#### Getting query count"
   ]
  },
  {
   "cell_type": "markdown",
   "metadata": {},
   "source": [
    "We have now built a query called `my_query` which contains the search criteria we are interested in.\n",
    "\n",
    "Next, we will run a count query to find the number of matching participants.\n",
    "\n",
    "Finally, we will run a data query to download the data."
   ]
  },
  {
   "cell_type": "code",
   "execution_count": null,
   "metadata": {},
   "outputs": [],
   "source": [
    "my_query_count <- bdc::query.run(query = my_query,\n",
    "                                  result.type = \"count\")\n",
    "print(my_query_count)"
   ]
  },
  {
   "cell_type": "markdown",
   "metadata": {},
   "source": [
    "#### Getting query data"
   ]
  },
  {
   "cell_type": "markdown",
   "metadata": {},
   "source": [
    "Once our query object is finally built, we set `result.type = \"dataframe\"` to retrieve the data corresponding to our query."
   ]
  },
  {
   "cell_type": "code",
   "execution_count": null,
   "metadata": {},
   "outputs": [],
   "source": [
    "my_query_df <- bdc::query.run(query = my_query,\n",
    "                               result.type = \"dataframe\")"
   ]
  },
  {
   "cell_type": "code",
   "execution_count": null,
   "metadata": {},
   "outputs": [],
   "source": [
    "dim(my_query_df)"
   ]
  },
  {
   "cell_type": "code",
   "execution_count": null,
   "metadata": {},
   "outputs": [],
   "source": [
    "head(my_query_df, n=5)"
   ]
  },
  {
   "cell_type": "markdown",
   "metadata": {},
   "source": [
    "# Data analysis example: *SERPINA1* gene and COPD"
   ]
  },
  {
   "cell_type": "markdown",
   "metadata": {},
   "source": [
    "In this example, we will create a query to explore the relationship between the COPD phenotype and variants in the SERPINA1 gene. Variations of the SERPINA1 gene have been found to be a strong risk factor for COPD, which you can read more about [here](https://pubmed.ncbi.nlm.nih.gov/31661293/)."
   ]
  },
  {
   "cell_type": "markdown",
   "metadata": {},
   "source": [
    "To explore this relationship, we will narrow the cohort down to participants that meet the following criteria:\n",
    "* participated in the COPDgene study\n",
    "* have had COPD\n",
    "* have a *SERPINA1* gene variant with high or moderate severity"
   ]
  },
  {
   "cell_type": "markdown",
   "metadata": {},
   "source": [
    "#### Initialize the query\n",
    "Let's start by creating a new query and finding the variables pertaining to the COPDgene study using a dictionary."
   ]
  },
  {
   "cell_type": "code",
   "execution_count": null,
   "metadata": {},
   "outputs": [],
   "source": [
    "copd_query <- bdc::new.query(resource=resource)\n",
    "copd_dictionary <- bdc::find.in.dictionary(resource = resource,\n",
    "                                           term = \"COPDGene\") %>% bdc::extract.entries()\n",
    "copdDict <- get_multiIndex_variablesDict(copd_dictionary)"
   ]
  },
  {
   "cell_type": "markdown",
   "metadata": {},
   "source": [
    "**Add phenotypic variable (COPD: have you ever had COPD) to the query**\n",
    "\n",
    "Next we will find the full variable name for \"COPD: have you ever had COPD\" using the `simplified_name` column and filter to this data."
   ]
  },
  {
   "cell_type": "code",
   "execution_count": null,
   "metadata": {},
   "outputs": [],
   "source": [
    "mask_copd <- copdDict['simplified_name'] == 'COPD: have you ever had COPD'\n",
    "copd_varname <- copdDict[mask_copd, 'name'] %>%\n",
    "    unlist() %>%\n",
    "    unname()\n",
    "copd_varname <- as.character(copd_varname)\n",
    "bdc::query.filter.add(query=copd_query, keys=copd_varname, value='Yes')"
   ]
  },
  {
   "cell_type": "markdown",
   "metadata": {},
   "source": [
    "**Add genomic variable (Gene_with_variant) to the query**\n",
    "\n",
    "To add the genomic filter, we can use a dictionary to find the variable `Gene_with_variant` and filter to the *SERPINA1* gene."
   ]
  },
  {
   "cell_type": "code",
   "execution_count": null,
   "metadata": {
    "scrolled": true
   },
   "outputs": [],
   "source": [
    "copd_dictionary <- bdc::new.query(resource=resource)\n",
    "gene_dictionary <- bdc::find.in.dictionary(resource=resource,\n",
    "                                           term=\"Gene_with_variant\") %>% bdc::extract.entries()\n",
    "gene_varname <- gene_dictionary$name\n",
    "bdc::query.filter.add(query=copd_query, keys=gene_varname, value='SERPINA1')"
   ]
  },
  {
   "cell_type": "markdown",
   "metadata": {},
   "source": [
    "#### Add genomic variable (Variant_severity) to the query\n",
    "Finally, we can filter our results to include only variants of the *SERPINA1* gene with high or moderate severity."
   ]
  },
  {
   "cell_type": "code",
   "execution_count": null,
   "metadata": {},
   "outputs": [],
   "source": [
    "severity_dictionary <- bdc::find.in.dictionary(resource=resource,\n",
    "                                              term = 'Variant_severity') %>% bdc::extract.entries()\n",
    "severity_varname <- severity_dictionary$name\n",
    "bdc::query.filter.add(query=copd_query, keys=severity_varname, value=list(\"HIGH\", \"MODERATE\"))"
   ]
  },
  {
   "cell_type": "markdown",
   "metadata": {},
   "source": [
    "#### Retrieve data from the query\n",
    "\n",
    "Now that the filtering is complete, we can use this final query to get counts and perform analysis on the data."
   ]
  },
  {
   "cell_type": "code",
   "execution_count": null,
   "metadata": {},
   "outputs": [],
   "source": [
    "copd_results <- bdc::query.run(copd_query, result.type='dataframe')"
   ]
  },
  {
   "cell_type": "code",
   "execution_count": null,
   "metadata": {},
   "outputs": [],
   "source": [
    "dim(copd_results)"
   ]
  },
  {
   "cell_type": "code",
   "execution_count": null,
   "metadata": {},
   "outputs": [],
   "source": [
    "head(copd_results)"
   ]
  },
  {
   "cell_type": "code",
   "execution_count": null,
   "metadata": {},
   "outputs": [],
   "source": []
  }
 ],
 "metadata": {
  "jupytext": {
   "formats": "ipynb,Rmd"
  },
  "kernelspec": {
   "display_name": "R",
   "language": "R",
   "name": "ir"
  },
  "language_info": {
   "codemirror_mode": "r",
   "file_extension": ".r",
   "mimetype": "text/x-r-source",
   "name": "R",
   "pygments_lexer": "r",
   "version": "4.1.1"
  }
 },
 "nbformat": 4,
 "nbformat_minor": 4
}
