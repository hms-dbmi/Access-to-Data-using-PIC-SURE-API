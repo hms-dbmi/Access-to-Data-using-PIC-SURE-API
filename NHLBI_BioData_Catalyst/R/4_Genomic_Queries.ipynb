{
 "cells": [
  {
   "cell_type": "markdown",
   "metadata": {},
   "source": [
    "# *NHLBI BioData Catalyst® (BDC) Powered by PIC-SURE* API Use-Case: Querying on Genomic Variables\n",
    "\n",
    "This tutorial notebook focuses how to use the PIC-SURE API to query genomic and phenotypic data together."
   ]
  },
  {
   "cell_type": "markdown",
   "metadata": {},
   "source": [
    "For a more basic introduction to the python PIC-SURE API, see the `1_PICSURE_API_101.ipynb` notebook.\n",
    " \n",
    "**Before running this notebook, please be sure to review the \"Get your security token\" documentation, which exists in the [`README.md` file](../README.md). It explains how to get a security token, which is mandatory to use the PIC-SURE API.**\n",
    "\n",
    "To set up your token file, be sure to run the [`Workspace_setup.ipynb` file](./Workspace_setup.ipynb)."
   ]
  },
  {
   "cell_type": "markdown",
   "metadata": {},
   "source": [
    " -------"
   ]
  },
  {
   "cell_type": "markdown",
   "metadata": {},
   "source": [
    "# Environment set-up"
   ]
  },
  {
   "cell_type": "markdown",
   "metadata": {},
   "source": [
    "### Pre-requisites\n",
    "- R 3.4 or later"
   ]
  },
  {
   "cell_type": "markdown",
   "metadata": {},
   "source": [
    "### Install packages\n",
    "\n",
    "**Note that if you are using the dedicated PIC-SURE environment within the *BDC Powered by Seven Bridges (BDC-Seven Bridges)* platform, the necessary packages have already been installed.**\n",
    "\n",
    "*Troubleshooting: if you encounter an error while installing packages or connecting to a PIC-SURE resource, try restarting your kernel and trying again.*"
   ]
  },
  {
   "cell_type": "code",
   "execution_count": null,
   "metadata": {
    "vscode": {
     "languageId": "r"
    }
   },
   "outputs": [],
   "source": [
    "### Uncomment this code if you are not using the PIC-SURE environment in *BDC-Seven Bridges*, or if you do not have all the necessary dependencies installed.\n",
    "#install.packages(c(\"devtools\", \"dplyr\"))"
   ]
  },
  {
   "cell_type": "code",
   "execution_count": null,
   "metadata": {
    "vscode": {
     "languageId": "r"
    }
   },
   "outputs": [],
   "source": [
    "Sys.setenv(TAR = \"/bin/tar\")\n",
    "options(unzip = \"internal\")\n",
    "devtools::install_github(\"hms-dbmi/pic-sure-r-adapter-hpds\", ref=\"main\", force=T, quiet=FALSE)\n",
    "library(dplyr)"
   ]
  },
  {
   "cell_type": "markdown",
   "metadata": {},
   "source": [
    "### Connecting to a PIC-SURE resource"
   ]
  },
  {
   "cell_type": "code",
   "execution_count": null,
   "metadata": {
    "vscode": {
     "languageId": "r"
    }
   },
   "outputs": [],
   "source": [
    "PICSURE_network_URL = \"https://picsure.biodatacatalyst.nhlbi.nih.gov/picsure\"\n",
    "token_file <- \"token.txt\"\n",
    "token <- scan(token_file, what = \"character\")\n",
    "session <- picsure::bdc.initializeSession(PICSURE_network_URL, token)\n",
    "session <- picsure::bdc.setResource(session = session,  resourceName = \"AUTH\")\n",
    "     "
   ]
  },
  {
   "cell_type": "markdown",
   "metadata": {},
   "source": [
    "# Example 1: Walkthrough on building a query with genomic and phenotypic varibles\n",
    "## 1.1 Build a query with genomic and phenotypic variables"
   ]
  },
  {
   "cell_type": "markdown",
   "metadata": {},
   "source": [
    "We are going to create a new query request from the PIC-SURE resource that was specified above.  For this example, we will limit the query to a single dataset (the TOPMed DCC Harmonized dataset) by filtering on sex, body mass index, and two genomic filters. \n",
    "\n",
    "For more information about the TOPMed DCC Harmonized dataset, please refer to the [`2_TOPMed_DCC_Harmonized_Variables_analysis.ipynb` notebook](./2_TOPMed_DCC_Harmonized_Variables_analysis.ipynb).\n",
    "\n",
    "First we will create a new query instance."
   ]
  },
  {
   "cell_type": "code",
   "execution_count": null,
   "metadata": {
    "lines_to_next_cell": 2,
    "vscode": {
     "languageId": "r"
    }
   },
   "outputs": [],
   "source": [
    "my_query <- picsure::bdc.newQuery(session) # Initialize a new query\n"
   ]
  },
  {
   "cell_type": "markdown",
   "metadata": {},
   "source": [
    "### Find all TOPMed DCC Harmonized variables\n",
    "We can search for variables related to our search query using the `bdc.searchPicsure` function. \n",
    "\n",
    "In this example, we will retrieve all variables available in the TOPMed DCC Harmonized dataset.\n",
    "\n",
    "You can find information about the phs number associated with each study and what data are available from the Data Access Dashboard in the PIC-SURE [User Interface](https://picsure.biodatacatalyst.nhlbi.nih.gov/)."
   ]
  },
  {
   "cell_type": "code",
   "execution_count": null,
   "metadata": {
    "vscode": {
     "languageId": "r"
    }
   },
   "outputs": [],
   "source": [
    "harmonized_df <- picsure::bdc.searchPicsure(session, 'DCC Harmonized', includeValues = TRUE)  \n"
   ]
  },
  {
   "cell_type": "markdown",
   "metadata": {},
   "source": [
    "## 1.2 Add categorical phenotypic variable (sex) to the query\n",
    "\n",
    "First, we will search our TOPMed DCC Harmonized data dictionary for a sex-related variable."
   ]
  },
  {
   "cell_type": "code",
   "execution_count": null,
   "metadata": {
    "vscode": {
     "languageId": "r"
    }
   },
   "outputs": [],
   "source": [
    "sex_var <- harmonized_df %>% filter(grepl('subject sex', var_description, ignore.case = TRUE))\n",
    "sex_var"
   ]
  },
  {
   "cell_type": "markdown",
   "metadata": {},
   "source": [
    "Let's examine the values within this variable."
   ]
  },
  {
   "cell_type": "code",
   "execution_count": null,
   "metadata": {
    "vscode": {
     "languageId": "r"
    }
   },
   "outputs": [],
   "source": [
    "sex_var %>% pull(values)"
   ]
  },
  {
   "cell_type": "markdown",
   "metadata": {},
   "source": [
    "We are only interested in Female values in this use case - let's apply this filter to our query accordingly."
   ]
  },
  {
   "cell_type": "code",
   "execution_count": null,
   "metadata": {
    "vscode": {
     "languageId": "r"
    }
   },
   "outputs": [],
   "source": [
    "my_query <- picsure::addClause(query = my_query, \n",
    "                               keys = sex_var %>% pull(name),\n",
    "                               type = 'FILTER',\n",
    "                               categories = list('Female'))"
   ]
  },
  {
   "cell_type": "markdown",
   "metadata": {},
   "source": [
    "## 1.3 Add continuous phenotypic variable (body mass index, BMI) to the query\n",
    "For this example, we are only interested in obese participants (BMI >=30).\n",
    "\n",
    "Following the data dictionary search pattern shown above, we can search for the TOPMed DCC Harmonized dataset variables related to BMI."
   ]
  },
  {
   "cell_type": "code",
   "execution_count": null,
   "metadata": {
    "vscode": {
     "languageId": "r"
    }
   },
   "outputs": [],
   "source": [
    "# Search our TOPMed harmonized dataframe for a BMI variable\n",
    "bmi_var <- harmonized_df %>% filter(grepl('body mass index', var_description, ignore.case = TRUE))\n",
    "print(paste0(bmi_var$var_name, ': ', bmi_var$name))\n",
    "\n",
    "# Examine the values\n",
    "print(paste0('Min: ', bmi_var$min, ', Max: ', bmi_var$max))\n",
    "\n",
    "# Filter to obese participants with BMI 30 or more\n",
    "my_query <- picsure::addClause(query = my_query, \n",
    "                               keys = bmi_var$name,\n",
    "                               type = 'FILTER',\n",
    "                               min = 30)"
   ]
  },
  {
   "cell_type": "markdown",
   "metadata": {},
   "source": [
    "## 1.4 Add genomic filters to the query\n",
    "To start adding genomic filters to our query, we first need to understand what genomic annotations are available."
   ]
  },
  {
   "cell_type": "code",
   "execution_count": null,
   "metadata": {
    "vscode": {
     "languageId": "r"
    }
   },
   "outputs": [],
   "source": [
    "genotype_annotations <- picsure::getGenomicAnnotations(session)\n",
    "genotype_annotations"
   ]
  },
  {
   "cell_type": "markdown",
   "metadata": {},
   "source": [
    "As shown in the genomic_annotations object above, some genomic variables that can be used in queries include `Gene_with_variant`, `Variant_class`, and `Variant_severity`."
   ]
  },
  {
   "cell_type": "markdown",
   "metadata": {},
   "source": [
    "#### Add genotypic variable (Gene_with_variant) to the query\n",
    "\n",
    "By looking at the values associated with the `Gene_with_variant` annotation we see what genes  filter the variants by.\n",
    "\n",
    "The fat mass and obesity related gene, or *FTO* gene, [has been linked to obesity and other diseases](https://www.ncbi.nlm.nih.gov/gene/79068). Let's search for this gene."
   ]
  },
  {
   "cell_type": "code",
   "execution_count": null,
   "metadata": {
    "vscode": {
     "languageId": "r"
    }
   },
   "outputs": [],
   "source": [
    "# get total list of genes\n",
    "genes <- genotype_annotations %>% filter(name == 'Gene_with_variant') %>% pull(values)\n",
    "genes <- strsplit(genes, ', ')[[1]]\n",
    "\n",
    "# print the first 10 genes\n",
    "print(genes[1:10])\n",
    "\n",
    "# check if a certain gene of interest, e.g. FTO, is in the gene list\n",
    "gene_of_interest <- 'FTO'\n",
    "gene_of_interest %in% genes"
   ]
  },
  {
   "cell_type": "markdown",
   "metadata": {},
   "source": [
    "Let's also say that we only want highly severe variants. We can see the levels of severity shown below."
   ]
  },
  {
   "cell_type": "code",
   "execution_count": null,
   "metadata": {
    "vscode": {
     "languageId": "r"
    }
   },
   "outputs": [],
   "source": [
    "# what values are available for Variant_severity?\n",
    "genotype_annotations %>% filter(name == \"Variant_severity\") %>% pull(values)"
   ]
  },
  {
   "cell_type": "markdown",
   "metadata": {},
   "source": [
    "The gene list shown above provides a list of values that can be used for the `Gene_with_variant`, in this case genes affected by a variant. Let's say we are interested in participants who have a highly severe *FTO* variant. We can add these filters to the query."
   ]
  },
  {
   "cell_type": "code",
   "execution_count": null,
   "metadata": {
    "vscode": {
     "languageId": "r"
    }
   },
   "outputs": [],
   "source": [
    "my_query <- picsure::addClause(query = my_query, \n",
    "                               keys = 'Gene_with_variant',\n",
    "                               type = 'FILTER',\n",
    "                               categories = list('FTO'))\n",
    "\n",
    "my_query <- picsure::addClause(query = my_query, \n",
    "                               keys = 'Variant_severity',\n",
    "                               type = 'FILTER',\n",
    "                               categories = list('HIGH'))"
   ]
  },
  {
   "cell_type": "markdown",
   "metadata": {},
   "source": [
    "## 1.5 Retrieve data from the query\n",
    "\n",
    "#### Getting query count\n",
    "We have now built a query called `my_query` which contains the search criteria we are interested in:\n",
    "- Sex = Female\n",
    "- BMI > 30\n",
    "- Participants have a highly severe *FTO* variant\n",
    "\n",
    "We will run a count query to find the number of matching participants.\n",
    "This is a great way to preview how many participants match your query criteria without extracting all of the data.\n"
   ]
  },
  {
   "cell_type": "code",
   "execution_count": null,
   "metadata": {
    "vscode": {
     "languageId": "r"
    }
   },
   "outputs": [],
   "source": [
    "picsure::runQuery(my_query, resultType = 'Count')"
   ]
  },
  {
   "cell_type": "markdown",
   "metadata": {},
   "source": [
    "#### Getting query data\n",
    "We will retrieve our results in a dataframe.\n",
    "Note that since we only added sex and age to the query, these are the only phenotypic variables returned."
   ]
  },
  {
   "cell_type": "code",
   "execution_count": null,
   "metadata": {
    "vscode": {
     "languageId": "r"
    }
   },
   "outputs": [],
   "source": [
    "query_result <- picsure::runQuery(my_query)"
   ]
  },
  {
   "cell_type": "code",
   "execution_count": null,
   "metadata": {
    "vscode": {
     "languageId": "r"
    }
   },
   "outputs": [],
   "source": [
    "dim(query_result)"
   ]
  },
  {
   "cell_type": "code",
   "execution_count": null,
   "metadata": {
    "vscode": {
     "languageId": "r"
    }
   },
   "outputs": [],
   "source": [
    "head(query_result)"
   ]
  },
  {
   "cell_type": "markdown",
   "metadata": {},
   "source": [
    "# Example 2: Use case with *SERPINA1* gene variants as a risk factor for  COPD\n",
    "\n",
    "In this example, we will create a query to explore the relationship between the COPD phenotype and variants in the SERPINA1 gene. Variations of the SERPINA1 gene have been found to be a strong risk factor for COPD, which you can read more about [here](https://pubmed.ncbi.nlm.nih.gov/31661293/).\n",
    "\n",
    "To explore this relationship, we will narrow the cohort down to participants that meet the following criteria:\n",
    "* participated in the COPDgene study\n",
    "* have had COPD\n",
    "* have a missense variant of the *SERPINA1* gene"
   ]
  },
  {
   "cell_type": "markdown",
   "metadata": {},
   "source": [
    "## 2.1 Create query\n",
    "Let's start by creating a new query and finding the variables pertaining to the COPDgene study (phs000179)"
   ]
  },
  {
   "cell_type": "code",
   "execution_count": null,
   "metadata": {
    "lines_to_next_cell": 2,
    "vscode": {
     "languageId": "r"
    }
   },
   "outputs": [],
   "source": [
    "# Retrieve all COPDGene variables\n",
    "copd_df <- picsure::bdc.searchPicsure(session, 'phs000179', includeValues = TRUE)  \n"
   ]
  },
  {
   "cell_type": "markdown",
   "metadata": {},
   "source": [
    "### Criteria 1: Participants who have had COPD\n",
    "Let's search our dataframe of COPDGene variables to find the one we want to use to filter for participants who have ever had COPD."
   ]
  },
  {
   "cell_type": "code",
   "execution_count": null,
   "metadata": {
    "vscode": {
     "languageId": "r"
    }
   },
   "outputs": [],
   "source": [
    "copd_df %>% \n",
    "    filter(grepl('copd', var_description, ignore.case = TRUE)) %>%\n",
    "    select(name, var_name, var_description, values)"
   ]
  },
  {
   "cell_type": "markdown",
   "metadata": {},
   "source": [
    "The variable with the description \"COPD: have you ever had COPD\" seems the most promising. Let's copy that variable's HPDS path to use in our query. Also note what values are present for this variable- we will filter to participants with value \"Yes\"."
   ]
  },
  {
   "cell_type": "code",
   "execution_count": null,
   "metadata": {
    "vscode": {
     "languageId": "r"
    }
   },
   "outputs": [],
   "source": [
    "copd_path <- '\\\\phs000179\\\\pht002239\\\\phv00159731\\\\COPD\\\\'"
   ]
  },
  {
   "cell_type": "code",
   "execution_count": null,
   "metadata": {
    "vscode": {
     "languageId": "r"
    }
   },
   "outputs": [],
   "source": [
    "copd_query <- picsure::bdc.newQuery(session) # Initialize a new query\n",
    "\n",
    "copd_query <- picsure::addClause(query = copd_query, \n",
    "                                 keys = copd_path,\n",
    "                                 type = 'FILTER',\n",
    "                                 categories = list('Yes'))\n"
   ]
  },
  {
   "cell_type": "markdown",
   "metadata": {},
   "source": [
    "### Criteria 2: Participants with a missense variant on *SERPINA1*\n",
    "\n",
    "A filter for the *SERPINA1* gene can be added in a  way similar to the first query shown above."
   ]
  },
  {
   "cell_type": "code",
   "execution_count": null,
   "metadata": {
    "vscode": {
     "languageId": "r"
    }
   },
   "outputs": [],
   "source": [
    "copd_query <- picsure::addClause(query = copd_query, \n",
    "                                 keys = 'Gene_with_variant',\n",
    "                                 type = 'FILTER',\n",
    "                                 categories = list('SERPINA1'))"
   ]
  },
  {
   "cell_type": "markdown",
   "metadata": {},
   "source": [
    "We can take a look a the variant consequences available for filtering to confirm that missense variant is a filtering option."
   ]
  },
  {
   "cell_type": "code",
   "execution_count": null,
   "metadata": {
    "vscode": {
     "languageId": "r"
    }
   },
   "outputs": [],
   "source": [
    "# get all \"Variant_consequence_calculated\" values\n",
    "consequences = genotype_annotations %>% filter(name == 'Variant_consequence_calculated') %>% pull(values)\n",
    "consequences <- strsplit(consequences, ', ')[[1]]\n",
    "print(consequences)"
   ]
  },
  {
   "cell_type": "code",
   "execution_count": null,
   "metadata": {
    "vscode": {
     "languageId": "r"
    }
   },
   "outputs": [],
   "source": [
    "copd_query <- picsure::addClause(query = copd_query, \n",
    "                                 keys = 'Variant_consequence_calculated',\n",
    "                                 type = 'FILTER',\n",
    "                                 categories = list(\"missense_variant\"))"
   ]
  },
  {
   "cell_type": "markdown",
   "metadata": {},
   "source": [
    "### 2.2 Get Results\n",
    "Now that the filtering is complete, we can use this final query to get counts and perform analysis on the data."
   ]
  },
  {
   "cell_type": "code",
   "execution_count": null,
   "metadata": {
    "vscode": {
     "languageId": "r"
    }
   },
   "outputs": [],
   "source": [
    "picsure::runQuery(copd_query, resultType = 'count')"
   ]
  },
  {
   "cell_type": "code",
   "execution_count": null,
   "metadata": {
    "vscode": {
     "languageId": "r"
    }
   },
   "outputs": [],
   "source": [
    "copd_result <- picsure::runQuery(copd_query)"
   ]
  },
  {
   "cell_type": "code",
   "execution_count": null,
   "metadata": {
    "vscode": {
     "languageId": "r"
    }
   },
   "outputs": [],
   "source": [
    "dim(copd_result)"
   ]
  },
  {
   "cell_type": "code",
   "execution_count": null,
   "metadata": {
    "vscode": {
     "languageId": "r"
    }
   },
   "outputs": [],
   "source": [
    "head(copd_result)"
   ]
  }
 ],
 "metadata": {
  "jupytext": {
   "formats": "ipynb,Rmd"
  },
  "kernelspec": {
   "display_name": "R",
   "language": "R",
   "name": "ir"
  },
  "language_info": {
   "codemirror_mode": "r",
   "file_extension": ".r",
   "mimetype": "text/x-r-source",
   "name": "R",
   "pygments_lexer": "r",
   "version": "4.1.1"
  },
  "toc": {
   "base_numbering": 1,
   "nav_menu": {},
   "number_sections": true,
   "sideBar": true,
   "skip_h1_title": false,
   "title_cell": "Table of Contents",
   "title_sidebar": "Contents",
   "toc_cell": false,
   "toc_position": {},
   "toc_section_display": true,
   "toc_window_display": false
  }
 },
 "nbformat": 4,
 "nbformat_minor": 4
}
