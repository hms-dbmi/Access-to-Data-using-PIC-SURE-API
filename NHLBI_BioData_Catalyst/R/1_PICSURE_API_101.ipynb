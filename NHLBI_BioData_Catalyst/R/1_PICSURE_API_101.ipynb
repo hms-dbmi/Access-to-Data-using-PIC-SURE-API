{
 "cells": [
  {
   "cell_type": "markdown",
   "metadata": {},
   "source": [
    "# Introduction to the PIC-SURE API"
   ]
  },
  {
   "cell_type": "markdown",
   "metadata": {},
   "source": [
    "This is a tutorial notebook aimed to get the user quickly up and running with the R PIC-SURE API. "
   ]
  },
  {
   "cell_type": "markdown",
   "metadata": {},
   "source": [
    "## PIC-SURE R API\n",
    "### What is PIC-SURE?\n",
    "\n",
    "<!--img src=\"./img/PIC-SURE_logo.png\" width= \"360px\"> -->\n",
    "\n",
    "As part of the BioData Catalyst initiative, the Patient Information Commons Standard Unification of Research Elements (PIC-SURE) platform has been integrating clinical and genomic datasets from multiple TOPMed and TOPMed related studies funded by the National Heart Lung and Blood Institute (NHLBI).\n",
    "\n",
    "Original data exposed through PIC-SURE API encompasses a large heterogeneity of data organization underneath. PIC-SURE hides this complexity and exposes the different study datasets in a single tabular format. By simplifying the process of data extraction, it allows investigators to focus on the downstream analyses and to facilitate reproducible science.\n",
    "\n",
    "\n",
    "### More about PIC-SURE\n",
    "The API is available in two different programming languages, python and R, enabling investigators to query the databases the same way using either language.\n",
    "\n",
    "\n",
    "PIC-SURE is a larger project from which the R/python PIC-SURE API is only a brick. Among other things, PIC-SURE also offers a graphical user interface that allows researchers to explore variables across multiple studies, filter patients that match criteria, and create cohorts from this interactive exploration.\n",
    "\n",
    "The R API is actively developed by the Avillach Lab at Harvard Medical School.\n",
    "\n",
    "PIC-SURE API GitHub repo:\n",
    "* https://github.com/hms-dbmi/pic-sure-r-adapter-hpds\n",
    "* https://github.com/hms-dbmi/pic-sure-r-client\n",
    "* https://github.com/hms-dbmi/pic-sure-biodatacatalyst-r-adapter-hpds\n",
    "\n",
    "\n"
   ]
  },
  {
   "cell_type": "markdown",
   "metadata": {},
   "source": [
    " -------"
   ]
  },
  {
   "cell_type": "markdown",
   "metadata": {},
   "source": [
    "## Getting your own user-specific security token"
   ]
  },
  {
   "cell_type": "markdown",
   "metadata": {},
   "source": [
    "**Before running this notebook, please be sure to review the \"Get your security token\" documentation, which exists in the NHLBI_BioData_Catalyst [README.md file](https://github.com/hms-dbmi/Access-to-Data-using-PIC-SURE-API/tree/master/NHLBI_BioData_Catalyst#get-your-security-token). It explains about how to get a security token, which is mandatory to access the databases.**"
   ]
  },
  {
   "cell_type": "markdown",
   "metadata": {},
   "source": [
    "### Environment set-up"
   ]
  },
  {
   "cell_type": "markdown",
   "metadata": {},
   "source": [
    "#### Pre-requisites\n",
    "- R 3.4 or later"
   ]
  },
  {
   "cell_type": "markdown",
   "metadata": {},
   "source": [
    "#### Install packages"
   ]
  },
  {
   "cell_type": "markdown",
   "metadata": {},
   "source": [
    "The first step to using the PIC-SURE API is to install the packages needed. The following code installs the PIC-SURE API components from GitHub, specifically:\n",
    "\n",
    "- PIC-SURE Client\n",
    "- PIC-SURE Adapter\n",
    "- BioData Catalyst PIC-SURE Adapter"
   ]
  },
  {
   "cell_type": "code",
   "execution_count": null,
   "metadata": {},
   "outputs": [],
   "source": [
    "install.packages('devtools')"
   ]
  },
  {
   "cell_type": "code",
   "execution_count": null,
   "metadata": {
    "scrolled": true
   },
   "outputs": [],
   "source": [
    "devtools::install_github(\"hms-dbmi/pic-sure-r-client\", ref=\"master\", force=T, quiet=TRUE)\n",
    "devtools::install_github(\"hms-dbmi/pic-sure-r-adapter-hpds\", ref=\"master\", force=T, quiet=TRUE)\n",
    "devtools::install_github(\"hms-dbmi/pic-sure-biodatacatalyst-r-adapter-hpds\", ref=\"new-search\", force=T)\n",
    "library(hpds)"
   ]
  },
  {
   "cell_type": "markdown",
   "metadata": {},
   "source": [
    "## Connecting to a PIC-SURE resource"
   ]
  },
  {
   "cell_type": "markdown",
   "metadata": {},
   "source": [
    "The following is required to get access to data through the PIC-SURE API: \n",
    "- Network URL\n",
    "- User-specific security token\n",
    "\n",
    "The following code specifies the network URL as the BioData Catalyst Powered by PIC-SURE URL and references the user-specific token saved as `token.txt`.\n",
    "\n",
    "If you have not already retrieved your user-specific token, please refer to the \"Get your security token\" section of the [README.md](https://github.com/hms-dbmi/Access-to-Data-using-PIC-SURE-API/tree/master/NHLBI_BioData_Catalyst#get-your-security-token) file."
   ]
  },
  {
   "cell_type": "code",
   "execution_count": null,
   "metadata": {},
   "outputs": [],
   "source": [
    "# Uncomment production URL when testing in production\n",
    "# PICSURE_network_URL = \"https://picsure.biodatacatalyst.nhlbi.nih.gov/picsure\"\n",
    "PICSURE_network_URL = \"https://biodatacatalyst.integration.hms.harvard.edu/picsure\"\n",
    "token_file <- \"token.txt\"\n",
    "token <- scan(token_file, what = \"character\")\n",
    "connection <- picsure::connect(PICSURE_network_URL, token)\n",
    "authPicSure = bdc::use.authPicSure(connection)"
   ]
  },
  {
   "cell_type": "markdown",
   "metadata": {},
   "source": [
    "### Getting help with the PIC-SURE API"
   ]
  },
  {
   "cell_type": "markdown",
   "metadata": {},
   "source": [
    "You can get help with PIC-SURE library functions by using the `?` operator"
   ]
  },
  {
   "cell_type": "code",
   "execution_count": null,
   "metadata": {},
   "outputs": [],
   "source": [
    "?bdc::find.in.dictionary"
   ]
  },
  {
   "cell_type": "markdown",
   "metadata": {},
   "source": [
    "For example, the above outpit lists and briefly defines how to use the `find.in.dictionary` function in the `bdc` adapter."
   ]
  },
  {
   "cell_type": "markdown",
   "metadata": {},
   "source": [
    "## Using the PIC-SURE variable dictionary"
   ]
  },
  {
   "cell_type": "markdown",
   "metadata": {},
   "source": [
    "Now that you have set up your connection to the PIC-SURE API, let's determine which study or studies you are authorized to access. The dictionary method can be used to search the data dictionary for a specific term or to retrieve information about all the variables you are authorized to access. \n"
   ]
  },
  {
   "cell_type": "code",
   "execution_count": null,
   "metadata": {},
   "outputs": [],
   "source": [
    "dictionary <- bdc::use.dictionary(connection) # set up the variable dictionary\n",
    "all_variables <- bdc::find.in.dictionary(dictionary) # retrieve all the variables you have access to\n"
   ]
  },
  {
   "cell_type": "code",
   "execution_count": null,
   "metadata": {},
   "outputs": [],
   "source": [
    "all_variable_df <- bdc::extract.dataframe(all_variables)\n",
    "studies <- unique(all_variable_df$study_id)"
   ]
  },
  {
   "cell_type": "code",
   "execution_count": null,
   "metadata": {},
   "outputs": [],
   "source": [
    "if (length(studies) == 0) {\n",
    "    print(\"You are not authorized to access any studies.\")\n",
    "} else {\n",
    "    print(\"You are authorized to access the following studies:\")\n",
    "    print(studies)\n",
    "}"
   ]
  },
  {
   "cell_type": "markdown",
   "metadata": {},
   "source": [
    "### *Note: if you do not see any studies listed above, you are not authorized to access any data. The rest of the notebook will not work.*\n"
   ]
  },
  {
   "cell_type": "markdown",
   "metadata": {},
   "source": [
    "Let's save a study to use as an example for the rest of the notebook."
   ]
  },
  {
   "cell_type": "code",
   "execution_count": null,
   "metadata": {},
   "outputs": [],
   "source": [
    "phs_number = studies[1]\n",
    "paste0(\"The phs accession being used is: \", phs_number)"
   ]
  },
  {
   "cell_type": "markdown",
   "metadata": {},
   "source": [
    "Now, let's find all of the variables associated with that study. We can search for these using the `find.in.dictionary()` function and searching the phs accession number. We can then view a dataframe of the variables returned from this search using the `extract.dataframe()` function."
   ]
  },
  {
   "cell_type": "code",
   "execution_count": null,
   "metadata": {},
   "outputs": [],
   "source": [
    "my_variables <- bdc::find.in.dictionary(dictionary, phs_number) # Search for the phs accession number in our established variable dictionary\n",
    "my_variables_df <- bdc::extract.dataframe(my_variables)"
   ]
  },
  {
   "cell_type": "code",
   "execution_count": null,
   "metadata": {},
   "outputs": [],
   "source": [
    "paste(\"There are\", nrow(my_variables_df), \"variables that were returned for your search.\")\n",
    "paste(\"Here are some of the variables you have access to:\")\n",
    "print(my_variables_df$var_description[1:10])"
   ]
  },
  {
   "cell_type": "markdown",
   "metadata": {
    "jupyter": {
     "source_hidden": true
    }
   },
   "source": [
    "PIC-SURE integrates clinical and genomic datasets across BioData Catalyst, including TOPMed and TOPMed-related studies, COVID-19 studies, and BioLINCC studies. Each variable is organized as a concept path that contains information about the study, variable group, and variable. Though the specifics of the concept paths are dependent on the type of study, the overall information included is the same. \n",
    "\n",
    "Data Organization in PIC-SURE\n",
    "---------------------------------------\n",
    "| Data organization | TopMED & TOPMed-related studies | BioLINCC & COVID-19 studies |\n",
    "|-------------------|---------------------------------|-----------------------------|\n",
    "| General organization | Data organized using the format implemented by the database of Genotypes and Phenotypes (dbGaP). Generally, a given study will have several tables, and those tables have several variables. | Data do not follow dbGaP format; there are no phv or pht accessions. Data are organized in groups of like variables, when available. For example, variables like Age, Gender, and Race could be part of the Demographics variable group. |\n",
    "| Concept path structure | \\phs\\pht\\phv\\variable name\\ | \\phs\\variable name |\n",
    "| Variable ID | phv corresponding to the variable accession number | Equivalent to variable name | \n",
    "| Variable name | Encoded variable name that was used by the original submitters of the data | Encoded variable name that was used by the original submitters of the data |\n",
    "| Variable description | Description of the variable | Description of the variable, as available |\n",
    "| Dataset ID | pht corresponding to the trait table accession number | Equivalent to Dataset name | \n",
    "| Dataset name | Name of the trait table | Name of a group of like variables, as available | \n",
    "| Dataset description | Description of the trait table | Description of a group of like variables, as available |\n",
    "| Study ID | phs corresponding to the study accession number | phs corresponding to the study accession number |\n",
    "| Study description | Description of the study from dbGaP | Description of the study from dbGaP |\n",
    "\n"
   ]
  },
  {
   "cell_type": "markdown",
   "metadata": {},
   "source": [
    "We can also view additional information for individual variables using the `varInfo()` function.\n",
    "Note that you will need the variable(s)' `HPDS PATH` for this function."
   ]
  },
  {
   "cell_type": "code",
   "execution_count": null,
   "metadata": {},
   "outputs": [],
   "source": [
    "first_var <- bdc::get.paths(my_variables)[1]\n",
    "bdc::get.varInfo(my_variables, first_var)"
   ]
  },
  {
   "cell_type": "markdown",
   "metadata": {},
   "source": [
    "Now you can try to search for a term on your own. Below is sample code on how to search for the term `sex`. To practice searching the data dictionary, you can change \"sex\" to a term you are interested in. If there are results for your term, you will see them displayed in the convenient dataframe format by using the `extract.dataframe()` function."
   ]
  },
  {
   "cell_type": "code",
   "execution_count": null,
   "metadata": {},
   "outputs": [],
   "source": [
    "my_search <- bdc::find.in.dictionary(dictionary, 'sex') # Change sex to be your term of interest\n",
    "my_search_df <- bdc::extract.dataframe(my_search)\n",
    "if(nrow(my_search_df) == 0){\n",
    "    print(\"Search term returned no results. Please try searching a different term.\")\n",
    "} else {\n",
    "    (tail(my_search_df))\n",
    "}\n"
   ]
  },
  {
   "cell_type": "markdown",
   "metadata": {},
   "source": [
    "## Using PIC-SURE to build a query and retrieve data\n",
    "You can also use the PIC-SURE API to build a query and retrieve data. With this functionality, you can filter based on specific variables, add others, and export the data as a dataframe into this notebook. \n",
    "\n",
    "The first step to this is setting up the `authQuery`."
   ]
  },
  {
   "cell_type": "code",
   "execution_count": null,
   "metadata": {},
   "outputs": [],
   "source": [
    "authQuery_categorical_example <- bdc::new.query(authPicSure)"
   ]
  },
  {
   "cell_type": "markdown",
   "metadata": {},
   "source": [
    "There are several methods that can be used to build a query, which are listed below.\n",
    "\n",
    "| Method | Arguments / Input | Output|\n",
    "|--------|-------------------|-------|\n",
    "| query.select.add() | variable names (string) or list of strings | all variables included in the list (no record subsetting)|\n",
    "| query.require.add() | variable names (string) or list of strings | all variables; only records that do not contain null values for input variables |\n",
    "| query.anyof.add() | variable names (string) or list of strings | all variables; only records that contain at least one non-null value for input variables |\n",
    "| query.filter.add() | variable name and additional filtering values | input variable; only records that match filter criteria |"
   ]
  },
  {
   "cell_type": "markdown",
   "metadata": {},
   "source": [
    "### Build a query with a categorical variable\n",
    "Let's practice building a query by filtering on variables. First, let's select a categorical variable to use. We can identify one using the `is_categorical` column of the variable dataframe."
   ]
  },
  {
   "cell_type": "code",
   "execution_count": null,
   "metadata": {},
   "outputs": [],
   "source": [
    "categorical_vars <- my_variables_df[my_variables_df$data_type == 'categorical',] # filter to categorical variables\n",
    "categorical_vars <- categorical_vars[categorical_vars$values != '[]',] # make sure there are values for the variable\n",
    "\n",
    "v <- sample(c(1:nrow(categorical_vars)), 1) # select a random categorical variable\n",
    "\n",
    "categorical_var <- categorical_vars[v, 'HPDS_PATH']\n",
    "categorical_description <- categorical_vars[v, 'var_description']\n",
    "categories <- categorical_vars[v, 'values']\n",
    "# select the first category available to filter on\n",
    "filter_category <- strsplit(gsub('\\\\[|]|', '', categories), ',')[[1]][1]\n",
    "filter_category <- trimws(filter_category)"
   ]
  },
  {
   "cell_type": "code",
   "execution_count": null,
   "metadata": {},
   "outputs": [],
   "source": [
    "paste(\"We will use the PIC-SURE variable\", categorical_var, \"which is\", categorical_description)\n",
    "print(\"Here are the categories associated with the variable:\")\n",
    "print(categories)\n",
    "paste(\"We will filter to participants with the value '\", filter_category, \"' for the variable.\")"
   ]
  },
  {
   "cell_type": "markdown",
   "metadata": {},
   "source": [
    "We now have the PIC-SURE variable and the value to apply to the filter saved. We can use the `filter()` method to add this information to our query. "
   ]
  },
  {
   "cell_type": "code",
   "execution_count": null,
   "metadata": {},
   "outputs": [],
   "source": [
    "bdc::query.filter.add(authQuery_categorical_example, categorical_var, filter_category)"
   ]
  },
  {
   "cell_type": "markdown",
   "metadata": {},
   "source": [
    "Note that though we are only filtering by one value, you can filter by multiple values by passing a list into the `filter` function.\n",
    "\n",
    "Now we can export our filtered data to a dataframe in this notebook."
   ]
  },
  {
   "cell_type": "code",
   "execution_count": null,
   "metadata": {},
   "outputs": [],
   "source": [
    "results_categorical <- bdc::query.run(authQuery_categorical_example)\n",
    "head(results_categorical)"
   ]
  },
  {
   "cell_type": "markdown",
   "metadata": {},
   "source": [
    "In the data dictionary dataframe shown previously, each row represented a single concept path or variable. In the query dataframe, the concept paths are added as columns with each row representing a participant with data that matches your query. \n",
    "\n",
    "The dataframe above should contain some automatically exported concept paths, such as `Patient ID`, `Parent Study Accession with Subject ID`, `Topmed Study Accession with Subject ID`, and `consents`, and the concept path we added to our query (`categorical_var`). Additionally, all participants should have the value we used to filter for our added concept path."
   ]
  },
  {
   "cell_type": "markdown",
   "metadata": {},
   "source": [
    "We can see how this query filtering worked by comparing the resulting dataframe to the full unfiltered data for this variable. Let's build a query that retrieves the data from all participants that have data for the categorical variable of interest using `require()`."
   ]
  },
  {
   "cell_type": "code",
   "execution_count": null,
   "metadata": {},
   "outputs": [],
   "source": [
    "authQuery_categorical_example2 <- bdc::new.query(authPicSure) # Initialize a new query\n",
    "bdc::query.require.add(authQuery_categorical_example2, categorical_var) # Use require() and the categorical_var\n",
    "full_results_categorical <- bdc::query.run(authQuery_categorical_example2)\n",
    "head(full_results_categorical)"
   ]
  },
  {
   "cell_type": "code",
   "execution_count": null,
   "metadata": {},
   "outputs": [],
   "source": [
    "# Visualize the results with pie charts\n",
    "df2 <- data.frame(table(full_results_categorical[,eval(categorical_var)]))\n",
    "pie(df2$Freq, labels = df2$Var1, main = paste(\"Before filtering variable\\n\", categorical_var))\n",
    "\n",
    "df1 <- data.frame(table(results_categorical[,eval(categorical_var)]))\n",
    "pie(df1$Freq, labels = df1$Var1, main = paste(\"After filtering variable\\n\", categorical_var))"
   ]
  },
  {
   "cell_type": "markdown",
   "metadata": {},
   "source": [
    "### Build a query with a continuous variable\n",
    "Similarly, we can create a query using a continuous variable. Instead of using the `is_categorical` column, let's make use of the `min` and `max` columns to determine the range of values that can be selected for our query."
   ]
  },
  {
   "cell_type": "code",
   "execution_count": null,
   "metadata": {},
   "outputs": [],
   "source": [
    "# Filter to a random continuous variable with a range of data\n",
    "continuous_vars <- my_variables_df[!is.na(my_variables_df$max) & my_variables_df$max != my_variables_df$min,]\n",
    "v <- sample(c(1:nrow(continuous_vars)), 1) \n",
    "\n",
    "continuous_var <- continuous_vars[v,'HPDS_PATH']\n",
    "paste('We will use the PIC-SURE variable', continuous_var, 'which is', continuous_vars[v,'var_description'])\n",
    "\n",
    "# Get range of values for chosen variable\n",
    "min <- as.numeric(continuous_vars[v, 'min'])\n",
    "max <- as.numeric(continuous_vars[v, 'max'])\n",
    "paste('The minimum value for this variable is:', min)\n",
    "paste('The maximum value for this variable is:', max)\n",
    "\n",
    "# Set a sub-range of values to filter our participants with\n",
    "filter_min_value <- max - (max - min)/2\n",
    "filter_max_value <- max\n",
    "paste(\"We will filter to participants with values between\", filter_min_value, \"and\", filter_max_value, \".\")\n"
   ]
  },
  {
   "cell_type": "markdown",
   "metadata": {},
   "source": [
    "Again, we can use the `filter()` method to add the continuous variable to the query. Once added, we can retrieve our results dataframe."
   ]
  },
  {
   "cell_type": "code",
   "execution_count": null,
   "metadata": {},
   "outputs": [],
   "source": [
    "authQuery_continuous_example <- bdc::new.query(authPicSure) # Start a new query\n",
    "bdc::query.filter.add(authQuery_continuous_example, continuous_var, filter_min_value, filter_max_value)\n",
    "results_continuous <- bdc::query.run(authQuery_continuous_example)\n",
    "head(results_continuous)"
   ]
  },
  {
   "cell_type": "code",
   "execution_count": null,
   "metadata": {},
   "outputs": [],
   "source": [
    "paste(\"We will plot a histogram of our results to ensure we are only looking at values for\",\n",
    "      continuous_vars[v,'var_description'],\n",
    "      \"which fall between\", filter_min_value, \"and\", filter_max_value, \".\")"
   ]
  },
  {
   "cell_type": "code",
   "execution_count": null,
   "metadata": {},
   "outputs": [],
   "source": [
    "hist(results_continuous[,eval(continuous_var)], \n",
    "     main = paste('After filtering variable\\n', continuous_vars[v,'var_description']))"
   ]
  },
  {
   "cell_type": "markdown",
   "metadata": {},
   "source": [
    "Compared to all data values for this variable:"
   ]
  },
  {
   "cell_type": "code",
   "execution_count": null,
   "metadata": {},
   "outputs": [],
   "source": [
    "authQuery_continuous_example2 <- bdc::new.query(authPicSure) # Start a new query\n",
    "bdc::query.require.add(authQuery_continuous_example2, continuous_var)\n",
    "full_results_continuous <- bdc::query.run(authQuery_continuous_example2)"
   ]
  },
  {
   "cell_type": "code",
   "execution_count": null,
   "metadata": {},
   "outputs": [],
   "source": [
    "hist(full_results_continuous[,eval(continuous_var)], \n",
    "     main = paste('Before filtering variable\\n', continuous_vars[v,'var_description']))"
   ]
  },
  {
   "cell_type": "markdown",
   "metadata": {},
   "source": [
    "### Build a query with multiple variables\n",
    "You can also add multiple variables to a single query. Let's build a query with the first five variables for the study of interest."
   ]
  },
  {
   "cell_type": "code",
   "execution_count": null,
   "metadata": {},
   "outputs": [],
   "source": [
    "query_vars <- my_variables_df[c(1:5), 'HPDS_PATH']\n",
    "print(\"We will add the following variables to the query:\")\n",
    "query_vars"
   ]
  },
  {
   "cell_type": "markdown",
   "metadata": {},
   "source": [
    "We can use the`anyof` function to add variables to the query. This will filter to participants that have data **for at least one of the variables added**.  "
   ]
  },
  {
   "cell_type": "code",
   "execution_count": null,
   "metadata": {},
   "outputs": [],
   "source": [
    "authQuery <- bdc::new.query(authPicSure) # Start a new query\n",
    "invisible(lapply(query_vars, bdc::query.anyof.add, query = authQuery))\n",
    "results <- bdc::query.run(authQuery)"
   ]
  },
  {
   "cell_type": "code",
   "execution_count": null,
   "metadata": {},
   "outputs": [],
   "source": [
    "head(results)"
   ]
  },
  {
   "cell_type": "markdown",
   "metadata": {},
   "source": [
    "### Selecting consent groups\n",
    "\n",
    "PIC-SURE will limit results based on which study and consent groups you have been individually authorized to access. In some cases, such as instances where you can access multiple studies and/or consent groups, you may need to limit your results further to only a subset of the groups you have been authorized to access.\n",
    "\n",
    "Let's see which studies and consent groups you are authorized to access using the `show()` method of the query."
   ]
  },
  {
   "cell_type": "code",
   "execution_count": null,
   "metadata": {},
   "outputs": [],
   "source": [
    "authQuery_consents <- bdc::new.query(authPicSure) # Start a new query\n",
    "bdc::query.show(authQuery_consents)"
   ]
  },
  {
   "cell_type": "markdown",
   "metadata": {},
   "source": [
    "The `\\\\_consents\\\\` section of the output shown above lists all of the phs accession numbers and consent codes that you are authorized to access. \n",
    "\n",
    "To query on specific consent groups in this list, you must first clear the list of values within the `\\\\_consents\\\\` section and then manually replace them. Let's practice this by copying and pasting a phs accession number and consent code, deleting the `\\\\_consents\\\\` field, and adding it back with our selected consent code.\n",
    "\n",
    "*Note that trying to manually add a consent group which you are not authorized to access will results in errors downstream.*"
   ]
  },
  {
   "cell_type": "code",
   "execution_count": null,
   "metadata": {},
   "outputs": [],
   "source": [
    "bdc::query.filter.delete(authQuery_consents, '\\\\_consents\\\\')\n",
    "bdc::query.show(authQuery_consents)"
   ]
  },
  {
   "cell_type": "code",
   "execution_count": null,
   "metadata": {},
   "outputs": [],
   "source": [
    "consent_group_filter <- \"phs000964.c1\"#\"<<<Paste consent group here you are authorized to access here>>>\"\n",
    "bdc::query.filter.add(authQuery_consents, '\\\\_consents\\\\', consent_group_filter)\n",
    "bdc::query.show(authQuery_consents)"
   ]
  },
  {
   "cell_type": "markdown",
   "metadata": {},
   "source": [
    "Now your query is set to select only variables and participants from the phs accession and consent code you selected. From here, you can build out your query as shown above."
   ]
  },
  {
   "cell_type": "markdown",
   "metadata": {},
   "source": [
    "### Retrieving data from a query built in the PIC-SURE user interface (UI)\n",
    "\n",
    "You are able to retrieve the results of a query that you have previously built using the [PIC-SURE Authorized Access UI](https://picsure.biodatacatalyst.nhlbi.nih.gov/psamaui/). After you have built your query and filtered to your cohort of interest, open the **Select and Package Data** tool in the Tool Suite. This will allow you to copy your query ID and bring it in to a Jupyter notebook. **Note that query IDs are not permanent and may expire.**\n"
   ]
  },
  {
   "cell_type": "markdown",
   "metadata": {},
   "source": [
    "<img src=\"https://drive.google.com/uc?id=1XD3L0obdgQZ3GgO2Xu-sxhMxzzXgqofL\">"
   ]
  },
  {
   "cell_type": "code",
   "execution_count": null,
   "metadata": {},
   "outputs": [],
   "source": [
    "# To run this using your notebook you must replace it with the ID value of a query that you have run.\n",
    "query_id <- '<<<Paste your Query ID here>>>'\n",
    "results <- bdc::query.getResults(authPicSure, query_id)\n",
    "results <- read.delim(textConnection(results), sep = \",\")\n",
    "colnames(results) <- results[1,]\n",
    "head(results)"
   ]
  },
  {
   "cell_type": "code",
   "execution_count": null,
   "metadata": {},
   "outputs": [],
   "source": []
  }
 ],
 "metadata": {
  "jupytext": {
   "formats": "ipynb,Rmd"
  },
  "kernelspec": {
   "display_name": "R",
   "language": "R",
   "name": "ir"
  },
  "language_info": {
   "codemirror_mode": "r",
   "file_extension": ".r",
   "mimetype": "text/x-r-source",
   "name": "R",
   "pygments_lexer": "r",
   "version": "4.2.0"
  },
  "toc": {
   "base_numbering": 1,
   "nav_menu": {},
   "number_sections": true,
   "sideBar": true,
   "skip_h1_title": false,
   "title_cell": "Table of Contents",
   "title_sidebar": "Contents",
   "toc_cell": false,
   "toc_position": {},
   "toc_section_display": true,
   "toc_window_display": false
  }
 },
 "nbformat": 4,
 "nbformat_minor": 4
}
