{
 "cells": [
  {
   "cell_type": "markdown",
   "metadata": {},
   "source": [
    "# Introduction to the PIC-SURE API"
   ]
  },
  {
   "cell_type": "markdown",
   "metadata": {},
   "source": [
    "This is a tutorial notebook aimed to get the user quickly up and running with the R PIC-SURE API. "
   ]
  },
  {
   "cell_type": "markdown",
   "metadata": {},
   "source": [
    "## PIC-SURE R API\n",
    "### What is PIC-SURE?\n",
    "\n",
    "As part of the *NHLBI BioData Catalyst® (BDC)* ecosystem, the Patient Information Commons Standard Unification of Research Elements (PIC-SURE) platform has been integrating clinical and genomic datasets from multiple TOPMed and TOPMed related studies funded by the National Heart Lung and Blood Institute (NHLBI).\n",
    "\n",
    "Original data exposed through PIC-SURE API encompasses a large heterogeneity of data organization underneath. PIC-SURE hides this complexity and exposes the different study datasets in a single tabular format. By simplifying the process of data extraction, it allows investigators to focus on the downstream analyses and to facilitate reproducible science.\n",
    "\n",
    "\n",
    "### More about PIC-SURE\n",
    "The API is available in two different programming languages, python and R, enabling investigators to query the databases the same way using either language.\n",
    "\n",
    "\n",
    "PIC-SURE is a larger project from which the R/python PIC-SURE API is only a brick. Among other things, PIC-SURE also offers a graphical user interface that allows researchers to explore variables across multiple studies, filter patients that match criteria, and create cohorts from this interactive exploration.\n",
    "\n",
    "The R API is actively developed by the Avillach Lab at Harvard Medical School.\n",
    "\n",
    "PIC-SURE API GitHub repo:\n",
    "* https://github.com/hms-dbmi/pic-sure-r-adapter-hpds\n",
    "* https://github.com/hms-dbmi/pic-sure-r-client\n",
    "* https://github.com/hms-dbmi/pic-sure-biodatacatalyst-r-adapter-hpds\n",
    "\n",
    "\n"
   ]
  },
  {
   "cell_type": "markdown",
   "metadata": {},
   "source": [
    " -------"
   ]
  },
  {
   "cell_type": "markdown",
   "metadata": {},
   "source": [
    "## Getting your own user-specific security token"
   ]
  },
  {
   "cell_type": "markdown",
   "metadata": {},
   "source": [
    "**Before running this notebook, please be sure to review the \"Get your security token\" documentation, which exists in the [`README.md` file](../README.md). It explains how to get a security token, which is mandatory to use the PIC-SURE API.**\n",
    "\n",
    "To set up your token file, be sure to run the [`Workspace_setup.ipynb` file](./Workspace_setup.ipynb)."
   ]
  },
  {
   "cell_type": "markdown",
   "metadata": {},
   "source": [
    "### Environment set-up"
   ]
  },
  {
   "cell_type": "markdown",
   "metadata": {},
   "source": [
    "#### Pre-requisites\n",
    "- R 3.4 or later"
   ]
  },
  {
   "cell_type": "markdown",
   "metadata": {},
   "source": [
    "#### Install packages"
   ]
  },
  {
   "cell_type": "markdown",
   "metadata": {},
   "source": [
    "The first step to using the PIC-SURE API is to install the packages needed. The following code installs the PIC-SURE API components from GitHub, specifically:\n",
    "\n",
    "- PIC-SURE Client\n",
    "- PIC-SURE Adapter\n",
    "- *BDC-PIC-SURE* Adapter\n",
    "\n",
    "**Note that if you are using the dedicated PIC-SURE environment within the *BDC Powered by Seven Bridges (BDC-Seven Bridges)* platform, the necessary packages have already been installed.**\n",
    "\n",
    "*Troubleshooting: if you encounter an error while installing packages or connecting to a PIC-SURE resource, try restarting your kernel and trying again.*"
   ]
  },
  {
   "cell_type": "code",
   "execution_count": null,
   "metadata": {},
   "outputs": [],
   "source": [
    "### Uncomment this code if you are not using the PIC-SURE environment in *BDC-Seven Bridges*, or if you do not have all the necessary dependencies installed.\n",
    "#install.packages(\"devtools\")"
   ]
  },
  {
   "cell_type": "code",
   "execution_count": null,
   "metadata": {},
   "outputs": [],
   "source": [
    "Sys.setenv(TAR = \"/bin/tar\")\n",
    "options(unzip = \"internal\")\n",
    "devtools::install_github(\"hms-dbmi/pic-sure-r-adapter-hpds\", ref=\"main\", force=T, quiet=FALSE)\n",
    "library(dplyr)"
   ]
  },
  {
   "cell_type": "code",
   "execution_count": null,
   "metadata": {},
   "outputs": [],
   "source": [
    "install.packages(\"stringr\")\n",
    "library(stringr)"
   ]
  },
  {
   "cell_type": "markdown",
   "metadata": {},
   "source": [
    "## Connecting to a PIC-SURE resource"
   ]
  },
  {
   "cell_type": "markdown",
   "metadata": {},
   "source": [
    "The following is required to get access to data through the PIC-SURE API: \n",
    "- Network URL\n",
    "- User-specific security token\n",
    "\n",
    "The following code specifies the network URL as the *BDC-PIC-SURE* URL and references the user-specific token saved as `token.txt`.\n",
    "\n",
    "If you have not already retrieved your user-specific token, please refer to the \"Get your security token\" section of the `README.md` file and the `Workspace_setup.ipynb` file."
   ]
  },
  {
   "cell_type": "code",
   "execution_count": null,
   "metadata": {},
   "outputs": [],
   "source": [
    "PICSURE_network_URL = \"https://picsure.biodatacatalyst.nhlbi.nih.gov/picsure\"\n",
    "token_file <- \"token.txt\"\n",
    "token <- scan(token_file, what = \"character\")\n",
    "session <- picsure::bdc.initializeSession(PICSURE_network_URL, token)\n",
    "session <- picsure::bdc.setResource(session = session,  resourceName = \"AUTH\")"
   ]
  },
  {
   "cell_type": "markdown",
   "metadata": {},
   "source": [
    "### Getting help with the PIC-SURE API"
   ]
  },
  {
   "cell_type": "markdown",
   "metadata": {},
   "source": [
    "You can get help with PIC-SURE library functions by using the `?` operator"
   ]
  },
  {
   "cell_type": "code",
   "execution_count": null,
   "metadata": {},
   "outputs": [],
   "source": [
    "?picsure::bdc.searchPicsure"
   ]
  },
  {
   "cell_type": "markdown",
   "metadata": {},
   "source": [
    "For example, the above output lists and briefly defines how to use the `searchPicsure` function."
   ]
  },
  {
   "cell_type": "markdown",
   "metadata": {},
   "source": [
    "## Using the PIC-SURE variable dictionary"
   ]
  },
  {
   "cell_type": "markdown",
   "metadata": {},
   "source": [
    "Now that you have set up your connection to the PIC-SURE API, let's determine which study or studies you are authorized to access. The `searchPicsure` function can be used to search the data dictionary for a specific term or to retrieve information about all the variables you are authorized to access. \n"
   ]
  },
  {
   "cell_type": "code",
   "execution_count": null,
   "metadata": {},
   "outputs": [],
   "source": [
    "searchResults <- picsure::bdc.searchPicsure(session) # retrieve all the variables you have access to"
   ]
  },
  {
   "cell_type": "code",
   "execution_count": null,
   "metadata": {},
   "outputs": [],
   "source": [
    "studies <- unique(searchResults$study_id)"
   ]
  },
  {
   "cell_type": "code",
   "execution_count": null,
   "metadata": {},
   "outputs": [],
   "source": [
    "print(\"You are authorized to access the following studies:\")\n",
    "print(studies)"
   ]
  },
  {
   "cell_type": "markdown",
   "metadata": {},
   "source": [
    "For the rest of this example notebook, we will use one of the publicly available datasets available on PIC-SURE. This dataset is the \"Framingham Heart Study: Dataset for Teaching Purposes\", which is listed as `tutorial-biolincc_framingham` in the PIC-SURE output above."
   ]
  },
  {
   "cell_type": "code",
   "execution_count": null,
   "metadata": {},
   "outputs": [],
   "source": [
    "phs_number <- \"tutorial-biolincc_framingham\""
   ]
  },
  {
   "cell_type": "markdown",
   "metadata": {},
   "source": [
    "Now, let's find all of the variables associated with that study. We can search for these using the `searchPicsure` function and searching the phs accession number; in this case `tutorial-biolincc_framingham`. We are interested in the values associated with the categorial variables in this study, so we will make sure to include the argument `includeValues = TRUE`."
   ]
  },
  {
   "cell_type": "code",
   "execution_count": null,
   "metadata": {},
   "outputs": [],
   "source": [
    "my_variables_df <- picsure::bdc.searchPicsure(session, keyword = phs_number, includeValues = TRUE) # Search for the phs accession number "
   ]
  },
  {
   "cell_type": "markdown",
   "metadata": {},
   "source": [
    "We can now review the variables that were returned and some of the information associated with these variables."
   ]
  },
  {
   "cell_type": "code",
   "execution_count": null,
   "metadata": {},
   "outputs": [],
   "source": [
    "nrow(my_variables_df) # Count number of rows to determine number of variables that matched our search"
   ]
  },
  {
   "cell_type": "code",
   "execution_count": null,
   "metadata": {},
   "outputs": [],
   "source": [
    "head(my_variables_df$var_description, 10) # Review the first 10 variable descriptions in the dataframe"
   ]
  },
  {
   "cell_type": "markdown",
   "metadata": {},
   "source": [
    "PIC-SURE integrates clinical and genomic datasets across *BDC*, including TOPMed and TOPMed-related studies, COVID-19 studies, and BioLINCC studies. Each variable is organized as a concept path that contains information about the study, variable group, and variable. Though the specifics of the concept paths are dependent on the type of study, the overall information included is the same. \n",
    "\n",
    "Data Organization in PIC-SURE\n",
    "---------------------------------------\n",
    "| Data organization | TOPMed & TOPMed-related studies | BioLINCC & COVID-19 studies |\n",
    "|-------------------|---------------------------------|-----------------------------|\n",
    "| General organization | Data organized using the format implemented by the database of Genotypes and Phenotypes (dbGaP). Generally, a given study will have several tables, and those tables have several variables. | Data do not follow dbGaP format; there are no phv or pht accessions. Data are organized in groups of like variables, when available. For example, variables like Age, Gender, and Race could be part of the Demographics variable group. |\n",
    "| Concept path structure | \\phs\\pht\\phv\\variable name\\ | \\phs\\variable name |\n",
    "| Variable ID | phv corresponding to the variable accession number | Equivalent to variable name | \n",
    "| Variable name | Encoded variable name that was used by the original submitters of the data | Encoded variable name that was used by the original submitters of the data |\n",
    "| Variable description | Description of the variable | Description of the variable, as available |\n",
    "| Dataset ID | pht corresponding to the trait table accession number | Equivalent to Dataset name | \n",
    "| Dataset name | Name of the trait table | Name of a group of like variables, as available | \n",
    "| Dataset description | Description of the trait table | Description of a group of like variables, as available |\n",
    "| Study ID | phs corresponding to the study accession number | phs corresponding to the study accession number |\n",
    "| Study description | Description of the study from dbGaP | Description of the study from dbGaP |\n",
    "\n"
   ]
  },
  {
   "cell_type": "markdown",
   "metadata": {},
   "source": [
    "*Note: The concept paths in PIC-SURE are used for querying. This is called `name` in the data dictionary shown above.*"
   ]
  },
  {
   "cell_type": "markdown",
   "metadata": {},
   "source": [
    "## Using PIC-SURE to build a query and retrieve data\n",
    "You can also use the PIC-SURE API to build a query and retrieve data. With this functionality, you can filter based on specific variables, add others, and export the data as a dataframe into this notebook. \n",
    "\n",
    "The first step is to set up the query object."
   ]
  },
  {
   "cell_type": "code",
   "execution_count": null,
   "metadata": {},
   "outputs": [],
   "source": [
    "query_example <- picsure::bdc.newQuery(session)"
   ]
  },
  {
   "cell_type": "markdown",
   "metadata": {},
   "source": [
    "There are several methods that can be used to build a query, which can be specified by the `type` argument in the `picsure::addClause` function.\n",
    "\n",
    "| type | functionality |\n",
    "|--------|-------------------|\n",
    "| type = 'SELECT' | return all variables included in the list (no record subsetting)|\n",
    "| type = 'REQUIRE' | return all variables included in the list; only records that do not contain null values for input variables |\n",
    "| type = 'ANYOF' | return all variables included in the list; only records that contain at least one non-null value for input variables |\n",
    "| type = 'FILTER' | return input variable; only records that match filter criteria |"
   ]
  },
  {
   "cell_type": "markdown",
   "metadata": {},
   "source": [
    "As an example query, let's use the Framingham tutorial dataset to investigate the prevalence of hypertension and distribution of age of current smokers with body mass index greater than 20. "
   ]
  },
  {
   "cell_type": "code",
   "execution_count": null,
   "metadata": {},
   "outputs": [],
   "source": [
    "# Ensure that only Framingham tutorial variables are shown in the data dictionary, which can vary based on individual access\n",
    "tutorial_df <- my_variables_df[my_variables_df$study_id == phs_number,]"
   ]
  },
  {
   "cell_type": "markdown",
   "metadata": {},
   "source": [
    "### Build a query with a categorical variable - Current smoker\n",
    "Let's practice building a query by filtering on variables. Based on the search for the Framingham tutorial dataset variables, we can save the concept path of the \"Current cigarette smoking at exam\" variable, which is a categorical variable. "
   ]
  },
  {
   "cell_type": "code",
   "execution_count": null,
   "metadata": {},
   "outputs": [],
   "source": [
    "smoke_variable_path <- tutorial_df[tutorial_df$var_description == \"Current cigarette smoking at exam\", \"name\"]\n",
    "smoke_variable_path"
   ]
  },
  {
   "cell_type": "markdown",
   "metadata": {},
   "source": [
    "We can take a look at the options of values to filter by using the `values` column of the data dictionary."
   ]
  },
  {
   "cell_type": "code",
   "execution_count": null,
   "metadata": {},
   "outputs": [],
   "source": [
    "tutorial_df[tutorial_df$name == smoke_variable_path, \"values\"]"
   ]
  },
  {
   "cell_type": "markdown",
   "metadata": {},
   "source": [
    "Let's apply a filter on the \"Current cigarette smoking at exam\" variable to only select participants with \"Current smoker.\" Note that though we are only filtering by one value, you can filter by multiple values by passing a list into `filter()`. Note that though we are only filtering by one value, you can filter by multiple values by passing a list into the `filter` function. "
   ]
  },
  {
   "cell_type": "code",
   "execution_count": null,
   "metadata": {},
   "outputs": [],
   "source": [
    "query_example <- picsure::addClause(query = query_example, # Query to build on\n",
    "                                                keys = smoke_variable_path, # Variable concept path to filter on\n",
    "                                                type = \"FILTER\", # The type of query, in this case a FILTER\n",
    "                                                categories = list(\"Current smoker\")) # Value(s) to filter on"
   ]
  },
  {
   "cell_type": "markdown",
   "metadata": {},
   "source": [
    "### Build a query with a continuous variable - BMI\n",
    "Let's practice building a query by filtering on a continuous variable, in this case, BMI. We can find the BMI concept path using a similar approach as above."
   ]
  },
  {
   "cell_type": "code",
   "execution_count": null,
   "metadata": {},
   "outputs": [],
   "source": [
    "bmi_variable_path <- tutorial_df[tutorial_df$var_id == \"BMI\", \"name\"]\n",
    "bmi_variable_path"
   ]
  },
  {
   "cell_type": "markdown",
   "metadata": {},
   "source": [
    "We can take a look at the minimum and maximum values of the variable using the `min` and `max` columns of the data dictionary."
   ]
  },
  {
   "cell_type": "code",
   "execution_count": null,
   "metadata": {},
   "outputs": [],
   "source": [
    "tutorial_df[tutorial_df$name == bmi_variable_path, c(\"min\", \"max\")]"
   ]
  },
  {
   "cell_type": "markdown",
   "metadata": {},
   "source": [
    "Let's apply a filter on the \"Body Mass Index, weight in kilograms/height meters squared\" variable to select only participants with values greater than 20. Note that while in this example only a `min` is specified, a `max` can also be defined for the filter."
   ]
  },
  {
   "cell_type": "code",
   "execution_count": null,
   "metadata": {},
   "outputs": [],
   "source": [
    "query_example <- picsure::addClause(query = query_example, # Query to filter on\n",
    "                                               keys = bmi_variable_path, # Variable concept path to filter on\n",
    "                                               type = \"FILTER\", # The type of query, in this case FILTER\n",
    "                                               min = 20) # Minimum of the range"
   ]
  },
  {
   "cell_type": "markdown",
   "metadata": {},
   "source": [
    "### Adding variables to include in export - Age and Hypertension\n",
    "In addition to adding filters, specific variables can be included in the export for analysis. Let's do this for the \"Age at exam (years)\" and \"Hypertensive. Defined as the first exam treated for high blood pressure or second exam in which either Systolic is 6 140 mmHg or Diastolic 6 90mmHg\" variables."
   ]
  },
  {
   "cell_type": "code",
   "execution_count": null,
   "metadata": {},
   "outputs": [],
   "source": [
    "age_variable_path <- tutorial_df[tutorial_df$var_description == \"Age at exam (years)\", \"name\"]\n",
    "hyperten_variable_path <- tutorial_df[tutorial_df$var_id == \"HYPERTEN\", \"name\"]"
   ]
  },
  {
   "cell_type": "markdown",
   "metadata": {},
   "source": [
    "Let's add these variables to our query. To do this, we can either use `select()`, `require()`, or `anyof()`. \n",
    "\n",
    "`select()` will add these variables for all participants we have filtered thus far, regardless whether they have a value for the variables or not.\n",
    "\n",
    "`anyof()` will add these variables for all participants that have at least one non-null value for the variables added.\n",
    "\n",
    "`require()` will add these variables for all participants that have only non-null values for all variables added.\n",
    "\n",
    "\n",
    "For this, let's use `require()` to only select participants that have information for both of these variables. "
   ]
  },
  {
   "cell_type": "code",
   "execution_count": null,
   "metadata": {},
   "outputs": [],
   "source": [
    "query_example <- picsure::addClause(query = query_example, # Query to add to\n",
    "                                               keys = c(age_variable_path, hyperten_variable_path), # List of variables to add\n",
    "                                               type = \"REQUIRE\") # Query type REQUIRE"
   ]
  },
  {
   "cell_type": "markdown",
   "metadata": {},
   "source": [
    "### Exporting participant-level data from the query\n",
    "The query has been constructed and can now be exported for analysis.\n",
    "\n",
    "In the data dictionary dataframe shown previously, each row represented a single concept path or variable. In the query dataframe, the concept paths are added as columns with each row representing a participant with data that matches your query. \n",
    "\n",
    "The dataframe above should contain some automatically exported concept paths, such as `patient_id`, `Parent Study Accession with Subject ID`, `Topmed Study Accession with Subject ID`, and `consents`, and the concept paths we added to our query."
   ]
  },
  {
   "cell_type": "code",
   "execution_count": null,
   "metadata": {},
   "outputs": [],
   "source": [
    "example_results <- picsure::runQuery(query_example, resultType = 'DATA_FRAME')\n",
    "head(example_results)"
   ]
  },
  {
   "cell_type": "markdown",
   "metadata": {},
   "source": [
    "As you can see in the results, there are some instances where study participants may have more than one value for a given variable. For example, this may be the case when a study participants answers questionnaires for multiple visits. \n",
    "\n",
    "In the PIC-SURE output, this is shown as values being separated by a tab or `\\t` value. These multiple values will need to be accounted for depending on the planned analysis.\n",
    "\n",
    "With this example, averages of the age and BMI values could be calculated and a new variable \"ever smoker\" could be created based on whether \"current smoker\" was ever answered for the CURSMOKE variable. The code below shows this example of how to handle these values.\n",
    "\n",
    "*Note: Approaches to handling multiple values will differ based on the approach.*"
   ]
  },
  {
   "cell_type": "code",
   "execution_count": null,
   "metadata": {},
   "outputs": [],
   "source": [
    "# Select rows of interest and rename them\n",
    "clean_results <- example_results %>% \n",
    "  select(\"\\\\tutorial-biolincc_framingham\\\\AGE\\\\\", \"\\\\tutorial-biolincc_framingham\\\\BMI\\\\\", \"\\\\tutorial-biolincc_framingham\\\\CURSMOKE\\\\\", \"\\\\tutorial-biolincc_framingham\\\\HYPERTEN\\\\\") %>%\n",
    "  rename(AGE = \"\\\\tutorial-biolincc_framingham\\\\AGE\\\\\", BMI = \"\\\\tutorial-biolincc_framingham\\\\BMI\\\\\", CURSMOKE = \"\\\\tutorial-biolincc_framingham\\\\CURSMOKE\\\\\", HYPERTEN = \"\\\\tutorial-biolincc_framingham\\\\HYPERTEN\\\\\")\n",
    "head(clean_results)"
   ]
  },
  {
   "cell_type": "code",
   "execution_count": null,
   "metadata": {},
   "outputs": [],
   "source": [
    "# Function that splits the values and calculates the mean\n",
    "mean_multiple_values <- function(df_values) {\n",
    "  sep_values <- str_split(df_values, \"\\t\")\n",
    "  numeric_values <- as.numeric(sep_values[[1]])\n",
    "  return(mean(numeric_values))\n",
    "}\n",
    "\n",
    "# Apply the function to calculate the means to the AGE and BMI variables\n",
    "mean_age <- lapply(clean_results$AGE, mean_multiple_values)\n",
    "mean_bmi <- lapply(clean_results$BMI, mean_multiple_values)"
   ]
  },
  {
   "cell_type": "code",
   "execution_count": null,
   "metadata": {},
   "outputs": [],
   "source": [
    "# Function that flags participants as smoker if they have an answer of \"Current smoker\"\n",
    "ever_smoker <- function(smoke_vals){\n",
    "  sep_smoke_vals <- str_split(smoke_vals, \"\\t\")[[1]]\n",
    "  if (\"Current smoker\" %in% sep_smoke_vals) {\n",
    "    return(\"Smoker\")\n",
    "  } else {\n",
    "    return(\"Non-smoker\")\n",
    "  }\n",
    "}\n",
    "\n",
    "# Apply the function to identify smokers to the CURSMOKE variable\n",
    "ever_smoker <- lapply(clean_results$CURSMOKE, ever_smoker)"
   ]
  },
  {
   "cell_type": "code",
   "execution_count": null,
   "metadata": {},
   "outputs": [],
   "source": [
    "# Take a look at the new results\n",
    "clean_results$mean_age <- as.numeric(mean_age)\n",
    "clean_results$mean_bmi <- as.numeric(mean_bmi)\n",
    "clean_results$ever_smoker <- as.character(ever_smoker)\n",
    "clean_results %>% select(\"mean_age\", \"mean_bmi\", \"ever_smoker\", \"HYPERTEN\") %>% head()"
   ]
  }
 ],
 "metadata": {
  "jupytext": {
   "formats": "ipynb,Rmd"
  },
  "kernelspec": {
   "display_name": "R",
   "language": "R",
   "name": "ir"
  },
  "language_info": {
   "codemirror_mode": "r",
   "file_extension": ".r",
   "mimetype": "text/x-r-source",
   "name": "R",
   "pygments_lexer": "r",
   "version": "4.1.3"
  },
  "toc": {
   "base_numbering": 1,
   "nav_menu": {},
   "number_sections": true,
   "sideBar": true,
   "skip_h1_title": false,
   "title_cell": "Table of Contents",
   "title_sidebar": "Contents",
   "toc_cell": false,
   "toc_position": {},
   "toc_section_display": true,
   "toc_window_display": false
  }
 },
 "nbformat": 4,
 "nbformat_minor": 4
}
