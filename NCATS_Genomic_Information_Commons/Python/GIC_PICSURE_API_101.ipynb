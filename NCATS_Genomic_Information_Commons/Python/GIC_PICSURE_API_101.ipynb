{
 "cells": [
  {
   "cell_type": "markdown",
   "metadata": {},
   "source": [
    "# PIC-SURE API for the Genomic Information Commons\n",
    "\n",
    "This is a tutorial notebook aimed to get the user quickly up and running with the PIC-SURE API."
   ]
  },
  {
   "cell_type": "markdown",
   "metadata": {},
   "source": [
    "### Genomic Information Commons\n",
    "\n",
    "The [Genomic Information Commons (GIC)](https://www.genomicinformationcommons.org/) is the first queryable, federated, genomic data collaboration between leading hospitals in the nation and the first genomic data commons in the world that offers participating institutions the ability to leverage globally scalable technologies, policies, and procedures for sharing genomic data, phenotypic data, and biospecimen metadata on broadly consented cohorts, across sites of care. \n",
    "\n",
    "The GIC leverages a multi-institutional patient population of diverse backgrounds with unparalleled representation across the spectrum of diseases. Researchers and clinicians employed by member institutions have access to the combined patient population, which is continuously updating and available to query in aggregate view using the [GIC Portal](https://pl-gic.childrens.harvard.edu/).\n",
    "\n",
    "Institutional data is stored locally and does not leave member institutions without approvals from institutional IRBs and the GIC's Federated Data and Sample Access Committee. Additionally, member institutions have full insight into use of their data by other member institutions.\n",
    "\n",
    "___"
   ]
  },
  {
   "cell_type": "markdown",
   "metadata": {},
   "source": [
    "### What is PIC-SURE?\n",
    "\n",
    "The Patient Information Commons Standard Unification of Research Elements (PIC-SURE) platform integrates clinical and genomic data from the PrecisionLink Biobank.\n",
    "\n",
    "Original data exposed through the PIC-SURE API encompasses a large heterogeneity of data organization underneath. PIC-SURE hides this complexity and exposes the different study datasets in a single tabular format. By simplifying the process of data extraction, it allows investigators to focus on downstream analysis and to facilitate reproducible science.\n",
    "\n",
    "More about PIC-SURE\n",
    "The API is available in two different programming languages, python and R, enabling investigators to query the databases the same way using either language.\n",
    "\n",
    "PIC-SURE is a larger project from which the R/python PIC-SURE API is only a brick. Among other things, PIC-SURE also offers a graphical user interface that allows researchers to explore variables across multiple studies, filter patients that match criteria, and create cohorts from this interactive exploration. The python API is actively developed by the Avillach Lab at Harvard Medical School.\n",
    "\n",
    "**GitHub repo:**\n",
    "\n",
    "https://github.com/hms-dbmi/pic-sure-python-adapter-hpds\n",
    "\n",
    "https://github.com/hms-dbmi/pic-sure-python-client\n",
    "\n",
    "---"
   ]
  },
  {
   "cell_type": "markdown",
   "metadata": {},
   "source": [
    "### Retrieve Personal User Security Token\n",
    "In order to be able to run any of these examples, you'll need to get a **personal user security token.** This is the way the API grants access to individual users to protected-access data.The user token is strictly personal, be careful not to share it with anyone.\n",
    "<br>\n",
    "\n",
    "**How to retrieve your personal security token:**\n",
    "1. In a web browser, navigate to the GIC instance of PIC-SURE\n",
    "    - Login using your institutional credentials (i.e. Boston Childrens email and password)\n",
    "2. In the user interface, click the **User Profile** tab\n",
    "3. A modal will open with a your personal secuirty token.\n",
    "    - Check the expiration date of your user token. If expired click refresh.\n",
    "    - Click copy\n",
    "4. Navigate back to the Jupyter environment.\n",
    "    - In the folder where your jupyter notebook is located, create a **new** text file: `token.txt` \n",
    "    - Paste the personal security token in the text file and click save.\n",
    "--- "
   ]
  },
  {
   "cell_type": "markdown",
   "metadata": {},
   "source": [
    "## Environment Set-up\n",
    "\n",
    "### Pre-requisites: \n",
    "* Python >= 3.7\n",
    "* pip: Python package manager, already available in most system with a Python interpreter installed \n",
    "\n",
    "* [pip installation instructions](https://pip.pypa.io/en/stable/installing/).\n",
    "\n",
    "### IPython magic command\n",
    "The two lines of code below load the autoreload IPython extension. Although not necessary to execute the rest of the Notebook, it does enable to reload every dependency each time the python code is executed. \n",
    "\n",
    "**This enables the system to take into account changes made in an external file that have been imported into this Notebook (e.g. user defined function stored in separate file), without having to manually reload libraries**. \n",
    "\n",
    "This is especially helpful when developing interactively. More information about [IPython Magic commands](https://ipython.readthedocs.io/en/stable/interactive/magics.html) can be found here. "
   ]
  },
  {
   "cell_type": "code",
   "execution_count": 2,
   "metadata": {},
   "outputs": [],
   "source": [
    "%load_ext autoreload\n",
    "%autoreload 2"
   ]
  },
  {
   "cell_type": "markdown",
   "metadata": {},
   "source": [
    "### Package installation\n",
    "- Install the packages listed in the `requirements.txt` file using the pip package manager"
   ]
  },
  {
   "cell_type": "code",
   "execution_count": 3,
   "metadata": {},
   "outputs": [
    {
     "name": "stdout",
     "output_type": "stream",
     "text": [
      "numpy==1.22.0\r\n",
      "matplotlib>=3.1.1\r\n",
      "pandas>=0.25.3\r\n",
      "scipy>=1.3.1\r\n",
      "tqdm>=4.38.0\r\n",
      "statsmodels>=0.10.2\r\n"
     ]
    }
   ],
   "source": [
    "!cat requirements.txt"
   ]
  },
  {
   "cell_type": "code",
   "execution_count": 4,
   "metadata": {},
   "outputs": [
    {
     "name": "stdout",
     "output_type": "stream",
     "text": [
      "Requirement already satisfied: numpy==1.22.0 in /Applications/anaconda3/lib/python3.9/site-packages (from -r requirements.txt (line 1)) (1.22.0)\n",
      "Requirement already satisfied: matplotlib>=3.1.1 in /Applications/anaconda3/lib/python3.9/site-packages (from -r requirements.txt (line 2)) (3.5.2)\n",
      "Requirement already satisfied: pandas>=0.25.3 in /Applications/anaconda3/lib/python3.9/site-packages (from -r requirements.txt (line 3)) (1.4.4)\n",
      "Requirement already satisfied: scipy>=1.3.1 in /Applications/anaconda3/lib/python3.9/site-packages (from -r requirements.txt (line 4)) (1.9.1)\n",
      "Requirement already satisfied: tqdm>=4.38.0 in /Applications/anaconda3/lib/python3.9/site-packages (from -r requirements.txt (line 5)) (4.64.1)\n",
      "Requirement already satisfied: statsmodels>=0.10.2 in /Applications/anaconda3/lib/python3.9/site-packages (from -r requirements.txt (line 6)) (0.13.2)\n",
      "Requirement already satisfied: pillow>=6.2.0 in /Applications/anaconda3/lib/python3.9/site-packages (from matplotlib>=3.1.1->-r requirements.txt (line 2)) (9.2.0)\n",
      "Requirement already satisfied: pyparsing>=2.2.1 in /Applications/anaconda3/lib/python3.9/site-packages (from matplotlib>=3.1.1->-r requirements.txt (line 2)) (3.0.9)\n",
      "Requirement already satisfied: python-dateutil>=2.7 in /Applications/anaconda3/lib/python3.9/site-packages (from matplotlib>=3.1.1->-r requirements.txt (line 2)) (2.8.2)\n",
      "Requirement already satisfied: packaging>=20.0 in /Applications/anaconda3/lib/python3.9/site-packages (from matplotlib>=3.1.1->-r requirements.txt (line 2)) (21.3)\n",
      "Requirement already satisfied: fonttools>=4.22.0 in /Applications/anaconda3/lib/python3.9/site-packages (from matplotlib>=3.1.1->-r requirements.txt (line 2)) (4.25.0)\n",
      "Requirement already satisfied: kiwisolver>=1.0.1 in /Applications/anaconda3/lib/python3.9/site-packages (from matplotlib>=3.1.1->-r requirements.txt (line 2)) (1.4.2)\n",
      "Requirement already satisfied: cycler>=0.10 in /Applications/anaconda3/lib/python3.9/site-packages (from matplotlib>=3.1.1->-r requirements.txt (line 2)) (0.11.0)\n",
      "Requirement already satisfied: pytz>=2020.1 in /Applications/anaconda3/lib/python3.9/site-packages (from pandas>=0.25.3->-r requirements.txt (line 3)) (2022.1)\n",
      "Requirement already satisfied: patsy>=0.5.2 in /Applications/anaconda3/lib/python3.9/site-packages (from statsmodels>=0.10.2->-r requirements.txt (line 6)) (0.5.2)\n",
      "Requirement already satisfied: six in /Applications/anaconda3/lib/python3.9/site-packages (from patsy>=0.5.2->statsmodels>=0.10.2->-r requirements.txt (line 6)) (1.16.0)\n",
      "Collecting git+https://github.com/hms-dbmi/pic-sure-python-adapter-hpds.git\n",
      "  Cloning https://github.com/hms-dbmi/pic-sure-python-adapter-hpds.git to /private/var/folders/4l/6p4fk5f13f572f45_7zs6jfc0000gn/T/pip-req-build-ft6nu2t7\n",
      "  Running command git clone --quiet https://github.com/hms-dbmi/pic-sure-python-adapter-hpds.git /private/var/folders/4l/6p4fk5f13f572f45_7zs6jfc0000gn/T/pip-req-build-ft6nu2t7\n",
      "  Resolved https://github.com/hms-dbmi/pic-sure-python-adapter-hpds.git to commit 7b5c4b3fd544be200adaf50b17e4e7d6af5778fb\n",
      "  Preparing metadata (setup.py) ... \u001b[?25ldone\n",
      "\u001b[?25hCollecting httplib2\n",
      "  Using cached httplib2-0.21.0-py3-none-any.whl (96 kB)\n",
      "Collecting pyparsing!=3.0.0,!=3.0.1,!=3.0.2,!=3.0.3,<4,>=2.4.2\n",
      "  Using cached pyparsing-3.0.9-py3-none-any.whl (98 kB)\n",
      "Building wheels for collected packages: PicSureHpdsLib\n",
      "  Building wheel for PicSureHpdsLib (setup.py) ... \u001b[?25ldone\n",
      "\u001b[?25h  Created wheel for PicSureHpdsLib: filename=PicSureHpdsLib-0.9.0-py2.py3-none-any.whl size=22057 sha256=13171f8b40a90d87beb08fdfc270e96bc89a28344de5c8359a0c91a953b75be2\n",
      "  Stored in directory: /private/var/folders/4l/6p4fk5f13f572f45_7zs6jfc0000gn/T/pip-ephem-wheel-cache-umdu273d/wheels/00/65/db/82c3cb2f3d3f8d99881ef6281230e13b5e210d80665b276992\n",
      "Successfully built PicSureHpdsLib\n",
      "Installing collected packages: pyparsing, httplib2, PicSureHpdsLib\n",
      "  Attempting uninstall: pyparsing\n",
      "    Found existing installation: pyparsing 3.0.9\n",
      "    Uninstalling pyparsing-3.0.9:\n",
      "      Successfully uninstalled pyparsing-3.0.9\n",
      "  Attempting uninstall: httplib2\n",
      "    Found existing installation: httplib2 0.21.0\n",
      "    Uninstalling httplib2-0.21.0:\n",
      "      Successfully uninstalled httplib2-0.21.0\n",
      "  Attempting uninstall: PicSureHpdsLib\n",
      "    Found existing installation: PicSureHpdsLib 0.9.0\n",
      "    Uninstalling PicSureHpdsLib-0.9.0:\n",
      "      Successfully uninstalled PicSureHpdsLib-0.9.0\n",
      "Successfully installed PicSureHpdsLib-0.9.0 httplib2-0.21.0 pyparsing-3.0.9\n",
      "Collecting git+https://github.com/hms-dbmi/pic-sure-python-client.git\n",
      "  Cloning https://github.com/hms-dbmi/pic-sure-python-client.git to /private/var/folders/4l/6p4fk5f13f572f45_7zs6jfc0000gn/T/pip-req-build-tejt0468\n",
      "  Running command git clone --quiet https://github.com/hms-dbmi/pic-sure-python-client.git /private/var/folders/4l/6p4fk5f13f572f45_7zs6jfc0000gn/T/pip-req-build-tejt0468\n",
      "  Resolved https://github.com/hms-dbmi/pic-sure-python-client.git to commit aabcc6574eede2dc3de410c6c75f7f77ea18d23c\n",
      "  Preparing metadata (setup.py) ... \u001b[?25ldone\n",
      "\u001b[?25hBuilding wheels for collected packages: PicSureClient\n",
      "  Building wheel for PicSureClient (setup.py) ... \u001b[?25ldone\n",
      "\u001b[?25h  Created wheel for PicSureClient: filename=PicSureClient-0.1.0-py2.py3-none-any.whl size=10309 sha256=82792d659aaa5c69945e71b7a2b32eb99aed5b03e785aa7d2fd512c1f5f7b301\n",
      "  Stored in directory: /private/var/folders/4l/6p4fk5f13f572f45_7zs6jfc0000gn/T/pip-ephem-wheel-cache-sgzvk6et/wheels/88/a3/ee/ea12f2255cde18e11aa3a9091131fe8e56e5224630c914619b\n",
      "Successfully built PicSureClient\n",
      "Installing collected packages: PicSureClient\n",
      "  Attempting uninstall: PicSureClient\n",
      "    Found existing installation: PicSureClient 0.1.0\n",
      "    Uninstalling PicSureClient-0.1.0:\n",
      "      Successfully uninstalled PicSureClient-0.1.0\n",
      "Successfully installed PicSureClient-0.1.0\n"
     ]
    }
   ],
   "source": [
    "# set up environment\n",
    "import sys\n",
    "!{sys.executable} -m pip install -r requirements.txt\n",
    "!{sys.executable} -m pip install --upgrade --force-reinstall git+https://github.com/hms-dbmi/pic-sure-python-adapter-hpds.git\n",
    "!{sys.executable} -m pip install --upgrade --force-reinstall git+https://github.com/hms-dbmi/pic-sure-python-client.git\n"
   ]
  },
  {
   "cell_type": "markdown",
   "metadata": {},
   "source": [
    "### Import Dependencies\n",
    "Import all the external dependencies, as well as user-defined functions stored in the _python_lib_ folder"
   ]
  },
  {
   "cell_type": "code",
   "execution_count": 5,
   "metadata": {},
   "outputs": [],
   "source": [
    "# Useful to estimate execution time of the Notebook\n",
    "from datetime import datetime\n",
    "then = datetime.now()\n",
    "\n",
    "# PIC-SURE API library\n",
    "import PicSureHpdsLib\n",
    "import PicSureClient\n",
    "\n",
    "# Python library for PIC-SURE\n",
    "from python_lib.utils import get_multiIndex_variablesDict\n",
    "\n",
    "# Analysis\n",
    "import pandas as pd\n",
    "from pprint import pprint"
   ]
  },
  {
   "cell_type": "markdown",
   "metadata": {},
   "source": [
    "## Connecting to a PIC-SURE network\n",
    "\n",
    "Connect to the data network using the HPDS adapter\n",
    "Three pieces of information are needed to get access to data through the PIC-SURE API: \n",
    "- Network URL\n",
    "- Resource id\n",
    "- User security token -- this is specific to a given URL + resource "
   ]
  },
  {
   "cell_type": "code",
   "execution_count": 6,
   "metadata": {},
   "outputs": [],
   "source": [
    "# Personal Security token is the individual user key given to connect to the GIC institute resource\n",
    "token_file = \"token.txt\"\n",
    "with open(token_file, \"r\") as f:\n",
    "    my_token = f.read()"
   ]
  },
  {
   "cell_type": "code",
   "execution_count": 8,
   "metadata": {},
   "outputs": [
    {
     "name": "stdout",
     "output_type": "stream",
     "text": [
      "+--------------------------------------+------------------------------------------------------+\n",
      "|  Resource UUID                       |  Resource Name                                       |\n",
      "+--------------------------------------+------------------------------------------------------+\n",
      "| 7fdb91ab-aceb-472a-b276-490d1729f841 | CHOP                                                 |\n",
      "| 43ddc535-7740-4c1b-b961-609dd1a0525c | WASHU                                                |\n",
      "| 04bad269-3b87-4cd4-ac62-9cedfb0096ea | BCH                                                  |\n",
      "| 6e5f3248-cee5-417c-af40-992cb836c3d3 | CCHMC                                                |\n",
      "| 31316431-3832-6235-2d33-6332312d3131 | Common-Search                                        |\n",
      "+--------------------------------------+------------------------------------------------------+\n"
     ]
    }
   ],
   "source": [
    "# Connection to the PIC-SURE API w/ key\n",
    "\n",
    "# network information - insert PIC-SURE instance url\n",
    "PICSURE_network_URL = \"https://pl-gic.childrens.harvard.edu/picsure\" \n",
    "# get connection object\n",
    "connection = PicSureClient.Client.connect(url = PICSURE_network_URL,\n",
    "                                 token = my_token)"
   ]
  },
  {
   "cell_type": "code",
   "execution_count": 10,
   "metadata": {},
   "outputs": [],
   "source": [
    "# Get adapter object\n",
    "adapter = PicSureHpdsLib.Adapter(connection)"
   ]
  },
  {
   "cell_type": "code",
   "execution_count": 11,
   "metadata": {},
   "outputs": [],
   "source": [
    "# insert your resource id generated above \n",
    "resource_id = '' \n",
    "# get resource object\n",
    "resource = adapter.useResource(resource_id)"
   ]
  },
  {
   "cell_type": "markdown",
   "metadata": {},
   "source": [
    "#### Three objects have been created using the **PICSURE**  and **HPDS** libraries:\n",
    "1. Connection object\n",
    "2. Adapter object\n",
    "3. Resource object\n",
    "\n",
    "The connection object is useful for getting access to different databases stored in different resources. It is connected to the specific data source ID we specified and enables us to query and retrieve data from this database.\n",
    "\n",
    "#### Getting help with the Python PIC-SURE API\n",
    "Each object exposed by the PicSureHpdsLib library got a help() method. Calling it will print out a helper message about it."
   ]
  },
  {
   "cell_type": "code",
   "execution_count": 12,
   "metadata": {},
   "outputs": [
    {
     "name": "stdout",
     "output_type": "stream",
     "text": [
      "\n",
      "        [HELP] PicSureHpdsLib.useResource(resource_uuid)\n",
      "            .dictionary()       Used to access data dictionary of the resource\n",
      "            .query()            Used to query against data in the resource\n",
      "            .retrieveQueryResults(query_uuid) returns the results of an asynchronous query that has already been submitted to PICSURE\n",
      "\n",
      "        [ENVIRONMENT]\n",
      "              Endpoint URL: https://pl-gic.childrens.harvard.edu/picsure/\n",
      "             Resource UUID: 04bad269-3b87-4cd4-ac62-9cedfb0096ea\n"
     ]
    }
   ],
   "source": [
    "# get resource documentation\n",
    "resource.help()"
   ]
  },
  {
   "cell_type": "markdown",
   "metadata": {},
   "source": [
    "## Using the variables dictionary\n"
   ]
  },
  {
   "cell_type": "markdown",
   "metadata": {},
   "source": [
    "Once a connection to the desired resource has been established, we first need to understand which variables are available in the database. To this end, we will use the `dictionary` method of the `resource` object.\n",
    "\n",
    "A `dictionary` instance enables us to retrieve matching records by searching for a specific term, or to retrieve information about all the available variables, using the `find()` method. For instance, looking for variables containing the term `Calcium` in their names is done this way: "
   ]
  },
  {
   "cell_type": "code",
   "execution_count": 13,
   "metadata": {},
   "outputs": [],
   "source": [
    "# Initialize the dictionary\n",
    "dictionary = resource.dictionary()\n",
    "\n",
    "#search for all variables that contain calcium in their name\n",
    "dictionary_search = dictionary.find(\"Calcium\")"
   ]
  },
  {
   "cell_type": "markdown",
   "metadata": {},
   "source": [
    "Note: Using the `dictionary.find()` function without arguments will return every entry, as shown in the help documentation.\n",
    "We included the term \"Calcium\" as we are only interested in entries related to calcium.\n",
    "\n",
    "Subsequently, objects created by the `dictionary.find` method expose the search results via 4 different methods: `.count()`, `.keys()`, `.entries()`, and `.DataFrame()`."
   ]
  },
  {
   "cell_type": "code",
   "execution_count": 14,
   "metadata": {},
   "outputs": [
    {
     "name": "stdout",
     "output_type": "stream",
     "text": [
      "{'Count': 41,\n",
      " 'Entries': [{'HpdsDataType': 'phenotypes',\n",
      "              'categorical': True,\n",
      "              'categoryValues': ['T46.1X4D Poisoning by calcium-channel '\n",
      "                                 'blockers, undetermined, subsequent '\n",
      "                                 'encounter'],\n",
      "              'name': '\\\\ACT Diagnosis ICD-10\\\\S00-T88 Injury, poisoning and '\n",
      "                      'certain other consequences of external causes '\n",
      "                      '(S00-T88)\\\\T36-T50 Poisoning by, adverse effects of and '\n",
      "                      'underdosing of drugs, medicaments and biological '\n",
      "                      'substances (T36-T50)\\\\T46 Poisoning by, adverse effect '\n",
      "                      'of and underdosing of agents primarily affecting the '\n",
      "                      'cardiovascular system\\\\T46.1 Poisoning by, adverse '\n",
      "                      'effect of and underdosing of calcium-channel '\n",
      "                      'blockers\\\\T46.1X Poisoning by, adverse effect of and '\n",
      "                      'underdosing of calcium-channel blockers\\\\T46.1X4 '\n",
      "                      'Poisoning by calcium-channel blockers, undetermined\\\\',\n",
      "              'observationCount': 2,\n",
      "              'patientCount': 1},\n",
      "             {'HpdsDataType': 'phenotypes',\n",
      "              'categorical': False,\n",
      "              'max': 2500.0,\n",
      "              'min': 0.25,\n",
      "              'name': '\\\\ACT Medications\\\\C [Preparations]\\\\Calcium Carbonate '\n",
      "                      '/ Folic Acid / Magnesium Carbonate\\\\',\n",
      "              'observationCount': 113018,\n",
      "              'patientCount': 5809},\n",
      "             {'HpdsDataType': 'phenotypes',\n",
      "              'categorical': False,\n",
      "              'max': 1.0,\n",
      "              'min': 1.0,\n",
      "              'name': '\\\\ACT Medications\\\\C [Preparations]\\\\Calcium Ascorbate '\n",
      "                      '/ Calcium Threonate / Ferrous Asparto Glycinate / '\n",
      "                      'Ferrous Fumarate / Folic Acid / Succinic Acid / Vitamin '\n",
      "                      'B 12\\\\',\n",
      "              'observationCount': 43,\n",
      "              'patientCount': 4},\n",
      "             {'HpdsDataType': 'phenotypes',\n",
      "              'categorical': False,\n",
      "              'max': 1.0,\n",
      "              'min': 1.0,\n",
      "              'name': '\\\\ACT Medications\\\\C [Preparations]\\\\Calcium Ascorbate '\n",
      "                      '/ Calcium Threonate / Ferrous Asparto Glycinate / Liver '\n",
      "                      'Stomach Concentrate / Succinic Acid / Vitamin B 12\\\\',\n",
      "              'observationCount': 43,\n",
      "              'patientCount': 4},\n",
      "             {'HpdsDataType': 'phenotypes',\n",
      "              'categorical': False,\n",
      "              'max': 7500.0,\n",
      "              'min': 0.625,\n",
      "              'name': '\\\\ACT Medications\\\\C [Preparations]\\\\Calcium '\n",
      "                      'Carbonate\\\\',\n",
      "              'observationCount': 202833,\n",
      "              'patientCount': 6098}],\n",
      " 'Keys': ['\\\\ACT Diagnosis ICD-10\\\\S00-T88 Injury, poisoning and certain other '\n",
      "          'consequences of external causes (S00-T88)\\\\T36-T50 Poisoning by, '\n",
      "          'adverse effects of and underdosing of drugs, medicaments and '\n",
      "          'biological substances (T36-T50)\\\\T46 Poisoning by, adverse effect '\n",
      "          'of and underdosing of agents primarily affecting the cardiovascular '\n",
      "          'system\\\\T46.1 Poisoning by, adverse effect of and underdosing of '\n",
      "          'calcium-channel blockers\\\\T46.1X Poisoning by, adverse effect of '\n",
      "          'and underdosing of calcium-channel blockers\\\\T46.1X4 Poisoning by '\n",
      "          'calcium-channel blockers, undetermined\\\\',\n",
      "          '\\\\ACT Medications\\\\C [Preparations]\\\\Calcium Carbonate / Folic Acid '\n",
      "          '/ Magnesium Carbonate\\\\',\n",
      "          '\\\\ACT Medications\\\\C [Preparations]\\\\Calcium Ascorbate / Calcium '\n",
      "          'Threonate / Ferrous Asparto Glycinate / Ferrous Fumarate / Folic '\n",
      "          'Acid / Succinic Acid / Vitamin B 12\\\\',\n",
      "          '\\\\ACT Medications\\\\C [Preparations]\\\\Calcium Ascorbate / Calcium '\n",
      "          'Threonate / Ferrous Asparto Glycinate / Liver Stomach Concentrate / '\n",
      "          'Succinic Acid / Vitamin B 12\\\\',\n",
      "          '\\\\ACT Medications\\\\C [Preparations]\\\\Calcium Carbonate\\\\']}\n"
     ]
    }
   ],
   "source": [
    "pprint({\"Count\": dictionary_search.count(), \n",
    "        \"Keys\": dictionary_search.keys()[0:5],\n",
    "        \"Entries\": dictionary_search.entries()[0:5]})"
   ]
  },
  {
   "cell_type": "markdown",
   "metadata": {},
   "source": [
    "**The `.DataFrame()` method enables us to get the result of the dictionary search in a pandas DataFrame format. This way, it allows us to:** \n",
    "\n",
    "\n",
    "* Use the various information exposed in the dictionary (patient count, variable type ...) as criteria for variable selection.\n",
    "* Use the row names of the DataFrame to get the actual variable names to be used in the query, as shown below.\n",
    "\n",
    "Variable names aren't very pratical to use right away for two reasons:\n",
    "1. Very long\n",
    "2. Presence of backslashes that prevent from copy-pasting. \n",
    "\n",
    "However, retrieving the dictionary search result in the form of a dataframe can help access the variable names."
   ]
  },
  {
   "cell_type": "code",
   "execution_count": 15,
   "metadata": {},
   "outputs": [
    {
     "data": {
      "text/html": [
       "<div>\n",
       "<style scoped>\n",
       "    .dataframe tbody tr th:only-of-type {\n",
       "        vertical-align: middle;\n",
       "    }\n",
       "\n",
       "    .dataframe tbody tr th {\n",
       "        vertical-align: top;\n",
       "    }\n",
       "\n",
       "    .dataframe thead th {\n",
       "        text-align: right;\n",
       "    }\n",
       "</style>\n",
       "<table border=\"1\" class=\"dataframe\">\n",
       "  <thead>\n",
       "    <tr style=\"text-align: right;\">\n",
       "      <th></th>\n",
       "      <th>categorical</th>\n",
       "      <th>categoryValues</th>\n",
       "      <th>patientCount</th>\n",
       "      <th>observationCount</th>\n",
       "      <th>HpdsDataType</th>\n",
       "      <th>min</th>\n",
       "      <th>max</th>\n",
       "    </tr>\n",
       "    <tr>\n",
       "      <th>KEY</th>\n",
       "      <th></th>\n",
       "      <th></th>\n",
       "      <th></th>\n",
       "      <th></th>\n",
       "      <th></th>\n",
       "      <th></th>\n",
       "      <th></th>\n",
       "    </tr>\n",
       "  </thead>\n",
       "  <tbody>\n",
       "    <tr>\n",
       "      <th>\\ACT Diagnosis ICD-10\\S00-T88 Injury, poisoning and certain other consequences of external causes (S00-T88)\\T36-T50 Poisoning by, adverse effects of and underdosing of drugs, medicaments and biological substances (T36-T50)\\T46 Poisoning by, adverse effect of and underdosing of agents primarily affecting the cardiovascular system\\T46.1 Poisoning by, adverse effect of and underdosing of calcium-channel blockers\\T46.1X Poisoning by, adverse effect of and underdosing of calcium-channel blockers\\T46.1X4 Poisoning by calcium-channel blockers, undetermined\\</th>\n",
       "      <td>True</td>\n",
       "      <td>[T46.1X4D Poisoning by calcium-channel blocker...</td>\n",
       "      <td>1</td>\n",
       "      <td>2</td>\n",
       "      <td>phenotypes</td>\n",
       "      <td>NaN</td>\n",
       "      <td>NaN</td>\n",
       "    </tr>\n",
       "    <tr>\n",
       "      <th>\\ACT Medications\\C [Preparations]\\Calcium Carbonate / Folic Acid / Magnesium Carbonate\\</th>\n",
       "      <td>False</td>\n",
       "      <td>None</td>\n",
       "      <td>5809</td>\n",
       "      <td>113018</td>\n",
       "      <td>phenotypes</td>\n",
       "      <td>0.250</td>\n",
       "      <td>2500.0</td>\n",
       "    </tr>\n",
       "    <tr>\n",
       "      <th>\\ACT Medications\\C [Preparations]\\Calcium Ascorbate / Calcium Threonate / Ferrous Asparto Glycinate / Ferrous Fumarate / Folic Acid / Succinic Acid / Vitamin B 12\\</th>\n",
       "      <td>False</td>\n",
       "      <td>None</td>\n",
       "      <td>4</td>\n",
       "      <td>43</td>\n",
       "      <td>phenotypes</td>\n",
       "      <td>1.000</td>\n",
       "      <td>1.0</td>\n",
       "    </tr>\n",
       "    <tr>\n",
       "      <th>\\ACT Medications\\C [Preparations]\\Calcium Ascorbate / Calcium Threonate / Ferrous Asparto Glycinate / Liver Stomach Concentrate / Succinic Acid / Vitamin B 12\\</th>\n",
       "      <td>False</td>\n",
       "      <td>None</td>\n",
       "      <td>4</td>\n",
       "      <td>43</td>\n",
       "      <td>phenotypes</td>\n",
       "      <td>1.000</td>\n",
       "      <td>1.0</td>\n",
       "    </tr>\n",
       "    <tr>\n",
       "      <th>\\ACT Medications\\C [Preparations]\\Calcium Carbonate\\</th>\n",
       "      <td>False</td>\n",
       "      <td>None</td>\n",
       "      <td>6098</td>\n",
       "      <td>202833</td>\n",
       "      <td>phenotypes</td>\n",
       "      <td>0.625</td>\n",
       "      <td>7500.0</td>\n",
       "    </tr>\n",
       "  </tbody>\n",
       "</table>\n",
       "</div>"
      ],
      "text/plain": [
       "                                                    categorical  \\\n",
       "KEY                                                               \n",
       "\\ACT Diagnosis ICD-10\\S00-T88 Injury, poisoning...         True   \n",
       "\\ACT Medications\\C [Preparations]\\Calcium Carbo...        False   \n",
       "\\ACT Medications\\C [Preparations]\\Calcium Ascor...        False   \n",
       "\\ACT Medications\\C [Preparations]\\Calcium Ascor...        False   \n",
       "\\ACT Medications\\C [Preparations]\\Calcium Carbo...        False   \n",
       "\n",
       "                                                                                       categoryValues  \\\n",
       "KEY                                                                                                     \n",
       "\\ACT Diagnosis ICD-10\\S00-T88 Injury, poisoning...  [T46.1X4D Poisoning by calcium-channel blocker...   \n",
       "\\ACT Medications\\C [Preparations]\\Calcium Carbo...                                               None   \n",
       "\\ACT Medications\\C [Preparations]\\Calcium Ascor...                                               None   \n",
       "\\ACT Medications\\C [Preparations]\\Calcium Ascor...                                               None   \n",
       "\\ACT Medications\\C [Preparations]\\Calcium Carbo...                                               None   \n",
       "\n",
       "                                                    patientCount  \\\n",
       "KEY                                                                \n",
       "\\ACT Diagnosis ICD-10\\S00-T88 Injury, poisoning...             1   \n",
       "\\ACT Medications\\C [Preparations]\\Calcium Carbo...          5809   \n",
       "\\ACT Medications\\C [Preparations]\\Calcium Ascor...             4   \n",
       "\\ACT Medications\\C [Preparations]\\Calcium Ascor...             4   \n",
       "\\ACT Medications\\C [Preparations]\\Calcium Carbo...          6098   \n",
       "\n",
       "                                                    observationCount  \\\n",
       "KEY                                                                    \n",
       "\\ACT Diagnosis ICD-10\\S00-T88 Injury, poisoning...                 2   \n",
       "\\ACT Medications\\C [Preparations]\\Calcium Carbo...            113018   \n",
       "\\ACT Medications\\C [Preparations]\\Calcium Ascor...                43   \n",
       "\\ACT Medications\\C [Preparations]\\Calcium Ascor...                43   \n",
       "\\ACT Medications\\C [Preparations]\\Calcium Carbo...            202833   \n",
       "\n",
       "                                                   HpdsDataType    min     max  \n",
       "KEY                                                                             \n",
       "\\ACT Diagnosis ICD-10\\S00-T88 Injury, poisoning...   phenotypes    NaN     NaN  \n",
       "\\ACT Medications\\C [Preparations]\\Calcium Carbo...   phenotypes  0.250  2500.0  \n",
       "\\ACT Medications\\C [Preparations]\\Calcium Ascor...   phenotypes  1.000     1.0  \n",
       "\\ACT Medications\\C [Preparations]\\Calcium Ascor...   phenotypes  1.000     1.0  \n",
       "\\ACT Medications\\C [Preparations]\\Calcium Carbo...   phenotypes  0.625  7500.0  "
      ]
     },
     "execution_count": 15,
     "metadata": {},
     "output_type": "execute_result"
    }
   ],
   "source": [
    "dictionary_search.DataFrame().head()"
   ]
  },
  {
   "cell_type": "markdown",
   "metadata": {},
   "source": [
    "The dictionary currently returned by the API provides information about the variables, such as:\n",
    "- observationCount: number of entries with non-null value\n",
    "- categorical: type of the variables, True if strings, False if numerical\n",
    "- min/max: only provided for numerical variables\n",
    "- HpdsDataType: 'phenotypes' or 'genotypes'. Currently, the API only expsoses'phenotypes' variables"
   ]
  },
  {
   "cell_type": "markdown",
   "metadata": {},
   "source": [
    "## Querying and retrieving data: Autism and *CPT1A*\n",
    "\n",
    "We can retrieve data from the resource using the `query` object. "
   ]
  },
  {
   "cell_type": "code",
   "execution_count": 16,
   "metadata": {},
   "outputs": [],
   "source": [
    "# Initialize the query object \n",
    "new_query = resource.query()"
   ]
  },
  {
   "cell_type": "markdown",
   "metadata": {},
   "source": [
    "The query object has several methods that enable to build a query.\n",
    "\n",
    "| Method | Arguments / Input | Output|\n",
    "|--------|-------------------|-------|\n",
    "| query.select.add() | variable names (string) or list of strings | all variables included in the list (no record subsetting)|\n",
    "| query.require.add() | variable names (string) or list of strings | all variables; only records that do not contain null values for input variables |\n",
    "| query.anyof.add() | variable names (string) or list of strings | all variables; only records that contain at least one non-null value for input variables |\n",
    "| query.filter.add() | variable name and additional filtering values | input variable; only records that match filter criteria |\n",
    "\n",
    "All 4 methods can be combined when building a query. The record eventually returned by the query have to meet all the different specified filters."
   ]
  },
  {
   "cell_type": "markdown",
   "metadata": {},
   "source": [
    "### Example Query\n",
    "Next we will demonstrate how to build a query to return the number of patients with:\n",
    "- F84.0 autism disorder\n",
    "\n",
    "        AND \n",
    "- genomic variant: *CPT1A* "
   ]
  },
  {
   "cell_type": "markdown",
   "metadata": {},
   "source": [
    "#### Add phenotypic variable: Autistic disorder"
   ]
  },
  {
   "cell_type": "code",
   "execution_count": 17,
   "metadata": {},
   "outputs": [
    {
     "data": {
      "text/html": [
       "<div>\n",
       "<style scoped>\n",
       "    .dataframe tbody tr th:only-of-type {\n",
       "        vertical-align: middle;\n",
       "    }\n",
       "\n",
       "    .dataframe tbody tr th {\n",
       "        vertical-align: top;\n",
       "    }\n",
       "\n",
       "    .dataframe thead th {\n",
       "        text-align: right;\n",
       "    }\n",
       "</style>\n",
       "<table border=\"1\" class=\"dataframe\">\n",
       "  <thead>\n",
       "    <tr style=\"text-align: right;\">\n",
       "      <th></th>\n",
       "      <th>categorical</th>\n",
       "      <th>categoryValues</th>\n",
       "      <th>patientCount</th>\n",
       "      <th>observationCount</th>\n",
       "      <th>HpdsDataType</th>\n",
       "      <th>description</th>\n",
       "    </tr>\n",
       "    <tr>\n",
       "      <th>KEY</th>\n",
       "      <th></th>\n",
       "      <th></th>\n",
       "      <th></th>\n",
       "      <th></th>\n",
       "      <th></th>\n",
       "      <th></th>\n",
       "    </tr>\n",
       "  </thead>\n",
       "  <tbody>\n",
       "    <tr>\n",
       "      <th>\\ACT Diagnosis ICD-10\\F01-F99 Mental, Behavioral and Neurodevelopmental disorders (F01-F99)\\F80-F89 Pervasive and specific developmental disorders (F80-F89)\\F84 Pervasive developmental disorders\\</th>\n",
       "      <td>True</td>\n",
       "      <td>[F84.0 Autistic disorder, F84.2 Retts syndrome...</td>\n",
       "      <td>21128.0</td>\n",
       "      <td>261772.0</td>\n",
       "      <td>phenotypes</td>\n",
       "      <td>None</td>\n",
       "    </tr>\n",
       "    <tr>\n",
       "      <th>Gene_with_variant</th>\n",
       "      <td>True</td>\n",
       "      <td>[C3orf84, ZNF84-DT, ZNF84, ZNF846, ZNF845, ZNF...</td>\n",
       "      <td>NaN</td>\n",
       "      <td>NaN</td>\n",
       "      <td>info</td>\n",
       "      <td>Description=\"The official symbol for a gene af...</td>\n",
       "    </tr>\n",
       "  </tbody>\n",
       "</table>\n",
       "</div>"
      ],
      "text/plain": [
       "                                                    categorical  \\\n",
       "KEY                                                               \n",
       "\\ACT Diagnosis ICD-10\\F01-F99 Mental, Behaviora...         True   \n",
       "Gene_with_variant                                          True   \n",
       "\n",
       "                                                                                       categoryValues  \\\n",
       "KEY                                                                                                     \n",
       "\\ACT Diagnosis ICD-10\\F01-F99 Mental, Behaviora...  [F84.0 Autistic disorder, F84.2 Retts syndrome...   \n",
       "Gene_with_variant                                   [C3orf84, ZNF84-DT, ZNF84, ZNF846, ZNF845, ZNF...   \n",
       "\n",
       "                                                    patientCount  \\\n",
       "KEY                                                                \n",
       "\\ACT Diagnosis ICD-10\\F01-F99 Mental, Behaviora...       21128.0   \n",
       "Gene_with_variant                                            NaN   \n",
       "\n",
       "                                                    observationCount  \\\n",
       "KEY                                                                    \n",
       "\\ACT Diagnosis ICD-10\\F01-F99 Mental, Behaviora...          261772.0   \n",
       "Gene_with_variant                                                NaN   \n",
       "\n",
       "                                                   HpdsDataType  \\\n",
       "KEY                                                               \n",
       "\\ACT Diagnosis ICD-10\\F01-F99 Mental, Behaviora...   phenotypes   \n",
       "Gene_with_variant                                          info   \n",
       "\n",
       "                                                                                          description  \n",
       "KEY                                                                                                    \n",
       "\\ACT Diagnosis ICD-10\\F01-F99 Mental, Behaviora...                                               None  \n",
       "Gene_with_variant                                   Description=\"The official symbol for a gene af...  "
      ]
     },
     "execution_count": 17,
     "metadata": {},
     "output_type": "execute_result"
    }
   ],
   "source": [
    "# find value F84.0 Autistic Disorder by searching for ICD10 code F84\n",
    "search_autism = dictionary.find(\"F84\").DataFrame() \n",
    "\n",
    "#display the  autism dataframe \n",
    "search_autism"
   ]
  },
  {
   "cell_type": "code",
   "execution_count": 18,
   "metadata": {},
   "outputs": [
    {
     "name": "stdout",
     "output_type": "stream",
     "text": [
      "\\ACT Diagnosis ICD-10\\F01-F99 Mental, Behavioral and Neurodevelopmental disorders (F01-F99)\\F80-F89 Pervasive and specific developmental disorders (F80-F89)\\F84 Pervasive developmental disorders\\\n"
     ]
    }
   ],
   "source": [
    "# select the variable (key) of interest\n",
    "autism_key = search_autism.index.values[0]\n",
    "\n",
    "# check to see if the variable matches what you expect to see \n",
    "print(autism_key)\n",
    "\n",
    "#define the value of interest\n",
    "autism_value = 'F84.0 Autistic disorder'"
   ]
  },
  {
   "cell_type": "code",
   "execution_count": 19,
   "metadata": {},
   "outputs": [],
   "source": [
    "# Initialize query object \n",
    "new_query = resource.query()"
   ]
  },
  {
   "cell_type": "code",
   "execution_count": 20,
   "metadata": {},
   "outputs": [
    {
     "name": "stdout",
     "output_type": "stream",
     "text": [
      "Number of patients who have been diagnosed with autistic disorder: \u001b[1m 19797\n"
     ]
    }
   ],
   "source": [
    "# add filter F84.0 Autistic disorder to your query \n",
    "new_query.filter().add(autism_key,autism_value)\n",
    "\n",
    "# return number of patients who match the filtered criteria \n",
    "print('Number of patients who have been diagnosed with autistic disorder:', '\\033[1m', new_query.getCount())"
   ]
  },
  {
   "cell_type": "markdown",
   "metadata": {},
   "source": [
    "#### Add genomic filter: CPT1A variant"
   ]
  },
  {
   "cell_type": "code",
   "execution_count": 21,
   "metadata": {},
   "outputs": [
    {
     "name": "stdout",
     "output_type": "stream",
     "text": [
      "Number of patients with autistic disorder and CPT1A variant: \u001b[1m 263\n"
     ]
    }
   ],
   "source": [
    "# variable = Gene_with_variant, values = all variants for CPT1 gene \n",
    "new_query.filter().add(\"Gene_with_variant\", \"CPT1A\") \n",
    "\n",
    "# return number of patients who match all specified filters\n",
    "print('Number of patients with autistic disorder and CPT1A variant:', '\\033[1m', new_query.getCount())"
   ]
  },
  {
   "cell_type": "code",
   "execution_count": null,
   "metadata": {},
   "outputs": [],
   "source": []
  }
 ],
 "metadata": {
  "kernelspec": {
   "display_name": "Python 3 (ipykernel)",
   "language": "python",
   "name": "python3"
  },
  "language_info": {
   "codemirror_mode": {
    "name": "ipython",
    "version": 3
   },
   "file_extension": ".py",
   "mimetype": "text/x-python",
   "name": "python",
   "nbconvert_exporter": "python",
   "pygments_lexer": "ipython3",
   "version": "3.9.13"
  }
 },
 "nbformat": 4,
 "nbformat_minor": 4
}
