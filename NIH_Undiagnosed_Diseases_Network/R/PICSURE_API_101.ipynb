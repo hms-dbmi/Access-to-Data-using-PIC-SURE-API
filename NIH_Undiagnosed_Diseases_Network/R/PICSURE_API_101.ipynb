{
 "cells": [
  {
   "cell_type": "markdown",
   "metadata": {},
   "source": [
    "# PIC-SURE API tutorial using UDN database\n",
    "This is a tutorial notebook, aimed to be quickly up and running with the R PIC-SURE API. It covers the main functionalities of the API.\n",
    "\n",
    "## R PIC-SURE API\n",
    "### What is PIC-SURE?\n",
    "Databases exposed through PIC-SURE API encompass a wide heterogeneity of architectures and data organizations underneath. PIC-SURE hides this complexity and expose the different databases in the same format, allowing researchers to focus on the analysis and medical insights, thus easing the process of reproducible sciences.\n",
    "\n",
    "### More about PIC-SURE\n",
    "PIC-SURE stands for Patient-centered Information Commons: Standardized Unification of Research Elements. The API is available in two different programming languages, Python and R, allowing investigators to query databases in the same way using any of those languages.\n",
    "\n",
    "PIC-SURE is a large project from which the R/Python PIC-SURE API is only a brick. Among other things, PIC-SURE also offers a graphical user interface, allowing research scientist to get quick knowledge about variables and data available for a specific data source.\n",
    "\n",
    "The API is actively developed by the Avillach-Lab at Harvard Medical School.\n",
    "\n",
    "GitHub repo:\n",
    "\n",
    "* https://github.com/hms-dbmi/pic-sure-python-adapter-hpds\n",
    "* https://github.com/hms-dbmi/pic-sure-python-client\n",
    "\n",
    "---\n",
    "\n",
    "## Getting your own user-specific security token\n",
    "**Before running this notebook, please be sure to review the get_your_token.ipynb notebook. It contains explanation about how to get a security token, mandatory to access the databases.**\n",
    "\n",
    "### Environment set-up\n",
    "\n",
    "#### Pre-requisites: \n",
    "* R >= 3.6\n",
    "\n",
    "#### Packages installation and imports\n",
    "The installation of some packages may take some time, please be patient.\n",
    "\n"
   ]
  },
  {
   "cell_type": "markdown",
   "metadata": {},
   "source": [
    "##### Install R packages for the analysis example"
   ]
  },
  {
   "cell_type": "code",
   "execution_count": null,
   "metadata": {
    "scrolled": true
   },
   "outputs": [],
   "source": [
    "# R packages for analysis\n",
    "list_packages <- c(\"stringr\",\n",
    "                   \"ggplot2\",\n",
    "                   \"urltools\"\n",
    "                   )\n",
    "\n",
    "for (package in list_packages){\n",
    "     if(! package %in% installed.packages()){\n",
    "         install.packages(package, repos = \"http://cran.us.r-project.org\", dependencies = TRUE)\n",
    "     }\n",
    "     library(package, character.only = TRUE)\n",
    "}"
   ]
  },
  {
   "cell_type": "markdown",
   "metadata": {},
   "source": [
    "##### Install latest R PIC-SURE API libraries from GitHub\n",
    "To install the PIC-SURE libraries from GitHub, we need to install first the `devtools` package."
   ]
  },
  {
   "cell_type": "code",
   "execution_count": null,
   "metadata": {},
   "outputs": [],
   "source": [
    "system(command = 'conda install -c conda-forge r-devtools --yes')"
   ]
  },
  {
   "cell_type": "code",
   "execution_count": null,
   "metadata": {},
   "outputs": [],
   "source": [
    "library(\"devtools\")"
   ]
  },
  {
   "cell_type": "code",
   "execution_count": null,
   "metadata": {
    "scrolled": true
   },
   "outputs": [],
   "source": [
    "# pic-sure api lib\n",
    "devtools::install_github(\"hms-dbmi/pic-sure-r-adapter-hpds\", force=T)\n",
    "devtools::install_github(\"hms-dbmi/pic-sure-r-client\", force=T)"
   ]
  },
  {
   "cell_type": "markdown",
   "metadata": {},
   "source": [
    "##### Load user-defined functions"
   ]
  },
  {
   "cell_type": "code",
   "execution_count": null,
   "metadata": {},
   "outputs": [],
   "source": [
    "# R_lib for pic-sure\n",
    "source(\"R_lib/utils.R\")"
   ]
  },
  {
   "cell_type": "markdown",
   "metadata": {},
   "source": [
    "## Connecting to a PIC-SURE network\n",
    "\n",
    "### 1. Connect to the UDN data network\n",
    "Several information are needed to get access to data through the PIC-SURE API: a network URL, a resource id, and a user security token which is specific to a given URL + resource."
   ]
  },
  {
   "cell_type": "code",
   "execution_count": null,
   "metadata": {},
   "outputs": [],
   "source": [
    "# Connection to the PIC-SURE API w/ key\n",
    "# network information\n",
    "PICSURE_network_URL <- \"https://udn.hms.harvard.edu/picsure\"\n",
    "resource_id <- \"c23b6814-7e5b-48d2-80d9-65511d7d2051\""
   ]
  },
  {
   "cell_type": "code",
   "execution_count": null,
   "metadata": {},
   "outputs": [],
   "source": [
    "# token is the individual user key given to connect to the UDN resource\n",
    "token_file <- \"token.txt\"\n",
    "my_token <- scan(token_file, what = \"character\")"
   ]
  },
  {
   "cell_type": "code",
   "execution_count": null,
   "metadata": {},
   "outputs": [],
   "source": [
    "# get connection object\n",
    "connection <- picsure::connect(url = PICSURE_network_URL,\n",
    "                                 token = my_token)"
   ]
  },
  {
   "cell_type": "code",
   "execution_count": null,
   "metadata": {},
   "outputs": [],
   "source": [
    "# get resource object\n",
    "resource <- hpds::get.resource(connection,\n",
    "                               resourceUUID = resource_id)"
   ]
  },
  {
   "cell_type": "markdown",
   "metadata": {},
   "source": [
    "Two objects are created here: a connection and a resource object, using respectively the `picsure` and `hpds` libraries.\n",
    "\n",
    "As we will only be using one single resource, **the resource object is actually the only one we will need to proceed with data analysis hereafter** (FYI, the connection object is useful to get access to different databases stored in different resources).\n",
    "\n",
    "It is connected to the specific data source ID we specified, and enables to query and retrieve data from this source.\n",
    "\n",
    "#### Getting help with the R PIC-SURE API\n",
    "\n",
    "The `?` operator prints out helper message for any PIC-SURE library function."
   ]
  },
  {
   "cell_type": "code",
   "execution_count": null,
   "metadata": {},
   "outputs": [],
   "source": [
    "# get function documentation\n",
    "?hpds::get.resource()"
   ]
  },
  {
   "cell_type": "markdown",
   "metadata": {},
   "source": [
    "### 2. Explore the data: data structures description\n",
    "\n",
    "There are two methods to explore the data from which the user get two different data structures: a **dictionary object** to explore variables and a **query object** to explore the patient records in UDN. \n",
    "\n",
    "**Methods**:\n",
    "\n",
    "    * Search variables: find.in.dictionary() method\n",
    "    * Retrieve data: query() methods\n",
    "\n",
    "**Data structures**:\n",
    "\n",
    "    * Dictionary object structure\n",
    "    * Query object structure\n",
    "    \n",
    "\n",
    "#### Explore variables using the _dictionary_\n",
    "\n",
    "Once a connection to the desired resource has been established, we first need to get a quick idea of which variables are available in the database. To this end, we will use the `dictionary` method of the `resource` object.\n",
    "\n",
    "A dictionary object offers the possibility to retrieve information about either matching variables according to a specific term or all available variables, using the `find.in.dictionary()` method. For instance, looking for variables containing the term 'aplasia' is done this way:"
   ]
  },
  {
   "cell_type": "code",
   "execution_count": null,
   "metadata": {},
   "outputs": [],
   "source": [
    "# create a dictionary object and search for a specific term, in this example for \"aplasia\"\n",
    "lookup <- hpds::find.in.dictionary(resource, \"aplasia\")"
   ]
  },
  {
   "cell_type": "markdown",
   "metadata": {},
   "source": [
    "We have created the dictionary object with only variables matched by the search term. To retrieve the search result from dictionary objects we have 4 different methods: `extract.count()`, `extract.keys()`, and `extract.entries()`."
   ]
  },
  {
   "cell_type": "code",
   "execution_count": null,
   "metadata": {
    "scrolled": true
   },
   "outputs": [],
   "source": [
    "# description of the dictionary search content\n",
    "print(list(\"Count\"   = hpds::extract.count(lookup), \n",
    "           \"Keys\"    = hpds::extract.keys(lookup)[0:2],\n",
    "           \"Entries\" = hpds::extract.entries(lookup)[0:2]))"
   ]
  },
  {
   "cell_type": "markdown",
   "metadata": {},
   "source": [
    "**hpds::extract.entries()** enables to get the result of the dictionary search in a data.frame format."
   ]
  },
  {
   "cell_type": "code",
   "execution_count": null,
   "metadata": {},
   "outputs": [],
   "source": [
    "# show table of records from the dictionary object\n",
    "hpds::extract.entries(lookup) %>% tail(, n =2)"
   ]
  },
  {
   "cell_type": "markdown",
   "metadata": {},
   "source": [
    "We can retrieve information about **ALL** variables. We do it without specifying a term in the dictionary search method:"
   ]
  },
  {
   "cell_type": "code",
   "execution_count": null,
   "metadata": {},
   "outputs": [],
   "source": [
    "# we search the whole set of variables\n",
    "plain_variablesDict <- hpds::find.in.dictionary(resource, \"\") %>% \n",
    "hpds::extract.entries()"
   ]
  },
  {
   "cell_type": "code",
   "execution_count": null,
   "metadata": {},
   "outputs": [],
   "source": [
    "# description of the whole dictionary of variables\n",
    "print(dim(plain_variablesDict))\n",
    "head(plain_variablesDict, n = 2)"
   ]
  },
  {
   "cell_type": "markdown",
   "metadata": {},
   "source": [
    "The UDN network resource contains 13414 variables described by 11 data fields:\n",
    "* name\n",
    "* HpdsDataType\n",
    "* description\n",
    "* categorical\n",
    "* categoryValues\n",
    "* values\n",
    "* continuous\n",
    "* min\n",
    "* max\n",
    "* observationCount\n",
    "* patientCount\n",
    "\n",
    "The dictionary provide various information about the variables, such as:\n",
    "\n",
    "* observationCount: number of entries with non-null value\n",
    "* categorical: type of the variables, True if categorical, False if continuous/numerical\n",
    "* min/max: only provided for non-categorical variables\n",
    "* HpdsDataType: 'phenotypes' or 'genotypes'. Currently, the API only expsoses'phenotypes' variables\n",
    "\n",
    "Hence, it enables to:\n",
    "\n",
    "* Use the various variables information as criteria for variable selection.\n",
    "* Use the row names of the DataFrame to get the actual variables names, to be used in the query, as shown below.\n",
    " \n",
    "Variable names (`name` **column** in the dataframe), as currently implemented in the API, aren't straightforward to use because:\n",
    "\n",
    "1. Very long\n",
    "2. Presence of backslashes that requires modification right after copy-pasting.\n",
    "\n",
    "However, using the dictionary to select variables can help to deal with this. \n",
    "\n",
    "##### Parsing variable names\n",
    "We can use an utils function, `get_multiIndex()`, defined in R_lib/utils.R, to add a little more information and ease working with variables names.\n",
    "\n",
    "Although not an official feature of the API, such functionality illustrates how to quickly scan and select groups of related variables.\n",
    "\n",
    "Printing part of the \"parsed names\" Dictionary allows to quickly see the tree-like organisation of the variables. Moreover, original and simplified variable names are now stored respectively in the \"name\" and \"simplified_name\" columns (simplified variable names is simply the last component of the variable name, which usually makes the most sense to know what each variable is about)."
   ]
  },
  {
   "cell_type": "code",
   "execution_count": null,
   "metadata": {},
   "outputs": [],
   "source": [
    "# Display the variables tree hierarchy from the variables name\n",
    "variablesDict <- get_multiIndex_variablesDict(plain_variablesDict)\n",
    "head(variablesDict, n = 2)"
   ]
  },
  {
   "cell_type": "markdown",
   "metadata": {},
   "source": [
    "Below is a simple example to illustrate the ease of use of a multiIndex dictionary. Let's say we are interested in filtering variables related to \"aplasias\" in the \"nervous system\"."
   ]
  },
  {
   "cell_type": "code",
   "execution_count": null,
   "metadata": {},
   "outputs": [],
   "source": [
    "mask_system <- variablesDict[,3] == \"Abnormality of the nervous system\"\n",
    "mask_abnormality <- grepl(\"Aplasia\", variablesDict[[\"name\"]])\n",
    "filtered_variables <- variablesDict[mask_system & mask_abnormality,]\n",
    "print(dim(filtered_variables))\n",
    "head(filtered_variables, n = 2)"
   ]
  },
  {
   "cell_type": "markdown",
   "metadata": {},
   "source": [
    "Although pretty simple, it can be easily combined with other filters to quickly select necessary variables.\n",
    "\n",
    "#### Explore patient records using _query_\n",
    "\n",
    "Beside from the dictionary, the second cornerstone of the API are the query methods (`hpds::query.select`, `hpds::query.require`, `hpds::query.anyof`, `hpds::query.filter`). They are the entering point to **query and retrieve data from the resource**.\n",
    "\n",
    "First, we need to create a query object."
   ]
  },
  {
   "cell_type": "code",
   "execution_count": null,
   "metadata": {},
   "outputs": [],
   "source": [
    "# create a query object for the resource\n",
    "my_query <- hpds::new.query(resource = resource)"
   ]
  },
  {
   "cell_type": "markdown",
   "metadata": {},
   "source": [
    "The query object created will be then passed to the different query methods to build the query:  <font color='orange'>hpds::query.select.add(), hpds::query.require.add(), hpds::query.anyof.add(), and hpds::query.filter.add()</font>. Each of those methods accept a query object, a list of variable names, and eventual additional parameters.\n",
    "\n",
    "* The **query.select.add()** method accept variable names as string or list of strings as argument, and will allow the query to return all variables included in the list, without any record (ie subjects/rows) subsetting.\n",
    "* The **query.require.add()** method accept variable names as string or list of strings as argument, and will allow the query to return all the variables passed, and only records that do not contain any null values for those variables.\n",
    "* The **query.anyof.add()** method accept variable names as string or list of strings as argument, and will allow the query to return all variables included in the list, and only records that do contain at least one non-null value for those variables.\n",
    "* The **query.filter.add()** method accept variable names a variable name as strings as argument, plus additional values to filter on that given variable. The query will return this variable and only the records that do match this filter.\n",
    "\n",
    "All those 4 methods can be combined when building a query. The record eventually returned by the query have to meet all the different specified filters.\n",
    "\n",
    "##### Building the query\n",
    "Let's say we want to check some demographics about the data in UDN. We will filter to variables that have observation counts > 50% patient counts."
   ]
  },
  {
   "cell_type": "code",
   "execution_count": null,
   "metadata": {},
   "outputs": [],
   "source": [
    "# select demographic variable names\n",
    "demographicsDict <- hpds::find.in.dictionary(resource, \"demographics\") %>% \n",
    "    hpds::extract.entries()\n",
    "mask_obs <- demographicsDict$observationCount > demographicsDict$patientCount * .50\n",
    "selected_varnames <- as.list(demographicsDict[mask_obs, \"name\"])\n",
    "print(length(selected_varnames))\n",
    "selected_varnames"
   ]
  },
  {
   "cell_type": "code",
   "execution_count": null,
   "metadata": {},
   "outputs": [],
   "source": [
    "# build and query for demographics patient data\n",
    "hpds::query.select.add(query=my_query, keys=selected_varnames)"
   ]
  },
  {
   "cell_type": "markdown",
   "metadata": {},
   "source": [
    "##### Retrieving the data\n",
    "Once our query object is finally built, we use the `query.run()` method to retrieve the data corresponding to our query."
   ]
  },
  {
   "cell_type": "code",
   "execution_count": null,
   "metadata": {
    "scrolled": true
   },
   "outputs": [],
   "source": [
    "# retrieve the query result as a dataframe\n",
    "demographics_data <- hpds::query.run(my_query, result.type=\"dataframe\")"
   ]
  },
  {
   "cell_type": "code",
   "execution_count": null,
   "metadata": {},
   "outputs": [],
   "source": [
    "print(dim(demographics_data))"
   ]
  },
  {
   "cell_type": "code",
   "execution_count": null,
   "metadata": {},
   "outputs": [],
   "source": [
    "head(demographics_data)"
   ]
  },
  {
   "cell_type": "markdown",
   "metadata": {},
   "source": [
    "We have retieved patient records in UDN that meet the criteria posed in the query. \n",
    "\n",
    "**NOTE**: The <font color='orange'>Patient ID</font> is a `COLUMN` of the dataframe derived.\n",
    "\n",
    "From this point, we can proceed with the data management and analysis using any other R functions or libraries.\n",
    "\n",
    "##### Visualize the demographics"
   ]
  },
  {
   "cell_type": "code",
   "execution_count": null,
   "metadata": {},
   "outputs": [],
   "source": [
    "# rename column names\n",
    "colnames(demographics_data) <- c(\"Patient_ID\",\n",
    "                                     \"age_udn\",\n",
    "                                     \"age_symptom\",\n",
    "                                     \"age_current\",\n",
    "                                     \"ethnicity\",\n",
    "                                     \"gender\",\n",
    "                                     \"race\")"
   ]
  },
  {
   "cell_type": "code",
   "execution_count": null,
   "metadata": {},
   "outputs": [],
   "source": [
    "# visualize \n",
    "races <- table(demographics_data$race)\n",
    "pie(races, main=\"Race distribution in UDN\", radius = .5)"
   ]
  }
 ],
 "metadata": {
  "kernelspec": {
   "display_name": "R",
   "language": "R",
   "name": "ir"
  },
  "language_info": {
   "codemirror_mode": "r",
   "file_extension": ".r",
   "mimetype": "text/x-r-source",
   "name": "R",
   "pygments_lexer": "r",
   "version": "3.6.1"
  }
 },
 "nbformat": 4,
 "nbformat_minor": 4
}