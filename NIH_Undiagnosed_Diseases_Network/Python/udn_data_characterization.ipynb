{
 "cells": [
  {
   "cell_type": "markdown",
   "metadata": {},
   "source": [
    "# UDN Data Characterization\n",
    "\n",
    "This notebook is intended to characterize the content of the clinical data in UDN to have a first glimpse of what is in the network and how is discribed.\n",
    "\n",
    "## 1. DATA: UDN Network Resource \n",
    "\n",
    "The Undiagnosed Diseases Network (UDN), funded by the NIH Common Fund, is a research study to improve diagnosis and care of patients with undiagnosed conditions. The UDN established a nationwide network of clinicians and researchers who use both basic and clinical research to uncover the underlying disease mechanisms associated with these conditions. In its first 20 months, the UDN accepted 601 participants undiagnosed by traditional medical practices. Of those who completed their UDN evaluation during this time, 35% were given a diagnosis. Many of these diagnoses were rare genetic diseases including 31 previously unknown syndromes. \n",
    "\n",
    "The specific goals of UDN are to: (1) improve the level of diagnosis and care for patients with undiagnosed diseases through the development of common protocols designed by a large community of investigators; (2) facilitate research into the etiology of undiagnosed diseases, by collecting and sharing standardized, high-quality clinical and laboratory data including genotyping, phenotyping, and documentation of environmental exposures; and (3) create an integrated and collaborative community across multiple clinical sites and among laboratory and clinical investigators prepared to investigate the pathophysiology of these new and rare diseases.\n",
    "\n",
    "For more information, please refer to https://commonfund.nih.gov/diseases\n",
    "\n",
    "### PIC-SURE API\n",
    "\n",
    "Databases exposed through PIC-SURE API encompass a wide heterogeneity of architectures and data models underneath. PIC-SURE hides this complexity, allowing researchers to access data in a normalized way and focus on the analysis and medical insights. The API is available in Python and R programming languages. \n",
    "\n",
    "The API is actively developed by the Avillach-Lab at Harvard Medical School. For more information, please refer to the GitHub repo:\n",
    "* https://github.com/hms-dbmi/pic-sure-python-adapter-hpds\n",
    "* https://github.com/hms-dbmi/pic-sure-python-client\n",
    "\n",
    "---\n",
    "\n",
    "### Environment setup\n",
    "\n",
    "* Pre-requisites: Python >= 3.7"
   ]
  },
  {
   "cell_type": "code",
   "execution_count": null,
   "metadata": {},
   "outputs": [],
   "source": [
    "!cat requirements.txt"
   ]
  },
  {
   "cell_type": "code",
   "execution_count": null,
   "metadata": {},
   "outputs": [],
   "source": [
    "%load_ext autoreload\n",
    "%autoreload 2\n",
    "\n",
    "# set up environment\n",
    "import sys\n",
    "!{sys.executable} -m pip install -r requirements.txt\n",
    "!{sys.executable} -m pip install --upgrade --force-reinstall git+https://github.com/hms-dbmi/pic-sure-python-adapter-hpds.git\n",
    "!{sys.executable} -m pip install --upgrade --force-reinstall git+https://github.com/hms-dbmi/pic-sure-python-client.git\n"
   ]
  },
  {
   "cell_type": "markdown",
   "metadata": {},
   "source": [
    "### Imports"
   ]
  },
  {
   "cell_type": "code",
   "execution_count": null,
   "metadata": {},
   "outputs": [],
   "source": [
    "# Useful to estimate execution time of the Notebook\n",
    "from datetime import datetime\n",
    "then = datetime.now()\n",
    "\n",
    "# pic-sure api lib\n",
    "import PicSureHpdsLib\n",
    "import PicSureClient\n",
    "\n",
    "# python_lib for pic-sure\n",
    "from python_lib.HPDS_connection_manager import tokenManager\n",
    "from python_lib.utils import get_multiIndex_variablesDict\n",
    "\n",
    "# analysis\n",
    "import pandas as pd\n",
    "from pprint import pprint\n",
    "import matplotlib.pyplot as plt\n",
    "import numpy as np\n",
    "import collections as collec"
   ]
  },
  {
   "cell_type": "markdown",
   "metadata": {},
   "source": [
    "### Functions"
   ]
  },
  {
   "cell_type": "code",
   "execution_count": null,
   "metadata": {},
   "outputs": [],
   "source": [
    "def get_data_df(column_head):\n",
    "    \"\"\"Enables the user to download the data as a pandas dataframe indexed by UDN IDs (through API)\n",
    "    Parameters : column_head : string, with the name of the header that will be selected. For example, if the columns that \n",
    "                                should be selected containt \"this string\", then column_head=\"this string\".\n",
    "    Returns: df : dataframe indexed by UDN IDs of the selected columns\n",
    "    \"\"\"\n",
    "    dictionary=resource.dictionary().find(column_head)\n",
    "    query=resource.query()\n",
    "    query.select().add(dictionary.keys())\n",
    "    query.select().add('\\\\000_UDN ID\\\\')\n",
    "    df=query.getResultsDataFrame()\n",
    "    df.set_index(\"\\\\000_UDN ID\\\\\", inplace=True)\n",
    "    query.select().clear()\n",
    "    return df\n",
    "\n",
    "def get_tree_df(parent_class):\n",
    "    \"\"\"Enables the user to show multi-index variable dictionary by parent class (level 0)\n",
    "    Parameters : parent_class : string, the name of the parent class\n",
    "    Returns : df : dataframe sliced by the parent class input\n",
    "    \"\"\"\n",
    "    dictdf = resource.dictionary().find().DataFrame()\n",
    "    vdict = get_multiIndex_variablesDict(dictdf)\n",
    "    mask = vdict.index.get_level_values(0) == parent_class\n",
    "    df = vdict.loc[mask,:]\n",
    "    return df"
   ]
  },
  {
   "cell_type": "markdown",
   "metadata": {},
   "source": [
    "### Parameters and metadata"
   ]
  },
  {
   "cell_type": "code",
   "execution_count": null,
   "metadata": {},
   "outputs": [],
   "source": [
    "# set up displaying options for tables and plots\n",
    "## tables: \n",
    "pd.set_option(\"max.rows\", 435)\n",
    "\n",
    "## plots:\n",
    "fig_size = plt.rcParams[\"figure.figsize\"]\n",
    "fig_size[0] = 14\n",
    "fig_size[1] = 8\n",
    "plt.rcParams[\"figure.figsize\"] = fig_size\n",
    "\n",
    "font = {'weight' : 'bold',\n",
    "        'size'   : 12}\n",
    "\n",
    "plt.rc('font', **font)"
   ]
  },
  {
   "cell_type": "code",
   "execution_count": null,
   "metadata": {},
   "outputs": [],
   "source": [
    "# print metadata\n",
    "print(\"The PIC-SURE API libraries versions you've been downloading are: \\n- PicSureClient: {0}\\n- PicSureHpdsLib: {1}\".format(PicSureClient.__version__, PicSureHpdsLib.__version__))"
   ]
  },
  {
   "cell_type": "code",
   "execution_count": null,
   "metadata": {},
   "outputs": [],
   "source": [
    "print(\"UDN database time stamp: {}\".format(then))"
   ]
  },
  {
   "cell_type": "markdown",
   "metadata": {},
   "source": [
    "## 2. DATA ACCESS Workflow\n",
    "### 1. Connect to the UDN data resource using the HPDS adapter"
   ]
  },
  {
   "cell_type": "code",
   "execution_count": null,
   "metadata": {},
   "outputs": [],
   "source": [
    "# token is the individual key given to connect to the UDN resource\n",
    "token_file = \"token.txt\"\n",
    "token = tokenManager(token_file).get_token()"
   ]
  },
  {
   "cell_type": "code",
   "execution_count": null,
   "metadata": {},
   "outputs": [],
   "source": [
    "# Connection to the PIC-SURE API w/ key\n",
    "connection = PicSureClient.Client.connect(\"https://udn.hms.harvard.edu/picsure\", token)\n",
    "adapter = PicSureHpdsLib.Adapter(connection)\n",
    "resource = adapter.useResource(\"c23b6814-7e5b-48d2-80d9-65511d7d2051\")"
   ]
  },
  {
   "cell_type": "code",
   "execution_count": null,
   "metadata": {},
   "outputs": [],
   "source": [
    "# get object information\n",
    "resource.help()"
   ]
  },
  {
   "cell_type": "markdown",
   "metadata": {},
   "source": [
    "### 2. Explore data: data structure description\n",
    "\n",
    "**Methods**:\n",
    "\n",
    "    * Search: Dictionary method\n",
    "    * Retrieve: Query method\n",
    "\n",
    "**Data structures**:\n",
    "\n",
    "    * Dictionary object structure\n",
    "    * Query object structure "
   ]
  },
  {
   "cell_type": "code",
   "execution_count": null,
   "metadata": {},
   "outputs": [],
   "source": [
    "# create a dictionary object and search\n",
    "dictionary = resource.dictionary()\n",
    "lookup = dictionary.find()"
   ]
  },
  {
   "cell_type": "code",
   "execution_count": null,
   "metadata": {},
   "outputs": [],
   "source": [
    "# description of the dictionary \n",
    "pprint({\"Count\": lookup.count(), \n",
    "        \"Keys\": lookup.keys()[0:2],\n",
    "        \"Entries\": lookup.entries()[0:2]})"
   ]
  },
  {
   "cell_type": "code",
   "execution_count": null,
   "metadata": {
    "scrolled": true
   },
   "outputs": [],
   "source": [
    "# show table of records from the dictionary object\n",
    "data = lookup.DataFrame()\n",
    "print('data structure: {}'.format(data.shape))\n",
    "data.head()"
   ]
  },
  {
   "cell_type": "markdown",
   "metadata": {},
   "source": [
    "The UDN network resource contains 13414 variables described by 10 data fields:\n",
    "* HpdsDataType\n",
    "* description\n",
    "* categorical\n",
    "* categoryValues\n",
    "* values\n",
    "* continuous\n",
    "* min\n",
    "* max\n",
    "* observationCount\n",
    "* patientCount"
   ]
  },
  {
   "cell_type": "markdown",
   "metadata": {},
   "source": [
    "#### Characterize patient records\n",
    "\n",
    "* patient variables (keys)\n",
    "* patient records (entries data fields)"
   ]
  },
  {
   "cell_type": "code",
   "execution_count": null,
   "metadata": {},
   "outputs": [],
   "source": [
    "# some stats\n",
    "print('## Variables:')\n",
    "print('* number of variables: {}'.format(len(data)))\n",
    "print('* data types: {}'.format(data.HpdsDataType.unique()))\n",
    "print()\n",
    "print('## Distribution of data types:')\n",
    "pprint(data.HpdsDataType.value_counts())\n",
    "print('* list of variables \"info\": {}'.format(list(data.query('HpdsDataType == \"info\"').index.values)))\n",
    "print()\n",
    "print('## Distribution of categorical variables:')\n",
    "pprint(data.groupby('HpdsDataType').categorical.value_counts())\n",
    "print('* list of non categorical variables: {}'.format(list(data.query('categorical == False').index.values)))\n",
    "print()\n",
    "print('## Continuous variables: {}'.format(len(data.query('continuous == True'))))\n",
    "print('* Number of continuous variables: {}'.format(len(data.query('continuous == True'))))\n",
    "print('* Show continuous variable:')\n",
    "data.query('continuous == True')"
   ]
  },
  {
   "cell_type": "code",
   "execution_count": null,
   "metadata": {},
   "outputs": [],
   "source": [
    "# check the tree structure of the variables\n",
    "variablesDict = get_multiIndex_variablesDict(data)\n",
    "print(variablesDict.shape)\n",
    "# head\n",
    "variablesDict.head()"
   ]
  },
  {
   "cell_type": "code",
   "execution_count": null,
   "metadata": {},
   "outputs": [],
   "source": [
    "# tail\n",
    "variablesDict.tail()"
   ]
  },
  {
   "cell_type": "code",
   "execution_count": null,
   "metadata": {
    "scrolled": true
   },
   "outputs": [],
   "source": [
    "# get parent classes\n",
    "pprint(variablesDict.index.get_level_values(0).unique())"
   ]
  },
  {
   "cell_type": "code",
   "execution_count": null,
   "metadata": {},
   "outputs": [],
   "source": [
    "print('Number of parent classes: {}'.format(len(variablesDict.index.get_level_values(0).unique())))"
   ]
  },
  {
   "cell_type": "markdown",
   "metadata": {},
   "source": [
    "#### Variables tree description\n",
    "\n",
    "Three distinct parent classes (level 0):\n",
    "\n",
    "1. 'Info' type\n",
    "2. 000_UDN ID\n",
    "3. 00..14 parent classes (17 classes): \n",
    "\n",
    "    01. 00_Demographics\n",
    "    02. 01_Primary symptom category reported by patient or caregiver\n",
    "    03. 02_Sequence Submitted\n",
    "    04. 02_Type of sequencing\n",
    "    05. 03_UDN Clinical Site\n",
    "    06. 04a_Clinical symptoms and physical findings (in HPO, from PhenoTips)\n",
    "    07. 04b_Clinical symptoms and physical findings (in HPO, from PhenoTips) \n",
    "    08. 04c_Clinical symptoms and physical findings (in HPO, from PhenoTips)\n",
    "    09. 05_Maternal ethnicity (from PhenoTips)\n",
    "    10. 06_Paternal ethnicity (from PhenoTips)\n",
    "    11. 08_Family history (from PhenoTips)\n",
    "    12. 09_Prenatal and perinatal history (from PhenoTips)\n",
    "    13. 10_Medications (from PhenoTips)\n",
    "    14. 11_Candidate genes\n",
    "    15. 12_Candidate variants\n",
    "    16. 13_Status\n",
    "    17. 14_Disorders (in OMIM, from PhenoTips)\n",
    "\n",
    "    \n",
    "**Phenotips** [https://www.phenotips.com]: Workflows for genomic medicine. Capture patient _symptoms_ and _family history_ with intuitive tools that make your data standardized and interoperable."
   ]
  },
  {
   "cell_type": "code",
   "execution_count": null,
   "metadata": {},
   "outputs": [],
   "source": [
    "# Phenotype variables: patientCount and ObservationCount data fields \n",
    "# Number of variables with different patient and observation counts\n",
    "print('Number of variables with different patient and observation counts: {}'.format(len(data.query('HpdsDataType == \"phenotypes\" and observationCount != patientCount'))))"
   ]
  },
  {
   "cell_type": "code",
   "execution_count": null,
   "metadata": {
    "scrolled": true
   },
   "outputs": [],
   "source": [
    "# Distribution of phenotype variables by patientCount: most common patientCount\n",
    "# subset phenotypes variables-patientCounts dataframe\n",
    "print(data.query('HpdsDataType == \"phenotypes\"')[['patientCount']].shape)\n",
    "variable_patientCount_df = (data.query('HpdsDataType == \"phenotypes\"')\n",
    "                            [['patientCount']]\n",
    "                            .sort_values(by='patientCount', ascending=False)\n",
    "                            .copy()\n",
    "                           )\n",
    "variable_patientCount_df.head()"
   ]
  },
  {
   "cell_type": "code",
   "execution_count": null,
   "metadata": {},
   "outputs": [],
   "source": [
    "print('number of phenotype variables: {}'.format(len(variable_patientCount_df)))\n",
    "print('number of patients: {}'.format(variable_patientCount_df.loc['\\\\000_UDN ID\\\\','patientCount']))"
   ]
  },
  {
   "cell_type": "code",
   "execution_count": null,
   "metadata": {},
   "outputs": [],
   "source": [
    "# description of patienCount unique values\n",
    "patient_df = variable_patientCount_df.groupby('patientCount')['patientCount'].unique().reset_index(name='uniquePatientCounts').copy()\n",
    "print('number of patientCount values: {}'.format(len(patient_df)))\n",
    "print('max patientCount value: {}'.format(patient_df.patientCount.max()))\n",
    "print('min patientCount value: {}'.format(patient_df.patientCount.min()))\n",
    "print('median patientCount value: {}'.format(patient_df.patientCount.median()))\n",
    "print('mean patientCount value: {}'.format(patient_df.patientCount.mean()))\n",
    "print('st. deviation patientCount value: {}'.format(patient_df.patientCount.std()))\n",
    "patient_df"
   ]
  },
  {
   "cell_type": "code",
   "execution_count": null,
   "metadata": {},
   "outputs": [],
   "source": [
    "patient_df.describe().round()"
   ]
  },
  {
   "cell_type": "code",
   "execution_count": null,
   "metadata": {},
   "outputs": [],
   "source": [
    "# plot\n",
    "plt.plot(patient_df.uniquePatientCounts)"
   ]
  },
  {
   "cell_type": "code",
   "execution_count": null,
   "metadata": {
    "scrolled": true
   },
   "outputs": [],
   "source": [
    "# boxplot of patientCount\n",
    "plt.boxplot(variable_patientCount_df.patientCount)"
   ]
  },
  {
   "cell_type": "code",
   "execution_count": null,
   "metadata": {},
   "outputs": [],
   "source": [
    "# most common patientCount: description of patienCount frequency\n",
    "patient_freq_df = variable_patientCount_df.groupby('patientCount')['patientCount'].count().reset_index(name='PatientCount Frequency').copy()\n",
    "print('number of patientCount values: {}'.format(len(patient_freq_df)))\n",
    "print('max patientCount value: {}'.format(patient_freq_df.patientCount.max()))\n",
    "print('min patientCount value: {}'.format(patient_freq_df.patientCount.min()))\n",
    "print('median patientCount value: {}'.format(patient_freq_df.patientCount.median()))\n",
    "print('mean patientCount value: {}'.format(patient_freq_df.patientCount.mean()))\n",
    "print('st. deviation patientCount value: {}'.format(patient_freq_df.patientCount.std()))\n",
    "patient_freq_df"
   ]
  },
  {
   "cell_type": "code",
   "execution_count": null,
   "metadata": {},
   "outputs": [],
   "source": [
    "patient_freq_df.describe()"
   ]
  },
  {
   "cell_type": "code",
   "execution_count": null,
   "metadata": {},
   "outputs": [],
   "source": [
    "# hist of patientCount\n",
    "plt.hist(variable_patientCount_df.patientCount,bins=50)"
   ]
  },
  {
   "cell_type": "code",
   "execution_count": null,
   "metadata": {},
   "outputs": [],
   "source": [
    "# alternative way to calculate variable distribution by patientCount dataframe\n",
    "patient_distribution_df = (variable_patientCount_df\n",
    "       .reset_index()\n",
    "       .rename(columns={'KEY':'phenotypeVariable'})\n",
    "       .groupby('patientCount')['phenotypeVariable']\n",
    "       .nunique()\n",
    "       .reset_index(name = 'variableFrequency')\n",
    ")\n",
    "\n",
    "patient_distribution_df['variablePercentage'] = 100 * patient_distribution_df['variableFrequency'] / patient_distribution_df['variableFrequency'].sum()\n",
    "print(patient_distribution_df.shape)\n",
    "patient_distribution_df.round()"
   ]
  },
  {
   "cell_type": "code",
   "execution_count": null,
   "metadata": {
    "scrolled": true
   },
   "outputs": [],
   "source": [
    "# barplot\n",
    "x_values = patient_distribution_df.patientCount\n",
    "x_pos = np.arange(len(x_values))\n",
    "y_values = patient_distribution_df.variablePercentage\n",
    "plt.bar(x_pos, y_values, align='center', alpha=0.5)\n",
    "plt.xticks(x_pos, x_values)\n",
    "plt.ylabel('Variables Percentage')\n",
    "plt.xlabel('PatientCount')\n",
    "plt.title('Phenotype variables distribution by patientCount')\n",
    "plt.show()"
   ]
  },
  {
   "cell_type": "code",
   "execution_count": null,
   "metadata": {},
   "outputs": [],
   "source": [
    "# clearer distribution: filter patientCount <= 50.0\n",
    "patient_distribution_df = (variable_patientCount_df\n",
    "       .reset_index()\n",
    "       .rename(columns={'KEY':'phenotypeVariable'})\n",
    "       .groupby('patientCount')['phenotypeVariable']\n",
    "       .nunique()\n",
    "       .reset_index(name = 'variableFrequency')\n",
    ")\n",
    "\n",
    "patient_distribution_df['variablePercentage'] = 100 * patient_distribution_df['variableFrequency'] / patient_distribution_df['variableFrequency'].sum()\n",
    "print(patient_distribution_df.shape)\n",
    "patient_distribution_df.round().sort_values(by='variablePercentage', ascending=False)"
   ]
  },
  {
   "cell_type": "code",
   "execution_count": null,
   "metadata": {
    "scrolled": true
   },
   "outputs": [],
   "source": [
    "# barplot\n",
    "#patient_distribution_percge1_df = patient_distribution_df.query('variablePercentage >= 1.0').copy()\n",
    "patient_distribution_percge1_df = patient_distribution_df.query('patientCount <= 50.').copy()\n",
    "x_values = patient_distribution_percge1_df.patientCount\n",
    "x_pos = np.arange(len(x_values))\n",
    "y_values = patient_distribution_percge1_df.variablePercentage\n",
    "plt.bar(x_pos, y_values, align='center', alpha=0.5)\n",
    "plt.xticks(x_pos, x_values)\n",
    "plt.ylabel('Variables Percentage')\n",
    "plt.xlabel('PatientCount')\n",
    "plt.xticks(rotation=90)\n",
    "plt.title('Phenotype variables distribution by patientCount')\n",
    "plt.show()"
   ]
  },
  {
   "cell_type": "code",
   "execution_count": null,
   "metadata": {
    "scrolled": true
   },
   "outputs": [],
   "source": [
    "# Distribution of patients by variable: most common phenotype variables\n",
    "# most frequent phenotypes: description of phenotype frequency: \n",
    "phenotypes_freq = (data.query('HpdsDataType == \"phenotypes\"')\n",
    "                   [['patientCount']]\n",
    "                   .sort_values(by = 'patientCount', ascending = False)\n",
    "                   .copy())\n",
    "phenotypes_freq.head()"
   ]
  },
  {
   "cell_type": "code",
   "execution_count": null,
   "metadata": {},
   "outputs": [],
   "source": [
    "patients = phenotypes_freq.loc['\\\\000_UDN ID\\\\','patientCount']\n",
    "phenotypes_freq['patientCount Percentage'] = phenotypes_freq.patientCount.apply(lambda x: round(x*100/patients))\n",
    "phenotypes_freq.drop_duplicates().head(50)"
   ]
  },
  {
   "cell_type": "code",
   "execution_count": null,
   "metadata": {},
   "outputs": [],
   "source": [
    "phenotypes_freq.drop_duplicates().tail(50)"
   ]
  },
  {
   "cell_type": "code",
   "execution_count": null,
   "metadata": {
    "scrolled": true
   },
   "outputs": [],
   "source": [
    "phenotypes_freq.describe().round()"
   ]
  },
  {
   "cell_type": "code",
   "execution_count": null,
   "metadata": {
    "scrolled": false
   },
   "outputs": [],
   "source": [
    "# most frequent abnormal phenotypes\n",
    "abnormal_phenotypes = resource.dictionary().find('Phenotypic abnormality').DataFrame().copy()\n",
    "print(abnormal_phenotypes.shape)\n",
    "abnormal_phenotypes.head(2)"
   ]
  },
  {
   "cell_type": "code",
   "execution_count": null,
   "metadata": {},
   "outputs": [],
   "source": [
    "phenotypes = phenotypes_freq.patientCount.count()\n",
    "abnormalPhenotypes = len(abnormal_phenotypes)\n",
    "print('There are {} ({}%) phenotypic abnormality phenotypes.'.format(abnormalPhenotypes,round(abnormalPhenotypes*100/phenotypes)))"
   ]
  },
  {
   "cell_type": "code",
   "execution_count": null,
   "metadata": {},
   "outputs": [],
   "source": [
    "abnormal_phenotypes_freq = (abnormal_phenotypes[['patientCount']]\n",
    "                               .sort_values(by = 'patientCount', ascending = False)\n",
    "                               .copy())\n",
    "abnormal_phenotypes_freq.head()"
   ]
  },
  {
   "cell_type": "code",
   "execution_count": null,
   "metadata": {},
   "outputs": [],
   "source": [
    "patients = phenotypes_freq.loc['\\\\000_UDN ID\\\\','patientCount']\n",
    "abnormal_phenotypes_freq['patientCount Percentage'] = abnormal_phenotypes_freq.patientCount.apply(lambda x: round(x*100/patients))\n",
    "abnormal_phenotypes_freq.drop_duplicates().head(50)"
   ]
  },
  {
   "cell_type": "code",
   "execution_count": null,
   "metadata": {},
   "outputs": [],
   "source": [
    "abnormal_phenotypes_freq.describe().round()"
   ]
  },
  {
   "cell_type": "markdown",
   "metadata": {},
   "source": [
    "### 3. Data characterization\n",
    "#### Download data\n",
    "##### demographics"
   ]
  },
  {
   "cell_type": "code",
   "execution_count": null,
   "metadata": {},
   "outputs": [],
   "source": [
    "# download data\n",
    "demographics=get_data_df(\"\\\\00_Demographics\\\\\")\n",
    "print(demographics.shape)\n",
    "demographics.head()"
   ]
  },
  {
   "cell_type": "code",
   "execution_count": null,
   "metadata": {},
   "outputs": [],
   "source": [
    "# get the Demographics dictionary\n",
    "demographicsDict = get_tree_df(\"00_Demographics\")\n",
    "print(demographicsDict.shape)\n",
    "demographicsDict"
   ]
  },
  {
   "cell_type": "markdown",
   "metadata": {},
   "source": [
    "##### Age group separation: adult and pediatrics"
   ]
  },
  {
   "cell_type": "code",
   "execution_count": null,
   "metadata": {},
   "outputs": [],
   "source": [
    "# break down the analysis in two groups: pediatric (<18 yo) and adults (>=18 yo)\n",
    "pediatric_patients=list(demographics[\"\\\\00_Demographics\\\\Age at symptom onset in years\\\\\"][demographics[\"\\\\00_Demographics\\\\Age at symptom onset in years\\\\\"]<18.0].index)\n",
    "adult_patients=list(demographics[\"\\\\00_Demographics\\\\Age at symptom onset in years\\\\\"][demographics[\"\\\\00_Demographics\\\\Age at symptom onset in years\\\\\"]>=18.0].index)"
   ]
  },
  {
   "cell_type": "code",
   "execution_count": null,
   "metadata": {},
   "outputs": [],
   "source": [
    "patients = len(demographics)\n",
    "print('Number of patient records: {}'.format(patients))\n",
    "pediatrics = len(pediatric_patients)\n",
    "pediatrics_percentage = round(100 * pediatrics / patients)\n",
    "print('Number of pediatric patient records: {} individuals ({}%)'.format(pediatrics,pediatrics_percentage))\n",
    "adults = len(adult_patients)\n",
    "adults_percentage = round(100 * adults / patients)\n",
    "print('Number of adult patient records: {} individuals ({}%)'.format(adults,adults_percentage))"
   ]
  },
  {
   "cell_type": "markdown",
   "metadata": {},
   "source": [
    "##### Analysis of demographics"
   ]
  },
  {
   "cell_type": "code",
   "execution_count": null,
   "metadata": {},
   "outputs": [],
   "source": [
    "# get the dataframes for patients with at least one phenotype, for adult or pediatric, diagnosed and undiagnosed \n",
    "demographics_pediatric = demographics.loc[pediatric_patients]\n",
    "demographics_adult = demographics.loc[adult_patients]"
   ]
  },
  {
   "cell_type": "code",
   "execution_count": null,
   "metadata": {},
   "outputs": [],
   "source": [
    "print(\"Count eth for general \",collec.Counter(demographics['\\\\00_Demographics\\\\Ethnicity\\\\']))\n",
    "print(\"Count eth for pediatric \",collec.Counter(demographics_pediatric['\\\\00_Demographics\\\\Ethnicity\\\\']))\n",
    "print(\"Count eth for adult \",collec.Counter(demographics_adult['\\\\00_Demographics\\\\Ethnicity\\\\']))"
   ]
  },
  {
   "cell_type": "code",
   "execution_count": null,
   "metadata": {
    "scrolled": true
   },
   "outputs": [],
   "source": [
    "print(\"Count eth for general \",collec.Counter(demographics['\\\\00_Demographics\\\\Ethnicity\\\\']))\n",
    "print(\"Count eth for pediatric \",collec.Counter(demographics_pediatric['\\\\00_Demographics\\\\Ethnicity\\\\']))\n",
    "print(\"Count eth for adult \",collec.Counter(demographics_adult['\\\\00_Demographics\\\\Ethnicity\\\\']))\n",
    "all_eth = collec.Counter(demographics['\\\\00_Demographics\\\\Ethnicity\\\\'])\n",
    "pediatric_eth = collec.Counter(demographics_pediatric['\\\\00_Demographics\\\\Ethnicity\\\\'])\n",
    "adult_eth = collec.Counter(demographics_adult['\\\\00_Demographics\\\\Ethnicity\\\\'])\n",
    "all_eth_percentage = all_eth\n",
    "pediatric_eth_percentage = pediatric_eth\n",
    "adult_eth_percentage = adult_eth\n",
    "for key in all_eth.keys():\n",
    "    all_eth_percentage[key] = \"{} ({})\".format(all_eth[key], round(all_eth[key] * 100 / patients))\n",
    "for key in pediatric_eth.keys():\n",
    "    pediatric_eth_percentage[key] = \"{} ({})\".format(pediatric_eth[key], round(pediatric_eth[key] * 100 / patients))\n",
    "for key in adult_eth.keys():\n",
    "    adult_eth_percentage[key] = \"{} ({})\".format(adult_eth[key], round(adult_eth[key] * 100 / patients))\n",
    "print(\"\\nPercentage eth for general \", all_eth_percentage)\n",
    "print(\"Percentage eth for pediatric \", pediatric_eth_percentage)\n",
    "print(\"Percentage eth for adult \", adult_eth_percentage)"
   ]
  },
  {
   "cell_type": "code",
   "execution_count": null,
   "metadata": {},
   "outputs": [],
   "source": [
    "print(\"Count race for general \",collec.Counter(demographics[\"\\\\00_Demographics\\\\Race\\\\\"]))\n",
    "print(\"Count race for pediatric \",collec.Counter(demographics_pediatric[\"\\\\00_Demographics\\\\Race\\\\\"]))\n",
    "print(\"Count race for adult \",collec.Counter(demographics_adult[\"\\\\00_Demographics\\\\Race\\\\\"]))\n",
    "all_race = collec.Counter(demographics[\"\\\\00_Demographics\\\\Race\\\\\"])\n",
    "pediatric_race = collec.Counter(demographics_pediatric[\"\\\\00_Demographics\\\\Race\\\\\"])\n",
    "adult_race = collec.Counter(demographics_adult[\"\\\\00_Demographics\\\\Race\\\\\"])\n",
    "all_race_percentage = all_race\n",
    "pediatric_race_percentage = pediatric_race\n",
    "adult_race_percentage = adult_race\n",
    "for key in all_race.keys():\n",
    "    all_race_percentage[key] = \"{} ({})\".format(all_race[key], round(all_race[key] * 100 / patients))\n",
    "for key in pediatric_race.keys():\n",
    "    pediatric_race_percentage[key] = \"{} ({})\".format(pediatric_race[key], round(pediatric_race[key] * 100 / patients))\n",
    "for key in adult_race.keys():\n",
    "    adult_race_percentage[key] = \"{} ({})\".format(adult_race[key], round(adult_race[key] * 100 / patients))\n",
    "print(\"\\nPercentage race for general \", all_race_percentage)\n",
    "print(\"Percentage race for pediatric \", pediatric_race_percentage)\n",
    "print(\"Percentage race for adult \", adult_race_percentage)"
   ]
  },
  {
   "cell_type": "code",
   "execution_count": null,
   "metadata": {
    "scrolled": true
   },
   "outputs": [],
   "source": [
    "# get the statistics for demographics for all patients\n",
    "demographics.describe().round()"
   ]
  },
  {
   "cell_type": "code",
   "execution_count": null,
   "metadata": {
    "scrolled": true
   },
   "outputs": [],
   "source": [
    "# get the statistics for demographics, for pediatric diagnosed patients\n",
    "demographics_pediatric.describe().round()"
   ]
  },
  {
   "cell_type": "code",
   "execution_count": null,
   "metadata": {
    "scrolled": true
   },
   "outputs": [],
   "source": [
    "# get the statistics for demographics for adult diagnosed patients\n",
    "demographics_adult.describe().round()"
   ]
  },
  {
   "cell_type": "code",
   "execution_count": null,
   "metadata": {},
   "outputs": [],
   "source": [
    "def show_age_distrib(demographics):\n",
    "    \"\"\"Show the age distribution in the network\n",
    "    Parameters: demographics: pd dataframe, with columns containing age at symptom onset\n",
    "    Returns: None\n",
    "    Shows the age distribution as a plot\n",
    "    \"\"\"\n",
    "    X=list(collec.Counter(demographics[\"\\\\00_Demographics\\\\Age at symptom onset in years\\\\\"].fillna(0)))\n",
    "    Y=[collec.Counter(demographics[\"\\\\00_Demographics\\\\Age at symptom onset in years\\\\\"])[i] for i in X]\n",
    "    plt.figure(figsize=(20,20))\n",
    "    plt.plot(X,Y)\n",
    "    plt.title(\"Age at symptom onset (in y) distribution in UDN\")\n",
    "    plt.xlabel(\"Age at symptom onset (in y)\")\n",
    "    plt.ylabel(\"Count of patients\")\n",
    "    plt.show()"
   ]
  },
  {
   "cell_type": "code",
   "execution_count": null,
   "metadata": {},
   "outputs": [],
   "source": [
    "show_age_distrib(demographics)"
   ]
  },
  {
   "cell_type": "code",
   "execution_count": null,
   "metadata": {},
   "outputs": [],
   "source": [
    "# get the gender count, for adult or pediatric, diagnosed and undiagnosed\n",
    "gender_count = demographics.groupby(\"\\\\00_Demographics\\\\Gender\\\\\")['Patient ID'].nunique()\n",
    "gender_count_ped = demographics_pediatric.groupby(\"\\\\00_Demographics\\\\Gender\\\\\")['Patient ID'].nunique()\n",
    "gender_count_adu = demographics_adult.groupby(\"\\\\00_Demographics\\\\Gender\\\\\")['Patient ID'].nunique()"
   ]
  },
  {
   "cell_type": "code",
   "execution_count": null,
   "metadata": {},
   "outputs": [],
   "source": [
    "print(\"Gender count general\")\n",
    "print(gender_count)\n",
    "print('All: {}'.format(len(demographics)))\n",
    "print('Percentage Female: {}'.format(round(100 * gender_count[0]/len(demographics))))\n",
    "print('Percentage Male: {}'.format(round(100 * gender_count[1]/len(demographics))))\n",
    "print()\n",
    "print(\"Gender count pediatric\")\n",
    "print(gender_count_ped)\n",
    "print('Pediatrics: {}'.format(len(demographics_pediatric)))\n",
    "print('Percentage Female: {}'.format(round(100 * gender_count_ped[0]/len(demographics_pediatric))))\n",
    "print('Percentage Male: {}'.format(round(100 * gender_count_ped[1]/len(demographics_pediatric))))\n",
    "print()\n",
    "print(\"Gender count adult\")\n",
    "print(gender_count_adu)\n",
    "print('Adults: {}'.format(len(demographics_adult)))\n",
    "print('Percentage Female: {}'.format(round(100 * gender_count_adu[0]/len(demographics_adult))))\n",
    "print('Percentage Male: {}'.format(round(100 * gender_count_adu[1]/len(demographics_adult))))"
   ]
  },
  {
   "cell_type": "markdown",
   "metadata": {},
   "source": [
    "### 4. Results\n",
    "#### 4.1 General summary\n",
    "\n",
    "* UDN database accessed on: 2020-01-27\n",
    "* Cohort: 1570 individuals\n",
    "* Number of variables: 13414\n",
    "    * Number of `info` type: 6 (0.04%)\n",
    "    * Number of `phenotype` type (ICD9 diagnostic codes ?): 13408 (99.96%)\n",
    "* Categorical variables: all are phenotypes:\n",
    "    ```\n",
    "    HpdsDataType  categorical\n",
    "    phenotypes    True           13402\n",
    "                  False              6\n",
    "    ```\n",
    "    * list of non categorical phenotypes: ('\\\\00_Demographics\\\\Age at UDN Evaluation (in years)\\\\', '\\\\09_Prenatal and perinatal history (from PhenoTips)\\\\Paternal Age\\\\', '\\\\00_Demographics\\\\Age at symptom onset in years\\\\', '\\\\09_Prenatal and perinatal history (from PhenoTips)\\\\Gestation\\\\', '\\\\09_Prenatal and perinatal history (from PhenoTips)\\\\Maternal Age\\\\', '\\\\00_Demographics\\\\Current age in years\\\\')\n",
    "* Continuous variable: only one which is `Variant_frequency_in_ExAC` of 'info' type.\n",
    "* Variables tree-like organization description: \n",
    "    * Number of levels: 0-14\n",
    "    * Parent class (level 0): 24\n",
    "        * `info` variables: 6 ('Gene_with_variant', 'Variant_class', 'Variant_consequence_calculated', 'Variant_frequency_as_text', 'Variant_frequency_in_ExAC', 'Variant_severity')\n",
    "        * `phenotype` variables: 18 \n",
    "        ```\n",
    "       '000_UDN ID', \n",
    "       '00_Demographics',\n",
    "       '01_Primary symptom category reported by patient or caregiver',\n",
    "       '02_Sequence Submitted', '02_Type of sequencing',\n",
    "       '03_UDN Clinical Site',\n",
    "       '04a_Clinical symptoms and physical findings (in HPO, from PhenoTips)',\n",
    "       '04b_Clinical symptoms and physical findings (in HPO, from PhenoTips)',\n",
    "       '04c_Clinical symptoms and physical findings (in HPO, from PhenoTips)',\n",
    "       '05_Maternal ethnicity (from PhenoTips)',\n",
    "       '06_Paternal ethnicity (from PhenoTips)',\n",
    "       '08_Family history (from PhenoTips)',\n",
    "       '09_Prenatal and perinatal history (from PhenoTips)',\n",
    "       '10_Medications (from PhenoTips)', \n",
    "       '11_Candidate genes',\n",
    "       '12_Candidate variants', \n",
    "       '13_Status',\n",
    "       '14_Disorders (in OMIM, from PhenoTips)'\n",
    "       ```\n",
    "* Entries description (10 data fields):\n",
    "    * HpdsDataType\n",
    "    * description\n",
    "    * categorical\n",
    "    * categoryValues\n",
    "    * values\n",
    "    * continuous\n",
    "    * min\n",
    "    * max\n",
    "    * observationCount\n",
    "    * patientCount\n",
    "* Phenotypes distribution: 46% phenotypes recorded only for one patient (patientCount = 1.0). The majority (75%) of patientCounts are not common (variables < 10.8).\n",
    "* Most frequent patientCount: 1.0\n",
    "* Patients distribution: 84% patients recorded the `Clinical symptoms and physical findings` variable. The majority (75%) of variables are not common (patientCount < 4.0)  \n",
    "* Most frequent patient phenotype variables (keys): \n",
    "    * 04c_Clinical symptoms and physical findings (in HPO, from PhenoTips)\\A 1198 patients (76%)\t\n",
    "    * 04c_Clinical symptoms and physical findings (in HPO, from PhenoTips)\\P (72%)\n",
    "    * 04c_Clinical symptoms and physical findings (in HPO, from PhenoTips)\\S (71%)\n",
    "* Most frequent patient specific phenotype variables (keys): Abnormal phenotypes (12077 (90.0%) phenotypic abnormalities) are not very common, the majority have low frequencies\n",
    "    * Global developmental delay: 375 patients (24.05) \n",
    "    * Seizures: 288 patients (18.0%)\n",
    "    * Generalized hypotonia: 230 patients (15.0%)\n",
    "\n",
    "#### 4.1 Table 1\n",
    "Table 1 presents the characterization of entries recorded for UDN 1570 individuals."
   ]
  },
  {
   "cell_type": "code",
   "execution_count": null,
   "metadata": {},
   "outputs": [],
   "source": [
    "table_list = [\n",
    "    {'Attribute':'Age',\n",
    "     'Value, median (IQR)':'13.0 (5-32)'\n",
    "    },\n",
    "    {'Attribute':'Female (%)',\n",
    "     'Value, median (IQR)':'49.0'\n",
    "    },\n",
    "    {'Attribute':'PatientCount Frequency',\n",
    "     'Value, median (IQR)':'2.0 (1.0-10.8)'\n",
    "    },\n",
    "    {'Attribute':'Variables Frequency',\n",
    "     'Value, median (IQR)':'1.0 (1.0-4.0)'\n",
    "    },\n",
    "    {'Attribute':'Specific Phenotypes Frequency',\n",
    "     'Value, median (IQR)':'1.0 (1.0-4.0)'\n",
    "    }\n",
    "]\n",
    "table = pd.DataFrame(table_list)\n",
    "table"
   ]
  },
  {
   "cell_type": "markdown",
   "metadata": {},
   "source": [
    "#### 4.2 Demographics summary\n",
    "\n",
    "* 1570 patient records in the UDN database\n",
    "* **Adult** (358 individuals (23%)) and **Pediatric** (1211 individuals (77%))\n",
    "* Age: 20 (5-32) at UDN Evaluation (in years), 11 (0-15) at symptom onset (in years)\n",
    "* The Female:Male (F:M) ratio is (774:796), Female (%) is 49.0\n",
    "* Race: white (1200 individuals (76%) in all, 914 (75%) in pediatrics, 298 (83%) in adults)\n",
    "\n",
    "#### 4.2 Table 2\n",
    "Table 2 represents the demographic data of the UDN cohort by adult, pediatric and all 1570 individuals."
   ]
  },
  {
   "cell_type": "code",
   "execution_count": null,
   "metadata": {},
   "outputs": [],
   "source": [
    "table_list = [\n",
    "    {'Attribute':'Age mean (IQR) at UDN evaluation (years)',\n",
    "     'Adult':'47.0 (36.0-58.0)',\n",
    "     'Pediatric':'12.0 (4.0-17.0)',\n",
    "     'All':'20.0 (5.0-32.0)'\n",
    "    },\n",
    "    {'Attribute':'Age mean (IQR) at symptom onset (years)',\n",
    "     'Adult':'39.0 (26.0-50.0)',\n",
    "     'Pediatric':'2.0 (0.0-2.0)',\n",
    "     'All':'11.0 (0.0-15.0)'\n",
    "    },\n",
    "    {'Attribute':'Age mean (IQR) current age (years)',\n",
    "     'Adult':'49.0 (38.0-60.0)',\n",
    "     'Pediatric':'14.0 (6.0-18.0)',\n",
    "     'All':'22.0 (7.0-33.0)'\n",
    "    },\n",
    "    {'Attribute':'Female (%)',\n",
    "     'Adult':'50.0',\n",
    "     'Pediatric':'49.0',\n",
    "     'All':'49.0'\n",
    "    },\n",
    "    {'Attribute':'Gender ratio (F:M)',\n",
    "     'Adult':'178:180',\n",
    "     'Pediatric':'596:615',\n",
    "     'All':'774:796'\n",
    "    },\n",
    "    {'Attribute':'Race individuals (%) | White',\n",
    "     'Adult':'286 (18)',\n",
    "     'Pediatric':'914 (58)',\n",
    "     'All':'1200 (76)'\n",
    "    },\n",
    "    {'Attribute':'Race individuals (%) | Asian',\n",
    "     'Adult':'16 (1)',\n",
    "     'Pediatric':'96 (6)',\n",
    "     'All':'112 (7)'\n",
    "    },\n",
    "    {'Attribute':'Race individuals (%) | Black or African-American',\n",
    "     'Adult':'32 (2)',\n",
    "     'Pediatric':'71 (5)',\n",
    "     'All':'103 (7)'\n",
    "    },\n",
    "    {'Attribute':'Race individuals (%) | American-Indian or Alaska Native',\n",
    "     'Adult':'1 (0)',\n",
    "     'Pediatric':'20 (1)',\n",
    "     'All':'21 (1)'\n",
    "    },\n",
    "    {'Attribute':'Race individuals (%) | Native Hawaiian or Pacific Islander',\n",
    "     'Adult':'0 (0)',\n",
    "     'Pediatric':'3 (0)',\n",
    "     'All':'3 (0)'\n",
    "    },\n",
    "    {'Attribute':'Race individuals (%) | Other',\n",
    "     'Adult':'18 (1)',\n",
    "     'Pediatric':'90 (6)',\n",
    "     'All':'109 (7)'\n",
    "    },\n",
    "    {'Attribute':'Ethnicity individuals (%) | Not Hispanic or Latino',\n",
    "     'Adult':'298 (19)',\n",
    "     'Pediatric':'904 (58)',\n",
    "     'All':'1202 (77)'\n",
    "    },\n",
    "    {'Attribute':'Ethnicity individuals (%) | Hispanic or Latino',\n",
    "     'Adult':'22 (1)',\n",
    "     'Pediatric':'199 (13)',\n",
    "     'All':'221 (14)'\n",
    "    },\n",
    "    {'Attribute':'Ethnicity individuals (%) | Unknown or Not Reported Ethnicity',\n",
    "     'Adult':'36 (2)',\n",
    "     'Pediatric':'107 (7)',\n",
    "     'All':'144 (9)'\n",
    "    }\n",
    "]\n",
    "table = pd.DataFrame(table_list)\n",
    "pd.set_option('max_colwidth',500)\n",
    "table"
   ]
  },
  {
   "cell_type": "markdown",
   "metadata": {},
   "source": [
    "#### 4.3 Figures"
   ]
  },
  {
   "cell_type": "code",
   "execution_count": null,
   "metadata": {},
   "outputs": [],
   "source": [
    "# Gender\n",
    "# Adult\n",
    "labels = 'Female (178:358)', 'Male (180:358)'\n",
    "sizes = [50, 50]\n",
    "explode = (0.1, 0)  # only \"explode\" the 1st slice (i.e. 'Female')\n",
    "\n",
    "fig1, ax1 = plt.subplots()\n",
    "ax1.pie(sizes, explode=explode, labels=labels, autopct='%1.1f%%',\n",
    "        shadow=True, startangle=90)\n",
    "ax1.axis('equal')  # Equal aspect ratio ensures that pie is drawn as a circle.\n",
    "\n",
    "plt.show()"
   ]
  },
  {
   "cell_type": "code",
   "execution_count": null,
   "metadata": {},
   "outputs": [],
   "source": [
    "# Pediatric\n",
    "labels = 'Female (596:1211)', 'Male (615:1211)'\n",
    "sizes = [49, 51]\n",
    "explode = (0.1, 0)  # only \"explode\" the 1st slice (i.e. 'Female')\n",
    "\n",
    "fig1, ax1 = plt.subplots()\n",
    "ax1.pie(sizes, explode=explode, labels=labels, autopct='%1.1f%%',\n",
    "        shadow=True, startangle=90)\n",
    "ax1.axis('equal')  # Equal aspect ratio ensures that pie is drawn as a circle.\n",
    "\n",
    "plt.show()"
   ]
  },
  {
   "cell_type": "code",
   "execution_count": null,
   "metadata": {},
   "outputs": [],
   "source": [
    "# All\n",
    "labels = 'Female (774:1570)', 'Male (796:1570)'\n",
    "sizes = [49, 51]\n",
    "explode = (0.1, 0)  # only \"explode\" the 1st slice (i.e. 'Female')\n",
    "\n",
    "fig1, ax1 = plt.subplots()\n",
    "ax1.pie(sizes, explode=explode, labels=labels, autopct='%1.1f%%',\n",
    "        shadow=True, startangle=90)\n",
    "ax1.axis('equal')  # Equal aspect ratio ensures that pie is drawn as a circle.\n",
    "\n",
    "plt.show()"
   ]
  },
  {
   "cell_type": "code",
   "execution_count": null,
   "metadata": {},
   "outputs": [],
   "source": [
    "# Race::All\n",
    "labels = 'White (1200)', 'Asian (112)', 'African-American (103)', 'American-Indian (21)', 'Native Hawaiian (3)', 'Other (109)'\n",
    "sizes = [76,7,7,1,0,7]\n",
    "explode = (0,0,0,0,0.8,0)  # only \"explode\" the 1st slice (i.e. 'Female')\n",
    "\n",
    "fig1, ax1 = plt.subplots()\n",
    "ax1.pie(sizes, explode=explode, labels=labels, autopct='%1.1f%%',\n",
    "        shadow=True, startangle=90)\n",
    "ax1.axis('equal')  # Equal aspect ratio ensures that pie is drawn as a circle.\n",
    "\n",
    "plt.show()"
   ]
  },
  {
   "cell_type": "code",
   "execution_count": null,
   "metadata": {},
   "outputs": [],
   "source": []
  }
 ],
 "metadata": {
  "kernelspec": {
   "display_name": "Python 3",
   "language": "python",
   "name": "python3"
  },
  "language_info": {
   "codemirror_mode": {
    "name": "ipython",
    "version": 3
   },
   "file_extension": ".py",
   "mimetype": "text/x-python",
   "name": "python",
   "nbconvert_exporter": "python",
   "pygments_lexer": "ipython3",
   "version": "3.7.6"
  }
 },
 "nbformat": 4,
 "nbformat_minor": 4
}