{
 "cells": [
  {
   "cell_type": "markdown",
   "metadata": {},
   "source": [
    "# NHANES (National Health and Nutrition Examination Survey) Introductory Analysis\n",
    "\n",
    "In this notebook, we will use the PIC-SURE API to pull participant-level data from NHANES into our Sagemaker notebook. We will perform an initial exploration and visualization of the data.\n",
    "\n",
    "1. Package installation and environment set-up\n",
    "2. Connecting to a PIC-SURE resource\n",
    "3. Accessing and exploring the NHANES data dictionary\n",
    "4. Building a query and retrieving data from NHANES\n",
    "5. Explore and visualize the demographics and laboratory values of the NHANES dataset\n",
    "\n",
    "To explore the NHANES dataset using the PIC-SURE User Interface, visit: https://pic-sure.aim-ahead-dev.host/\n",
    "\n",
    "To learn more about the NHANES dataset, visit: https://www.cdc.gov/nchs/nhanes/about_nhanes.htm"
   ]
  },
  {
   "cell_type": "markdown",
   "metadata": {},
   "source": [
    "## Package installation and environment set-up"
   ]
  },
  {
   "cell_type": "code",
   "execution_count": 1,
   "metadata": {},
   "outputs": [
    {
     "name": "stderr",
     "output_type": "stream",
     "text": [
      "also installing the dependencies ‘credentials’, ‘zip’, ‘gitcreds’, ‘httr2’, ‘ini’, ‘diffobj’, ‘gert’, ‘gh’, ‘whisker’, ‘downlit’, ‘xopen’, ‘brew’, ‘brio’, ‘praise’, ‘waldo’, ‘usethis’, ‘desc’, ‘miniUI’, ‘pkgbuild’, ‘pkgdown’, ‘pkgload’, ‘profvis’, ‘rcmdcheck’, ‘remotes’, ‘roxygen2’, ‘rversions’, ‘sessioninfo’, ‘testthat’, ‘urlchecker’\n",
      "\n",
      "\n",
      "Updating HTML index of packages in '.Library'\n",
      "\n",
      "Making 'packages.html' ...\n",
      " done\n",
      "\n",
      "Downloading GitHub repo hms-dbmi/pic-sure-r-adapter-hpds@main\n",
      "\n"
     ]
    },
    {
     "name": "stdout",
     "output_type": "stream",
     "text": [
      "curl (5.1.0 -> 5.2.1  ) [CRAN]\n",
      "hash (NA    -> 2.2.6.3) [CRAN]\n"
     ]
    },
    {
     "name": "stderr",
     "output_type": "stream",
     "text": [
      "Installing 2 packages: curl, hash\n",
      "\n",
      "Updating HTML index of packages in '.Library'\n",
      "\n",
      "Making 'packages.html' ...\n",
      " done\n",
      "\n"
     ]
    },
    {
     "name": "stdout",
     "output_type": "stream",
     "text": [
      "\u001b[36m──\u001b[39m \u001b[36mR CMD build\u001b[39m \u001b[36m─────────────────────────────────────────────────────────────────\u001b[39m\n",
      "* checking for file ‘/tmp/RtmpXXk2vS/remotes350c1a40c50b/hms-dbmi-pic-sure-r-adapter-hpds-edd4981/DESCRIPTION’ ... OK\n",
      "* preparing ‘picsure’:\n",
      "* checking DESCRIPTION meta-information ... OK\n",
      "* checking for LF line-endings in source and make files and shell scripts\n",
      "* checking for empty or unneeded directories\n",
      "Omitted ‘LazyData’ from DESCRIPTION\n",
      "* building ‘picsure_0.1.1.tar.gz’\n",
      "\n"
     ]
    },
    {
     "name": "stderr",
     "output_type": "stream",
     "text": [
      "── \u001b[1mAttaching core tidyverse packages\u001b[22m ──────────────────────── tidyverse 2.0.0 ──\n",
      "\u001b[32m✔\u001b[39m \u001b[34mdplyr    \u001b[39m 1.1.4     \u001b[32m✔\u001b[39m \u001b[34mreadr    \u001b[39m 2.1.5\n",
      "\u001b[32m✔\u001b[39m \u001b[34mforcats  \u001b[39m 1.0.0     \u001b[32m✔\u001b[39m \u001b[34mstringr  \u001b[39m 1.5.1\n",
      "\u001b[32m✔\u001b[39m \u001b[34mggplot2  \u001b[39m 3.5.0     \u001b[32m✔\u001b[39m \u001b[34mtibble   \u001b[39m 3.2.1\n",
      "\u001b[32m✔\u001b[39m \u001b[34mlubridate\u001b[39m 1.9.3     \u001b[32m✔\u001b[39m \u001b[34mtidyr    \u001b[39m 1.3.1\n",
      "\u001b[32m✔\u001b[39m \u001b[34mpurrr    \u001b[39m 1.0.2     \n",
      "── \u001b[1mConflicts\u001b[22m ────────────────────────────────────────── tidyverse_conflicts() ──\n",
      "\u001b[31m✖\u001b[39m \u001b[34mdplyr\u001b[39m::\u001b[32mfilter()\u001b[39m masks \u001b[34mstats\u001b[39m::filter()\n",
      "\u001b[31m✖\u001b[39m \u001b[34mdplyr\u001b[39m::\u001b[32mlag()\u001b[39m    masks \u001b[34mstats\u001b[39m::lag()\n",
      "\u001b[36mℹ\u001b[39m Use the conflicted package (\u001b[3m\u001b[34m<http://conflicted.r-lib.org/>\u001b[39m\u001b[23m) to force all conflicts to become errors\n"
     ]
    }
   ],
   "source": [
    "install.packages(\"devtools\")\n",
    "Sys.setenv(TAR = \"/bin/tar\")\n",
    "options(unzip = \"internal\")\n",
    "devtools::install_github(\"hms-dbmi/pic-sure-r-adapter-hpds\", ref=\"main\", force=T, quiet=FALSE)\n",
    "library(tidyverse)"
   ]
  },
  {
   "cell_type": "markdown",
   "metadata": {},
   "source": [
    "## Connecting to a PIC-SURE resource\n",
    "\n",
    "The following is required to get access to the PIC-SURE API:\n",
    "* a network URL\n",
    "* a user-specific security token saved as `token.txt`.\n",
    "\n",
    "If you have not already retrieved your user-specific token, please visit the following documentation: https://pic-sure.gitbook.io/aim-ahead-pic-sure/data-analysis-using-the-pic-sure-api/pic-sure-user-access-token"
   ]
  },
  {
   "cell_type": "code",
   "execution_count": 2,
   "metadata": {},
   "outputs": [
    {
     "name": "stderr",
     "output_type": "stream",
     "text": [
      "Loading resources...\n",
      "\n",
      "Loading user profile...\n",
      "\n",
      "Loading PIC-SURE dictionary (this may take several minutes)...\n",
      "\n",
      "Loading genomic annotations...\n",
      "\n",
      "Initialization complete.\n",
      "\n"
     ]
    }
   ],
   "source": [
    "PICSURE_network_URL = \"https://pic-sure.aim-ahead.host/picsure\"\n",
    "token_file <- \"token.txt\"\n",
    "token <- scan(token_file, what = \"character\")\n",
    "session <- picsure::bdc.initializeSession(PICSURE_network_URL, token)\n",
    "session <- picsure::bdc.setResource(session = session,  resourceName = \"AUTH\")"
   ]
  },
  {
   "cell_type": "markdown",
   "metadata": {},
   "source": [
    "You can get help with PIC-SURE library functions by using the `?` operator"
   ]
  },
  {
   "cell_type": "code",
   "execution_count": 3,
   "metadata": {},
   "outputs": [],
   "source": [
    "?picsure::bdc.searchPicsure"
   ]
  },
  {
   "cell_type": "markdown",
   "metadata": {},
   "source": [
    "For example, the above output lists and briefly defines how to use the `searchPicsure` function."
   ]
  },
  {
   "cell_type": "markdown",
   "metadata": {},
   "source": [
    "## Accessing and exploring the NHANES data dictionary\n",
    "Now that you have set up your connection to the PIC-SURE API, let's view what variables are present in the NHANES dataset. The `dictionary` method can be used to retrieve information about all the variables or to search the data dictionary for a specific term."
   ]
  },
  {
   "cell_type": "code",
   "execution_count": 4,
   "metadata": {},
   "outputs": [
    {
     "data": {
      "text/html": [
       "<table class=\"dataframe\">\n",
       "<caption>A data.frame: 10 × 15</caption>\n",
       "<thead>\n",
       "\t<tr><th></th><th scope=col>name</th><th scope=col>var_id</th><th scope=col>var_name</th><th scope=col>var_description</th><th scope=col>data_type</th><th scope=col>group_id</th><th scope=col>group_name</th><th scope=col>group_description</th><th scope=col>study_id</th><th scope=col>study_description</th><th scope=col>is_stigmatized</th><th scope=col>min</th><th scope=col>max</th><th scope=col>categorical</th><th scope=col>values</th></tr>\n",
       "\t<tr><th></th><th scope=col>&lt;chr&gt;</th><th scope=col>&lt;chr&gt;</th><th scope=col>&lt;chr&gt;</th><th scope=col>&lt;chr&gt;</th><th scope=col>&lt;chr&gt;</th><th scope=col>&lt;chr&gt;</th><th scope=col>&lt;chr&gt;</th><th scope=col>&lt;chr&gt;</th><th scope=col>&lt;chr&gt;</th><th scope=col>&lt;chr&gt;</th><th scope=col>&lt;chr&gt;</th><th scope=col>&lt;dbl&gt;</th><th scope=col>&lt;dbl&gt;</th><th scope=col>&lt;lgl&gt;</th><th scope=col>&lt;chr&gt;</th></tr>\n",
       "</thead>\n",
       "<tbody>\n",
       "\t<tr><th scope=row>1</th><td>\\nhanes\\questionnaire_food_component_recall\\Total_home_tap_water_drank_yesterday(gm)\\</td><td>Total_home_tap_water_drank_yesterday(gm)</td><td>Total_home_tap_water_drank_yesterday(gm)</td><td></td><td>continuous</td><td></td><td></td><td></td><td>nhanes</td><td></td><td>false</td><td>0.00</td><td>52864.00</td><td>FALSE</td><td></td></tr>\n",
       "\t<tr><th scope=row>2</th><td>\\nhanes\\questionnaire_street_drug\\#days_used_needle_for_street_drugs/year\\           </td><td>#days_used_needle_for_street_drugs/year </td><td>#days_used_needle_for_street_drugs/year </td><td></td><td>continuous</td><td></td><td></td><td></td><td>nhanes</td><td></td><td>false</td><td>0.00</td><td>   60.00</td><td>FALSE</td><td></td></tr>\n",
       "\t<tr><th scope=row>3</th><td>\\nhanes\\laboratory_blood\\Red_blood_cell_count_(million_cells/uL)\\                    </td><td>Red_blood_cell_count_(million_cells/uL) </td><td>Red_blood_cell_count_(million_cells/uL) </td><td></td><td>continuous</td><td></td><td></td><td></td><td>nhanes</td><td></td><td>false</td><td>1.71</td><td>    9.16</td><td>FALSE</td><td></td></tr>\n",
       "\t<tr><th scope=row>4</th><td>\\nhanes\\questionnaire_street_drug\\#days_used_street_drugs_over_past_year\\            </td><td>#days_used_street_drugs_over_past_year  </td><td>#days_used_street_drugs_over_past_year  </td><td></td><td>continuous</td><td></td><td></td><td></td><td>nhanes</td><td></td><td>false</td><td>0.00</td><td>   65.00</td><td>FALSE</td><td></td></tr>\n",
       "\t<tr><th scope=row>5</th><td>\\nhanes\\questionnaire_food_component_recall\\#_of_times_other_fish_eaten_past_30_days\\</td><td>#_of_times_other_fish_eaten_past_30_days</td><td>#_of_times_other_fish_eaten_past_30_days</td><td></td><td>continuous</td><td></td><td></td><td></td><td>nhanes</td><td></td><td>false</td><td>1.00</td><td>   30.00</td><td>FALSE</td><td></td></tr>\n",
       "\t<tr><th scope=row>6</th><td>\\nhanes\\questionnaire_viral_infection\\Doctor_ever_told_you_had_genital_warts\\        </td><td>Doctor_ever_told_you_had_genital_warts  </td><td>Doctor_ever_told_you_had_genital_warts  </td><td></td><td>continuous</td><td></td><td></td><td></td><td>nhanes</td><td></td><td>false</td><td>0.00</td><td>    1.00</td><td>FALSE</td><td></td></tr>\n",
       "\t<tr><th scope=row>7</th><td>\\nhanes\\questionnaire_food_component_recall\\Breaded_fish_products_eaten_past_30_days\\</td><td>Breaded_fish_products_eaten_past_30_days</td><td>Breaded_fish_products_eaten_past_30_days</td><td></td><td>continuous</td><td></td><td></td><td></td><td>nhanes</td><td></td><td>false</td><td>0.00</td><td>    1.00</td><td>FALSE</td><td></td></tr>\n",
       "\t<tr><th scope=row>8</th><td>\\nhanes\\questionnaire_street_drug\\Ever_used_cocaine_or_other_street_drug\\            </td><td>Ever_used_cocaine_or_other_street_drug  </td><td>Ever_used_cocaine_or_other_street_drug  </td><td></td><td>continuous</td><td></td><td></td><td></td><td>nhanes</td><td></td><td>false</td><td>0.00</td><td>    1.00</td><td>FALSE</td><td></td></tr>\n",
       "\t<tr><th scope=row>9</th><td>\\nhanes\\questionnaire_street_drug\\Ever_use_a_needle_to_inject_illegal_drug\\          </td><td>Ever_use_a_needle_to_inject_illegal_drug</td><td>Ever_use_a_needle_to_inject_illegal_drug</td><td></td><td>continuous</td><td></td><td></td><td></td><td>nhanes</td><td></td><td>false</td><td>0.00</td><td>    1.00</td><td>FALSE</td><td></td></tr>\n",
       "\t<tr><th scope=row>10</th><td>\\nhanes\\questionnaire_viral_infection\\Doctor_ever_told_you_had_genital_herpes\\       </td><td>Doctor_ever_told_you_had_genital_herpes </td><td>Doctor_ever_told_you_had_genital_herpes </td><td></td><td>continuous</td><td></td><td></td><td></td><td>nhanes</td><td></td><td>false</td><td>0.00</td><td>    1.00</td><td>FALSE</td><td></td></tr>\n",
       "</tbody>\n",
       "</table>\n"
      ],
      "text/latex": [
       "A data.frame: 10 × 15\n",
       "\\begin{tabular}{r|lllllllllllllll}\n",
       "  & name & var\\_id & var\\_name & var\\_description & data\\_type & group\\_id & group\\_name & group\\_description & study\\_id & study\\_description & is\\_stigmatized & min & max & categorical & values\\\\\n",
       "  & <chr> & <chr> & <chr> & <chr> & <chr> & <chr> & <chr> & <chr> & <chr> & <chr> & <chr> & <dbl> & <dbl> & <lgl> & <chr>\\\\\n",
       "\\hline\n",
       "\t1 & \\textbackslash{}nhanes\\textbackslash{}questionnaire\\_food\\_component\\_recall\\textbackslash{}Total\\_home\\_tap\\_water\\_drank\\_yesterday(gm)\\textbackslash{} & Total\\_home\\_tap\\_water\\_drank\\_yesterday(gm) & Total\\_home\\_tap\\_water\\_drank\\_yesterday(gm) &  & continuous &  &  &  & nhanes &  & false & 0.00 & 52864.00 & FALSE & \\\\\n",
       "\t2 & \\textbackslash{}nhanes\\textbackslash{}questionnaire\\_street\\_drug\\textbackslash{}\\#days\\_used\\_needle\\_for\\_street\\_drugs/year\\textbackslash{}            & \\#days\\_used\\_needle\\_for\\_street\\_drugs/year  & \\#days\\_used\\_needle\\_for\\_street\\_drugs/year  &  & continuous &  &  &  & nhanes &  & false & 0.00 &    60.00 & FALSE & \\\\\n",
       "\t3 & \\textbackslash{}nhanes\\textbackslash{}laboratory\\_blood\\textbackslash{}Red\\_blood\\_cell\\_count\\_(million\\_cells/uL)\\textbackslash{}                     & Red\\_blood\\_cell\\_count\\_(million\\_cells/uL)  & Red\\_blood\\_cell\\_count\\_(million\\_cells/uL)  &  & continuous &  &  &  & nhanes &  & false & 1.71 &     9.16 & FALSE & \\\\\n",
       "\t4 & \\textbackslash{}nhanes\\textbackslash{}questionnaire\\_street\\_drug\\textbackslash{}\\#days\\_used\\_street\\_drugs\\_over\\_past\\_year\\textbackslash{}             & \\#days\\_used\\_street\\_drugs\\_over\\_past\\_year   & \\#days\\_used\\_street\\_drugs\\_over\\_past\\_year   &  & continuous &  &  &  & nhanes &  & false & 0.00 &    65.00 & FALSE & \\\\\n",
       "\t5 & \\textbackslash{}nhanes\\textbackslash{}questionnaire\\_food\\_component\\_recall\\textbackslash{}\\#\\_of\\_times\\_other\\_fish\\_eaten\\_past\\_30\\_days\\textbackslash{} & \\#\\_of\\_times\\_other\\_fish\\_eaten\\_past\\_30\\_days & \\#\\_of\\_times\\_other\\_fish\\_eaten\\_past\\_30\\_days &  & continuous &  &  &  & nhanes &  & false & 1.00 &    30.00 & FALSE & \\\\\n",
       "\t6 & \\textbackslash{}nhanes\\textbackslash{}questionnaire\\_viral\\_infection\\textbackslash{}Doctor\\_ever\\_told\\_you\\_had\\_genital\\_warts\\textbackslash{}         & Doctor\\_ever\\_told\\_you\\_had\\_genital\\_warts   & Doctor\\_ever\\_told\\_you\\_had\\_genital\\_warts   &  & continuous &  &  &  & nhanes &  & false & 0.00 &     1.00 & FALSE & \\\\\n",
       "\t7 & \\textbackslash{}nhanes\\textbackslash{}questionnaire\\_food\\_component\\_recall\\textbackslash{}Breaded\\_fish\\_products\\_eaten\\_past\\_30\\_days\\textbackslash{} & Breaded\\_fish\\_products\\_eaten\\_past\\_30\\_days & Breaded\\_fish\\_products\\_eaten\\_past\\_30\\_days &  & continuous &  &  &  & nhanes &  & false & 0.00 &     1.00 & FALSE & \\\\\n",
       "\t8 & \\textbackslash{}nhanes\\textbackslash{}questionnaire\\_street\\_drug\\textbackslash{}Ever\\_used\\_cocaine\\_or\\_other\\_street\\_drug\\textbackslash{}             & Ever\\_used\\_cocaine\\_or\\_other\\_street\\_drug   & Ever\\_used\\_cocaine\\_or\\_other\\_street\\_drug   &  & continuous &  &  &  & nhanes &  & false & 0.00 &     1.00 & FALSE & \\\\\n",
       "\t9 & \\textbackslash{}nhanes\\textbackslash{}questionnaire\\_street\\_drug\\textbackslash{}Ever\\_use\\_a\\_needle\\_to\\_inject\\_illegal\\_drug\\textbackslash{}           & Ever\\_use\\_a\\_needle\\_to\\_inject\\_illegal\\_drug & Ever\\_use\\_a\\_needle\\_to\\_inject\\_illegal\\_drug &  & continuous &  &  &  & nhanes &  & false & 0.00 &     1.00 & FALSE & \\\\\n",
       "\t10 & \\textbackslash{}nhanes\\textbackslash{}questionnaire\\_viral\\_infection\\textbackslash{}Doctor\\_ever\\_told\\_you\\_had\\_genital\\_herpes\\textbackslash{}        & Doctor\\_ever\\_told\\_you\\_had\\_genital\\_herpes  & Doctor\\_ever\\_told\\_you\\_had\\_genital\\_herpes  &  & continuous &  &  &  & nhanes &  & false & 0.00 &     1.00 & FALSE & \\\\\n",
       "\\end{tabular}\n"
      ],
      "text/markdown": [
       "\n",
       "A data.frame: 10 × 15\n",
       "\n",
       "| <!--/--> | name &lt;chr&gt; | var_id &lt;chr&gt; | var_name &lt;chr&gt; | var_description &lt;chr&gt; | data_type &lt;chr&gt; | group_id &lt;chr&gt; | group_name &lt;chr&gt; | group_description &lt;chr&gt; | study_id &lt;chr&gt; | study_description &lt;chr&gt; | is_stigmatized &lt;chr&gt; | min &lt;dbl&gt; | max &lt;dbl&gt; | categorical &lt;lgl&gt; | values &lt;chr&gt; |\n",
       "|---|---|---|---|---|---|---|---|---|---|---|---|---|---|---|---|\n",
       "| 1 | \\nhanes\\questionnaire_food_component_recall\\Total_home_tap_water_drank_yesterday(gm)\\ | Total_home_tap_water_drank_yesterday(gm) | Total_home_tap_water_drank_yesterday(gm) | <!----> | continuous | <!----> | <!----> | <!----> | nhanes | <!----> | false | 0.00 | 52864.00 | FALSE | <!----> |\n",
       "| 2 | \\nhanes\\questionnaire_street_drug\\#days_used_needle_for_street_drugs/year\\            | #days_used_needle_for_street_drugs/year  | #days_used_needle_for_street_drugs/year  | <!----> | continuous | <!----> | <!----> | <!----> | nhanes | <!----> | false | 0.00 |    60.00 | FALSE | <!----> |\n",
       "| 3 | \\nhanes\\laboratory_blood\\Red_blood_cell_count_(million_cells/uL)\\                     | Red_blood_cell_count_(million_cells/uL)  | Red_blood_cell_count_(million_cells/uL)  | <!----> | continuous | <!----> | <!----> | <!----> | nhanes | <!----> | false | 1.71 |     9.16 | FALSE | <!----> |\n",
       "| 4 | \\nhanes\\questionnaire_street_drug\\#days_used_street_drugs_over_past_year\\             | #days_used_street_drugs_over_past_year   | #days_used_street_drugs_over_past_year   | <!----> | continuous | <!----> | <!----> | <!----> | nhanes | <!----> | false | 0.00 |    65.00 | FALSE | <!----> |\n",
       "| 5 | \\nhanes\\questionnaire_food_component_recall\\#_of_times_other_fish_eaten_past_30_days\\ | #_of_times_other_fish_eaten_past_30_days | #_of_times_other_fish_eaten_past_30_days | <!----> | continuous | <!----> | <!----> | <!----> | nhanes | <!----> | false | 1.00 |    30.00 | FALSE | <!----> |\n",
       "| 6 | \\nhanes\\questionnaire_viral_infection\\Doctor_ever_told_you_had_genital_warts\\         | Doctor_ever_told_you_had_genital_warts   | Doctor_ever_told_you_had_genital_warts   | <!----> | continuous | <!----> | <!----> | <!----> | nhanes | <!----> | false | 0.00 |     1.00 | FALSE | <!----> |\n",
       "| 7 | \\nhanes\\questionnaire_food_component_recall\\Breaded_fish_products_eaten_past_30_days\\ | Breaded_fish_products_eaten_past_30_days | Breaded_fish_products_eaten_past_30_days | <!----> | continuous | <!----> | <!----> | <!----> | nhanes | <!----> | false | 0.00 |     1.00 | FALSE | <!----> |\n",
       "| 8 | \\nhanes\\questionnaire_street_drug\\Ever_used_cocaine_or_other_street_drug\\             | Ever_used_cocaine_or_other_street_drug   | Ever_used_cocaine_or_other_street_drug   | <!----> | continuous | <!----> | <!----> | <!----> | nhanes | <!----> | false | 0.00 |     1.00 | FALSE | <!----> |\n",
       "| 9 | \\nhanes\\questionnaire_street_drug\\Ever_use_a_needle_to_inject_illegal_drug\\           | Ever_use_a_needle_to_inject_illegal_drug | Ever_use_a_needle_to_inject_illegal_drug | <!----> | continuous | <!----> | <!----> | <!----> | nhanes | <!----> | false | 0.00 |     1.00 | FALSE | <!----> |\n",
       "| 10 | \\nhanes\\questionnaire_viral_infection\\Doctor_ever_told_you_had_genital_herpes\\        | Doctor_ever_told_you_had_genital_herpes  | Doctor_ever_told_you_had_genital_herpes  | <!----> | continuous | <!----> | <!----> | <!----> | nhanes | <!----> | false | 0.00 |     1.00 | FALSE | <!----> |\n",
       "\n"
      ],
      "text/plain": [
       "   name                                                                                     \n",
       "1  \\\\nhanes\\\\questionnaire_food_component_recall\\\\Total_home_tap_water_drank_yesterday(gm)\\\\\n",
       "2  \\\\nhanes\\\\questionnaire_street_drug\\\\#days_used_needle_for_street_drugs/year\\\\           \n",
       "3  \\\\nhanes\\\\laboratory_blood\\\\Red_blood_cell_count_(million_cells/uL)\\\\                    \n",
       "4  \\\\nhanes\\\\questionnaire_street_drug\\\\#days_used_street_drugs_over_past_year\\\\            \n",
       "5  \\\\nhanes\\\\questionnaire_food_component_recall\\\\#_of_times_other_fish_eaten_past_30_days\\\\\n",
       "6  \\\\nhanes\\\\questionnaire_viral_infection\\\\Doctor_ever_told_you_had_genital_warts\\\\        \n",
       "7  \\\\nhanes\\\\questionnaire_food_component_recall\\\\Breaded_fish_products_eaten_past_30_days\\\\\n",
       "8  \\\\nhanes\\\\questionnaire_street_drug\\\\Ever_used_cocaine_or_other_street_drug\\\\            \n",
       "9  \\\\nhanes\\\\questionnaire_street_drug\\\\Ever_use_a_needle_to_inject_illegal_drug\\\\          \n",
       "10 \\\\nhanes\\\\questionnaire_viral_infection\\\\Doctor_ever_told_you_had_genital_herpes\\\\       \n",
       "   var_id                                  \n",
       "1  Total_home_tap_water_drank_yesterday(gm)\n",
       "2  #days_used_needle_for_street_drugs/year \n",
       "3  Red_blood_cell_count_(million_cells/uL) \n",
       "4  #days_used_street_drugs_over_past_year  \n",
       "5  #_of_times_other_fish_eaten_past_30_days\n",
       "6  Doctor_ever_told_you_had_genital_warts  \n",
       "7  Breaded_fish_products_eaten_past_30_days\n",
       "8  Ever_used_cocaine_or_other_street_drug  \n",
       "9  Ever_use_a_needle_to_inject_illegal_drug\n",
       "10 Doctor_ever_told_you_had_genital_herpes \n",
       "   var_name                                 var_description data_type  group_id\n",
       "1  Total_home_tap_water_drank_yesterday(gm)                 continuous         \n",
       "2  #days_used_needle_for_street_drugs/year                  continuous         \n",
       "3  Red_blood_cell_count_(million_cells/uL)                  continuous         \n",
       "4  #days_used_street_drugs_over_past_year                   continuous         \n",
       "5  #_of_times_other_fish_eaten_past_30_days                 continuous         \n",
       "6  Doctor_ever_told_you_had_genital_warts                   continuous         \n",
       "7  Breaded_fish_products_eaten_past_30_days                 continuous         \n",
       "8  Ever_used_cocaine_or_other_street_drug                   continuous         \n",
       "9  Ever_use_a_needle_to_inject_illegal_drug                 continuous         \n",
       "10 Doctor_ever_told_you_had_genital_herpes                  continuous         \n",
       "   group_name group_description study_id study_description is_stigmatized min \n",
       "1                               nhanes                     false          0.00\n",
       "2                               nhanes                     false          0.00\n",
       "3                               nhanes                     false          1.71\n",
       "4                               nhanes                     false          0.00\n",
       "5                               nhanes                     false          1.00\n",
       "6                               nhanes                     false          0.00\n",
       "7                               nhanes                     false          0.00\n",
       "8                               nhanes                     false          0.00\n",
       "9                               nhanes                     false          0.00\n",
       "10                              nhanes                     false          0.00\n",
       "   max      categorical values\n",
       "1  52864.00 FALSE             \n",
       "2     60.00 FALSE             \n",
       "3      9.16 FALSE             \n",
       "4     65.00 FALSE             \n",
       "5     30.00 FALSE             \n",
       "6      1.00 FALSE             \n",
       "7      1.00 FALSE             \n",
       "8      1.00 FALSE             \n",
       "9      1.00 FALSE             \n",
       "10     1.00 FALSE             "
      ]
     },
     "metadata": {},
     "output_type": "display_data"
    }
   ],
   "source": [
    "# List the first 10 variables you have access to\n",
    "datadict_df <- picsure::bdc.searchPicsure(session)\n",
    "head(datadict_df, 10)"
   ]
  },
  {
   "cell_type": "code",
   "execution_count": 9,
   "metadata": {},
   "outputs": [
    {
     "data": {
      "text/html": [
       "<table class=\"dataframe\">\n",
       "<caption>A data.frame: 26 × 15</caption>\n",
       "<thead>\n",
       "\t<tr><th scope=col>name</th><th scope=col>var_id</th><th scope=col>var_name</th><th scope=col>var_description</th><th scope=col>data_type</th><th scope=col>group_id</th><th scope=col>group_name</th><th scope=col>group_description</th><th scope=col>study_id</th><th scope=col>study_description</th><th scope=col>is_stigmatized</th><th scope=col>min</th><th scope=col>max</th><th scope=col>categorical</th><th scope=col>values</th></tr>\n",
       "\t<tr><th scope=col>&lt;chr&gt;</th><th scope=col>&lt;chr&gt;</th><th scope=col>&lt;chr&gt;</th><th scope=col>&lt;chr&gt;</th><th scope=col>&lt;chr&gt;</th><th scope=col>&lt;chr&gt;</th><th scope=col>&lt;chr&gt;</th><th scope=col>&lt;chr&gt;</th><th scope=col>&lt;chr&gt;</th><th scope=col>&lt;chr&gt;</th><th scope=col>&lt;chr&gt;</th><th scope=col>&lt;dbl&gt;</th><th scope=col>&lt;dbl&gt;</th><th scope=col>&lt;lgl&gt;</th><th scope=col>&lt;chr&gt;</th></tr>\n",
       "</thead>\n",
       "<tbody>\n",
       "\t<tr><td>\\nhanes\\questionnaire_pharmaceutical\\Age_started_estrogen/progestin_patches\\    </td><td>Age_started_estrogen/progestin_patches  </td><td>Age_started_estrogen/progestin_patches  </td><td></td><td>continuous</td><td></td><td></td><td></td><td>nhanes</td><td></td><td>false</td><td>21</td><td> 67</td><td>FALSE</td><td></td></tr>\n",
       "\t<tr><td>\\nhanes\\questionnaire_smoking_behavior\\Age_started_pipe_smoking_regularly\\      </td><td>Age_started_pipe_smoking_regularly      </td><td>Age_started_pipe_smoking_regularly      </td><td></td><td>continuous</td><td></td><td></td><td></td><td>nhanes</td><td></td><td>false</td><td> 6</td><td> 79</td><td>FALSE</td><td></td></tr>\n",
       "\t<tr><td>\\nhanes\\questionnaire_pharmaceutical\\Age_started_estrogen/progestin_pills\\      </td><td>Age_started_estrogen/progestin_pills    </td><td>Age_started_estrogen/progestin_pills    </td><td></td><td>continuous</td><td></td><td></td><td></td><td>nhanes</td><td></td><td>false</td><td>17</td><td> 85</td><td>FALSE</td><td></td></tr>\n",
       "\t<tr><td>\\nhanes\\questionnaire_smoking_behavior\\Age_started_using_snuff_regularly\\       </td><td>Age_started_using_snuff_regularly       </td><td>Age_started_using_snuff_regularly       </td><td></td><td>continuous</td><td></td><td></td><td></td><td>nhanes</td><td></td><td>false</td><td> 7</td><td> 76</td><td>FALSE</td><td></td></tr>\n",
       "\t<tr><td>\\nhanes\\questionnaire_street_drug\\Age_when_first_tried_marijuana\\               </td><td>Age_when_first_tried_marijuana          </td><td>Age_when_first_tried_marijuana          </td><td></td><td>continuous</td><td></td><td></td><td></td><td>nhanes</td><td></td><td>false</td><td> 1</td><td> 45</td><td>FALSE</td><td></td></tr>\n",
       "\t<tr><td>\\nhanes\\questionnaire_street_drug\\Age_first_used_cocaine\\                       </td><td>Age_first_used_cocaine                  </td><td>Age_first_used_cocaine                  </td><td></td><td>continuous</td><td></td><td></td><td></td><td>nhanes</td><td></td><td>false</td><td> 2</td><td> 59</td><td>FALSE</td><td></td></tr>\n",
       "\t<tr><td>\\nhanes\\questionnaire_smoking_behavior\\Age_started_cigar_smoking_regularly\\     </td><td>Age_started_cigar_smoking_regularly     </td><td>Age_started_cigar_smoking_regularly     </td><td></td><td>continuous</td><td></td><td></td><td></td><td>nhanes</td><td></td><td>false</td><td> 6</td><td> 84</td><td>FALSE</td><td></td></tr>\n",
       "\t<tr><td>\\nhanes\\questionnaire_smoking_behavior\\Age_last_smoked_cigarettes_regularly\\    </td><td>Age_last_smoked_cigarettes_regularly    </td><td>Age_last_smoked_cigarettes_regularly    </td><td></td><td>continuous</td><td></td><td></td><td></td><td>nhanes</td><td></td><td>false</td><td> 1</td><td> 85</td><td>FALSE</td><td></td></tr>\n",
       "\t<tr><td>\\nhanes\\questionnaire_pharmaceutical\\Age_started_progestin-only_pills\\          </td><td>Age_started_progestin-only_pills        </td><td>Age_started_progestin-only_pills        </td><td></td><td>continuous</td><td></td><td></td><td></td><td>nhanes</td><td></td><td>false</td><td>13</td><td> 78</td><td>FALSE</td><td></td></tr>\n",
       "\t<tr><td>\\nhanes\\questionnaire_street_drug\\Age_first_used_methamphetamine\\               </td><td>Age_first_used_methamphetamine          </td><td>Age_first_used_methamphetamine          </td><td></td><td>continuous</td><td></td><td></td><td></td><td>nhanes</td><td></td><td>false</td><td>12</td><td> 45</td><td>FALSE</td><td></td></tr>\n",
       "\t<tr><td>\\nhanes\\questionnaire_smoking_behavior\\Age_started_chewing_tobacco_regularly\\   </td><td>Age_started_chewing_tobacco_regularly   </td><td>Age_started_chewing_tobacco_regularly   </td><td></td><td>continuous</td><td></td><td></td><td></td><td>nhanes</td><td></td><td>false</td><td> 4</td><td> 84</td><td>FALSE</td><td></td></tr>\n",
       "\t<tr><td>\\nhanes\\questionnaire_smoking_behavior\\Age_started_smoking_cigarettes_regularly\\</td><td>Age_started_smoking_cigarettes_regularly</td><td>Age_started_smoking_cigarettes_regularly</td><td></td><td>continuous</td><td></td><td></td><td></td><td>nhanes</td><td></td><td>false</td><td> 5</td><td> 77</td><td>FALSE</td><td></td></tr>\n",
       "\t<tr><td>\\nhanes\\questionnaire_street_drug\\Age_first_used_heroin\\                        </td><td>Age_first_used_heroin                   </td><td>Age_first_used_heroin                   </td><td></td><td>continuous</td><td></td><td></td><td></td><td>nhanes</td><td></td><td>false</td><td>12</td><td> 40</td><td>FALSE</td><td></td></tr>\n",
       "\t<tr><td>\\nhanes\\questionnaire_pharmaceutical\\age_started_birth_control\\                 </td><td>age_started_birth_control               </td><td>age_started_birth_control               </td><td></td><td>continuous</td><td></td><td></td><td></td><td>nhanes</td><td></td><td>false</td><td> 9</td><td> 59</td><td>FALSE</td><td></td></tr>\n",
       "\t<tr><td>\\nhanes\\questionnaire_housing\\house_age\\                                        </td><td>house_age                               </td><td>house_age                               </td><td></td><td>continuous</td><td></td><td></td><td></td><td>nhanes</td><td></td><td>false</td><td> 1</td><td> 77</td><td>FALSE</td><td></td></tr>\n",
       "\t<tr><td>\\nhanes\\questionnaire_pharmaceutical\\age_stopped_birth_control\\                 </td><td>age_stopped_birth_control               </td><td>age_stopped_birth_control               </td><td></td><td>continuous</td><td></td><td></td><td></td><td>nhanes</td><td></td><td>false</td><td>10</td><td> 60</td><td>FALSE</td><td></td></tr>\n",
       "\t<tr><td>\\nhanes\\questionnaire_pharmaceutical\\Age_started_estrogen-only_patches\\         </td><td>Age_started_estrogen-only_patches       </td><td>Age_started_estrogen-only_patches       </td><td></td><td>continuous</td><td></td><td></td><td></td><td>nhanes</td><td></td><td>false</td><td>20</td><td> 85</td><td>FALSE</td><td></td></tr>\n",
       "\t<tr><td>\\nhanes\\questionnaire_pharmaceutical\\Age_started_estrogen-only_pills\\           </td><td>Age_started_estrogen-only_pills         </td><td>Age_started_estrogen-only_pills         </td><td></td><td>continuous</td><td></td><td></td><td></td><td>nhanes</td><td></td><td>false</td><td>11</td><td> 85</td><td>FALSE</td><td></td></tr>\n",
       "\t<tr><td>\\nhanes\\demographics\\AGE\\                                                       </td><td>AGE                                     </td><td>AGE                                     </td><td></td><td>continuous</td><td></td><td></td><td></td><td>nhanes</td><td></td><td>false</td><td> 0</td><td> 85</td><td>FALSE</td><td></td></tr>\n",
       "\t<tr><td>\\nhanes\\examination_physical_fitness\\Stage_2_diastolic_BP_(mm_Hg)\\              </td><td>Stage_2_diastolic_BP_(mm_Hg)            </td><td>Stage_2_diastolic_BP_(mm_Hg)            </td><td></td><td>continuous</td><td></td><td></td><td></td><td>nhanes</td><td></td><td>false</td><td>38</td><td>159</td><td>FALSE</td><td></td></tr>\n",
       "\t<tr><td>\\nhanes\\examination_physical_fitness\\Stage_1_systolic_BP_(mm_Hg)\\               </td><td>Stage_1_systolic_BP_(mm_Hg)             </td><td>Stage_1_systolic_BP_(mm_Hg)             </td><td></td><td>continuous</td><td></td><td></td><td></td><td>nhanes</td><td></td><td>false</td><td>53</td><td>289</td><td>FALSE</td><td></td></tr>\n",
       "\t<tr><td>\\nhanes\\questionnaire_occupation\\occupation_midmanage\\                          </td><td>occupation_midmanage                    </td><td>occupation_midmanage                    </td><td></td><td>continuous</td><td></td><td></td><td></td><td>nhanes</td><td></td><td>false</td><td> 1</td><td>  1</td><td>FALSE</td><td></td></tr>\n",
       "\t<tr><td>\\nhanes\\examination_physical_fitness\\Stage_1_diastolic_BP_(mm_Hg)\\              </td><td>Stage_1_diastolic_BP_(mm_Hg)            </td><td>Stage_1_diastolic_BP_(mm_Hg)            </td><td></td><td>continuous</td><td></td><td></td><td></td><td>nhanes</td><td></td><td>false</td><td>36</td><td>130</td><td>FALSE</td><td></td></tr>\n",
       "\t<tr><td>\\nhanes\\examination_physical_fitness\\Stage_2_systolic_BP_(mm_Hg)\\               </td><td>Stage_2_systolic_BP_(mm_Hg)             </td><td>Stage_2_systolic_BP_(mm_Hg)             </td><td></td><td>continuous</td><td></td><td></td><td></td><td>nhanes</td><td></td><td>false</td><td>62</td><td>278</td><td>FALSE</td><td></td></tr>\n",
       "\t<tr><td>\\nhanes\\examination_physical_fitness\\Stage_2_heart_rate_(per_min)\\              </td><td>Stage_2_heart_rate_(per_min)            </td><td>Stage_2_heart_rate_(per_min)            </td><td></td><td>continuous</td><td></td><td></td><td></td><td>nhanes</td><td></td><td>false</td><td>83</td><td>202</td><td>FALSE</td><td></td></tr>\n",
       "\t<tr><td>\\nhanes\\examination_physical_fitness\\Stage_1_heart_rate_(per_min)\\              </td><td>Stage_1_heart_rate_(per_min)            </td><td>Stage_1_heart_rate_(per_min)            </td><td></td><td>continuous</td><td></td><td></td><td></td><td>nhanes</td><td></td><td>false</td><td>61</td><td>186</td><td>FALSE</td><td></td></tr>\n",
       "</tbody>\n",
       "</table>\n"
      ],
      "text/latex": [
       "A data.frame: 26 × 15\n",
       "\\begin{tabular}{lllllllllllllll}\n",
       " name & var\\_id & var\\_name & var\\_description & data\\_type & group\\_id & group\\_name & group\\_description & study\\_id & study\\_description & is\\_stigmatized & min & max & categorical & values\\\\\n",
       " <chr> & <chr> & <chr> & <chr> & <chr> & <chr> & <chr> & <chr> & <chr> & <chr> & <chr> & <dbl> & <dbl> & <lgl> & <chr>\\\\\n",
       "\\hline\n",
       "\t \\textbackslash{}nhanes\\textbackslash{}questionnaire\\_pharmaceutical\\textbackslash{}Age\\_started\\_estrogen/progestin\\_patches\\textbackslash{}     & Age\\_started\\_estrogen/progestin\\_patches   & Age\\_started\\_estrogen/progestin\\_patches   &  & continuous &  &  &  & nhanes &  & false & 21 &  67 & FALSE & \\\\\n",
       "\t \\textbackslash{}nhanes\\textbackslash{}questionnaire\\_smoking\\_behavior\\textbackslash{}Age\\_started\\_pipe\\_smoking\\_regularly\\textbackslash{}       & Age\\_started\\_pipe\\_smoking\\_regularly       & Age\\_started\\_pipe\\_smoking\\_regularly       &  & continuous &  &  &  & nhanes &  & false &  6 &  79 & FALSE & \\\\\n",
       "\t \\textbackslash{}nhanes\\textbackslash{}questionnaire\\_pharmaceutical\\textbackslash{}Age\\_started\\_estrogen/progestin\\_pills\\textbackslash{}       & Age\\_started\\_estrogen/progestin\\_pills     & Age\\_started\\_estrogen/progestin\\_pills     &  & continuous &  &  &  & nhanes &  & false & 17 &  85 & FALSE & \\\\\n",
       "\t \\textbackslash{}nhanes\\textbackslash{}questionnaire\\_smoking\\_behavior\\textbackslash{}Age\\_started\\_using\\_snuff\\_regularly\\textbackslash{}        & Age\\_started\\_using\\_snuff\\_regularly        & Age\\_started\\_using\\_snuff\\_regularly        &  & continuous &  &  &  & nhanes &  & false &  7 &  76 & FALSE & \\\\\n",
       "\t \\textbackslash{}nhanes\\textbackslash{}questionnaire\\_street\\_drug\\textbackslash{}Age\\_when\\_first\\_tried\\_marijuana\\textbackslash{}                & Age\\_when\\_first\\_tried\\_marijuana           & Age\\_when\\_first\\_tried\\_marijuana           &  & continuous &  &  &  & nhanes &  & false &  1 &  45 & FALSE & \\\\\n",
       "\t \\textbackslash{}nhanes\\textbackslash{}questionnaire\\_street\\_drug\\textbackslash{}Age\\_first\\_used\\_cocaine\\textbackslash{}                        & Age\\_first\\_used\\_cocaine                   & Age\\_first\\_used\\_cocaine                   &  & continuous &  &  &  & nhanes &  & false &  2 &  59 & FALSE & \\\\\n",
       "\t \\textbackslash{}nhanes\\textbackslash{}questionnaire\\_smoking\\_behavior\\textbackslash{}Age\\_started\\_cigar\\_smoking\\_regularly\\textbackslash{}      & Age\\_started\\_cigar\\_smoking\\_regularly      & Age\\_started\\_cigar\\_smoking\\_regularly      &  & continuous &  &  &  & nhanes &  & false &  6 &  84 & FALSE & \\\\\n",
       "\t \\textbackslash{}nhanes\\textbackslash{}questionnaire\\_smoking\\_behavior\\textbackslash{}Age\\_last\\_smoked\\_cigarettes\\_regularly\\textbackslash{}     & Age\\_last\\_smoked\\_cigarettes\\_regularly     & Age\\_last\\_smoked\\_cigarettes\\_regularly     &  & continuous &  &  &  & nhanes &  & false &  1 &  85 & FALSE & \\\\\n",
       "\t \\textbackslash{}nhanes\\textbackslash{}questionnaire\\_pharmaceutical\\textbackslash{}Age\\_started\\_progestin-only\\_pills\\textbackslash{}           & Age\\_started\\_progestin-only\\_pills         & Age\\_started\\_progestin-only\\_pills         &  & continuous &  &  &  & nhanes &  & false & 13 &  78 & FALSE & \\\\\n",
       "\t \\textbackslash{}nhanes\\textbackslash{}questionnaire\\_street\\_drug\\textbackslash{}Age\\_first\\_used\\_methamphetamine\\textbackslash{}                & Age\\_first\\_used\\_methamphetamine           & Age\\_first\\_used\\_methamphetamine           &  & continuous &  &  &  & nhanes &  & false & 12 &  45 & FALSE & \\\\\n",
       "\t \\textbackslash{}nhanes\\textbackslash{}questionnaire\\_smoking\\_behavior\\textbackslash{}Age\\_started\\_chewing\\_tobacco\\_regularly\\textbackslash{}    & Age\\_started\\_chewing\\_tobacco\\_regularly    & Age\\_started\\_chewing\\_tobacco\\_regularly    &  & continuous &  &  &  & nhanes &  & false &  4 &  84 & FALSE & \\\\\n",
       "\t \\textbackslash{}nhanes\\textbackslash{}questionnaire\\_smoking\\_behavior\\textbackslash{}Age\\_started\\_smoking\\_cigarettes\\_regularly\\textbackslash{} & Age\\_started\\_smoking\\_cigarettes\\_regularly & Age\\_started\\_smoking\\_cigarettes\\_regularly &  & continuous &  &  &  & nhanes &  & false &  5 &  77 & FALSE & \\\\\n",
       "\t \\textbackslash{}nhanes\\textbackslash{}questionnaire\\_street\\_drug\\textbackslash{}Age\\_first\\_used\\_heroin\\textbackslash{}                         & Age\\_first\\_used\\_heroin                    & Age\\_first\\_used\\_heroin                    &  & continuous &  &  &  & nhanes &  & false & 12 &  40 & FALSE & \\\\\n",
       "\t \\textbackslash{}nhanes\\textbackslash{}questionnaire\\_pharmaceutical\\textbackslash{}age\\_started\\_birth\\_control\\textbackslash{}                  & age\\_started\\_birth\\_control                & age\\_started\\_birth\\_control                &  & continuous &  &  &  & nhanes &  & false &  9 &  59 & FALSE & \\\\\n",
       "\t \\textbackslash{}nhanes\\textbackslash{}questionnaire\\_housing\\textbackslash{}house\\_age\\textbackslash{}                                         & house\\_age                                & house\\_age                                &  & continuous &  &  &  & nhanes &  & false &  1 &  77 & FALSE & \\\\\n",
       "\t \\textbackslash{}nhanes\\textbackslash{}questionnaire\\_pharmaceutical\\textbackslash{}age\\_stopped\\_birth\\_control\\textbackslash{}                  & age\\_stopped\\_birth\\_control                & age\\_stopped\\_birth\\_control                &  & continuous &  &  &  & nhanes &  & false & 10 &  60 & FALSE & \\\\\n",
       "\t \\textbackslash{}nhanes\\textbackslash{}questionnaire\\_pharmaceutical\\textbackslash{}Age\\_started\\_estrogen-only\\_patches\\textbackslash{}          & Age\\_started\\_estrogen-only\\_patches        & Age\\_started\\_estrogen-only\\_patches        &  & continuous &  &  &  & nhanes &  & false & 20 &  85 & FALSE & \\\\\n",
       "\t \\textbackslash{}nhanes\\textbackslash{}questionnaire\\_pharmaceutical\\textbackslash{}Age\\_started\\_estrogen-only\\_pills\\textbackslash{}            & Age\\_started\\_estrogen-only\\_pills          & Age\\_started\\_estrogen-only\\_pills          &  & continuous &  &  &  & nhanes &  & false & 11 &  85 & FALSE & \\\\\n",
       "\t \\textbackslash{}nhanes\\textbackslash{}demographics\\textbackslash{}AGE\\textbackslash{}                                                        & AGE                                      & AGE                                      &  & continuous &  &  &  & nhanes &  & false &  0 &  85 & FALSE & \\\\\n",
       "\t \\textbackslash{}nhanes\\textbackslash{}examination\\_physical\\_fitness\\textbackslash{}Stage\\_2\\_diastolic\\_BP\\_(mm\\_Hg)\\textbackslash{}               & Stage\\_2\\_diastolic\\_BP\\_(mm\\_Hg)             & Stage\\_2\\_diastolic\\_BP\\_(mm\\_Hg)             &  & continuous &  &  &  & nhanes &  & false & 38 & 159 & FALSE & \\\\\n",
       "\t \\textbackslash{}nhanes\\textbackslash{}examination\\_physical\\_fitness\\textbackslash{}Stage\\_1\\_systolic\\_BP\\_(mm\\_Hg)\\textbackslash{}                & Stage\\_1\\_systolic\\_BP\\_(mm\\_Hg)              & Stage\\_1\\_systolic\\_BP\\_(mm\\_Hg)              &  & continuous &  &  &  & nhanes &  & false & 53 & 289 & FALSE & \\\\\n",
       "\t \\textbackslash{}nhanes\\textbackslash{}questionnaire\\_occupation\\textbackslash{}occupation\\_midmanage\\textbackslash{}                           & occupation\\_midmanage                     & occupation\\_midmanage                     &  & continuous &  &  &  & nhanes &  & false &  1 &   1 & FALSE & \\\\\n",
       "\t \\textbackslash{}nhanes\\textbackslash{}examination\\_physical\\_fitness\\textbackslash{}Stage\\_1\\_diastolic\\_BP\\_(mm\\_Hg)\\textbackslash{}               & Stage\\_1\\_diastolic\\_BP\\_(mm\\_Hg)             & Stage\\_1\\_diastolic\\_BP\\_(mm\\_Hg)             &  & continuous &  &  &  & nhanes &  & false & 36 & 130 & FALSE & \\\\\n",
       "\t \\textbackslash{}nhanes\\textbackslash{}examination\\_physical\\_fitness\\textbackslash{}Stage\\_2\\_systolic\\_BP\\_(mm\\_Hg)\\textbackslash{}                & Stage\\_2\\_systolic\\_BP\\_(mm\\_Hg)              & Stage\\_2\\_systolic\\_BP\\_(mm\\_Hg)              &  & continuous &  &  &  & nhanes &  & false & 62 & 278 & FALSE & \\\\\n",
       "\t \\textbackslash{}nhanes\\textbackslash{}examination\\_physical\\_fitness\\textbackslash{}Stage\\_2\\_heart\\_rate\\_(per\\_min)\\textbackslash{}               & Stage\\_2\\_heart\\_rate\\_(per\\_min)             & Stage\\_2\\_heart\\_rate\\_(per\\_min)             &  & continuous &  &  &  & nhanes &  & false & 83 & 202 & FALSE & \\\\\n",
       "\t \\textbackslash{}nhanes\\textbackslash{}examination\\_physical\\_fitness\\textbackslash{}Stage\\_1\\_heart\\_rate\\_(per\\_min)\\textbackslash{}               & Stage\\_1\\_heart\\_rate\\_(per\\_min)             & Stage\\_1\\_heart\\_rate\\_(per\\_min)             &  & continuous &  &  &  & nhanes &  & false & 61 & 186 & FALSE & \\\\\n",
       "\\end{tabular}\n"
      ],
      "text/markdown": [
       "\n",
       "A data.frame: 26 × 15\n",
       "\n",
       "| name &lt;chr&gt; | var_id &lt;chr&gt; | var_name &lt;chr&gt; | var_description &lt;chr&gt; | data_type &lt;chr&gt; | group_id &lt;chr&gt; | group_name &lt;chr&gt; | group_description &lt;chr&gt; | study_id &lt;chr&gt; | study_description &lt;chr&gt; | is_stigmatized &lt;chr&gt; | min &lt;dbl&gt; | max &lt;dbl&gt; | categorical &lt;lgl&gt; | values &lt;chr&gt; |\n",
       "|---|---|---|---|---|---|---|---|---|---|---|---|---|---|---|\n",
       "| \\nhanes\\questionnaire_pharmaceutical\\Age_started_estrogen/progestin_patches\\     | Age_started_estrogen/progestin_patches   | Age_started_estrogen/progestin_patches   | <!----> | continuous | <!----> | <!----> | <!----> | nhanes | <!----> | false | 21 |  67 | FALSE | <!----> |\n",
       "| \\nhanes\\questionnaire_smoking_behavior\\Age_started_pipe_smoking_regularly\\       | Age_started_pipe_smoking_regularly       | Age_started_pipe_smoking_regularly       | <!----> | continuous | <!----> | <!----> | <!----> | nhanes | <!----> | false |  6 |  79 | FALSE | <!----> |\n",
       "| \\nhanes\\questionnaire_pharmaceutical\\Age_started_estrogen/progestin_pills\\       | Age_started_estrogen/progestin_pills     | Age_started_estrogen/progestin_pills     | <!----> | continuous | <!----> | <!----> | <!----> | nhanes | <!----> | false | 17 |  85 | FALSE | <!----> |\n",
       "| \\nhanes\\questionnaire_smoking_behavior\\Age_started_using_snuff_regularly\\        | Age_started_using_snuff_regularly        | Age_started_using_snuff_regularly        | <!----> | continuous | <!----> | <!----> | <!----> | nhanes | <!----> | false |  7 |  76 | FALSE | <!----> |\n",
       "| \\nhanes\\questionnaire_street_drug\\Age_when_first_tried_marijuana\\                | Age_when_first_tried_marijuana           | Age_when_first_tried_marijuana           | <!----> | continuous | <!----> | <!----> | <!----> | nhanes | <!----> | false |  1 |  45 | FALSE | <!----> |\n",
       "| \\nhanes\\questionnaire_street_drug\\Age_first_used_cocaine\\                        | Age_first_used_cocaine                   | Age_first_used_cocaine                   | <!----> | continuous | <!----> | <!----> | <!----> | nhanes | <!----> | false |  2 |  59 | FALSE | <!----> |\n",
       "| \\nhanes\\questionnaire_smoking_behavior\\Age_started_cigar_smoking_regularly\\      | Age_started_cigar_smoking_regularly      | Age_started_cigar_smoking_regularly      | <!----> | continuous | <!----> | <!----> | <!----> | nhanes | <!----> | false |  6 |  84 | FALSE | <!----> |\n",
       "| \\nhanes\\questionnaire_smoking_behavior\\Age_last_smoked_cigarettes_regularly\\     | Age_last_smoked_cigarettes_regularly     | Age_last_smoked_cigarettes_regularly     | <!----> | continuous | <!----> | <!----> | <!----> | nhanes | <!----> | false |  1 |  85 | FALSE | <!----> |\n",
       "| \\nhanes\\questionnaire_pharmaceutical\\Age_started_progestin-only_pills\\           | Age_started_progestin-only_pills         | Age_started_progestin-only_pills         | <!----> | continuous | <!----> | <!----> | <!----> | nhanes | <!----> | false | 13 |  78 | FALSE | <!----> |\n",
       "| \\nhanes\\questionnaire_street_drug\\Age_first_used_methamphetamine\\                | Age_first_used_methamphetamine           | Age_first_used_methamphetamine           | <!----> | continuous | <!----> | <!----> | <!----> | nhanes | <!----> | false | 12 |  45 | FALSE | <!----> |\n",
       "| \\nhanes\\questionnaire_smoking_behavior\\Age_started_chewing_tobacco_regularly\\    | Age_started_chewing_tobacco_regularly    | Age_started_chewing_tobacco_regularly    | <!----> | continuous | <!----> | <!----> | <!----> | nhanes | <!----> | false |  4 |  84 | FALSE | <!----> |\n",
       "| \\nhanes\\questionnaire_smoking_behavior\\Age_started_smoking_cigarettes_regularly\\ | Age_started_smoking_cigarettes_regularly | Age_started_smoking_cigarettes_regularly | <!----> | continuous | <!----> | <!----> | <!----> | nhanes | <!----> | false |  5 |  77 | FALSE | <!----> |\n",
       "| \\nhanes\\questionnaire_street_drug\\Age_first_used_heroin\\                         | Age_first_used_heroin                    | Age_first_used_heroin                    | <!----> | continuous | <!----> | <!----> | <!----> | nhanes | <!----> | false | 12 |  40 | FALSE | <!----> |\n",
       "| \\nhanes\\questionnaire_pharmaceutical\\age_started_birth_control\\                  | age_started_birth_control                | age_started_birth_control                | <!----> | continuous | <!----> | <!----> | <!----> | nhanes | <!----> | false |  9 |  59 | FALSE | <!----> |\n",
       "| \\nhanes\\questionnaire_housing\\house_age\\                                         | house_age                                | house_age                                | <!----> | continuous | <!----> | <!----> | <!----> | nhanes | <!----> | false |  1 |  77 | FALSE | <!----> |\n",
       "| \\nhanes\\questionnaire_pharmaceutical\\age_stopped_birth_control\\                  | age_stopped_birth_control                | age_stopped_birth_control                | <!----> | continuous | <!----> | <!----> | <!----> | nhanes | <!----> | false | 10 |  60 | FALSE | <!----> |\n",
       "| \\nhanes\\questionnaire_pharmaceutical\\Age_started_estrogen-only_patches\\          | Age_started_estrogen-only_patches        | Age_started_estrogen-only_patches        | <!----> | continuous | <!----> | <!----> | <!----> | nhanes | <!----> | false | 20 |  85 | FALSE | <!----> |\n",
       "| \\nhanes\\questionnaire_pharmaceutical\\Age_started_estrogen-only_pills\\            | Age_started_estrogen-only_pills          | Age_started_estrogen-only_pills          | <!----> | continuous | <!----> | <!----> | <!----> | nhanes | <!----> | false | 11 |  85 | FALSE | <!----> |\n",
       "| \\nhanes\\demographics\\AGE\\                                                        | AGE                                      | AGE                                      | <!----> | continuous | <!----> | <!----> | <!----> | nhanes | <!----> | false |  0 |  85 | FALSE | <!----> |\n",
       "| \\nhanes\\examination_physical_fitness\\Stage_2_diastolic_BP_(mm_Hg)\\               | Stage_2_diastolic_BP_(mm_Hg)             | Stage_2_diastolic_BP_(mm_Hg)             | <!----> | continuous | <!----> | <!----> | <!----> | nhanes | <!----> | false | 38 | 159 | FALSE | <!----> |\n",
       "| \\nhanes\\examination_physical_fitness\\Stage_1_systolic_BP_(mm_Hg)\\                | Stage_1_systolic_BP_(mm_Hg)              | Stage_1_systolic_BP_(mm_Hg)              | <!----> | continuous | <!----> | <!----> | <!----> | nhanes | <!----> | false | 53 | 289 | FALSE | <!----> |\n",
       "| \\nhanes\\questionnaire_occupation\\occupation_midmanage\\                           | occupation_midmanage                     | occupation_midmanage                     | <!----> | continuous | <!----> | <!----> | <!----> | nhanes | <!----> | false |  1 |   1 | FALSE | <!----> |\n",
       "| \\nhanes\\examination_physical_fitness\\Stage_1_diastolic_BP_(mm_Hg)\\               | Stage_1_diastolic_BP_(mm_Hg)             | Stage_1_diastolic_BP_(mm_Hg)             | <!----> | continuous | <!----> | <!----> | <!----> | nhanes | <!----> | false | 36 | 130 | FALSE | <!----> |\n",
       "| \\nhanes\\examination_physical_fitness\\Stage_2_systolic_BP_(mm_Hg)\\                | Stage_2_systolic_BP_(mm_Hg)              | Stage_2_systolic_BP_(mm_Hg)              | <!----> | continuous | <!----> | <!----> | <!----> | nhanes | <!----> | false | 62 | 278 | FALSE | <!----> |\n",
       "| \\nhanes\\examination_physical_fitness\\Stage_2_heart_rate_(per_min)\\               | Stage_2_heart_rate_(per_min)             | Stage_2_heart_rate_(per_min)             | <!----> | continuous | <!----> | <!----> | <!----> | nhanes | <!----> | false | 83 | 202 | FALSE | <!----> |\n",
       "| \\nhanes\\examination_physical_fitness\\Stage_1_heart_rate_(per_min)\\               | Stage_1_heart_rate_(per_min)             | Stage_1_heart_rate_(per_min)             | <!----> | continuous | <!----> | <!----> | <!----> | nhanes | <!----> | false | 61 | 186 | FALSE | <!----> |\n",
       "\n"
      ],
      "text/plain": [
       "   name                                                                                \n",
       "1  \\\\nhanes\\\\questionnaire_pharmaceutical\\\\Age_started_estrogen/progestin_patches\\\\    \n",
       "2  \\\\nhanes\\\\questionnaire_smoking_behavior\\\\Age_started_pipe_smoking_regularly\\\\      \n",
       "3  \\\\nhanes\\\\questionnaire_pharmaceutical\\\\Age_started_estrogen/progestin_pills\\\\      \n",
       "4  \\\\nhanes\\\\questionnaire_smoking_behavior\\\\Age_started_using_snuff_regularly\\\\       \n",
       "5  \\\\nhanes\\\\questionnaire_street_drug\\\\Age_when_first_tried_marijuana\\\\               \n",
       "6  \\\\nhanes\\\\questionnaire_street_drug\\\\Age_first_used_cocaine\\\\                       \n",
       "7  \\\\nhanes\\\\questionnaire_smoking_behavior\\\\Age_started_cigar_smoking_regularly\\\\     \n",
       "8  \\\\nhanes\\\\questionnaire_smoking_behavior\\\\Age_last_smoked_cigarettes_regularly\\\\    \n",
       "9  \\\\nhanes\\\\questionnaire_pharmaceutical\\\\Age_started_progestin-only_pills\\\\          \n",
       "10 \\\\nhanes\\\\questionnaire_street_drug\\\\Age_first_used_methamphetamine\\\\               \n",
       "11 \\\\nhanes\\\\questionnaire_smoking_behavior\\\\Age_started_chewing_tobacco_regularly\\\\   \n",
       "12 \\\\nhanes\\\\questionnaire_smoking_behavior\\\\Age_started_smoking_cigarettes_regularly\\\\\n",
       "13 \\\\nhanes\\\\questionnaire_street_drug\\\\Age_first_used_heroin\\\\                        \n",
       "14 \\\\nhanes\\\\questionnaire_pharmaceutical\\\\age_started_birth_control\\\\                 \n",
       "15 \\\\nhanes\\\\questionnaire_housing\\\\house_age\\\\                                        \n",
       "16 \\\\nhanes\\\\questionnaire_pharmaceutical\\\\age_stopped_birth_control\\\\                 \n",
       "17 \\\\nhanes\\\\questionnaire_pharmaceutical\\\\Age_started_estrogen-only_patches\\\\         \n",
       "18 \\\\nhanes\\\\questionnaire_pharmaceutical\\\\Age_started_estrogen-only_pills\\\\           \n",
       "19 \\\\nhanes\\\\demographics\\\\AGE\\\\                                                       \n",
       "20 \\\\nhanes\\\\examination_physical_fitness\\\\Stage_2_diastolic_BP_(mm_Hg)\\\\              \n",
       "21 \\\\nhanes\\\\examination_physical_fitness\\\\Stage_1_systolic_BP_(mm_Hg)\\\\               \n",
       "22 \\\\nhanes\\\\questionnaire_occupation\\\\occupation_midmanage\\\\                          \n",
       "23 \\\\nhanes\\\\examination_physical_fitness\\\\Stage_1_diastolic_BP_(mm_Hg)\\\\              \n",
       "24 \\\\nhanes\\\\examination_physical_fitness\\\\Stage_2_systolic_BP_(mm_Hg)\\\\               \n",
       "25 \\\\nhanes\\\\examination_physical_fitness\\\\Stage_2_heart_rate_(per_min)\\\\              \n",
       "26 \\\\nhanes\\\\examination_physical_fitness\\\\Stage_1_heart_rate_(per_min)\\\\              \n",
       "   var_id                                  \n",
       "1  Age_started_estrogen/progestin_patches  \n",
       "2  Age_started_pipe_smoking_regularly      \n",
       "3  Age_started_estrogen/progestin_pills    \n",
       "4  Age_started_using_snuff_regularly       \n",
       "5  Age_when_first_tried_marijuana          \n",
       "6  Age_first_used_cocaine                  \n",
       "7  Age_started_cigar_smoking_regularly     \n",
       "8  Age_last_smoked_cigarettes_regularly    \n",
       "9  Age_started_progestin-only_pills        \n",
       "10 Age_first_used_methamphetamine          \n",
       "11 Age_started_chewing_tobacco_regularly   \n",
       "12 Age_started_smoking_cigarettes_regularly\n",
       "13 Age_first_used_heroin                   \n",
       "14 age_started_birth_control               \n",
       "15 house_age                               \n",
       "16 age_stopped_birth_control               \n",
       "17 Age_started_estrogen-only_patches       \n",
       "18 Age_started_estrogen-only_pills         \n",
       "19 AGE                                     \n",
       "20 Stage_2_diastolic_BP_(mm_Hg)            \n",
       "21 Stage_1_systolic_BP_(mm_Hg)             \n",
       "22 occupation_midmanage                    \n",
       "23 Stage_1_diastolic_BP_(mm_Hg)            \n",
       "24 Stage_2_systolic_BP_(mm_Hg)             \n",
       "25 Stage_2_heart_rate_(per_min)            \n",
       "26 Stage_1_heart_rate_(per_min)            \n",
       "   var_name                                 var_description data_type  group_id\n",
       "1  Age_started_estrogen/progestin_patches                   continuous         \n",
       "2  Age_started_pipe_smoking_regularly                       continuous         \n",
       "3  Age_started_estrogen/progestin_pills                     continuous         \n",
       "4  Age_started_using_snuff_regularly                        continuous         \n",
       "5  Age_when_first_tried_marijuana                           continuous         \n",
       "6  Age_first_used_cocaine                                   continuous         \n",
       "7  Age_started_cigar_smoking_regularly                      continuous         \n",
       "8  Age_last_smoked_cigarettes_regularly                     continuous         \n",
       "9  Age_started_progestin-only_pills                         continuous         \n",
       "10 Age_first_used_methamphetamine                           continuous         \n",
       "11 Age_started_chewing_tobacco_regularly                    continuous         \n",
       "12 Age_started_smoking_cigarettes_regularly                 continuous         \n",
       "13 Age_first_used_heroin                                    continuous         \n",
       "14 age_started_birth_control                                continuous         \n",
       "15 house_age                                                continuous         \n",
       "16 age_stopped_birth_control                                continuous         \n",
       "17 Age_started_estrogen-only_patches                        continuous         \n",
       "18 Age_started_estrogen-only_pills                          continuous         \n",
       "19 AGE                                                      continuous         \n",
       "20 Stage_2_diastolic_BP_(mm_Hg)                             continuous         \n",
       "21 Stage_1_systolic_BP_(mm_Hg)                              continuous         \n",
       "22 occupation_midmanage                                     continuous         \n",
       "23 Stage_1_diastolic_BP_(mm_Hg)                             continuous         \n",
       "24 Stage_2_systolic_BP_(mm_Hg)                              continuous         \n",
       "25 Stage_2_heart_rate_(per_min)                             continuous         \n",
       "26 Stage_1_heart_rate_(per_min)                             continuous         \n",
       "   group_name group_description study_id study_description is_stigmatized min\n",
       "1                               nhanes                     false          21 \n",
       "2                               nhanes                     false           6 \n",
       "3                               nhanes                     false          17 \n",
       "4                               nhanes                     false           7 \n",
       "5                               nhanes                     false           1 \n",
       "6                               nhanes                     false           2 \n",
       "7                               nhanes                     false           6 \n",
       "8                               nhanes                     false           1 \n",
       "9                               nhanes                     false          13 \n",
       "10                              nhanes                     false          12 \n",
       "11                              nhanes                     false           4 \n",
       "12                              nhanes                     false           5 \n",
       "13                              nhanes                     false          12 \n",
       "14                              nhanes                     false           9 \n",
       "15                              nhanes                     false           1 \n",
       "16                              nhanes                     false          10 \n",
       "17                              nhanes                     false          20 \n",
       "18                              nhanes                     false          11 \n",
       "19                              nhanes                     false           0 \n",
       "20                              nhanes                     false          38 \n",
       "21                              nhanes                     false          53 \n",
       "22                              nhanes                     false           1 \n",
       "23                              nhanes                     false          36 \n",
       "24                              nhanes                     false          62 \n",
       "25                              nhanes                     false          83 \n",
       "26                              nhanes                     false          61 \n",
       "   max categorical values\n",
       "1   67 FALSE             \n",
       "2   79 FALSE             \n",
       "3   85 FALSE             \n",
       "4   76 FALSE             \n",
       "5   45 FALSE             \n",
       "6   59 FALSE             \n",
       "7   84 FALSE             \n",
       "8   85 FALSE             \n",
       "9   78 FALSE             \n",
       "10  45 FALSE             \n",
       "11  84 FALSE             \n",
       "12  77 FALSE             \n",
       "13  40 FALSE             \n",
       "14  59 FALSE             \n",
       "15  77 FALSE             \n",
       "16  60 FALSE             \n",
       "17  85 FALSE             \n",
       "18  85 FALSE             \n",
       "19  85 FALSE             \n",
       "20 159 FALSE             \n",
       "21 289 FALSE             \n",
       "22   1 FALSE             \n",
       "23 130 FALSE             \n",
       "24 278 FALSE             \n",
       "25 202 FALSE             \n",
       "26 186 FALSE             "
      ]
     },
     "metadata": {},
     "output_type": "display_data"
    }
   ],
   "source": [
    "# Search the data dictionary for age\n",
    "picsure::bdc.searchPicsure(session, keyword = 'age', includeValues = TRUE) "
   ]
  },
  {
   "cell_type": "markdown",
   "metadata": {},
   "source": [
    "The above dataframe has many pieces of information for the variables that are available. Let's select only the columns that are informative for us.\n",
    "- study_id: Study ID, in AIM AHEAD we have the NHANES dataset available.\n",
    "- var_id: Variable ID\n",
    "- var_name: Variable Name (can be more descriptive than the ID)\n",
    "- name: The full path of the variable, needed for querying PIC-SURE."
   ]
  },
  {
   "cell_type": "code",
   "execution_count": 10,
   "metadata": {},
   "outputs": [
    {
     "data": {
      "text/html": [
       "<table class=\"dataframe\">\n",
       "<caption>A data.frame: 5 × 4</caption>\n",
       "<thead>\n",
       "\t<tr><th></th><th scope=col>study_id</th><th scope=col>var_id</th><th scope=col>var_name</th><th scope=col>name</th></tr>\n",
       "\t<tr><th></th><th scope=col>&lt;chr&gt;</th><th scope=col>&lt;chr&gt;</th><th scope=col>&lt;chr&gt;</th><th scope=col>&lt;chr&gt;</th></tr>\n",
       "</thead>\n",
       "<tbody>\n",
       "\t<tr><th scope=row>1</th><td>nhanes</td><td>Total_home_tap_water_drank_yesterday(gm)</td><td>Total_home_tap_water_drank_yesterday(gm)</td><td>\\nhanes\\questionnaire_food_component_recall\\Total_home_tap_water_drank_yesterday(gm)\\</td></tr>\n",
       "\t<tr><th scope=row>2</th><td>nhanes</td><td>#days_used_needle_for_street_drugs/year </td><td>#days_used_needle_for_street_drugs/year </td><td>\\nhanes\\questionnaire_street_drug\\#days_used_needle_for_street_drugs/year\\           </td></tr>\n",
       "\t<tr><th scope=row>3</th><td>nhanes</td><td>Red_blood_cell_count_(million_cells/uL) </td><td>Red_blood_cell_count_(million_cells/uL) </td><td>\\nhanes\\laboratory_blood\\Red_blood_cell_count_(million_cells/uL)\\                    </td></tr>\n",
       "\t<tr><th scope=row>4</th><td>nhanes</td><td>#days_used_street_drugs_over_past_year  </td><td>#days_used_street_drugs_over_past_year  </td><td>\\nhanes\\questionnaire_street_drug\\#days_used_street_drugs_over_past_year\\            </td></tr>\n",
       "\t<tr><th scope=row>5</th><td>nhanes</td><td>#_of_times_other_fish_eaten_past_30_days</td><td>#_of_times_other_fish_eaten_past_30_days</td><td>\\nhanes\\questionnaire_food_component_recall\\#_of_times_other_fish_eaten_past_30_days\\</td></tr>\n",
       "</tbody>\n",
       "</table>\n"
      ],
      "text/latex": [
       "A data.frame: 5 × 4\n",
       "\\begin{tabular}{r|llll}\n",
       "  & study\\_id & var\\_id & var\\_name & name\\\\\n",
       "  & <chr> & <chr> & <chr> & <chr>\\\\\n",
       "\\hline\n",
       "\t1 & nhanes & Total\\_home\\_tap\\_water\\_drank\\_yesterday(gm) & Total\\_home\\_tap\\_water\\_drank\\_yesterday(gm) & \\textbackslash{}nhanes\\textbackslash{}questionnaire\\_food\\_component\\_recall\\textbackslash{}Total\\_home\\_tap\\_water\\_drank\\_yesterday(gm)\\textbackslash{}\\\\\n",
       "\t2 & nhanes & \\#days\\_used\\_needle\\_for\\_street\\_drugs/year  & \\#days\\_used\\_needle\\_for\\_street\\_drugs/year  & \\textbackslash{}nhanes\\textbackslash{}questionnaire\\_street\\_drug\\textbackslash{}\\#days\\_used\\_needle\\_for\\_street\\_drugs/year\\textbackslash{}           \\\\\n",
       "\t3 & nhanes & Red\\_blood\\_cell\\_count\\_(million\\_cells/uL)  & Red\\_blood\\_cell\\_count\\_(million\\_cells/uL)  & \\textbackslash{}nhanes\\textbackslash{}laboratory\\_blood\\textbackslash{}Red\\_blood\\_cell\\_count\\_(million\\_cells/uL)\\textbackslash{}                    \\\\\n",
       "\t4 & nhanes & \\#days\\_used\\_street\\_drugs\\_over\\_past\\_year   & \\#days\\_used\\_street\\_drugs\\_over\\_past\\_year   & \\textbackslash{}nhanes\\textbackslash{}questionnaire\\_street\\_drug\\textbackslash{}\\#days\\_used\\_street\\_drugs\\_over\\_past\\_year\\textbackslash{}            \\\\\n",
       "\t5 & nhanes & \\#\\_of\\_times\\_other\\_fish\\_eaten\\_past\\_30\\_days & \\#\\_of\\_times\\_other\\_fish\\_eaten\\_past\\_30\\_days & \\textbackslash{}nhanes\\textbackslash{}questionnaire\\_food\\_component\\_recall\\textbackslash{}\\#\\_of\\_times\\_other\\_fish\\_eaten\\_past\\_30\\_days\\textbackslash{}\\\\\n",
       "\\end{tabular}\n"
      ],
      "text/markdown": [
       "\n",
       "A data.frame: 5 × 4\n",
       "\n",
       "| <!--/--> | study_id &lt;chr&gt; | var_id &lt;chr&gt; | var_name &lt;chr&gt; | name &lt;chr&gt; |\n",
       "|---|---|---|---|---|\n",
       "| 1 | nhanes | Total_home_tap_water_drank_yesterday(gm) | Total_home_tap_water_drank_yesterday(gm) | \\nhanes\\questionnaire_food_component_recall\\Total_home_tap_water_drank_yesterday(gm)\\ |\n",
       "| 2 | nhanes | #days_used_needle_for_street_drugs/year  | #days_used_needle_for_street_drugs/year  | \\nhanes\\questionnaire_street_drug\\#days_used_needle_for_street_drugs/year\\            |\n",
       "| 3 | nhanes | Red_blood_cell_count_(million_cells/uL)  | Red_blood_cell_count_(million_cells/uL)  | \\nhanes\\laboratory_blood\\Red_blood_cell_count_(million_cells/uL)\\                     |\n",
       "| 4 | nhanes | #days_used_street_drugs_over_past_year   | #days_used_street_drugs_over_past_year   | \\nhanes\\questionnaire_street_drug\\#days_used_street_drugs_over_past_year\\             |\n",
       "| 5 | nhanes | #_of_times_other_fish_eaten_past_30_days | #_of_times_other_fish_eaten_past_30_days | \\nhanes\\questionnaire_food_component_recall\\#_of_times_other_fish_eaten_past_30_days\\ |\n",
       "\n"
      ],
      "text/plain": [
       "  study_id var_id                                  \n",
       "1 nhanes   Total_home_tap_water_drank_yesterday(gm)\n",
       "2 nhanes   #days_used_needle_for_street_drugs/year \n",
       "3 nhanes   Red_blood_cell_count_(million_cells/uL) \n",
       "4 nhanes   #days_used_street_drugs_over_past_year  \n",
       "5 nhanes   #_of_times_other_fish_eaten_past_30_days\n",
       "  var_name                                \n",
       "1 Total_home_tap_water_drank_yesterday(gm)\n",
       "2 #days_used_needle_for_street_drugs/year \n",
       "3 Red_blood_cell_count_(million_cells/uL) \n",
       "4 #days_used_street_drugs_over_past_year  \n",
       "5 #_of_times_other_fish_eaten_past_30_days\n",
       "  name                                                                                     \n",
       "1 \\\\nhanes\\\\questionnaire_food_component_recall\\\\Total_home_tap_water_drank_yesterday(gm)\\\\\n",
       "2 \\\\nhanes\\\\questionnaire_street_drug\\\\#days_used_needle_for_street_drugs/year\\\\           \n",
       "3 \\\\nhanes\\\\laboratory_blood\\\\Red_blood_cell_count_(million_cells/uL)\\\\                    \n",
       "4 \\\\nhanes\\\\questionnaire_street_drug\\\\#days_used_street_drugs_over_past_year\\\\            \n",
       "5 \\\\nhanes\\\\questionnaire_food_component_recall\\\\#_of_times_other_fish_eaten_past_30_days\\\\"
      ]
     },
     "metadata": {},
     "output_type": "display_data"
    }
   ],
   "source": [
    "# Isolate columns of interest\n",
    "datadict_df <- datadict_df %>%\n",
    "  select(study_id, var_id, var_name, name)\n",
    "\n",
    "head(datadict_df, 5)"
   ]
  },
  {
   "cell_type": "markdown",
   "metadata": {},
   "source": [
    "In this notebook, we will do an initial exploration into the demographic and laboratory characteristics of our NHANES dataset. By exploring the data dictionary, we will create a subset dataframe containing the variables we are interested in exploring. "
   ]
  },
  {
   "cell_type": "code",
   "execution_count": 12,
   "metadata": {},
   "outputs": [
    {
     "data": {
      "text/html": [
       "<table class=\"dataframe\">\n",
       "<caption>A data.frame: 6 × 4</caption>\n",
       "<thead>\n",
       "\t<tr><th scope=col>study_id</th><th scope=col>var_id</th><th scope=col>var_name</th><th scope=col>name</th></tr>\n",
       "\t<tr><th scope=col>&lt;chr&gt;</th><th scope=col>&lt;chr&gt;</th><th scope=col>&lt;chr&gt;</th><th scope=col>&lt;chr&gt;</th></tr>\n",
       "</thead>\n",
       "<tbody>\n",
       "\t<tr><td>nhanes</td><td>RACE                   </td><td>RACE                   </td><td>\\nhanes\\demographics\\RACE\\                              </td></tr>\n",
       "\t<tr><td>nhanes</td><td>HDL-cholesterol_(mg/dL)</td><td>HDL-cholesterol_(mg/dL)</td><td>\\nhanes\\laboratory_biochemistry\\HDL-cholesterol_(mg/dL)\\</td></tr>\n",
       "\t<tr><td>nhanes</td><td>LDL-cholesterol_(mg/dL)</td><td>LDL-cholesterol_(mg/dL)</td><td>\\nhanes\\laboratory_biochemistry\\LDL-cholesterol_(mg/dL)\\</td></tr>\n",
       "\t<tr><td>nhanes</td><td>Cholesterol_(mg/dL)    </td><td>Cholesterol_(mg/dL)    </td><td>\\nhanes\\laboratory_biochemistry\\Cholesterol_(mg/dL)\\    </td></tr>\n",
       "\t<tr><td>nhanes</td><td>SEX                    </td><td>SEX                    </td><td>\\nhanes\\demographics\\SEX\\                               </td></tr>\n",
       "\t<tr><td>nhanes</td><td>AGE                    </td><td>AGE                    </td><td>\\nhanes\\demographics\\AGE\\                               </td></tr>\n",
       "</tbody>\n",
       "</table>\n"
      ],
      "text/latex": [
       "A data.frame: 6 × 4\n",
       "\\begin{tabular}{llll}\n",
       " study\\_id & var\\_id & var\\_name & name\\\\\n",
       " <chr> & <chr> & <chr> & <chr>\\\\\n",
       "\\hline\n",
       "\t nhanes & RACE                    & RACE                    & \\textbackslash{}nhanes\\textbackslash{}demographics\\textbackslash{}RACE\\textbackslash{}                              \\\\\n",
       "\t nhanes & HDL-cholesterol\\_(mg/dL) & HDL-cholesterol\\_(mg/dL) & \\textbackslash{}nhanes\\textbackslash{}laboratory\\_biochemistry\\textbackslash{}HDL-cholesterol\\_(mg/dL)\\textbackslash{}\\\\\n",
       "\t nhanes & LDL-cholesterol\\_(mg/dL) & LDL-cholesterol\\_(mg/dL) & \\textbackslash{}nhanes\\textbackslash{}laboratory\\_biochemistry\\textbackslash{}LDL-cholesterol\\_(mg/dL)\\textbackslash{}\\\\\n",
       "\t nhanes & Cholesterol\\_(mg/dL)     & Cholesterol\\_(mg/dL)     & \\textbackslash{}nhanes\\textbackslash{}laboratory\\_biochemistry\\textbackslash{}Cholesterol\\_(mg/dL)\\textbackslash{}    \\\\\n",
       "\t nhanes & SEX                     & SEX                     & \\textbackslash{}nhanes\\textbackslash{}demographics\\textbackslash{}SEX\\textbackslash{}                               \\\\\n",
       "\t nhanes & AGE                     & AGE                     & \\textbackslash{}nhanes\\textbackslash{}demographics\\textbackslash{}AGE\\textbackslash{}                               \\\\\n",
       "\\end{tabular}\n"
      ],
      "text/markdown": [
       "\n",
       "A data.frame: 6 × 4\n",
       "\n",
       "| study_id &lt;chr&gt; | var_id &lt;chr&gt; | var_name &lt;chr&gt; | name &lt;chr&gt; |\n",
       "|---|---|---|---|\n",
       "| nhanes | RACE                    | RACE                    | \\nhanes\\demographics\\RACE\\                               |\n",
       "| nhanes | HDL-cholesterol_(mg/dL) | HDL-cholesterol_(mg/dL) | \\nhanes\\laboratory_biochemistry\\HDL-cholesterol_(mg/dL)\\ |\n",
       "| nhanes | LDL-cholesterol_(mg/dL) | LDL-cholesterol_(mg/dL) | \\nhanes\\laboratory_biochemistry\\LDL-cholesterol_(mg/dL)\\ |\n",
       "| nhanes | Cholesterol_(mg/dL)     | Cholesterol_(mg/dL)     | \\nhanes\\laboratory_biochemistry\\Cholesterol_(mg/dL)\\     |\n",
       "| nhanes | SEX                     | SEX                     | \\nhanes\\demographics\\SEX\\                                |\n",
       "| nhanes | AGE                     | AGE                     | \\nhanes\\demographics\\AGE\\                                |\n",
       "\n"
      ],
      "text/plain": [
       "  study_id var_id                  var_name               \n",
       "1 nhanes   RACE                    RACE                   \n",
       "2 nhanes   HDL-cholesterol_(mg/dL) HDL-cholesterol_(mg/dL)\n",
       "3 nhanes   LDL-cholesterol_(mg/dL) LDL-cholesterol_(mg/dL)\n",
       "4 nhanes   Cholesterol_(mg/dL)     Cholesterol_(mg/dL)    \n",
       "5 nhanes   SEX                     SEX                    \n",
       "6 nhanes   AGE                     AGE                    \n",
       "  name                                                        \n",
       "1 \\\\nhanes\\\\demographics\\\\RACE\\\\                              \n",
       "2 \\\\nhanes\\\\laboratory_biochemistry\\\\HDL-cholesterol_(mg/dL)\\\\\n",
       "3 \\\\nhanes\\\\laboratory_biochemistry\\\\LDL-cholesterol_(mg/dL)\\\\\n",
       "4 \\\\nhanes\\\\laboratory_biochemistry\\\\Cholesterol_(mg/dL)\\\\    \n",
       "5 \\\\nhanes\\\\demographics\\\\SEX\\\\                               \n",
       "6 \\\\nhanes\\\\demographics\\\\AGE\\\\                               "
      ]
     },
     "metadata": {},
     "output_type": "display_data"
    }
   ],
   "source": [
    "# Identify variable IDs of interest using the data dictionary\n",
    "variables_of_interest <- c('AGE', 'SEX', 'RACE', \n",
    "                         'Cholesterol_(mg/dL)', 'HDL-cholesterol_(mg/dL)', 'LDL-cholesterol_(mg/dL)')\n",
    "\n",
    "# Subset the data dictionary to include only the variables of interest\n",
    "datadict_subset = datadict_df %>%\n",
    "  filter(var_id %in% variables_of_interest)\n",
    "datadict_subset"
   ]
  },
  {
   "cell_type": "markdown",
   "metadata": {},
   "source": [
    "## Building a query and retrieving data from NHANES\n",
    "Now that we have a list of variables of interest, we will retrieve the participant-level data associated with those variables. \n",
    "\n",
    "The first step is setting up the query object, which is called `myquery` below."
   ]
  },
  {
   "cell_type": "code",
   "execution_count": 13,
   "metadata": {},
   "outputs": [],
   "source": [
    "myquery <- picsure::bdc.newQuery(session)"
   ]
  },
  {
   "cell_type": "markdown",
   "metadata": {},
   "source": [
    "There are several methods that can be used to build a query, which can be specified by the `type` argument in the `picsure::addClause` function.\n",
    "\n",
    "| type | functionality |\n",
    "|--------|-------------------|\n",
    "| type = 'SELECT' | return all variables included in the list (no record subsetting)|\n",
    "| type = 'REQUIRE' | return all variables included in the list; only records that do not contain null values for input variables |\n",
    "| type = 'ANYOF' | return all variables included in the list; only records that contain at least one non-null value for input variables |\n",
    "| type = 'FILTER' | return input variable; only records that match filter criteria |\n",
    "\n",
    "In this example, we are not interested in performing any record subsetting. We want to retrieve all participant-level data associated with our variables of interest, so we will use the `type = 'SELECT'` argument. Note that these methods take the variable `name` as input, so we specify that column in our data dictionary subset."
   ]
  },
  {
   "cell_type": "code",
   "execution_count": 14,
   "metadata": {},
   "outputs": [],
   "source": [
    "myquery <- picsure::addClause(query = myquery, # Query to build on\n",
    "                              keys = datadict_subset$name, # Full variable paths to filter on\n",
    "                              type = \"SELECT\") # The type of query, in this case SELECT\n"
   ]
  },
  {
   "cell_type": "markdown",
   "metadata": {},
   "source": [
    "Now we can export our data to a dataframe in this notebook."
   ]
  },
  {
   "cell_type": "code",
   "execution_count": 15,
   "metadata": {},
   "outputs": [
    {
     "data": {
      "text/html": [
       "<table class=\"dataframe\">\n",
       "<caption>A data.frame: 6 × 8</caption>\n",
       "<thead>\n",
       "\t<tr><th></th><th scope=col>Patient ID</th><th scope=col>\\_consents\\</th><th scope=col>\\nhanes\\demographics\\AGE\\</th><th scope=col>\\nhanes\\demographics\\RACE\\</th><th scope=col>\\nhanes\\demographics\\SEX\\</th><th scope=col>\\nhanes\\laboratory_biochemistry\\Cholesterol_(mg/dL)\\</th><th scope=col>\\nhanes\\laboratory_biochemistry\\HDL-cholesterol_(mg/dL)\\</th><th scope=col>\\nhanes\\laboratory_biochemistry\\LDL-cholesterol_(mg/dL)\\</th></tr>\n",
       "\t<tr><th></th><th scope=col>&lt;int&gt;</th><th scope=col>&lt;chr&gt;</th><th scope=col>&lt;dbl&gt;</th><th scope=col>&lt;chr&gt;</th><th scope=col>&lt;chr&gt;</th><th scope=col>&lt;dbl&gt;</th><th scope=col>&lt;dbl&gt;</th><th scope=col>&lt;dbl&gt;</th></tr>\n",
       "</thead>\n",
       "<tbody>\n",
       "\t<tr><th scope=row>1</th><td>1</td><td>nhanes</td><td> 2</td><td>black</td><td>female</td><td>NaN</td><td>NaN</td><td>NaN</td></tr>\n",
       "\t<tr><th scope=row>2</th><td>2</td><td>nhanes</td><td>77</td><td>white</td><td>male  </td><td>203</td><td> 54</td><td>136</td></tr>\n",
       "\t<tr><th scope=row>3</th><td>3</td><td>nhanes</td><td>10</td><td>white</td><td>female</td><td>NaN</td><td> 30</td><td> 58</td></tr>\n",
       "\t<tr><th scope=row>4</th><td>4</td><td>nhanes</td><td> 1</td><td>black</td><td>male  </td><td>NaN</td><td>NaN</td><td>NaN</td></tr>\n",
       "\t<tr><th scope=row>5</th><td>5</td><td>nhanes</td><td>49</td><td>white</td><td>male  </td><td>277</td><td> 42</td><td>168</td></tr>\n",
       "\t<tr><th scope=row>6</th><td>6</td><td>nhanes</td><td>19</td><td>other</td><td>female</td><td>148</td><td> 61</td><td>NaN</td></tr>\n",
       "</tbody>\n",
       "</table>\n"
      ],
      "text/latex": [
       "A data.frame: 6 × 8\n",
       "\\begin{tabular}{r|llllllll}\n",
       "  & Patient ID & \\textbackslash{}\\_consents\\textbackslash{} & \\textbackslash{}nhanes\\textbackslash{}demographics\\textbackslash{}AGE\\textbackslash{} & \\textbackslash{}nhanes\\textbackslash{}demographics\\textbackslash{}RACE\\textbackslash{} & \\textbackslash{}nhanes\\textbackslash{}demographics\\textbackslash{}SEX\\textbackslash{} & \\textbackslash{}nhanes\\textbackslash{}laboratory\\_biochemistry\\textbackslash{}Cholesterol\\_(mg/dL)\\textbackslash{} & \\textbackslash{}nhanes\\textbackslash{}laboratory\\_biochemistry\\textbackslash{}HDL-cholesterol\\_(mg/dL)\\textbackslash{} & \\textbackslash{}nhanes\\textbackslash{}laboratory\\_biochemistry\\textbackslash{}LDL-cholesterol\\_(mg/dL)\\textbackslash{}\\\\\n",
       "  & <int> & <chr> & <dbl> & <chr> & <chr> & <dbl> & <dbl> & <dbl>\\\\\n",
       "\\hline\n",
       "\t1 & 1 & nhanes &  2 & black & female & NaN & NaN & NaN\\\\\n",
       "\t2 & 2 & nhanes & 77 & white & male   & 203 &  54 & 136\\\\\n",
       "\t3 & 3 & nhanes & 10 & white & female & NaN &  30 &  58\\\\\n",
       "\t4 & 4 & nhanes &  1 & black & male   & NaN & NaN & NaN\\\\\n",
       "\t5 & 5 & nhanes & 49 & white & male   & 277 &  42 & 168\\\\\n",
       "\t6 & 6 & nhanes & 19 & other & female & 148 &  61 & NaN\\\\\n",
       "\\end{tabular}\n"
      ],
      "text/markdown": [
       "\n",
       "A data.frame: 6 × 8\n",
       "\n",
       "| <!--/--> | Patient ID &lt;int&gt; | \\_consents\\ &lt;chr&gt; | \\nhanes\\demographics\\AGE\\ &lt;dbl&gt; | \\nhanes\\demographics\\RACE\\ &lt;chr&gt; | \\nhanes\\demographics\\SEX\\ &lt;chr&gt; | \\nhanes\\laboratory_biochemistry\\Cholesterol_(mg/dL)\\ &lt;dbl&gt; | \\nhanes\\laboratory_biochemistry\\HDL-cholesterol_(mg/dL)\\ &lt;dbl&gt; | \\nhanes\\laboratory_biochemistry\\LDL-cholesterol_(mg/dL)\\ &lt;dbl&gt; |\n",
       "|---|---|---|---|---|---|---|---|---|\n",
       "| 1 | 1 | nhanes |  2 | black | female | NaN | NaN | NaN |\n",
       "| 2 | 2 | nhanes | 77 | white | male   | 203 |  54 | 136 |\n",
       "| 3 | 3 | nhanes | 10 | white | female | NaN |  30 |  58 |\n",
       "| 4 | 4 | nhanes |  1 | black | male   | NaN | NaN | NaN |\n",
       "| 5 | 5 | nhanes | 49 | white | male   | 277 |  42 | 168 |\n",
       "| 6 | 6 | nhanes | 19 | other | female | 148 |  61 | NaN |\n",
       "\n"
      ],
      "text/plain": [
       "  Patient ID \\\\_consents\\\\ \\\\nhanes\\\\demographics\\\\AGE\\\\\n",
       "1 1          nhanes         2                           \n",
       "2 2          nhanes        77                           \n",
       "3 3          nhanes        10                           \n",
       "4 4          nhanes         1                           \n",
       "5 5          nhanes        49                           \n",
       "6 6          nhanes        19                           \n",
       "  \\\\nhanes\\\\demographics\\\\RACE\\\\ \\\\nhanes\\\\demographics\\\\SEX\\\\\n",
       "1 black                          female                       \n",
       "2 white                          male                         \n",
       "3 white                          female                       \n",
       "4 black                          male                         \n",
       "5 white                          male                         \n",
       "6 other                          female                       \n",
       "  \\\\nhanes\\\\laboratory_biochemistry\\\\Cholesterol_(mg/dL)\\\\\n",
       "1 NaN                                                     \n",
       "2 203                                                     \n",
       "3 NaN                                                     \n",
       "4 NaN                                                     \n",
       "5 277                                                     \n",
       "6 148                                                     \n",
       "  \\\\nhanes\\\\laboratory_biochemistry\\\\HDL-cholesterol_(mg/dL)\\\\\n",
       "1 NaN                                                         \n",
       "2  54                                                         \n",
       "3  30                                                         \n",
       "4 NaN                                                         \n",
       "5  42                                                         \n",
       "6  61                                                         \n",
       "  \\\\nhanes\\\\laboratory_biochemistry\\\\LDL-cholesterol_(mg/dL)\\\\\n",
       "1 NaN                                                         \n",
       "2 136                                                         \n",
       "3  58                                                         \n",
       "4 NaN                                                         \n",
       "5 168                                                         \n",
       "6 NaN                                                         "
      ]
     },
     "metadata": {},
     "output_type": "display_data"
    }
   ],
   "source": [
    "results_df <- picsure::runQuery(myquery, resultType = 'DATA_FRAME')\n",
    "head(results_df)"
   ]
  },
  {
   "cell_type": "markdown",
   "metadata": {},
   "source": [
    "The results dataframe contains participants as rows and the variables which were added to our query as columns. "
   ]
  },
  {
   "cell_type": "markdown",
   "metadata": {},
   "source": [
    "## Explore and visualize the demographics and laboratory values of the NHANES dataset"
   ]
  },
  {
   "cell_type": "code",
   "execution_count": 16,
   "metadata": {},
   "outputs": [],
   "source": [
    "# rename our columns to make them easier to work with in R\n",
    "colnames(results_df) <- gsub(x = colnames(results_df), pattern = '\\\\\\\\', replacement = '')"
   ]
  },
  {
   "cell_type": "markdown",
   "metadata": {},
   "source": [
    "### Plot a distribution of participant ages"
   ]
  },
  {
   "cell_type": "code",
   "execution_count": 17,
   "metadata": {},
   "outputs": [
    {
     "name": "stderr",
     "output_type": "stream",
     "text": [
      "\u001b[1m\u001b[22m`stat_bin()` using `bins = 30`. Pick better value with `binwidth`.\n"
     ]
    },
    {
     "data": {
      "image/png": "[encoded data removed]",
      "text/plain": [
       "plot without title"
      ]
     },
     "metadata": {
      "image/png": {
       "height": 420,
       "width": 420
      }
     },
     "output_type": "display_data"
    }
   ],
   "source": [
    "results_df %>%\n",
    "  ggplot(aes(x = nhanesdemographicsAGE)) +\n",
    "    geom_histogram(fill = 'lightblue') +\n",
    "    theme_bw() +\n",
    "    xlab('Age') +\n",
    "    ylab('Frequency') +\n",
    "    ggtitle('Histogram of Age')"
   ]
  },
  {
   "cell_type": "markdown",
   "metadata": {},
   "source": [
    "### Plot a pie chart of the sex distribution"
   ]
  },
  {
   "cell_type": "code",
   "execution_count": 18,
   "metadata": {},
   "outputs": [
    {
     "data": {
      "image/png": "[encoded data removed]",
      "text/plain": [
       "plot without title"
      ]
     },
     "metadata": {
      "image/png": {
       "height": 420,
       "width": 420
      }
     },
     "output_type": "display_data"
    }
   ],
   "source": [
    "results_df %>%\n",
    "  group_by(nhanesdemographicsSEX) %>%\n",
    "  summarise(n = n()) %>%\n",
    "  ggplot(aes(x = '', y = n, fill = nhanesdemographicsSEX)) +\n",
    "    geom_bar(stat = 'identity', width = 1, color = 'white') + \n",
    "    coord_polar('y', start = 0) +\n",
    "    theme_void() +\n",
    "    labs(fill = \"Sex\") +\n",
    "    ggtitle('NHANES Sex Distribution')"
   ]
  },
  {
   "cell_type": "markdown",
   "metadata": {},
   "source": [
    "### Plot a bar chart to visualize the race distribution"
   ]
  },
  {
   "cell_type": "code",
   "execution_count": 19,
   "metadata": {},
   "outputs": [
    {
     "data": {
      "image/png": "[encoded data removed]",
      "text/plain": [
       "plot without title"
      ]
     },
     "metadata": {
      "image/png": {
       "height": 420,
       "width": 420
      }
     },
     "output_type": "display_data"
    }
   ],
   "source": [
    "results_df %>%\n",
    "  ggplot(aes(x = nhanesdemographicsRACE, fill = nhanesdemographicsRACE)) +\n",
    "    geom_bar(show.legend = FALSE) + \n",
    "    theme_bw() +\n",
    "    xlab('Race') +\n",
    "    ylab('Count') +\n",
    "    ggtitle('NHANES Race Distribution')"
   ]
  },
  {
   "cell_type": "markdown",
   "metadata": {},
   "source": [
    "### Plot the distribution of cholesterol labs to compare average Total, HDL, and LDL values"
   ]
  },
  {
   "cell_type": "code",
   "execution_count": 20,
   "metadata": {},
   "outputs": [
    {
     "data": {
      "text/html": [
       "<table class=\"dataframe\">\n",
       "<caption>A data.frame: 6 × 8</caption>\n",
       "<thead>\n",
       "\t<tr><th></th><th scope=col>Patient ID</th><th scope=col>_consents</th><th scope=col>nhanesdemographicsAGE</th><th scope=col>nhanesdemographicsRACE</th><th scope=col>nhanesdemographicsSEX</th><th scope=col>nhaneslaboratory_biochemistryCholesterol_(mg/dL)</th><th scope=col>nhaneslaboratory_biochemistryHDL-cholesterol_(mg/dL)</th><th scope=col>nhaneslaboratory_biochemistryLDL-cholesterol_(mg/dL)</th></tr>\n",
       "\t<tr><th></th><th scope=col>&lt;int&gt;</th><th scope=col>&lt;chr&gt;</th><th scope=col>&lt;dbl&gt;</th><th scope=col>&lt;chr&gt;</th><th scope=col>&lt;chr&gt;</th><th scope=col>&lt;dbl&gt;</th><th scope=col>&lt;dbl&gt;</th><th scope=col>&lt;dbl&gt;</th></tr>\n",
       "</thead>\n",
       "<tbody>\n",
       "\t<tr><th scope=row>1</th><td>1</td><td>nhanes</td><td> 2</td><td>black</td><td>female</td><td>NaN</td><td>NaN</td><td>NaN</td></tr>\n",
       "\t<tr><th scope=row>2</th><td>2</td><td>nhanes</td><td>77</td><td>white</td><td>male  </td><td>203</td><td> 54</td><td>136</td></tr>\n",
       "\t<tr><th scope=row>3</th><td>3</td><td>nhanes</td><td>10</td><td>white</td><td>female</td><td>NaN</td><td> 30</td><td> 58</td></tr>\n",
       "\t<tr><th scope=row>4</th><td>4</td><td>nhanes</td><td> 1</td><td>black</td><td>male  </td><td>NaN</td><td>NaN</td><td>NaN</td></tr>\n",
       "\t<tr><th scope=row>5</th><td>5</td><td>nhanes</td><td>49</td><td>white</td><td>male  </td><td>277</td><td> 42</td><td>168</td></tr>\n",
       "\t<tr><th scope=row>6</th><td>6</td><td>nhanes</td><td>19</td><td>other</td><td>female</td><td>148</td><td> 61</td><td>NaN</td></tr>\n",
       "</tbody>\n",
       "</table>\n"
      ],
      "text/latex": [
       "A data.frame: 6 × 8\n",
       "\\begin{tabular}{r|llllllll}\n",
       "  & Patient ID & \\_consents & nhanesdemographicsAGE & nhanesdemographicsRACE & nhanesdemographicsSEX & nhaneslaboratory\\_biochemistryCholesterol\\_(mg/dL) & nhaneslaboratory\\_biochemistryHDL-cholesterol\\_(mg/dL) & nhaneslaboratory\\_biochemistryLDL-cholesterol\\_(mg/dL)\\\\\n",
       "  & <int> & <chr> & <dbl> & <chr> & <chr> & <dbl> & <dbl> & <dbl>\\\\\n",
       "\\hline\n",
       "\t1 & 1 & nhanes &  2 & black & female & NaN & NaN & NaN\\\\\n",
       "\t2 & 2 & nhanes & 77 & white & male   & 203 &  54 & 136\\\\\n",
       "\t3 & 3 & nhanes & 10 & white & female & NaN &  30 &  58\\\\\n",
       "\t4 & 4 & nhanes &  1 & black & male   & NaN & NaN & NaN\\\\\n",
       "\t5 & 5 & nhanes & 49 & white & male   & 277 &  42 & 168\\\\\n",
       "\t6 & 6 & nhanes & 19 & other & female & 148 &  61 & NaN\\\\\n",
       "\\end{tabular}\n"
      ],
      "text/markdown": [
       "\n",
       "A data.frame: 6 × 8\n",
       "\n",
       "| <!--/--> | Patient ID &lt;int&gt; | _consents &lt;chr&gt; | nhanesdemographicsAGE &lt;dbl&gt; | nhanesdemographicsRACE &lt;chr&gt; | nhanesdemographicsSEX &lt;chr&gt; | nhaneslaboratory_biochemistryCholesterol_(mg/dL) &lt;dbl&gt; | nhaneslaboratory_biochemistryHDL-cholesterol_(mg/dL) &lt;dbl&gt; | nhaneslaboratory_biochemistryLDL-cholesterol_(mg/dL) &lt;dbl&gt; |\n",
       "|---|---|---|---|---|---|---|---|---|\n",
       "| 1 | 1 | nhanes |  2 | black | female | NaN | NaN | NaN |\n",
       "| 2 | 2 | nhanes | 77 | white | male   | 203 |  54 | 136 |\n",
       "| 3 | 3 | nhanes | 10 | white | female | NaN |  30 |  58 |\n",
       "| 4 | 4 | nhanes |  1 | black | male   | NaN | NaN | NaN |\n",
       "| 5 | 5 | nhanes | 49 | white | male   | 277 |  42 | 168 |\n",
       "| 6 | 6 | nhanes | 19 | other | female | 148 |  61 | NaN |\n",
       "\n"
      ],
      "text/plain": [
       "  Patient ID _consents nhanesdemographicsAGE nhanesdemographicsRACE\n",
       "1 1          nhanes     2                    black                 \n",
       "2 2          nhanes    77                    white                 \n",
       "3 3          nhanes    10                    white                 \n",
       "4 4          nhanes     1                    black                 \n",
       "5 5          nhanes    49                    white                 \n",
       "6 6          nhanes    19                    other                 \n",
       "  nhanesdemographicsSEX nhaneslaboratory_biochemistryCholesterol_(mg/dL)\n",
       "1 female                NaN                                             \n",
       "2 male                  203                                             \n",
       "3 female                NaN                                             \n",
       "4 male                  NaN                                             \n",
       "5 male                  277                                             \n",
       "6 female                148                                             \n",
       "  nhaneslaboratory_biochemistryHDL-cholesterol_(mg/dL)\n",
       "1 NaN                                                 \n",
       "2  54                                                 \n",
       "3  30                                                 \n",
       "4 NaN                                                 \n",
       "5  42                                                 \n",
       "6  61                                                 \n",
       "  nhaneslaboratory_biochemistryLDL-cholesterol_(mg/dL)\n",
       "1 NaN                                                 \n",
       "2 136                                                 \n",
       "3  58                                                 \n",
       "4 NaN                                                 \n",
       "5 168                                                 \n",
       "6 NaN                                                 "
      ]
     },
     "metadata": {},
     "output_type": "display_data"
    }
   ],
   "source": [
    "results_df %>%head()"
   ]
  },
  {
   "cell_type": "code",
   "execution_count": 24,
   "metadata": {},
   "outputs": [
    {
     "data": {
      "image/png": "[encoded data removed]",
      "text/plain": [
       "plot without title"
      ]
     },
     "metadata": {
      "image/png": {
       "height": 420,
       "width": 420
      }
     },
     "output_type": "display_data"
    }
   ],
   "source": [
    "results_df %>%\n",
    "  pivot_longer(cols = c('nhaneslaboratory_biochemistryCholesterol_(mg/dL)', \n",
    "                        'nhaneslaboratory_biochemistryHDL-cholesterol_(mg/dL)',\n",
    "                        'nhaneslaboratory_biochemistryLDL-cholesterol_(mg/dL)'),\n",
    "               names_to = 'Lab', \n",
    "               values_to = 'Value (mg/dL)') %>%\n",
    "  filter(!is.na(`Value (mg/dL)`)) %>%\n",
    "  mutate(Lab = ifelse(Lab == 'nhaneslaboratory_biochemistryCholesterol_(mg/dL)', 'Total Cholesterol',\n",
    "                     ifelse(Lab == 'nhaneslaboratory_biochemistryLDL-cholesterol_(mg/dL)', 'LDL Cholesterol',\n",
    "                           ifelse(Lab == 'nhaneslaboratory_biochemistryHDL-cholesterol_(mg/dL)', 'HDL Cholesterol', 'Undefined')))) %>%\n",
    "  ggplot(aes(x = Lab, y = `Value (mg/dL)`, fill = Lab)) +\n",
    "    geom_boxplot(show.legend = FALSE) + \n",
    "    theme_bw() +\n",
    "    ggtitle('Comparing average HDL and LDL Cholesterol values to Total Cholesterol')"
   ]
  },
  {
   "cell_type": "code",
   "execution_count": null,
   "metadata": {},
   "outputs": [],
   "source": []
  }
 ],
 "metadata": {
  "jupytext": {
   "formats": "ipynb,Rmd"
  },
  "kernelspec": {
   "display_name": "R",
   "language": "R",
   "name": "ir"
  },
  "language_info": {
   "codemirror_mode": "r",
   "file_extension": ".r",
   "mimetype": "text/x-r-source",
   "name": "R",
   "pygments_lexer": "r",
   "version": "4.3.3"
  },
  "toc": {
   "base_numbering": 1,
   "nav_menu": {},
   "number_sections": true,
   "sideBar": true,
   "skip_h1_title": false,
   "title_cell": "Table of Contents",
   "title_sidebar": "Contents",
   "toc_cell": false,
   "toc_position": {},
   "toc_section_display": true,
   "toc_window_display": false
  }
 },
 "nbformat": 4,
 "nbformat_minor": 4
}
