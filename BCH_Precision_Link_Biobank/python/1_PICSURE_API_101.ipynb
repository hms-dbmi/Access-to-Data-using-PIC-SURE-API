{
 "cells": [
  {
   "cell_type": "markdown",
   "metadata": {},
   "source": [
    "# Environment set-up"
   ]
  },
  {
   "cell_type": "markdown",
   "metadata": {},
   "source": [
    "### Pre-requisite\n",
    "- python 3.6 or later\n",
    "- pip python package manager, already available in most systems with a python interpreter installed ([pip installation instructions](https://pip.pypa.io/en/stable/installing/))"
   ]
  },
  {
   "cell_type": "markdown",
   "metadata": {},
   "source": [
    "### Packages installation\n",
    "\n",
    "Installation of the packages listed in the `requirements.txt` file, as well as the two components of the PIC-SURE API from GitHub, that is the PIC-SURE adapter and the PIC-SURE Client."
   ]
  },
  {
   "cell_type": "code",
   "execution_count": null,
   "metadata": {},
   "outputs": [],
   "source": [
    "!cat requirements.txt"
   ]
  },
  {
   "cell_type": "code",
   "execution_count": null,
   "metadata": {},
   "outputs": [],
   "source": [
    "import sys\n",
    "!{sys.executable} -m pip install -r requirements.txt"
   ]
  },
  {
   "cell_type": "code",
   "execution_count": null,
   "metadata": {},
   "outputs": [],
   "source": [
    "!{sys.executable} -m pip install --upgrade --force-reinstall git+https://github.com/hms-dbmi/pic-sure-python-adapter-hpds.git\n",
    "!{sys.executable} -m pip install --upgrade --force-reinstall git+https://github.com/hms-dbmi/pic-sure-python-client.git"
   ]
  },
  {
   "cell_type": "markdown",
   "metadata": {},
   "source": [
    "Import all the external dependencies, as well as user-defined functions stored in the `python_lib` folder"
   ]
  },
  {
   "cell_type": "code",
   "execution_count": null,
   "metadata": {},
   "outputs": [],
   "source": [
    "import json\n",
    "from pprint import pprint\n",
    "\n",
    "import pandas as pd\n",
    "import numpy as np \n",
    "import matplotlib.pyplot as plt\n",
    "from scipy import stats\n",
    "\n",
    "import PicSureHpdsLib\n",
    "import PicSureClient\n",
    "\n",
    "from python_lib.utils import get_multiIndex_variablesDict, joining_variablesDict_onCol"
   ]
  },
  {
   "cell_type": "markdown",
   "metadata": {},
   "source": [
    "##### Setting the display parameter for tables and plots"
   ]
  },
  {
   "cell_type": "code",
   "execution_count": null,
   "metadata": {},
   "outputs": [],
   "source": [
    "# Pandas DataFrame display options\n",
    "pd.set_option(\"max.rows\", 100)\n",
    "\n",
    "# Matplotlib display parameters\n",
    "plt.rcParams[\"figure.figsize\"] = (14,8)\n",
    "font = {'weight' : 'bold',\n",
    "        'size'   : 12}\n",
    "plt.rc('font', **font)"
   ]
  },
  {
   "cell_type": "markdown",
   "metadata": {},
   "source": [
    "## Connecting to a PIC-SURE resource"
   ]
  },
  {
   "cell_type": "markdown",
   "metadata": {},
   "source": [
    "Several information are required to get access to data through the PIC-SURE API: a network URL, a resource id, and a user-specific security token."
   ]
  },
  {
   "cell_type": "code",
   "execution_count": null,
   "metadata": {},
   "outputs": [],
   "source": [
    "PICSURE_network_URL = \"https://precisionlink-biobank4discovery.childrens.harvard.edu/picsure/\"\n",
    "resource_id = \"6aa47730-3288-4c45-bfa1-5a8730666016\"\n",
    "token_file = \"token.txt\""
   ]
  },
  {
   "cell_type": "code",
   "execution_count": null,
   "metadata": {},
   "outputs": [],
   "source": [
    "with open(token_file, \"r\") as f:\n",
    "    my_token = f.read()"
   ]
  },
  {
   "cell_type": "code",
   "execution_count": null,
   "metadata": {},
   "outputs": [],
   "source": [
    "client = PicSureClient.Client()\n",
    "connection = client.connect(PICSURE_network_URL, my_token, True)\n",
    "adapter = PicSureHpdsLib.Adapter(connection)\n",
    "resource = adapter.useResource()"
   ]
  },
  {
   "cell_type": "markdown",
   "metadata": {},
   "source": [
    "Two objects are created here: a `connection` and a `resource` object.\n",
    "\n",
    "As we will only be using one single resource, **the `resource` object is actually the only one we will need to proceed with data analysis hereafter**. \n",
    "\n",
    "It is connected to the specific data source ID we specified, and enables to query and retrieve data from this database."
   ]
  },
  {
   "cell_type": "code",
   "execution_count": null,
   "metadata": {},
   "outputs": [],
   "source": [
    "#Validate  numeric filters for Age\n",
    "dictionary = resource.dictionary()\n",
    "dictionary_search = dictionary.find(\"Age\")\n",
    "dictionary_search.DataFrame()"
   ]
  },
  {
   "cell_type": "code",
   "execution_count": null,
   "metadata": {},
   "outputs": [],
   "source": [
    "#Validate  numeric filters for Age\n",
    "\n",
    "my_query = resource.query()\n",
    "my_query.filter().add(\"\\\\Demographics\\\\Age\\\\\", max=5)\n",
    "my_count = my_query.getCount()\n",
    "print( \"count Patients less than 5 yrs : \" + str( my_count ))\n"
   ]
  },
  {
   "cell_type": "code",
   "execution_count": null,
   "metadata": {},
   "outputs": [],
   "source": [
    "#Validate  numeric filters for Calcium\n",
    "\n",
    "dictionary = resource.dictionary()\n",
    "dictionary_search = dictionary.find(\"Calcium\")\n",
    "dictionary_search.DataFrame()\n",
    "\n"
   ]
  },
  {
   "cell_type": "code",
   "execution_count": null,
   "metadata": {},
   "outputs": [],
   "source": [
    "#Validate  numeric filters for Calcium\n",
    "\n",
    "my_query = resource.query()\n",
    "my_query.filter().add(\"\\\\Laboratory Results\\\\Laboratory\\\\Chemistry\\\\Calcium\\\\\", max=7)\n",
    "my_count = my_query.getCount()\n",
    "print( \"Print count Patients with calciumless than 7 :\" + str( my_count ))\n"
   ]
  },
  {
   "cell_type": "code",
   "execution_count": null,
   "metadata": {},
   "outputs": [],
   "source": [
    "#Validate variant CHD8 counts\n",
    "\n",
    "dictionary = resource.dictionary()\n",
    "dictionary_search = dictionary.find(\"CHD8\")\n",
    "dictionary_search.DataFrame()\n",
    "\n"
   ]
  },
  {
   "cell_type": "code",
   "execution_count": null,
   "metadata": {},
   "outputs": [],
   "source": [
    "#Validate variant CHD8 counts\n",
    "\n",
    "my_query = resource.query()\n",
    "my_query.filter().add(\"Gene_with_variant\", \"CHD8\")\n",
    "my_count = my_query.getCount()\n",
    "print( \"Print count Patients with CHD8 variant counts :\" + str( my_count ))"
   ]
  },
  {
   "cell_type": "code",
   "execution_count": null,
   "metadata": {},
   "outputs": [],
   "source": [
    "#Validate two numeric filters\n",
    "\n",
    "dictionary = resource.dictionary()\n",
    "dictionary_search = dictionary.find(\"Calcium\")\n",
    "dictionary_search.DataFrame()"
   ]
  },
  {
   "cell_type": "code",
   "execution_count": null,
   "metadata": {},
   "outputs": [],
   "source": [
    "#Validate two numeric filters\n",
    "\n",
    "my_query = resource.query()\n",
    "my_query.filter().add(\"\\\\Laboratory Results\\\\Laboratory\\\\Chemistry\\\\Calcium\\\\\", max=7)\n",
    "my_count = my_query.getCount()\n",
    "print( \"Print count Patients with calciumless than 7 : \" + str( my_count ))\n",
    "\n",
    "my_query.filter().add(\"\\\\Demographics\\\\Age\\\\\", max=5)\n",
    "my_count = my_query.getCount()\n",
    "print( \"Print count Patients with calciumless than 7 and Age lt 5 : \" + str( my_count ))\n"
   ]
  },
  {
   "cell_type": "code",
   "execution_count": null,
   "metadata": {},
   "outputs": [],
   "source": [
    "#Validate WES counts\n",
    "\n",
    "dictionary = resource.dictionary()\n",
    "dictionary_search = dictionary.find(\"WES\")\n",
    "dictionary_search.DataFrame()"
   ]
  },
  {
   "cell_type": "code",
   "execution_count": null,
   "metadata": {},
   "outputs": [],
   "source": [
    "#Validate WES counts - Snapper\n",
    "\n",
    "my_query = resource.query()\n",
    "my_query.filter().add(\"\\\\WES\\\\\", \"CRDC.PI_Snapper.Dx_ibd.Initiated_2019.Collected_2020-Q1\")\n",
    "my_count = my_query.getCount()\n",
    "print( \"Print count Patients with WES data : \" + str( my_count ))\n"
   ]
  },
  {
   "cell_type": "code",
   "execution_count": null,
   "metadata": {},
   "outputs": [],
   "source": [
    "#Validate WES counts - BACH\n",
    "\n",
    "my_query = resource.query()\n",
    "my_query.filter().add(\"\\\\WES\\\\\", \"BACH.PI_Opotowsky.Dx_CHD.Initiated_2018.Collected_2019-Q2\")\n",
    "my_count = my_query.getCount()\n",
    "print( \"Print count Patients with WES data : \" + str( my_count ))\n"
   ]
  },
  {
   "cell_type": "code",
   "execution_count": null,
   "metadata": {},
   "outputs": [],
   "source": [
    "#Validate WES counts - Poduri\n",
    "\n",
    "my_query = resource.query()\n",
    "my_query.filter().add(\"\\\\WES\\\\\", \"CRDC.PI_Poduri.Dx_epilepsy.Initiated_2019.Collected_2020-Q1\")\n",
    "my_count = my_query.getCount()\n",
    "print( \"Print count Patients with WES data : \" + str( my_count ))"
   ]
  },
  {
   "cell_type": "code",
   "execution_count": null,
   "metadata": {},
   "outputs": [],
   "source": [
    "#Validate GenoType Array\n",
    "dictionary = resource.dictionary()\n",
    "dictionary_search = dictionary.find(\"Array\")\n",
    "dictionary_search.DataFrame()\n"
   ]
  },
  {
   "cell_type": "code",
   "execution_count": null,
   "metadata": {},
   "outputs": [],
   "source": [
    "#Validate GenoType Array\n",
    "my_query = resource.query()\n",
    "my_query.filter().add(\"\\\\Genotype Array\\\\\", \"AllofBCH.PI_Mandl.Initiated_2019.Collected_2020-Q1\")\n",
    "my_count = my_query.getCount()\n",
    "print( \"Print count Patients with  and Age  : \" + str( my_count ))"
   ]
  },
  {
   "cell_type": "code",
   "execution_count": null,
   "metadata": {},
   "outputs": [],
   "source": [
    "# Validate using Genomics and Clinical filter\n",
    "\n",
    "dictionary = resource.dictionary()\n",
    "dictionary_search = dictionary.find(\"\\\\Demographics\\\\Gender\\\\\")\n",
    "dictionary_search.DataFrame()"
   ]
  },
  {
   "cell_type": "code",
   "execution_count": null,
   "metadata": {},
   "outputs": [],
   "source": [
    "# Validate using Genomics and Clinical filter\n",
    "\n",
    "my_query = resource.query()\n",
    "my_query.filter().add(\"Gene_with_variant\", \"CHD8\")\n",
    "my_query.filter().add(\"\\\\Demographics\\\\Gender\\\\\", \"Female\")\n",
    "my_count = my_query.getCount()\n",
    "print( \"Print count for Female Patients CHD8 variant   : \" + str( my_count ))\n"
   ]
  },
  {
   "cell_type": "code",
   "execution_count": null,
   "metadata": {},
   "outputs": [],
   "source": []
  }
 ],
 "metadata": {
  "kernelspec": {
   "display_name": "Python 3",
   "language": "python",
   "name": "python3"
  },
  "language_info": {
   "codemirror_mode": {
    "name": "ipython",
    "version": 3
   },
   "file_extension": ".py",
   "mimetype": "text/x-python",
   "name": "python",
   "nbconvert_exporter": "python",
   "pygments_lexer": "ipython3",
   "version": "3.8.5"
  }
 },
 "nbformat": 4,
 "nbformat_minor": 4
}
