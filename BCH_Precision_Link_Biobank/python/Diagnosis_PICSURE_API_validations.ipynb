{
 "cells": [
  {
   "cell_type": "markdown",
   "metadata": {},
   "source": [
    "# Environment set-up\n",
    "\n"
   ]
  },
  {
   "cell_type": "markdown",
   "metadata": {},
   "source": [
    "# Pre-requisite\n",
    "- python 3.6 or later\n",
    "- pip python package manager, already available in most systems with a python interpreter installed ([pip installation instructions](https://pip.pypa.io/en/stable/installing/))\n",
    "\n",
    "Diagnosis_PICSURE_API_validations.ipynb\n"
   ]
  },
  {
   "cell_type": "markdown",
   "metadata": {},
   "source": [
    "### Packages installation\n",
    "\n",
    "Installation of the packages listed in the `requirements.txt` file, as well as the two components of the PIC-SURE API from GitHub, that is the PIC-SURE adapter and the PIC-SURE Client."
   ]
  },
  {
   "cell_type": "code",
   "execution_count": 1,
   "metadata": {},
   "outputs": [
    {
     "name": "stdout",
     "output_type": "stream",
     "text": [
      "numpy==1.16.4\r\n",
      "matplotlib>=3.1.1\r\n",
      "pandas>=0.25.3\r\n",
      "scipy>=1.3.1\r\n",
      "tqdm>=4.38.0\r\n",
      "statsmodels>=0.10.2\r\n"
     ]
    }
   ],
   "source": [
    "!cat requirements.txt"
   ]
  },
  {
   "cell_type": "code",
   "execution_count": 2,
   "metadata": {},
   "outputs": [
    {
     "name": "stdout",
     "output_type": "stream",
     "text": [
      "Requirement already satisfied: numpy==1.16.4 in /opt/conda/lib/python3.8/site-packages (from -r requirements.txt (line 1)) (1.16.4)\n",
      "Requirement already satisfied: matplotlib>=3.1.1 in /opt/conda/lib/python3.8/site-packages (from -r requirements.txt (line 2)) (3.3.2)\n",
      "Requirement already satisfied: pandas>=0.25.3 in /opt/conda/lib/python3.8/site-packages (from -r requirements.txt (line 3)) (1.1.2)\n",
      "Requirement already satisfied: scipy>=1.3.1 in /opt/conda/lib/python3.8/site-packages (from -r requirements.txt (line 4)) (1.5.2)\n",
      "Requirement already satisfied: tqdm>=4.38.0 in /opt/conda/lib/python3.8/site-packages (from -r requirements.txt (line 5)) (4.50.0)\n",
      "Requirement already satisfied: statsmodels>=0.10.2 in /opt/conda/lib/python3.8/site-packages (from -r requirements.txt (line 6)) (0.12.0)\n",
      "Requirement already satisfied: certifi>=2020.06.20 in /opt/conda/lib/python3.8/site-packages (from matplotlib>=3.1.1->-r requirements.txt (line 2)) (2020.6.20)\n",
      "Requirement already satisfied: kiwisolver>=1.0.1 in /opt/conda/lib/python3.8/site-packages (from matplotlib>=3.1.1->-r requirements.txt (line 2)) (1.2.0)\n",
      "Requirement already satisfied: pyparsing!=2.0.4,!=2.1.2,!=2.1.6,>=2.0.3 in /opt/conda/lib/python3.8/site-packages (from matplotlib>=3.1.1->-r requirements.txt (line 2)) (2.4.7)\n",
      "Requirement already satisfied: cycler>=0.10 in /opt/conda/lib/python3.8/site-packages (from matplotlib>=3.1.1->-r requirements.txt (line 2)) (0.10.0)\n",
      "Requirement already satisfied: pillow>=6.2.0 in /opt/conda/lib/python3.8/site-packages (from matplotlib>=3.1.1->-r requirements.txt (line 2)) (7.2.0)\n",
      "Requirement already satisfied: python-dateutil>=2.1 in /opt/conda/lib/python3.8/site-packages (from matplotlib>=3.1.1->-r requirements.txt (line 2)) (2.8.1)\n",
      "Requirement already satisfied: pytz>=2017.2 in /opt/conda/lib/python3.8/site-packages (from pandas>=0.25.3->-r requirements.txt (line 3)) (2020.1)\n",
      "Requirement already satisfied: patsy>=0.5 in /opt/conda/lib/python3.8/site-packages (from statsmodels>=0.10.2->-r requirements.txt (line 6)) (0.5.1)\n",
      "Requirement already satisfied: six in /opt/conda/lib/python3.8/site-packages (from cycler>=0.10->matplotlib>=3.1.1->-r requirements.txt (line 2)) (1.15.0)\n"
     ]
    }
   ],
   "source": [
    "import sys\n",
    "!{sys.executable} -m pip install -r requirements.txt"
   ]
  },
  {
   "cell_type": "code",
   "execution_count": 3,
   "metadata": {},
   "outputs": [
    {
     "name": "stdout",
     "output_type": "stream",
     "text": [
      "Collecting git+https://github.com/hms-dbmi/pic-sure-python-adapter-hpds.git\n",
      "  Cloning https://github.com/hms-dbmi/pic-sure-python-adapter-hpds.git to /tmp/pip-req-build-83440wzl\n",
      "Collecting httplib2\n",
      "  Using cached httplib2-0.19.0-py3-none-any.whl (95 kB)\n",
      "Collecting pyparsing<3,>=2.4.2\n",
      "  Using cached pyparsing-2.4.7-py2.py3-none-any.whl (67 kB)\n",
      "Building wheels for collected packages: PicSureHpdsLib\n",
      "  Building wheel for PicSureHpdsLib (setup.py) ... \u001b[?25ldone\n",
      "\u001b[?25h  Created wheel for PicSureHpdsLib: filename=PicSureHpdsLib-0.9.0-py2.py3-none-any.whl size=21890 sha256=3f84c27b769a803a60c1ba10a9382dff6f6fb3a82a0c004e973117a27ed6c7df\n",
      "  Stored in directory: /tmp/pip-ephem-wheel-cache-s1ufrkhh/wheels/e8/35/43/484d5d574661fc4a2c5b083551bc3c7254695764ed17ce397e\n",
      "Successfully built PicSureHpdsLib\n",
      "Installing collected packages: pyparsing, httplib2, PicSureHpdsLib\n",
      "  Attempting uninstall: pyparsing\n",
      "    Found existing installation: pyparsing 2.4.7\n",
      "    Uninstalling pyparsing-2.4.7:\n",
      "      Successfully uninstalled pyparsing-2.4.7\n",
      "  Attempting uninstall: httplib2\n",
      "    Found existing installation: httplib2 0.19.0\n",
      "    Uninstalling httplib2-0.19.0:\n",
      "      Successfully uninstalled httplib2-0.19.0\n",
      "  Attempting uninstall: PicSureHpdsLib\n",
      "    Found existing installation: PicSureHpdsLib 0.9.0\n",
      "    Uninstalling PicSureHpdsLib-0.9.0:\n",
      "      Successfully uninstalled PicSureHpdsLib-0.9.0\n",
      "Successfully installed PicSureHpdsLib-0.9.0 httplib2-0.19.0 pyparsing-2.4.7\n",
      "Collecting git+https://github.com/hms-dbmi/pic-sure-python-client.git\n",
      "  Cloning https://github.com/hms-dbmi/pic-sure-python-client.git to /tmp/pip-req-build-jko2q0xk\n",
      "Building wheels for collected packages: PicSureClient\n",
      "  Building wheel for PicSureClient (setup.py) ... \u001b[?25ldone\n",
      "\u001b[?25h  Created wheel for PicSureClient: filename=PicSureClient-0.1.0-py2.py3-none-any.whl size=10225 sha256=ebba7e5b4cd0254659d848bb937c9ee54f9c14c82a516c82452b5c53d9838028\n",
      "  Stored in directory: /tmp/pip-ephem-wheel-cache-8kn6x6c8/wheels/2f/61/65/c5af5ad47fa6a9e191522e1ae06d74c08b05c91a76a1c3d120\n",
      "Successfully built PicSureClient\n",
      "Installing collected packages: PicSureClient\n",
      "  Attempting uninstall: PicSureClient\n",
      "    Found existing installation: PicSureClient 0.1.0\n",
      "    Uninstalling PicSureClient-0.1.0:\n",
      "      Successfully uninstalled PicSureClient-0.1.0\n",
      "Successfully installed PicSureClient-0.1.0\n"
     ]
    }
   ],
   "source": [
    "!{sys.executable} -m pip install --upgrade --force-reinstall git+https://github.com/hms-dbmi/pic-sure-python-adapter-hpds.git\n",
    "!{sys.executable} -m pip install --upgrade --force-reinstall git+https://github.com/hms-dbmi/pic-sure-python-client.git"
   ]
  },
  {
   "cell_type": "markdown",
   "metadata": {},
   "source": [
    "Import all the external dependencies, as well as user-defined functions stored in the `python_lib` folder"
   ]
  },
  {
   "cell_type": "code",
   "execution_count": 4,
   "metadata": {},
   "outputs": [],
   "source": [
    "import json\n",
    "from pprint import pprint\n",
    "\n",
    "import pandas as pd\n",
    "import numpy as np \n",
    "import matplotlib.pyplot as plt\n",
    "from scipy import stats\n",
    "\n",
    "import PicSureHpdsLib\n",
    "import PicSureClient\n",
    "\n",
    "#from python_lib.utils import get_multiIndex_variablesDict, joining_variablesDict_onCol"
   ]
  },
  {
   "cell_type": "markdown",
   "metadata": {},
   "source": [
    "##### Setting the display parameter for tables and plots"
   ]
  },
  {
   "cell_type": "markdown",
   "metadata": {},
   "source": [
    "## Connecting to a PIC-SURE resource"
   ]
  },
  {
   "cell_type": "markdown",
   "metadata": {},
   "source": [
    "Several information are required to get access to data through the PIC-SURE API: a network URL, a resource id, and a user-specific security token."
   ]
  },
  {
   "cell_type": "code",
   "execution_count": 5,
   "metadata": {},
   "outputs": [],
   "source": [
    "PICSURE_network_URL = \"https://precisionlink-biobank4discovery.childrens.harvard.edu/picsure/\"\n",
    "resource_id = \"6aa47730-3288-4c45-bfa1-5a8730666016\"\n",
    "token_file = \"token.txt\""
   ]
  },
  {
   "cell_type": "code",
   "execution_count": 6,
   "metadata": {},
   "outputs": [],
   "source": [
    "with open(token_file, \"r\") as f:\n",
    "    my_token = f.read()"
   ]
  },
  {
   "cell_type": "code",
   "execution_count": 7,
   "metadata": {},
   "outputs": [
    {
     "name": "stdout",
     "output_type": "stream",
     "text": [
      "\u001b[38;5;91;40m\n",
      "\n",
      "+=========================================================================================+\n",
      "|        [ WARNING ] you are specifying that you WANT to allow self-signed SSL            |\n",
      "|        certificates to be acceptable for connections.  This may be useful for           |\n",
      "|        working in a development environment or on systems that host public              |\n",
      "|        data.  BEST SECURITY PRACTICES ARE THAT IF YOU ARE WORKING WITH SENSITIVE        |\n",
      "|        DATA THEN ALL SSL CERTS BY THOSE EVIRONMENTS SHOULD NOT BE SELF-SIGNED.          |\n",
      "+=========================================================================================+\n",
      "\u001b[39;49m\n",
      "+--------------------------------------+------------------------------------------------------\n",
      "|  Resource UUID                       |  Resource Name                                  \n",
      "+--------------------------------------+------------------------------------------------------\n",
      "| 6aa47730-3288-4c45-bfa1-5a8730666016\n",
      "+--------------------------------------+------------------------------------------------------\n"
     ]
    }
   ],
   "source": [
    "client = PicSureClient.Client()\n",
    "connection = client.connect(PICSURE_network_URL, my_token, True)\n",
    "adapter = PicSureHpdsLib.Adapter(connection)\n",
    "resource = adapter.useResource()"
   ]
  },
  {
   "cell_type": "markdown",
   "metadata": {},
   "source": [
    "Two objects are created here: a `connection` and a `resource` object.\n",
    "\n",
    "As we will only be using one single resource, **the `resource` object is actually the only one we will need to proceed with data analysis hereafter**. \n",
    "\n",
    "It is connected to the specific data source ID we specified, and enables to query and retrieve data from this database."
   ]
  },
  {
   "cell_type": "markdown",
   "metadata": {},
   "source": [
    "# "
   ]
  },
  {
   "cell_type": "markdown",
   "metadata": {},
   "source": [
    "#File Diag_Data_Ext_1.csv is generated from database with node_name, variable_name and patient_counts for all the categorical values under Diagnosis node. And compared to the counts in HPDS for these variable."
   ]
  },
  {
   "cell_type": "code",
   "execution_count": 8,
   "metadata": {},
   "outputs": [
    {
     "name": "stdout",
     "output_type": "stream",
     "text": [
      "********  Start processing \\Diagnosis\\ *********\n",
      "Processing \\Diagnosis\\ICD-10-CM Diagnoses (2015) with ICD9\\Certain conditions originating in the perinatal period (P00-P96)\\Abnormal findings on neonatal screening (P09)\\Abnormal findings on neonatal screening\\Admitting\n",
      "Processing \\Diagnosis\\ICD-10-CM Diagnoses (2015) with ICD9\\Certain conditions originating in the perinatal period (P00-P96)\\Abnormal findings on neonatal screening (P09)\\Abnormal findings on neonatal screening\\Billing Diagnosis\n",
      "Processing \\Diagnosis\\ICD-10-CM Diagnoses (2015) with ICD9\\Certain conditions originating in the perinatal period (P00-P96)\\Abnormal findings on neonatal screening (P09)\\Abnormal findings on neonatal screening\\Final\n",
      "********  End processing \\Diagnosis\\ *********\n"
     ]
    }
   ],
   "source": [
    "#\"COUNTS\",\"CONCEPT_PATH\",\"TVAL_CHAR\",\"NVAL_NUM\"\n",
    "#Processing file Diag_Data_Ext_1.csv\n",
    "#Validations report written to DiagnosisValidations.txt\n",
    "import time\n",
    "print('********  Start processing \\Diagnosis\\ *********' ) \n",
    "dfdb_node = pd.read_csv('Diag_Data_Ext_1.csv' )\n",
    "dfdb_node_sort = dfdb_node.sort_values(by=[\"CONCEPT_PATH\",\"TVAL_CHAR\"])\n",
    "\n",
    "f = open(\"DiagnosisValidations.txt\", \"a\")\n",
    "\n",
    "for i in range(len(dfdb_node_sort)):\n",
    "    try:\n",
    "        counts = dfdb_node_sort['COUNTS'].iloc[i]\n",
    "        concept_path =  dfdb_node_sort['CONCEPT_PATH'].iloc[i] \n",
    "        tval_char =  dfdb_node_sort['TVAL_CHAR'].iloc[i] \n",
    "        my_query = resource.query()\n",
    "        my_query.filter().add(concept_path,tval_char)\n",
    "        print( 'Processing '+ concept_path+tval_char )\n",
    "        my_count = my_query.getCount() \n",
    "        if ( my_count != counts ):\n",
    "            f.write('concept_path '+ concept_path +' tval_char '+ tval_char +' counts ****not match**** = api count - ' + str(my_count) +' db count - ' +str(counts)  +\"\\n\")\n",
    "\n",
    "        else:\n",
    "            f.write('concept_path '+ concept_path +' tval_char '+ tval_char +' counts match = ' + str(my_count) +\"\\n\")\n",
    "    \n",
    "    except:  \n",
    "        print(\"Errored Row concept_path - \" + concept_path + \" tval_char \" + tval_char + \"\\n\")\n",
    "        continue\n",
    "f.close()\n",
    "\n",
    "print('********  End processing \\Diagnosis\\ *********' )     \n"
   ]
  },
  {
   "cell_type": "code",
   "execution_count": null,
   "metadata": {},
   "outputs": [],
   "source": []
  },
  {
   "cell_type": "code",
   "execution_count": null,
   "metadata": {},
   "outputs": [],
   "source": []
  }
 ],
 "metadata": {
  "kernelspec": {
   "display_name": "Python 3",
   "language": "python",
   "name": "python3"
  },
  "language_info": {
   "codemirror_mode": {
    "name": "ipython",
    "version": 3
   },
   "file_extension": ".py",
   "mimetype": "text/x-python",
   "name": "python",
   "nbconvert_exporter": "python",
   "pygments_lexer": "ipython3",
   "version": "3.8.5"
  }
 },
 "nbformat": 4,
 "nbformat_minor": 4
}
